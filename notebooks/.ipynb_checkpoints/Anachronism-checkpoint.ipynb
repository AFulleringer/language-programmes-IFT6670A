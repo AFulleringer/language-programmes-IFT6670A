{
 "cells": [
  {
   "cell_type": "code",
   "execution_count": 65,
   "id": "08611fdd",
   "metadata": {},
   "outputs": [],
   "source": [
    "import seqio\n",
    "import os\n",
    "os.environ['CURL_CA_BUNDLE'] = \"/etc/ssl/certs/ca-bundle.crt\"\n",
    "from bigbench.bbseqio import tasks\n",
    "vocabulary=seqio.SentencePieceVocabulary(\"/gscratch/zlab/bparan/projects/cascades/models/t5-spiece.model\")\n",
    "from sklearn.metrics import accuracy_score\n",
    "import json\n",
    "import tqdm"
   ]
  },
  {
   "cell_type": "code",
   "execution_count": 1,
   "id": "1fa9ee26",
   "metadata": {},
   "outputs": [
    {
     "name": "stderr",
     "output_type": "stream",
     "text": [
      "2022-10-03 12:33:32.201508: I tensorflow/core/util/util.cc:169] oneDNN custom operations are on. You may see slightly different numerical results due to floating-point round-off errors from different computation orders. To turn them off, set the environment variable `TF_ENABLE_ONEDNN_OPTS=0`.\n",
      "2022-10-03 12:34:17.117214: W tensorflow/stream_executor/platform/default/dso_loader.cc:64] Could not load dynamic library 'libcudnn.so.8'; dlerror: libcudnn.so.8: cannot open shared object file: No such file or directory\n",
      "2022-10-03 12:34:17.117236: W tensorflow/core/common_runtime/gpu/gpu_device.cc:1850] Cannot dlopen some GPU libraries. Please make sure the missing libraries mentioned above are installed properly if you would like to use GPU. Follow the guide at https://www.tensorflow.org/install/gpu for how to download and setup the required libraries for your platform.\n",
      "Skipping registering GPU devices...\n"
     ]
    }
   ],
   "source": [
    "import datasets\n",
    "import os\n",
    "import openai\n",
    "import numpy as np\n",
    "with open(os.path.expanduser('~/.openai_api_key'), 'r') as file:\n",
    "    openai.api_key = file.read().replace('\\n', '')\n",
    "\n",
    "import adatest"
   ]
  },
  {
   "cell_type": "code",
   "execution_count": 322,
   "id": "b0c7826c",
   "metadata": {},
   "outputs": [
    {
     "name": "stderr",
     "output_type": "stream",
     "text": [
      "WARNING:datasets.builder:Found cached dataset bigbench (/gscratch/zlab/bparan/projects/cascades/data/bigbench/anachronisms/1.0.0/7d2f6e537fa937dfaac8b1c1df782f2055071d3fd8e4f4ae93d28012a354ced0)\n"
     ]
    },
    {
     "data": {
      "application/vnd.jupyter.widget-view+json": {
       "model_id": "6ae52629dc9446ea98a631c9c9040f42",
       "version_major": 2,
       "version_minor": 0
      },
      "text/plain": [
       "  0%|          | 0/3 [00:00<?, ?it/s]"
      ]
     },
     "metadata": {},
     "output_type": "display_data"
    }
   ],
   "source": [
    "d = datasets.load_dataset('bigbench', 'anachronisms', cache_dir='/gscratch/zlab/bparan/projects/cascades/data')"
   ]
  },
  {
   "cell_type": "code",
   "execution_count": 337,
   "id": "b0f2bc24",
   "metadata": {},
   "outputs": [
    {
     "data": {
      "text/plain": [
       "184.0"
      ]
     },
     "execution_count": 337,
     "metadata": {},
     "output_type": "execute_result"
    }
   ],
   "source": [
    "d_val = [ex['inputs'].split(\"\\n\")[0] for ex in d['validation']]\n",
    "d_train = [ex['inputs'].split(\"\\n\")[0] for ex in d['train']]\n",
    "# all([sent in d_train for sent in d_val])"
   ]
  },
  {
   "cell_type": "code",
   "execution_count": 141,
   "id": "c92cf424",
   "metadata": {},
   "outputs": [],
   "source": [
    "import numpy as np\n",
    "hg_inputs = d['validation']['inputs']\n",
    "hg_inputs = [x.split('\\n')[0] for x in hg_inputs]\n",
    "hg_labels = np.array([int(x[0] == 'Yes') for x in d['validation']['targets']])"
   ]
  },
  {
   "cell_type": "code",
   "execution_count": 335,
   "id": "9bb7284d",
   "metadata": {},
   "outputs": [
    {
     "name": "stderr",
     "output_type": "stream",
     "text": [
      "WARNING:absl:Using an uncached FunctionDataset for training is not recommended since it often results in insufficient shuffling on restarts, resulting in overfitting. It is highly recommended that you cache this task before training with it or use a data source that supports lower-level shuffling (e.g., FileDataSource).\n"
     ]
    }
   ],
   "source": [
    "task = seqio.get_mixture_or_task(\n",
    "    \"bigbench:anachronisms.mul.t5_default_vocab.0_shot.all_examples\")\n",
    "sequence_length = {\"inputs\": 1024, \"targets\": 1024}\n",
    "ds = task.get_dataset(sequence_length)"
   ]
  },
  {
   "cell_type": "code",
   "execution_count": 136,
   "id": "593489c3",
   "metadata": {},
   "outputs": [],
   "source": [
    "input_set = set()\n",
    "for ex in ds:\n",
    "    inp = ex['inputs_pretokenized'].numpy().decode()\n",
    "    label = ex['answers'][0].numpy().decode()\n",
    "    if (inp,label) in input_set:\n",
    "        continue\n",
    "    else:\n",
    "        input_set.add((inp, label))\n",
    "inputs = []\n",
    "label_strings = []\n",
    "for tup in input_set:\n",
    "    inputs.append(tup[0].split(\"\\n\")[0])\n",
    "    label_strings.append(tup[1])\n",
    "labels = np.array([int(x == 'Yes') for x in label_strings])"
   ]
  },
  {
   "cell_type": "code",
   "execution_count": 8,
   "id": "087b3ea5",
   "metadata": {},
   "outputs": [],
   "source": [
    "class OpenAIModel(adatest.Model):\n",
    "    def __init__(self, model=\"text-davinci-002\", quote=\"\\\"\", temperature=0.7, top_p=1, max_length=30, n=1):\n",
    "        self.model = model\n",
    "        self.api_key = openai.api_key\n",
    "        self.quote = quote\n",
    "        self.temperature = temperature\n",
    "        self.top_p = top_p\n",
    "        self.max_length = max_length\n",
    "        self.n = n\n",
    "    def __call__(self, strings):\n",
    "        resp = openai.Completion.create(\n",
    "            model=self.model,\n",
    "            prompt=strings,\n",
    "            max_tokens=self.max_length,\n",
    "            temperature=self.temperature,\n",
    "            top_p=self.top_p,\n",
    "            n=self.n,\n",
    "            stop=self.quote,\n",
    "        )\n",
    "        return [x[\"text\"] for x in resp['choices']]\n",
    "\n",
    "gpt3 = OpenAIModel(model=\"text-davinci-002\",  max_length=200, quote='', n=1)\n"
   ]
  },
  {
   "cell_type": "code",
   "execution_count": 9,
   "id": "fe60a998",
   "metadata": {},
   "outputs": [],
   "source": [
    "def anachronism(x):\n",
    "    gpt3 = OpenAIModel(model=\"text-davinci-002\",  max_length=200, quote='---', n=1)\n",
    "    prompt = '''Given a sentence and the time periods of each entity in it, tell me if it could have happened or not.\n",
    "Sentence: I wrote about shakespeare\n",
    "Entities and dates:\n",
    "I -> 21st century\n",
    "Shakespeare -> 16th century\n",
    "Could the sentence be true based on the dates alone: Yes\n",
    "----\n",
    "Sentence: Shakespeare wrote about me\n",
    "\n",
    "Entities and dates:\n",
    "Shakespeare -> 16th century\n",
    "I -> 21st century\n",
    "\n",
    "Could the sentence be true based on the dates alone: No\n",
    "----\n",
    "Sentence: %s''' % x\n",
    "    return gpt3(prompt)\n"
   ]
  },
  {
   "cell_type": "code",
   "execution_count": 10,
   "id": "1feb73f4",
   "metadata": {},
   "outputs": [],
   "source": [
    "def anachronismv2(x):\n",
    "    gpt3 = OpenAIModel(model=\"text-davinci-002\",  max_length=200, quote='---', n=1)\n",
    "    prompt = '''Given a sentence tell me if it could have happened or not based on the time periods of the entities.\n",
    "Sentence: I wrote about shakespeare\n",
    "Could the sentence be true based on the time periods alone: Yes\n",
    "----\n",
    "Sentence: Shakespeare wrote about me\n",
    "Could the sentence be true based on the time periods alone: No\n",
    "----\n",
    "Sentence: %s''' % x\n",
    "    return gpt3(prompt)"
   ]
  },
  {
   "cell_type": "code",
   "execution_count": 11,
   "id": "4f83326e",
   "metadata": {},
   "outputs": [],
   "source": [
    "def anachronismv3(x):\n",
    "    prompt = '''Given a sentence, extract the entities and their relationships, and tell me if they are anachronistic.\n",
    "Sentence: I wrote about shakespeare\n",
    "Relationships:\n",
    "- (I, write about, shakespeare) -> not anachronistic, \n",
    "----\n",
    "Sentence: Shakespeare wrote about me\n",
    "Relationships:\n",
    "- (shakespeare, write about, me) -> anachronistic\n",
    "----\n",
    "Sentence: The builders of the pyramids at Giza listened to jazz during their break.\n",
    "Relationships:\n",
    "- (builders, listen to, jazz) -> anachronistic\n",
    "----\n",
    "Sentence: %s\n",
    "''' % x\n",
    "    return gpt3(prompt)"
   ]
  },
  {
   "cell_type": "code",
   "execution_count": null,
   "id": "e258d420",
   "metadata": {},
   "outputs": [],
   "source": [
    "perf = []\n",
    "for iter in range(1):\n",
    "    answers = []\n",
    "    answers_without_search = []\n",
    "    for x in tqdm.tqdm(inputs):\n",
    "        answer = anachronism(x)\n",
    "        answers.append(answer)\n",
    "        answers_without_search.append(answer)\n",
    "    preds = np.array([int(x[0].endswith('No')) for x in answers])\n",
    "    perf.append((preds == labels).mean())\n",
    "np.mean(perf)\n",
    "np.std(perf)"
   ]
  },
  {
   "cell_type": "code",
   "execution_count": 515,
   "id": "6b8d9b36",
   "metadata": {},
   "outputs": [
    {
     "data": {
      "text/plain": [
       "0.7880434782608695"
      ]
     },
     "execution_count": 515,
     "metadata": {},
     "output_type": "execute_result"
    }
   ],
   "source": [
    "np.mean(perf)"
   ]
  },
  {
   "cell_type": "code",
   "execution_count": 13,
   "id": "8ec813d3",
   "metadata": {},
   "outputs": [],
   "source": [
    "answers2 = []\n",
    "for x in inputs:\n",
    "    answers2.append(anachronismv2(x))"
   ]
  },
  {
   "cell_type": "code",
   "execution_count": 14,
   "id": "da8d2d3f",
   "metadata": {},
   "outputs": [],
   "source": [
    "\n",
    "answers3 = []\n",
    "for x in inputs:\n",
    "    answers3.append(anachronismv3(x))"
   ]
  },
  {
   "cell_type": "code",
   "execution_count": 15,
   "id": "c30ba4e4",
   "metadata": {},
   "outputs": [],
   "source": [
    "preds = np.array([int(x[0].endswith('No')) for x in answers])"
   ]
  },
  {
   "cell_type": "code",
   "execution_count": 16,
   "id": "c7ed322e",
   "metadata": {},
   "outputs": [],
   "source": [
    "preds2 = np.array([int(x[0].endswith('No')) for x in answers2])"
   ]
  },
  {
   "cell_type": "code",
   "execution_count": 17,
   "id": "f79ee80b",
   "metadata": {},
   "outputs": [],
   "source": [
    "preds3 = np.array([1 - int('not anachronistic' in x[0]) for x in answers3])"
   ]
  },
  {
   "cell_type": "code",
   "execution_count": 44,
   "id": "d5af220e",
   "metadata": {},
   "outputs": [
    {
     "data": {
      "text/plain": [
       "0.7391304347826086"
      ]
     },
     "execution_count": 44,
     "metadata": {},
     "output_type": "execute_result"
    }
   ],
   "source": [
    "(preds == labels).mean()"
   ]
  },
  {
   "cell_type": "code",
   "execution_count": 19,
   "id": "af288166",
   "metadata": {},
   "outputs": [
    {
     "data": {
      "text/plain": [
       "0.6086956521739131"
      ]
     },
     "execution_count": 19,
     "metadata": {},
     "output_type": "execute_result"
    }
   ],
   "source": [
    "(preds2 == labels).mean()"
   ]
  },
  {
   "cell_type": "code",
   "execution_count": 20,
   "id": "32720d7f",
   "metadata": {},
   "outputs": [
    {
     "data": {
      "text/plain": [
       "0.6739130434782609"
      ]
     },
     "execution_count": 20,
     "metadata": {},
     "output_type": "execute_result"
    }
   ],
   "source": [
    "(preds3 == labels).mean()"
   ]
  },
  {
   "cell_type": "code",
   "execution_count": 67,
   "id": "bd2f14a1",
   "metadata": {},
   "outputs": [
    {
     "name": "stdout",
     "output_type": "stream",
     "text": [
      "Jason, the first person to explore the ancient pyramid in over 2000 years, opened a sealed box inside and found a floppy disk.\n",
      "\n",
      "\n",
      "Jason -> 21st century\n",
      "ancient pyramid -> ?\n",
      "\n",
      "Could the sentence be true based on the dates alone:\n",
      "\n",
      "The sentence could be true if the ancient pyramid is from the 21st century.\n",
      "1\n",
      "----\n",
      "The first ever movie in color depicted the life of Sacagawea.\n",
      "\n",
      "\n",
      "Entities and dates:\n",
      "The first ever movie in color -> late 19th century\n",
      "Sacagawea -> late 18th century - early 19th century\n",
      "\n",
      "Could the sentence be true based on the dates alone: No\n",
      "0\n",
      "----\n",
      "Jason, while exploring an ancient pyramid, opened a sealed box inside and found a floppy disk.\n",
      "\n",
      "\n",
      "Entities and dates:\n",
      "Jason -> 21st century\n",
      "floppy disk -> 1970s-2000s\n",
      "\n",
      "Could the sentence be true based on the dates alone: No\n",
      "0\n",
      "----\n",
      "During their meetings in Bali, George Washington and the delegate of the Tokugawa shogunate exchanged gifts.\n",
      "\n",
      "\n",
      "Entities and dates:\n",
      "George Washington -> 18th century\n",
      "Tokugawa shogunate -> 17th century\n",
      "\n",
      "Could the sentence be true based on the dates alone: No\n",
      "0\n",
      "----\n",
      "Donnie Yen the martial artist acted in the live-action remake of Mulan.\n",
      "\n",
      "\n",
      "Entities and dates:\n",
      "Donnie Yen -> 20th century\n",
      "Mulan -> 6th century\n",
      "\n",
      "Could the sentence be true based on the dates alone: No\n",
      "0\n",
      "----\n",
      "The appearance of prokaryotes on Earth coincided with the formation of the moon.\n",
      "\n",
      "\n",
      "Entities and dates:\n",
      "Prokaryotes -> 3.5 billion years ago\n",
      "Earth -> 4.5 billion years ago\n",
      "Moon -> 4.5 billion years ago\n",
      "\n",
      "Could the sentence be true based on the dates alone: Yes\n",
      "1\n",
      "----\n",
      "The sun's creation during the early universe is the cause of its size, color, and brightness.\n",
      "\n",
      "\n",
      "Entities and dates:\n",
      "The sun -> 4.6 billion years ago\n",
      "The early universe -> 13.8 billion years ago\n",
      "\n",
      "Could the sentence be true based on the dates alone: Yes\n",
      "1\n",
      "----\n",
      "The emperor rode his Ferrari to the Coliseum.\n",
      "\n",
      "\n",
      "Entities and dates:\n",
      "Emperor -> 1st century\n",
      "Ferrari -> 21st century\n",
      "Coliseum -> 1st century\n",
      "\n",
      "Could the sentence be true based on the dates alone: No\n",
      "0\n",
      "----\n",
      "Having broken Enigma Machine encryption, the Allies were able to map enemy movement through the trenches of Passchendaele.\n",
      "\n",
      "\n",
      "Entities and dates:\n",
      "Enigma Machine -> 20th century\n",
      "Allies -> 20th century\n",
      "Passchendaele -> 20th century\n",
      "\n",
      "Could the sentence be true based on the dates alone: Yes\n",
      "1\n",
      "----\n",
      "The US senator used her vote to help pass the Wade-Davis bill.\n",
      "\n",
      "\n",
      "Entities and dates:\n",
      "US senator -> 1864\n",
      "Wade-Davis bill -> 1864\n",
      "\n",
      "Could the sentence be true based on the dates alone: Yes\n",
      "1\n",
      "----\n",
      "When scientists found the female Australopithecus afarensis, AL 288-1, they named her Rosa Parks after the Outkast song.\n",
      "\n",
      "\n",
      "Entities and dates:\n",
      "\n",
      "Scientists -> 20th century\n",
      "Rosa Parks -> 20th century\n",
      "Outkast -> 20th century\n",
      "\n",
      "Could the sentence be true based on the dates alone: Yes\n",
      "1\n",
      "----\n",
      "Vasco de Gama avoided shipwreck by the Cape of Good Hope thanks to his astrolabe.\n",
      "\n",
      "\n",
      "Entities and dates:\n",
      "Vasco de Gama -> 15th century\n",
      "Cape of Good Hope -> 15th century\n",
      "Astrolabe -> 2nd century\n",
      "\n",
      "Could the sentence be true based on the dates alone: No\n",
      "0\n",
      "----\n"
     ]
    }
   ],
   "source": [
    "for x in np.where(preds != labels)[0]:\n",
    "    print(inputs[x])\n",
    "    print(answers[x][0])\n",
    "    print(labels[x])\n",
    "    print('----')"
   ]
  },
  {
   "cell_type": "markdown",
   "id": "b8163db4",
   "metadata": {},
   "source": [
    "### Web search affordance "
   ]
  },
  {
   "cell_type": "code",
   "execution_count": 517,
   "id": "6e92dd54",
   "metadata": {},
   "outputs": [],
   "source": [
    "from serpapi import GoogleSearch\n",
    "\n",
    "def search_entity(prompt_entity):\n",
    "    params = {\n",
    "      \"q\": \"What time period does %s belong to? When was it created or born?\" % prompt_entity,\n",
    "    #   \"location\": \"Austin, Texas, United States\",\n",
    "      \"hl\": \"en\",\n",
    "      \"gl\": \"us\",\n",
    "      \"google_domain\": \"google.com\",\n",
    "      \"api_key\": \"52a45ebae7c1189a57cd442515feebd0ee4f6ef0d02552afe4f7efa4bc73fc95\"\n",
    "    }\n",
    "\n",
    "    search = GoogleSearch(params)\n",
    "    results = search.get_dict()\n",
    "    return results\n",
    "\n",
    "\n",
    "# Gather organic results for search\n",
    "def render_results(data: dict, top_k=2) -> str:\n",
    "    if not data or not data.get(\"organic_results\"):\n",
    "        return \"No results found\"\n",
    "\n",
    "    results = []\n",
    "    for result in data[\"organic_results\"][:top_k]:\n",
    "        title = result.get(\"title\")\n",
    "        link = result.get(\"link\")\n",
    "        snippet = result.get(\"snippet\")\n",
    "        if not title or not link or not snippet:\n",
    "            continue\n",
    "        results.append(f\"{snippet.strip()}\")\n",
    "\n",
    "    return \"\\n\".join(results)\n",
    "\n",
    "\n",
    "def findEntities(x):\n",
    "    gpt3 = OpenAIModel(model=\"text-davinci-002\",  max_length=200, quote='---', n=1)\n",
    "    prompt = '''Given a sentence, give me the entities mentioned in it.\n",
    "Sentence: I wrote about shakespeare\n",
    "Entities:\n",
    "I\n",
    "Shakespeare\n",
    "----\n",
    "Sentence: The Dodo was capable of hunting large herbivores like the Iguandodon\n",
    "Entities:\n",
    "Dodo\n",
    "Iguandodon\n",
    "----\n",
    "Sentence: The engineer upgraded the USS New Ironsides' radar system.\n",
    "Entities: \n",
    "engineer\n",
    "USS New Ironsides\n",
    "radar\n",
    "----\n",
    "Sentence: %s\\nEntities:\\n''' % x\n",
    "    return gpt3(prompt)\n",
    "\n",
    "\n",
    "def anachronismWithSearch(x, b):\n",
    "    gpt3 = OpenAIModel(model=\"text-davinci-002\",  max_length=200, quote='---', n=1)\n",
    "    prompt = '''Given a sentence and backgroud information about it, tell me if it could have happened or not.\n",
    "Sentence: I wrote about shakespeare\n",
    "\n",
    "Background:\n",
    "Shakespeare produced most of his known works between 1589 and 1613. ... His early plays were primarily comedies and histories and are regarded as some of the best ...\n",
    "Shakespeare lived from 1567 to 1616. Scholars and historians often refer to him being a part of the Elizabethan Era, the period of English ...\n",
    "Generation Z Characteristics. Gen Z, also known as iGen, Centennials, etc., starts with those born in approximately 1996. The oldest members of this generation ...\n",
    "\n",
    "Could the sentence be true based on the background: Yes\n",
    "----\n",
    "Sentence: The Dodo was capable of hunting large herbivores like the Iguandodon\n",
    "\n",
    "Background:\n",
    "The dodo (Raphus cucullatus) is an extinct flightless bird that was endemic to the island of Mauritius, which is east of Madagascar in the Indian Ocean.\n",
    "The dodo was extinct by 1681, the Réunion solitaire by 1746, and the Rodrigues solitaire by about 1790.\n",
    "While many species have been classified in the genus Iguanodon, dating from the late Jurassic Period to the early Cretaceous Period of Asia, Europe, and North ...\n",
    "Iguanodon, (genus Iguanodon), large herbivorous dinosaurs found as fossils from the Late Jurassic and Early Cretaceous periods (161.2 million to 99.6 ...\n",
    "\n",
    "Could the sentence be true based on the background: No\n",
    "----\n",
    "Sentence: The engineer upgraded the USS New Ironsides' radar system.\n",
    "\n",
    "Background:\n",
    "USS New Ironsides was a wooden-hulled broadside ironclad built for the United States Navy during the American Civil War. The ship spent most of her career ...\n",
    "Civil War, only the U.S.S. New Ironsides was a seagoing, high-freeboard design. Her seagoing qualities and heavy battery made her uniquely valuable to the ...\n",
    "The history of radar started with experiments by Heinrich Hertz in the late 19th century that showed that radio waves were reflected by metallic objects.\n",
    "The principle of radar was “rediscovered” at NRL in 1930 when L.A. Hyland observed that an aircraft flying through the beam of a transmitting antenna caused a ...\n",
    "\n",
    "Could the sentence be true based on the background: No\n",
    "----\n",
    "Sentence: %s\n",
    "\n",
    "Background:\n",
    "%s\n",
    "\n",
    "Could the sentence be true based on the background:''' % (x, b)\n",
    "    return prompt, gpt3(prompt)\n",
    "\n",
    "\n",
    "def anachronismWithSearch1Step(x, b):\n",
    "    gpt3 = OpenAIModel(model=\"text-davinci-002\",  max_length=200, quote='---', n=1)\n",
    "    prompt = '''Given a sentence and backgroud information about it, tell me if it could have happened or not.\n",
    "Sentence: I wrote about shakespeare\n",
    "\n",
    "Background:\n",
    "Shakespeare lived from 1567 to 1616. Scholars and historians often refer to him being a part of the Elizabethan Era, the period of English ...\n",
    "Generation Z Characteristics. Gen Z, also known as iGen, Centennials, etc., starts with those born in approximately 1996. The oldest members of this generation ...\n",
    "\n",
    "Could the sentence be true based on the background: Yes\n",
    "----\n",
    "Sentence: The Dodo was capable of hunting large herbivores like the Iguandodon\n",
    "\n",
    "Background:\n",
    "The dodo was extinct by 1681, the Réunion solitaire by 1746, and the Rodrigues solitaire by about 1790.\n",
    "Iguanodon, (genus Iguanodon), large herbivorous dinosaurs found as fossils from the Late Jurassic and Early Cretaceous periods (161.2 million to 99.6 million years ago)\n",
    "\n",
    "Could the sentence be true based on the background: No\n",
    "----\n",
    "Sentence: The engineer upgraded the USS New Ironsides' radar system.\n",
    "\n",
    "Background:\n",
    "USS New Ironsides was a wooden-hulled broadside ironclad built for the United States Navy during the American Civil War. The ship spent most of her career ...\n",
    "The history of radar started with experiments by Heinrich Hertz in the late 19th century that showed that radio waves were reflected by metallic objects.\n",
    "\n",
    "Could the sentence be true based on the background: No\n",
    "----\n",
    "Sentence: %s\n",
    "\n",
    "Background:\n",
    "%s\n",
    "\n",
    "Could the sentence be true based on the background:''' % (x, b)\n",
    "    return prompt, gpt3(prompt)\n",
    "\n",
    "\n",
    "def fineTimePeriod(x, b):\n",
    "    gpt3 = OpenAIModel(model=\"text-davinci-002\",  max_length=200, quote='---', n=1)\n",
    "#     prompt = '''Given an entity and backgroud information about it, what century did it exist in?\n",
    "# Shakespeare\n",
    "# Shakespeare produced most of his known works between 1589 and 1613. ... His early plays were primarily comedies and histories and are regarded as some of the best ...\n",
    "# Shakespeare lived from 1567 to 1616. Scholars and historians often refer to him being a part of the Elizabethan Era, the period of English ...\n",
    "# Shakespeare -> 16th century\n",
    "\n",
    "# I\n",
    "# Generation Z Characteristics. Gen Z, also known as iGen, Centennials, etc., starts with those born in approximately 1996. The oldest members of this generation ...\n",
    "# I -> 20st century\n",
    "\n",
    "# Dodo\n",
    "# The dodo (Raphus cucullatus) is an extinct flightless bird that was endemic to the island of Mauritius, which is east of Madagascar in the Indian Ocean.\n",
    "# The dodo was extinct by 1681, the Réunion solitaire by 1746, and the Rodrigues solitaire by about 1790.\n",
    "# Dodo -> 17th century\n",
    "\n",
    "# radar\n",
    "# The principle of radar was “rediscovered” at NRL in 1930 when L.A. Hyland observed that an aircraft flying through the beam of a transmitting antenna caused a ...\n",
    "# The history of radar started with experiments by Heinrich Hertz in the late 19th century that showed that radio waves were reflected by metallic objects.\n",
    "# radar -> 20th century\n",
    "\n",
    "# %s\n",
    "# %s\n",
    "# ''' % (x, b)\n",
    "    prompt = '''Given an entity and backgroud information about it, what time period did it exist in?\n",
    "Entity: Shakespeare\n",
    "Shakespeare produced most of his known works between 1589 and 1613. ... His early plays were primarily comedies and histories and are regarded as some of the best ...\n",
    "Shakespeare lived from 1567 to 1616. Scholars and historians often refer to him being a part of the Elizabethan Era, the period of English ...\n",
    "\n",
    "Shakespeare -> 1567-1616\n",
    "----\n",
    "Entity: I\n",
    "Generation Z Characteristics. Gen Z, also known as iGen, Centennials, etc., starts with those born in approximately 1996. The oldest members of this generation ...\n",
    "\n",
    "I -> from 1996\n",
    "----\n",
    "Entity: Dodo\n",
    "The dodo (Raphus cucullatus) is an extinct flightless bird that was endemic to the island of Mauritius, which is east of Madagascar in the Indian Ocean.\n",
    "The dodo was extinct by 1681, the Réunion solitaire by 1746, and the Rodrigues solitaire by about 1790.\n",
    "\n",
    "Dodo -> 1681\n",
    "----\n",
    "Entity: Iguandodon\n",
    "While many species have been classified in the genus Iguanodon, dating from the late Jurassic Period to the early Cretaceous Period of Asia, Europe, and North ...\n",
    "Iguanodon, (genus Iguanodon), large herbivorous dinosaurs found as fossils from the Late Jurassic and Early Cretaceous periods (161.2 million to 99.6 ...\n",
    "\n",
    "Iguandodon -> 99.6 million years ago\n",
    "----\n",
    "Entity: USS New Ironsides\n",
    "USS New Ironsides was a wooden-hulled broadside ironclad built for the United States Navy during the American Civil War. The ship spent most of her career ...\n",
    "Civil War, only the U.S.S. New Ironsides was a seagoing, high-freeboard design. Her seagoing qualities and heavy battery made her uniquely valuable to the ...\n",
    "\n",
    "USS New Ironsides -> American Civil War\n",
    "----\n",
    "Entity: radar\n",
    "The principle of radar was “rediscovered” at NRL in 1930 when L.A. Hyland observed that an aircraft flying through the beam of a transmitting antenna caused a ...\n",
    "The history of radar started with experiments by Heinrich Hertz in the late 19th century that showed that radio waves were reflected by metallic objects.\n",
    "\n",
    "radar -> 1930\n",
    "----\n",
    "Entity: %s\n",
    "%s\n",
    "\n",
    "''' % (x, b)\n",
    "    return prompt, gpt3(prompt)\n",
    "    \n",
    "def anachronismWithSearchForCentury(x, b):\n",
    "    gpt3 = OpenAIModel(model=\"text-davinci-002\",  max_length=200, quote='---', n=1)\n",
    "#     prompt = '''Given a sentence tell me if it could have happened or not based on the time periods of the entities.\n",
    "# Sentence: I wrote about shakespeare\n",
    "\n",
    "# Shakespeare -> 16th century\n",
    "# I -> 20st century\n",
    "\n",
    "# Could the sentence be true based on the time periods alone: Yes\n",
    "# ----\n",
    "# Sentence: The Dodo was capable of hunting large herbivores like the Iguandodon\n",
    "\n",
    "# Dodo -> 17th century\n",
    "# Iguanodon -> 99.6 million years ago\n",
    "\n",
    "# Could the sentence be true based on the time periods alone: No\n",
    "# ----\n",
    "# Sentence: The engineer upgraded the USS New Ironsides' radar system.\n",
    "\n",
    "# USS New Ironsides -> 19th century\n",
    "# radar -> 20th century\n",
    "\n",
    "# Could the sentence be true based on the time periods alone: No\n",
    "# ----\n",
    "# Sentence: %s\n",
    "\n",
    "# %s\n",
    "\n",
    "# Could the sentence be true based on the time periods alone:''' % (x, b)\n",
    "    prompt = '''Given a sentence tell me if it could have happened or not based on the time periods of the entities.\n",
    "Sentence: I wrote about shakespeare\n",
    "\n",
    "Entities and dates:\n",
    "Shakespeare -> 1567-1616\n",
    "I -> from 1996\n",
    "\n",
    "Could the sentence be true based on the time periods alone: Yes\n",
    "----\n",
    "Sentence: Shakespeare wrote about me\n",
    "\n",
    "Entities and dates:\n",
    "Shakespeare -> from 1996\n",
    "I -> 1567-1616\n",
    "\n",
    "Could the sentence be true based on the dates alone: No\n",
    "----\n",
    "Sentence: The Dodo was capable of hunting large herbivores like the Iguandodon\n",
    "\n",
    "Entities and dates:\n",
    "Dodo -> 1681\n",
    "Iguanodon -> 99.6 million years ago\n",
    "\n",
    "Could the sentence be true based on the time periods alone: No\n",
    "----\n",
    "Sentence: The engineer upgraded the USS New Ironsides' radar system.\n",
    "\n",
    "Entities and dates:\n",
    "USS New Ironsides -> American Civil War\n",
    "radar -> 1930\n",
    "\n",
    "Could the sentence be true based on the time periods alone: No\n",
    "----\n",
    "Sentence: %s\n",
    "\n",
    "Entities and dates:\n",
    "%s\n",
    "\n",
    "Could the sentence be true based on the time periods alone:''' % (x, b)\n",
    "    return prompt, gpt3(prompt)\n",
    "\n",
    "\n",
    "\n",
    "\n",
    "def anachronismWithSearchCombined(x, b):\n",
    "    gpt3 = OpenAIModel(model=\"text-davinci-002\",  max_length=200, quote='---', n=1)\n",
    "    prompt = '''Given a sentence, backgroud information about it, and the time periods of each entity, tell me if it could have happened or not.\n",
    "Sentence: I wrote about shakespeare\n",
    "\n",
    "Background:\n",
    "Shakespeare lived from 1567 to 1616. Scholars and historians often refer to him being a part of the Elizabethan Era, the period of English ...\n",
    "Generation Z Characteristics. Gen Z, also known as iGen, Centennials, etc., starts with those born in approximately 1996. The oldest members of this generation ...\n",
    "\n",
    "Entities and time periods:\n",
    "Shakespeare -> 16th century \n",
    "I -> 20th century\n",
    "\n",
    "Could the sentence be true based on the time periods alone: Yes\n",
    "----\n",
    "Sentence: The Dodo was capable of hunting large herbivores like the Iguandodon\n",
    "\n",
    "Background:\n",
    "The dodo was extinct by 1681, the Réunion solitaire by 1746, and the Rodrigues solitaire by about 1790.\n",
    "Iguanodon, (genus Iguanodon), large herbivorous dinosaurs found as fossils from the Late Jurassic and Early Cretaceous periods (161.2 million to 99.6 million years ago)\n",
    "\n",
    "Entities and time periods:\n",
    "dodo -> 17th century \n",
    "Iguanodon -> 99.6 million ago\n",
    "\n",
    "Could the sentence be true based on the time periods alone: No\n",
    "----\n",
    "Sentence: The engineer upgraded the USS New Ironsides' radar system.\n",
    "\n",
    "Background:\n",
    "USS New Ironsides was a wooden-hulled broadside ironclad built for the United States Navy during the American Civil War. The ship spent most of her career ...\n",
    "The history of radar started with experiments by Heinrich Hertz in the late 19th century that showed that radio waves were reflected by metallic objects.\n",
    "\n",
    "Entities and time periods:\n",
    "USS New Ironsides -> American Civil War\n",
    "radar -> late 19th century\n",
    "\n",
    "Could the sentence be true based on the time periods alone: No\n",
    "----\n",
    "Sentence: %s\n",
    "\n",
    "Background:\n",
    "%s\n",
    "\n",
    "Entities and time periods:\n",
    "''' % (x, b)\n",
    "    return prompt, gpt3(prompt)"
   ]
  },
  {
   "cell_type": "code",
   "execution_count": 301,
   "id": "c1e43c29",
   "metadata": {},
   "outputs": [
    {
     "name": "stderr",
     "output_type": "stream",
     "text": [
      "100%|███████████████████████████████████████████████████████████████████████████████████████████| 184/184 [02:20<00:00,  1.31it/s]\n",
      "  0%|                                                                                                     | 0/184 [00:00<?, ?it/s]"
     ]
    },
    {
     "name": "stdout",
     "output_type": "stream",
     "text": [
      "https://serpapi.com/search\n",
      "https://serpapi.com/search\n"
     ]
    },
    {
     "name": "stderr",
     "output_type": "stream",
     "text": [
      "\r",
      "  1%|▌                                                                                            | 1/184 [00:03<11:19,  3.71s/it]"
     ]
    },
    {
     "name": "stdout",
     "output_type": "stream",
     "text": [
      "https://serpapi.com/search\n",
      "https://serpapi.com/search\n"
     ]
    },
    {
     "name": "stderr",
     "output_type": "stream",
     "text": [
      "\r",
      "  1%|█                                                                                            | 2/184 [00:09<15:14,  5.02s/it]"
     ]
    },
    {
     "name": "stdout",
     "output_type": "stream",
     "text": [
      "https://serpapi.com/search\n",
      "https://serpapi.com/search\n",
      "https://serpapi.com/search\n",
      "https://serpapi.com/search\n"
     ]
    },
    {
     "name": "stderr",
     "output_type": "stream",
     "text": [
      "\r",
      "  2%|█▌                                                                                           | 3/184 [00:16<17:28,  5.79s/it]"
     ]
    },
    {
     "name": "stdout",
     "output_type": "stream",
     "text": [
      "https://serpapi.com/search\n",
      "https://serpapi.com/search\n"
     ]
    },
    {
     "name": "stderr",
     "output_type": "stream",
     "text": [
      "\r",
      "  2%|██                                                                                           | 4/184 [00:20<15:13,  5.08s/it]"
     ]
    },
    {
     "name": "stdout",
     "output_type": "stream",
     "text": [
      "https://serpapi.com/search\n",
      "https://serpapi.com/search\n",
      "https://serpapi.com/search\n"
     ]
    },
    {
     "name": "stderr",
     "output_type": "stream",
     "text": [
      "\r",
      "  3%|██▌                                                                                          | 5/184 [00:28<18:22,  6.16s/it]"
     ]
    },
    {
     "name": "stdout",
     "output_type": "stream",
     "text": [
      "https://serpapi.com/search\n",
      "https://serpapi.com/search\n",
      "https://serpapi.com/search\n"
     ]
    },
    {
     "name": "stderr",
     "output_type": "stream",
     "text": [
      "\r",
      "  3%|███                                                                                          | 6/184 [00:33<17:02,  5.75s/it]"
     ]
    },
    {
     "name": "stdout",
     "output_type": "stream",
     "text": [
      "https://serpapi.com/search\n",
      "https://serpapi.com/search\n"
     ]
    },
    {
     "name": "stderr",
     "output_type": "stream",
     "text": [
      "\r",
      "  4%|███▌                                                                                         | 7/184 [00:43<20:47,  7.05s/it]"
     ]
    },
    {
     "name": "stdout",
     "output_type": "stream",
     "text": [
      "https://serpapi.com/search\n",
      "https://serpapi.com/search\n"
     ]
    },
    {
     "name": "stderr",
     "output_type": "stream",
     "text": [
      "\r",
      "  4%|████                                                                                         | 8/184 [00:46<17:26,  5.95s/it]"
     ]
    },
    {
     "name": "stdout",
     "output_type": "stream",
     "text": [
      "https://serpapi.com/search\n",
      "https://serpapi.com/search\n"
     ]
    },
    {
     "name": "stderr",
     "output_type": "stream",
     "text": [
      "\r",
      "  5%|████▌                                                                                        | 9/184 [00:53<18:22,  6.30s/it]"
     ]
    },
    {
     "name": "stdout",
     "output_type": "stream",
     "text": [
      "https://serpapi.com/search\n",
      "https://serpapi.com/search\n",
      "https://serpapi.com/search\n"
     ]
    },
    {
     "name": "stderr",
     "output_type": "stream",
     "text": [
      "\r",
      "  5%|█████                                                                                       | 10/184 [00:59<17:51,  6.16s/it]"
     ]
    },
    {
     "name": "stdout",
     "output_type": "stream",
     "text": [
      "https://serpapi.com/search\n",
      "https://serpapi.com/search\n",
      "https://serpapi.com/search\n"
     ]
    },
    {
     "name": "stderr",
     "output_type": "stream",
     "text": [
      "\r",
      "  6%|█████▌                                                                                      | 11/184 [01:11<22:34,  7.83s/it]"
     ]
    },
    {
     "name": "stdout",
     "output_type": "stream",
     "text": [
      "https://serpapi.com/search\n",
      "https://serpapi.com/search\n"
     ]
    },
    {
     "name": "stderr",
     "output_type": "stream",
     "text": [
      "\r",
      "  7%|██████                                                                                      | 12/184 [01:12<17:01,  5.94s/it]"
     ]
    },
    {
     "name": "stdout",
     "output_type": "stream",
     "text": [
      "https://serpapi.com/search\n",
      "https://serpapi.com/search\n",
      "https://serpapi.com/search\n"
     ]
    },
    {
     "name": "stderr",
     "output_type": "stream",
     "text": [
      "\r",
      "  7%|██████▍                                                                                     | 13/184 [01:21<18:57,  6.65s/it]"
     ]
    },
    {
     "name": "stdout",
     "output_type": "stream",
     "text": [
      "https://serpapi.com/search\n",
      "https://serpapi.com/search\n",
      "https://serpapi.com/search\n",
      "https://serpapi.com/search\n",
      "https://serpapi.com/search\n"
     ]
    },
    {
     "name": "stderr",
     "output_type": "stream",
     "text": [
      "\r",
      "  8%|███████                                                                                     | 14/184 [01:35<25:33,  9.02s/it]"
     ]
    },
    {
     "name": "stdout",
     "output_type": "stream",
     "text": [
      "https://serpapi.com/search\n",
      "https://serpapi.com/search\n"
     ]
    },
    {
     "name": "stderr",
     "output_type": "stream",
     "text": [
      "\r",
      "  8%|███████▌                                                                                    | 15/184 [01:38<20:02,  7.12s/it]"
     ]
    },
    {
     "name": "stdout",
     "output_type": "stream",
     "text": [
      "https://serpapi.com/search\n",
      "https://serpapi.com/search\n",
      "https://serpapi.com/search\n",
      "https://serpapi.com/search\n"
     ]
    },
    {
     "name": "stderr",
     "output_type": "stream",
     "text": [
      "\r",
      "  9%|████████                                                                                    | 16/184 [01:52<25:42,  9.18s/it]"
     ]
    },
    {
     "name": "stdout",
     "output_type": "stream",
     "text": [
      "https://serpapi.com/search\n",
      "https://serpapi.com/search\n"
     ]
    },
    {
     "name": "stderr",
     "output_type": "stream",
     "text": [
      "\r",
      "  9%|████████▌                                                                                   | 17/184 [01:58<23:10,  8.33s/it]"
     ]
    },
    {
     "name": "stdout",
     "output_type": "stream",
     "text": [
      "https://serpapi.com/search\n",
      "https://serpapi.com/search\n",
      "https://serpapi.com/search\n"
     ]
    },
    {
     "name": "stderr",
     "output_type": "stream",
     "text": [
      "\r",
      " 10%|█████████                                                                                   | 18/184 [02:16<30:57, 11.19s/it]"
     ]
    },
    {
     "name": "stdout",
     "output_type": "stream",
     "text": [
      "https://serpapi.com/search\n",
      "https://serpapi.com/search\n",
      "https://serpapi.com/search\n"
     ]
    },
    {
     "name": "stderr",
     "output_type": "stream",
     "text": [
      "\r",
      " 10%|█████████▌                                                                                  | 19/184 [02:21<25:22,  9.23s/it]"
     ]
    },
    {
     "name": "stdout",
     "output_type": "stream",
     "text": [
      "https://serpapi.com/search\n",
      "https://serpapi.com/search\n",
      "https://serpapi.com/search\n"
     ]
    },
    {
     "name": "stderr",
     "output_type": "stream",
     "text": [
      "\r",
      " 11%|██████████                                                                                  | 20/184 [02:28<24:01,  8.79s/it]"
     ]
    },
    {
     "name": "stdout",
     "output_type": "stream",
     "text": [
      "https://serpapi.com/search\n",
      "https://serpapi.com/search\n"
     ]
    },
    {
     "name": "stderr",
     "output_type": "stream",
     "text": [
      "\r",
      " 11%|██████████▌                                                                                 | 21/184 [02:33<20:33,  7.57s/it]"
     ]
    },
    {
     "name": "stdout",
     "output_type": "stream",
     "text": [
      "https://serpapi.com/search\n",
      "https://serpapi.com/search\n"
     ]
    },
    {
     "name": "stderr",
     "output_type": "stream",
     "text": [
      "\r",
      " 12%|███████████                                                                                 | 22/184 [02:40<20:08,  7.46s/it]"
     ]
    },
    {
     "name": "stdout",
     "output_type": "stream",
     "text": [
      "https://serpapi.com/search\n",
      "https://serpapi.com/search\n"
     ]
    },
    {
     "name": "stderr",
     "output_type": "stream",
     "text": [
      "\r",
      " 12%|███████████▌                                                                                | 23/184 [02:44<16:37,  6.19s/it]"
     ]
    },
    {
     "name": "stdout",
     "output_type": "stream",
     "text": [
      "https://serpapi.com/search\n",
      "https://serpapi.com/search\n"
     ]
    },
    {
     "name": "stderr",
     "output_type": "stream",
     "text": [
      "\r",
      " 13%|████████████                                                                                | 24/184 [02:54<19:29,  7.31s/it]"
     ]
    },
    {
     "name": "stdout",
     "output_type": "stream",
     "text": [
      "https://serpapi.com/search\n",
      "https://serpapi.com/search\n",
      "https://serpapi.com/search\n",
      "https://serpapi.com/search\n"
     ]
    },
    {
     "name": "stderr",
     "output_type": "stream",
     "text": [
      "\r",
      " 14%|████████████▌                                                                               | 25/184 [03:08<24:45,  9.34s/it]"
     ]
    },
    {
     "name": "stdout",
     "output_type": "stream",
     "text": [
      "https://serpapi.com/search\n",
      "https://serpapi.com/search\n",
      "https://serpapi.com/search\n"
     ]
    },
    {
     "name": "stderr",
     "output_type": "stream",
     "text": [
      "\r",
      " 14%|████████████▉                                                                               | 26/184 [03:21<27:48, 10.56s/it]"
     ]
    },
    {
     "name": "stdout",
     "output_type": "stream",
     "text": [
      "https://serpapi.com/search\n",
      "https://serpapi.com/search\n"
     ]
    },
    {
     "name": "stderr",
     "output_type": "stream",
     "text": [
      "\r",
      " 15%|█████████████▌                                                                              | 27/184 [03:26<23:33,  9.00s/it]"
     ]
    },
    {
     "name": "stdout",
     "output_type": "stream",
     "text": [
      "https://serpapi.com/search\n",
      "https://serpapi.com/search\n",
      "https://serpapi.com/search\n"
     ]
    },
    {
     "name": "stderr",
     "output_type": "stream",
     "text": [
      "\r",
      " 15%|██████████████                                                                              | 28/184 [03:33<21:13,  8.16s/it]"
     ]
    },
    {
     "name": "stdout",
     "output_type": "stream",
     "text": [
      "https://serpapi.com/search\n",
      "https://serpapi.com/search\n"
     ]
    },
    {
     "name": "stderr",
     "output_type": "stream",
     "text": [
      "\r",
      " 16%|██████████████▌                                                                             | 29/184 [03:36<17:11,  6.65s/it]"
     ]
    },
    {
     "name": "stdout",
     "output_type": "stream",
     "text": [
      "https://serpapi.com/search\n",
      "https://serpapi.com/search\n",
      "https://serpapi.com/search\n"
     ]
    },
    {
     "name": "stderr",
     "output_type": "stream",
     "text": [
      "\r",
      " 16%|███████████████                                                                             | 30/184 [03:42<16:48,  6.55s/it]"
     ]
    },
    {
     "name": "stdout",
     "output_type": "stream",
     "text": [
      "https://serpapi.com/search\n",
      "https://serpapi.com/search\n"
     ]
    },
    {
     "name": "stderr",
     "output_type": "stream",
     "text": [
      "\r",
      " 17%|███████████████▌                                                                            | 31/184 [03:47<15:21,  6.02s/it]"
     ]
    },
    {
     "name": "stdout",
     "output_type": "stream",
     "text": [
      "https://serpapi.com/search\n",
      "https://serpapi.com/search\n",
      "https://serpapi.com/search\n",
      "https://serpapi.com/search\n"
     ]
    },
    {
     "name": "stderr",
     "output_type": "stream",
     "text": [
      "\r",
      " 17%|████████████████                                                                            | 32/184 [04:03<23:15,  9.18s/it]"
     ]
    },
    {
     "name": "stdout",
     "output_type": "stream",
     "text": [
      "https://serpapi.com/search\n",
      "https://serpapi.com/search\n"
     ]
    },
    {
     "name": "stderr",
     "output_type": "stream",
     "text": [
      "\r",
      " 18%|████████████████▌                                                                           | 33/184 [04:08<19:29,  7.74s/it]"
     ]
    },
    {
     "name": "stdout",
     "output_type": "stream",
     "text": [
      "https://serpapi.com/search\n",
      "https://serpapi.com/search\n",
      "https://serpapi.com/search\n",
      "https://serpapi.com/search\n"
     ]
    },
    {
     "name": "stderr",
     "output_type": "stream",
     "text": [
      "\r",
      " 18%|█████████████████                                                                           | 34/184 [04:17<20:19,  8.13s/it]"
     ]
    },
    {
     "name": "stdout",
     "output_type": "stream",
     "text": [
      "https://serpapi.com/search\n",
      "https://serpapi.com/search\n",
      "https://serpapi.com/search\n"
     ]
    },
    {
     "name": "stderr",
     "output_type": "stream",
     "text": [
      "\r",
      " 19%|█████████████████▌                                                                          | 35/184 [04:19<15:56,  6.42s/it]"
     ]
    },
    {
     "name": "stdout",
     "output_type": "stream",
     "text": [
      "https://serpapi.com/search\n",
      "https://serpapi.com/search\n"
     ]
    },
    {
     "name": "stderr",
     "output_type": "stream",
     "text": [
      "\r",
      " 20%|██████████████████                                                                          | 36/184 [04:21<12:32,  5.08s/it]"
     ]
    },
    {
     "name": "stdout",
     "output_type": "stream",
     "text": [
      "https://serpapi.com/search\n",
      "https://serpapi.com/search\n",
      "https://serpapi.com/search\n",
      "https://serpapi.com/search\n",
      "https://serpapi.com/search\n",
      "https://serpapi.com/search\n"
     ]
    },
    {
     "name": "stderr",
     "output_type": "stream",
     "text": [
      "\r",
      " 20%|██████████████████▌                                                                         | 37/184 [04:27<12:53,  5.26s/it]"
     ]
    },
    {
     "name": "stdout",
     "output_type": "stream",
     "text": [
      "https://serpapi.com/search\n",
      "https://serpapi.com/search\n",
      "https://serpapi.com/search\n"
     ]
    },
    {
     "name": "stderr",
     "output_type": "stream",
     "text": [
      "\r",
      " 21%|███████████████████                                                                         | 38/184 [04:34<14:11,  5.83s/it]"
     ]
    },
    {
     "name": "stdout",
     "output_type": "stream",
     "text": [
      "https://serpapi.com/search\n",
      "https://serpapi.com/search\n",
      "https://serpapi.com/search\n"
     ]
    },
    {
     "name": "stderr",
     "output_type": "stream",
     "text": [
      "\r",
      " 21%|███████████████████▌                                                                        | 39/184 [04:40<14:33,  6.02s/it]"
     ]
    },
    {
     "name": "stdout",
     "output_type": "stream",
     "text": [
      "https://serpapi.com/search\n",
      "https://serpapi.com/search\n",
      "https://serpapi.com/search\n"
     ]
    },
    {
     "name": "stderr",
     "output_type": "stream",
     "text": [
      "\r",
      " 22%|████████████████████                                                                        | 40/184 [04:56<21:10,  8.82s/it]"
     ]
    },
    {
     "name": "stdout",
     "output_type": "stream",
     "text": [
      "https://serpapi.com/search\n",
      "https://serpapi.com/search\n",
      "https://serpapi.com/search\n",
      "https://serpapi.com/search\n",
      "https://serpapi.com/search\n",
      "https://serpapi.com/search\n",
      "https://serpapi.com/search\n",
      "https://serpapi.com/search\n",
      "https://serpapi.com/search\n",
      "https://serpapi.com/search\n"
     ]
    },
    {
     "name": "stderr",
     "output_type": "stream",
     "text": [
      "\r",
      " 22%|████████████████████▌                                                                       | 41/184 [05:21<32:48, 13.76s/it]"
     ]
    },
    {
     "name": "stdout",
     "output_type": "stream",
     "text": [
      "https://serpapi.com/search\n",
      "https://serpapi.com/search\n",
      "https://serpapi.com/search\n"
     ]
    },
    {
     "name": "stderr",
     "output_type": "stream",
     "text": [
      "\r",
      " 23%|█████████████████████                                                                       | 42/184 [05:26<26:03, 11.01s/it]"
     ]
    },
    {
     "name": "stdout",
     "output_type": "stream",
     "text": [
      "https://serpapi.com/search\n",
      "https://serpapi.com/search\n"
     ]
    },
    {
     "name": "stderr",
     "output_type": "stream",
     "text": [
      "\r",
      " 23%|█████████████████████▌                                                                      | 43/184 [05:34<23:53, 10.17s/it]"
     ]
    },
    {
     "name": "stdout",
     "output_type": "stream",
     "text": [
      "https://serpapi.com/search\n",
      "https://serpapi.com/search\n"
     ]
    },
    {
     "name": "stderr",
     "output_type": "stream",
     "text": [
      "\r",
      " 24%|██████████████████████                                                                      | 44/184 [05:38<19:32,  8.38s/it]"
     ]
    },
    {
     "name": "stdout",
     "output_type": "stream",
     "text": [
      "https://serpapi.com/search\n",
      "https://serpapi.com/search\n"
     ]
    },
    {
     "name": "stderr",
     "output_type": "stream",
     "text": [
      "\r",
      " 24%|██████████████████████▌                                                                     | 45/184 [05:47<20:04,  8.67s/it]"
     ]
    },
    {
     "name": "stdout",
     "output_type": "stream",
     "text": [
      "https://serpapi.com/search\n"
     ]
    },
    {
     "name": "stderr",
     "output_type": "stream",
     "text": [
      "\r",
      " 25%|███████████████████████                                                                     | 46/184 [05:50<16:00,  6.96s/it]"
     ]
    },
    {
     "name": "stdout",
     "output_type": "stream",
     "text": [
      "https://serpapi.com/search\n",
      "https://serpapi.com/search\n",
      "https://serpapi.com/search\n"
     ]
    },
    {
     "name": "stderr",
     "output_type": "stream",
     "text": [
      "\r",
      " 26%|███████████████████████▌                                                                    | 47/184 [05:54<13:45,  6.03s/it]"
     ]
    },
    {
     "name": "stdout",
     "output_type": "stream",
     "text": [
      "https://serpapi.com/search\n",
      "https://serpapi.com/search\n",
      "https://serpapi.com/search\n"
     ]
    },
    {
     "name": "stderr",
     "output_type": "stream",
     "text": [
      "\r",
      " 26%|████████████████████████                                                                    | 48/184 [05:57<11:31,  5.09s/it]"
     ]
    },
    {
     "name": "stdout",
     "output_type": "stream",
     "text": [
      "https://serpapi.com/search\n",
      "https://serpapi.com/search\n",
      "https://serpapi.com/search\n"
     ]
    },
    {
     "name": "stderr",
     "output_type": "stream",
     "text": [
      "\r",
      " 27%|████████████████████████▌                                                                   | 49/184 [06:06<13:44,  6.10s/it]"
     ]
    },
    {
     "name": "stdout",
     "output_type": "stream",
     "text": [
      "https://serpapi.com/search\n",
      "https://serpapi.com/search\n",
      "https://serpapi.com/search\n"
     ]
    },
    {
     "name": "stderr",
     "output_type": "stream",
     "text": [
      "\r",
      " 27%|█████████████████████████                                                                   | 50/184 [06:13<14:28,  6.48s/it]"
     ]
    },
    {
     "name": "stdout",
     "output_type": "stream",
     "text": [
      "https://serpapi.com/search\n",
      "https://serpapi.com/search\n",
      "https://serpapi.com/search\n",
      "https://serpapi.com/search\n"
     ]
    },
    {
     "name": "stderr",
     "output_type": "stream",
     "text": [
      "\r",
      " 28%|█████████████████████████▌                                                                  | 51/184 [06:18<13:12,  5.96s/it]"
     ]
    },
    {
     "name": "stdout",
     "output_type": "stream",
     "text": [
      "https://serpapi.com/search\n",
      "https://serpapi.com/search\n",
      "https://serpapi.com/search\n"
     ]
    },
    {
     "name": "stderr",
     "output_type": "stream",
     "text": [
      "\r",
      " 28%|█████████████████████████▉                                                                  | 52/184 [06:27<15:06,  6.87s/it]"
     ]
    },
    {
     "name": "stdout",
     "output_type": "stream",
     "text": [
      "https://serpapi.com/search\n",
      "https://serpapi.com/search\n",
      "https://serpapi.com/search\n"
     ]
    },
    {
     "name": "stderr",
     "output_type": "stream",
     "text": [
      "\r",
      " 29%|██████████████████████████▌                                                                 | 53/184 [06:29<12:04,  5.53s/it]"
     ]
    },
    {
     "name": "stdout",
     "output_type": "stream",
     "text": [
      "https://serpapi.com/search\n",
      "https://serpapi.com/search\n",
      "https://serpapi.com/search\n",
      "https://serpapi.com/search\n"
     ]
    },
    {
     "name": "stderr",
     "output_type": "stream",
     "text": [
      "\r",
      " 29%|███████████████████████████                                                                 | 54/184 [06:58<27:03, 12.49s/it]"
     ]
    },
    {
     "name": "stdout",
     "output_type": "stream",
     "text": [
      "https://serpapi.com/search\n",
      "https://serpapi.com/search\n",
      "https://serpapi.com/search\n",
      "https://serpapi.com/search\n"
     ]
    },
    {
     "name": "stderr",
     "output_type": "stream",
     "text": [
      "\r",
      " 30%|███████████████████████████▌                                                                | 55/184 [07:11<27:11, 12.64s/it]"
     ]
    },
    {
     "name": "stdout",
     "output_type": "stream",
     "text": [
      "https://serpapi.com/search\n",
      "https://serpapi.com/search\n"
     ]
    },
    {
     "name": "stderr",
     "output_type": "stream",
     "text": [
      "\r",
      " 30%|████████████████████████████                                                                | 56/184 [07:12<19:37,  9.20s/it]"
     ]
    },
    {
     "name": "stdout",
     "output_type": "stream",
     "text": [
      "https://serpapi.com/search\n",
      "https://serpapi.com/search\n",
      "https://serpapi.com/search\n",
      "https://serpapi.com/search\n",
      "https://serpapi.com/search\n"
     ]
    },
    {
     "name": "stderr",
     "output_type": "stream",
     "text": [
      "\r",
      " 31%|████████████████████████████▌                                                               | 57/184 [07:21<19:08,  9.05s/it]"
     ]
    },
    {
     "name": "stdout",
     "output_type": "stream",
     "text": [
      "https://serpapi.com/search\n",
      "https://serpapi.com/search\n",
      "https://serpapi.com/search\n",
      "https://serpapi.com/search\n"
     ]
    },
    {
     "name": "stderr",
     "output_type": "stream",
     "text": [
      "\r",
      " 32%|█████████████████████████████                                                               | 58/184 [07:49<30:54, 14.72s/it]"
     ]
    },
    {
     "name": "stdout",
     "output_type": "stream",
     "text": [
      "https://serpapi.com/search\n",
      "https://serpapi.com/search\n",
      "https://serpapi.com/search\n"
     ]
    },
    {
     "name": "stderr",
     "output_type": "stream",
     "text": [
      "\r",
      " 32%|█████████████████████████████▌                                                              | 59/184 [07:58<26:59, 12.95s/it]"
     ]
    },
    {
     "name": "stdout",
     "output_type": "stream",
     "text": [
      "https://serpapi.com/search\n",
      "https://serpapi.com/search\n",
      "https://serpapi.com/search\n"
     ]
    },
    {
     "name": "stderr",
     "output_type": "stream",
     "text": [
      "\r",
      " 33%|██████████████████████████████                                                              | 60/184 [08:03<22:19, 10.81s/it]"
     ]
    },
    {
     "name": "stdout",
     "output_type": "stream",
     "text": [
      "https://serpapi.com/search\n",
      "https://serpapi.com/search\n"
     ]
    },
    {
     "name": "stderr",
     "output_type": "stream",
     "text": [
      "\r",
      " 33%|██████████████████████████████▍                                                             | 61/184 [08:07<17:58,  8.77s/it]"
     ]
    },
    {
     "name": "stdout",
     "output_type": "stream",
     "text": [
      "https://serpapi.com/search\n",
      "https://serpapi.com/search\n"
     ]
    },
    {
     "name": "stderr",
     "output_type": "stream",
     "text": [
      "\r",
      " 34%|███████████████████████████████                                                             | 62/184 [08:12<15:27,  7.60s/it]"
     ]
    },
    {
     "name": "stdout",
     "output_type": "stream",
     "text": [
      "https://serpapi.com/search\n",
      "https://serpapi.com/search\n",
      "https://serpapi.com/search\n"
     ]
    },
    {
     "name": "stderr",
     "output_type": "stream",
     "text": [
      "\r",
      " 34%|███████████████████████████████▌                                                            | 63/184 [08:27<19:38,  9.74s/it]"
     ]
    },
    {
     "name": "stdout",
     "output_type": "stream",
     "text": [
      "https://serpapi.com/search\n",
      "https://serpapi.com/search\n"
     ]
    },
    {
     "name": "stderr",
     "output_type": "stream",
     "text": [
      "\r",
      " 35%|████████████████████████████████                                                            | 64/184 [08:34<18:08,  9.07s/it]"
     ]
    },
    {
     "name": "stdout",
     "output_type": "stream",
     "text": [
      "https://serpapi.com/search\n",
      "https://serpapi.com/search\n",
      "https://serpapi.com/search\n"
     ]
    },
    {
     "name": "stderr",
     "output_type": "stream",
     "text": [
      "\r",
      " 35%|████████████████████████████████▌                                                           | 65/184 [08:38<14:46,  7.45s/it]"
     ]
    },
    {
     "name": "stdout",
     "output_type": "stream",
     "text": [
      "https://serpapi.com/search\n",
      "https://serpapi.com/search\n",
      "https://serpapi.com/search\n",
      "https://serpapi.com/search\n",
      "https://serpapi.com/search\n"
     ]
    },
    {
     "name": "stderr",
     "output_type": "stream",
     "text": [
      "\r",
      " 36%|█████████████████████████████████                                                           | 66/184 [08:59<22:30, 11.44s/it]"
     ]
    },
    {
     "name": "stdout",
     "output_type": "stream",
     "text": [
      "https://serpapi.com/search\n",
      "https://serpapi.com/search\n",
      "https://serpapi.com/search\n",
      "https://serpapi.com/search\n"
     ]
    },
    {
     "name": "stderr",
     "output_type": "stream",
     "text": [
      "\r",
      " 36%|█████████████████████████████████▌                                                          | 67/184 [09:10<22:01, 11.30s/it]"
     ]
    },
    {
     "name": "stdout",
     "output_type": "stream",
     "text": [
      "https://serpapi.com/search\n",
      "https://serpapi.com/search\n"
     ]
    },
    {
     "name": "stderr",
     "output_type": "stream",
     "text": [
      "\r",
      " 37%|██████████████████████████████████                                                          | 68/184 [09:13<17:02,  8.82s/it]"
     ]
    },
    {
     "name": "stdout",
     "output_type": "stream",
     "text": [
      "https://serpapi.com/search\n",
      "https://serpapi.com/search\n",
      "https://serpapi.com/search\n",
      "https://serpapi.com/search\n"
     ]
    },
    {
     "name": "stderr",
     "output_type": "stream",
     "text": [
      "\r",
      " 38%|██████████████████████████████████▌                                                         | 69/184 [09:25<19:01,  9.93s/it]"
     ]
    },
    {
     "name": "stdout",
     "output_type": "stream",
     "text": [
      "https://serpapi.com/search\n",
      "https://serpapi.com/search\n",
      "https://serpapi.com/search\n",
      "https://serpapi.com/search\n"
     ]
    },
    {
     "name": "stderr",
     "output_type": "stream",
     "text": [
      "\r",
      " 38%|███████████████████████████████████                                                         | 70/184 [09:33<17:45,  9.35s/it]"
     ]
    },
    {
     "name": "stdout",
     "output_type": "stream",
     "text": [
      "https://serpapi.com/search\n",
      "https://serpapi.com/search\n",
      "https://serpapi.com/search\n"
     ]
    },
    {
     "name": "stderr",
     "output_type": "stream",
     "text": [
      "\r",
      " 39%|███████████████████████████████████▌                                                        | 71/184 [09:36<13:40,  7.26s/it]"
     ]
    },
    {
     "name": "stdout",
     "output_type": "stream",
     "text": [
      "https://serpapi.com/search\n",
      "https://serpapi.com/search\n",
      "https://serpapi.com/search\n",
      "https://serpapi.com/search\n",
      "https://serpapi.com/search\n"
     ]
    },
    {
     "name": "stderr",
     "output_type": "stream",
     "text": [
      "\r",
      " 39%|████████████████████████████████████                                                        | 72/184 [09:39<11:34,  6.20s/it]"
     ]
    },
    {
     "name": "stdout",
     "output_type": "stream",
     "text": [
      "https://serpapi.com/search\n",
      "https://serpapi.com/search\n"
     ]
    },
    {
     "name": "stderr",
     "output_type": "stream",
     "text": [
      "\r",
      " 40%|████████████████████████████████████▌                                                       | 73/184 [09:46<11:31,  6.23s/it]"
     ]
    },
    {
     "name": "stdout",
     "output_type": "stream",
     "text": [
      "https://serpapi.com/search\n",
      "https://serpapi.com/search\n",
      "https://serpapi.com/search\n"
     ]
    },
    {
     "name": "stderr",
     "output_type": "stream",
     "text": [
      "\r",
      " 40%|█████████████████████████████████████                                                       | 74/184 [09:52<11:17,  6.16s/it]"
     ]
    },
    {
     "name": "stdout",
     "output_type": "stream",
     "text": [
      "https://serpapi.com/search\n",
      "https://serpapi.com/search\n"
     ]
    },
    {
     "name": "stderr",
     "output_type": "stream",
     "text": [
      "\r",
      " 41%|█████████████████████████████████████▌                                                      | 75/184 [09:56<09:53,  5.45s/it]"
     ]
    },
    {
     "name": "stdout",
     "output_type": "stream",
     "text": [
      "https://serpapi.com/search\n",
      "https://serpapi.com/search\n",
      "https://serpapi.com/search\n"
     ]
    },
    {
     "name": "stderr",
     "output_type": "stream",
     "text": [
      "\r",
      " 41%|██████████████████████████████████████                                                      | 76/184 [10:07<12:53,  7.16s/it]"
     ]
    },
    {
     "name": "stdout",
     "output_type": "stream",
     "text": [
      "https://serpapi.com/search\n",
      "https://serpapi.com/search\n"
     ]
    },
    {
     "name": "stderr",
     "output_type": "stream",
     "text": [
      "\r",
      " 42%|██████████████████████████████████████▌                                                     | 77/184 [10:14<12:47,  7.17s/it]"
     ]
    },
    {
     "name": "stdout",
     "output_type": "stream",
     "text": [
      "https://serpapi.com/search\n",
      "https://serpapi.com/search\n",
      "https://serpapi.com/search\n"
     ]
    },
    {
     "name": "stderr",
     "output_type": "stream",
     "text": [
      "\r",
      " 42%|███████████████████████████████████████                                                     | 78/184 [10:21<12:46,  7.23s/it]"
     ]
    },
    {
     "name": "stdout",
     "output_type": "stream",
     "text": [
      "https://serpapi.com/search\n",
      "https://serpapi.com/search\n",
      "https://serpapi.com/search\n"
     ]
    },
    {
     "name": "stderr",
     "output_type": "stream",
     "text": [
      "\r",
      " 43%|███████████████████████████████████████▌                                                    | 79/184 [10:25<10:33,  6.03s/it]"
     ]
    },
    {
     "name": "stdout",
     "output_type": "stream",
     "text": [
      "https://serpapi.com/search\n",
      "https://serpapi.com/search\n"
     ]
    },
    {
     "name": "stderr",
     "output_type": "stream",
     "text": [
      "\r",
      " 43%|████████████████████████████████████████                                                    | 80/184 [10:28<08:55,  5.15s/it]"
     ]
    },
    {
     "name": "stdout",
     "output_type": "stream",
     "text": [
      "https://serpapi.com/search\n",
      "https://serpapi.com/search\n",
      "https://serpapi.com/search\n",
      "https://serpapi.com/search\n"
     ]
    },
    {
     "name": "stderr",
     "output_type": "stream",
     "text": [
      "\r",
      " 44%|████████████████████████████████████████▌                                                   | 81/184 [10:37<11:12,  6.53s/it]"
     ]
    },
    {
     "name": "stdout",
     "output_type": "stream",
     "text": [
      "https://serpapi.com/search\n",
      "https://serpapi.com/search\n",
      "https://serpapi.com/search\n",
      "https://serpapi.com/search\n"
     ]
    },
    {
     "name": "stderr",
     "output_type": "stream",
     "text": [
      "\r",
      " 45%|█████████████████████████████████████████                                                   | 82/184 [10:44<11:09,  6.56s/it]"
     ]
    },
    {
     "name": "stdout",
     "output_type": "stream",
     "text": [
      "https://serpapi.com/search\n",
      "https://serpapi.com/search\n",
      "https://serpapi.com/search\n"
     ]
    },
    {
     "name": "stderr",
     "output_type": "stream",
     "text": [
      "\r",
      " 45%|█████████████████████████████████████████▌                                                  | 83/184 [10:49<10:09,  6.03s/it]"
     ]
    },
    {
     "name": "stdout",
     "output_type": "stream",
     "text": [
      "https://serpapi.com/search\n"
     ]
    },
    {
     "name": "stderr",
     "output_type": "stream",
     "text": [
      "\r",
      " 46%|██████████████████████████████████████████                                                  | 84/184 [10:51<07:54,  4.74s/it]"
     ]
    },
    {
     "name": "stdout",
     "output_type": "stream",
     "text": [
      "https://serpapi.com/search\n",
      "https://serpapi.com/search\n",
      "https://serpapi.com/search\n"
     ]
    },
    {
     "name": "stderr",
     "output_type": "stream",
     "text": [
      "\r",
      " 46%|██████████████████████████████████████████▌                                                 | 85/184 [10:53<06:52,  4.17s/it]"
     ]
    },
    {
     "name": "stdout",
     "output_type": "stream",
     "text": [
      "https://serpapi.com/search\n",
      "https://serpapi.com/search\n"
     ]
    },
    {
     "name": "stderr",
     "output_type": "stream",
     "text": [
      "\r",
      " 47%|███████████████████████████████████████████                                                 | 86/184 [10:56<05:55,  3.63s/it]"
     ]
    },
    {
     "name": "stdout",
     "output_type": "stream",
     "text": [
      "https://serpapi.com/search\n",
      "https://serpapi.com/search\n",
      "https://serpapi.com/search\n",
      "https://serpapi.com/search\n"
     ]
    },
    {
     "name": "stderr",
     "output_type": "stream",
     "text": [
      "\r",
      " 47%|███████████████████████████████████████████▌                                                | 87/184 [11:06<09:10,  5.67s/it]"
     ]
    },
    {
     "name": "stdout",
     "output_type": "stream",
     "text": [
      "https://serpapi.com/search\n",
      "https://serpapi.com/search\n",
      "https://serpapi.com/search\n",
      "https://serpapi.com/search\n",
      "https://serpapi.com/search\n"
     ]
    },
    {
     "name": "stderr",
     "output_type": "stream",
     "text": [
      "\r",
      " 48%|████████████████████████████████████████████                                                | 88/184 [11:21<13:24,  8.38s/it]"
     ]
    },
    {
     "name": "stdout",
     "output_type": "stream",
     "text": [
      "https://serpapi.com/search\n",
      "https://serpapi.com/search\n",
      "https://serpapi.com/search\n",
      "https://serpapi.com/search\n",
      "https://serpapi.com/search\n",
      "https://serpapi.com/search\n"
     ]
    },
    {
     "name": "stderr",
     "output_type": "stream",
     "text": [
      "\r",
      " 48%|████████████████████████████████████████████▌                                               | 89/184 [11:32<14:20,  9.06s/it]"
     ]
    },
    {
     "name": "stdout",
     "output_type": "stream",
     "text": [
      "https://serpapi.com/search\n",
      "https://serpapi.com/search\n"
     ]
    },
    {
     "name": "stderr",
     "output_type": "stream",
     "text": [
      "\r",
      " 49%|█████████████████████████████████████████████                                               | 90/184 [11:35<11:35,  7.39s/it]"
     ]
    },
    {
     "name": "stdout",
     "output_type": "stream",
     "text": [
      "https://serpapi.com/search\n",
      "https://serpapi.com/search\n",
      "https://serpapi.com/search\n"
     ]
    },
    {
     "name": "stderr",
     "output_type": "stream",
     "text": [
      "\r",
      " 49%|█████████████████████████████████████████████▌                                              | 91/184 [11:43<11:44,  7.57s/it]"
     ]
    },
    {
     "name": "stdout",
     "output_type": "stream",
     "text": [
      "https://serpapi.com/search\n",
      "https://serpapi.com/search\n",
      "https://serpapi.com/search\n",
      "https://serpapi.com/search\n"
     ]
    },
    {
     "name": "stderr",
     "output_type": "stream",
     "text": [
      "\r",
      " 50%|██████████████████████████████████████████████                                              | 92/184 [11:51<11:39,  7.61s/it]"
     ]
    },
    {
     "name": "stdout",
     "output_type": "stream",
     "text": [
      "https://serpapi.com/search\n",
      "https://serpapi.com/search\n"
     ]
    },
    {
     "name": "stderr",
     "output_type": "stream",
     "text": [
      "\r",
      " 51%|██████████████████████████████████████████████▌                                             | 93/184 [11:55<10:05,  6.66s/it]"
     ]
    },
    {
     "name": "stdout",
     "output_type": "stream",
     "text": [
      "https://serpapi.com/search\n",
      "https://serpapi.com/search\n",
      "https://serpapi.com/search\n"
     ]
    },
    {
     "name": "stderr",
     "output_type": "stream",
     "text": [
      "\r",
      " 51%|███████████████████████████████████████████████                                             | 94/184 [12:01<09:41,  6.46s/it]"
     ]
    },
    {
     "name": "stdout",
     "output_type": "stream",
     "text": [
      "https://serpapi.com/search\n",
      "https://serpapi.com/search\n"
     ]
    },
    {
     "name": "stderr",
     "output_type": "stream",
     "text": [
      "\r",
      " 52%|███████████████████████████████████████████████▌                                            | 95/184 [12:06<09:02,  6.10s/it]"
     ]
    },
    {
     "name": "stdout",
     "output_type": "stream",
     "text": [
      "https://serpapi.com/search\n",
      "https://serpapi.com/search\n"
     ]
    },
    {
     "name": "stderr",
     "output_type": "stream",
     "text": [
      "\r",
      " 52%|████████████████████████████████████████████████                                            | 96/184 [12:10<07:56,  5.42s/it]"
     ]
    },
    {
     "name": "stdout",
     "output_type": "stream",
     "text": [
      "https://serpapi.com/search\n",
      "https://serpapi.com/search\n"
     ]
    },
    {
     "name": "stderr",
     "output_type": "stream",
     "text": [
      "\r",
      " 53%|████████████████████████████████████████████████▌                                           | 97/184 [12:19<09:31,  6.57s/it]"
     ]
    },
    {
     "name": "stdout",
     "output_type": "stream",
     "text": [
      "https://serpapi.com/search\n",
      "https://serpapi.com/search\n"
     ]
    },
    {
     "name": "stderr",
     "output_type": "stream",
     "text": [
      "\r",
      " 53%|█████████████████████████████████████████████████                                           | 98/184 [12:21<07:18,  5.10s/it]"
     ]
    },
    {
     "name": "stdout",
     "output_type": "stream",
     "text": [
      "https://serpapi.com/search\n",
      "https://serpapi.com/search\n"
     ]
    },
    {
     "name": "stderr",
     "output_type": "stream",
     "text": [
      "\r",
      " 54%|█████████████████████████████████████████████████▍                                          | 99/184 [12:23<05:55,  4.18s/it]"
     ]
    },
    {
     "name": "stdout",
     "output_type": "stream",
     "text": [
      "https://serpapi.com/search\n",
      "https://serpapi.com/search\n"
     ]
    },
    {
     "name": "stderr",
     "output_type": "stream",
     "text": [
      "\r",
      " 54%|█████████████████████████████████████████████████▍                                         | 100/184 [12:23<04:12,  3.01s/it]"
     ]
    },
    {
     "name": "stdout",
     "output_type": "stream",
     "text": [
      "https://serpapi.com/search\n",
      "https://serpapi.com/search\n"
     ]
    },
    {
     "name": "stderr",
     "output_type": "stream",
     "text": [
      "\r",
      " 55%|█████████████████████████████████████████████████▉                                         | 101/184 [12:26<03:57,  2.86s/it]"
     ]
    },
    {
     "name": "stdout",
     "output_type": "stream",
     "text": [
      "https://serpapi.com/search\n",
      "https://serpapi.com/search\n"
     ]
    },
    {
     "name": "stderr",
     "output_type": "stream",
     "text": [
      "\r",
      " 55%|██████████████████████████████████████████████████▍                                        | 102/184 [12:31<04:35,  3.36s/it]"
     ]
    },
    {
     "name": "stdout",
     "output_type": "stream",
     "text": [
      "https://serpapi.com/search\n",
      "https://serpapi.com/search\n"
     ]
    },
    {
     "name": "stderr",
     "output_type": "stream",
     "text": [
      "\r",
      " 56%|██████████████████████████████████████████████████▉                                        | 103/184 [12:34<04:41,  3.47s/it]"
     ]
    },
    {
     "name": "stdout",
     "output_type": "stream",
     "text": [
      "https://serpapi.com/search\n",
      "https://serpapi.com/search\n",
      "https://serpapi.com/search\n",
      "https://serpapi.com/search\n",
      "https://serpapi.com/search\n"
     ]
    },
    {
     "name": "stderr",
     "output_type": "stream",
     "text": [
      "\r",
      " 57%|███████████████████████████████████████████████████▍                                       | 104/184 [12:43<06:36,  4.95s/it]"
     ]
    },
    {
     "name": "stdout",
     "output_type": "stream",
     "text": [
      "https://serpapi.com/search\n",
      "https://serpapi.com/search\n",
      "https://serpapi.com/search\n"
     ]
    },
    {
     "name": "stderr",
     "output_type": "stream",
     "text": [
      "\r",
      " 57%|███████████████████████████████████████████████████▉                                       | 105/184 [12:43<04:51,  3.69s/it]"
     ]
    },
    {
     "name": "stdout",
     "output_type": "stream",
     "text": [
      "https://serpapi.com/search\n",
      "https://serpapi.com/search\n",
      "https://serpapi.com/search\n"
     ]
    },
    {
     "name": "stderr",
     "output_type": "stream",
     "text": [
      "\r",
      " 58%|████████████████████████████████████████████████████▍                                      | 106/184 [12:54<07:25,  5.71s/it]"
     ]
    },
    {
     "name": "stdout",
     "output_type": "stream",
     "text": [
      "https://serpapi.com/search\n",
      "https://serpapi.com/search\n",
      "https://serpapi.com/search\n"
     ]
    },
    {
     "name": "stderr",
     "output_type": "stream",
     "text": [
      "\r",
      " 58%|████████████████████████████████████████████████████▉                                      | 107/184 [13:03<08:39,  6.74s/it]"
     ]
    },
    {
     "name": "stdout",
     "output_type": "stream",
     "text": [
      "https://serpapi.com/search\n",
      "https://serpapi.com/search\n",
      "https://serpapi.com/search\n"
     ]
    },
    {
     "name": "stderr",
     "output_type": "stream",
     "text": [
      "\r",
      " 59%|█████████████████████████████████████████████████████▍                                     | 108/184 [13:13<09:41,  7.66s/it]"
     ]
    },
    {
     "name": "stdout",
     "output_type": "stream",
     "text": [
      "https://serpapi.com/search\n",
      "https://serpapi.com/search\n"
     ]
    },
    {
     "name": "stderr",
     "output_type": "stream",
     "text": [
      "\r",
      " 59%|█████████████████████████████████████████████████████▉                                     | 109/184 [13:16<07:52,  6.30s/it]"
     ]
    },
    {
     "name": "stdout",
     "output_type": "stream",
     "text": [
      "https://serpapi.com/search\n",
      "https://serpapi.com/search\n",
      "https://serpapi.com/search\n",
      "https://serpapi.com/search\n"
     ]
    },
    {
     "name": "stderr",
     "output_type": "stream",
     "text": [
      "\r",
      " 60%|██████████████████████████████████████████████████████▍                                    | 110/184 [13:22<07:37,  6.18s/it]"
     ]
    },
    {
     "name": "stdout",
     "output_type": "stream",
     "text": [
      "https://serpapi.com/search\n",
      "https://serpapi.com/search\n"
     ]
    },
    {
     "name": "stderr",
     "output_type": "stream",
     "text": [
      "\r",
      " 60%|██████████████████████████████████████████████████████▉                                    | 111/184 [13:25<06:32,  5.37s/it]"
     ]
    },
    {
     "name": "stdout",
     "output_type": "stream",
     "text": [
      "https://serpapi.com/search\n",
      "https://serpapi.com/search\n",
      "https://serpapi.com/search\n"
     ]
    },
    {
     "name": "stderr",
     "output_type": "stream",
     "text": [
      "\r",
      " 61%|███████████████████████████████████████████████████████▍                                   | 112/184 [13:34<07:49,  6.52s/it]"
     ]
    },
    {
     "name": "stdout",
     "output_type": "stream",
     "text": [
      "https://serpapi.com/search\n",
      "https://serpapi.com/search\n",
      "https://serpapi.com/search\n"
     ]
    },
    {
     "name": "stderr",
     "output_type": "stream",
     "text": [
      "\r",
      " 61%|███████████████████████████████████████████████████████▉                                   | 113/184 [13:37<06:16,  5.30s/it]"
     ]
    },
    {
     "name": "stdout",
     "output_type": "stream",
     "text": [
      "https://serpapi.com/search\n",
      "https://serpapi.com/search\n",
      "https://serpapi.com/search\n",
      "https://serpapi.com/search\n"
     ]
    },
    {
     "name": "stderr",
     "output_type": "stream",
     "text": [
      "\r",
      " 62%|████████████████████████████████████████████████████████▍                                  | 114/184 [13:46<07:21,  6.31s/it]"
     ]
    },
    {
     "name": "stdout",
     "output_type": "stream",
     "text": [
      "https://serpapi.com/search\n",
      "https://serpapi.com/search\n",
      "https://serpapi.com/search\n",
      "https://serpapi.com/search\n",
      "https://serpapi.com/search\n"
     ]
    },
    {
     "name": "stderr",
     "output_type": "stream",
     "text": [
      "\r",
      " 62%|████████████████████████████████████████████████████████▉                                  | 115/184 [13:55<08:14,  7.17s/it]"
     ]
    },
    {
     "name": "stdout",
     "output_type": "stream",
     "text": [
      "https://serpapi.com/search\n",
      "https://serpapi.com/search\n",
      "https://serpapi.com/search\n",
      "https://serpapi.com/search\n",
      "https://serpapi.com/search\n"
     ]
    },
    {
     "name": "stderr",
     "output_type": "stream",
     "text": [
      "\r",
      " 63%|█████████████████████████████████████████████████████████▎                                 | 116/184 [13:59<07:13,  6.38s/it]"
     ]
    },
    {
     "name": "stdout",
     "output_type": "stream",
     "text": [
      "https://serpapi.com/search\n",
      "https://serpapi.com/search\n",
      "https://serpapi.com/search\n",
      "https://serpapi.com/search\n"
     ]
    },
    {
     "name": "stderr",
     "output_type": "stream",
     "text": [
      "\r",
      " 64%|█████████████████████████████████████████████████████████▊                                 | 117/184 [14:00<05:22,  4.82s/it]"
     ]
    },
    {
     "name": "stdout",
     "output_type": "stream",
     "text": [
      "https://serpapi.com/search\n",
      "https://serpapi.com/search\n",
      "https://serpapi.com/search\n"
     ]
    },
    {
     "name": "stderr",
     "output_type": "stream",
     "text": [
      "\r",
      " 64%|██████████████████████████████████████████████████████████▎                                | 118/184 [14:05<05:19,  4.84s/it]"
     ]
    },
    {
     "name": "stdout",
     "output_type": "stream",
     "text": [
      "https://serpapi.com/search\n",
      "https://serpapi.com/search\n",
      "https://serpapi.com/search\n"
     ]
    },
    {
     "name": "stderr",
     "output_type": "stream",
     "text": [
      "\r",
      " 65%|██████████████████████████████████████████████████████████▊                                | 119/184 [14:14<06:19,  5.84s/it]"
     ]
    },
    {
     "name": "stdout",
     "output_type": "stream",
     "text": [
      "https://serpapi.com/search\n",
      "https://serpapi.com/search\n",
      "https://serpapi.com/search\n"
     ]
    },
    {
     "name": "stderr",
     "output_type": "stream",
     "text": [
      "\r",
      " 65%|███████████████████████████████████████████████████████████▎                               | 120/184 [14:16<05:07,  4.81s/it]"
     ]
    },
    {
     "name": "stdout",
     "output_type": "stream",
     "text": [
      "https://serpapi.com/search\n",
      "https://serpapi.com/search\n"
     ]
    },
    {
     "name": "stderr",
     "output_type": "stream",
     "text": [
      "\r",
      " 66%|███████████████████████████████████████████████████████████▊                               | 121/184 [14:24<06:01,  5.73s/it]"
     ]
    },
    {
     "name": "stdout",
     "output_type": "stream",
     "text": [
      "https://serpapi.com/search\n",
      "https://serpapi.com/search\n"
     ]
    },
    {
     "name": "stderr",
     "output_type": "stream",
     "text": [
      "\r",
      " 66%|████████████████████████████████████████████████████████████▎                              | 122/184 [14:27<05:11,  5.02s/it]"
     ]
    },
    {
     "name": "stdout",
     "output_type": "stream",
     "text": [
      "https://serpapi.com/search\n",
      "https://serpapi.com/search\n"
     ]
    },
    {
     "name": "stderr",
     "output_type": "stream",
     "text": [
      "\r",
      " 67%|████████████████████████████████████████████████████████████▊                              | 123/184 [14:29<04:02,  3.97s/it]"
     ]
    },
    {
     "name": "stdout",
     "output_type": "stream",
     "text": [
      "https://serpapi.com/search\n",
      "https://serpapi.com/search\n"
     ]
    },
    {
     "name": "stderr",
     "output_type": "stream",
     "text": [
      "\r",
      " 67%|█████████████████████████████████████████████████████████████▎                             | 124/184 [14:31<03:27,  3.46s/it]"
     ]
    },
    {
     "name": "stdout",
     "output_type": "stream",
     "text": [
      "https://serpapi.com/search\n",
      "https://serpapi.com/search\n"
     ]
    },
    {
     "name": "stderr",
     "output_type": "stream",
     "text": [
      "\r",
      " 68%|█████████████████████████████████████████████████████████████▊                             | 125/184 [14:33<02:53,  2.93s/it]"
     ]
    },
    {
     "name": "stdout",
     "output_type": "stream",
     "text": [
      "https://serpapi.com/search\n",
      "https://serpapi.com/search\n",
      "https://serpapi.com/search\n",
      "https://serpapi.com/search\n"
     ]
    },
    {
     "name": "stderr",
     "output_type": "stream",
     "text": [
      "\r",
      " 68%|██████████████████████████████████████████████████████████████▎                            | 126/184 [14:35<02:37,  2.72s/it]"
     ]
    },
    {
     "name": "stdout",
     "output_type": "stream",
     "text": [
      "https://serpapi.com/search\n",
      "https://serpapi.com/search\n",
      "https://serpapi.com/search\n"
     ]
    },
    {
     "name": "stderr",
     "output_type": "stream",
     "text": [
      "\r",
      " 69%|██████████████████████████████████████████████████████████████▊                            | 127/184 [14:41<03:34,  3.76s/it]"
     ]
    },
    {
     "name": "stdout",
     "output_type": "stream",
     "text": [
      "https://serpapi.com/search\n",
      "https://serpapi.com/search\n",
      "https://serpapi.com/search\n"
     ]
    },
    {
     "name": "stderr",
     "output_type": "stream",
     "text": [
      "\r",
      " 70%|███████████████████████████████████████████████████████████████▎                           | 128/184 [14:51<05:21,  5.74s/it]"
     ]
    },
    {
     "name": "stdout",
     "output_type": "stream",
     "text": [
      "https://serpapi.com/search\n",
      "https://serpapi.com/search\n",
      "https://serpapi.com/search\n",
      "https://serpapi.com/search\n"
     ]
    },
    {
     "name": "stderr",
     "output_type": "stream",
     "text": [
      "\r",
      " 70%|███████████████████████████████████████████████████████████████▊                           | 129/184 [14:52<03:56,  4.31s/it]"
     ]
    },
    {
     "name": "stdout",
     "output_type": "stream",
     "text": [
      "https://serpapi.com/search\n",
      "https://serpapi.com/search\n",
      "https://serpapi.com/search\n",
      "https://serpapi.com/search\n"
     ]
    },
    {
     "name": "stderr",
     "output_type": "stream",
     "text": [
      "\r",
      " 71%|████████████████████████████████████████████████████████████████▎                          | 130/184 [15:03<05:39,  6.29s/it]"
     ]
    },
    {
     "name": "stdout",
     "output_type": "stream",
     "text": [
      "https://serpapi.com/search\n",
      "https://serpapi.com/search\n",
      "https://serpapi.com/search\n",
      "https://serpapi.com/search\n",
      "https://serpapi.com/search\n",
      "https://serpapi.com/search\n"
     ]
    },
    {
     "name": "stderr",
     "output_type": "stream",
     "text": [
      "\r",
      " 71%|████████████████████████████████████████████████████████████████▊                          | 131/184 [15:19<08:01,  9.09s/it]"
     ]
    },
    {
     "name": "stdout",
     "output_type": "stream",
     "text": [
      "https://serpapi.com/search\n",
      "https://serpapi.com/search\n"
     ]
    },
    {
     "name": "stderr",
     "output_type": "stream",
     "text": [
      "\r",
      " 72%|█████████████████████████████████████████████████████████████████▎                         | 132/184 [15:23<06:33,  7.57s/it]"
     ]
    },
    {
     "name": "stdout",
     "output_type": "stream",
     "text": [
      "https://serpapi.com/search\n",
      "https://serpapi.com/search\n",
      "https://serpapi.com/search\n"
     ]
    },
    {
     "name": "stderr",
     "output_type": "stream",
     "text": [
      "\r",
      " 72%|█████████████████████████████████████████████████████████████████▊                         | 133/184 [15:26<05:12,  6.12s/it]"
     ]
    },
    {
     "name": "stdout",
     "output_type": "stream",
     "text": [
      "https://serpapi.com/search\n",
      "https://serpapi.com/search\n"
     ]
    },
    {
     "name": "stderr",
     "output_type": "stream",
     "text": [
      "\r",
      " 73%|██████████████████████████████████████████████████████████████████▎                        | 134/184 [15:30<04:33,  5.47s/it]"
     ]
    },
    {
     "name": "stdout",
     "output_type": "stream",
     "text": [
      "https://serpapi.com/search\n",
      "https://serpapi.com/search\n"
     ]
    },
    {
     "name": "stderr",
     "output_type": "stream",
     "text": [
      "\r",
      " 73%|██████████████████████████████████████████████████████████████████▊                        | 135/184 [15:31<03:33,  4.36s/it]"
     ]
    },
    {
     "name": "stdout",
     "output_type": "stream",
     "text": [
      "https://serpapi.com/search\n",
      "https://serpapi.com/search\n"
     ]
    },
    {
     "name": "stderr",
     "output_type": "stream",
     "text": [
      "\r",
      " 74%|███████████████████████████████████████████████████████████████████▎                       | 136/184 [15:34<02:56,  3.68s/it]"
     ]
    },
    {
     "name": "stdout",
     "output_type": "stream",
     "text": [
      "https://serpapi.com/search\n",
      "https://serpapi.com/search\n",
      "https://serpapi.com/search\n"
     ]
    },
    {
     "name": "stderr",
     "output_type": "stream",
     "text": [
      "\r",
      " 74%|███████████████████████████████████████████████████████████████████▊                       | 137/184 [15:34<02:11,  2.80s/it]"
     ]
    },
    {
     "name": "stdout",
     "output_type": "stream",
     "text": [
      "https://serpapi.com/search\n"
     ]
    },
    {
     "name": "stderr",
     "output_type": "stream",
     "text": [
      "\r",
      " 75%|████████████████████████████████████████████████████████████████████▎                      | 138/184 [15:36<01:50,  2.40s/it]"
     ]
    },
    {
     "name": "stdout",
     "output_type": "stream",
     "text": [
      "https://serpapi.com/search\n",
      "https://serpapi.com/search\n",
      "https://serpapi.com/search\n",
      "https://serpapi.com/search\n"
     ]
    },
    {
     "name": "stderr",
     "output_type": "stream",
     "text": [
      "\r",
      " 76%|████████████████████████████████████████████████████████████████████▋                      | 139/184 [15:43<02:57,  3.94s/it]"
     ]
    },
    {
     "name": "stdout",
     "output_type": "stream",
     "text": [
      "https://serpapi.com/search\n",
      "https://serpapi.com/search\n"
     ]
    },
    {
     "name": "stderr",
     "output_type": "stream",
     "text": [
      "\r",
      " 76%|█████████████████████████████████████████████████████████████████████▏                     | 140/184 [15:45<02:29,  3.39s/it]"
     ]
    },
    {
     "name": "stdout",
     "output_type": "stream",
     "text": [
      "https://serpapi.com/search\n",
      "https://serpapi.com/search\n"
     ]
    },
    {
     "name": "stderr",
     "output_type": "stream",
     "text": [
      "\r",
      " 77%|█████████████████████████████████████████████████████████████████████▋                     | 141/184 [15:49<02:31,  3.52s/it]"
     ]
    },
    {
     "name": "stdout",
     "output_type": "stream",
     "text": [
      "https://serpapi.com/search\n",
      "https://serpapi.com/search\n",
      "https://serpapi.com/search\n",
      "https://serpapi.com/search\n",
      "https://serpapi.com/search\n"
     ]
    },
    {
     "name": "stderr",
     "output_type": "stream",
     "text": [
      "\r",
      " 77%|██████████████████████████████████████████████████████████████████████▏                    | 142/184 [15:57<03:15,  4.65s/it]"
     ]
    },
    {
     "name": "stdout",
     "output_type": "stream",
     "text": [
      "https://serpapi.com/search\n",
      "https://serpapi.com/search\n"
     ]
    },
    {
     "name": "stderr",
     "output_type": "stream",
     "text": [
      "\r",
      " 78%|██████████████████████████████████████████████████████████████████████▋                    | 143/184 [16:03<03:32,  5.19s/it]"
     ]
    },
    {
     "name": "stdout",
     "output_type": "stream",
     "text": [
      "https://serpapi.com/search\n",
      "https://serpapi.com/search\n"
     ]
    },
    {
     "name": "stderr",
     "output_type": "stream",
     "text": [
      "\r",
      " 78%|███████████████████████████████████████████████████████████████████████▏                   | 144/184 [16:13<04:19,  6.50s/it]"
     ]
    },
    {
     "name": "stdout",
     "output_type": "stream",
     "text": [
      "https://serpapi.com/search\n",
      "https://serpapi.com/search\n",
      "https://serpapi.com/search\n"
     ]
    },
    {
     "name": "stderr",
     "output_type": "stream",
     "text": [
      "\r",
      " 79%|███████████████████████████████████████████████████████████████████████▋                   | 145/184 [16:17<03:45,  5.79s/it]"
     ]
    },
    {
     "name": "stdout",
     "output_type": "stream",
     "text": [
      "https://serpapi.com/search\n",
      "https://serpapi.com/search\n"
     ]
    },
    {
     "name": "stderr",
     "output_type": "stream",
     "text": [
      "\r",
      " 79%|████████████████████████████████████████████████████████████████████████▏                  | 146/184 [16:23<03:41,  5.83s/it]"
     ]
    },
    {
     "name": "stdout",
     "output_type": "stream",
     "text": [
      "https://serpapi.com/search\n",
      "https://serpapi.com/search\n"
     ]
    },
    {
     "name": "stderr",
     "output_type": "stream",
     "text": [
      "\r",
      " 80%|████████████████████████████████████████████████████████████████████████▋                  | 147/184 [16:25<02:58,  4.84s/it]"
     ]
    },
    {
     "name": "stdout",
     "output_type": "stream",
     "text": [
      "https://serpapi.com/search\n",
      "https://serpapi.com/search\n",
      "https://serpapi.com/search\n"
     ]
    },
    {
     "name": "stderr",
     "output_type": "stream",
     "text": [
      "\r",
      " 80%|█████████████████████████████████████████████████████████████████████████▏                 | 148/184 [16:31<03:01,  5.03s/it]"
     ]
    },
    {
     "name": "stdout",
     "output_type": "stream",
     "text": [
      "https://serpapi.com/search\n"
     ]
    },
    {
     "name": "stderr",
     "output_type": "stream",
     "text": [
      "\r",
      " 81%|█████████████████████████████████████████████████████████████████████████▋                 | 149/184 [16:34<02:36,  4.48s/it]"
     ]
    },
    {
     "name": "stdout",
     "output_type": "stream",
     "text": [
      "https://serpapi.com/search\n",
      "https://serpapi.com/search\n",
      "https://serpapi.com/search\n"
     ]
    },
    {
     "name": "stderr",
     "output_type": "stream",
     "text": [
      "\r",
      " 82%|██████████████████████████████████████████████████████████████████████████▏                | 150/184 [16:36<02:14,  3.94s/it]"
     ]
    },
    {
     "name": "stdout",
     "output_type": "stream",
     "text": [
      "https://serpapi.com/search\n",
      "https://serpapi.com/search\n"
     ]
    },
    {
     "name": "stderr",
     "output_type": "stream",
     "text": [
      "\r",
      " 82%|██████████████████████████████████████████████████████████████████████████▋                | 151/184 [16:40<02:01,  3.69s/it]"
     ]
    },
    {
     "name": "stdout",
     "output_type": "stream",
     "text": [
      "https://serpapi.com/search\n"
     ]
    },
    {
     "name": "stderr",
     "output_type": "stream",
     "text": [
      "\r",
      " 83%|███████████████████████████████████████████████████████████████████████████▏               | 152/184 [16:40<01:25,  2.67s/it]"
     ]
    },
    {
     "name": "stdout",
     "output_type": "stream",
     "text": [
      "https://serpapi.com/search\n",
      "https://serpapi.com/search\n",
      "https://serpapi.com/search\n"
     ]
    },
    {
     "name": "stderr",
     "output_type": "stream",
     "text": [
      "\r",
      " 83%|███████████████████████████████████████████████████████████████████████████▋               | 153/184 [16:42<01:19,  2.57s/it]"
     ]
    },
    {
     "name": "stdout",
     "output_type": "stream",
     "text": [
      "https://serpapi.com/search\n",
      "https://serpapi.com/search\n",
      "https://serpapi.com/search\n",
      "https://serpapi.com/search\n"
     ]
    },
    {
     "name": "stderr",
     "output_type": "stream",
     "text": [
      "\r",
      " 84%|████████████████████████████████████████████████████████████████████████████▏              | 154/184 [16:47<01:41,  3.38s/it]"
     ]
    },
    {
     "name": "stdout",
     "output_type": "stream",
     "text": [
      "https://serpapi.com/search\n",
      "https://serpapi.com/search\n",
      "https://serpapi.com/search\n",
      "https://serpapi.com/search\n"
     ]
    },
    {
     "name": "stderr",
     "output_type": "stream",
     "text": [
      "\r",
      " 84%|████████████████████████████████████████████████████████████████████████████▋              | 155/184 [16:53<01:56,  4.01s/it]"
     ]
    },
    {
     "name": "stdout",
     "output_type": "stream",
     "text": [
      "https://serpapi.com/search\n",
      "https://serpapi.com/search\n"
     ]
    },
    {
     "name": "stderr",
     "output_type": "stream",
     "text": [
      "\r",
      " 85%|█████████████████████████████████████████████████████████████████████████████▏             | 156/184 [16:55<01:38,  3.51s/it]"
     ]
    },
    {
     "name": "stdout",
     "output_type": "stream",
     "text": [
      "https://serpapi.com/search\n",
      "https://serpapi.com/search\n",
      "https://serpapi.com/search\n"
     ]
    },
    {
     "name": "stderr",
     "output_type": "stream",
     "text": [
      "\r",
      " 85%|█████████████████████████████████████████████████████████████████████████████▋             | 157/184 [16:59<01:32,  3.43s/it]"
     ]
    },
    {
     "name": "stdout",
     "output_type": "stream",
     "text": [
      "https://serpapi.com/search\n",
      "https://serpapi.com/search\n"
     ]
    },
    {
     "name": "stderr",
     "output_type": "stream",
     "text": [
      "\r",
      " 86%|██████████████████████████████████████████████████████████████████████████████▏            | 158/184 [17:03<01:33,  3.59s/it]"
     ]
    },
    {
     "name": "stdout",
     "output_type": "stream",
     "text": [
      "https://serpapi.com/search\n",
      "https://serpapi.com/search\n",
      "https://serpapi.com/search\n"
     ]
    },
    {
     "name": "stderr",
     "output_type": "stream",
     "text": [
      "\r",
      " 86%|██████████████████████████████████████████████████████████████████████████████▋            | 159/184 [17:08<01:41,  4.05s/it]"
     ]
    },
    {
     "name": "stdout",
     "output_type": "stream",
     "text": [
      "https://serpapi.com/search\n",
      "https://serpapi.com/search\n",
      "https://serpapi.com/search\n"
     ]
    },
    {
     "name": "stderr",
     "output_type": "stream",
     "text": [
      "\r",
      " 87%|███████████████████████████████████████████████████████████████████████████████▏           | 160/184 [17:14<01:50,  4.62s/it]"
     ]
    },
    {
     "name": "stdout",
     "output_type": "stream",
     "text": [
      "https://serpapi.com/search\n",
      "https://serpapi.com/search\n",
      "https://serpapi.com/search\n"
     ]
    },
    {
     "name": "stderr",
     "output_type": "stream",
     "text": [
      "\r",
      " 88%|███████████████████████████████████████████████████████████████████████████████▋           | 161/184 [17:22<02:10,  5.68s/it]"
     ]
    },
    {
     "name": "stdout",
     "output_type": "stream",
     "text": [
      "https://serpapi.com/search\n",
      "https://serpapi.com/search\n"
     ]
    },
    {
     "name": "stderr",
     "output_type": "stream",
     "text": [
      "\r",
      " 88%|████████████████████████████████████████████████████████████████████████████████           | 162/184 [17:24<01:40,  4.58s/it]"
     ]
    },
    {
     "name": "stdout",
     "output_type": "stream",
     "text": [
      "https://serpapi.com/search\n",
      "https://serpapi.com/search\n"
     ]
    },
    {
     "name": "stderr",
     "output_type": "stream",
     "text": [
      "\r",
      " 89%|████████████████████████████████████████████████████████████████████████████████▌          | 163/184 [17:27<01:25,  4.07s/it]"
     ]
    },
    {
     "name": "stdout",
     "output_type": "stream",
     "text": [
      "https://serpapi.com/search\n",
      "https://serpapi.com/search\n"
     ]
    },
    {
     "name": "stderr",
     "output_type": "stream",
     "text": [
      "\r",
      " 89%|█████████████████████████████████████████████████████████████████████████████████          | 164/184 [17:30<01:16,  3.84s/it]"
     ]
    },
    {
     "name": "stdout",
     "output_type": "stream",
     "text": [
      "https://serpapi.com/search\n",
      "https://serpapi.com/search\n",
      "https://serpapi.com/search\n",
      "https://serpapi.com/search\n"
     ]
    },
    {
     "name": "stderr",
     "output_type": "stream",
     "text": [
      "\r",
      " 90%|█████████████████████████████████████████████████████████████████████████████████▌         | 165/184 [17:33<01:08,  3.62s/it]"
     ]
    },
    {
     "name": "stdout",
     "output_type": "stream",
     "text": [
      "https://serpapi.com/search\n",
      "https://serpapi.com/search\n",
      "https://serpapi.com/search\n",
      "https://serpapi.com/search\n"
     ]
    },
    {
     "name": "stderr",
     "output_type": "stream",
     "text": [
      "\r",
      " 90%|██████████████████████████████████████████████████████████████████████████████████         | 166/184 [17:40<01:25,  4.75s/it]"
     ]
    },
    {
     "name": "stdout",
     "output_type": "stream",
     "text": [
      "https://serpapi.com/search\n",
      "https://serpapi.com/search\n"
     ]
    },
    {
     "name": "stderr",
     "output_type": "stream",
     "text": [
      "\r",
      " 91%|██████████████████████████████████████████████████████████████████████████████████▌        | 167/184 [17:43<01:11,  4.21s/it]"
     ]
    },
    {
     "name": "stdout",
     "output_type": "stream",
     "text": [
      "https://serpapi.com/search\n",
      "https://serpapi.com/search\n"
     ]
    },
    {
     "name": "stderr",
     "output_type": "stream",
     "text": [
      "\r",
      " 91%|███████████████████████████████████████████████████████████████████████████████████        | 168/184 [17:44<00:49,  3.11s/it]"
     ]
    },
    {
     "name": "stdout",
     "output_type": "stream",
     "text": [
      "https://serpapi.com/search\n",
      "https://serpapi.com/search\n",
      "https://serpapi.com/search\n",
      "https://serpapi.com/search\n"
     ]
    },
    {
     "name": "stderr",
     "output_type": "stream",
     "text": [
      "\r",
      " 92%|███████████████████████████████████████████████████████████████████████████████████▌       | 169/184 [17:49<00:55,  3.72s/it]"
     ]
    },
    {
     "name": "stdout",
     "output_type": "stream",
     "text": [
      "https://serpapi.com/search\n",
      "https://serpapi.com/search\n",
      "https://serpapi.com/search\n"
     ]
    },
    {
     "name": "stderr",
     "output_type": "stream",
     "text": [
      "\r",
      " 92%|████████████████████████████████████████████████████████████████████████████████████       | 170/184 [17:59<01:17,  5.54s/it]"
     ]
    },
    {
     "name": "stdout",
     "output_type": "stream",
     "text": [
      "https://serpapi.com/search\n",
      "https://serpapi.com/search\n"
     ]
    },
    {
     "name": "stderr",
     "output_type": "stream",
     "text": [
      "\r",
      " 93%|████████████████████████████████████████████████████████████████████████████████████▌      | 171/184 [18:01<00:59,  4.54s/it]"
     ]
    },
    {
     "name": "stdout",
     "output_type": "stream",
     "text": [
      "https://serpapi.com/search\n",
      "https://serpapi.com/search\n",
      "https://serpapi.com/search\n"
     ]
    },
    {
     "name": "stderr",
     "output_type": "stream",
     "text": [
      "\r",
      " 93%|█████████████████████████████████████████████████████████████████████████████████████      | 172/184 [18:03<00:45,  3.76s/it]"
     ]
    },
    {
     "name": "stdout",
     "output_type": "stream",
     "text": [
      "https://serpapi.com/search\n",
      "https://serpapi.com/search\n",
      "https://serpapi.com/search\n",
      "https://serpapi.com/search\n"
     ]
    },
    {
     "name": "stderr",
     "output_type": "stream",
     "text": [
      "\r",
      " 94%|█████████████████████████████████████████████████████████████████████████████████████▌     | 173/184 [18:22<01:31,  8.31s/it]"
     ]
    },
    {
     "name": "stdout",
     "output_type": "stream",
     "text": [
      "https://serpapi.com/search\n",
      "https://serpapi.com/search\n",
      "https://serpapi.com/search\n",
      "https://serpapi.com/search\n"
     ]
    },
    {
     "name": "stderr",
     "output_type": "stream",
     "text": [
      "\r",
      " 95%|██████████████████████████████████████████████████████████████████████████████████████     | 174/184 [18:35<01:38,  9.88s/it]"
     ]
    },
    {
     "name": "stdout",
     "output_type": "stream",
     "text": [
      "https://serpapi.com/search\n",
      "https://serpapi.com/search\n",
      "https://serpapi.com/search\n"
     ]
    },
    {
     "name": "stderr",
     "output_type": "stream",
     "text": [
      "\r",
      " 95%|██████████████████████████████████████████████████████████████████████████████████████▌    | 175/184 [18:38<01:08,  7.65s/it]"
     ]
    },
    {
     "name": "stdout",
     "output_type": "stream",
     "text": [
      "https://serpapi.com/search\n",
      "https://serpapi.com/search\n",
      "https://serpapi.com/search\n"
     ]
    },
    {
     "name": "stderr",
     "output_type": "stream",
     "text": [
      "\r",
      " 96%|███████████████████████████████████████████████████████████████████████████████████████    | 176/184 [18:40<00:48,  6.05s/it]"
     ]
    },
    {
     "name": "stdout",
     "output_type": "stream",
     "text": [
      "https://serpapi.com/search\n",
      "https://serpapi.com/search\n"
     ]
    },
    {
     "name": "stderr",
     "output_type": "stream",
     "text": [
      "\r",
      " 96%|███████████████████████████████████████████████████████████████████████████████████████▌   | 177/184 [18:42<00:32,  4.61s/it]"
     ]
    },
    {
     "name": "stdout",
     "output_type": "stream",
     "text": [
      "https://serpapi.com/search\n",
      "https://serpapi.com/search\n"
     ]
    },
    {
     "name": "stderr",
     "output_type": "stream",
     "text": [
      "\r",
      " 97%|████████████████████████████████████████████████████████████████████████████████████████   | 178/184 [18:44<00:24,  4.01s/it]"
     ]
    },
    {
     "name": "stdout",
     "output_type": "stream",
     "text": [
      "https://serpapi.com/search\n",
      "https://serpapi.com/search\n",
      "https://serpapi.com/search\n"
     ]
    },
    {
     "name": "stderr",
     "output_type": "stream",
     "text": [
      "\r",
      " 97%|████████████████████████████████████████████████████████████████████████████████████████▌  | 179/184 [18:46<00:16,  3.36s/it]"
     ]
    },
    {
     "name": "stdout",
     "output_type": "stream",
     "text": [
      "https://serpapi.com/search\n",
      "https://serpapi.com/search\n",
      "https://serpapi.com/search\n"
     ]
    },
    {
     "name": "stderr",
     "output_type": "stream",
     "text": [
      "\r",
      " 98%|█████████████████████████████████████████████████████████████████████████████████████████  | 180/184 [18:48<00:11,  2.89s/it]"
     ]
    },
    {
     "name": "stdout",
     "output_type": "stream",
     "text": [
      "https://serpapi.com/search\n",
      "https://serpapi.com/search\n",
      "https://serpapi.com/search\n"
     ]
    },
    {
     "name": "stderr",
     "output_type": "stream",
     "text": [
      "\r",
      " 98%|█████████████████████████████████████████████████████████████████████████████████████████▌ | 181/184 [18:50<00:08,  2.70s/it]"
     ]
    },
    {
     "name": "stdout",
     "output_type": "stream",
     "text": [
      "https://serpapi.com/search\n",
      "https://serpapi.com/search\n",
      "https://serpapi.com/search\n",
      "https://serpapi.com/search\n"
     ]
    },
    {
     "name": "stderr",
     "output_type": "stream",
     "text": [
      "\r",
      " 99%|██████████████████████████████████████████████████████████████████████████████████████████ | 182/184 [18:53<00:05,  2.66s/it]"
     ]
    },
    {
     "name": "stdout",
     "output_type": "stream",
     "text": [
      "https://serpapi.com/search\n",
      "https://serpapi.com/search\n",
      "https://serpapi.com/search\n",
      "https://serpapi.com/search\n"
     ]
    },
    {
     "name": "stderr",
     "output_type": "stream",
     "text": [
      "\r",
      " 99%|██████████████████████████████████████████████████████████████████████████████████████████▌| 183/184 [18:56<00:02,  2.91s/it]"
     ]
    },
    {
     "name": "stdout",
     "output_type": "stream",
     "text": [
      "https://serpapi.com/search\n",
      "https://serpapi.com/search\n"
     ]
    },
    {
     "name": "stderr",
     "output_type": "stream",
     "text": [
      "100%|███████████████████████████████████████████████████████████████████████████████████████████| 184/184 [19:08<00:00,  6.24s/it]\n"
     ]
    }
   ],
   "source": [
    "search_background = []\n",
    "all_search_dict = []\n",
    "entity_list = []\n",
    "for x in tqdm.tqdm(inputs):\n",
    "    entity_list.append(findEntities(x))\n",
    "for ex in tqdm.tqdm(entity_list):\n",
    "    ents = ex[0].split(\"\\n\")\n",
    "    combined_output = \"\"\n",
    "    search_dict = []\n",
    "    for entity in ents:\n",
    "        search_results = search_entity(entity)\n",
    "        search_dict.append(search_results)\n",
    "        search_prompt = render_results(search_results)\n",
    "        combined_output += search_prompt + \"\\n\"\n",
    "    search_background.append(combined_output)\n",
    "    all_search_dict.append(search_dict)"
   ]
  },
  {
   "cell_type": "code",
   "execution_count": 317,
   "id": "6ee53874",
   "metadata": {},
   "outputs": [
    {
     "data": {
      "text/plain": [
       "{'search_metadata': {'id': '633bb20c0f9866f823973b67',\n",
       "  'status': 'Success',\n",
       "  'json_endpoint': 'https://serpapi.com/searches/b13874963a95fce2/633bb20c0f9866f823973b67.json',\n",
       "  'created_at': '2022-10-04 04:09:48 UTC',\n",
       "  'processed_at': '2022-10-04 04:09:48 UTC',\n",
       "  'google_url': 'https://www.google.com/search?q=What+time+period+does+Elon+Musk+belong+to%3F+When+was+it+created+or+born%3F&oq=What+time+period+does+Elon+Musk+belong+to%3F+When+was+it+created+or+born%3F&hl=en&gl=us&sourceid=chrome&ie=UTF-8',\n",
       "  'raw_html_file': 'https://serpapi.com/searches/b13874963a95fce2/633bb20c0f9866f823973b67.html',\n",
       "  'total_time_taken': 1.09},\n",
       " 'search_parameters': {'engine': 'google',\n",
       "  'q': 'What time period does Elon Musk belong to? When was it created or born?',\n",
       "  'google_domain': 'google.com',\n",
       "  'hl': 'en',\n",
       "  'gl': 'us',\n",
       "  'device': 'desktop'},\n",
       " 'search_information': {'organic_results_state': 'Results for exact spelling',\n",
       "  'query_displayed': 'What time period does Elon Musk belong to? When was it created or born?',\n",
       "  'total_results': 26600000,\n",
       "  'time_taken_displayed': 0.72,\n",
       "  'menu_items': [{'position': 1, 'title': 'All'},\n",
       "   {'position': 2,\n",
       "    'title': 'News',\n",
       "    'link': 'https://www.google.com/search?q=What+time+period+does+Elon+Musk+belong+to%3F+When+was+it+created+or+born%3F&gl=us&hl=en&source=lnms&tbm=nws&sa=X&ved=2ahUKEwiBnNuM2sX6AhXNTTABHUf3ACwQ_AUoAXoECAEQAw',\n",
       "    'serpapi_link': 'https://serpapi.com/search.json?device=desktop&engine=google&gl=us&google_domain=google.com&hl=en&q=What+time+period+does+Elon+Musk+belong+to%3F+When+was+it+created+or+born%3F&tbm=nws'},\n",
       "   {'position': 3,\n",
       "    'title': 'Images',\n",
       "    'link': 'https://www.google.com/search?q=What+time+period+does+Elon+Musk+belong+to%3F+When+was+it+created+or+born%3F&gl=us&hl=en&source=lnms&tbm=isch&sa=X&ved=2ahUKEwiBnNuM2sX6AhXNTTABHUf3ACwQ_AUoAnoECAEQBA',\n",
       "    'serpapi_link': 'https://serpapi.com/search.json?device=desktop&engine=google&gl=us&google_domain=google.com&hl=en&q=What+time+period+does+Elon+Musk+belong+to%3F+When+was+it+created+or+born%3F&tbm=isch'},\n",
       "   {'position': 4,\n",
       "    'title': 'Books',\n",
       "    'link': 'https://www.google.com/search?q=What+time+period+does+Elon+Musk+belong+to%3F+When+was+it+created+or+born%3F&gl=us&hl=en&source=lnms&tbm=bks&sa=X&ved=2ahUKEwiBnNuM2sX6AhXNTTABHUf3ACwQ_AUoA3oECAEQBQ'},\n",
       "   {'position': 5,\n",
       "    'title': 'Shopping',\n",
       "    'link': 'https://www.google.com/search?q=What+time+period+does+Elon+Musk+belong+to%3F+When+was+it+created+or+born%3F&gl=us&hl=en&source=lnms&tbm=shop&sa=X&ved=2ahUKEwiBnNuM2sX6AhXNTTABHUf3ACwQ_AUoBHoECAEQBg',\n",
       "    'serpapi_link': 'https://serpapi.com/search.json?device=desktop&engine=google&gl=us&google_domain=google.com&hl=en&q=What+time+period+does+Elon+Musk+belong+to%3F+When+was+it+created+or+born%3F&tbm=shop'}]},\n",
       " 'inline_people_also_search_for': [{'title': 'Elon Musk companies',\n",
       "   'items': [{'name': 'Tesla, Inc.',\n",
       "     'image': 'https://encrypted-tbn0.gstatic.com/images?q=tbn:ANd9GcTXT8htU8ZcDc52ZS6Yfif5KUn6RwJrt_4psJYS&s=0',\n",
       "     'link': 'https://www.google.com/search?gl=us&hl=en&q=Tesla,+Inc.&stick=H4sIAAAAAAAAAOOQUeLUz9U3SCmyNEgxEk7Nyc9TyC0tzlZIzs8tSMzLTC2Ocg3PSCxRKMnMTVUoSC3KzE9RSMlPLVZwBSn1BSlNAulKVyjJVwjPSM1TKE8sVsgsUUguSk0sSU1RyC9SSMovyjvFiLAHyjZOy64sP8XIq5-ub2iYVFVhUlSQlgPjp1TkmJXFp6XB5SuSzUzNysxOMXKD-EZGxZaG8aanGLnAJiVVZRun_2IURjgK7v4GFsZFrNwhqcU5iToKnnnJerfYJBlMP7YyzbVJ1FSXLX1eXOIjZDT3ZimDxb45AObvGmQPAQAA&sa=X&ved=2ahUKEwiBnNuM2sX6AhXNTTABHUf3ACwQs9oBKAB6BAg8EAI',\n",
       "     'serpapi_link': 'https://serpapi.com/search.json?device=desktop&engine=google&gl=us&google_domain=google.com&hl=en&q=Tesla%2C+Inc.&stick=H4sIAAAAAAAAAOOQUeLUz9U3SCmyNEgxEk7Nyc9TyC0tzlZIzs8tSMzLTC2Ocg3PSCxRKMnMTVUoSC3KzE9RSMlPLVZwBSn1BSlNAulKVyjJVwjPSM1TKE8sVsgsUUguSk0sSU1RyC9SSMovyjvFiLAHyjZOy64sP8XIq5-ub2iYVFVhUlSQlgPjp1TkmJXFp6XB5SuSzUzNysxOMXKD-EZGxZaG8aanGLnAJiVVZRun_2IURjgK7v4GFsZFrNwhqcU5iToKnnnJerfYJBlMP7YyzbVJ1FSXLX1eXOIjZDT3ZimDxb45AObvGmQPAQAA'},\n",
       "    {'name': 'SpaceX',\n",
       "     'image': 'https://encrypted-tbn0.gstatic.com/images?q=tbn:ANd9GcSIo3aiDFFoZpZi_M6nYPGGLqG3Sqt1j1Vz7PvS&s=0',\n",
       "     'link': 'https://www.google.com/search?gl=us&hl=en&q=SpaceX&stick=H4sIAAAAAAAAAOOQUeLUz9U3ME7Lriw3Ek7Nyc9TyC0tzlZIzs8tSMzLTC2Ocg3PSCxRKMnMTVUoSC3KzE9RSMlPLVZwBSn1BSlNAulKVyjJVwjPSM1TKE8sVsgsUUguSk0sSU1RyC9SSMovyjvFCLYnpcjSIAXKBtt5ipFXP13f0DCpqsKkqCAtB8ZPqcgxK4tPS4PLVySbmZqVmZ1i5AbxjYyKLQ3jTU8xcoFNSqrKNk7_xSiMcBTc_Q0sjItY2YILEpNTI26xSTKYfmxlmmuTqKkuW_q8uMRHyGjuzVIGi31zAA59V2gKAQAA&sa=X&ved=2ahUKEwiBnNuM2sX6AhXNTTABHUf3ACwQs9oBKAF6BAg8EAM',\n",
       "     'serpapi_link': 'https://serpapi.com/search.json?device=desktop&engine=google&gl=us&google_domain=google.com&hl=en&q=SpaceX&stick=H4sIAAAAAAAAAOOQUeLUz9U3ME7Lriw3Ek7Nyc9TyC0tzlZIzs8tSMzLTC2Ocg3PSCxRKMnMTVUoSC3KzE9RSMlPLVZwBSn1BSlNAulKVyjJVwjPSM1TKE8sVsgsUUguSk0sSU1RyC9SSMovyjvFCLYnpcjSIAXKBtt5ipFXP13f0DCpqsKkqCAtB8ZPqcgxK4tPS4PLVySbmZqVmZ1i5AbxjYyKLQ3jTU8xcoFNSqrKNk7_xSiMcBTc_Q0sjItY2YILEpNTI26xSTKYfmxlmmuTqKkuW_q8uMRHyGjuzVIGi31zAA59V2gKAQAA'},\n",
       "    {'name': 'Zip2',\n",
       "     'image': 'https://encrypted-tbn0.gstatic.com/images?q=tbn:ANd9GcSZL6WvTyK3qChYtfKmRhyt0hZ3pqfg1EwTGPH6&s=0',\n",
       "     'link': 'https://www.google.com/search?gl=us&hl=en&q=Zip2&stick=H4sIAAAAAAAAAOOQUeLVT9c3NEyqqjApKkjLMRJOzcnPU8gtLc5WSM7PLUjMy0wtjnINz0gsUSjJzE1VKEgtysxPUUjJTy1WcAUp9QUpTQLpSlcoyVcIz0jNUyhPLFbILFFILkpNLElNUcgvUkjKL8o7xcipn6tvkFJkaZACZRunZVeWn2JEdQOMn1KRY1YWn5YGl69INjM1KzM7xcgN4hsZFVsaxpueYuQCm5RUlW2c_otRGOEouPsbWBgXsbJEZRYY3WKTZDD92Mo01yZRU1229HlxiY-Q0dybpQwW--YAAFb0udsMAQAA&sa=X&ved=2ahUKEwiBnNuM2sX6AhXNTTABHUf3ACwQs9oBKAJ6BAg8EAQ',\n",
       "     'serpapi_link': 'https://serpapi.com/search.json?device=desktop&engine=google&gl=us&google_domain=google.com&hl=en&q=Zip2&stick=H4sIAAAAAAAAAOOQUeLVT9c3NEyqqjApKkjLMRJOzcnPU8gtLc5WSM7PLUjMy0wtjnINz0gsUSjJzE1VKEgtysxPUUjJTy1WcAUp9QUpTQLpSlcoyVcIz0jNUyhPLFbILFFILkpNLElNUcgvUkjKL8o7xcipn6tvkFJkaZACZRunZVeWn2JEdQOMn1KRY1YWn5YGl69INjM1KzM7xcgN4hsZFVsaxpueYuQCm5RUlW2c_otRGOEouPsbWBgXsbJEZRYY3WKTZDD92Mo01yZRU1229HlxiY-Q0dybpQwW--YAAFb0udsMAQAA'},\n",
       "    {'name': 'Neuralink',\n",
       "     'image': 'https://encrypted-tbn0.gstatic.com/images?q=tbn:ANd9GcSx3oNnti-cOB434rMgCvbipOMVkWhI6cDy_eXY&s=0',\n",
       "     'link': 'https://www.google.com/search?gl=us&hl=en&q=Neuralink&stick=H4sIAAAAAAAAAOOQUeLVT9c3NEypyDEri09LMxJOzcnPU8gtLc5WSM7PLUjMy0wtjnINz0gsUSjJzE1VKEgtysxPUUjJTy1WcAUp9QUpTQLpSlcoyVcIz0jNUyhPLFbILFFILkpNLElNUcgvUkjKL8o7xcipn6tvkFJkaZACZRunZVeWn2KEuCGpqsKkqCAtB8aHuQkuX5FsZmpWZnaKkRvENzIqtjSMNz3FyAU2Kakq2zj9F6MwwlFw9zewMC5i5fRLLS1KzMnMy77FJslg-rGVaa5Noqa6bOnz4hIfIaO5N0sZLPbNAQCSuXr2EQEAAA&sa=X&ved=2ahUKEwiBnNuM2sX6AhXNTTABHUf3ACwQs9oBKAN6BAg8EAU',\n",
       "     'serpapi_link': 'https://serpapi.com/search.json?device=desktop&engine=google&gl=us&google_domain=google.com&hl=en&q=Neuralink&stick=H4sIAAAAAAAAAOOQUeLVT9c3NEypyDEri09LMxJOzcnPU8gtLc5WSM7PLUjMy0wtjnINz0gsUSjJzE1VKEgtysxPUUjJTy1WcAUp9QUpTQLpSlcoyVcIz0jNUyhPLFbILFFILkpNLElNUcgvUkjKL8o7xcipn6tvkFJkaZACZRunZVeWn2KEuCGpqsKkqCAtB8aHuQkuX5FsZmpWZnaKkRvENzIqtjSMNz3FyAU2Kakq2zj9F6MwwlFw9zewMC5i5fRLLS1KzMnMy77FJslg-rGVaa5Noqa6bOnz4hIfIaO5N0sZLPbNAQCSuXr2EQEAAA'},\n",
       "    {'name': 'OpenAI',\n",
       "     'image': 'https://encrypted-tbn0.gstatic.com/images?q=tbn:ANd9GcS5vXoiqdLUgGR0Nn9BCaCca3Zws-HslAaqQfaD&s=0',\n",
       "     'link': 'https://www.google.com/search?gl=us&hl=en&q=OpenAI&stick=H4sIAAAAAAAAAOOQUeLVT9c3NEyqSDYzNSszMxJOzcnPU8gtLc5WSM7PLUjMy0wtjnINz0gsUSjJzE1VKEgtysxPUUjJTy1WcAUp9QUpTQLpSlcoyVcIz0jNUyhPLFbILFFILkpNLElNUcgvUkjKL8o7xcipn6tvkFJkaZACZRunZVeWn2KEuqGqwqSoIC0Hxk-pyDEri09Lg8tD3XiKkRvENzIqtjSMNz3FyAU2Kakq2zj9F6MwwlFw9zewMC5iZfMvSM1z9LzFJslg-rGVaa5Noqa6bOnz4hIfIaO5N0sZLPbNAQCGMkEODgEAAA&sa=X&ved=2ahUKEwiBnNuM2sX6AhXNTTABHUf3ACwQs9oBKAR6BAg8EAY',\n",
       "     'serpapi_link': 'https://serpapi.com/search.json?device=desktop&engine=google&gl=us&google_domain=google.com&hl=en&q=OpenAI&stick=H4sIAAAAAAAAAOOQUeLVT9c3NEyqSDYzNSszMxJOzcnPU8gtLc5WSM7PLUjMy0wtjnINz0gsUSjJzE1VKEgtysxPUUjJTy1WcAUp9QUpTQLpSlcoyVcIz0jNUyhPLFbILFFILkpNLElNUcgvUkjKL8o7xcipn6tvkFJkaZACZRunZVeWn2KEuqGqwqSoIC0Hxk-pyDEri09Lg8tD3XiKkRvENzIqtjSMNz3FyAU2Kakq2zj9F6MwwlFw9zewMC5iZfMvSM1z9LzFJslg-rGVaa5Noqa6bOnz4hIfIaO5N0sZLPbNAQCGMkEODgEAAA'},\n",
       "    {'name': 'PayPal',\n",
       "     'image': 'https://encrypted-tbn0.gstatic.com/images?q=tbn:ANd9GcQ56hX5dCjaxRC58mr9Xc1nTU5ZIY81XsXgswin&s=0',\n",
       "     'link': 'https://www.google.com/search?gl=us&hl=en&q=PayPal&stick=H4sIAAAAAAAAAOOQUeLWT9c3NDIqtjSMNzUSTs3Jz1PILS3OVkjOzy1IzMtMLY5yDc9ILFEoycxNVShILcrMT1FIyU8tVnAFKfUFKU0C6UpXKMlXCM9IzVMoTyxWyCxRSC5KTSxJTVHIL1JIyi_KO8XIqZ-rb5BSZGmQAmUbp2VXlp9i5AW5wDCpqsKkqCAtB8ZPqcgxK4tPS4PLVySbmZqVmZ1iRHbxKUYusElJVdnG6b8YhRGOgru_gYVxEStbQGJlQGLOLTZJBtOPrUxzbRI11WVLnxeX-AgZzb1ZymCxbw4AobjSvwwBAAA&sa=X&ved=2ahUKEwiBnNuM2sX6AhXNTTABHUf3ACwQs9oBKAV6BAg8EAc',\n",
       "     'serpapi_link': 'https://serpapi.com/search.json?device=desktop&engine=google&gl=us&google_domain=google.com&hl=en&q=PayPal&stick=H4sIAAAAAAAAAOOQUeLWT9c3NDIqtjSMNzUSTs3Jz1PILS3OVkjOzy1IzMtMLY5yDc9ILFEoycxNVShILcrMT1FIyU8tVnAFKfUFKU0C6UpXKMlXCM9IzVMoTyxWyCxRSC5KTSxJTVHIL1JIyi_KO8XIqZ-rb5BSZGmQAmUbp2VXlp9i5AW5wDCpqsKkqCAtB8ZPqcgxK4tPS4PLVySbmZqVmZ1iRHbxKUYusElJVdnG6b8YhRGOgru_gYVxEStbQGJlQGLOLTZJBtOPrUxzbRI11WVLnxeX-AgZzb1ZymCxbw4AobjSvwwBAAA'}],\n",
       "   'see_more_link': 'https://www.google.com/search?gl=us&hl=en&q=Elon+Musk+companies&stick=H4sIAAAAAAAAAOOQMRJOzcnPU8gtLc5WSM7PLUjMy0wtjnINz0gsUSjJzE1VKEgtysxPUUjJTy1WcAUp9QUpTQLpSlcoyVcIz0jNUyhPLFbILFFILkpNLElNUcgvUkjKL8o7xcipn6tvkFJkaZACZRunZVeWn2Lk1U_XNzRMqqowKSpIy4HxUypyzMri09Lg8hXJZqZmZWanGLlBfCOjYkvDeNNTjFxgk5Kqso3TfzEKIxwFd38DC-MiVmwSt9gkGUw_tjLNtUnUVJctfV5c4iNkNPdmKYPFvjkAF3veyAwBAAA&sa=X&ved=2ahUKEwiBnNuM2sX6AhXNTTABHUf3ACwQ4qYDegQIPBAI',\n",
       "   'see_more_serpapi_link': 'https://serpapi.com/search.json?device=desktop&engine=google&gl=us&google_domain=google.com&hl=en&q=Elon+Musk+companies&stick=H4sIAAAAAAAAAOOQMRJOzcnPU8gtLc5WSM7PLUjMy0wtjnINz0gsUSjJzE1VKEgtysxPUUjJTy1WcAUp9QUpTQLpSlcoyVcIz0jNUyhPLFbILFFILkpNLElNUcgvUkjKL8o7xcipn6tvkFJkaZACZRunZVeWn2Lk1U_XNzRMqqowKSpIy4HxUypyzMri09Lg8hXJZqZmZWanGLlBfCOjYkvDeNNTjFxgk5Kqso3TfzEKIxwFd38DC-MiVmwSt9gkGUw_tjLNtUnUVJctfV5c4iNkNPdmKYPFvjkAF3veyAwBAAA'},\n",
       "  {'title': 'Elon Musk family',\n",
       "   'items': [{'name': 'Talulah Riley',\n",
       "     'image': 'https://encrypted-tbn0.gstatic.com/images?q=tbn:ANd9GcRnIb9MxbARr-Z2jcYJufp5a3l6O8V4jFghOouHn8RH6KGgj7Qq4V4e&s=0',\n",
       "     'link': 'https://www.google.com/search?gl=us&hl=en&q=Talulah+Riley&stick=H4sIAAAAAAAAAOOQUeLUz9U3SKoozq4wEkjNyc9TyC0tzlZIS8zNzKmMcg3PSCxRKMnMTVUoSC3KzE9RSMlPLVZwBanzBalLAmlJVyjJVwjPSM1TKE8sVsgsUUguSk0sSU1RyC9SSMovyjvFiLDkFCMXiJ1eVlhuagDlFKZnGWUnQzkZeRaGFWanGHn10_UNDXPL4k3NCpOLoJKmGaYWBZZQjpFZQW6lOZIZxaZQTp5linFe2i9GAYRDIR5qYGFcxMobkphTmpOYoRCUmZNaeYtNksH0YytTchPbEfuE5AnllidirdYHv07sPZoCAB4cpesfAQAA&sa=X&ved=2ahUKEwiBnNuM2sX6AhXNTTABHUf3ACwQs9oBKAB6BAg_EAI',\n",
       "     'serpapi_link': 'https://serpapi.com/search.json?device=desktop&engine=google&gl=us&google_domain=google.com&hl=en&q=Talulah+Riley&stick=H4sIAAAAAAAAAOOQUeLUz9U3SKoozq4wEkjNyc9TyC0tzlZIS8zNzKmMcg3PSCxRKMnMTVUoSC3KzE9RSMlPLVZwBanzBalLAmlJVyjJVwjPSM1TKE8sVsgsUUguSk0sSU1RyC9SSMovyjvFiLDkFCMXiJ1eVlhuagDlFKZnGWUnQzkZeRaGFWanGHn10_UNDXPL4k3NCpOLoJKmGaYWBZZQjpFZQW6lOZIZxaZQTp5linFe2i9GAYRDIR5qYGFcxMobkphTmpOYoRCUmZNaeYtNksH0YytTchPbEfuE5AnllidirdYHv07sPZoCAB4cpesfAQAA'},\n",
       "    {'name': 'Grimes',\n",
       "     'image': 'https://encrypted-tbn0.gstatic.com/images?q=tbn:ANd9GcS0kYMlcAWyta2tighdNQ3b6EMg4OIVRUTGwWQZPOD3lRlgqIgA9vme&s=0',\n",
       "     'link': 'https://www.google.com/search?gl=us&hl=en&q=Grimes&stick=H4sIAAAAAAAAAOOQUeLSz9U3SC8rLDc1MBJIzcnPU8gtLc5WSEvMzcypjHINz0gsUSjJzE1VKEgtysxPUUjJTy1WcAWp8wWpSwJpSVcoyVcIz0jNUyhPLFbILFFILkpNLElNUcgvUkjKL8o7xcgJsiWpoji74hQjko1QTmF6llF2MpSTkWdhWGF2ipFXP13f0DC3LN7UrDC5CCppmmFqUWAJ5RiZFeRWmiOZUWwK5eRZphjnpf1iFEA4FOKhBhbGRaxs7kVADxXfYpNkMP3YypTcxHbEPiF5QrnliVir9cGvE3uPpgAASDekfxkBAAA&sa=X&ved=2ahUKEwiBnNuM2sX6AhXNTTABHUf3ACwQs9oBKAF6BAg_EAM',\n",
       "     'serpapi_link': 'https://serpapi.com/search.json?device=desktop&engine=google&gl=us&google_domain=google.com&hl=en&q=Grimes&stick=H4sIAAAAAAAAAOOQUeLSz9U3SC8rLDc1MBJIzcnPU8gtLc5WSEvMzcypjHINz0gsUSjJzE1VKEgtysxPUUjJTy1WcAWp8wWpSwJpSVcoyVcIz0jNUyhPLFbILFFILkpNLElNUcgvUkjKL8o7xcgJsiWpoji74hQjko1QTmF6llF2MpSTkWdhWGF2ipFXP13f0DC3LN7UrDC5CCppmmFqUWAJ5RiZFeRWmiOZUWwK5eRZphjnpf1iFEA4FOKhBhbGRaxs7kVADxXfYpNkMP3YypTcxHbEPiF5QrnliVir9cGvE3uPpgAASDekfxkBAAA'},\n",
       "    {'name': 'Maye Musk',\n",
       "     'image': 'https://encrypted-tbn0.gstatic.com/images?q=tbn:ANd9GcQAgyohV9cSDjBctZQs8wuPHzS6X-TSbG7UooNZYmKr6tAQdx0gsaVC&s=0',\n",
       "     'link': 'https://www.google.com/search?gl=us&hl=en&q=Maye+Musk&stick=H4sIAAAAAAAAAOOQUeLSz9U3KEzPMspONhJIzcnPU8gtLc5WSEvMzcypjHINz0gsUSjJzE1VKEgtysxPUUjJTy1WcAWp8wWpSwJpSVcoyVcIz0jNUyhPLFbILFFILkpNLElNUcgvUkjKL8o7xcgJsiWpoji74hQj2Mb0ssJyUwMoB2I9lJORZ2FYYXaKkVc_Xd_QMLcs3tSsMLkIKmmaYWpRYAnlGJkV5FaaI5lRbArl5FmmGOel_WIUQDgU4qEGFsZFrJy-iZWpYNFbbJIMph9bmZKb2I7YJyRPKLc8EWu1Pvh1Yu_RFAAAY7HTHAEAAA&sa=X&ved=2ahUKEwiBnNuM2sX6AhXNTTABHUf3ACwQs9oBKAJ6BAg_EAQ',\n",
       "     'serpapi_link': 'https://serpapi.com/search.json?device=desktop&engine=google&gl=us&google_domain=google.com&hl=en&q=Maye+Musk&stick=H4sIAAAAAAAAAOOQUeLSz9U3KEzPMspONhJIzcnPU8gtLc5WSEvMzcypjHINz0gsUSjJzE1VKEgtysxPUUjJTy1WcAWp8wWpSwJpSVcoyVcIz0jNUyhPLFbILFFILkpNLElNUcgvUkjKL8o7xcgJsiWpoji74hQj2Mb0ssJyUwMoB2I9lJORZ2FYYXaKkVc_Xd_QMLcs3tSsMLkIKmmaYWpRYAnlGJkV5FaaI5lRbArl5FmmGOel_WIUQDgU4qEGFsZFrJy-iZWpYNFbbJIMph9bmZKb2I7YJyRPKLc8EWu1Pvh1Yu_RFAAAY7HTHAEAAA'},\n",
       "    {'name': 'Tosca Musk',\n",
       "     'image': 'https://encrypted-tbn0.gstatic.com/images?q=tbn:ANd9GcQU2cdBE_rbZ7aMvq8kF6-uoDaJ-zdhvbQ8xB_50rBcqoA62XibZgnW&s=0',\n",
       "     'link': 'https://www.google.com/search?gl=us&hl=en&q=Tosca+Musk&stick=H4sIAAAAAAAAAOOQUeLSz9U3yMizMKwwMxJIzcnPU8gtLc5WSEvMzcypjHINz0gsUSjJzE1VKEgtysxPUUjJTy1WcAWp8wWpSwJpSVcoyVcIz0jNUyhPLFbILFFILkpNLElNUcgvUkjKL8o7xcgJsiWpoji74hQj2Mb0ssJyUwMopzA9yyg7GcqBuOUUI69-ur6hYW5ZvKlZYXIRVNI0w9SiwBLKMTIryK00RzKj2BTKybNMMc5L-8UogHAoxEMNLIyLWLlC8ouTE8HCt9gkGUw_tjIlN7EdsU9InlBueSLWan3w68TeoykA6efosx0BAAA&sa=X&ved=2ahUKEwiBnNuM2sX6AhXNTTABHUf3ACwQs9oBKAN6BAg_EAU',\n",
       "     'serpapi_link': 'https://serpapi.com/search.json?device=desktop&engine=google&gl=us&google_domain=google.com&hl=en&q=Tosca+Musk&stick=H4sIAAAAAAAAAOOQUeLSz9U3yMizMKwwMxJIzcnPU8gtLc5WSEvMzcypjHINz0gsUSjJzE1VKEgtysxPUUjJTy1WcAWp8wWpSwJpSVcoyVcIz0jNUyhPLFbILFFILkpNLElNUcgvUkjKL8o7xcgJsiWpoji74hQj2Mb0ssJyUwMopzA9yyg7GcqBuOUUI69-ur6hYW5ZvKlZYXIRVNI0w9SiwBLKMTIryK00RzKj2BTKybNMMc5L-8UogHAoxEMNLIyLWLlC8ouTE8HCt9gkGUw_tjIlN7EdsU9InlBueSLWan3w68TeoykA6efosx0BAAA'},\n",
       "    {'name': 'Joshua Haldeman',\n",
       "     'image': 'https://encrypted-tbn0.gstatic.com/images?q=tbn:ANd9GcSW8j5DAOdJFMxD_fHqeyPltORZ2BzF7TPX67Xv&s=0',\n",
       "     'link': 'https://www.google.com/search?gl=us&hl=en&q=Joshua+Haldeman&stick=H4sIAAAAAAAAAOOQUeLVT9c3NMwtizc1K0wuMhJIzcnPU8gtLc5WSEvMzcypjHINz0gsUSjJzE1VKEgtysxPUUjJTy1WcAWp8wWpSwJpSVcoyVcIz0jNUyhPLFbILFFILkpNLElNUcgvUkjKL8o7xcipn6tvkFRRnF1xipELxE4vKyw3NYByCtOzjLKToZyMPAvDCrNTjKhug0qaZphaFFhCOUZmBbmV5khmFJtCOXmWKcZ5ab8YBRAOhXiogYVxESu_V35xRmmigkdiTkpqbmLeLTZJBtOPrUzJTWxH7BOSJ5Rbnoi1Wh_8OrH3aAoAiMfm1SUBAAA&sa=X&ved=2ahUKEwiBnNuM2sX6AhXNTTABHUf3ACwQs9oBKAR6BAg_EAY',\n",
       "     'serpapi_link': 'https://serpapi.com/search.json?device=desktop&engine=google&gl=us&google_domain=google.com&hl=en&q=Joshua+Haldeman&stick=H4sIAAAAAAAAAOOQUeLVT9c3NMwtizc1K0wuMhJIzcnPU8gtLc5WSEvMzcypjHINz0gsUSjJzE1VKEgtysxPUUjJTy1WcAWp8wWpSwJpSVcoyVcIz0jNUyhPLFbILFFILkpNLElNUcgvUkjKL8o7xcipn6tvkFRRnF1xipELxE4vKyw3NYByCtOzjLKToZyMPAvDCrNTjKhug0qaZphaFFhCOUZmBbmV5khmFJtCOXmWKcZ5ab8YBRAOhXiogYVxESu_V35xRmmigkdiTkpqbmLeLTZJBtOPrUzJTWxH7BOSJ5Rbnoi1Wh_8OrH3aAoAiMfm1SUBAAA'},\n",
       "    {'name': 'Kimbal Musk',\n",
       "     'image': 'https://encrypted-tbn0.gstatic.com/images?q=tbn:ANd9GcRKKUikrvfqVDGL-x5SujHRr7EGvjR_xpXteRT41SeR-CzNtwj4N3on&s=0',\n",
       "     'link': 'https://www.google.com/search?gl=us&hl=en&q=Kimbal+Musk&stick=H4sIAAAAAAAAAOOQUeLSz9U3MM0wtSiwNBJIzcnPU8gtLc5WSEvMzcypjHINz0gsUSjJzE1VKEgtysxPUUjJTy1WcAWp8wWpSwJpSVcoyVcIz0jNUyhPLFbILFFILkpNLElNUcgvUkjKL8o7xcgJsiWpoji74hQj2Mb0ssJyUwMopzA9yyg7GcrJyLMwrDA7xcirn65vaJhbFm9qVphcBJWEOBTKMTIryK00RzKj2BTKybNMMc5L-8UogHAoxEMNLIyLWLm9M3OTEnPA4rfYJBlMP7YyJTexHbFPSJ5Qbnki1mp98OvE3qMpABrqZp0eAQAA&sa=X&ved=2ahUKEwiBnNuM2sX6AhXNTTABHUf3ACwQs9oBKAV6BAg_EAc',\n",
       "     'serpapi_link': 'https://serpapi.com/search.json?device=desktop&engine=google&gl=us&google_domain=google.com&hl=en&q=Kimbal+Musk&stick=H4sIAAAAAAAAAOOQUeLSz9U3MM0wtSiwNBJIzcnPU8gtLc5WSEvMzcypjHINz0gsUSjJzE1VKEgtysxPUUjJTy1WcAWp8wWpSwJpSVcoyVcIz0jNUyhPLFbILFFILkpNLElNUcgvUkjKL8o7xcgJsiWpoji74hQj2Mb0ssJyUwMopzA9yyg7GcrJyLMwrDA7xcirn65vaJhbFm9qVphcBJWEOBTKMTIryK00RzKj2BTKybNMMc5L-8UogHAoxEMNLIyLWLm9M3OTEnPA4rfYJBlMP7YyJTexHbFPSJ5Qbnki1mp98OvE3qMpABrqZp0eAQAA'}],\n",
       "   'see_more_link': 'https://www.google.com/search?gl=us&hl=en&q=Elon+Musk+family&stick=H4sIAAAAAAAAAOOQMRJIzcnPU8gtLc5WSEvMzcypjHINz0gsUSjJzE1VKEgtysxPUUjJTy1WcAWp8wWpSwJpSVcoyVcIz0jNUyhPLFbILFFILkpNLElNUcgvUkjKL8o7xcipn6tvkFRRnF1xipELxE4vKyw3NYByCtOzjLKToZyMPAvDCrNTjLz66fqGhrll8aZmhclFUEnTDFOLAksox8isILfSHMmMYlMoJ88yxTgv7RejAMKhEA81sDAuYsUQvcUmyWD6sZUpuYntiH1C8oRyyxOxVuuDXyf2Hk0BAC9tzGgXAQAA&sa=X&ved=2ahUKEwiBnNuM2sX6AhXNTTABHUf3ACwQ4qYDegQIPxAI',\n",
       "   'see_more_serpapi_link': 'https://serpapi.com/search.json?device=desktop&engine=google&gl=us&google_domain=google.com&hl=en&q=Elon+Musk+family&stick=H4sIAAAAAAAAAOOQMRJIzcnPU8gtLc5WSEvMzcypjHINz0gsUSjJzE1VKEgtysxPUUjJTy1WcAWp8wWpSwJpSVcoyVcIz0jNUyhPLFbILFFILkpNLElNUcgvUkjKL8o7xcipn6tvkFRRnF1xipELxE4vKyw3NYByCtOzjLKToZyMPAvDCrNTjLz66fqGhrll8aZmhclFUEnTDFOLAksox8isILfSHMmMYlMoJ88yxTgv7RejAMKhEA81sDAuYsUQvcUmyWD6sZUpuYntiH1C8oRyyxOxVuuDXyf2Hk0BAC9tzGgXAQAA'},\n",
       "  {'title': 'Where did Elon Musk go to college',\n",
       "   'items': [{'name': \"Queen's University\",\n",
       "     'image': 'https://encrypted-tbn0.gstatic.com/images?q=tbn:ANd9GcSRP3qozGQzsHfMDx3egcIcIBo2rCSFGM3j9eCf&s=0',\n",
       "     'link': 'https://www.google.com/search?gl=us&hl=en&q=Queen%27s+University&stick=H4sIAAAAAAAAAOOQUeLQz9U3MEsytDRSLM9ILUpVSMlMUUjNyc9TyC0tzlZIz1coyVdIzs_JSU1PjXINz0gsUSjJzE1VKEgtysxPUUjJTy1WcAUp9wUpTwLpTAdpCc9IzVMoTyxWyCxRSC5KTSxJTVHIL1JIyi_KO8UItxTKNC9JKYaJFpQXnmLkBDGNkk3Syn8xKobD3YWwCMVdDSyMi1iFAktTU_PUixVC8zLLUouKM0sqb7FJMph-bGV6Oj_Ibce7GbkcwmVuNrqPH92etkcKADoKEuP7AAAA&sa=X&ved=2ahUKEwiBnNuM2sX6AhXNTTABHUf3ACwQs9oBKAB6BAhAEAI',\n",
       "     'serpapi_link': 'https://serpapi.com/search.json?device=desktop&engine=google&gl=us&google_domain=google.com&hl=en&q=Queen%27s+University&stick=H4sIAAAAAAAAAOOQUeLQz9U3MEsytDRSLM9ILUpVSMlMUUjNyc9TyC0tzlZIz1coyVdIzs_JSU1PjXINz0gsUSjJzE1VKEgtysxPUUjJTy1WcAUp9wUpTwLpTAdpCc9IzVMoTyxWyCxRSC5KTSxJTVHIL1JIyi_KO8UItxTKNC9JKYaJFpQXnmLkBDGNkk3Syn8xKobD3YWwCMVdDSyMi1iFAktTU_PUixVC8zLLUouKM0sqb7FJMph-bGV6Oj_Ibce7GbkcwmVuNrqPH92etkcKADoKEuP7AAAA'},\n",
       "    {'name': 'University of Pennsylva...',\n",
       "     'image': 'https://encrypted-tbn0.gstatic.com/images?q=tbn:ANd9GcT-AwXz27IT3ClOPiGGnvbTaRBZRJGcLLkN13hu&s=0',\n",
       "     'link': 'https://www.google.com/search?gl=us&hl=en&q=University+of+Pennsylvania&stick=H4sIAAAAAAAAAOOQUeLQz9U3MC9JKTZSLM9ILUpVSMlMUUjNyc9TyC0tzlZIz1coyVdIzs_JSU1PjXINz0gsUSjJzE1VKEgtysxPUUjJTy1WcAUp9wUpTwLpTAdpCc9IzVMoTyxWyCxRSC5KTSxJTVHIL1JIyi_KO8UIttQsydASygTZDxMtKC88xcgJYholm6SV_2JUDIe7C2ERirsaWBgXsUqF5mWWpRYVZ5ZUKuSnKQSk5uUVV-aUJeZlJt5ik2Qw_djK9HR-kNuOdzNyOYTL3Gx0Hz-6PW2PFABdt2tLAwEAAA&sa=X&ved=2ahUKEwiBnNuM2sX6AhXNTTABHUf3ACwQs9oBKAF6BAhAEAM',\n",
       "     'serpapi_link': 'https://serpapi.com/search.json?device=desktop&engine=google&gl=us&google_domain=google.com&hl=en&q=University+of+Pennsylvania&stick=H4sIAAAAAAAAAOOQUeLQz9U3MC9JKTZSLM9ILUpVSMlMUUjNyc9TyC0tzlZIz1coyVdIzs_JSU1PjXINz0gsUSjJzE1VKEgtysxPUUjJTy1WcAUp9wUpTwLpTAdpCc9IzVMoTyxWyCxRSC5KTSxJTVHIL1JIyi_KO8UIttQsydASygTZDxMtKC88xcgJYholm6SV_2JUDIe7C2ERirsaWBgXsUqF5mWWpRYVZ5ZUKuSnKQSk5uUVV-aUJeZlJt5ik2Qw_djK9HR-kNuOdzNyOYTL3Gx0Hz-6PW2PFABdt2tLAwEAAA'},\n",
       "    {'name': 'Stanford University',\n",
       "     'image': 'https://encrypted-tbn0.gstatic.com/images?q=tbn:ANd9GcRDHdyCc-EAp6ko65gpSYdnXwdLEHdyQYQKvR7U&s=0',\n",
       "     'link': 'https://www.google.com/search?gl=us&hl=en&q=Stanford+University&stick=H4sIAAAAAAAAAOOQUeLQz9U3MCsoLzRSLM9ILUpVSMlMUUjNyc9TyC0tzlZIz1coyVdIzs_JSU1PjXINz0gsUSjJzE1VKEgtysxPUUjJTy1WcAUp9wUpTwLpTAdpCc9IzVMoTyxWyCxRSC5KTSxJTVHIL1JIyi_KO8UIsTTJ0BLKNC9JKYaJAp1yipETxDRKNkkr_8WoGA53F8IiFHc1sDAuYhUOLknMS8svSlEIzcssSy0qziypvMUmyWD6sZXp6fwgtx3vZuRyCJe52eg-fnR72h4pAHIx7gv8AAAA&sa=X&ved=2ahUKEwiBnNuM2sX6AhXNTTABHUf3ACwQs9oBKAJ6BAhAEAQ',\n",
       "     'serpapi_link': 'https://serpapi.com/search.json?device=desktop&engine=google&gl=us&google_domain=google.com&hl=en&q=Stanford+University&stick=H4sIAAAAAAAAAOOQUeLQz9U3MCsoLzRSLM9ILUpVSMlMUUjNyc9TyC0tzlZIz1coyVdIzs_JSU1PjXINz0gsUSjJzE1VKEgtysxPUUjJTy1WcAUp9wUpTwLpTAdpCc9IzVMoTyxWyCxRSC5KTSxJTVHIL1JIyi_KO8UIsTTJ0BLKNC9JKYaJAp1yipETxDRKNkkr_8WoGA53F8IiFHc1sDAuYhUOLknMS8svSlEIzcssSy0qziypvMUmyWD6sZXp6fwgtx3vZuRyCJe52eg-fnR72h4pAHIx7gv8AAAA'},\n",
       "    {'name': 'University of Pretoria',\n",
       "     'image': 'https://encrypted-tbn0.gstatic.com/images?q=tbn:ANd9GcQPzQYCmLJ4vrEt-R_UfsphKGYLyru0l3-Q_Yw_&s=0',\n",
       "     'link': 'https://www.google.com/search?gl=us&hl=en&q=University+of+Pretoria&stick=H4sIAAAAAAAAAOOQUeLUz9U3MEo2SSs3UizPSC1KVUjJTFFIzcnPU8gtLc5WSM9XKMlXSM7PyUlNT41yDc9ILFEoycxNVShILcrMT1FIyU8tVnAFKfcFKU8C6UwHaQnPSM1TKE8sVsgsUUguSk0sSU1RyC9SSMovyjvFyAGy1SzJ0BLKNC9JKYaJFpQXnmJEOOsXo2I43F0Ii1Dc1cDCuIhVLDQvsyy1qDizpFIhP00hoCi1JL8oM_EWmySD6cdWpqfzg9x2vJuRyyFc5maj-_jR7Wl7pAC6BrZ6AAEAAA&sa=X&ved=2ahUKEwiBnNuM2sX6AhXNTTABHUf3ACwQs9oBKAN6BAhAEAU',\n",
       "     'serpapi_link': 'https://serpapi.com/search.json?device=desktop&engine=google&gl=us&google_domain=google.com&hl=en&q=University+of+Pretoria&stick=H4sIAAAAAAAAAOOQUeLUz9U3MEo2SSs3UizPSC1KVUjJTFFIzcnPU8gtLc5WSM9XKMlXSM7PyUlNT41yDc9ILFEoycxNVShILcrMT1FIyU8tVnAFKfcFKU8C6UwHaQnPSM1TKE8sVsgsUUguSk0sSU1RyC9SSMovyjvFyAGy1SzJ0BLKNC9JKYaJFpQXnmJEOOsXo2I43F0Ii1Dc1cDCuIhVLDQvsyy1qDizpFIhP00hoCi1JL8oM_EWmySD6cdWpqfzg9x2vJuRyyFc5maj-_jR7Wl7pAC6BrZ6AAEAAA'}],\n",
       "   'see_more_link': 'https://www.google.com/search?gl=us&hl=en&q=Where+did+Elon+Musk+go+to+college&stick=H4sIAAAAAAAAAOOQMVIsz0gtSlVIyUxRSM3Jz1PILS3OVkjPVyjJV0jOz8lJTU-Ncg3PSCxRKMnMTVUoSC3KzE9RSMlPLVZwBSn3BSlPAulMB2kJz0jNUyhPLFbILFFILkpNLElNUcgvUkjKL8o7xcihn6tvYJZkaAllmpekFMNEC8oLTzFygphGySZp5b8YFcPh7kJYhOKuBhbGRayEld1ik2Qw_djK9HR-kNuOdzNyOYTL3Gx0Hz-6PW2PFAAXewC9AAEAAA&sa=X&ved=2ahUKEwiBnNuM2sX6AhXNTTABHUf3ACwQ4qYDegQIQBAG',\n",
       "   'see_more_serpapi_link': 'https://serpapi.com/search.json?device=desktop&engine=google&gl=us&google_domain=google.com&hl=en&q=Where+did+Elon+Musk+go+to+college&stick=H4sIAAAAAAAAAOOQMVIsz0gtSlVIyUxRSM3Jz1PILS3OVkjPVyjJV0jOz8lJTU-Ncg3PSCxRKMnMTVUoSC3KzE9RSMlPLVZwBSn3BSlPAulMB2kJz0jNUyhPLFbILFFILkpNLElNUcgvUkjKL8o7xcihn6tvYJZkaAllmpekFMNEC8oLTzFygphGySZp5b8YFcPh7kJYhOKuBhbGRayEld1ik2Qw_djK9HR-kNuOdzNyOYTL3Gx0Hz-6PW2PFAAXewC9AAEAAA'}],\n",
       " 'related_questions': [{'question': 'When was Elon Musk created?',\n",
       "   'title': 'The startup was acquired by Compaq for $307 million in 1999. The same year, Musk co-founded online bank X.com, which merged with Confinity in 2000 to form PayPal. eBay bought PayPal in 2002, for $1.5 billion....Elon Musk.',\n",
       "   'link': 'https://en.wikipedia.org/wiki/Elon_Musk',\n",
       "   'displayed_link': 'https://en.wikipedia.org › wiki › Elon_Musk',\n",
       "   'next_page_token': 'eyJvbnMiOiI2MjAiLCJmYyI6IkVxRUJDbUpCUVhSV2JHSkNURnBNU0haaWMwbEdNbTFQVGtwdE5rUmpPVjh0T0RONGFIQXdhekkwWW1oaGNVOW9NMkZqVWpselprazBiMjUzTjBOa2NuZGpVbXg1UW1kWmJFTXdYMHd3VTNSYWRYVm1VblZEUW5scmVYUTFWamxqVkZCTGJuTnNaeElYUkV4Sk4xazBTRzFRVFRKaWQySnJVSGd0TmtRMFFVa2FJa0ZFVlhsRlIyWllOVWxpVmxCblNsUk9SRXBsVTNGMU5tNXRPR1kwWjJrMlRYYyIsImZjdiI6IjMiLCJlaSI6IkRMSTdZNEhtUE0yYndia1B4LTZENEFJIiwicWMiOiJjeFhHdVEyQU1CQUVRRVJJUkFuYkNSR0YySGlGTFQtSHpvY2NVVEZOSUNhYVpSX1JHU3hWNHFJbUNRakNEaFpwcUhmUDhIOVBtR0JFTmd6WGtReUgwaGtEUk9GRjJ6bzliNTYzRHciLCJxdWVzdGlvbiI6IldoZW4gd2FzIEVsb24gTXVzayBjcmVhdGVkPyIsImxrIjoiR2hwM2FHVnVJSGRoY3lCbGJHOXVJRzExYzJzZ1kzSmxZWFJsWkEiLCJicyI6ImMtTlM0SklPejBqTlV5aFBMRlp3emNuUFVfQXRMYzVXU0M1S1RTeEpUYkdYMkozSkJWS0JJcG1VWDVTbmtGLWtrSnVZa21vdjhTU2ZTNU5MSlR3anNRVFZEUFZpaGJUTW91SVNpRm1aLVhuMkVoUGN1VlM1Rk1CS000c1ZTakpTZ2Faa3BtY0NEVXRENkxPWGVPd3B3QWdBIn0=',\n",
       "   'serpapi_link': 'https://serpapi.com/search.json?device=desktop&engine=google_related_questions&google_domain=google.com&next_page_token=eyJvbnMiOiI2MjAiLCJmYyI6IkVxRUJDbUpCUVhSV2JHSkNURnBNU0haaWMwbEdNbTFQVGtwdE5rUmpPVjh0T0RONGFIQXdhekkwWW1oaGNVOW9NMkZqVWpselprazBiMjUzTjBOa2NuZGpVbXg1UW1kWmJFTXdYMHd3VTNSYWRYVm1VblZEUW5scmVYUTFWamxqVkZCTGJuTnNaeElYUkV4Sk4xazBTRzFRVFRKaWQySnJVSGd0TmtRMFFVa2FJa0ZFVlhsRlIyWllOVWxpVmxCblNsUk9SRXBsVTNGMU5tNXRPR1kwWjJrMlRYYyIsImZjdiI6IjMiLCJlaSI6IkRMSTdZNEhtUE0yYndia1B4LTZENEFJIiwicWMiOiJjeFhHdVEyQU1CQUVRRVJJUkFuYkNSR0YySGlGTFQtSHpvY2NVVEZOSUNhYVpSX1JHU3hWNHFJbUNRakNEaFpwcUhmUDhIOVBtR0JFTmd6WGtReUgwaGtEUk9GRjJ6bzliNTYzRHciLCJxdWVzdGlvbiI6IldoZW4gd2FzIEVsb24gTXVzayBjcmVhdGVkPyIsImxrIjoiR2hwM2FHVnVJSGRoY3lCbGJHOXVJRzExYzJzZ1kzSmxZWFJsWkEiLCJicyI6ImMtTlM0SklPejBqTlV5aFBMRlp3emNuUFVfQXRMYzVXU0M1S1RTeEpUYkdYMkozSkJWS0JJcG1VWDVTbmtGLWtrSnVZa21vdjhTU2ZTNU5MSlR3anNRVFZEUFZpaGJUTW91SVNpRm1aLVhuMkVoUGN1VlM1Rk1CS000c1ZTakpTZ2Faa3BtY0NEVXRENkxPWGVPd3B3QWdBIn0%3D'},\n",
       "  {'question': 'Was Elon Musk born or made?',\n",
       "   'snippet': 'Elon Musk, (born June 28, 1971, Pretoria, South Africa), South African-born American entrepreneur who cofounded the electronic-payment firm PayPal and formed SpaceX, maker of launch vehicles and spacecraft.Aug 19, 2022',\n",
       "   'title': 'Elon Musk | Biography, SpaceX, Tesla, Twitter, & Facts',\n",
       "   'link': 'https://www.britannica.com/biography/Elon-Musk',\n",
       "   'displayed_link': 'https://www.britannica.com › biography › Elon-Musk',\n",
       "   'next_page_token': 'eyJvbnMiOiI2MjAiLCJmYyI6IkVxRUJDbUpCUVhSV2JHSkNURnBNU0haaWMwbEdNbTFQVGtwdE5rUmpPVjh0T0RONGFIQXdhekkwWW1oaGNVOW9NMkZqVWpselprazBiMjUzTjBOa2NuZGpVbXg1UW1kWmJFTXdYMHd3VTNSYWRYVm1VblZEUW5scmVYUTFWamxqVkZCTGJuTnNaeElYUkV4Sk4xazBTRzFRVFRKaWQySnJVSGd0TmtRMFFVa2FJa0ZFVlhsRlIyWllOVWxpVmxCblNsUk9SRXBsVTNGMU5tNXRPR1kwWjJrMlRYYyIsImZjdiI6IjMiLCJlaSI6IkRMSTdZNEhtUE0yYndia1B4LTZENEFJIiwicWMiOiJjeFhHdVEyQU1CQUVRRVJJUkFuYkNSR0YySGlGTFQtSHpvY2NVVEZOSUNhYVpSX1JHU3hWNHFJbUNRakNEaFpwcUhmUDhIOVBtR0JFTmd6WGtReUgwaGtEUk9GRjJ6bzliNTYzRHciLCJxdWVzdGlvbiI6IldhcyBFbG9uIE11c2sgYm9ybiBvciBtYWRlPyIsImxrIjoiR2hwM1lYTWdaV3h2YmlCdGRYTnJJR0p2Y200Z2IzSWdiV0ZrWlEiLCJicyI6ImMtTlM0SklPejBqTlV5aFBMRlp3emNuUFVfQXRMYzVXU0M1S1RTeEpUYkdYMkozSkJWS0JJcG1VWDVTbmtGLWtrSnVZa21vdjhTU2ZTNU5MSlR3anNRVFZEUFZpaGJUTW91SVNpRm1aLVhuMkVoUGN1VlM1Rk1CS000c1ZTakpTZ2Faa3BtY0NEVXRENkxPWGVPd3B3QWdBIn0=',\n",
       "   'serpapi_link': 'https://serpapi.com/search.json?device=desktop&engine=google_related_questions&google_domain=google.com&next_page_token=eyJvbnMiOiI2MjAiLCJmYyI6IkVxRUJDbUpCUVhSV2JHSkNURnBNU0haaWMwbEdNbTFQVGtwdE5rUmpPVjh0T0RONGFIQXdhekkwWW1oaGNVOW9NMkZqVWpselprazBiMjUzTjBOa2NuZGpVbXg1UW1kWmJFTXdYMHd3VTNSYWRYVm1VblZEUW5scmVYUTFWamxqVkZCTGJuTnNaeElYUkV4Sk4xazBTRzFRVFRKaWQySnJVSGd0TmtRMFFVa2FJa0ZFVlhsRlIyWllOVWxpVmxCblNsUk9SRXBsVTNGMU5tNXRPR1kwWjJrMlRYYyIsImZjdiI6IjMiLCJlaSI6IkRMSTdZNEhtUE0yYndia1B4LTZENEFJIiwicWMiOiJjeFhHdVEyQU1CQUVRRVJJUkFuYkNSR0YySGlGTFQtSHpvY2NVVEZOSUNhYVpSX1JHU3hWNHFJbUNRakNEaFpwcUhmUDhIOVBtR0JFTmd6WGtReUgwaGtEUk9GRjJ6bzliNTYzRHciLCJxdWVzdGlvbiI6IldhcyBFbG9uIE11c2sgYm9ybiBvciBtYWRlPyIsImxrIjoiR2hwM1lYTWdaV3h2YmlCdGRYTnJJR0p2Y200Z2IzSWdiV0ZrWlEiLCJicyI6ImMtTlM0SklPejBqTlV5aFBMRlp3emNuUFVfQXRMYzVXU0M1S1RTeEpUYkdYMkozSkJWS0JJcG1VWDVTbmtGLWtrSnVZa21vdjhTU2ZTNU5MSlR3anNRVFZEUFZpaGJUTW91SVNpRm1aLVhuMkVoUGN1VlM1Rk1CS000c1ZTakpTZ2Faa3BtY0NEVXRENkxPWGVPd3B3QWdBIn0%3D'},\n",
       "  {'question': \"What was Elon Musk's first creation?\",\n",
       "   'snippet': \"Zip2 was Elon Musk 's first company and it sold for $307 million in 1999.Jun 16, 2022\",\n",
       "   'title': \"The Story of Elon Musk's First Company - Site Builder Report\",\n",
       "   'link': 'https://www.sitebuilderreport.com/origin-stories/elon-musk',\n",
       "   'displayed_link': 'https://www.sitebuilderreport.com › elon-musk',\n",
       "   'next_page_token': 'eyJvbnMiOiI2MjAiLCJmYyI6IkVxRUJDbUpCUVhSV2JHSkNURnBNU0haaWMwbEdNbTFQVGtwdE5rUmpPVjh0T0RONGFIQXdhekkwWW1oaGNVOW9NMkZqVWpselprazBiMjUzTjBOa2NuZGpVbXg1UW1kWmJFTXdYMHd3VTNSYWRYVm1VblZEUW5scmVYUTFWamxqVkZCTGJuTnNaeElYUkV4Sk4xazBTRzFRVFRKaWQySnJVSGd0TmtRMFFVa2FJa0ZFVlhsRlIyWllOVWxpVmxCblNsUk9SRXBsVTNGMU5tNXRPR1kwWjJrMlRYYyIsImZjdiI6IjMiLCJlaSI6IkRMSTdZNEhtUE0yYndia1B4LTZENEFJIiwicWMiOiJjeFhHdVEyQU1CQUVRRVJJUkFuYkNSR0YySGlGTFQtSHpvY2NVVEZOSUNhYVpSX1JHU3hWNHFJbUNRakNEaFpwcUhmUDhIOVBtR0JFTmd6WGtReUgwaGtEUk9GRjJ6bzliNTYzRHciLCJxdWVzdGlvbiI6IldoYXQgd2FzIEVsb24gTXVzaydzIGZpcnN0IGNyZWF0aW9uPyIsImxrIjoiR2lOM2FHRjBJSGRoY3lCbGJHOXVJRzExYzJzbmN5Qm1hWEp6ZENCamNtVmhkR2x2YmciLCJicyI6ImMtTlM0SklPejBqTlV5aFBMRlp3emNuUFVfQXRMYzVXU0M1S1RTeEpUYkdYMkozSkJWS0JJcG1VWDVTbmtGLWtrSnVZa21vdjhTU2ZTNU5MSlR3anNRVFZEUFZpaGJUTW91SVNpRm1aLVhuMkVoUGN1VlM1Rk1CS000c1ZTakpTZ2Faa3BtY0NEVXRENkxPWGVPd3B3QWdBIn0=',\n",
       "   'serpapi_link': 'https://serpapi.com/search.json?device=desktop&engine=google_related_questions&google_domain=google.com&next_page_token=eyJvbnMiOiI2MjAiLCJmYyI6IkVxRUJDbUpCUVhSV2JHSkNURnBNU0haaWMwbEdNbTFQVGtwdE5rUmpPVjh0T0RONGFIQXdhekkwWW1oaGNVOW9NMkZqVWpselprazBiMjUzTjBOa2NuZGpVbXg1UW1kWmJFTXdYMHd3VTNSYWRYVm1VblZEUW5scmVYUTFWamxqVkZCTGJuTnNaeElYUkV4Sk4xazBTRzFRVFRKaWQySnJVSGd0TmtRMFFVa2FJa0ZFVlhsRlIyWllOVWxpVmxCblNsUk9SRXBsVTNGMU5tNXRPR1kwWjJrMlRYYyIsImZjdiI6IjMiLCJlaSI6IkRMSTdZNEhtUE0yYndia1B4LTZENEFJIiwicWMiOiJjeFhHdVEyQU1CQUVRRVJJUkFuYkNSR0YySGlGTFQtSHpvY2NVVEZOSUNhYVpSX1JHU3hWNHFJbUNRakNEaFpwcUhmUDhIOVBtR0JFTmd6WGtReUgwaGtEUk9GRjJ6bzliNTYzRHciLCJxdWVzdGlvbiI6IldoYXQgd2FzIEVsb24gTXVzaydzIGZpcnN0IGNyZWF0aW9uPyIsImxrIjoiR2lOM2FHRjBJSGRoY3lCbGJHOXVJRzExYzJzbmN5Qm1hWEp6ZENCamNtVmhkR2x2YmciLCJicyI6ImMtTlM0SklPejBqTlV5aFBMRlp3emNuUFVfQXRMYzVXU0M1S1RTeEpUYkdYMkozSkJWS0JJcG1VWDVTbmtGLWtrSnVZa21vdjhTU2ZTNU5MSlR3anNRVFZEUFZpaGJUTW91SVNpRm1aLVhuMkVoUGN1VlM1Rk1CS000c1ZTakpTZ2Faa3BtY0NEVXRENkxPWGVPd3B3QWdBIn0%3D'},\n",
       "  {'question': 'What is the origin of Elon Musk?',\n",
       "   'snippet': 'Elon Musk is a cutting-edge, serial entrepreneur born and raised in South Africa. A lifelong technologist and entrepreneur, he bought his first computer at age 10 and taught himself how to program it. He sold his first software program, a space game called Blastar, for about $500 when he was 12 years old.',\n",
       "   'title': 'Elon Musk - The Immigrant Learning Center',\n",
       "   'link': 'https://www.ilctr.org/entrepreneur-hof/elon-musk/',\n",
       "   'displayed_link': 'https://www.ilctr.org › entrepreneur-hof › elon-musk',\n",
       "   'next_page_token': 'eyJvbnMiOiI2MjAiLCJmYyI6IkVxRUJDbUpCUVhSV2JHSkNURnBNU0haaWMwbEdNbTFQVGtwdE5rUmpPVjh0T0RONGFIQXdhekkwWW1oaGNVOW9NMkZqVWpselprazBiMjUzTjBOa2NuZGpVbXg1UW1kWmJFTXdYMHd3VTNSYWRYVm1VblZEUW5scmVYUTFWamxqVkZCTGJuTnNaeElYUkV4Sk4xazBTRzFRVFRKaWQySnJVSGd0TmtRMFFVa2FJa0ZFVlhsRlIyWllOVWxpVmxCblNsUk9SRXBsVTNGMU5tNXRPR1kwWjJrMlRYYyIsImZjdiI6IjMiLCJlaSI6IkRMSTdZNEhtUE0yYndia1B4LTZENEFJIiwicWMiOiJjeFhHdVEyQU1CQUVRRVJJUkFuYkNSR0YySGlGTFQtSHpvY2NVVEZOSUNhYVpSX1JHU3hWNHFJbUNRakNEaFpwcUhmUDhIOVBtR0JFTmd6WGtReUgwaGtEUk9GRjJ6bzliNTYzRHciLCJxdWVzdGlvbiI6IldoYXQgaXMgdGhlIG9yaWdpbiBvZiBFbG9uIE11c2s/IiwibGsiOiJHaDkzYUdGMElHbHpJSFJvWlNCdmNtbG5hVzRnYjJZZ1pXeHZiaUJ0ZFhOciIsImJzIjoiYy1OUzRKSU96MGpOVXloUExGWnd6Y25QVV9BdExjNVdTQzVLVFN4SlRiR1gySjNKQlZLQklwbVVYNVNua0Yta2tKdVlrbW92OFNTZlM1TkxKVHdqc1FUVkRQVmloYlRNb3VJU2lGbVotWG4yRWhQY3VWUzVGTUJLTTRzVlNqSlNnYVprcG1jQ0RVdEQ2TE9YZU93cHdBZ0EifQ==',\n",
       "   'serpapi_link': 'https://serpapi.com/search.json?device=desktop&engine=google_related_questions&google_domain=google.com&next_page_token=eyJvbnMiOiI2MjAiLCJmYyI6IkVxRUJDbUpCUVhSV2JHSkNURnBNU0haaWMwbEdNbTFQVGtwdE5rUmpPVjh0T0RONGFIQXdhekkwWW1oaGNVOW9NMkZqVWpselprazBiMjUzTjBOa2NuZGpVbXg1UW1kWmJFTXdYMHd3VTNSYWRYVm1VblZEUW5scmVYUTFWamxqVkZCTGJuTnNaeElYUkV4Sk4xazBTRzFRVFRKaWQySnJVSGd0TmtRMFFVa2FJa0ZFVlhsRlIyWllOVWxpVmxCblNsUk9SRXBsVTNGMU5tNXRPR1kwWjJrMlRYYyIsImZjdiI6IjMiLCJlaSI6IkRMSTdZNEhtUE0yYndia1B4LTZENEFJIiwicWMiOiJjeFhHdVEyQU1CQUVRRVJJUkFuYkNSR0YySGlGTFQtSHpvY2NVVEZOSUNhYVpSX1JHU3hWNHFJbUNRakNEaFpwcUhmUDhIOVBtR0JFTmd6WGtReUgwaGtEUk9GRjJ6bzliNTYzRHciLCJxdWVzdGlvbiI6IldoYXQgaXMgdGhlIG9yaWdpbiBvZiBFbG9uIE11c2s%2FIiwibGsiOiJHaDkzYUdGMElHbHpJSFJvWlNCdmNtbG5hVzRnYjJZZ1pXeHZiaUJ0ZFhOciIsImJzIjoiYy1OUzRKSU96MGpOVXloUExGWnd6Y25QVV9BdExjNVdTQzVLVFN4SlRiR1gySjNKQlZLQklwbVVYNVNua0Yta2tKdVlrbW92OFNTZlM1TkxKVHdqc1FUVkRQVmloYlRNb3VJU2lGbVotWG4yRWhQY3VWUzVGTUJLTTRzVlNqSlNnYVprcG1jQ0RVdEQ2TE9YZU93cHdBZ0EifQ%3D%3D'}],\n",
       " 'answer_box': {'type': 'organic_result',\n",
       "  'title': 'Elon Musk - Tesla, Age & Family - Biography (Bio.)',\n",
       "  'link': 'https://www.biography.com/business-figure/elon-musk#:~:text=Early%20Life,developed%20an%20interest%20in%20computers.',\n",
       "  'displayed_link': 'https://www.biography.com › business-figure › elon-musk',\n",
       "  'date': 'Apr 4, 2018',\n",
       "  'snippet': \"Early Life Musk was born on June 28, 1971, in Pretoria, South Africa. As a child, Musk was so lost in his daydreams about inventions that his parents and doctors ordered a test to check his hearing. At about the time of his parents' divorce, when he was 10, Musk developed an interest in computers.\",\n",
       "  'snippet_highlighted_words': ['June 28, 1971'],\n",
       "  'siblings': 'Kimbal Musk',\n",
       "  'founded': 'X.com, Tesla Motors, The Boring Co...',\n",
       "  'born': 'June 28, 1971, Pretoria',\n",
       "  'about_this_result': {}},\n",
       " 'organic_results': [{'position': 1,\n",
       "   'title': 'Elon Musk - Wikipedia',\n",
       "   'link': 'https://en.wikipedia.org/wiki/Elon_Musk',\n",
       "   'displayed_link': 'https://en.wikipedia.org › wiki › Elon_Musk',\n",
       "   'snippet': 'Elon Reeve Musk FRS (/ˈiːlɒn/ EE-lon; born June 28, 1971) is a business magnate and investor. He is the founder, CEO, and Chief Engineer at SpaceX; ...',\n",
       "   'snippet_highlighted_words': ['born June 28, 1971'],\n",
       "   'sitelinks': {'inline': [{'title': 'Early life',\n",
       "      'link': 'https://en.wikipedia.org/wiki/Elon_Musk#Early_life'},\n",
       "     {'title': 'Business career',\n",
       "      'link': 'https://en.wikipedia.org/wiki/Elon_Musk#Business_career'},\n",
       "     {'title': 'Leadership style',\n",
       "      'link': 'https://en.wikipedia.org/wiki/Elon_Musk#Leadership_style'},\n",
       "     {'title': 'Other activities',\n",
       "      'link': 'https://en.wikipedia.org/wiki/Elon_Musk#Other_activities'}]},\n",
       "   'about_this_result': {'source': {'description': 'Wikipedia is a multilingual free online encyclopedia written and maintained by a community of volunteers through open collaboration and a wiki-based editing system. Its editors are known as Wikipedians. Wikipedia is the largest and most-read reference work in history.',\n",
       "     'source_info_link': 'https://en.wikipedia.org/wiki/Elon_Musk',\n",
       "     'security': 'secure',\n",
       "     'icon': 'https://serpapi.com/searches/633bb20c0f9866f823973b67/images/9a928d8e54262bd8c0cb2fcc75b8b003523a5fbbd05ecfa026cbcb29084cb780c1f9874772833ae1631c5920b1145986.png'}},\n",
       "   'about_page_link': 'https://www.google.com/search?q=About+https://en.wikipedia.org/wiki/Elon_Musk&tbm=ilp&ilps=ADNMCi2H8vnYdmvi4m5C10pEHwTVmsGsEA',\n",
       "   'cached_page_link': 'https://webcache.googleusercontent.com/search?q=cache:cElLiMk8T9MJ:https://en.wikipedia.org/wiki/Elon_Musk&cd=14&hl=en&ct=clnk&gl=us',\n",
       "   'related_pages_link': 'https://www.google.com/search?gl=us&hl=en&q=related:https://en.wikipedia.org/wiki/Elon_Musk+What+time+period+does+Elon+Musk+belong+to%3F+When+was+it+created+or+born%3F'},\n",
       "  {'position': 2,\n",
       "   'title': 'Elon Musk | Biography, SpaceX, Tesla, Twitter, & Facts',\n",
       "   'link': 'https://www.britannica.com/biography/Elon-Musk',\n",
       "   'displayed_link': 'https://www.britannica.com › biography › Elon-Musk',\n",
       "   'date': '3 days ago',\n",
       "   'snippet': 'Born: June 28, 1971 (age 51) Pretoria South Africa ; Founder: PayPal SpaceX Zip2 ; Early life. Musk was born to a South African father and a ...',\n",
       "   'snippet_highlighted_words': ['June 28, 1971'],\n",
       "   'sitelinks': {'inline': [{'title': 'Zip2',\n",
       "      'link': 'https://www.britannica.com/topic/Zip2'},\n",
       "     {'title': 'SpaceX', 'link': 'https://www.britannica.com/topic/SpaceX'},\n",
       "     {'title': 'PayPal', 'link': 'https://www.britannica.com/topic/PayPal'},\n",
       "     {'title': 'Jack Ma',\n",
       "      'link': 'https://www.britannica.com/biography/Jack-Ma'}]},\n",
       "   'about_this_result': {'source': {'description': 'britannica.com was first indexed by Google more than 10 years ago',\n",
       "     'source_info_link': 'https://www.britannica.com/biography/Elon-Musk',\n",
       "     'security': 'secure',\n",
       "     'icon': 'https://serpapi.com/searches/633bb20c0f9866f823973b67/images/9a928d8e54262bd8c0cb2fcc75b8b003980732e677fb1ff9ba3b404f8f4cc50d6a96234e007e7a6bb3c0ef5517d9a954.png'}},\n",
       "   'about_page_link': 'https://www.google.com/search?q=About+https://www.britannica.com/biography/Elon-Musk&tbm=ilp&ilps=ADNMCi2TUmJF4Kn-iKKKYVCT0IKyoyhsVA',\n",
       "   'cached_page_link': 'https://webcache.googleusercontent.com/search?q=cache:S8-9ddE_y7oJ:https://www.britannica.com/biography/Elon-Musk&cd=15&hl=en&ct=clnk&gl=us',\n",
       "   'related_pages_link': 'https://www.google.com/search?gl=us&hl=en&q=related:https://www.britannica.com/biography/Elon-Musk+What+time+period+does+Elon+Musk+belong+to%3F+When+was+it+created+or+born%3F'},\n",
       "  {'position': 3,\n",
       "   'title': 'Who Is Elon Musk? What Are His Businesses? - Investopedia',\n",
       "   'link': 'https://www.investopedia.com/articles/personal-finance/061015/how-elon-musk-became-elon-musk.asp',\n",
       "   'displayed_link': 'https://www.investopedia.com › ... › Entrepreneurs',\n",
       "   'snippet': 'Born and raised in South Africa, Musk spent time in Canada before moving to the U.S.; Educated at the University of Pennsylvania in physics, Musk started ...',\n",
       "   'snippet_highlighted_words': ['Born and raised in South Africa'],\n",
       "   'sitelinks': {'inline': [{'title': 'Early Life and Education',\n",
       "      'link': 'https://www.investopedia.com/articles/personal-finance/061015/how-elon-musk-became-elon-musk.asp#toc-early-life-and-education'},\n",
       "     {'title': 'Notable Accomplishments',\n",
       "      'link': 'https://www.investopedia.com/articles/personal-finance/061015/how-elon-musk-became-elon-musk.asp#toc-notable-accomplishments'},\n",
       "     {'title': 'Personal Eccentricities',\n",
       "      'link': 'https://www.investopedia.com/articles/personal-finance/061015/how-elon-musk-became-elon-musk.asp#toc-personal-eccentricities'}]},\n",
       "   'about_this_result': {'source': {'description': 'Investopedia is a financial media website headquartered in New York City. Founded in 1999, Investopedia provides investment dictionaries, advice, reviews, ratings, and comparisons of financial products such as securities accounts.',\n",
       "     'source_info_link': 'https://www.investopedia.com/articles/personal-finance/061015/how-elon-musk-became-elon-musk.asp',\n",
       "     'security': 'secure',\n",
       "     'icon': 'https://serpapi.com/searches/633bb20c0f9866f823973b67/images/9a928d8e54262bd8c0cb2fcc75b8b00302b6b32b293c261e00f2151a272ceacd79b4f66cacbec1b365996b1d2ee00c06.png'}},\n",
       "   'about_page_link': 'https://www.google.com/search?q=About+https://www.investopedia.com/articles/personal-finance/061015/how-elon-musk-became-elon-musk.asp&tbm=ilp&ilps=ADNMCi3VNRwqGVaHw8OXVnCNoU4jDGi6OQ'},\n",
       "  {'position': 4,\n",
       "   'title': 'Elon Musk Biography - life, parents, name, story, history, wife ...',\n",
       "   'link': 'https://www.notablebiographies.com/news/Li-Ou/Musk-Elon.html',\n",
       "   'displayed_link': 'https://www.notablebiographies.com › news › Li-Ou',\n",
       "   'snippet': 'Entrepreneur, philanthropist. Elon Musk was a multi-millionaire by the time he reached the age of thirty-one thanks to his creation of the company that ...',\n",
       "   'snippet_highlighted_words': ['reached the age of thirty-one'],\n",
       "   'sitelinks': {'inline': [{'title': 'Sells Homemade Video Game',\n",
       "      'link': 'https://www.notablebiographies.com/news/Li-Ou/Musk-Elon.html#:~:text=Sells%20homemade%20video%20game'},\n",
       "     {'title': 'Starts Online Bank',\n",
       "      'link': 'https://www.notablebiographies.com/news/Li-Ou/Musk-Elon.html#:~:text=Starts%20online%20bank'},\n",
       "     {'title': 'The New \"Thrillionaires\"',\n",
       "      'link': 'https://www.notablebiographies.com/news/Li-Ou/Musk-Elon.html#:~:text=The%20New%20%22Thrillionaires%22'}]},\n",
       "   'about_this_result': {'source': {'description': 'notablebiographies.com was first indexed by Google more than 10 years ago',\n",
       "     'source_info_link': 'https://www.notablebiographies.com/news/Li-Ou/Musk-Elon.html',\n",
       "     'security': 'secure',\n",
       "     'icon': 'https://serpapi.com/searches/633bb20c0f9866f823973b67/images/9a928d8e54262bd8c0cb2fcc75b8b003b192df0c952e3c2ea9df4a6960601e35fb791a999976458e7899c23cf1276e99.png'}},\n",
       "   'about_page_link': 'https://www.google.com/search?q=About+https://www.notablebiographies.com/news/Li-Ou/Musk-Elon.html&tbm=ilp&ilps=ADNMCi2heKNTzD_U152wHgu5Q0bgkmfC_g',\n",
       "   'cached_page_link': 'https://webcache.googleusercontent.com/search?q=cache:vP0Bst8GU9sJ:https://www.notablebiographies.com/news/Li-Ou/Musk-Elon.html&cd=17&hl=en&ct=clnk&gl=us'},\n",
       "  {'position': 5,\n",
       "   'title': 'Who is Elon Musk, and what made him big? | Business - DW',\n",
       "   'link': 'https://www.dw.com/en/who-is-elon-musk-and-what-made-him-big/a-53591199',\n",
       "   'displayed_link': 'https://www.dw.com › who-is-elon-musk-and-what-ma...',\n",
       "   'date': 'May 27, 2020',\n",
       "   'snippet': 'Born in 1971 in South Africa of a model and dietitian, Maye Musk, and an electromechanical engineer, Errol Musk, whom Elon has described as ...',\n",
       "   'snippet_highlighted_words': ['Born in 1971 in South Africa'],\n",
       "   'about_this_result': {'source': {'description': \"Deutsche Welle, abbreviated to DW, is a German public, state-owned international broadcaster funded by the German federal tax budget. The service is available in 32 languages. DW's satellite television service consists of channels in English, German, Spanish, and Arabic.\",\n",
       "     'source_info_link': 'https://www.dw.com/en/who-is-elon-musk-and-what-made-him-big/a-53591199',\n",
       "     'security': 'secure',\n",
       "     'icon': 'https://serpapi.com/searches/633bb20c0f9866f823973b67/images/9a928d8e54262bd8c0cb2fcc75b8b003a5e3b18f3a87f5bcf1d147274d68fdd16b9688c7af750c38e9fd173b821aeef8.png'}},\n",
       "   'about_page_link': 'https://www.google.com/search?q=About+https://www.dw.com/en/who-is-elon-musk-and-what-made-him-big/a-53591199&tbm=ilp&ilps=ADNMCi3FPjflw0oDZbeaAqePEBKWFZURuw',\n",
       "   'cached_page_link': 'https://webcache.googleusercontent.com/search?q=cache:iOe7iYYN0dUJ:https://www.dw.com/en/who-is-elon-musk-and-what-made-him-big/a-53591199&cd=18&hl=en&ct=clnk&gl=us'},\n",
       "  {'position': 6,\n",
       "   'title': 'Elon Musk Age, Wife, Girlfriend, Children, Family, Biography ...',\n",
       "   'link': 'https://starsunfolded.com/elon-musk/',\n",
       "   'displayed_link': 'https://starsunfolded.com › elon-musk',\n",
       "   'snippet': 'Full Name, Elon Reeve Musk · Nickname, Iron Man · Profession(s), Entrepreneur, Investor · Famous For, Being the CEO of Tesla and Space X · Height (approx.) in ...',\n",
       "   'snippet_highlighted_words': ['Elon', 'Musk'],\n",
       "   'about_this_result': {'source': {'description': 'starsunfolded.com was first indexed by Google in July 2013',\n",
       "     'source_info_link': 'https://starsunfolded.com/elon-musk/',\n",
       "     'security': 'secure',\n",
       "     'icon': 'https://serpapi.com/searches/633bb20c0f9866f823973b67/images/9a928d8e54262bd8c0cb2fcc75b8b003edce8eeefb45261a3188348f56fa073c28d56b6f5b51adba1fd66e0771866cca.png'}},\n",
       "   'about_page_link': 'https://www.google.com/search?q=About+https://starsunfolded.com/elon-musk/&tbm=ilp&ilps=ADNMCi0PunYJRwEDHhtRfau7MGMEm6oMIw',\n",
       "   'cached_page_link': 'https://webcache.googleusercontent.com/search?q=cache:MpQhj58hG8EJ:https://starsunfolded.com/elon-musk/&cd=19&hl=en&ct=clnk&gl=us'},\n",
       "  {'position': 7,\n",
       "   'title': 'Elon Musk - The Immigrant Learning Center',\n",
       "   'link': 'https://www.ilctr.org/entrepreneur-hof/elon-musk/',\n",
       "   'displayed_link': 'https://www.ilctr.org › entrepreneur-hof › elon-musk',\n",
       "   'snippet': 'Elon Musk is a cutting-edge, serial entrepreneur born and raised in South Africa. A lifelong technologist and entrepreneur, he bought his first computer at age ...',\n",
       "   'snippet_highlighted_words': ['born'],\n",
       "   'about_this_result': {'source': {'description': 'ilctr.org was first indexed by Google more than 10 years ago',\n",
       "     'source_info_link': 'https://www.ilctr.org/entrepreneur-hof/elon-musk/',\n",
       "     'security': 'secure',\n",
       "     'icon': 'https://serpapi.com/searches/633bb20c0f9866f823973b67/images/9a928d8e54262bd8c0cb2fcc75b8b003e18ede25d420675bb58ce7f3d7e9b03d1634a92e002e8544ed5d35adaaab18a3.png'}},\n",
       "   'about_page_link': 'https://www.google.com/search?q=About+https://www.ilctr.org/entrepreneur-hof/elon-musk/&tbm=ilp&ilps=ADNMCi1G6SvuqvIA-0CN1YlRKIdyjMvn6A',\n",
       "   'cached_page_link': 'https://webcache.googleusercontent.com/search?q=cache:a0Jz5n9VfHUJ:https://www.ilctr.org/entrepreneur-hof/elon-musk/&cd=20&hl=en&ct=clnk&gl=us'},\n",
       "  {'position': 8,\n",
       "   'title': 'How Elon Musk Built His Fortune—And Became the ... - TIME',\n",
       "   'link': 'https://time.com/6127754/elon-musk-net-worth-person-of-the-year/',\n",
       "   'displayed_link': 'https://time.com › Business › Person of the Year',\n",
       "   'date': 'Dec 13, 2021',\n",
       "   'snippet': \"Elon Musk made his money differently than most of today's famous billionaires. Here's how he did it.\",\n",
       "   'snippet_highlighted_words': ['Elon Musk made', 'did'],\n",
       "   'about_this_result': {'source': {'description': 'Time is an American news magazine and news website published and based in New York City. For nearly a century, it was published weekly, but starting in March 2020 it transitioned to every other week.',\n",
       "     'source_info_link': 'https://time.com/6127754/elon-musk-net-worth-person-of-the-year/',\n",
       "     'security': 'secure',\n",
       "     'icon': 'https://serpapi.com/searches/633bb20c0f9866f823973b67/images/9a928d8e54262bd8c0cb2fcc75b8b003dff37c3fb78ce3fbf598d1614b7d6eba0cdafe4d17e1d1589d90ca31e782c4db.png'}},\n",
       "   'about_page_link': 'https://www.google.com/search?q=About+https://time.com/6127754/elon-musk-net-worth-person-of-the-year/&tbm=ilp&ilps=ADNMCi0-g-DekMWsw0R0X8GVx9MG52vD8g',\n",
       "   'cached_page_link': 'https://webcache.googleusercontent.com/search?q=cache:GCXxsvyADhcJ:https://time.com/6127754/elon-musk-net-worth-person-of-the-year/&cd=21&hl=en&ct=clnk&gl=us'},\n",
       "  {'position': 9,\n",
       "   'title': \"Elon Musk's Family Tree Explained - YouTube\",\n",
       "   'link': 'https://www.youtube.com/watch?v=nLT1A6XtjZ8',\n",
       "   'displayed_link': 'https://www.youtube.com › watch',\n",
       "   'thumbnail': 'https://serpapi.com/searches/633bb20c0f9866f823973b67/images/9a928d8e54262bd8c0cb2fcc75b8b003ffdb8920adc05bea9e549e01a382c907.jpeg',\n",
       "   'snippet': \"Elon Musk may be transforming everything from power to space travel, but Elon isn't the only entrepreneur in his family tree.\",\n",
       "   'duration': '3:09',\n",
       "   'rich_snippet': {'top': {'extensions': ['YouTube', 'CNBC', 'Aug 12, 2018'],\n",
       "     'detected_extensions': {'aug': 12}}},\n",
       "   'about_this_result': {'source': {'description': 'This result comes from www.youtube.com',\n",
       "     'source_info_link': 'https://www.youtube.com/watch?v=nLT1A6XtjZ8',\n",
       "     'security': 'secure',\n",
       "     'icon': 'https://serpapi.com/searches/633bb20c0f9866f823973b67/images/9a928d8e54262bd8c0cb2fcc75b8b003a307e0031ba3a92aba9d3da8db5d995595ca504d56f2c798fc6b89d9ac467d0e.png'}},\n",
       "   'about_page_link': 'https://www.google.com/search?q=About+https://www.youtube.com/watch?v%3DnLT1A6XtjZ8&tbm=ilp&ilps=ADNMCi2I_B7MdjuHcuYp59QPLK2HKxK23A'}],\n",
       " 'related_searches': [{'query': 'how old is elon musk',\n",
       "   'link': 'https://www.google.com/search?gl=us&hl=en&q=How+old+is+Elon+Musk&sa=X&ved=2ahUKEwiBnNuM2sX6AhXNTTABHUf3ACwQ1QJ6BAhPEAE'},\n",
       "  {'query': 'elon musk net worth',\n",
       "   'link': 'https://www.google.com/search?gl=us&hl=en&q=Elon+Musk+net+worth&sa=X&ved=2ahUKEwiBnNuM2sX6AhXNTTABHUf3ACwQ1QJ6BAhQEAE'},\n",
       "  {'query': 'how old is elon musk wife',\n",
       "   'link': 'https://www.google.com/search?gl=us&hl=en&q=How+old+is+Elon+Musk+wife&sa=X&ved=2ahUKEwiBnNuM2sX6AhXNTTABHUf3ACwQ1QJ6BAhREAE'},\n",
       "  {'query': 'where was elon musk born',\n",
       "   'link': 'https://www.google.com/search?gl=us&hl=en&q=Where+was+Elon+Musk+born&sa=X&ved=2ahUKEwiBnNuM2sX6AhXNTTABHUf3ACwQ1QJ6BAhGEAE'},\n",
       "  {'query': 'is elon musk married',\n",
       "   'link': 'https://www.google.com/search?gl=us&hl=en&q=Is+Elon+Musk+married&sa=X&ved=2ahUKEwiBnNuM2sX6AhXNTTABHUf3ACwQ1QJ6BAhIEAE'},\n",
       "  {'query': 'elon musk parents',\n",
       "   'link': 'https://www.google.com/search?gl=us&hl=en&q=Elon+Musk+parents&sa=X&ved=2ahUKEwiBnNuM2sX6AhXNTTABHUf3ACwQ1QJ6BAhOEAE'},\n",
       "  {'query': 'elon musk children',\n",
       "   'link': 'https://www.google.com/search?gl=us&hl=en&q=Elon+Musk+children&sa=X&ved=2ahUKEwiBnNuM2sX6AhXNTTABHUf3ACwQ1QJ6BAhMEAE'}],\n",
       " 'pagination': {'current': 1,\n",
       "  'next': 'https://www.google.com/search?q=What+time+period+does+Elon+Musk+belong+to%3F+When+was+it+created+or+born%3F&gl=us&hl=en&ei=DLI7Y4HmPM2bwbkPx-6D4AI&start=10&sa=N&ved=2ahUKEwiBnNuM2sX6AhXNTTABHUf3ACwQ8NMDegQIARBM',\n",
       "  'other_pages': {'2': 'https://www.google.com/search?q=What+time+period+does+Elon+Musk+belong+to%3F+When+was+it+created+or+born%3F&gl=us&hl=en&ei=DLI7Y4HmPM2bwbkPx-6D4AI&start=10&sa=N&ved=2ahUKEwiBnNuM2sX6AhXNTTABHUf3ACwQ8tMDegQIARA6',\n",
       "   '3': 'https://www.google.com/search?q=What+time+period+does+Elon+Musk+belong+to%3F+When+was+it+created+or+born%3F&gl=us&hl=en&ei=DLI7Y4HmPM2bwbkPx-6D4AI&start=20&sa=N&ved=2ahUKEwiBnNuM2sX6AhXNTTABHUf3ACwQ8tMDegQIARA8',\n",
       "   '4': 'https://www.google.com/search?q=What+time+period+does+Elon+Musk+belong+to%3F+When+was+it+created+or+born%3F&gl=us&hl=en&ei=DLI7Y4HmPM2bwbkPx-6D4AI&start=30&sa=N&ved=2ahUKEwiBnNuM2sX6AhXNTTABHUf3ACwQ8tMDegQIARA-',\n",
       "   '5': 'https://www.google.com/search?q=What+time+period+does+Elon+Musk+belong+to%3F+When+was+it+created+or+born%3F&gl=us&hl=en&ei=DLI7Y4HmPM2bwbkPx-6D4AI&start=40&sa=N&ved=2ahUKEwiBnNuM2sX6AhXNTTABHUf3ACwQ8tMDegQIARBA',\n",
       "   '6': 'https://www.google.com/search?q=What+time+period+does+Elon+Musk+belong+to%3F+When+was+it+created+or+born%3F&gl=us&hl=en&ei=DLI7Y4HmPM2bwbkPx-6D4AI&start=50&sa=N&ved=2ahUKEwiBnNuM2sX6AhXNTTABHUf3ACwQ8tMDegQIARBC',\n",
       "   '7': 'https://www.google.com/search?q=What+time+period+does+Elon+Musk+belong+to%3F+When+was+it+created+or+born%3F&gl=us&hl=en&ei=DLI7Y4HmPM2bwbkPx-6D4AI&start=60&sa=N&ved=2ahUKEwiBnNuM2sX6AhXNTTABHUf3ACwQ8tMDegQIARBE',\n",
       "   '8': 'https://www.google.com/search?q=What+time+period+does+Elon+Musk+belong+to%3F+When+was+it+created+or+born%3F&gl=us&hl=en&ei=DLI7Y4HmPM2bwbkPx-6D4AI&start=70&sa=N&ved=2ahUKEwiBnNuM2sX6AhXNTTABHUf3ACwQ8tMDegQIARBG',\n",
       "   '9': 'https://www.google.com/search?q=What+time+period+does+Elon+Musk+belong+to%3F+When+was+it+created+or+born%3F&gl=us&hl=en&ei=DLI7Y4HmPM2bwbkPx-6D4AI&start=80&sa=N&ved=2ahUKEwiBnNuM2sX6AhXNTTABHUf3ACwQ8tMDegQIARBI',\n",
       "   '10': 'https://www.google.com/search?q=What+time+period+does+Elon+Musk+belong+to%3F+When+was+it+created+or+born%3F&gl=us&hl=en&ei=DLI7Y4HmPM2bwbkPx-6D4AI&start=90&sa=N&ved=2ahUKEwiBnNuM2sX6AhXNTTABHUf3ACwQ8tMDegQIARBK'}},\n",
       " 'serpapi_pagination': {'current': 1,\n",
       "  'next_link': 'https://serpapi.com/search.json?device=desktop&engine=google&gl=us&google_domain=google.com&hl=en&q=What+time+period+does+Elon+Musk+belong+to%3F+When+was+it+created+or+born%3F&start=10',\n",
       "  'next': 'https://serpapi.com/search.json?device=desktop&engine=google&gl=us&google_domain=google.com&hl=en&q=What+time+period+does+Elon+Musk+belong+to%3F+When+was+it+created+or+born%3F&start=10',\n",
       "  'other_pages': {'2': 'https://serpapi.com/search.json?device=desktop&engine=google&gl=us&google_domain=google.com&hl=en&q=What+time+period+does+Elon+Musk+belong+to%3F+When+was+it+created+or+born%3F&start=10',\n",
       "   '3': 'https://serpapi.com/search.json?device=desktop&engine=google&gl=us&google_domain=google.com&hl=en&q=What+time+period+does+Elon+Musk+belong+to%3F+When+was+it+created+or+born%3F&start=20',\n",
       "   '4': 'https://serpapi.com/search.json?device=desktop&engine=google&gl=us&google_domain=google.com&hl=en&q=What+time+period+does+Elon+Musk+belong+to%3F+When+was+it+created+or+born%3F&start=30',\n",
       "   '5': 'https://serpapi.com/search.json?device=desktop&engine=google&gl=us&google_domain=google.com&hl=en&q=What+time+period+does+Elon+Musk+belong+to%3F+When+was+it+created+or+born%3F&start=40',\n",
       "   '6': 'https://serpapi.com/search.json?device=desktop&engine=google&gl=us&google_domain=google.com&hl=en&q=What+time+period+does+Elon+Musk+belong+to%3F+When+was+it+created+or+born%3F&start=50',\n",
       "   '7': 'https://serpapi.com/search.json?device=desktop&engine=google&gl=us&google_domain=google.com&hl=en&q=What+time+period+does+Elon+Musk+belong+to%3F+When+was+it+created+or+born%3F&start=60',\n",
       "   '8': 'https://serpapi.com/search.json?device=desktop&engine=google&gl=us&google_domain=google.com&hl=en&q=What+time+period+does+Elon+Musk+belong+to%3F+When+was+it+created+or+born%3F&start=70',\n",
       "   '9': 'https://serpapi.com/search.json?device=desktop&engine=google&gl=us&google_domain=google.com&hl=en&q=What+time+period+does+Elon+Musk+belong+to%3F+When+was+it+created+or+born%3F&start=80',\n",
       "   '10': 'https://serpapi.com/search.json?device=desktop&engine=google&gl=us&google_domain=google.com&hl=en&q=What+time+period+does+Elon+Musk+belong+to%3F+When+was+it+created+or+born%3F&start=90'}}}"
      ]
     },
     "execution_count": 317,
     "metadata": {},
     "output_type": "execute_result"
    }
   ],
   "source": [
    "all_search_dict[10][0]"
   ]
  },
  {
   "cell_type": "code",
   "execution_count": 500,
   "id": "f6017a19",
   "metadata": {},
   "outputs": [],
   "source": [
    "search_background_1step = []\n",
    "for search_dict in all_search_dict:\n",
    "    combined_output = \"\"\n",
    "    for entity_results in search_dict:\n",
    "        search_prompt = render_results(entity_results, top_k=1)\n",
    "        combined_output += search_prompt + \"\\n\"\n",
    "    search_background_1step.append(combined_output)\n",
    "    \n",
    "search_background = []\n",
    "for search_dict in all_search_dict:\n",
    "    combined_output = \"\"\n",
    "    for entity_results in search_dict:\n",
    "        search_prompt = render_results(entity_results, top_k=2)\n",
    "        combined_output += search_prompt + \"\\n\"\n",
    "    search_background.append(combined_output)"
   ]
  },
  {
   "cell_type": "code",
   "execution_count": null,
   "id": "4c8e752d",
   "metadata": {},
   "outputs": [
    {
     "name": "stderr",
     "output_type": "stream",
     "text": [
      "50it [01:29,  1.96s/it]"
     ]
    }
   ],
   "source": [
    "perf = []\n",
    "for i in range(1):\n",
    "    answers = []\n",
    "    answers_with_search = []\n",
    "    for sentence, background in tqdm.tqdm(zip(inputs, search_background_1step)):\n",
    "        prompt, answer = anachronismWithSearchCombined(sentence, background.strip())\n",
    "        answers.append(answer)\n",
    "        answers_with_search.append(answer)\n",
    "    preds = np.array([int(x[0].endswith('No')) for x in answers])\n",
    "    perf.append((preds == labels).mean())\n",
    "print(np.mean(perf))\n",
    "print(np.std(perf))"
   ]
  },
  {
   "cell_type": "code",
   "execution_count": 522,
   "id": "1eefe825",
   "metadata": {},
   "outputs": [
    {
     "data": {
      "text/plain": [
       "[['William the Conqueror -> 11th century \\nRed Hot Chili Peppers -> 20th century\\n\\nCould the sentence be true based on the time periods alone: No'],\n",
       " ['woman -> any time period\\nwoolly mammoth -> extinction in the Holocene epoch\\n\\nCould the sentence be true based on the time periods alone: No'],\n",
       " ['Pyrrhus -> 3rd century BCE \\n Roman armies -> 1st century CE\\n\\nCould the sentence be true based on the time periods alone: No'],\n",
       " ['Homo neanderthalensis -> 40,000 years ago\\ncorn -> 10,000 years ago\\n\\nCould the sentence be true based on the time periods alone: No'],\n",
       " ['Ivan the Terrible -> 16th century\\nJohn Williams -> 20th century\\n\\nCould the sentence be true based on the time periods alone: No'],\n",
       " ['hoplite -> 8th century BC\\nmusket -> 16th century\\ncannon -> 12th century'],\n",
       " ['Genghis Khan -> 13th century \\nGreat Wall of China -> 7th century BC\\n\\nCould the sentence be true based on the time periods alone: No'],\n",
       " ['Claude Monet -> 19th century\\nRenaissance -> 15th and 16th centuries\\n\\nCould the sentence be true based on the time periods alone: No'],\n",
       " ['eggs Benedict -> late 19th century \\ncricket -> 18th century\\n\\nCould the sentence be true based on the time periods alone: Yes'],\n",
       " ['King Richard the Lionheart -> 12th century\\nEnglish -> 5th to 7th centuries\\n\\nCould the sentence be true based on the time periods alone: No'],\n",
       " ['Elon Musk -> 1971\\nTesla Cybertruck -> 2023\\ngasoline -> late 19th century\\n\\nCould the sentence be true based on the time periods alone: No'],\n",
       " ['Eggs Benedict -> late 19th century\\nUltimate frisbee player -> late 20th century\\n\\nCould the sentence be true based on the time periods alone: Yes'],\n",
       " [' senator -> late 18th century\\n pet parakeet -> any time period\\n Affordable Care Act -> late 20th century'],\n",
       " ['Geneva -> before the Roman occupation\\n5G -> 2025\\nscience -> 3000 BCE\\nscrew -> Neo-Assyrian period'],\n",
       " ['dog -> 11,000 years ago\\ntriceratops -> Late Cretaceous\\n\\nCould the sentence be true based on the time periods alone: No'],\n",
       " ['Hagia Sophia -> 537\\n15th century -> 1500s\\n7th century -> 700s\\n19th century -> 1800s\\n\\nCould the sentence be true based on the time periods alone: Yes'],\n",
       " ['Abraham Lincoln -> Civil War\\nManny Pacquiao -> 2019\\n\\nCould the sentence be true based on the time periods alone: No'],\n",
       " ['scientist -> 3000 BCE\\ncell phone -> 1940s\\nChallenger shuttle -> 1983-1985\\n\\nCould the sentence be true based on the time periods alone: No'],\n",
       " ['capoeira -> 16th century \\nVCR -> 20th century\\n\\nCould the sentence be true based on the time periods alone: Yes'],\n",
       " ['Abraham Lincoln -> 19th century \\nUnderground Railroad -> 19th century\\n\\nCould the sentence be true based on the time periods alone: Yes'],\n",
       " ['Plato -> 428/427 BCE\\nHume -> 1711-1776\\n\\nCould the sentence be true based on the time periods alone: No'],\n",
       " ['Luciano Pavarotti -> 20th century \\nThe Marriage of Figaro -> 18th century\\n\\nCould the sentence be true based on the time periods alone: Yes'],\n",
       " ['Otto von Bismarck -> 19th century\\nFried rice -> 19th century\\n\\nCould the sentence be true based on the time periods alone: Yes'],\n",
       " ['Claude Monet -> 1840 - 1886\\nimpressionist art movement -> 1867 - 1886\\n\\nCould the sentence be true based on the time periods alone: Yes'],\n",
       " ['George W. Bush -> 43rd President of the United States\\ngenerals -> late 20th century/ early 21st century\\nOval Office -> early 20th century\\nGulf War -> late 20th century'],\n",
       " ['Shakespeare -> 1589 - 1613\\nJohn Fletcher -> 1579 - 1625\\nTwo Noble Kinsmen -> 1634\\n\\nCould the sentence be true based on the time periods alone: Yes'],\n",
       " ['Richard III -> 15th century \\nLEDs -> 20th century\\n\\nCould the sentence be true based on the time periods alone: No'],\n",
       " ['Early bluegrass -> 1940s\\nCold War -> 1945\\nAristotle -> 384-322 BC\\n\\nCould the sentence be true based on the time periods alone: No'],\n",
       " ['Caesar Augustus -> 1st century BC\\n Julio-Claudian Dynasty -> 1st century AD\\n\\nCould the sentence be true based on the time periods alone: Yes'],\n",
       " ['Boxer Rebellion -> 1900 \\nAlexander the Great -> 4th century BC\\n\\nCould the sentence be true based on the time periods alone: No'],\n",
       " ['Socrates -> 5th century BC\\nlethal injection -> late 20th century\\n\\nCould the sentence be true based on the time periods alone: No'],\n",
       " ['David Lloyd George -> late 19th century/early 20th century\\nwar -> early 20th century\\n\\nCould the sentence be true based on the time periods alone: Yes'],\n",
       " ['Syngman Rhee -> 1948 to 1960\\nHugo Chavez -> 1954 to 2013\\n\\nCould the sentence be true based on the time periods alone: Yes'],\n",
       " [\"Louis XVI -> 18th century\\nAnsel Adams -> 20th century\\nauction houses -> 18th century\\nBaku Khans' Palace -> 17th century\\n\\nCould the sentence be true based on the time periods alone: Yes\"],\n",
       " ['David Lloyd George -> 1890\\nWorld War I -> 1914\\n\\nCould the sentence be true based on the time periods alone: Yes'],\n",
       " ['William the Conqueror -> 11th century\\nmartinis -> 19th century\\n\\nCould the sentence be true based on the time periods alone: No'],\n",
       " [\" Nicolas Maduro -> 20th century\\n Ansel Adams -> 20th century\\n Baku Khans' Palace -> 17th century\\n\\nCould the sentence be true based on the time periods alone: Yes\"],\n",
       " ['Kurt Cobain -> 1987\\ntelevision -> 1927\\nTwin Peaks -> 1990\\n\\nCould the sentence be true based on the time periods alone: No'],\n",
       " ['Iwo Jima -> WWII\\nRalph -> 20th century'],\n",
       " ['Christianity -> 4th century\\nEthiopia -> 4th century\\nRoman Empire -> 4th century\\n\\nCould the sentence be true based on the time periods alone: Yes'],\n",
       " ['Eleanor of Toledo -> 1500s \\nDuchess of Florence -> 1500s\\nMedici status -> 1500s\\n\\nCould the sentence be true based on the time periods alone: Yes'],\n",
       " ['Eric the Red -> 10th century\\nnuclear fallout shelters -> late 20th century\\n\\nCould the sentence be true based on the time periods alone: No'],\n",
       " ['Igor Stravinsky -> 1882 \\nSymphonie Fantastique -> 1830\\n\\nCould the sentence be true based on the time periods alone: No'],\n",
       " ['Joan of Arc -> 14th century\\nAztec Empire -> 14th century\\n\\nCould the sentence be true based on the time periods alone: No'],\n",
       " ['Thomas Jefferson -> late 18th century\\nWatermelons -> 2000 BC\\n\\nCould the sentence be true based on the time periods alone: Yes'],\n",
       " ['philosophers -> 6th century BCE\\n\\nCould the sentence be true based on the time periods alone: Yes'],\n",
       " ['Nikola Tesla -> 1856-1943 \\nTesla Cybertruck -> 2022-2023\\n\\nCould the sentence be true based on the time periods alone: Yes'],\n",
       " ['King Richard the Lionheart -> 12th century\\nFirst Crusade -> 11th century\\n\\nCould the sentence be true based on the time periods alone: No'],\n",
       " ['Squanto -> 16th century\\nlaundromat -> early 20th century\\nFirst Thanksgiving -> 17th century\\n\\nCould the sentence be true based on the time periods alone: No'],\n",
       " ['Ravi Shankar -> 20th century\\nBessie Smith -> 20th century\\nShakira -> 20th century\\n\\nCould the sentence be true based on the time periods alone: Yes'],\n",
       " ['William Shakespeare -> 1589-1613 \\nSappho -> ancient Greece\\n\\nCould the sentence be true based on the time periods alone: No'],\n",
       " ['Alexander the Great -> 4th century BC\\nSeneca the Younger -> 1st century AD\\n\\nCould the sentence be true based on the time periods alone: No'],\n",
       " ['Eleanor of Toledo -> 16th century\\nAlexandrite jewels -> 16th century\\n\\nCould the sentence be true based on the time periods alone: Yes'],\n",
       " ['Woodrow Wilson -> 20th century \\nU.S. -> 18th century\\nIAEA -> 20th century'],\n",
       " ['Melinda Gates -> 20th century\\nBill Gates -> 20th century\\n1805 -> 19th century\\n\\nCould the sentence be true based on the time periods alone: No'],\n",
       " ['Socrates -> 5th century BC\\nstabbing -> any time period'],\n",
       " ['Lewis and Clark Expedition -> early 19th century\\nMissouri -> early 21st century\\nOregon -> early 21st century\\n\\nCould the sentence be true based on the time periods alone: No'],\n",
       " ['Mars -> 4th planet from the Sun\\nRover -> 1878\\nsolar panel -> late 19th century\\nbatteries -> late 19th century\\n\\nCould the sentence be true based on the time periods alone: Yes'],\n",
       " ['replica galleon -> 16th century \\nradar -> late 19th century\\n\\nCould the sentence be true based on the time periods alone: No'],\n",
       " ['Mason -> 1725\\nchisel -> prehistoric\\nNotre Dame Cathedral -> 1260'],\n",
       " ['Alexander Graham Bell -> late 19th century\\nAlexander Hamilton -> late 18th century\\n\\nCould the sentence be true based on the time periods alone: No'],\n",
       " ['Visual Studio Code -> late 20th century\\n\\nCould the sentence be true based on the time periods alone: Yes'],\n",
       " ['Stegosaurus -> Late Jurassic\\nfish -> 530 million years ago'],\n",
       " ['George Washington -> 18th century\\nAmerican Civil War -> 19th century\\n\\nCould the sentence be true based on the time periods alone: No'],\n",
       " ['Ivan the Terrible -> 16th century\\nPalestrina -> 16th century\\n\\nCould the sentence be true based on the time periods alone: Yes'],\n",
       " ['Thutmose III -> 15th century BC\\nEgyptian empire -> 15th century BC\\nspear tips made of titanium -> 1791'],\n",
       " ['Moremi Ajasoro -> 12th century\\nriver -> pre-industrial era\\nWashington DC -> 18th century\\nFriends -> 1990s\\n\\nCould the sentence be true based on the time periods alone: No'],\n",
       " ['Caesar Augustus -> 1st century BC\\nHoly Roman Empire -> 1254\\n\\nCould the sentence be true based on the time periods alone: No'],\n",
       " ['Jason -> 1980 \\nTRS80 -> 1977 \\nTV -> 1927 \\nPyramid 2000 -> 2550 B.C.\\n\\nCould the sentence be true based on the time periods alone: No'],\n",
       " ['Queen Himiko -> 3rd century\\nYayoi silk robes -> Yayoi Period\\nfemale attendants -> 20th century\\n\\nCould the sentence be true based on the time periods alone: Yes'],\n",
       " ['soldier -> American Continental Army\\nmusket -> early 16th century\\ncannon -> 12th century\\n\\nCould the sentence be true based on the time periods alone: Yes'],\n",
       " ['Temple of Artemis -> 6th century BCE\\nEphesus -> late 19th century\\n\\nCould the sentence be true based on the time periods alone: Yes'],\n",
       " ['megalodon -> 23 million to 3.6 million years ago\\nPomeranian -> 300 years ago\\n\\nCould the sentence be true based on the time periods alone: No'],\n",
       " ['Sally -> 18th century\\nHBO -> 20th century\\nTrue Detective -> 21st century\\n\\nCould the sentence be true based on the time periods alone: No'],\n",
       " ['Great Depression -> 1929\\nProhibition -> 1920\\n\\nCould the sentence be true based on the time periods alone: Yes'],\n",
       " ['Benjamin Franklin -> 18th century\\nBenjamin Thompson -> 18th century\\nhybrid car -> 19th century\\n\\nCould the sentence be true based on the time periods alone: No'],\n",
       " ['Charles Babbage -> 1791\\nHaskell -> late 20th century'],\n",
       " ['King John -> 13th century\\nMagna Carta -> 13th century\\n\\nCould the sentence be true based on the time periods alone: Yes'],\n",
       " ['Richard III -> 15th century\\ncandles -> 5,000 years ago\\n\\nCould the sentence be true based on the time periods alone: Yes'],\n",
       " ['chihuahua -> 10,000 years ago\\nPangea -> early geologic time'],\n",
       " ['Lady Murasaki Shikibu -> 11th century \\nLady Ada Lovelace -> 19th century\\nbiomedical software -> 20th century\\n\\nCould the sentence be true based on the time periods alone: No'],\n",
       " ['states -> 1787\\nChina -> 1250 BC\\nAlexander the Great -> 4th century BC'],\n",
       " [\"Muhammad al-Khwarizmi -> 8th century\\nEuclid's lemma -> 3rd century BCE\\n\\nCould the sentence be true based on the time periods alone: No\"],\n",
       " ['Sarah Burke -> 21st century\\nHaskell -> late 20th century\\n\\nCould the sentence be true based on the time periods alone: Yes'],\n",
       " ['Otto von Bismarck -> 19th century \\nSpam -> 20th century\\n\\nCould the sentence be true based on the time periods alone: No'],\n",
       " ['Abraham Lincoln -> 1861-1865\\nCharles Darwin -> 1809-1882\\n\\nCould the sentence be true based on the time periods alone: Yes'],\n",
       " ['orchestra -> early 1600s\\nVivaldi -> 17th century\\nBaroque -> early 17th century\\n\\nCould the sentence be true based on the time periods alone: Yes'],\n",
       " ['Mongolian horse rider -> 13th century\\nvelociraptor -> 75 million years ago\\n\\nCould the sentence be true based on the time periods alone: No'],\n",
       " ['Homo erectus -> 1.89 million to 110,000 years ago\\nfire -> 2 million years ago\\nstone tools -> 2.6 million years ago\\nhunting -> 2 million years ago\\nmedicine -> 5th century BCE\\nsocial groups -> 2 million years ago\\n\\nCould the sentence be true based on the time periods alone: Yes'],\n",
       " ['Marie Antoinette -> late 18th century\\nBruce Springsteen -> 20th century\\n\\nCould the sentence be true based on the time periods alone: No'],\n",
       " ['Beats -> 2006 \\nMPC3000 -> 1993\\nblues -> 1860s\\n\\nCould the sentence be true based on the time periods alone: Yes'],\n",
       " ['Jason -> 1980 \\nTRS80 -> late 1970s \\nRadio Shack -> 1921 \\nmovie -> late 19th century\\n\\nCould the sentence be true based on the time periods alone: Yes'],\n",
       " ['Johann Sebastian Bach -> 1692\\nA Brief History of Time -> late 20th century\\n\\nCould the sentence be true based on the time periods alone: No'],\n",
       " ['Catherine the Great -> late 18th century\\nEmpress Wu Zetian -> 7th century\\nCatherine Palace -> late 18th century\\n\\nCould the sentence be true based on the time periods alone: No'],\n",
       " ['Sun Tzu -> Eastern Zhou period \\nBabylon -> 1894 BC\\n\\nCould the sentence be true based on the time periods alone: Yes'],\n",
       " ['Filippo Pacini -> early 19th century \\ncholera -> early 19th century\\n\\nCould the sentence be true based on the time periods alone: Yes'],\n",
       " ['Go -> 9600 - 9500 BC\\nMozilla -> 2004'],\n",
       " ['Johann Sebastian Bach -> 1692\\n\"Mathematical Principles of Natural Philosophy\" -> 17th century\\n\\nCould the sentence be true based on the time periods alone: Yes'],\n",
       " ['Joan of Arc -> 14th century\\nAmerican Ninja Warrior -> 21st century\\n\\nCould the sentence be true based on the time periods alone: No'],\n",
       " ['Hume -> 18th century\\nPlato -> 5th century BCE\\n\\nCould the sentence be true based on the time periods alone: Yes'],\n",
       " ['Franz Schubert -> early Romantic period\\nSymphonie Fantastique -> early Romantic period\\n\\nCould the sentence be true based on the time periods alone: Yes'],\n",
       " ['The sun -> 4.6 billion years ago\\nThe Stelliferous Era -> one cosmological decade of matter prior to that'],\n",
       " ['Ellen Johnson-Sirleaf -> 1938\\ncalculus -> late 17th century\\n\\nCould the sentence be true based on the time periods alone: No'],\n",
       " ['Thutmose III -> 15th century BC\\nEgyptian empire -> 15th century BC\\njade -> 7,000 years ago'],\n",
       " ['Christianity -> 1st century \\nEthiopia -> 6th century BC - 1st century\\nRoman Empire -> 6th century BC - 4th century\\n\\nCould the sentence be true based on the time periods alone: Yes'],\n",
       " ['Lewis Hamilton -> 2007-present\\nQueen -> 1952-2022\\n\\nCould the sentence be true based on the time periods alone: Yes'],\n",
       " ['Ponce De Leon -> 15th century \\ntelegram -> 20th century\\n\\nCould the sentence be true based on the time periods alone: No'],\n",
       " [\"Benjamin Franklin -> 1700s \\nlaptop -> late 20th century\\n Poor Richard's Almanack -> 1700s\\n American History Museum -> late 20th century\"],\n",
       " ['Attila the Hun -> 5th century\\nMulan -> 5th century\\n\\nCould the sentence be true based on the time periods alone: No'],\n",
       " ['Southern U.S. slaves -> 15th century - late 18th century\\n13th amendment -> late 18th century'],\n",
       " ['F1 World Championship -> since 1950\\nDale Earnhardt Jr. -> 1974\\n\\nCould the sentence be true based on the time periods alone: No'],\n",
       " ['ancient Greek philosophers -> 6th century BC\\ngolf -> 15th century\\n\\nCould the sentence be true based on the time periods alone: No'],\n",
       " ['Catherine the Great -> 18th century\\nQianlong Emperor -> 18th century\\nCatherine Palace -> 18th century\\n\\nCould the sentence be true based on the time periods alone: Yes'],\n",
       " ['Edison -> late 19th century\\nda Vinci -> 15th century\\nGalilei -> 16th century\\nGeneva -> before 2nd century BC\\n5G -> 21st century\\n\\nCould the sentence be true based on the time periods alone: No'],\n",
       " ['Hannibal -> 9th century BC\\nCrassus -> 1st century BC\\n\\nCould the sentence be true based on the time periods alone: No'],\n",
       " ['Mongolian horse rider -> 13th century \\nbow -> 17,500-18,000 years ago\\ndeer -> 50 million years ago'],\n",
       " ['Lewis and Clark Expedition -> early 19th century\\nOregon -> early 19th century\\nMissouri -> early 19th century\\n\\nCould the sentence be true based on the time periods alone: Yes'],\n",
       " ['author -> 1943 \\nElizabeth II -> 1952\\n\\nCould the sentence be true based on the time periods alone: Yes'],\n",
       " ['tourist -> 16th century\\ndodo -> 17th century\\nIcelandic police -> 18th century\\n\\nCould the sentence be true based on the time periods alone: No'],\n",
       " ['scientist -> 3000 BCE\\ncell phone -> mid 1980s\\nPerseverance -> 3 October 2022\\n\\nCould the sentence be true based on the time periods alone: Yes'],\n",
       " ['book -> 7th century\\nDavid Hume -> 18th century\\n\\nCould the sentence be true based on the time periods alone: No'],\n",
       " ['Celine Dion -> 1968-1989\\nJulia -> 1949'],\n",
       " ['Hedy Lamarr -> 20th century\\nJulia -> 20th century\\n\\nCould the sentence be true based on the time periods alone: Yes'],\n",
       " ['The Great Depression -> 1929 - 1939\\nThe Salem Witch Trials -> 1692 - 1693\\n\\nCould the sentence be true based on the time periods alone: No'],\n",
       " ['Ford Model T -> early 20th century\\nsolar panel -> late 19th century\\n\\nCould the sentence be true based on the time periods alone: No'],\n",
       " ['mason -> 18th century\\njackhammer -> 19th century\\nNotre Dame Cathedral -> 12th century\\n\\nCould the sentence be true based on the time periods alone: No'],\n",
       " ['Dwight Eisenhower -> 20th century\\nSpace Force -> 2019\\n\\nCould the sentence be true based on the time periods alone: No'],\n",
       " ['Vasco de Gama -> 1497\\nCape of Good Hope -> first European sighting was in the 15th century\\nGPS -> 1973'],\n",
       " ['I -> 21st century\\nriver -> pre-industrial era\\nWashington DC -> 18th century\\nFriends -> 20th century\\n\\nCould the sentence be true based on the time periods alone: No'],\n",
       " ['pyramids at Giza -> 2589 BC\\njazz -> late 19th century\\n\\nCould the sentence be true based on the time periods alone: No'],\n",
       " ['Dr. Elizabeth Garrett Anderson -> early 20th century\\nobelisk -> 18th dynasty\\nCity of Westminster -> 10th century'],\n",
       " ['Tourist -> 16th century\\nPet turtle -> 21st century\\n\\nCould the sentence be true based on the time periods alone: No'],\n",
       " ['Utahraptor -> Early Cretaceous period\\nIguanodon -> late Jurassic Period to early Cretaceous Period\\n\\nCould the sentence be true based on the time periods alone: Yes'],\n",
       " ['hip hop -> 1970s\\nCold War -> 1945\\n\\nCould the sentence be true based on the time periods alone: Yes'],\n",
       " ['F1 World Championship -> 1950\\nGiuseppe Farina -> 1950\\n\\nCould the sentence be true based on the time periods alone: Yes'],\n",
       " ['MacKenzie Scott -> 21st century\\nBill Gates -> 20th century\\n\\nCould the sentence be true based on the time periods alone: Yes'],\n",
       " [\"Benjamin Franklin -> 18th century\\nPoor Richard's Almanack -> 18th century\\nAmerican History Museum -> 19th century\"],\n",
       " ['T. rex -> Late Cretaceous\\ntriceratops -> Late Cretaceous\\n\\nCould the sentence be true based on the time periods alone: Yes'],\n",
       " ['George Washington Carver -> Late 19th century\\nMahatama Gandhi -> Late 19th century/Early 20th century\\nSoylent -> 21st century\\n\\nCould the sentence be true based on the time periods alone: No'],\n",
       " ['Ellen Johnson-Sirleaf -> 2006-2018\\nDogecoin -> 2013-2021\\n\\nCould the sentence be true based on the time periods alone: Yes'],\n",
       " ['Surena -> 1st century BC\\nParthian Empire -> 247 BC to 224 AD\\nCrassus -> Late Roman Republic'],\n",
       " ['Ponce De Leon -> 16th century \\nmessenger pigeon -> 20,000 years ago\\n\\nCould the sentence be true based on the time periods alone: No'],\n",
       " ['student -> 18 years old or beyond high school\\nTlahuicole -> 1851\\n\\nCould the sentence be true based on the time periods alone: Yes'],\n",
       " ['Dwight Eisenhower -> 20th century\\nUnited States Army -> 18th century\\n\\nCould the sentence be true based on the time periods alone: Yes'],\n",
       " ['Thomas Jefferson -> 18th century\\nHoneycrisp apples -> 1990s\\nSummer Afternoon -> 1903'],\n",
       " ['T. rex -> 90 to 66 million years ago\\nWagyu cattle -> 2,000 years ago\\n\\nCould the sentence be true based on the time periods alone: No'],\n",
       " ['domestication of the dog -> Holocene era\\ntriceratops fossil -> Cretaceous Period\\n\\nCould the sentence be true based on the time periods alone: No'],\n",
       " ['movie in color -> late 19th century \\nAngela Merkel -> 20th century\\n\\nCould the sentence be true based on the time periods alone: No'],\n",
       " ['Antonio Salieri -> late 18th century\\nThe Marriage of Figaro -> late 18th century\\n\\nCould the sentence be true based on the time periods alone: Yes'],\n",
       " ['Stegosaurus -> Late Jurassic\\nBeagle -> 1830s\\n\\nCould the sentence be true based on the time periods alone: No'],\n",
       " ['student -> after high school\\nConnor McGregor -> 2010s\\n\\nCould the sentence be true based on the time periods alone: Yes'],\n",
       " ['Eric the Red -> 10th century\\nGreenland -> 10th century\\n\\nCould the sentence be true based on the time periods alone: Yes'],\n",
       " ['Homo erectus -> 1.89 million - 110,000 years ago\\nSmilodon -> 2.5 mya – 10,000 years ago\\n\\nCould the sentence be true based on the time periods alone: Yes'],\n",
       " ['Dr. Elizabeth Garrett Anderson -> 19th century\\nmoto jacket -> 20th century\\nobelisk -> Ancient Egypt'],\n",
       " ['pioneers -> 16th century\\nCapoeira -> 16th century\\nmechanical age -> 1450-1840\\noral tradition -> all time periods'],\n",
       " ['Alexander the Great -> 4th century BCE\\nSeneca the Elder -> 1st century CE\\n\\nCould the sentence be true based on the time periods alone: No'],\n",
       " ['polar bear -> billions of years ago\\nPomeranian -> Central Europe\\n\\nCould the sentence be true based on the time periods alone: No'],\n",
       " ['COVID-19 -> 21st century\\n17th century -> 1601-1700\\n\\nCould the sentence be true based on the time periods alone: No'],\n",
       " ['Muhammad al-Khwarizmi -> 8th century\\nphone -> late 20th century\\ncalculator -> early 1960s'],\n",
       " ['Pepin the Short -> 8th century\\nBertrada -> 8th century\\npiano -> 18th century\\n\\nCould the sentence be true based on the time periods alone: No'],\n",
       " ['Enigma Machine -> early- to mid- 20th century\\nAllies -> World War II\\nPublic Enemy -> mid-1980s\\n\\nCould the sentence be true based on the time periods alone: Yes'],\n",
       " ['Sun Tzu -> Eastern Zhou period\\nBay of Pigs -> April 15, 1961\\n\\nCould the sentence be true based on the time periods alone: No'],\n",
       " ['bubonic plague -> 541, 1347, 1894\\n21st century -> 2001-2100\\n\\nCould the sentence be true based on the time periods alone: Yes'],\n",
       " [\"Hammurabi's Code -> 18th century bce\\nintegrated development environment -> 21st century\"],\n",
       " ['Southern U.S. slaves -> 15th century - 18th century\\n18th amendment -> 1919'],\n",
       " ['Pepin the Short -> 8th century \\nBertrada -> 8th century \\nsongs -> ancient song forms\\n\\nCould the sentence be true based on the time periods alone: Yes'],\n",
       " ['dodo -> 1681 \\nIguanodon -> late Jurassic Period\\n\\nCould the sentence be true based on the time periods alone: No'],\n",
       " ['Lewis Hamilton -> late 20th century\\nQueen -> mid 20th century\\n\\nCould the sentence be true based on the time periods alone: No'],\n",
       " ['Woodrow Wilson -> 20th century\\nU.S. -> 18th century\\nLeague of Nations -> 20th century\\n\\nCould the sentence be true based on the time periods alone: Yes'],\n",
       " ['Ottoman Empire -> 13th century \\nWTO -> 1995\\nCOVID-19 -> 2019\\n\\nCould the sentence be true based on the time periods alone: Yes'],\n",
       " ['Syngman Rhee -> 1948-1960 \\nHugo Chavez -> 1999-2013\\n\\nCould the sentence be true based on the time periods alone: Yes'],\n",
       " ['Anne Frank -> 20th century\\nUnderground Railroad -> 18th - 19th century\\n\\nCould the sentence be true based on the time periods alone: No'],\n",
       " ['George Washington -> 18th century\\nBali -> Paleolithic\\nAshikaga shogunate -> 14th century'],\n",
       " ['Roman emperor -> 27 BC - AD 14\\nFerrari -> 1939\\nColiseum -> 70 AD\\n\\nCould the sentence be true based on the time periods alone: No'],\n",
       " ['USS New Ironsides -> American Civil War\\nradar -> late 19th century\\n\\nCould the sentence be true based on the time periods alone: No'],\n",
       " ['George Washington Carver -> late 1800s \\nMahatama Gandhi -> early 1900s\\nsoybeans -> 1100 BC'],\n",
       " ['chihuahua -> 10,000 years ago\\nmoai -> 1000 CE\\n\\nCould the sentence be true based on the time periods alone: Yes'],\n",
       " ['Charlamagne -> 8th century\\nEncarta -> 20th century\\n\\nCould the sentence be true based on the time periods alone: No'],\n",
       " ['Beats -> 2006\\nMPC3000 -> 1993\\nhip hop -> 1970s\\n\\nCould the sentence be true based on the time periods alone: Yes'],\n",
       " ['Sally Hemings -> 18th century\\nHBO -> 20th century\\nTrue Detective -> 21st century\\n\\nCould the sentence be true based on the time periods alone: No'],\n",
       " ['Queen Himiko -> 3rd century\\nYayoi silk robes -> 300 BCE\\nBorn This Way Foundation -> 2010s\\n\\nCould the sentence be true based on the time periods alone: No'],\n",
       " ['George H. W. Bush -> late 20th century\\nOval Office -> early 20th century\\nGulf War -> late 20th century\\n\\nCould the sentence be true based on the time periods alone: Yes'],\n",
       " ['pyramids at Giza -> 2589 BC\\nmusic -> early Christian Church'],\n",
       " ['woolly mammoth -> extinction in the Holocene epoch\\nShih Tzu -> 10th century\\n\\nCould the sentence be true based on the time periods alone: No']]"
      ]
     },
     "execution_count": 522,
     "metadata": {},
     "output_type": "execute_result"
    }
   ],
   "source": [
    "answers"
   ]
  },
  {
   "cell_type": "code",
   "execution_count": 285,
   "id": "1946ab9d",
   "metadata": {},
   "outputs": [
    {
     "name": "stderr",
     "output_type": "stream",
     "text": [
      "184it [01:54,  1.61it/s]\n",
      "184it [01:49,  1.68it/s]\n",
      "184it [01:55,  1.60it/s]\n",
      "184it [01:52,  1.64it/s]\n",
      "184it [01:48,  1.69it/s]\n",
      "184it [01:55,  1.60it/s]\n",
      "184it [01:53,  1.63it/s]\n",
      "184it [01:50,  1.66it/s]\n",
      "184it [01:53,  1.62it/s]\n",
      "184it [01:51,  1.65it/s]\n"
     ]
    },
    {
     "data": {
      "text/plain": [
       "0.009094130723196474"
      ]
     },
     "execution_count": 285,
     "metadata": {},
     "output_type": "execute_result"
    }
   ],
   "source": [
    "perf = []\n",
    "for i in range(10):\n",
    "    answers = []\n",
    "    for sentence, background in tqdm.tqdm(zip(inputs, search_background)):\n",
    "        prompt, answer = anachronismWithSearch(sentence, background.strip())\n",
    "        answers.append(answer)\n",
    "    preds = np.array([int(x[0].endswith('No')) for x in answers])\n",
    "    perf.append((preds == labels).mean())\n",
    "np.mean(perf)\n",
    "np.std(perf)"
   ]
  },
  {
   "cell_type": "code",
   "execution_count": 286,
   "id": "57d5b252",
   "metadata": {},
   "outputs": [
    {
     "data": {
      "text/plain": [
       "0.7065217391304348"
      ]
     },
     "execution_count": 286,
     "metadata": {},
     "output_type": "execute_result"
    }
   ],
   "source": [
    "np.mean(perf)"
   ]
  },
  {
   "cell_type": "code",
   "execution_count": 295,
   "id": "1be6a1b7",
   "metadata": {},
   "outputs": [
    {
     "data": {
      "text/plain": [
       "184"
      ]
     },
     "execution_count": 295,
     "metadata": {},
     "output_type": "execute_result"
    }
   ],
   "source": [
    "len(search_background)"
   ]
  },
  {
   "cell_type": "code",
   "execution_count": 400,
   "id": "af339710",
   "metadata": {},
   "outputs": [
    {
     "name": "stderr",
     "output_type": "stream",
     "text": [
      "0it [00:00, ?it/s]"
     ]
    },
    {
     "name": "stdout",
     "output_type": "stream",
     "text": [
      "0.5108695652173914\n",
      "0.0\n"
     ]
    },
    {
     "name": "stderr",
     "output_type": "stream",
     "text": [
      "\n"
     ]
    }
   ],
   "source": [
    "perf = []\n",
    "for i in range(10):\n",
    "    answers = []\n",
    "    for sentence, background in tqdm.tqdm(zip(inputs, search_background_1step)):\n",
    "        prompt, answer = anachronismWithSearch1Step(sentence, background.strip())\n",
    "        answers.append(answer)\n",
    "    preds = np.array([int(x[0].endswith('No')) for x in answers])\n",
    "    perf.append((preds == labels).mean())\n",
    "print(np.mean(perf))\n",
    "print(np.std(perf))"
   ]
  },
  {
   "cell_type": "code",
   "execution_count": 477,
   "id": "107e991b",
   "metadata": {},
   "outputs": [
    {
     "name": "stderr",
     "output_type": "stream",
     "text": [
      "184it [07:02,  2.30s/it]\n",
      "184it [01:40,  1.84it/s]\n",
      "184it [07:08,  2.33s/it]\n",
      "184it [01:44,  1.75it/s]\n",
      "184it [07:11,  2.35s/it]\n",
      "184it [01:45,  1.75it/s]\n",
      "184it [07:17,  2.38s/it]\n",
      "184it [01:45,  1.74it/s]\n",
      "184it [07:26,  2.42s/it]\n",
      "184it [01:50,  1.66it/s]"
     ]
    },
    {
     "name": "stdout",
     "output_type": "stream",
     "text": [
      "0.6945652173913043\n",
      "0.01513955247520016\n"
     ]
    },
    {
     "name": "stderr",
     "output_type": "stream",
     "text": [
      "\n"
     ]
    }
   ],
   "source": [
    "## Program to use search results to get better estimates of century and then use that for anachronism task.\n",
    "perf = []\n",
    "for i in range(5):\n",
    "    retrieval_based_time_periods = []\n",
    "    for i, ex in tqdm.tqdm(enumerate(entity_list)):\n",
    "        ents = ex[0].split(\"\\n\")\n",
    "        entity_search_results = all_search_dict[i]\n",
    "        all_time_periods = \"\"\n",
    "        for entity, search_background in zip(ents, entity_search_results):\n",
    "            # Combine with the right background info , send to get get centuries\n",
    "            background_text = render_results(search_background, top_k=2)\n",
    "            prompt, time_period = fineTimePeriod(entity, background_text.strip())\n",
    "            all_time_periods += time_period[0].strip() + \"\\n\"\n",
    "        retrieval_based_time_periods.append(all_time_periods)\n",
    "\n",
    "    answers = []\n",
    "    for sentence, background in tqdm.tqdm(zip(inputs, retrieval_based_time_periods)):\n",
    "        prompt, answer = anachronismWithSearchForCentury(sentence, background.strip())\n",
    "        answers.append(answer)\n",
    "    preds = np.array([int(x[0].endswith('No')) for x in answers])\n",
    "    perf.append((preds == labels).mean())\n",
    "print(np.mean(perf))\n",
    "print(np.std(perf))"
   ]
  },
  {
   "cell_type": "code",
   "execution_count": 473,
   "id": "e7eec364",
   "metadata": {},
   "outputs": [
    {
     "name": "stdout",
     "output_type": "stream",
     "text": [
      "Given a sentence tell me if it could have happened or not based on the time periods of the entities.\n",
      "Sentence: I wrote about shakespeare\n",
      "\n",
      "Entities and dates:\n",
      "Shakespeare -> 1567-1616\n",
      "I -> from 1996\n",
      "\n",
      "Could the sentence be true based on the time periods alone: Yes\n",
      "----\n",
      "Sentence: Shakespeare wrote about me\n",
      "\n",
      "Entities and dates:\n",
      "Shakespeare -> from 1996\n",
      "I -> 1567-1616\n",
      "\n",
      "Could the sentence be true based on the dates alone: No\n",
      "----\n",
      "Sentence: The Dodo was capable of hunting large herbivores like the Iguandodon\n",
      "\n",
      "Entities and dates:\n",
      "Dodo -> 1681\n",
      "Iguanodon -> 99.6 million years ago\n",
      "\n",
      "Could the sentence be true based on the time periods alone: No\n",
      "----\n",
      "Sentence: The engineer upgraded the USS New Ironsides' radar system.\n",
      "\n",
      "Entities and dates:\n",
      "USS New Ironsides -> American Civil War\n",
      "radar -> 1930\n",
      "\n",
      "Could the sentence be true based on the time periods alone: No\n",
      "----\n",
      "Sentence: William the Conqueror enjoyed plenty of chile peppers to flavor his meals.\n",
      "\n",
      "Entities and dates:\n",
      "William the Conqueror -> 1028-1087\n",
      "chili peppers -> 5000-6000 BC\n",
      "\n",
      "Could the sentence be true based on the time periods alone:\n"
     ]
    }
   ],
   "source": [
    "print(prompt)"
   ]
  },
  {
   "cell_type": "code",
   "execution_count": 474,
   "id": "6e3e1623",
   "metadata": {},
   "outputs": [
    {
     "data": {
      "text/plain": [
       "[' Yes']"
      ]
     },
     "execution_count": 474,
     "metadata": {},
     "output_type": "execute_result"
    }
   ],
   "source": [
    "answer"
   ]
  },
  {
   "cell_type": "markdown",
   "id": "3974676c",
   "metadata": {},
   "source": [
    "### Error analysis"
   ]
  },
  {
   "cell_type": "code",
   "execution_count": null,
   "id": "e26714a1",
   "metadata": {},
   "outputs": [],
   "source": []
  },
  {
   "cell_type": "code",
   "execution_count": null,
   "id": "84e8afc5",
   "metadata": {},
   "outputs": [],
   "source": []
  }
 ],
 "metadata": {
  "kernelspec": {
   "display_name": "Python 3 (ipykernel)",
   "language": "python",
   "name": "python3"
  },
  "language_info": {
   "codemirror_mode": {
    "name": "ipython",
    "version": 3
   },
   "file_extension": ".py",
   "mimetype": "text/x-python",
   "name": "python",
   "nbconvert_exporter": "python",
   "pygments_lexer": "ipython3",
   "version": "3.9.11"
  }
 },
 "nbformat": 4,
 "nbformat_minor": 5
}
