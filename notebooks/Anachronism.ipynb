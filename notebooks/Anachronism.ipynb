{
 "cells": [
  {
   "cell_type": "code",
   "execution_count": 65,
   "id": "08611fdd",
   "metadata": {},
   "outputs": [],
   "source": [
    "import seqio\n",
    "import os\n",
    "os.environ['CURL_CA_BUNDLE'] = \"/etc/ssl/certs/ca-bundle.crt\"\n",
    "from bigbench.bbseqio import tasks\n",
    "vocabulary=seqio.SentencePieceVocabulary(\"/gscratch/zlab/bparan/projects/cascades/models/t5-spiece.model\")\n",
    "from sklearn.metrics import accuracy_score\n",
    "import json\n",
    "import tqdm"
   ]
  },
  {
   "cell_type": "code",
   "execution_count": 1,
   "id": "1fa9ee26",
   "metadata": {},
   "outputs": [
    {
     "name": "stderr",
     "output_type": "stream",
     "text": [
      "2022-10-03 12:33:32.201508: I tensorflow/core/util/util.cc:169] oneDNN custom operations are on. You may see slightly different numerical results due to floating-point round-off errors from different computation orders. To turn them off, set the environment variable `TF_ENABLE_ONEDNN_OPTS=0`.\n",
      "2022-10-03 12:34:17.117214: W tensorflow/stream_executor/platform/default/dso_loader.cc:64] Could not load dynamic library 'libcudnn.so.8'; dlerror: libcudnn.so.8: cannot open shared object file: No such file or directory\n",
      "2022-10-03 12:34:17.117236: W tensorflow/core/common_runtime/gpu/gpu_device.cc:1850] Cannot dlopen some GPU libraries. Please make sure the missing libraries mentioned above are installed properly if you would like to use GPU. Follow the guide at https://www.tensorflow.org/install/gpu for how to download and setup the required libraries for your platform.\n",
      "Skipping registering GPU devices...\n"
     ]
    }
   ],
   "source": [
    "import datasets\n",
    "import os\n",
    "import openai\n",
    "import numpy as np\n",
    "with open(os.path.expanduser('~/.openai_api_key'), 'r') as file:\n",
    "    openai.api_key = file.read().replace('\\n', '')\n",
    "\n",
    "import adatest"
   ]
  },
  {
   "cell_type": "code",
   "execution_count": 322,
   "id": "b0c7826c",
   "metadata": {},
   "outputs": [
    {
     "name": "stderr",
     "output_type": "stream",
     "text": [
      "WARNING:datasets.builder:Found cached dataset bigbench (/gscratch/zlab/bparan/projects/cascades/data/bigbench/anachronisms/1.0.0/7d2f6e537fa937dfaac8b1c1df782f2055071d3fd8e4f4ae93d28012a354ced0)\n"
     ]
    },
    {
     "data": {
      "application/vnd.jupyter.widget-view+json": {
       "model_id": "6ae52629dc9446ea98a631c9c9040f42",
       "version_major": 2,
       "version_minor": 0
      },
      "text/plain": [
       "  0%|          | 0/3 [00:00<?, ?it/s]"
      ]
     },
     "metadata": {},
     "output_type": "display_data"
    }
   ],
   "source": [
    "d = datasets.load_dataset('bigbench', 'anachronisms', cache_dir='/gscratch/zlab/bparan/projects/cascades/data')"
   ]
  },
  {
   "cell_type": "code",
   "execution_count": 337,
   "id": "b0f2bc24",
   "metadata": {},
   "outputs": [
    {
     "data": {
      "text/plain": [
       "184.0"
      ]
     },
     "execution_count": 337,
     "metadata": {},
     "output_type": "execute_result"
    }
   ],
   "source": [
    "d_val = [ex['inputs'].split(\"\\n\")[0] for ex in d['validation']]\n",
    "d_train = [ex['inputs'].split(\"\\n\")[0] for ex in d['train']]\n",
    "# all([sent in d_train for sent in d_val])"
   ]
  },
  {
   "cell_type": "code",
   "execution_count": 141,
   "id": "c92cf424",
   "metadata": {},
   "outputs": [],
   "source": [
    "import numpy as np\n",
    "hg_inputs = d['validation']['inputs']\n",
    "hg_inputs = [x.split('\\n')[0] for x in hg_inputs]\n",
    "hg_labels = np.array([int(x[0] == 'Yes') for x in d['validation']['targets']])"
   ]
  },
  {
   "cell_type": "code",
   "execution_count": 335,
   "id": "9bb7284d",
   "metadata": {},
   "outputs": [
    {
     "name": "stderr",
     "output_type": "stream",
     "text": [
      "WARNING:absl:Using an uncached FunctionDataset for training is not recommended since it often results in insufficient shuffling on restarts, resulting in overfitting. It is highly recommended that you cache this task before training with it or use a data source that supports lower-level shuffling (e.g., FileDataSource).\n"
     ]
    }
   ],
   "source": [
    "task = seqio.get_mixture_or_task(\n",
    "    \"bigbench:anachronisms.mul.t5_default_vocab.0_shot.all_examples\")\n",
    "sequence_length = {\"inputs\": 1024, \"targets\": 1024}\n",
    "ds = task.get_dataset(sequence_length)"
   ]
  },
  {
   "cell_type": "code",
   "execution_count": 136,
   "id": "593489c3",
   "metadata": {},
   "outputs": [],
   "source": [
    "input_set = set()\n",
    "for ex in ds:\n",
    "    inp = ex['inputs_pretokenized'].numpy().decode()\n",
    "    label = ex['answers'][0].numpy().decode()\n",
    "    if (inp,label) in input_set:\n",
    "        continue\n",
    "    else:\n",
    "        input_set.add((inp, label))\n",
    "inputs = []\n",
    "label_strings = []\n",
    "for tup in input_set:\n",
    "    inputs.append(tup[0].split(\"\\n\")[0])\n",
    "    label_strings.append(tup[1])\n",
    "labels = np.array([int(x == 'Yes') for x in label_strings])"
   ]
  },
  {
   "cell_type": "code",
   "execution_count": 8,
   "id": "087b3ea5",
   "metadata": {},
   "outputs": [],
   "source": [
    "class OpenAIModel(adatest.Model):\n",
    "    def __init__(self, model=\"text-davinci-002\", quote=\"\\\"\", temperature=0.7, top_p=1, max_length=30, n=1):\n",
    "        self.model = model\n",
    "        self.api_key = openai.api_key\n",
    "        self.quote = quote\n",
    "        self.temperature = temperature\n",
    "        self.top_p = top_p\n",
    "        self.max_length = max_length\n",
    "        self.n = n\n",
    "    def __call__(self, strings):\n",
    "        resp = openai.Completion.create(\n",
    "            model=self.model,\n",
    "            prompt=strings,\n",
    "            max_tokens=self.max_length,\n",
    "            temperature=self.temperature,\n",
    "            top_p=self.top_p,\n",
    "            n=self.n,\n",
    "            stop=self.quote,\n",
    "        )\n",
    "        return [x[\"text\"] for x in resp['choices']]\n",
    "\n",
    "gpt3 = OpenAIModel(model=\"text-davinci-002\",  max_length=200, quote='', n=1)\n"
   ]
  },
  {
   "cell_type": "code",
   "execution_count": 9,
   "id": "fe60a998",
   "metadata": {},
   "outputs": [],
   "source": [
    "def anachronism(x):\n",
    "    gpt3 = OpenAIModel(model=\"text-davinci-002\",  max_length=200, quote='---', n=1)\n",
    "    prompt = '''Given a sentence and the time periods of each entity in it, tell me if it could have happened or not.\n",
    "Sentence: I wrote about shakespeare\n",
    "Entities and dates:\n",
    "I -> 21st century\n",
    "Shakespeare -> 16th century\n",
    "Could the sentence be true based on the dates alone: Yes\n",
    "----\n",
    "Sentence: Shakespeare wrote about me\n",
    "\n",
    "Entities and dates:\n",
    "Shakespeare -> 16th century\n",
    "I -> 21st century\n",
    "\n",
    "Could the sentence be true based on the dates alone: No\n",
    "----\n",
    "Sentence: %s''' % x\n",
    "    return gpt3(prompt)\n"
   ]
  },
  {
   "cell_type": "code",
   "execution_count": 10,
   "id": "1feb73f4",
   "metadata": {},
   "outputs": [],
   "source": [
    "def anachronismv2(x):\n",
    "    gpt3 = OpenAIModel(model=\"text-davinci-002\",  max_length=200, quote='---', n=1)\n",
    "    prompt = '''Given a sentence tell me if it could have happened or not based on the time periods of the entities.\n",
    "Sentence: I wrote about shakespeare\n",
    "Could the sentence be true based on the time periods alone: Yes\n",
    "----\n",
    "Sentence: Shakespeare wrote about me\n",
    "Could the sentence be true based on the time periods alone: No\n",
    "----\n",
    "Sentence: %s''' % x\n",
    "    return gpt3(prompt)"
   ]
  },
  {
   "cell_type": "code",
   "execution_count": 11,
   "id": "4f83326e",
   "metadata": {},
   "outputs": [],
   "source": [
    "def anachronismv3(x):\n",
    "    prompt = '''Given a sentence, extract the entities and their relationships, and tell me if they are anachronistic.\n",
    "Sentence: I wrote about shakespeare\n",
    "Relationships:\n",
    "- (I, write about, shakespeare) -> not anachronistic, \n",
    "----\n",
    "Sentence: Shakespeare wrote about me\n",
    "Relationships:\n",
    "- (shakespeare, write about, me) -> anachronistic\n",
    "----\n",
    "Sentence: The builders of the pyramids at Giza listened to jazz during their break.\n",
    "Relationships:\n",
    "- (builders, listen to, jazz) -> anachronistic\n",
    "----\n",
    "Sentence: %s\n",
    "''' % x\n",
    "    return gpt3(prompt)"
   ]
  },
  {
   "cell_type": "code",
   "execution_count": 524,
   "id": "e258d420",
   "metadata": {},
   "outputs": [
    {
     "name": "stderr",
     "output_type": "stream",
     "text": [
      "100%|████████████████████████████████████████████████████████████████████████████████████████████████████████████████████████████████████████████████████████████████████████████████████████████████| 184/184 [06:06<00:00,  1.99s/it]\n"
     ]
    },
    {
     "data": {
      "text/plain": [
       "0.0"
      ]
     },
     "execution_count": 524,
     "metadata": {},
     "output_type": "execute_result"
    }
   ],
   "source": [
    "perf = []\n",
    "for iter in range(1):\n",
    "    answers = []\n",
    "    answers_without_search = []\n",
    "    for x in tqdm.tqdm(inputs):\n",
    "        answer = anachronism(x)\n",
    "        answers.append(answer)\n",
    "        answers_without_search.append(answer)\n",
    "    preds = np.array([int(x[0].endswith('No')) for x in answers])\n",
    "    perf.append((preds == labels).mean())\n",
    "np.mean(perf)\n",
    "np.std(perf)"
   ]
  },
  {
   "cell_type": "code",
   "execution_count": 515,
   "id": "6b8d9b36",
   "metadata": {},
   "outputs": [
    {
     "data": {
      "text/plain": [
       "0.7880434782608695"
      ]
     },
     "execution_count": 515,
     "metadata": {},
     "output_type": "execute_result"
    }
   ],
   "source": [
    "np.mean(perf)"
   ]
  },
  {
   "cell_type": "code",
   "execution_count": 13,
   "id": "8ec813d3",
   "metadata": {},
   "outputs": [],
   "source": [
    "answers2 = []\n",
    "for x in inputs:\n",
    "    answers2.append(anachronismv2(x))"
   ]
  },
  {
   "cell_type": "code",
   "execution_count": 14,
   "id": "da8d2d3f",
   "metadata": {},
   "outputs": [],
   "source": [
    "\n",
    "answers3 = []\n",
    "for x in inputs:\n",
    "    answers3.append(anachronismv3(x))"
   ]
  },
  {
   "cell_type": "code",
   "execution_count": 15,
   "id": "c30ba4e4",
   "metadata": {},
   "outputs": [],
   "source": [
    "preds = np.array([int(x[0].endswith('No')) for x in answers])"
   ]
  },
  {
   "cell_type": "code",
   "execution_count": 16,
   "id": "c7ed322e",
   "metadata": {},
   "outputs": [],
   "source": [
    "preds2 = np.array([int(x[0].endswith('No')) for x in answers2])"
   ]
  },
  {
   "cell_type": "code",
   "execution_count": 17,
   "id": "f79ee80b",
   "metadata": {},
   "outputs": [],
   "source": [
    "preds3 = np.array([1 - int('not anachronistic' in x[0]) for x in answers3])"
   ]
  },
  {
   "cell_type": "code",
   "execution_count": 44,
   "id": "d5af220e",
   "metadata": {},
   "outputs": [
    {
     "data": {
      "text/plain": [
       "0.7391304347826086"
      ]
     },
     "execution_count": 44,
     "metadata": {},
     "output_type": "execute_result"
    }
   ],
   "source": [
    "(preds == labels).mean()"
   ]
  },
  {
   "cell_type": "code",
   "execution_count": 19,
   "id": "af288166",
   "metadata": {},
   "outputs": [
    {
     "data": {
      "text/plain": [
       "0.6086956521739131"
      ]
     },
     "execution_count": 19,
     "metadata": {},
     "output_type": "execute_result"
    }
   ],
   "source": [
    "(preds2 == labels).mean()"
   ]
  },
  {
   "cell_type": "code",
   "execution_count": 20,
   "id": "32720d7f",
   "metadata": {},
   "outputs": [
    {
     "data": {
      "text/plain": [
       "0.6739130434782609"
      ]
     },
     "execution_count": 20,
     "metadata": {},
     "output_type": "execute_result"
    }
   ],
   "source": [
    "(preds3 == labels).mean()"
   ]
  },
  {
   "cell_type": "code",
   "execution_count": 67,
   "id": "bd2f14a1",
   "metadata": {},
   "outputs": [
    {
     "name": "stdout",
     "output_type": "stream",
     "text": [
      "Jason, the first person to explore the ancient pyramid in over 2000 years, opened a sealed box inside and found a floppy disk.\n",
      "\n",
      "\n",
      "Jason -> 21st century\n",
      "ancient pyramid -> ?\n",
      "\n",
      "Could the sentence be true based on the dates alone:\n",
      "\n",
      "The sentence could be true if the ancient pyramid is from the 21st century.\n",
      "1\n",
      "----\n",
      "The first ever movie in color depicted the life of Sacagawea.\n",
      "\n",
      "\n",
      "Entities and dates:\n",
      "The first ever movie in color -> late 19th century\n",
      "Sacagawea -> late 18th century - early 19th century\n",
      "\n",
      "Could the sentence be true based on the dates alone: No\n",
      "0\n",
      "----\n",
      "Jason, while exploring an ancient pyramid, opened a sealed box inside and found a floppy disk.\n",
      "\n",
      "\n",
      "Entities and dates:\n",
      "Jason -> 21st century\n",
      "floppy disk -> 1970s-2000s\n",
      "\n",
      "Could the sentence be true based on the dates alone: No\n",
      "0\n",
      "----\n",
      "During their meetings in Bali, George Washington and the delegate of the Tokugawa shogunate exchanged gifts.\n",
      "\n",
      "\n",
      "Entities and dates:\n",
      "George Washington -> 18th century\n",
      "Tokugawa shogunate -> 17th century\n",
      "\n",
      "Could the sentence be true based on the dates alone: No\n",
      "0\n",
      "----\n",
      "Donnie Yen the martial artist acted in the live-action remake of Mulan.\n",
      "\n",
      "\n",
      "Entities and dates:\n",
      "Donnie Yen -> 20th century\n",
      "Mulan -> 6th century\n",
      "\n",
      "Could the sentence be true based on the dates alone: No\n",
      "0\n",
      "----\n",
      "The appearance of prokaryotes on Earth coincided with the formation of the moon.\n",
      "\n",
      "\n",
      "Entities and dates:\n",
      "Prokaryotes -> 3.5 billion years ago\n",
      "Earth -> 4.5 billion years ago\n",
      "Moon -> 4.5 billion years ago\n",
      "\n",
      "Could the sentence be true based on the dates alone: Yes\n",
      "1\n",
      "----\n",
      "The sun's creation during the early universe is the cause of its size, color, and brightness.\n",
      "\n",
      "\n",
      "Entities and dates:\n",
      "The sun -> 4.6 billion years ago\n",
      "The early universe -> 13.8 billion years ago\n",
      "\n",
      "Could the sentence be true based on the dates alone: Yes\n",
      "1\n",
      "----\n",
      "The emperor rode his Ferrari to the Coliseum.\n",
      "\n",
      "\n",
      "Entities and dates:\n",
      "Emperor -> 1st century\n",
      "Ferrari -> 21st century\n",
      "Coliseum -> 1st century\n",
      "\n",
      "Could the sentence be true based on the dates alone: No\n",
      "0\n",
      "----\n",
      "Having broken Enigma Machine encryption, the Allies were able to map enemy movement through the trenches of Passchendaele.\n",
      "\n",
      "\n",
      "Entities and dates:\n",
      "Enigma Machine -> 20th century\n",
      "Allies -> 20th century\n",
      "Passchendaele -> 20th century\n",
      "\n",
      "Could the sentence be true based on the dates alone: Yes\n",
      "1\n",
      "----\n",
      "The US senator used her vote to help pass the Wade-Davis bill.\n",
      "\n",
      "\n",
      "Entities and dates:\n",
      "US senator -> 1864\n",
      "Wade-Davis bill -> 1864\n",
      "\n",
      "Could the sentence be true based on the dates alone: Yes\n",
      "1\n",
      "----\n",
      "When scientists found the female Australopithecus afarensis, AL 288-1, they named her Rosa Parks after the Outkast song.\n",
      "\n",
      "\n",
      "Entities and dates:\n",
      "\n",
      "Scientists -> 20th century\n",
      "Rosa Parks -> 20th century\n",
      "Outkast -> 20th century\n",
      "\n",
      "Could the sentence be true based on the dates alone: Yes\n",
      "1\n",
      "----\n",
      "Vasco de Gama avoided shipwreck by the Cape of Good Hope thanks to his astrolabe.\n",
      "\n",
      "\n",
      "Entities and dates:\n",
      "Vasco de Gama -> 15th century\n",
      "Cape of Good Hope -> 15th century\n",
      "Astrolabe -> 2nd century\n",
      "\n",
      "Could the sentence be true based on the dates alone: No\n",
      "0\n",
      "----\n"
     ]
    }
   ],
   "source": [
    "for x in np.where(preds != labels)[0]:\n",
    "    print(inputs[x])\n",
    "    print(answers[x][0])\n",
    "    print(labels[x])\n",
    "    print('----')"
   ]
  },
  {
   "cell_type": "markdown",
   "id": "b8163db4",
   "metadata": {},
   "source": [
    "### Web search affordance "
   ]
  },
  {
   "cell_type": "code",
   "execution_count": 517,
   "id": "6e92dd54",
   "metadata": {},
   "outputs": [],
   "source": [
    "from serpapi import GoogleSearch\n",
    "\n",
    "def search_entity(prompt_entity):\n",
    "    params = {\n",
    "      \"q\": \"What time period does %s belong to? When was it created or born?\" % prompt_entity,\n",
    "    #   \"location\": \"Austin, Texas, United States\",\n",
    "      \"hl\": \"en\",\n",
    "      \"gl\": \"us\",\n",
    "      \"google_domain\": \"google.com\",\n",
    "      \"api_key\": \"52a45ebae7c1189a57cd442515feebd0ee4f6ef0d02552afe4f7efa4bc73fc95\"\n",
    "    }\n",
    "\n",
    "    search = GoogleSearch(params)\n",
    "    results = search.get_dict()\n",
    "    return results\n",
    "\n",
    "\n",
    "# Gather organic results for search\n",
    "def render_results(data: dict, top_k=2) -> str:\n",
    "    if not data or not data.get(\"organic_results\"):\n",
    "        return \"No results found\"\n",
    "\n",
    "    results = []\n",
    "    for result in data[\"organic_results\"][:top_k]:\n",
    "        title = result.get(\"title\")\n",
    "        link = result.get(\"link\")\n",
    "        snippet = result.get(\"snippet\")\n",
    "        if not title or not link or not snippet:\n",
    "            continue\n",
    "        results.append(f\"{snippet.strip()}\")\n",
    "\n",
    "    return \"\\n\".join(results)\n",
    "\n",
    "\n",
    "def findEntities(x):\n",
    "    gpt3 = OpenAIModel(model=\"text-davinci-002\",  max_length=200, quote='---', n=1)\n",
    "    prompt = '''Given a sentence, give me the entities mentioned in it.\n",
    "Sentence: I wrote about shakespeare\n",
    "Entities:\n",
    "I\n",
    "Shakespeare\n",
    "----\n",
    "Sentence: The Dodo was capable of hunting large herbivores like the Iguandodon\n",
    "Entities:\n",
    "Dodo\n",
    "Iguandodon\n",
    "----\n",
    "Sentence: The engineer upgraded the USS New Ironsides' radar system.\n",
    "Entities: \n",
    "engineer\n",
    "USS New Ironsides\n",
    "radar\n",
    "----\n",
    "Sentence: %s\\nEntities:\\n''' % x\n",
    "    return gpt3(prompt)\n",
    "\n",
    "\n",
    "def anachronismWithSearch(x, b):\n",
    "    gpt3 = OpenAIModel(model=\"text-davinci-002\",  max_length=200, quote='---', n=1)\n",
    "    prompt = '''Given a sentence and backgroud information about it, tell me if it could have happened or not.\n",
    "Sentence: I wrote about shakespeare\n",
    "\n",
    "Background:\n",
    "Shakespeare produced most of his known works between 1589 and 1613. ... His early plays were primarily comedies and histories and are regarded as some of the best ...\n",
    "Shakespeare lived from 1567 to 1616. Scholars and historians often refer to him being a part of the Elizabethan Era, the period of English ...\n",
    "Generation Z Characteristics. Gen Z, also known as iGen, Centennials, etc., starts with those born in approximately 1996. The oldest members of this generation ...\n",
    "\n",
    "Could the sentence be true based on the background: Yes\n",
    "----\n",
    "Sentence: The Dodo was capable of hunting large herbivores like the Iguandodon\n",
    "\n",
    "Background:\n",
    "The dodo (Raphus cucullatus) is an extinct flightless bird that was endemic to the island of Mauritius, which is east of Madagascar in the Indian Ocean.\n",
    "The dodo was extinct by 1681, the Réunion solitaire by 1746, and the Rodrigues solitaire by about 1790.\n",
    "While many species have been classified in the genus Iguanodon, dating from the late Jurassic Period to the early Cretaceous Period of Asia, Europe, and North ...\n",
    "Iguanodon, (genus Iguanodon), large herbivorous dinosaurs found as fossils from the Late Jurassic and Early Cretaceous periods (161.2 million to 99.6 ...\n",
    "\n",
    "Could the sentence be true based on the background: No\n",
    "----\n",
    "Sentence: The engineer upgraded the USS New Ironsides' radar system.\n",
    "\n",
    "Background:\n",
    "USS New Ironsides was a wooden-hulled broadside ironclad built for the United States Navy during the American Civil War. The ship spent most of her career ...\n",
    "Civil War, only the U.S.S. New Ironsides was a seagoing, high-freeboard design. Her seagoing qualities and heavy battery made her uniquely valuable to the ...\n",
    "The history of radar started with experiments by Heinrich Hertz in the late 19th century that showed that radio waves were reflected by metallic objects.\n",
    "The principle of radar was “rediscovered” at NRL in 1930 when L.A. Hyland observed that an aircraft flying through the beam of a transmitting antenna caused a ...\n",
    "\n",
    "Could the sentence be true based on the background: No\n",
    "----\n",
    "Sentence: %s\n",
    "\n",
    "Background:\n",
    "%s\n",
    "\n",
    "Could the sentence be true based on the background:''' % (x, b)\n",
    "    return prompt, gpt3(prompt)\n",
    "\n",
    "\n",
    "def anachronismWithSearch1Step(x, b):\n",
    "    gpt3 = OpenAIModel(model=\"text-davinci-002\",  max_length=200, quote='---', n=1)\n",
    "    prompt = '''Given a sentence and backgroud information about it, tell me if it could have happened or not.\n",
    "Sentence: I wrote about shakespeare\n",
    "\n",
    "Background:\n",
    "Shakespeare lived from 1567 to 1616. Scholars and historians often refer to him being a part of the Elizabethan Era, the period of English ...\n",
    "Generation Z Characteristics. Gen Z, also known as iGen, Centennials, etc., starts with those born in approximately 1996. The oldest members of this generation ...\n",
    "\n",
    "Could the sentence be true based on the background: Yes\n",
    "----\n",
    "Sentence: The Dodo was capable of hunting large herbivores like the Iguandodon\n",
    "\n",
    "Background:\n",
    "The dodo was extinct by 1681, the Réunion solitaire by 1746, and the Rodrigues solitaire by about 1790.\n",
    "Iguanodon, (genus Iguanodon), large herbivorous dinosaurs found as fossils from the Late Jurassic and Early Cretaceous periods (161.2 million to 99.6 million years ago)\n",
    "\n",
    "Could the sentence be true based on the background: No\n",
    "----\n",
    "Sentence: The engineer upgraded the USS New Ironsides' radar system.\n",
    "\n",
    "Background:\n",
    "USS New Ironsides was a wooden-hulled broadside ironclad built for the United States Navy during the American Civil War. The ship spent most of her career ...\n",
    "The history of radar started with experiments by Heinrich Hertz in the late 19th century that showed that radio waves were reflected by metallic objects.\n",
    "\n",
    "Could the sentence be true based on the background: No\n",
    "----\n",
    "Sentence: %s\n",
    "\n",
    "Background:\n",
    "%s\n",
    "\n",
    "Could the sentence be true based on the background:''' % (x, b)\n",
    "    return prompt, gpt3(prompt)\n",
    "\n",
    "\n",
    "def fineTimePeriod(x, b):\n",
    "    gpt3 = OpenAIModel(model=\"text-davinci-002\",  max_length=200, quote='---', n=1)\n",
    "#     prompt = '''Given an entity and backgroud information about it, what century did it exist in?\n",
    "# Shakespeare\n",
    "# Shakespeare produced most of his known works between 1589 and 1613. ... His early plays were primarily comedies and histories and are regarded as some of the best ...\n",
    "# Shakespeare lived from 1567 to 1616. Scholars and historians often refer to him being a part of the Elizabethan Era, the period of English ...\n",
    "# Shakespeare -> 16th century\n",
    "\n",
    "# I\n",
    "# Generation Z Characteristics. Gen Z, also known as iGen, Centennials, etc., starts with those born in approximately 1996. The oldest members of this generation ...\n",
    "# I -> 20st century\n",
    "\n",
    "# Dodo\n",
    "# The dodo (Raphus cucullatus) is an extinct flightless bird that was endemic to the island of Mauritius, which is east of Madagascar in the Indian Ocean.\n",
    "# The dodo was extinct by 1681, the Réunion solitaire by 1746, and the Rodrigues solitaire by about 1790.\n",
    "# Dodo -> 17th century\n",
    "\n",
    "# radar\n",
    "# The principle of radar was “rediscovered” at NRL in 1930 when L.A. Hyland observed that an aircraft flying through the beam of a transmitting antenna caused a ...\n",
    "# The history of radar started with experiments by Heinrich Hertz in the late 19th century that showed that radio waves were reflected by metallic objects.\n",
    "# radar -> 20th century\n",
    "\n",
    "# %s\n",
    "# %s\n",
    "# ''' % (x, b)\n",
    "    prompt = '''Given an entity and backgroud information about it, what time period did it exist in?\n",
    "Entity: Shakespeare\n",
    "Shakespeare produced most of his known works between 1589 and 1613. ... His early plays were primarily comedies and histories and are regarded as some of the best ...\n",
    "Shakespeare lived from 1567 to 1616. Scholars and historians often refer to him being a part of the Elizabethan Era, the period of English ...\n",
    "\n",
    "Shakespeare -> 1567-1616\n",
    "----\n",
    "Entity: I\n",
    "Generation Z Characteristics. Gen Z, also known as iGen, Centennials, etc., starts with those born in approximately 1996. The oldest members of this generation ...\n",
    "\n",
    "I -> from 1996\n",
    "----\n",
    "Entity: Dodo\n",
    "The dodo (Raphus cucullatus) is an extinct flightless bird that was endemic to the island of Mauritius, which is east of Madagascar in the Indian Ocean.\n",
    "The dodo was extinct by 1681, the Réunion solitaire by 1746, and the Rodrigues solitaire by about 1790.\n",
    "\n",
    "Dodo -> 1681\n",
    "----\n",
    "Entity: Iguandodon\n",
    "While many species have been classified in the genus Iguanodon, dating from the late Jurassic Period to the early Cretaceous Period of Asia, Europe, and North ...\n",
    "Iguanodon, (genus Iguanodon), large herbivorous dinosaurs found as fossils from the Late Jurassic and Early Cretaceous periods (161.2 million to 99.6 ...\n",
    "\n",
    "Iguandodon -> 99.6 million years ago\n",
    "----\n",
    "Entity: USS New Ironsides\n",
    "USS New Ironsides was a wooden-hulled broadside ironclad built for the United States Navy during the American Civil War. The ship spent most of her career ...\n",
    "Civil War, only the U.S.S. New Ironsides was a seagoing, high-freeboard design. Her seagoing qualities and heavy battery made her uniquely valuable to the ...\n",
    "\n",
    "USS New Ironsides -> American Civil War\n",
    "----\n",
    "Entity: radar\n",
    "The principle of radar was “rediscovered” at NRL in 1930 when L.A. Hyland observed that an aircraft flying through the beam of a transmitting antenna caused a ...\n",
    "The history of radar started with experiments by Heinrich Hertz in the late 19th century that showed that radio waves were reflected by metallic objects.\n",
    "\n",
    "radar -> 1930\n",
    "----\n",
    "Entity: %s\n",
    "%s\n",
    "\n",
    "''' % (x, b)\n",
    "    return prompt, gpt3(prompt)\n",
    "    \n",
    "def anachronismWithSearchForCentury(x, b):\n",
    "    gpt3 = OpenAIModel(model=\"text-davinci-002\",  max_length=200, quote='---', n=1)\n",
    "#     prompt = '''Given a sentence tell me if it could have happened or not based on the time periods of the entities.\n",
    "# Sentence: I wrote about shakespeare\n",
    "\n",
    "# Shakespeare -> 16th century\n",
    "# I -> 20st century\n",
    "\n",
    "# Could the sentence be true based on the time periods alone: Yes\n",
    "# ----\n",
    "# Sentence: The Dodo was capable of hunting large herbivores like the Iguandodon\n",
    "\n",
    "# Dodo -> 17th century\n",
    "# Iguanodon -> 99.6 million years ago\n",
    "\n",
    "# Could the sentence be true based on the time periods alone: No\n",
    "# ----\n",
    "# Sentence: The engineer upgraded the USS New Ironsides' radar system.\n",
    "\n",
    "# USS New Ironsides -> 19th century\n",
    "# radar -> 20th century\n",
    "\n",
    "# Could the sentence be true based on the time periods alone: No\n",
    "# ----\n",
    "# Sentence: %s\n",
    "\n",
    "# %s\n",
    "\n",
    "# Could the sentence be true based on the time periods alone:''' % (x, b)\n",
    "    prompt = '''Given a sentence tell me if it could have happened or not based on the time periods of the entities.\n",
    "Sentence: I wrote about shakespeare\n",
    "\n",
    "Entities and dates:\n",
    "Shakespeare -> 1567-1616\n",
    "I -> from 1996\n",
    "\n",
    "Could the sentence be true based on the time periods alone: Yes\n",
    "----\n",
    "Sentence: Shakespeare wrote about me\n",
    "\n",
    "Entities and dates:\n",
    "Shakespeare -> from 1996\n",
    "I -> 1567-1616\n",
    "\n",
    "Could the sentence be true based on the dates alone: No\n",
    "----\n",
    "Sentence: The Dodo was capable of hunting large herbivores like the Iguandodon\n",
    "\n",
    "Entities and dates:\n",
    "Dodo -> 1681\n",
    "Iguanodon -> 99.6 million years ago\n",
    "\n",
    "Could the sentence be true based on the time periods alone: No\n",
    "----\n",
    "Sentence: The engineer upgraded the USS New Ironsides' radar system.\n",
    "\n",
    "Entities and dates:\n",
    "USS New Ironsides -> American Civil War\n",
    "radar -> 1930\n",
    "\n",
    "Could the sentence be true based on the time periods alone: No\n",
    "----\n",
    "Sentence: %s\n",
    "\n",
    "Entities and dates:\n",
    "%s\n",
    "\n",
    "Could the sentence be true based on the time periods alone:''' % (x, b)\n",
    "    return prompt, gpt3(prompt)\n",
    "\n",
    "\n",
    "\n",
    "\n",
    "def anachronismWithSearchCombined(x, b):\n",
    "    gpt3 = OpenAIModel(model=\"text-davinci-002\",  max_length=200, quote='---', n=1)\n",
    "    prompt = '''Given a sentence, backgroud information about it, and the time periods of each entity, tell me if it could have happened or not.\n",
    "Sentence: I wrote about shakespeare\n",
    "\n",
    "Background:\n",
    "Shakespeare lived from 1567 to 1616. Scholars and historians often refer to him being a part of the Elizabethan Era, the period of English ...\n",
    "Generation Z Characteristics. Gen Z, also known as iGen, Centennials, etc., starts with those born in approximately 1996. The oldest members of this generation ...\n",
    "\n",
    "Entities and time periods:\n",
    "Shakespeare -> 16th century \n",
    "I -> 20th century\n",
    "\n",
    "Could the sentence be true based on the time periods alone: Yes\n",
    "----\n",
    "Sentence: The Dodo was capable of hunting large herbivores like the Iguandodon\n",
    "\n",
    "Background:\n",
    "The dodo was extinct by 1681, the Réunion solitaire by 1746, and the Rodrigues solitaire by about 1790.\n",
    "Iguanodon, (genus Iguanodon), large herbivorous dinosaurs found as fossils from the Late Jurassic and Early Cretaceous periods (161.2 million to 99.6 million years ago)\n",
    "\n",
    "Entities and time periods:\n",
    "dodo -> 17th century \n",
    "Iguanodon -> 99.6 million ago\n",
    "\n",
    "Could the sentence be true based on the time periods alone: No\n",
    "----\n",
    "Sentence: The engineer upgraded the USS New Ironsides' radar system.\n",
    "\n",
    "Background:\n",
    "USS New Ironsides was a wooden-hulled broadside ironclad built for the United States Navy during the American Civil War. The ship spent most of her career ...\n",
    "The history of radar started with experiments by Heinrich Hertz in the late 19th century that showed that radio waves were reflected by metallic objects.\n",
    "\n",
    "Entities and time periods:\n",
    "USS New Ironsides -> American Civil War\n",
    "radar -> late 19th century\n",
    "\n",
    "Could the sentence be true based on the time periods alone: No\n",
    "----\n",
    "Sentence: %s\n",
    "\n",
    "Background:\n",
    "%s\n",
    "\n",
    "Entities and time periods:\n",
    "''' % (x, b)\n",
    "    return prompt, gpt3(prompt)"
   ]
  },
  {
   "cell_type": "code",
   "execution_count": 301,
   "id": "c1e43c29",
   "metadata": {},
   "outputs": [
    {
     "name": "stderr",
     "output_type": "stream",
     "text": [
      "100%|███████████████████████████████████████████████████████████████████████████████████████████| 184/184 [02:20<00:00,  1.31it/s]\n",
      "  0%|                                                                                                     | 0/184 [00:00<?, ?it/s]"
     ]
    },
    {
     "name": "stdout",
     "output_type": "stream",
     "text": [
      "https://serpapi.com/search\n",
      "https://serpapi.com/search\n"
     ]
    },
    {
     "name": "stderr",
     "output_type": "stream",
     "text": [
      "\r",
      "  1%|▌                                                                                            | 1/184 [00:03<11:19,  3.71s/it]"
     ]
    },
    {
     "name": "stdout",
     "output_type": "stream",
     "text": [
      "https://serpapi.com/search\n",
      "https://serpapi.com/search\n"
     ]
    },
    {
     "name": "stderr",
     "output_type": "stream",
     "text": [
      "\r",
      "  1%|█                                                                                            | 2/184 [00:09<15:14,  5.02s/it]"
     ]
    },
    {
     "name": "stdout",
     "output_type": "stream",
     "text": [
      "https://serpapi.com/search\n",
      "https://serpapi.com/search\n",
      "https://serpapi.com/search\n",
      "https://serpapi.com/search\n"
     ]
    },
    {
     "name": "stderr",
     "output_type": "stream",
     "text": [
      "\r",
      "  2%|█▌                                                                                           | 3/184 [00:16<17:28,  5.79s/it]"
     ]
    },
    {
     "name": "stdout",
     "output_type": "stream",
     "text": [
      "https://serpapi.com/search\n",
      "https://serpapi.com/search\n"
     ]
    },
    {
     "name": "stderr",
     "output_type": "stream",
     "text": [
      "\r",
      "  2%|██                                                                                           | 4/184 [00:20<15:13,  5.08s/it]"
     ]
    },
    {
     "name": "stdout",
     "output_type": "stream",
     "text": [
      "https://serpapi.com/search\n",
      "https://serpapi.com/search\n",
      "https://serpapi.com/search\n"
     ]
    },
    {
     "name": "stderr",
     "output_type": "stream",
     "text": [
      "\r",
      "  3%|██▌                                                                                          | 5/184 [00:28<18:22,  6.16s/it]"
     ]
    },
    {
     "name": "stdout",
     "output_type": "stream",
     "text": [
      "https://serpapi.com/search\n",
      "https://serpapi.com/search\n",
      "https://serpapi.com/search\n"
     ]
    },
    {
     "name": "stderr",
     "output_type": "stream",
     "text": [
      "\r",
      "  3%|███                                                                                          | 6/184 [00:33<17:02,  5.75s/it]"
     ]
    },
    {
     "name": "stdout",
     "output_type": "stream",
     "text": [
      "https://serpapi.com/search\n",
      "https://serpapi.com/search\n"
     ]
    },
    {
     "name": "stderr",
     "output_type": "stream",
     "text": [
      "\r",
      "  4%|███▌                                                                                         | 7/184 [00:43<20:47,  7.05s/it]"
     ]
    },
    {
     "name": "stdout",
     "output_type": "stream",
     "text": [
      "https://serpapi.com/search\n",
      "https://serpapi.com/search\n"
     ]
    },
    {
     "name": "stderr",
     "output_type": "stream",
     "text": [
      "\r",
      "  4%|████                                                                                         | 8/184 [00:46<17:26,  5.95s/it]"
     ]
    },
    {
     "name": "stdout",
     "output_type": "stream",
     "text": [
      "https://serpapi.com/search\n",
      "https://serpapi.com/search\n"
     ]
    },
    {
     "name": "stderr",
     "output_type": "stream",
     "text": [
      "\r",
      "  5%|████▌                                                                                        | 9/184 [00:53<18:22,  6.30s/it]"
     ]
    },
    {
     "name": "stdout",
     "output_type": "stream",
     "text": [
      "https://serpapi.com/search\n",
      "https://serpapi.com/search\n",
      "https://serpapi.com/search\n"
     ]
    },
    {
     "name": "stderr",
     "output_type": "stream",
     "text": [
      "\r",
      "  5%|█████                                                                                       | 10/184 [00:59<17:51,  6.16s/it]"
     ]
    },
    {
     "name": "stdout",
     "output_type": "stream",
     "text": [
      "https://serpapi.com/search\n",
      "https://serpapi.com/search\n",
      "https://serpapi.com/search\n"
     ]
    },
    {
     "name": "stderr",
     "output_type": "stream",
     "text": [
      "\r",
      "  6%|█████▌                                                                                      | 11/184 [01:11<22:34,  7.83s/it]"
     ]
    },
    {
     "name": "stdout",
     "output_type": "stream",
     "text": [
      "https://serpapi.com/search\n",
      "https://serpapi.com/search\n"
     ]
    },
    {
     "name": "stderr",
     "output_type": "stream",
     "text": [
      "\r",
      "  7%|██████                                                                                      | 12/184 [01:12<17:01,  5.94s/it]"
     ]
    },
    {
     "name": "stdout",
     "output_type": "stream",
     "text": [
      "https://serpapi.com/search\n",
      "https://serpapi.com/search\n",
      "https://serpapi.com/search\n"
     ]
    },
    {
     "name": "stderr",
     "output_type": "stream",
     "text": [
      "\r",
      "  7%|██████▍                                                                                     | 13/184 [01:21<18:57,  6.65s/it]"
     ]
    },
    {
     "name": "stdout",
     "output_type": "stream",
     "text": [
      "https://serpapi.com/search\n",
      "https://serpapi.com/search\n",
      "https://serpapi.com/search\n",
      "https://serpapi.com/search\n",
      "https://serpapi.com/search\n"
     ]
    },
    {
     "name": "stderr",
     "output_type": "stream",
     "text": [
      "\r",
      "  8%|███████                                                                                     | 14/184 [01:35<25:33,  9.02s/it]"
     ]
    },
    {
     "name": "stdout",
     "output_type": "stream",
     "text": [
      "https://serpapi.com/search\n",
      "https://serpapi.com/search\n"
     ]
    },
    {
     "name": "stderr",
     "output_type": "stream",
     "text": [
      "\r",
      "  8%|███████▌                                                                                    | 15/184 [01:38<20:02,  7.12s/it]"
     ]
    },
    {
     "name": "stdout",
     "output_type": "stream",
     "text": [
      "https://serpapi.com/search\n",
      "https://serpapi.com/search\n",
      "https://serpapi.com/search\n",
      "https://serpapi.com/search\n"
     ]
    },
    {
     "name": "stderr",
     "output_type": "stream",
     "text": [
      "\r",
      "  9%|████████                                                                                    | 16/184 [01:52<25:42,  9.18s/it]"
     ]
    },
    {
     "name": "stdout",
     "output_type": "stream",
     "text": [
      "https://serpapi.com/search\n",
      "https://serpapi.com/search\n"
     ]
    },
    {
     "name": "stderr",
     "output_type": "stream",
     "text": [
      "\r",
      "  9%|████████▌                                                                                   | 17/184 [01:58<23:10,  8.33s/it]"
     ]
    },
    {
     "name": "stdout",
     "output_type": "stream",
     "text": [
      "https://serpapi.com/search\n",
      "https://serpapi.com/search\n",
      "https://serpapi.com/search\n"
     ]
    },
    {
     "name": "stderr",
     "output_type": "stream",
     "text": [
      "\r",
      " 10%|█████████                                                                                   | 18/184 [02:16<30:57, 11.19s/it]"
     ]
    },
    {
     "name": "stdout",
     "output_type": "stream",
     "text": [
      "https://serpapi.com/search\n",
      "https://serpapi.com/search\n",
      "https://serpapi.com/search\n"
     ]
    },
    {
     "name": "stderr",
     "output_type": "stream",
     "text": [
      "\r",
      " 10%|█████████▌                                                                                  | 19/184 [02:21<25:22,  9.23s/it]"
     ]
    },
    {
     "name": "stdout",
     "output_type": "stream",
     "text": [
      "https://serpapi.com/search\n",
      "https://serpapi.com/search\n",
      "https://serpapi.com/search\n"
     ]
    },
    {
     "name": "stderr",
     "output_type": "stream",
     "text": [
      "\r",
      " 11%|██████████                                                                                  | 20/184 [02:28<24:01,  8.79s/it]"
     ]
    },
    {
     "name": "stdout",
     "output_type": "stream",
     "text": [
      "https://serpapi.com/search\n",
      "https://serpapi.com/search\n"
     ]
    },
    {
     "name": "stderr",
     "output_type": "stream",
     "text": [
      "\r",
      " 11%|██████████▌                                                                                 | 21/184 [02:33<20:33,  7.57s/it]"
     ]
    },
    {
     "name": "stdout",
     "output_type": "stream",
     "text": [
      "https://serpapi.com/search\n",
      "https://serpapi.com/search\n"
     ]
    },
    {
     "name": "stderr",
     "output_type": "stream",
     "text": [
      "\r",
      " 12%|███████████                                                                                 | 22/184 [02:40<20:08,  7.46s/it]"
     ]
    },
    {
     "name": "stdout",
     "output_type": "stream",
     "text": [
      "https://serpapi.com/search\n",
      "https://serpapi.com/search\n"
     ]
    },
    {
     "name": "stderr",
     "output_type": "stream",
     "text": [
      "\r",
      " 12%|███████████▌                                                                                | 23/184 [02:44<16:37,  6.19s/it]"
     ]
    },
    {
     "name": "stdout",
     "output_type": "stream",
     "text": [
      "https://serpapi.com/search\n",
      "https://serpapi.com/search\n"
     ]
    },
    {
     "name": "stderr",
     "output_type": "stream",
     "text": [
      "\r",
      " 13%|████████████                                                                                | 24/184 [02:54<19:29,  7.31s/it]"
     ]
    },
    {
     "name": "stdout",
     "output_type": "stream",
     "text": [
      "https://serpapi.com/search\n",
      "https://serpapi.com/search\n",
      "https://serpapi.com/search\n",
      "https://serpapi.com/search\n"
     ]
    },
    {
     "name": "stderr",
     "output_type": "stream",
     "text": [
      "\r",
      " 14%|████████████▌                                                                               | 25/184 [03:08<24:45,  9.34s/it]"
     ]
    },
    {
     "name": "stdout",
     "output_type": "stream",
     "text": [
      "https://serpapi.com/search\n",
      "https://serpapi.com/search\n",
      "https://serpapi.com/search\n"
     ]
    },
    {
     "name": "stderr",
     "output_type": "stream",
     "text": [
      "\r",
      " 14%|████████████▉                                                                               | 26/184 [03:21<27:48, 10.56s/it]"
     ]
    },
    {
     "name": "stdout",
     "output_type": "stream",
     "text": [
      "https://serpapi.com/search\n",
      "https://serpapi.com/search\n"
     ]
    },
    {
     "name": "stderr",
     "output_type": "stream",
     "text": [
      "\r",
      " 15%|█████████████▌                                                                              | 27/184 [03:26<23:33,  9.00s/it]"
     ]
    },
    {
     "name": "stdout",
     "output_type": "stream",
     "text": [
      "https://serpapi.com/search\n",
      "https://serpapi.com/search\n",
      "https://serpapi.com/search\n"
     ]
    },
    {
     "name": "stderr",
     "output_type": "stream",
     "text": [
      "\r",
      " 15%|██████████████                                                                              | 28/184 [03:33<21:13,  8.16s/it]"
     ]
    },
    {
     "name": "stdout",
     "output_type": "stream",
     "text": [
      "https://serpapi.com/search\n",
      "https://serpapi.com/search\n"
     ]
    },
    {
     "name": "stderr",
     "output_type": "stream",
     "text": [
      "\r",
      " 16%|██████████████▌                                                                             | 29/184 [03:36<17:11,  6.65s/it]"
     ]
    },
    {
     "name": "stdout",
     "output_type": "stream",
     "text": [
      "https://serpapi.com/search\n",
      "https://serpapi.com/search\n",
      "https://serpapi.com/search\n"
     ]
    },
    {
     "name": "stderr",
     "output_type": "stream",
     "text": [
      "\r",
      " 16%|███████████████                                                                             | 30/184 [03:42<16:48,  6.55s/it]"
     ]
    },
    {
     "name": "stdout",
     "output_type": "stream",
     "text": [
      "https://serpapi.com/search\n",
      "https://serpapi.com/search\n"
     ]
    },
    {
     "name": "stderr",
     "output_type": "stream",
     "text": [
      "\r",
      " 17%|███████████████▌                                                                            | 31/184 [03:47<15:21,  6.02s/it]"
     ]
    },
    {
     "name": "stdout",
     "output_type": "stream",
     "text": [
      "https://serpapi.com/search\n",
      "https://serpapi.com/search\n",
      "https://serpapi.com/search\n",
      "https://serpapi.com/search\n"
     ]
    },
    {
     "name": "stderr",
     "output_type": "stream",
     "text": [
      "\r",
      " 17%|████████████████                                                                            | 32/184 [04:03<23:15,  9.18s/it]"
     ]
    },
    {
     "name": "stdout",
     "output_type": "stream",
     "text": [
      "https://serpapi.com/search\n",
      "https://serpapi.com/search\n"
     ]
    },
    {
     "name": "stderr",
     "output_type": "stream",
     "text": [
      "\r",
      " 18%|████████████████▌                                                                           | 33/184 [04:08<19:29,  7.74s/it]"
     ]
    },
    {
     "name": "stdout",
     "output_type": "stream",
     "text": [
      "https://serpapi.com/search\n",
      "https://serpapi.com/search\n",
      "https://serpapi.com/search\n",
      "https://serpapi.com/search\n"
     ]
    },
    {
     "name": "stderr",
     "output_type": "stream",
     "text": [
      "\r",
      " 18%|█████████████████                                                                           | 34/184 [04:17<20:19,  8.13s/it]"
     ]
    },
    {
     "name": "stdout",
     "output_type": "stream",
     "text": [
      "https://serpapi.com/search\n",
      "https://serpapi.com/search\n",
      "https://serpapi.com/search\n"
     ]
    },
    {
     "name": "stderr",
     "output_type": "stream",
     "text": [
      "\r",
      " 19%|█████████████████▌                                                                          | 35/184 [04:19<15:56,  6.42s/it]"
     ]
    },
    {
     "name": "stdout",
     "output_type": "stream",
     "text": [
      "https://serpapi.com/search\n",
      "https://serpapi.com/search\n"
     ]
    },
    {
     "name": "stderr",
     "output_type": "stream",
     "text": [
      "\r",
      " 20%|██████████████████                                                                          | 36/184 [04:21<12:32,  5.08s/it]"
     ]
    },
    {
     "name": "stdout",
     "output_type": "stream",
     "text": [
      "https://serpapi.com/search\n",
      "https://serpapi.com/search\n",
      "https://serpapi.com/search\n",
      "https://serpapi.com/search\n",
      "https://serpapi.com/search\n",
      "https://serpapi.com/search\n"
     ]
    },
    {
     "name": "stderr",
     "output_type": "stream",
     "text": [
      "\r",
      " 20%|██████████████████▌                                                                         | 37/184 [04:27<12:53,  5.26s/it]"
     ]
    },
    {
     "name": "stdout",
     "output_type": "stream",
     "text": [
      "https://serpapi.com/search\n",
      "https://serpapi.com/search\n",
      "https://serpapi.com/search\n"
     ]
    },
    {
     "name": "stderr",
     "output_type": "stream",
     "text": [
      "\r",
      " 21%|███████████████████                                                                         | 38/184 [04:34<14:11,  5.83s/it]"
     ]
    },
    {
     "name": "stdout",
     "output_type": "stream",
     "text": [
      "https://serpapi.com/search\n",
      "https://serpapi.com/search\n",
      "https://serpapi.com/search\n"
     ]
    },
    {
     "name": "stderr",
     "output_type": "stream",
     "text": [
      "\r",
      " 21%|███████████████████▌                                                                        | 39/184 [04:40<14:33,  6.02s/it]"
     ]
    },
    {
     "name": "stdout",
     "output_type": "stream",
     "text": [
      "https://serpapi.com/search\n",
      "https://serpapi.com/search\n",
      "https://serpapi.com/search\n"
     ]
    },
    {
     "name": "stderr",
     "output_type": "stream",
     "text": [
      "\r",
      " 22%|████████████████████                                                                        | 40/184 [04:56<21:10,  8.82s/it]"
     ]
    },
    {
     "name": "stdout",
     "output_type": "stream",
     "text": [
      "https://serpapi.com/search\n",
      "https://serpapi.com/search\n",
      "https://serpapi.com/search\n",
      "https://serpapi.com/search\n",
      "https://serpapi.com/search\n",
      "https://serpapi.com/search\n",
      "https://serpapi.com/search\n",
      "https://serpapi.com/search\n",
      "https://serpapi.com/search\n",
      "https://serpapi.com/search\n"
     ]
    },
    {
     "name": "stderr",
     "output_type": "stream",
     "text": [
      "\r",
      " 22%|████████████████████▌                                                                       | 41/184 [05:21<32:48, 13.76s/it]"
     ]
    },
    {
     "name": "stdout",
     "output_type": "stream",
     "text": [
      "https://serpapi.com/search\n",
      "https://serpapi.com/search\n",
      "https://serpapi.com/search\n"
     ]
    },
    {
     "name": "stderr",
     "output_type": "stream",
     "text": [
      "\r",
      " 23%|█████████████████████                                                                       | 42/184 [05:26<26:03, 11.01s/it]"
     ]
    },
    {
     "name": "stdout",
     "output_type": "stream",
     "text": [
      "https://serpapi.com/search\n",
      "https://serpapi.com/search\n"
     ]
    },
    {
     "name": "stderr",
     "output_type": "stream",
     "text": [
      "\r",
      " 23%|█████████████████████▌                                                                      | 43/184 [05:34<23:53, 10.17s/it]"
     ]
    },
    {
     "name": "stdout",
     "output_type": "stream",
     "text": [
      "https://serpapi.com/search\n",
      "https://serpapi.com/search\n"
     ]
    },
    {
     "name": "stderr",
     "output_type": "stream",
     "text": [
      "\r",
      " 24%|██████████████████████                                                                      | 44/184 [05:38<19:32,  8.38s/it]"
     ]
    },
    {
     "name": "stdout",
     "output_type": "stream",
     "text": [
      "https://serpapi.com/search\n",
      "https://serpapi.com/search\n"
     ]
    },
    {
     "name": "stderr",
     "output_type": "stream",
     "text": [
      "\r",
      " 24%|██████████████████████▌                                                                     | 45/184 [05:47<20:04,  8.67s/it]"
     ]
    },
    {
     "name": "stdout",
     "output_type": "stream",
     "text": [
      "https://serpapi.com/search\n"
     ]
    },
    {
     "name": "stderr",
     "output_type": "stream",
     "text": [
      "\r",
      " 25%|███████████████████████                                                                     | 46/184 [05:50<16:00,  6.96s/it]"
     ]
    },
    {
     "name": "stdout",
     "output_type": "stream",
     "text": [
      "https://serpapi.com/search\n",
      "https://serpapi.com/search\n",
      "https://serpapi.com/search\n"
     ]
    },
    {
     "name": "stderr",
     "output_type": "stream",
     "text": [
      "\r",
      " 26%|███████████████████████▌                                                                    | 47/184 [05:54<13:45,  6.03s/it]"
     ]
    },
    {
     "name": "stdout",
     "output_type": "stream",
     "text": [
      "https://serpapi.com/search\n",
      "https://serpapi.com/search\n",
      "https://serpapi.com/search\n"
     ]
    },
    {
     "name": "stderr",
     "output_type": "stream",
     "text": [
      "\r",
      " 26%|████████████████████████                                                                    | 48/184 [05:57<11:31,  5.09s/it]"
     ]
    },
    {
     "name": "stdout",
     "output_type": "stream",
     "text": [
      "https://serpapi.com/search\n",
      "https://serpapi.com/search\n",
      "https://serpapi.com/search\n"
     ]
    },
    {
     "name": "stderr",
     "output_type": "stream",
     "text": [
      "\r",
      " 27%|████████████████████████▌                                                                   | 49/184 [06:06<13:44,  6.10s/it]"
     ]
    },
    {
     "name": "stdout",
     "output_type": "stream",
     "text": [
      "https://serpapi.com/search\n",
      "https://serpapi.com/search\n",
      "https://serpapi.com/search\n"
     ]
    },
    {
     "name": "stderr",
     "output_type": "stream",
     "text": [
      "\r",
      " 27%|█████████████████████████                                                                   | 50/184 [06:13<14:28,  6.48s/it]"
     ]
    },
    {
     "name": "stdout",
     "output_type": "stream",
     "text": [
      "https://serpapi.com/search\n",
      "https://serpapi.com/search\n",
      "https://serpapi.com/search\n",
      "https://serpapi.com/search\n"
     ]
    },
    {
     "name": "stderr",
     "output_type": "stream",
     "text": [
      "\r",
      " 28%|█████████████████████████▌                                                                  | 51/184 [06:18<13:12,  5.96s/it]"
     ]
    },
    {
     "name": "stdout",
     "output_type": "stream",
     "text": [
      "https://serpapi.com/search\n",
      "https://serpapi.com/search\n",
      "https://serpapi.com/search\n"
     ]
    },
    {
     "name": "stderr",
     "output_type": "stream",
     "text": [
      "\r",
      " 28%|█████████████████████████▉                                                                  | 52/184 [06:27<15:06,  6.87s/it]"
     ]
    },
    {
     "name": "stdout",
     "output_type": "stream",
     "text": [
      "https://serpapi.com/search\n",
      "https://serpapi.com/search\n",
      "https://serpapi.com/search\n"
     ]
    },
    {
     "name": "stderr",
     "output_type": "stream",
     "text": [
      "\r",
      " 29%|██████████████████████████▌                                                                 | 53/184 [06:29<12:04,  5.53s/it]"
     ]
    },
    {
     "name": "stdout",
     "output_type": "stream",
     "text": [
      "https://serpapi.com/search\n",
      "https://serpapi.com/search\n",
      "https://serpapi.com/search\n",
      "https://serpapi.com/search\n"
     ]
    },
    {
     "name": "stderr",
     "output_type": "stream",
     "text": [
      "\r",
      " 29%|███████████████████████████                                                                 | 54/184 [06:58<27:03, 12.49s/it]"
     ]
    },
    {
     "name": "stdout",
     "output_type": "stream",
     "text": [
      "https://serpapi.com/search\n",
      "https://serpapi.com/search\n",
      "https://serpapi.com/search\n",
      "https://serpapi.com/search\n"
     ]
    },
    {
     "name": "stderr",
     "output_type": "stream",
     "text": [
      "\r",
      " 30%|███████████████████████████▌                                                                | 55/184 [07:11<27:11, 12.64s/it]"
     ]
    },
    {
     "name": "stdout",
     "output_type": "stream",
     "text": [
      "https://serpapi.com/search\n",
      "https://serpapi.com/search\n"
     ]
    },
    {
     "name": "stderr",
     "output_type": "stream",
     "text": [
      "\r",
      " 30%|████████████████████████████                                                                | 56/184 [07:12<19:37,  9.20s/it]"
     ]
    },
    {
     "name": "stdout",
     "output_type": "stream",
     "text": [
      "https://serpapi.com/search\n",
      "https://serpapi.com/search\n",
      "https://serpapi.com/search\n",
      "https://serpapi.com/search\n",
      "https://serpapi.com/search\n"
     ]
    },
    {
     "name": "stderr",
     "output_type": "stream",
     "text": [
      "\r",
      " 31%|████████████████████████████▌                                                               | 57/184 [07:21<19:08,  9.05s/it]"
     ]
    },
    {
     "name": "stdout",
     "output_type": "stream",
     "text": [
      "https://serpapi.com/search\n",
      "https://serpapi.com/search\n",
      "https://serpapi.com/search\n",
      "https://serpapi.com/search\n"
     ]
    },
    {
     "name": "stderr",
     "output_type": "stream",
     "text": [
      "\r",
      " 32%|█████████████████████████████                                                               | 58/184 [07:49<30:54, 14.72s/it]"
     ]
    },
    {
     "name": "stdout",
     "output_type": "stream",
     "text": [
      "https://serpapi.com/search\n",
      "https://serpapi.com/search\n",
      "https://serpapi.com/search\n"
     ]
    },
    {
     "name": "stderr",
     "output_type": "stream",
     "text": [
      "\r",
      " 32%|█████████████████████████████▌                                                              | 59/184 [07:58<26:59, 12.95s/it]"
     ]
    },
    {
     "name": "stdout",
     "output_type": "stream",
     "text": [
      "https://serpapi.com/search\n",
      "https://serpapi.com/search\n",
      "https://serpapi.com/search\n"
     ]
    },
    {
     "name": "stderr",
     "output_type": "stream",
     "text": [
      "\r",
      " 33%|██████████████████████████████                                                              | 60/184 [08:03<22:19, 10.81s/it]"
     ]
    },
    {
     "name": "stdout",
     "output_type": "stream",
     "text": [
      "https://serpapi.com/search\n",
      "https://serpapi.com/search\n"
     ]
    },
    {
     "name": "stderr",
     "output_type": "stream",
     "text": [
      "\r",
      " 33%|██████████████████████████████▍                                                             | 61/184 [08:07<17:58,  8.77s/it]"
     ]
    },
    {
     "name": "stdout",
     "output_type": "stream",
     "text": [
      "https://serpapi.com/search\n",
      "https://serpapi.com/search\n"
     ]
    },
    {
     "name": "stderr",
     "output_type": "stream",
     "text": [
      "\r",
      " 34%|███████████████████████████████                                                             | 62/184 [08:12<15:27,  7.60s/it]"
     ]
    },
    {
     "name": "stdout",
     "output_type": "stream",
     "text": [
      "https://serpapi.com/search\n",
      "https://serpapi.com/search\n",
      "https://serpapi.com/search\n"
     ]
    },
    {
     "name": "stderr",
     "output_type": "stream",
     "text": [
      "\r",
      " 34%|███████████████████████████████▌                                                            | 63/184 [08:27<19:38,  9.74s/it]"
     ]
    },
    {
     "name": "stdout",
     "output_type": "stream",
     "text": [
      "https://serpapi.com/search\n",
      "https://serpapi.com/search\n"
     ]
    },
    {
     "name": "stderr",
     "output_type": "stream",
     "text": [
      "\r",
      " 35%|████████████████████████████████                                                            | 64/184 [08:34<18:08,  9.07s/it]"
     ]
    },
    {
     "name": "stdout",
     "output_type": "stream",
     "text": [
      "https://serpapi.com/search\n",
      "https://serpapi.com/search\n",
      "https://serpapi.com/search\n"
     ]
    },
    {
     "name": "stderr",
     "output_type": "stream",
     "text": [
      "\r",
      " 35%|████████████████████████████████▌                                                           | 65/184 [08:38<14:46,  7.45s/it]"
     ]
    },
    {
     "name": "stdout",
     "output_type": "stream",
     "text": [
      "https://serpapi.com/search\n",
      "https://serpapi.com/search\n",
      "https://serpapi.com/search\n",
      "https://serpapi.com/search\n",
      "https://serpapi.com/search\n"
     ]
    },
    {
     "name": "stderr",
     "output_type": "stream",
     "text": [
      "\r",
      " 36%|█████████████████████████████████                                                           | 66/184 [08:59<22:30, 11.44s/it]"
     ]
    },
    {
     "name": "stdout",
     "output_type": "stream",
     "text": [
      "https://serpapi.com/search\n",
      "https://serpapi.com/search\n",
      "https://serpapi.com/search\n",
      "https://serpapi.com/search\n"
     ]
    },
    {
     "name": "stderr",
     "output_type": "stream",
     "text": [
      "\r",
      " 36%|█████████████████████████████████▌                                                          | 67/184 [09:10<22:01, 11.30s/it]"
     ]
    },
    {
     "name": "stdout",
     "output_type": "stream",
     "text": [
      "https://serpapi.com/search\n",
      "https://serpapi.com/search\n"
     ]
    },
    {
     "name": "stderr",
     "output_type": "stream",
     "text": [
      "\r",
      " 37%|██████████████████████████████████                                                          | 68/184 [09:13<17:02,  8.82s/it]"
     ]
    },
    {
     "name": "stdout",
     "output_type": "stream",
     "text": [
      "https://serpapi.com/search\n",
      "https://serpapi.com/search\n",
      "https://serpapi.com/search\n",
      "https://serpapi.com/search\n"
     ]
    },
    {
     "name": "stderr",
     "output_type": "stream",
     "text": [
      "\r",
      " 38%|██████████████████████████████████▌                                                         | 69/184 [09:25<19:01,  9.93s/it]"
     ]
    },
    {
     "name": "stdout",
     "output_type": "stream",
     "text": [
      "https://serpapi.com/search\n",
      "https://serpapi.com/search\n",
      "https://serpapi.com/search\n",
      "https://serpapi.com/search\n"
     ]
    },
    {
     "name": "stderr",
     "output_type": "stream",
     "text": [
      "\r",
      " 38%|███████████████████████████████████                                                         | 70/184 [09:33<17:45,  9.35s/it]"
     ]
    },
    {
     "name": "stdout",
     "output_type": "stream",
     "text": [
      "https://serpapi.com/search\n",
      "https://serpapi.com/search\n",
      "https://serpapi.com/search\n"
     ]
    },
    {
     "name": "stderr",
     "output_type": "stream",
     "text": [
      "\r",
      " 39%|███████████████████████████████████▌                                                        | 71/184 [09:36<13:40,  7.26s/it]"
     ]
    },
    {
     "name": "stdout",
     "output_type": "stream",
     "text": [
      "https://serpapi.com/search\n",
      "https://serpapi.com/search\n",
      "https://serpapi.com/search\n",
      "https://serpapi.com/search\n",
      "https://serpapi.com/search\n"
     ]
    },
    {
     "name": "stderr",
     "output_type": "stream",
     "text": [
      "\r",
      " 39%|████████████████████████████████████                                                        | 72/184 [09:39<11:34,  6.20s/it]"
     ]
    },
    {
     "name": "stdout",
     "output_type": "stream",
     "text": [
      "https://serpapi.com/search\n",
      "https://serpapi.com/search\n"
     ]
    },
    {
     "name": "stderr",
     "output_type": "stream",
     "text": [
      "\r",
      " 40%|████████████████████████████████████▌                                                       | 73/184 [09:46<11:31,  6.23s/it]"
     ]
    },
    {
     "name": "stdout",
     "output_type": "stream",
     "text": [
      "https://serpapi.com/search\n",
      "https://serpapi.com/search\n",
      "https://serpapi.com/search\n"
     ]
    },
    {
     "name": "stderr",
     "output_type": "stream",
     "text": [
      "\r",
      " 40%|█████████████████████████████████████                                                       | 74/184 [09:52<11:17,  6.16s/it]"
     ]
    },
    {
     "name": "stdout",
     "output_type": "stream",
     "text": [
      "https://serpapi.com/search\n",
      "https://serpapi.com/search\n"
     ]
    },
    {
     "name": "stderr",
     "output_type": "stream",
     "text": [
      "\r",
      " 41%|█████████████████████████████████████▌                                                      | 75/184 [09:56<09:53,  5.45s/it]"
     ]
    },
    {
     "name": "stdout",
     "output_type": "stream",
     "text": [
      "https://serpapi.com/search\n",
      "https://serpapi.com/search\n",
      "https://serpapi.com/search\n"
     ]
    },
    {
     "name": "stderr",
     "output_type": "stream",
     "text": [
      "\r",
      " 41%|██████████████████████████████████████                                                      | 76/184 [10:07<12:53,  7.16s/it]"
     ]
    },
    {
     "name": "stdout",
     "output_type": "stream",
     "text": [
      "https://serpapi.com/search\n",
      "https://serpapi.com/search\n"
     ]
    },
    {
     "name": "stderr",
     "output_type": "stream",
     "text": [
      "\r",
      " 42%|██████████████████████████████████████▌                                                     | 77/184 [10:14<12:47,  7.17s/it]"
     ]
    },
    {
     "name": "stdout",
     "output_type": "stream",
     "text": [
      "https://serpapi.com/search\n",
      "https://serpapi.com/search\n",
      "https://serpapi.com/search\n"
     ]
    },
    {
     "name": "stderr",
     "output_type": "stream",
     "text": [
      "\r",
      " 42%|███████████████████████████████████████                                                     | 78/184 [10:21<12:46,  7.23s/it]"
     ]
    },
    {
     "name": "stdout",
     "output_type": "stream",
     "text": [
      "https://serpapi.com/search\n",
      "https://serpapi.com/search\n",
      "https://serpapi.com/search\n"
     ]
    },
    {
     "name": "stderr",
     "output_type": "stream",
     "text": [
      "\r",
      " 43%|███████████████████████████████████████▌                                                    | 79/184 [10:25<10:33,  6.03s/it]"
     ]
    },
    {
     "name": "stdout",
     "output_type": "stream",
     "text": [
      "https://serpapi.com/search\n",
      "https://serpapi.com/search\n"
     ]
    },
    {
     "name": "stderr",
     "output_type": "stream",
     "text": [
      "\r",
      " 43%|████████████████████████████████████████                                                    | 80/184 [10:28<08:55,  5.15s/it]"
     ]
    },
    {
     "name": "stdout",
     "output_type": "stream",
     "text": [
      "https://serpapi.com/search\n",
      "https://serpapi.com/search\n",
      "https://serpapi.com/search\n",
      "https://serpapi.com/search\n"
     ]
    },
    {
     "name": "stderr",
     "output_type": "stream",
     "text": [
      "\r",
      " 44%|████████████████████████████████████████▌                                                   | 81/184 [10:37<11:12,  6.53s/it]"
     ]
    },
    {
     "name": "stdout",
     "output_type": "stream",
     "text": [
      "https://serpapi.com/search\n",
      "https://serpapi.com/search\n",
      "https://serpapi.com/search\n",
      "https://serpapi.com/search\n"
     ]
    },
    {
     "name": "stderr",
     "output_type": "stream",
     "text": [
      "\r",
      " 45%|█████████████████████████████████████████                                                   | 82/184 [10:44<11:09,  6.56s/it]"
     ]
    },
    {
     "name": "stdout",
     "output_type": "stream",
     "text": [
      "https://serpapi.com/search\n",
      "https://serpapi.com/search\n",
      "https://serpapi.com/search\n"
     ]
    },
    {
     "name": "stderr",
     "output_type": "stream",
     "text": [
      "\r",
      " 45%|█████████████████████████████████████████▌                                                  | 83/184 [10:49<10:09,  6.03s/it]"
     ]
    },
    {
     "name": "stdout",
     "output_type": "stream",
     "text": [
      "https://serpapi.com/search\n"
     ]
    },
    {
     "name": "stderr",
     "output_type": "stream",
     "text": [
      "\r",
      " 46%|██████████████████████████████████████████                                                  | 84/184 [10:51<07:54,  4.74s/it]"
     ]
    },
    {
     "name": "stdout",
     "output_type": "stream",
     "text": [
      "https://serpapi.com/search\n",
      "https://serpapi.com/search\n",
      "https://serpapi.com/search\n"
     ]
    },
    {
     "name": "stderr",
     "output_type": "stream",
     "text": [
      "\r",
      " 46%|██████████████████████████████████████████▌                                                 | 85/184 [10:53<06:52,  4.17s/it]"
     ]
    },
    {
     "name": "stdout",
     "output_type": "stream",
     "text": [
      "https://serpapi.com/search\n",
      "https://serpapi.com/search\n"
     ]
    },
    {
     "name": "stderr",
     "output_type": "stream",
     "text": [
      "\r",
      " 47%|███████████████████████████████████████████                                                 | 86/184 [10:56<05:55,  3.63s/it]"
     ]
    },
    {
     "name": "stdout",
     "output_type": "stream",
     "text": [
      "https://serpapi.com/search\n",
      "https://serpapi.com/search\n",
      "https://serpapi.com/search\n",
      "https://serpapi.com/search\n"
     ]
    },
    {
     "name": "stderr",
     "output_type": "stream",
     "text": [
      "\r",
      " 47%|███████████████████████████████████████████▌                                                | 87/184 [11:06<09:10,  5.67s/it]"
     ]
    },
    {
     "name": "stdout",
     "output_type": "stream",
     "text": [
      "https://serpapi.com/search\n",
      "https://serpapi.com/search\n",
      "https://serpapi.com/search\n",
      "https://serpapi.com/search\n",
      "https://serpapi.com/search\n"
     ]
    },
    {
     "name": "stderr",
     "output_type": "stream",
     "text": [
      "\r",
      " 48%|████████████████████████████████████████████                                                | 88/184 [11:21<13:24,  8.38s/it]"
     ]
    },
    {
     "name": "stdout",
     "output_type": "stream",
     "text": [
      "https://serpapi.com/search\n",
      "https://serpapi.com/search\n",
      "https://serpapi.com/search\n",
      "https://serpapi.com/search\n",
      "https://serpapi.com/search\n",
      "https://serpapi.com/search\n"
     ]
    },
    {
     "name": "stderr",
     "output_type": "stream",
     "text": [
      "\r",
      " 48%|████████████████████████████████████████████▌                                               | 89/184 [11:32<14:20,  9.06s/it]"
     ]
    },
    {
     "name": "stdout",
     "output_type": "stream",
     "text": [
      "https://serpapi.com/search\n",
      "https://serpapi.com/search\n"
     ]
    },
    {
     "name": "stderr",
     "output_type": "stream",
     "text": [
      "\r",
      " 49%|█████████████████████████████████████████████                                               | 90/184 [11:35<11:35,  7.39s/it]"
     ]
    },
    {
     "name": "stdout",
     "output_type": "stream",
     "text": [
      "https://serpapi.com/search\n",
      "https://serpapi.com/search\n",
      "https://serpapi.com/search\n"
     ]
    },
    {
     "name": "stderr",
     "output_type": "stream",
     "text": [
      "\r",
      " 49%|█████████████████████████████████████████████▌                                              | 91/184 [11:43<11:44,  7.57s/it]"
     ]
    },
    {
     "name": "stdout",
     "output_type": "stream",
     "text": [
      "https://serpapi.com/search\n",
      "https://serpapi.com/search\n",
      "https://serpapi.com/search\n",
      "https://serpapi.com/search\n"
     ]
    },
    {
     "name": "stderr",
     "output_type": "stream",
     "text": [
      "\r",
      " 50%|██████████████████████████████████████████████                                              | 92/184 [11:51<11:39,  7.61s/it]"
     ]
    },
    {
     "name": "stdout",
     "output_type": "stream",
     "text": [
      "https://serpapi.com/search\n",
      "https://serpapi.com/search\n"
     ]
    },
    {
     "name": "stderr",
     "output_type": "stream",
     "text": [
      "\r",
      " 51%|██████████████████████████████████████████████▌                                             | 93/184 [11:55<10:05,  6.66s/it]"
     ]
    },
    {
     "name": "stdout",
     "output_type": "stream",
     "text": [
      "https://serpapi.com/search\n",
      "https://serpapi.com/search\n",
      "https://serpapi.com/search\n"
     ]
    },
    {
     "name": "stderr",
     "output_type": "stream",
     "text": [
      "\r",
      " 51%|███████████████████████████████████████████████                                             | 94/184 [12:01<09:41,  6.46s/it]"
     ]
    },
    {
     "name": "stdout",
     "output_type": "stream",
     "text": [
      "https://serpapi.com/search\n",
      "https://serpapi.com/search\n"
     ]
    },
    {
     "name": "stderr",
     "output_type": "stream",
     "text": [
      "\r",
      " 52%|███████████████████████████████████████████████▌                                            | 95/184 [12:06<09:02,  6.10s/it]"
     ]
    },
    {
     "name": "stdout",
     "output_type": "stream",
     "text": [
      "https://serpapi.com/search\n",
      "https://serpapi.com/search\n"
     ]
    },
    {
     "name": "stderr",
     "output_type": "stream",
     "text": [
      "\r",
      " 52%|████████████████████████████████████████████████                                            | 96/184 [12:10<07:56,  5.42s/it]"
     ]
    },
    {
     "name": "stdout",
     "output_type": "stream",
     "text": [
      "https://serpapi.com/search\n",
      "https://serpapi.com/search\n"
     ]
    },
    {
     "name": "stderr",
     "output_type": "stream",
     "text": [
      "\r",
      " 53%|████████████████████████████████████████████████▌                                           | 97/184 [12:19<09:31,  6.57s/it]"
     ]
    },
    {
     "name": "stdout",
     "output_type": "stream",
     "text": [
      "https://serpapi.com/search\n",
      "https://serpapi.com/search\n"
     ]
    },
    {
     "name": "stderr",
     "output_type": "stream",
     "text": [
      "\r",
      " 53%|█████████████████████████████████████████████████                                           | 98/184 [12:21<07:18,  5.10s/it]"
     ]
    },
    {
     "name": "stdout",
     "output_type": "stream",
     "text": [
      "https://serpapi.com/search\n",
      "https://serpapi.com/search\n"
     ]
    },
    {
     "name": "stderr",
     "output_type": "stream",
     "text": [
      "\r",
      " 54%|█████████████████████████████████████████████████▍                                          | 99/184 [12:23<05:55,  4.18s/it]"
     ]
    },
    {
     "name": "stdout",
     "output_type": "stream",
     "text": [
      "https://serpapi.com/search\n",
      "https://serpapi.com/search\n"
     ]
    },
    {
     "name": "stderr",
     "output_type": "stream",
     "text": [
      "\r",
      " 54%|█████████████████████████████████████████████████▍                                         | 100/184 [12:23<04:12,  3.01s/it]"
     ]
    },
    {
     "name": "stdout",
     "output_type": "stream",
     "text": [
      "https://serpapi.com/search\n",
      "https://serpapi.com/search\n"
     ]
    },
    {
     "name": "stderr",
     "output_type": "stream",
     "text": [
      "\r",
      " 55%|█████████████████████████████████████████████████▉                                         | 101/184 [12:26<03:57,  2.86s/it]"
     ]
    },
    {
     "name": "stdout",
     "output_type": "stream",
     "text": [
      "https://serpapi.com/search\n",
      "https://serpapi.com/search\n"
     ]
    },
    {
     "name": "stderr",
     "output_type": "stream",
     "text": [
      "\r",
      " 55%|██████████████████████████████████████████████████▍                                        | 102/184 [12:31<04:35,  3.36s/it]"
     ]
    },
    {
     "name": "stdout",
     "output_type": "stream",
     "text": [
      "https://serpapi.com/search\n",
      "https://serpapi.com/search\n"
     ]
    },
    {
     "name": "stderr",
     "output_type": "stream",
     "text": [
      "\r",
      " 56%|██████████████████████████████████████████████████▉                                        | 103/184 [12:34<04:41,  3.47s/it]"
     ]
    },
    {
     "name": "stdout",
     "output_type": "stream",
     "text": [
      "https://serpapi.com/search\n",
      "https://serpapi.com/search\n",
      "https://serpapi.com/search\n",
      "https://serpapi.com/search\n",
      "https://serpapi.com/search\n"
     ]
    },
    {
     "name": "stderr",
     "output_type": "stream",
     "text": [
      "\r",
      " 57%|███████████████████████████████████████████████████▍                                       | 104/184 [12:43<06:36,  4.95s/it]"
     ]
    },
    {
     "name": "stdout",
     "output_type": "stream",
     "text": [
      "https://serpapi.com/search\n",
      "https://serpapi.com/search\n",
      "https://serpapi.com/search\n"
     ]
    },
    {
     "name": "stderr",
     "output_type": "stream",
     "text": [
      "\r",
      " 57%|███████████████████████████████████████████████████▉                                       | 105/184 [12:43<04:51,  3.69s/it]"
     ]
    },
    {
     "name": "stdout",
     "output_type": "stream",
     "text": [
      "https://serpapi.com/search\n",
      "https://serpapi.com/search\n",
      "https://serpapi.com/search\n"
     ]
    },
    {
     "name": "stderr",
     "output_type": "stream",
     "text": [
      "\r",
      " 58%|████████████████████████████████████████████████████▍                                      | 106/184 [12:54<07:25,  5.71s/it]"
     ]
    },
    {
     "name": "stdout",
     "output_type": "stream",
     "text": [
      "https://serpapi.com/search\n",
      "https://serpapi.com/search\n",
      "https://serpapi.com/search\n"
     ]
    },
    {
     "name": "stderr",
     "output_type": "stream",
     "text": [
      "\r",
      " 58%|████████████████████████████████████████████████████▉                                      | 107/184 [13:03<08:39,  6.74s/it]"
     ]
    },
    {
     "name": "stdout",
     "output_type": "stream",
     "text": [
      "https://serpapi.com/search\n",
      "https://serpapi.com/search\n",
      "https://serpapi.com/search\n"
     ]
    },
    {
     "name": "stderr",
     "output_type": "stream",
     "text": [
      "\r",
      " 59%|█████████████████████████████████████████████████████▍                                     | 108/184 [13:13<09:41,  7.66s/it]"
     ]
    },
    {
     "name": "stdout",
     "output_type": "stream",
     "text": [
      "https://serpapi.com/search\n",
      "https://serpapi.com/search\n"
     ]
    },
    {
     "name": "stderr",
     "output_type": "stream",
     "text": [
      "\r",
      " 59%|█████████████████████████████████████████████████████▉                                     | 109/184 [13:16<07:52,  6.30s/it]"
     ]
    },
    {
     "name": "stdout",
     "output_type": "stream",
     "text": [
      "https://serpapi.com/search\n",
      "https://serpapi.com/search\n",
      "https://serpapi.com/search\n",
      "https://serpapi.com/search\n"
     ]
    },
    {
     "name": "stderr",
     "output_type": "stream",
     "text": [
      "\r",
      " 60%|██████████████████████████████████████████████████████▍                                    | 110/184 [13:22<07:37,  6.18s/it]"
     ]
    },
    {
     "name": "stdout",
     "output_type": "stream",
     "text": [
      "https://serpapi.com/search\n",
      "https://serpapi.com/search\n"
     ]
    },
    {
     "name": "stderr",
     "output_type": "stream",
     "text": [
      "\r",
      " 60%|██████████████████████████████████████████████████████▉                                    | 111/184 [13:25<06:32,  5.37s/it]"
     ]
    },
    {
     "name": "stdout",
     "output_type": "stream",
     "text": [
      "https://serpapi.com/search\n",
      "https://serpapi.com/search\n",
      "https://serpapi.com/search\n"
     ]
    },
    {
     "name": "stderr",
     "output_type": "stream",
     "text": [
      "\r",
      " 61%|███████████████████████████████████████████████████████▍                                   | 112/184 [13:34<07:49,  6.52s/it]"
     ]
    },
    {
     "name": "stdout",
     "output_type": "stream",
     "text": [
      "https://serpapi.com/search\n",
      "https://serpapi.com/search\n",
      "https://serpapi.com/search\n"
     ]
    },
    {
     "name": "stderr",
     "output_type": "stream",
     "text": [
      "\r",
      " 61%|███████████████████████████████████████████████████████▉                                   | 113/184 [13:37<06:16,  5.30s/it]"
     ]
    },
    {
     "name": "stdout",
     "output_type": "stream",
     "text": [
      "https://serpapi.com/search\n",
      "https://serpapi.com/search\n",
      "https://serpapi.com/search\n",
      "https://serpapi.com/search\n"
     ]
    },
    {
     "name": "stderr",
     "output_type": "stream",
     "text": [
      "\r",
      " 62%|████████████████████████████████████████████████████████▍                                  | 114/184 [13:46<07:21,  6.31s/it]"
     ]
    },
    {
     "name": "stdout",
     "output_type": "stream",
     "text": [
      "https://serpapi.com/search\n",
      "https://serpapi.com/search\n",
      "https://serpapi.com/search\n",
      "https://serpapi.com/search\n",
      "https://serpapi.com/search\n"
     ]
    },
    {
     "name": "stderr",
     "output_type": "stream",
     "text": [
      "\r",
      " 62%|████████████████████████████████████████████████████████▉                                  | 115/184 [13:55<08:14,  7.17s/it]"
     ]
    },
    {
     "name": "stdout",
     "output_type": "stream",
     "text": [
      "https://serpapi.com/search\n",
      "https://serpapi.com/search\n",
      "https://serpapi.com/search\n",
      "https://serpapi.com/search\n",
      "https://serpapi.com/search\n"
     ]
    },
    {
     "name": "stderr",
     "output_type": "stream",
     "text": [
      "\r",
      " 63%|█████████████████████████████████████████████████████████▎                                 | 116/184 [13:59<07:13,  6.38s/it]"
     ]
    },
    {
     "name": "stdout",
     "output_type": "stream",
     "text": [
      "https://serpapi.com/search\n",
      "https://serpapi.com/search\n",
      "https://serpapi.com/search\n",
      "https://serpapi.com/search\n"
     ]
    },
    {
     "name": "stderr",
     "output_type": "stream",
     "text": [
      "\r",
      " 64%|█████████████████████████████████████████████████████████▊                                 | 117/184 [14:00<05:22,  4.82s/it]"
     ]
    },
    {
     "name": "stdout",
     "output_type": "stream",
     "text": [
      "https://serpapi.com/search\n",
      "https://serpapi.com/search\n",
      "https://serpapi.com/search\n"
     ]
    },
    {
     "name": "stderr",
     "output_type": "stream",
     "text": [
      "\r",
      " 64%|██████████████████████████████████████████████████████████▎                                | 118/184 [14:05<05:19,  4.84s/it]"
     ]
    },
    {
     "name": "stdout",
     "output_type": "stream",
     "text": [
      "https://serpapi.com/search\n",
      "https://serpapi.com/search\n",
      "https://serpapi.com/search\n"
     ]
    },
    {
     "name": "stderr",
     "output_type": "stream",
     "text": [
      "\r",
      " 65%|██████████████████████████████████████████████████████████▊                                | 119/184 [14:14<06:19,  5.84s/it]"
     ]
    },
    {
     "name": "stdout",
     "output_type": "stream",
     "text": [
      "https://serpapi.com/search\n",
      "https://serpapi.com/search\n",
      "https://serpapi.com/search\n"
     ]
    },
    {
     "name": "stderr",
     "output_type": "stream",
     "text": [
      "\r",
      " 65%|███████████████████████████████████████████████████████████▎                               | 120/184 [14:16<05:07,  4.81s/it]"
     ]
    },
    {
     "name": "stdout",
     "output_type": "stream",
     "text": [
      "https://serpapi.com/search\n",
      "https://serpapi.com/search\n"
     ]
    },
    {
     "name": "stderr",
     "output_type": "stream",
     "text": [
      "\r",
      " 66%|███████████████████████████████████████████████████████████▊                               | 121/184 [14:24<06:01,  5.73s/it]"
     ]
    },
    {
     "name": "stdout",
     "output_type": "stream",
     "text": [
      "https://serpapi.com/search\n",
      "https://serpapi.com/search\n"
     ]
    },
    {
     "name": "stderr",
     "output_type": "stream",
     "text": [
      "\r",
      " 66%|████████████████████████████████████████████████████████████▎                              | 122/184 [14:27<05:11,  5.02s/it]"
     ]
    },
    {
     "name": "stdout",
     "output_type": "stream",
     "text": [
      "https://serpapi.com/search\n",
      "https://serpapi.com/search\n"
     ]
    },
    {
     "name": "stderr",
     "output_type": "stream",
     "text": [
      "\r",
      " 67%|████████████████████████████████████████████████████████████▊                              | 123/184 [14:29<04:02,  3.97s/it]"
     ]
    },
    {
     "name": "stdout",
     "output_type": "stream",
     "text": [
      "https://serpapi.com/search\n",
      "https://serpapi.com/search\n"
     ]
    },
    {
     "name": "stderr",
     "output_type": "stream",
     "text": [
      "\r",
      " 67%|█████████████████████████████████████████████████████████████▎                             | 124/184 [14:31<03:27,  3.46s/it]"
     ]
    },
    {
     "name": "stdout",
     "output_type": "stream",
     "text": [
      "https://serpapi.com/search\n",
      "https://serpapi.com/search\n"
     ]
    },
    {
     "name": "stderr",
     "output_type": "stream",
     "text": [
      "\r",
      " 68%|█████████████████████████████████████████████████████████████▊                             | 125/184 [14:33<02:53,  2.93s/it]"
     ]
    },
    {
     "name": "stdout",
     "output_type": "stream",
     "text": [
      "https://serpapi.com/search\n",
      "https://serpapi.com/search\n",
      "https://serpapi.com/search\n",
      "https://serpapi.com/search\n"
     ]
    },
    {
     "name": "stderr",
     "output_type": "stream",
     "text": [
      "\r",
      " 68%|██████████████████████████████████████████████████████████████▎                            | 126/184 [14:35<02:37,  2.72s/it]"
     ]
    },
    {
     "name": "stdout",
     "output_type": "stream",
     "text": [
      "https://serpapi.com/search\n",
      "https://serpapi.com/search\n",
      "https://serpapi.com/search\n"
     ]
    },
    {
     "name": "stderr",
     "output_type": "stream",
     "text": [
      "\r",
      " 69%|██████████████████████████████████████████████████████████████▊                            | 127/184 [14:41<03:34,  3.76s/it]"
     ]
    },
    {
     "name": "stdout",
     "output_type": "stream",
     "text": [
      "https://serpapi.com/search\n",
      "https://serpapi.com/search\n",
      "https://serpapi.com/search\n"
     ]
    },
    {
     "name": "stderr",
     "output_type": "stream",
     "text": [
      "\r",
      " 70%|███████████████████████████████████████████████████████████████▎                           | 128/184 [14:51<05:21,  5.74s/it]"
     ]
    },
    {
     "name": "stdout",
     "output_type": "stream",
     "text": [
      "https://serpapi.com/search\n",
      "https://serpapi.com/search\n",
      "https://serpapi.com/search\n",
      "https://serpapi.com/search\n"
     ]
    },
    {
     "name": "stderr",
     "output_type": "stream",
     "text": [
      "\r",
      " 70%|███████████████████████████████████████████████████████████████▊                           | 129/184 [14:52<03:56,  4.31s/it]"
     ]
    },
    {
     "name": "stdout",
     "output_type": "stream",
     "text": [
      "https://serpapi.com/search\n",
      "https://serpapi.com/search\n",
      "https://serpapi.com/search\n",
      "https://serpapi.com/search\n"
     ]
    },
    {
     "name": "stderr",
     "output_type": "stream",
     "text": [
      "\r",
      " 71%|████████████████████████████████████████████████████████████████▎                          | 130/184 [15:03<05:39,  6.29s/it]"
     ]
    },
    {
     "name": "stdout",
     "output_type": "stream",
     "text": [
      "https://serpapi.com/search\n",
      "https://serpapi.com/search\n",
      "https://serpapi.com/search\n",
      "https://serpapi.com/search\n",
      "https://serpapi.com/search\n",
      "https://serpapi.com/search\n"
     ]
    },
    {
     "name": "stderr",
     "output_type": "stream",
     "text": [
      "\r",
      " 71%|████████████████████████████████████████████████████████████████▊                          | 131/184 [15:19<08:01,  9.09s/it]"
     ]
    },
    {
     "name": "stdout",
     "output_type": "stream",
     "text": [
      "https://serpapi.com/search\n",
      "https://serpapi.com/search\n"
     ]
    },
    {
     "name": "stderr",
     "output_type": "stream",
     "text": [
      "\r",
      " 72%|█████████████████████████████████████████████████████████████████▎                         | 132/184 [15:23<06:33,  7.57s/it]"
     ]
    },
    {
     "name": "stdout",
     "output_type": "stream",
     "text": [
      "https://serpapi.com/search\n",
      "https://serpapi.com/search\n",
      "https://serpapi.com/search\n"
     ]
    },
    {
     "name": "stderr",
     "output_type": "stream",
     "text": [
      "\r",
      " 72%|█████████████████████████████████████████████████████████████████▊                         | 133/184 [15:26<05:12,  6.12s/it]"
     ]
    },
    {
     "name": "stdout",
     "output_type": "stream",
     "text": [
      "https://serpapi.com/search\n",
      "https://serpapi.com/search\n"
     ]
    },
    {
     "name": "stderr",
     "output_type": "stream",
     "text": [
      "\r",
      " 73%|██████████████████████████████████████████████████████████████████▎                        | 134/184 [15:30<04:33,  5.47s/it]"
     ]
    },
    {
     "name": "stdout",
     "output_type": "stream",
     "text": [
      "https://serpapi.com/search\n",
      "https://serpapi.com/search\n"
     ]
    },
    {
     "name": "stderr",
     "output_type": "stream",
     "text": [
      "\r",
      " 73%|██████████████████████████████████████████████████████████████████▊                        | 135/184 [15:31<03:33,  4.36s/it]"
     ]
    },
    {
     "name": "stdout",
     "output_type": "stream",
     "text": [
      "https://serpapi.com/search\n",
      "https://serpapi.com/search\n"
     ]
    },
    {
     "name": "stderr",
     "output_type": "stream",
     "text": [
      "\r",
      " 74%|███████████████████████████████████████████████████████████████████▎                       | 136/184 [15:34<02:56,  3.68s/it]"
     ]
    },
    {
     "name": "stdout",
     "output_type": "stream",
     "text": [
      "https://serpapi.com/search\n",
      "https://serpapi.com/search\n",
      "https://serpapi.com/search\n"
     ]
    },
    {
     "name": "stderr",
     "output_type": "stream",
     "text": [
      "\r",
      " 74%|███████████████████████████████████████████████████████████████████▊                       | 137/184 [15:34<02:11,  2.80s/it]"
     ]
    },
    {
     "name": "stdout",
     "output_type": "stream",
     "text": [
      "https://serpapi.com/search\n"
     ]
    },
    {
     "name": "stderr",
     "output_type": "stream",
     "text": [
      "\r",
      " 75%|████████████████████████████████████████████████████████████████████▎                      | 138/184 [15:36<01:50,  2.40s/it]"
     ]
    },
    {
     "name": "stdout",
     "output_type": "stream",
     "text": [
      "https://serpapi.com/search\n",
      "https://serpapi.com/search\n",
      "https://serpapi.com/search\n",
      "https://serpapi.com/search\n"
     ]
    },
    {
     "name": "stderr",
     "output_type": "stream",
     "text": [
      "\r",
      " 76%|████████████████████████████████████████████████████████████████████▋                      | 139/184 [15:43<02:57,  3.94s/it]"
     ]
    },
    {
     "name": "stdout",
     "output_type": "stream",
     "text": [
      "https://serpapi.com/search\n",
      "https://serpapi.com/search\n"
     ]
    },
    {
     "name": "stderr",
     "output_type": "stream",
     "text": [
      "\r",
      " 76%|█████████████████████████████████████████████████████████████████████▏                     | 140/184 [15:45<02:29,  3.39s/it]"
     ]
    },
    {
     "name": "stdout",
     "output_type": "stream",
     "text": [
      "https://serpapi.com/search\n",
      "https://serpapi.com/search\n"
     ]
    },
    {
     "name": "stderr",
     "output_type": "stream",
     "text": [
      "\r",
      " 77%|█████████████████████████████████████████████████████████████████████▋                     | 141/184 [15:49<02:31,  3.52s/it]"
     ]
    },
    {
     "name": "stdout",
     "output_type": "stream",
     "text": [
      "https://serpapi.com/search\n",
      "https://serpapi.com/search\n",
      "https://serpapi.com/search\n",
      "https://serpapi.com/search\n",
      "https://serpapi.com/search\n"
     ]
    },
    {
     "name": "stderr",
     "output_type": "stream",
     "text": [
      "\r",
      " 77%|██████████████████████████████████████████████████████████████████████▏                    | 142/184 [15:57<03:15,  4.65s/it]"
     ]
    },
    {
     "name": "stdout",
     "output_type": "stream",
     "text": [
      "https://serpapi.com/search\n",
      "https://serpapi.com/search\n"
     ]
    },
    {
     "name": "stderr",
     "output_type": "stream",
     "text": [
      "\r",
      " 78%|██████████████████████████████████████████████████████████████████████▋                    | 143/184 [16:03<03:32,  5.19s/it]"
     ]
    },
    {
     "name": "stdout",
     "output_type": "stream",
     "text": [
      "https://serpapi.com/search\n",
      "https://serpapi.com/search\n"
     ]
    },
    {
     "name": "stderr",
     "output_type": "stream",
     "text": [
      "\r",
      " 78%|███████████████████████████████████████████████████████████████████████▏                   | 144/184 [16:13<04:19,  6.50s/it]"
     ]
    },
    {
     "name": "stdout",
     "output_type": "stream",
     "text": [
      "https://serpapi.com/search\n",
      "https://serpapi.com/search\n",
      "https://serpapi.com/search\n"
     ]
    },
    {
     "name": "stderr",
     "output_type": "stream",
     "text": [
      "\r",
      " 79%|███████████████████████████████████████████████████████████████████████▋                   | 145/184 [16:17<03:45,  5.79s/it]"
     ]
    },
    {
     "name": "stdout",
     "output_type": "stream",
     "text": [
      "https://serpapi.com/search\n",
      "https://serpapi.com/search\n"
     ]
    },
    {
     "name": "stderr",
     "output_type": "stream",
     "text": [
      "\r",
      " 79%|████████████████████████████████████████████████████████████████████████▏                  | 146/184 [16:23<03:41,  5.83s/it]"
     ]
    },
    {
     "name": "stdout",
     "output_type": "stream",
     "text": [
      "https://serpapi.com/search\n",
      "https://serpapi.com/search\n"
     ]
    },
    {
     "name": "stderr",
     "output_type": "stream",
     "text": [
      "\r",
      " 80%|████████████████████████████████████████████████████████████████████████▋                  | 147/184 [16:25<02:58,  4.84s/it]"
     ]
    },
    {
     "name": "stdout",
     "output_type": "stream",
     "text": [
      "https://serpapi.com/search\n",
      "https://serpapi.com/search\n",
      "https://serpapi.com/search\n"
     ]
    },
    {
     "name": "stderr",
     "output_type": "stream",
     "text": [
      "\r",
      " 80%|█████████████████████████████████████████████████████████████████████████▏                 | 148/184 [16:31<03:01,  5.03s/it]"
     ]
    },
    {
     "name": "stdout",
     "output_type": "stream",
     "text": [
      "https://serpapi.com/search\n"
     ]
    },
    {
     "name": "stderr",
     "output_type": "stream",
     "text": [
      "\r",
      " 81%|█████████████████████████████████████████████████████████████████████████▋                 | 149/184 [16:34<02:36,  4.48s/it]"
     ]
    },
    {
     "name": "stdout",
     "output_type": "stream",
     "text": [
      "https://serpapi.com/search\n",
      "https://serpapi.com/search\n",
      "https://serpapi.com/search\n"
     ]
    },
    {
     "name": "stderr",
     "output_type": "stream",
     "text": [
      "\r",
      " 82%|██████████████████████████████████████████████████████████████████████████▏                | 150/184 [16:36<02:14,  3.94s/it]"
     ]
    },
    {
     "name": "stdout",
     "output_type": "stream",
     "text": [
      "https://serpapi.com/search\n",
      "https://serpapi.com/search\n"
     ]
    },
    {
     "name": "stderr",
     "output_type": "stream",
     "text": [
      "\r",
      " 82%|██████████████████████████████████████████████████████████████████████████▋                | 151/184 [16:40<02:01,  3.69s/it]"
     ]
    },
    {
     "name": "stdout",
     "output_type": "stream",
     "text": [
      "https://serpapi.com/search\n"
     ]
    },
    {
     "name": "stderr",
     "output_type": "stream",
     "text": [
      "\r",
      " 83%|███████████████████████████████████████████████████████████████████████████▏               | 152/184 [16:40<01:25,  2.67s/it]"
     ]
    },
    {
     "name": "stdout",
     "output_type": "stream",
     "text": [
      "https://serpapi.com/search\n",
      "https://serpapi.com/search\n",
      "https://serpapi.com/search\n"
     ]
    },
    {
     "name": "stderr",
     "output_type": "stream",
     "text": [
      "\r",
      " 83%|███████████████████████████████████████████████████████████████████████████▋               | 153/184 [16:42<01:19,  2.57s/it]"
     ]
    },
    {
     "name": "stdout",
     "output_type": "stream",
     "text": [
      "https://serpapi.com/search\n",
      "https://serpapi.com/search\n",
      "https://serpapi.com/search\n",
      "https://serpapi.com/search\n"
     ]
    },
    {
     "name": "stderr",
     "output_type": "stream",
     "text": [
      "\r",
      " 84%|████████████████████████████████████████████████████████████████████████████▏              | 154/184 [16:47<01:41,  3.38s/it]"
     ]
    },
    {
     "name": "stdout",
     "output_type": "stream",
     "text": [
      "https://serpapi.com/search\n",
      "https://serpapi.com/search\n",
      "https://serpapi.com/search\n",
      "https://serpapi.com/search\n"
     ]
    },
    {
     "name": "stderr",
     "output_type": "stream",
     "text": [
      "\r",
      " 84%|████████████████████████████████████████████████████████████████████████████▋              | 155/184 [16:53<01:56,  4.01s/it]"
     ]
    },
    {
     "name": "stdout",
     "output_type": "stream",
     "text": [
      "https://serpapi.com/search\n",
      "https://serpapi.com/search\n"
     ]
    },
    {
     "name": "stderr",
     "output_type": "stream",
     "text": [
      "\r",
      " 85%|█████████████████████████████████████████████████████████████████████████████▏             | 156/184 [16:55<01:38,  3.51s/it]"
     ]
    },
    {
     "name": "stdout",
     "output_type": "stream",
     "text": [
      "https://serpapi.com/search\n",
      "https://serpapi.com/search\n",
      "https://serpapi.com/search\n"
     ]
    },
    {
     "name": "stderr",
     "output_type": "stream",
     "text": [
      "\r",
      " 85%|█████████████████████████████████████████████████████████████████████████████▋             | 157/184 [16:59<01:32,  3.43s/it]"
     ]
    },
    {
     "name": "stdout",
     "output_type": "stream",
     "text": [
      "https://serpapi.com/search\n",
      "https://serpapi.com/search\n"
     ]
    },
    {
     "name": "stderr",
     "output_type": "stream",
     "text": [
      "\r",
      " 86%|██████████████████████████████████████████████████████████████████████████████▏            | 158/184 [17:03<01:33,  3.59s/it]"
     ]
    },
    {
     "name": "stdout",
     "output_type": "stream",
     "text": [
      "https://serpapi.com/search\n",
      "https://serpapi.com/search\n",
      "https://serpapi.com/search\n"
     ]
    },
    {
     "name": "stderr",
     "output_type": "stream",
     "text": [
      "\r",
      " 86%|██████████████████████████████████████████████████████████████████████████████▋            | 159/184 [17:08<01:41,  4.05s/it]"
     ]
    },
    {
     "name": "stdout",
     "output_type": "stream",
     "text": [
      "https://serpapi.com/search\n",
      "https://serpapi.com/search\n",
      "https://serpapi.com/search\n"
     ]
    },
    {
     "name": "stderr",
     "output_type": "stream",
     "text": [
      "\r",
      " 87%|███████████████████████████████████████████████████████████████████████████████▏           | 160/184 [17:14<01:50,  4.62s/it]"
     ]
    },
    {
     "name": "stdout",
     "output_type": "stream",
     "text": [
      "https://serpapi.com/search\n",
      "https://serpapi.com/search\n",
      "https://serpapi.com/search\n"
     ]
    },
    {
     "name": "stderr",
     "output_type": "stream",
     "text": [
      "\r",
      " 88%|███████████████████████████████████████████████████████████████████████████████▋           | 161/184 [17:22<02:10,  5.68s/it]"
     ]
    },
    {
     "name": "stdout",
     "output_type": "stream",
     "text": [
      "https://serpapi.com/search\n",
      "https://serpapi.com/search\n"
     ]
    },
    {
     "name": "stderr",
     "output_type": "stream",
     "text": [
      "\r",
      " 88%|████████████████████████████████████████████████████████████████████████████████           | 162/184 [17:24<01:40,  4.58s/it]"
     ]
    },
    {
     "name": "stdout",
     "output_type": "stream",
     "text": [
      "https://serpapi.com/search\n",
      "https://serpapi.com/search\n"
     ]
    },
    {
     "name": "stderr",
     "output_type": "stream",
     "text": [
      "\r",
      " 89%|████████████████████████████████████████████████████████████████████████████████▌          | 163/184 [17:27<01:25,  4.07s/it]"
     ]
    },
    {
     "name": "stdout",
     "output_type": "stream",
     "text": [
      "https://serpapi.com/search\n",
      "https://serpapi.com/search\n"
     ]
    },
    {
     "name": "stderr",
     "output_type": "stream",
     "text": [
      "\r",
      " 89%|█████████████████████████████████████████████████████████████████████████████████          | 164/184 [17:30<01:16,  3.84s/it]"
     ]
    },
    {
     "name": "stdout",
     "output_type": "stream",
     "text": [
      "https://serpapi.com/search\n",
      "https://serpapi.com/search\n",
      "https://serpapi.com/search\n",
      "https://serpapi.com/search\n"
     ]
    },
    {
     "name": "stderr",
     "output_type": "stream",
     "text": [
      "\r",
      " 90%|█████████████████████████████████████████████████████████████████████████████████▌         | 165/184 [17:33<01:08,  3.62s/it]"
     ]
    },
    {
     "name": "stdout",
     "output_type": "stream",
     "text": [
      "https://serpapi.com/search\n",
      "https://serpapi.com/search\n",
      "https://serpapi.com/search\n",
      "https://serpapi.com/search\n"
     ]
    },
    {
     "name": "stderr",
     "output_type": "stream",
     "text": [
      "\r",
      " 90%|██████████████████████████████████████████████████████████████████████████████████         | 166/184 [17:40<01:25,  4.75s/it]"
     ]
    },
    {
     "name": "stdout",
     "output_type": "stream",
     "text": [
      "https://serpapi.com/search\n",
      "https://serpapi.com/search\n"
     ]
    },
    {
     "name": "stderr",
     "output_type": "stream",
     "text": [
      "\r",
      " 91%|██████████████████████████████████████████████████████████████████████████████████▌        | 167/184 [17:43<01:11,  4.21s/it]"
     ]
    },
    {
     "name": "stdout",
     "output_type": "stream",
     "text": [
      "https://serpapi.com/search\n",
      "https://serpapi.com/search\n"
     ]
    },
    {
     "name": "stderr",
     "output_type": "stream",
     "text": [
      "\r",
      " 91%|███████████████████████████████████████████████████████████████████████████████████        | 168/184 [17:44<00:49,  3.11s/it]"
     ]
    },
    {
     "name": "stdout",
     "output_type": "stream",
     "text": [
      "https://serpapi.com/search\n",
      "https://serpapi.com/search\n",
      "https://serpapi.com/search\n",
      "https://serpapi.com/search\n"
     ]
    },
    {
     "name": "stderr",
     "output_type": "stream",
     "text": [
      "\r",
      " 92%|███████████████████████████████████████████████████████████████████████████████████▌       | 169/184 [17:49<00:55,  3.72s/it]"
     ]
    },
    {
     "name": "stdout",
     "output_type": "stream",
     "text": [
      "https://serpapi.com/search\n",
      "https://serpapi.com/search\n",
      "https://serpapi.com/search\n"
     ]
    },
    {
     "name": "stderr",
     "output_type": "stream",
     "text": [
      "\r",
      " 92%|████████████████████████████████████████████████████████████████████████████████████       | 170/184 [17:59<01:17,  5.54s/it]"
     ]
    },
    {
     "name": "stdout",
     "output_type": "stream",
     "text": [
      "https://serpapi.com/search\n",
      "https://serpapi.com/search\n"
     ]
    },
    {
     "name": "stderr",
     "output_type": "stream",
     "text": [
      "\r",
      " 93%|████████████████████████████████████████████████████████████████████████████████████▌      | 171/184 [18:01<00:59,  4.54s/it]"
     ]
    },
    {
     "name": "stdout",
     "output_type": "stream",
     "text": [
      "https://serpapi.com/search\n",
      "https://serpapi.com/search\n",
      "https://serpapi.com/search\n"
     ]
    },
    {
     "name": "stderr",
     "output_type": "stream",
     "text": [
      "\r",
      " 93%|█████████████████████████████████████████████████████████████████████████████████████      | 172/184 [18:03<00:45,  3.76s/it]"
     ]
    },
    {
     "name": "stdout",
     "output_type": "stream",
     "text": [
      "https://serpapi.com/search\n",
      "https://serpapi.com/search\n",
      "https://serpapi.com/search\n",
      "https://serpapi.com/search\n"
     ]
    },
    {
     "name": "stderr",
     "output_type": "stream",
     "text": [
      "\r",
      " 94%|█████████████████████████████████████████████████████████████████████████████████████▌     | 173/184 [18:22<01:31,  8.31s/it]"
     ]
    },
    {
     "name": "stdout",
     "output_type": "stream",
     "text": [
      "https://serpapi.com/search\n",
      "https://serpapi.com/search\n",
      "https://serpapi.com/search\n",
      "https://serpapi.com/search\n"
     ]
    },
    {
     "name": "stderr",
     "output_type": "stream",
     "text": [
      "\r",
      " 95%|██████████████████████████████████████████████████████████████████████████████████████     | 174/184 [18:35<01:38,  9.88s/it]"
     ]
    },
    {
     "name": "stdout",
     "output_type": "stream",
     "text": [
      "https://serpapi.com/search\n",
      "https://serpapi.com/search\n",
      "https://serpapi.com/search\n"
     ]
    },
    {
     "name": "stderr",
     "output_type": "stream",
     "text": [
      "\r",
      " 95%|██████████████████████████████████████████████████████████████████████████████████████▌    | 175/184 [18:38<01:08,  7.65s/it]"
     ]
    },
    {
     "name": "stdout",
     "output_type": "stream",
     "text": [
      "https://serpapi.com/search\n",
      "https://serpapi.com/search\n",
      "https://serpapi.com/search\n"
     ]
    },
    {
     "name": "stderr",
     "output_type": "stream",
     "text": [
      "\r",
      " 96%|███████████████████████████████████████████████████████████████████████████████████████    | 176/184 [18:40<00:48,  6.05s/it]"
     ]
    },
    {
     "name": "stdout",
     "output_type": "stream",
     "text": [
      "https://serpapi.com/search\n",
      "https://serpapi.com/search\n"
     ]
    },
    {
     "name": "stderr",
     "output_type": "stream",
     "text": [
      "\r",
      " 96%|███████████████████████████████████████████████████████████████████████████████████████▌   | 177/184 [18:42<00:32,  4.61s/it]"
     ]
    },
    {
     "name": "stdout",
     "output_type": "stream",
     "text": [
      "https://serpapi.com/search\n",
      "https://serpapi.com/search\n"
     ]
    },
    {
     "name": "stderr",
     "output_type": "stream",
     "text": [
      "\r",
      " 97%|████████████████████████████████████████████████████████████████████████████████████████   | 178/184 [18:44<00:24,  4.01s/it]"
     ]
    },
    {
     "name": "stdout",
     "output_type": "stream",
     "text": [
      "https://serpapi.com/search\n",
      "https://serpapi.com/search\n",
      "https://serpapi.com/search\n"
     ]
    },
    {
     "name": "stderr",
     "output_type": "stream",
     "text": [
      "\r",
      " 97%|████████████████████████████████████████████████████████████████████████████████████████▌  | 179/184 [18:46<00:16,  3.36s/it]"
     ]
    },
    {
     "name": "stdout",
     "output_type": "stream",
     "text": [
      "https://serpapi.com/search\n",
      "https://serpapi.com/search\n",
      "https://serpapi.com/search\n"
     ]
    },
    {
     "name": "stderr",
     "output_type": "stream",
     "text": [
      "\r",
      " 98%|█████████████████████████████████████████████████████████████████████████████████████████  | 180/184 [18:48<00:11,  2.89s/it]"
     ]
    },
    {
     "name": "stdout",
     "output_type": "stream",
     "text": [
      "https://serpapi.com/search\n",
      "https://serpapi.com/search\n",
      "https://serpapi.com/search\n"
     ]
    },
    {
     "name": "stderr",
     "output_type": "stream",
     "text": [
      "\r",
      " 98%|█████████████████████████████████████████████████████████████████████████████████████████▌ | 181/184 [18:50<00:08,  2.70s/it]"
     ]
    },
    {
     "name": "stdout",
     "output_type": "stream",
     "text": [
      "https://serpapi.com/search\n",
      "https://serpapi.com/search\n",
      "https://serpapi.com/search\n",
      "https://serpapi.com/search\n"
     ]
    },
    {
     "name": "stderr",
     "output_type": "stream",
     "text": [
      "\r",
      " 99%|██████████████████████████████████████████████████████████████████████████████████████████ | 182/184 [18:53<00:05,  2.66s/it]"
     ]
    },
    {
     "name": "stdout",
     "output_type": "stream",
     "text": [
      "https://serpapi.com/search\n",
      "https://serpapi.com/search\n",
      "https://serpapi.com/search\n",
      "https://serpapi.com/search\n"
     ]
    },
    {
     "name": "stderr",
     "output_type": "stream",
     "text": [
      "\r",
      " 99%|██████████████████████████████████████████████████████████████████████████████████████████▌| 183/184 [18:56<00:02,  2.91s/it]"
     ]
    },
    {
     "name": "stdout",
     "output_type": "stream",
     "text": [
      "https://serpapi.com/search\n",
      "https://serpapi.com/search\n"
     ]
    },
    {
     "name": "stderr",
     "output_type": "stream",
     "text": [
      "100%|███████████████████████████████████████████████████████████████████████████████████████████| 184/184 [19:08<00:00,  6.24s/it]\n"
     ]
    }
   ],
   "source": [
    "search_background = []\n",
    "all_search_dict = []\n",
    "entity_list = []\n",
    "for x in tqdm.tqdm(inputs):\n",
    "    entity_list.append(findEntities(x))\n",
    "for ex in tqdm.tqdm(entity_list):\n",
    "    ents = ex[0].split(\"\\n\")\n",
    "    combined_output = \"\"\n",
    "    search_dict = []\n",
    "    for entity in ents:\n",
    "        search_results = search_entity(entity)\n",
    "        search_dict.append(search_results)\n",
    "        search_prompt = render_results(search_results)\n",
    "        combined_output += search_prompt + \"\\n\"\n",
    "    search_background.append(combined_output)\n",
    "    all_search_dict.append(search_dict)"
   ]
  },
  {
   "cell_type": "code",
   "execution_count": 317,
   "id": "6ee53874",
   "metadata": {},
   "outputs": [
    {
     "data": {
      "text/plain": [
       "{'search_metadata': {'id': '633bb20c0f9866f823973b67',\n",
       "  'status': 'Success',\n",
       "  'json_endpoint': 'https://serpapi.com/searches/b13874963a95fce2/633bb20c0f9866f823973b67.json',\n",
       "  'created_at': '2022-10-04 04:09:48 UTC',\n",
       "  'processed_at': '2022-10-04 04:09:48 UTC',\n",
       "  'google_url': 'https://www.google.com/search?q=What+time+period+does+Elon+Musk+belong+to%3F+When+was+it+created+or+born%3F&oq=What+time+period+does+Elon+Musk+belong+to%3F+When+was+it+created+or+born%3F&hl=en&gl=us&sourceid=chrome&ie=UTF-8',\n",
       "  'raw_html_file': 'https://serpapi.com/searches/b13874963a95fce2/633bb20c0f9866f823973b67.html',\n",
       "  'total_time_taken': 1.09},\n",
       " 'search_parameters': {'engine': 'google',\n",
       "  'q': 'What time period does Elon Musk belong to? When was it created or born?',\n",
       "  'google_domain': 'google.com',\n",
       "  'hl': 'en',\n",
       "  'gl': 'us',\n",
       "  'device': 'desktop'},\n",
       " 'search_information': {'organic_results_state': 'Results for exact spelling',\n",
       "  'query_displayed': 'What time period does Elon Musk belong to? When was it created or born?',\n",
       "  'total_results': 26600000,\n",
       "  'time_taken_displayed': 0.72,\n",
       "  'menu_items': [{'position': 1, 'title': 'All'},\n",
       "   {'position': 2,\n",
       "    'title': 'News',\n",
       "    'link': 'https://www.google.com/search?q=What+time+period+does+Elon+Musk+belong+to%3F+When+was+it+created+or+born%3F&gl=us&hl=en&source=lnms&tbm=nws&sa=X&ved=2ahUKEwiBnNuM2sX6AhXNTTABHUf3ACwQ_AUoAXoECAEQAw',\n",
       "    'serpapi_link': 'https://serpapi.com/search.json?device=desktop&engine=google&gl=us&google_domain=google.com&hl=en&q=What+time+period+does+Elon+Musk+belong+to%3F+When+was+it+created+or+born%3F&tbm=nws'},\n",
       "   {'position': 3,\n",
       "    'title': 'Images',\n",
       "    'link': 'https://www.google.com/search?q=What+time+period+does+Elon+Musk+belong+to%3F+When+was+it+created+or+born%3F&gl=us&hl=en&source=lnms&tbm=isch&sa=X&ved=2ahUKEwiBnNuM2sX6AhXNTTABHUf3ACwQ_AUoAnoECAEQBA',\n",
       "    'serpapi_link': 'https://serpapi.com/search.json?device=desktop&engine=google&gl=us&google_domain=google.com&hl=en&q=What+time+period+does+Elon+Musk+belong+to%3F+When+was+it+created+or+born%3F&tbm=isch'},\n",
       "   {'position': 4,\n",
       "    'title': 'Books',\n",
       "    'link': 'https://www.google.com/search?q=What+time+period+does+Elon+Musk+belong+to%3F+When+was+it+created+or+born%3F&gl=us&hl=en&source=lnms&tbm=bks&sa=X&ved=2ahUKEwiBnNuM2sX6AhXNTTABHUf3ACwQ_AUoA3oECAEQBQ'},\n",
       "   {'position': 5,\n",
       "    'title': 'Shopping',\n",
       "    'link': 'https://www.google.com/search?q=What+time+period+does+Elon+Musk+belong+to%3F+When+was+it+created+or+born%3F&gl=us&hl=en&source=lnms&tbm=shop&sa=X&ved=2ahUKEwiBnNuM2sX6AhXNTTABHUf3ACwQ_AUoBHoECAEQBg',\n",
       "    'serpapi_link': 'https://serpapi.com/search.json?device=desktop&engine=google&gl=us&google_domain=google.com&hl=en&q=What+time+period+does+Elon+Musk+belong+to%3F+When+was+it+created+or+born%3F&tbm=shop'}]},\n",
       " 'inline_people_also_search_for': [{'title': 'Elon Musk companies',\n",
       "   'items': [{'name': 'Tesla, Inc.',\n",
       "     'image': 'https://encrypted-tbn0.gstatic.com/images?q=tbn:ANd9GcTXT8htU8ZcDc52ZS6Yfif5KUn6RwJrt_4psJYS&s=0',\n",
       "     'link': 'https://www.google.com/search?gl=us&hl=en&q=Tesla,+Inc.&stick=H4sIAAAAAAAAAOOQUeLUz9U3SCmyNEgxEk7Nyc9TyC0tzlZIzs8tSMzLTC2Ocg3PSCxRKMnMTVUoSC3KzE9RSMlPLVZwBSn1BSlNAulKVyjJVwjPSM1TKE8sVsgsUUguSk0sSU1RyC9SSMovyjvFiLAHyjZOy64sP8XIq5-ub2iYVFVhUlSQlgPjp1TkmJXFp6XB5SuSzUzNysxOMXKD-EZGxZaG8aanGLnAJiVVZRun_2IURjgK7v4GFsZFrNwhqcU5iToKnnnJerfYJBlMP7YyzbVJ1FSXLX1eXOIjZDT3ZimDxb45AObvGmQPAQAA&sa=X&ved=2ahUKEwiBnNuM2sX6AhXNTTABHUf3ACwQs9oBKAB6BAg8EAI',\n",
       "     'serpapi_link': 'https://serpapi.com/search.json?device=desktop&engine=google&gl=us&google_domain=google.com&hl=en&q=Tesla%2C+Inc.&stick=H4sIAAAAAAAAAOOQUeLUz9U3SCmyNEgxEk7Nyc9TyC0tzlZIzs8tSMzLTC2Ocg3PSCxRKMnMTVUoSC3KzE9RSMlPLVZwBSn1BSlNAulKVyjJVwjPSM1TKE8sVsgsUUguSk0sSU1RyC9SSMovyjvFiLAHyjZOy64sP8XIq5-ub2iYVFVhUlSQlgPjp1TkmJXFp6XB5SuSzUzNysxOMXKD-EZGxZaG8aanGLnAJiVVZRun_2IURjgK7v4GFsZFrNwhqcU5iToKnnnJerfYJBlMP7YyzbVJ1FSXLX1eXOIjZDT3ZimDxb45AObvGmQPAQAA'},\n",
       "    {'name': 'SpaceX',\n",
       "     'image': 'https://encrypted-tbn0.gstatic.com/images?q=tbn:ANd9GcSIo3aiDFFoZpZi_M6nYPGGLqG3Sqt1j1Vz7PvS&s=0',\n",
       "     'link': 'https://www.google.com/search?gl=us&hl=en&q=SpaceX&stick=H4sIAAAAAAAAAOOQUeLUz9U3ME7Lriw3Ek7Nyc9TyC0tzlZIzs8tSMzLTC2Ocg3PSCxRKMnMTVUoSC3KzE9RSMlPLVZwBSn1BSlNAulKVyjJVwjPSM1TKE8sVsgsUUguSk0sSU1RyC9SSMovyjvFCLYnpcjSIAXKBtt5ipFXP13f0DCpqsKkqCAtB8ZPqcgxK4tPS4PLVySbmZqVmZ1i5AbxjYyKLQ3jTU8xcoFNSqrKNk7_xSiMcBTc_Q0sjItY2YILEpNTI26xSTKYfmxlmmuTqKkuW_q8uMRHyGjuzVIGi31zAA59V2gKAQAA&sa=X&ved=2ahUKEwiBnNuM2sX6AhXNTTABHUf3ACwQs9oBKAF6BAg8EAM',\n",
       "     'serpapi_link': 'https://serpapi.com/search.json?device=desktop&engine=google&gl=us&google_domain=google.com&hl=en&q=SpaceX&stick=H4sIAAAAAAAAAOOQUeLUz9U3ME7Lriw3Ek7Nyc9TyC0tzlZIzs8tSMzLTC2Ocg3PSCxRKMnMTVUoSC3KzE9RSMlPLVZwBSn1BSlNAulKVyjJVwjPSM1TKE8sVsgsUUguSk0sSU1RyC9SSMovyjvFCLYnpcjSIAXKBtt5ipFXP13f0DCpqsKkqCAtB8ZPqcgxK4tPS4PLVySbmZqVmZ1i5AbxjYyKLQ3jTU8xcoFNSqrKNk7_xSiMcBTc_Q0sjItY2YILEpNTI26xSTKYfmxlmmuTqKkuW_q8uMRHyGjuzVIGi31zAA59V2gKAQAA'},\n",
       "    {'name': 'Zip2',\n",
       "     'image': 'https://encrypted-tbn0.gstatic.com/images?q=tbn:ANd9GcSZL6WvTyK3qChYtfKmRhyt0hZ3pqfg1EwTGPH6&s=0',\n",
       "     'link': 'https://www.google.com/search?gl=us&hl=en&q=Zip2&stick=H4sIAAAAAAAAAOOQUeLVT9c3NEyqqjApKkjLMRJOzcnPU8gtLc5WSM7PLUjMy0wtjnINz0gsUSjJzE1VKEgtysxPUUjJTy1WcAUp9QUpTQLpSlcoyVcIz0jNUyhPLFbILFFILkpNLElNUcgvUkjKL8o7xcipn6tvkFJkaZACZRunZVeWn2JEdQOMn1KRY1YWn5YGl69INjM1KzM7xcgN4hsZFVsaxpueYuQCm5RUlW2c_otRGOEouPsbWBgXsbJEZRYY3WKTZDD92Mo01yZRU1229HlxiY-Q0dybpQwW--YAAFb0udsMAQAA&sa=X&ved=2ahUKEwiBnNuM2sX6AhXNTTABHUf3ACwQs9oBKAJ6BAg8EAQ',\n",
       "     'serpapi_link': 'https://serpapi.com/search.json?device=desktop&engine=google&gl=us&google_domain=google.com&hl=en&q=Zip2&stick=H4sIAAAAAAAAAOOQUeLVT9c3NEyqqjApKkjLMRJOzcnPU8gtLc5WSM7PLUjMy0wtjnINz0gsUSjJzE1VKEgtysxPUUjJTy1WcAUp9QUpTQLpSlcoyVcIz0jNUyhPLFbILFFILkpNLElNUcgvUkjKL8o7xcipn6tvkFJkaZACZRunZVeWn2JEdQOMn1KRY1YWn5YGl69INjM1KzM7xcgN4hsZFVsaxpueYuQCm5RUlW2c_otRGOEouPsbWBgXsbJEZRYY3WKTZDD92Mo01yZRU1229HlxiY-Q0dybpQwW--YAAFb0udsMAQAA'},\n",
       "    {'name': 'Neuralink',\n",
       "     'image': 'https://encrypted-tbn0.gstatic.com/images?q=tbn:ANd9GcSx3oNnti-cOB434rMgCvbipOMVkWhI6cDy_eXY&s=0',\n",
       "     'link': 'https://www.google.com/search?gl=us&hl=en&q=Neuralink&stick=H4sIAAAAAAAAAOOQUeLVT9c3NEypyDEri09LMxJOzcnPU8gtLc5WSM7PLUjMy0wtjnINz0gsUSjJzE1VKEgtysxPUUjJTy1WcAUp9QUpTQLpSlcoyVcIz0jNUyhPLFbILFFILkpNLElNUcgvUkjKL8o7xcipn6tvkFJkaZACZRunZVeWn2KEuCGpqsKkqCAtB8aHuQkuX5FsZmpWZnaKkRvENzIqtjSMNz3FyAU2Kakq2zj9F6MwwlFw9zewMC5i5fRLLS1KzMnMy77FJslg-rGVaa5Noqa6bOnz4hIfIaO5N0sZLPbNAQCSuXr2EQEAAA&sa=X&ved=2ahUKEwiBnNuM2sX6AhXNTTABHUf3ACwQs9oBKAN6BAg8EAU',\n",
       "     'serpapi_link': 'https://serpapi.com/search.json?device=desktop&engine=google&gl=us&google_domain=google.com&hl=en&q=Neuralink&stick=H4sIAAAAAAAAAOOQUeLVT9c3NEypyDEri09LMxJOzcnPU8gtLc5WSM7PLUjMy0wtjnINz0gsUSjJzE1VKEgtysxPUUjJTy1WcAUp9QUpTQLpSlcoyVcIz0jNUyhPLFbILFFILkpNLElNUcgvUkjKL8o7xcipn6tvkFJkaZACZRunZVeWn2KEuCGpqsKkqCAtB8aHuQkuX5FsZmpWZnaKkRvENzIqtjSMNz3FyAU2Kakq2zj9F6MwwlFw9zewMC5i5fRLLS1KzMnMy77FJslg-rGVaa5Noqa6bOnz4hIfIaO5N0sZLPbNAQCSuXr2EQEAAA'},\n",
       "    {'name': 'OpenAI',\n",
       "     'image': 'https://encrypted-tbn0.gstatic.com/images?q=tbn:ANd9GcS5vXoiqdLUgGR0Nn9BCaCca3Zws-HslAaqQfaD&s=0',\n",
       "     'link': 'https://www.google.com/search?gl=us&hl=en&q=OpenAI&stick=H4sIAAAAAAAAAOOQUeLVT9c3NEyqSDYzNSszMxJOzcnPU8gtLc5WSM7PLUjMy0wtjnINz0gsUSjJzE1VKEgtysxPUUjJTy1WcAUp9QUpTQLpSlcoyVcIz0jNUyhPLFbILFFILkpNLElNUcgvUkjKL8o7xcipn6tvkFJkaZACZRunZVeWn2KEuqGqwqSoIC0Hxk-pyDEri09Lg8tD3XiKkRvENzIqtjSMNz3FyAU2Kakq2zj9F6MwwlFw9zewMC5iZfMvSM1z9LzFJslg-rGVaa5Noqa6bOnz4hIfIaO5N0sZLPbNAQCGMkEODgEAAA&sa=X&ved=2ahUKEwiBnNuM2sX6AhXNTTABHUf3ACwQs9oBKAR6BAg8EAY',\n",
       "     'serpapi_link': 'https://serpapi.com/search.json?device=desktop&engine=google&gl=us&google_domain=google.com&hl=en&q=OpenAI&stick=H4sIAAAAAAAAAOOQUeLVT9c3NEyqSDYzNSszMxJOzcnPU8gtLc5WSM7PLUjMy0wtjnINz0gsUSjJzE1VKEgtysxPUUjJTy1WcAUp9QUpTQLpSlcoyVcIz0jNUyhPLFbILFFILkpNLElNUcgvUkjKL8o7xcipn6tvkFJkaZACZRunZVeWn2KEuqGqwqSoIC0Hxk-pyDEri09Lg8tD3XiKkRvENzIqtjSMNz3FyAU2Kakq2zj9F6MwwlFw9zewMC5iZfMvSM1z9LzFJslg-rGVaa5Noqa6bOnz4hIfIaO5N0sZLPbNAQCGMkEODgEAAA'},\n",
       "    {'name': 'PayPal',\n",
       "     'image': 'https://encrypted-tbn0.gstatic.com/images?q=tbn:ANd9GcQ56hX5dCjaxRC58mr9Xc1nTU5ZIY81XsXgswin&s=0',\n",
       "     'link': 'https://www.google.com/search?gl=us&hl=en&q=PayPal&stick=H4sIAAAAAAAAAOOQUeLWT9c3NDIqtjSMNzUSTs3Jz1PILS3OVkjOzy1IzMtMLY5yDc9ILFEoycxNVShILcrMT1FIyU8tVnAFKfUFKU0C6UpXKMlXCM9IzVMoTyxWyCxRSC5KTSxJTVHIL1JIyi_KO8XIqZ-rb5BSZGmQAmUbp2VXlp9i5AW5wDCpqsKkqCAtB8ZPqcgxK4tPS4PLVySbmZqVmZ1iRHbxKUYusElJVdnG6b8YhRGOgru_gYVxEStbQGJlQGLOLTZJBtOPrUxzbRI11WVLnxeX-AgZzb1ZymCxbw4AobjSvwwBAAA&sa=X&ved=2ahUKEwiBnNuM2sX6AhXNTTABHUf3ACwQs9oBKAV6BAg8EAc',\n",
       "     'serpapi_link': 'https://serpapi.com/search.json?device=desktop&engine=google&gl=us&google_domain=google.com&hl=en&q=PayPal&stick=H4sIAAAAAAAAAOOQUeLWT9c3NDIqtjSMNzUSTs3Jz1PILS3OVkjOzy1IzMtMLY5yDc9ILFEoycxNVShILcrMT1FIyU8tVnAFKfUFKU0C6UpXKMlXCM9IzVMoTyxWyCxRSC5KTSxJTVHIL1JIyi_KO8XIqZ-rb5BSZGmQAmUbp2VXlp9i5AW5wDCpqsKkqCAtB8ZPqcgxK4tPS4PLVySbmZqVmZ1iRHbxKUYusElJVdnG6b8YhRGOgru_gYVxEStbQGJlQGLOLTZJBtOPrUxzbRI11WVLnxeX-AgZzb1ZymCxbw4AobjSvwwBAAA'}],\n",
       "   'see_more_link': 'https://www.google.com/search?gl=us&hl=en&q=Elon+Musk+companies&stick=H4sIAAAAAAAAAOOQMRJOzcnPU8gtLc5WSM7PLUjMy0wtjnINz0gsUSjJzE1VKEgtysxPUUjJTy1WcAUp9QUpTQLpSlcoyVcIz0jNUyhPLFbILFFILkpNLElNUcgvUkjKL8o7xcipn6tvkFJkaZACZRunZVeWn2Lk1U_XNzRMqqowKSpIy4HxUypyzMri09Lg8hXJZqZmZWanGLlBfCOjYkvDeNNTjFxgk5Kqso3TfzEKIxwFd38DC-MiVmwSt9gkGUw_tjLNtUnUVJctfV5c4iNkNPdmKYPFvjkAF3veyAwBAAA&sa=X&ved=2ahUKEwiBnNuM2sX6AhXNTTABHUf3ACwQ4qYDegQIPBAI',\n",
       "   'see_more_serpapi_link': 'https://serpapi.com/search.json?device=desktop&engine=google&gl=us&google_domain=google.com&hl=en&q=Elon+Musk+companies&stick=H4sIAAAAAAAAAOOQMRJOzcnPU8gtLc5WSM7PLUjMy0wtjnINz0gsUSjJzE1VKEgtysxPUUjJTy1WcAUp9QUpTQLpSlcoyVcIz0jNUyhPLFbILFFILkpNLElNUcgvUkjKL8o7xcipn6tvkFJkaZACZRunZVeWn2Lk1U_XNzRMqqowKSpIy4HxUypyzMri09Lg8hXJZqZmZWanGLlBfCOjYkvDeNNTjFxgk5Kqso3TfzEKIxwFd38DC-MiVmwSt9gkGUw_tjLNtUnUVJctfV5c4iNkNPdmKYPFvjkAF3veyAwBAAA'},\n",
       "  {'title': 'Elon Musk family',\n",
       "   'items': [{'name': 'Talulah Riley',\n",
       "     'image': 'https://encrypted-tbn0.gstatic.com/images?q=tbn:ANd9GcRnIb9MxbARr-Z2jcYJufp5a3l6O8V4jFghOouHn8RH6KGgj7Qq4V4e&s=0',\n",
       "     'link': 'https://www.google.com/search?gl=us&hl=en&q=Talulah+Riley&stick=H4sIAAAAAAAAAOOQUeLUz9U3SKoozq4wEkjNyc9TyC0tzlZIS8zNzKmMcg3PSCxRKMnMTVUoSC3KzE9RSMlPLVZwBanzBalLAmlJVyjJVwjPSM1TKE8sVsgsUUguSk0sSU1RyC9SSMovyjvFiLDkFCMXiJ1eVlhuagDlFKZnGWUnQzkZeRaGFWanGHn10_UNDXPL4k3NCpOLoJKmGaYWBZZQjpFZQW6lOZIZxaZQTp5linFe2i9GAYRDIR5qYGFcxMobkphTmpOYoRCUmZNaeYtNksH0YytTchPbEfuE5AnllidirdYHv07sPZoCAB4cpesfAQAA&sa=X&ved=2ahUKEwiBnNuM2sX6AhXNTTABHUf3ACwQs9oBKAB6BAg_EAI',\n",
       "     'serpapi_link': 'https://serpapi.com/search.json?device=desktop&engine=google&gl=us&google_domain=google.com&hl=en&q=Talulah+Riley&stick=H4sIAAAAAAAAAOOQUeLUz9U3SKoozq4wEkjNyc9TyC0tzlZIS8zNzKmMcg3PSCxRKMnMTVUoSC3KzE9RSMlPLVZwBanzBalLAmlJVyjJVwjPSM1TKE8sVsgsUUguSk0sSU1RyC9SSMovyjvFiLDkFCMXiJ1eVlhuagDlFKZnGWUnQzkZeRaGFWanGHn10_UNDXPL4k3NCpOLoJKmGaYWBZZQjpFZQW6lOZIZxaZQTp5linFe2i9GAYRDIR5qYGFcxMobkphTmpOYoRCUmZNaeYtNksH0YytTchPbEfuE5AnllidirdYHv07sPZoCAB4cpesfAQAA'},\n",
       "    {'name': 'Grimes',\n",
       "     'image': 'https://encrypted-tbn0.gstatic.com/images?q=tbn:ANd9GcS0kYMlcAWyta2tighdNQ3b6EMg4OIVRUTGwWQZPOD3lRlgqIgA9vme&s=0',\n",
       "     'link': 'https://www.google.com/search?gl=us&hl=en&q=Grimes&stick=H4sIAAAAAAAAAOOQUeLSz9U3SC8rLDc1MBJIzcnPU8gtLc5WSEvMzcypjHINz0gsUSjJzE1VKEgtysxPUUjJTy1WcAWp8wWpSwJpSVcoyVcIz0jNUyhPLFbILFFILkpNLElNUcgvUkjKL8o7xcgJsiWpoji74hQjko1QTmF6llF2MpSTkWdhWGF2ipFXP13f0DC3LN7UrDC5CCppmmFqUWAJ5RiZFeRWmiOZUWwK5eRZphjnpf1iFEA4FOKhBhbGRaxs7kVADxXfYpNkMP3YypTcxHbEPiF5QrnliVir9cGvE3uPpgAASDekfxkBAAA&sa=X&ved=2ahUKEwiBnNuM2sX6AhXNTTABHUf3ACwQs9oBKAF6BAg_EAM',\n",
       "     'serpapi_link': 'https://serpapi.com/search.json?device=desktop&engine=google&gl=us&google_domain=google.com&hl=en&q=Grimes&stick=H4sIAAAAAAAAAOOQUeLSz9U3SC8rLDc1MBJIzcnPU8gtLc5WSEvMzcypjHINz0gsUSjJzE1VKEgtysxPUUjJTy1WcAWp8wWpSwJpSVcoyVcIz0jNUyhPLFbILFFILkpNLElNUcgvUkjKL8o7xcgJsiWpoji74hQjko1QTmF6llF2MpSTkWdhWGF2ipFXP13f0DC3LN7UrDC5CCppmmFqUWAJ5RiZFeRWmiOZUWwK5eRZphjnpf1iFEA4FOKhBhbGRaxs7kVADxXfYpNkMP3YypTcxHbEPiF5QrnliVir9cGvE3uPpgAASDekfxkBAAA'},\n",
       "    {'name': 'Maye Musk',\n",
       "     'image': 'https://encrypted-tbn0.gstatic.com/images?q=tbn:ANd9GcQAgyohV9cSDjBctZQs8wuPHzS6X-TSbG7UooNZYmKr6tAQdx0gsaVC&s=0',\n",
       "     'link': 'https://www.google.com/search?gl=us&hl=en&q=Maye+Musk&stick=H4sIAAAAAAAAAOOQUeLSz9U3KEzPMspONhJIzcnPU8gtLc5WSEvMzcypjHINz0gsUSjJzE1VKEgtysxPUUjJTy1WcAWp8wWpSwJpSVcoyVcIz0jNUyhPLFbILFFILkpNLElNUcgvUkjKL8o7xcgJsiWpoji74hQj2Mb0ssJyUwMoB2I9lJORZ2FYYXaKkVc_Xd_QMLcs3tSsMLkIKmmaYWpRYAnlGJkV5FaaI5lRbArl5FmmGOel_WIUQDgU4qEGFsZFrJy-iZWpYNFbbJIMph9bmZKb2I7YJyRPKLc8EWu1Pvh1Yu_RFAAAY7HTHAEAAA&sa=X&ved=2ahUKEwiBnNuM2sX6AhXNTTABHUf3ACwQs9oBKAJ6BAg_EAQ',\n",
       "     'serpapi_link': 'https://serpapi.com/search.json?device=desktop&engine=google&gl=us&google_domain=google.com&hl=en&q=Maye+Musk&stick=H4sIAAAAAAAAAOOQUeLSz9U3KEzPMspONhJIzcnPU8gtLc5WSEvMzcypjHINz0gsUSjJzE1VKEgtysxPUUjJTy1WcAWp8wWpSwJpSVcoyVcIz0jNUyhPLFbILFFILkpNLElNUcgvUkjKL8o7xcgJsiWpoji74hQj2Mb0ssJyUwMoB2I9lJORZ2FYYXaKkVc_Xd_QMLcs3tSsMLkIKmmaYWpRYAnlGJkV5FaaI5lRbArl5FmmGOel_WIUQDgU4qEGFsZFrJy-iZWpYNFbbJIMph9bmZKb2I7YJyRPKLc8EWu1Pvh1Yu_RFAAAY7HTHAEAAA'},\n",
       "    {'name': 'Tosca Musk',\n",
       "     'image': 'https://encrypted-tbn0.gstatic.com/images?q=tbn:ANd9GcQU2cdBE_rbZ7aMvq8kF6-uoDaJ-zdhvbQ8xB_50rBcqoA62XibZgnW&s=0',\n",
       "     'link': 'https://www.google.com/search?gl=us&hl=en&q=Tosca+Musk&stick=H4sIAAAAAAAAAOOQUeLSz9U3yMizMKwwMxJIzcnPU8gtLc5WSEvMzcypjHINz0gsUSjJzE1VKEgtysxPUUjJTy1WcAWp8wWpSwJpSVcoyVcIz0jNUyhPLFbILFFILkpNLElNUcgvUkjKL8o7xcgJsiWpoji74hQj2Mb0ssJyUwMopzA9yyg7GcqBuOUUI69-ur6hYW5ZvKlZYXIRVNI0w9SiwBLKMTIryK00RzKj2BTKybNMMc5L-8UogHAoxEMNLIyLWLlC8ouTE8HCt9gkGUw_tjIlN7EdsU9InlBueSLWan3w68TeoykA6efosx0BAAA&sa=X&ved=2ahUKEwiBnNuM2sX6AhXNTTABHUf3ACwQs9oBKAN6BAg_EAU',\n",
       "     'serpapi_link': 'https://serpapi.com/search.json?device=desktop&engine=google&gl=us&google_domain=google.com&hl=en&q=Tosca+Musk&stick=H4sIAAAAAAAAAOOQUeLSz9U3yMizMKwwMxJIzcnPU8gtLc5WSEvMzcypjHINz0gsUSjJzE1VKEgtysxPUUjJTy1WcAWp8wWpSwJpSVcoyVcIz0jNUyhPLFbILFFILkpNLElNUcgvUkjKL8o7xcgJsiWpoji74hQj2Mb0ssJyUwMopzA9yyg7GcqBuOUUI69-ur6hYW5ZvKlZYXIRVNI0w9SiwBLKMTIryK00RzKj2BTKybNMMc5L-8UogHAoxEMNLIyLWLlC8ouTE8HCt9gkGUw_tjIlN7EdsU9InlBueSLWan3w68TeoykA6efosx0BAAA'},\n",
       "    {'name': 'Joshua Haldeman',\n",
       "     'image': 'https://encrypted-tbn0.gstatic.com/images?q=tbn:ANd9GcSW8j5DAOdJFMxD_fHqeyPltORZ2BzF7TPX67Xv&s=0',\n",
       "     'link': 'https://www.google.com/search?gl=us&hl=en&q=Joshua+Haldeman&stick=H4sIAAAAAAAAAOOQUeLVT9c3NMwtizc1K0wuMhJIzcnPU8gtLc5WSEvMzcypjHINz0gsUSjJzE1VKEgtysxPUUjJTy1WcAWp8wWpSwJpSVcoyVcIz0jNUyhPLFbILFFILkpNLElNUcgvUkjKL8o7xcipn6tvkFRRnF1xipELxE4vKyw3NYByCtOzjLKToZyMPAvDCrNTjKhug0qaZphaFFhCOUZmBbmV5khmFJtCOXmWKcZ5ab8YBRAOhXiogYVxESu_V35xRmmigkdiTkpqbmLeLTZJBtOPrUzJTWxH7BOSJ5Rbnoi1Wh_8OrH3aAoAiMfm1SUBAAA&sa=X&ved=2ahUKEwiBnNuM2sX6AhXNTTABHUf3ACwQs9oBKAR6BAg_EAY',\n",
       "     'serpapi_link': 'https://serpapi.com/search.json?device=desktop&engine=google&gl=us&google_domain=google.com&hl=en&q=Joshua+Haldeman&stick=H4sIAAAAAAAAAOOQUeLVT9c3NMwtizc1K0wuMhJIzcnPU8gtLc5WSEvMzcypjHINz0gsUSjJzE1VKEgtysxPUUjJTy1WcAWp8wWpSwJpSVcoyVcIz0jNUyhPLFbILFFILkpNLElNUcgvUkjKL8o7xcipn6tvkFRRnF1xipELxE4vKyw3NYByCtOzjLKToZyMPAvDCrNTjKhug0qaZphaFFhCOUZmBbmV5khmFJtCOXmWKcZ5ab8YBRAOhXiogYVxESu_V35xRmmigkdiTkpqbmLeLTZJBtOPrUzJTWxH7BOSJ5Rbnoi1Wh_8OrH3aAoAiMfm1SUBAAA'},\n",
       "    {'name': 'Kimbal Musk',\n",
       "     'image': 'https://encrypted-tbn0.gstatic.com/images?q=tbn:ANd9GcRKKUikrvfqVDGL-x5SujHRr7EGvjR_xpXteRT41SeR-CzNtwj4N3on&s=0',\n",
       "     'link': 'https://www.google.com/search?gl=us&hl=en&q=Kimbal+Musk&stick=H4sIAAAAAAAAAOOQUeLSz9U3MM0wtSiwNBJIzcnPU8gtLc5WSEvMzcypjHINz0gsUSjJzE1VKEgtysxPUUjJTy1WcAWp8wWpSwJpSVcoyVcIz0jNUyhPLFbILFFILkpNLElNUcgvUkjKL8o7xcgJsiWpoji74hQj2Mb0ssJyUwMopzA9yyg7GcrJyLMwrDA7xcirn65vaJhbFm9qVphcBJWEOBTKMTIryK00RzKj2BTKybNMMc5L-8UogHAoxEMNLIyLWLm9M3OTEnPA4rfYJBlMP7YyJTexHbFPSJ5Qbnki1mp98OvE3qMpABrqZp0eAQAA&sa=X&ved=2ahUKEwiBnNuM2sX6AhXNTTABHUf3ACwQs9oBKAV6BAg_EAc',\n",
       "     'serpapi_link': 'https://serpapi.com/search.json?device=desktop&engine=google&gl=us&google_domain=google.com&hl=en&q=Kimbal+Musk&stick=H4sIAAAAAAAAAOOQUeLSz9U3MM0wtSiwNBJIzcnPU8gtLc5WSEvMzcypjHINz0gsUSjJzE1VKEgtysxPUUjJTy1WcAWp8wWpSwJpSVcoyVcIz0jNUyhPLFbILFFILkpNLElNUcgvUkjKL8o7xcgJsiWpoji74hQj2Mb0ssJyUwMopzA9yyg7GcrJyLMwrDA7xcirn65vaJhbFm9qVphcBJWEOBTKMTIryK00RzKj2BTKybNMMc5L-8UogHAoxEMNLIyLWLm9M3OTEnPA4rfYJBlMP7YyJTexHbFPSJ5Qbnki1mp98OvE3qMpABrqZp0eAQAA'}],\n",
       "   'see_more_link': 'https://www.google.com/search?gl=us&hl=en&q=Elon+Musk+family&stick=H4sIAAAAAAAAAOOQMRJIzcnPU8gtLc5WSEvMzcypjHINz0gsUSjJzE1VKEgtysxPUUjJTy1WcAWp8wWpSwJpSVcoyVcIz0jNUyhPLFbILFFILkpNLElNUcgvUkjKL8o7xcipn6tvkFRRnF1xipELxE4vKyw3NYByCtOzjLKToZyMPAvDCrNTjLz66fqGhrll8aZmhclFUEnTDFOLAksox8isILfSHMmMYlMoJ88yxTgv7RejAMKhEA81sDAuYsUQvcUmyWD6sZUpuYntiH1C8oRyyxOxVuuDXyf2Hk0BAC9tzGgXAQAA&sa=X&ved=2ahUKEwiBnNuM2sX6AhXNTTABHUf3ACwQ4qYDegQIPxAI',\n",
       "   'see_more_serpapi_link': 'https://serpapi.com/search.json?device=desktop&engine=google&gl=us&google_domain=google.com&hl=en&q=Elon+Musk+family&stick=H4sIAAAAAAAAAOOQMRJIzcnPU8gtLc5WSEvMzcypjHINz0gsUSjJzE1VKEgtysxPUUjJTy1WcAWp8wWpSwJpSVcoyVcIz0jNUyhPLFbILFFILkpNLElNUcgvUkjKL8o7xcipn6tvkFRRnF1xipELxE4vKyw3NYByCtOzjLKToZyMPAvDCrNTjLz66fqGhrll8aZmhclFUEnTDFOLAksox8isILfSHMmMYlMoJ88yxTgv7RejAMKhEA81sDAuYsUQvcUmyWD6sZUpuYntiH1C8oRyyxOxVuuDXyf2Hk0BAC9tzGgXAQAA'},\n",
       "  {'title': 'Where did Elon Musk go to college',\n",
       "   'items': [{'name': \"Queen's University\",\n",
       "     'image': 'https://encrypted-tbn0.gstatic.com/images?q=tbn:ANd9GcSRP3qozGQzsHfMDx3egcIcIBo2rCSFGM3j9eCf&s=0',\n",
       "     'link': 'https://www.google.com/search?gl=us&hl=en&q=Queen%27s+University&stick=H4sIAAAAAAAAAOOQUeLQz9U3MEsytDRSLM9ILUpVSMlMUUjNyc9TyC0tzlZIz1coyVdIzs_JSU1PjXINz0gsUSjJzE1VKEgtysxPUUjJTy1WcAUp9wUpTwLpTAdpCc9IzVMoTyxWyCxRSC5KTSxJTVHIL1JIyi_KO8UItxTKNC9JKYaJFpQXnmLkBDGNkk3Syn8xKobD3YWwCMVdDSyMi1iFAktTU_PUixVC8zLLUouKM0sqb7FJMph-bGV6Oj_Ibce7GbkcwmVuNrqPH92etkcKADoKEuP7AAAA&sa=X&ved=2ahUKEwiBnNuM2sX6AhXNTTABHUf3ACwQs9oBKAB6BAhAEAI',\n",
       "     'serpapi_link': 'https://serpapi.com/search.json?device=desktop&engine=google&gl=us&google_domain=google.com&hl=en&q=Queen%27s+University&stick=H4sIAAAAAAAAAOOQUeLQz9U3MEsytDRSLM9ILUpVSMlMUUjNyc9TyC0tzlZIz1coyVdIzs_JSU1PjXINz0gsUSjJzE1VKEgtysxPUUjJTy1WcAUp9wUpTwLpTAdpCc9IzVMoTyxWyCxRSC5KTSxJTVHIL1JIyi_KO8UItxTKNC9JKYaJFpQXnmLkBDGNkk3Syn8xKobD3YWwCMVdDSyMi1iFAktTU_PUixVC8zLLUouKM0sqb7FJMph-bGV6Oj_Ibce7GbkcwmVuNrqPH92etkcKADoKEuP7AAAA'},\n",
       "    {'name': 'University of Pennsylva...',\n",
       "     'image': 'https://encrypted-tbn0.gstatic.com/images?q=tbn:ANd9GcT-AwXz27IT3ClOPiGGnvbTaRBZRJGcLLkN13hu&s=0',\n",
       "     'link': 'https://www.google.com/search?gl=us&hl=en&q=University+of+Pennsylvania&stick=H4sIAAAAAAAAAOOQUeLQz9U3MC9JKTZSLM9ILUpVSMlMUUjNyc9TyC0tzlZIz1coyVdIzs_JSU1PjXINz0gsUSjJzE1VKEgtysxPUUjJTy1WcAUp9wUpTwLpTAdpCc9IzVMoTyxWyCxRSC5KTSxJTVHIL1JIyi_KO8UIttQsydASygTZDxMtKC88xcgJYholm6SV_2JUDIe7C2ERirsaWBgXsUqF5mWWpRYVZ5ZUKuSnKQSk5uUVV-aUJeZlJt5ik2Qw_djK9HR-kNuOdzNyOYTL3Gx0Hz-6PW2PFABdt2tLAwEAAA&sa=X&ved=2ahUKEwiBnNuM2sX6AhXNTTABHUf3ACwQs9oBKAF6BAhAEAM',\n",
       "     'serpapi_link': 'https://serpapi.com/search.json?device=desktop&engine=google&gl=us&google_domain=google.com&hl=en&q=University+of+Pennsylvania&stick=H4sIAAAAAAAAAOOQUeLQz9U3MC9JKTZSLM9ILUpVSMlMUUjNyc9TyC0tzlZIz1coyVdIzs_JSU1PjXINz0gsUSjJzE1VKEgtysxPUUjJTy1WcAUp9wUpTwLpTAdpCc9IzVMoTyxWyCxRSC5KTSxJTVHIL1JIyi_KO8UIttQsydASygTZDxMtKC88xcgJYholm6SV_2JUDIe7C2ERirsaWBgXsUqF5mWWpRYVZ5ZUKuSnKQSk5uUVV-aUJeZlJt5ik2Qw_djK9HR-kNuOdzNyOYTL3Gx0Hz-6PW2PFABdt2tLAwEAAA'},\n",
       "    {'name': 'Stanford University',\n",
       "     'image': 'https://encrypted-tbn0.gstatic.com/images?q=tbn:ANd9GcRDHdyCc-EAp6ko65gpSYdnXwdLEHdyQYQKvR7U&s=0',\n",
       "     'link': 'https://www.google.com/search?gl=us&hl=en&q=Stanford+University&stick=H4sIAAAAAAAAAOOQUeLQz9U3MCsoLzRSLM9ILUpVSMlMUUjNyc9TyC0tzlZIz1coyVdIzs_JSU1PjXINz0gsUSjJzE1VKEgtysxPUUjJTy1WcAUp9wUpTwLpTAdpCc9IzVMoTyxWyCxRSC5KTSxJTVHIL1JIyi_KO8UIsTTJ0BLKNC9JKYaJAp1yipETxDRKNkkr_8WoGA53F8IiFHc1sDAuYhUOLknMS8svSlEIzcssSy0qziypvMUmyWD6sZXp6fwgtx3vZuRyCJe52eg-fnR72h4pAHIx7gv8AAAA&sa=X&ved=2ahUKEwiBnNuM2sX6AhXNTTABHUf3ACwQs9oBKAJ6BAhAEAQ',\n",
       "     'serpapi_link': 'https://serpapi.com/search.json?device=desktop&engine=google&gl=us&google_domain=google.com&hl=en&q=Stanford+University&stick=H4sIAAAAAAAAAOOQUeLQz9U3MCsoLzRSLM9ILUpVSMlMUUjNyc9TyC0tzlZIz1coyVdIzs_JSU1PjXINz0gsUSjJzE1VKEgtysxPUUjJTy1WcAUp9wUpTwLpTAdpCc9IzVMoTyxWyCxRSC5KTSxJTVHIL1JIyi_KO8UIsTTJ0BLKNC9JKYaJAp1yipETxDRKNkkr_8WoGA53F8IiFHc1sDAuYhUOLknMS8svSlEIzcssSy0qziypvMUmyWD6sZXp6fwgtx3vZuRyCJe52eg-fnR72h4pAHIx7gv8AAAA'},\n",
       "    {'name': 'University of Pretoria',\n",
       "     'image': 'https://encrypted-tbn0.gstatic.com/images?q=tbn:ANd9GcQPzQYCmLJ4vrEt-R_UfsphKGYLyru0l3-Q_Yw_&s=0',\n",
       "     'link': 'https://www.google.com/search?gl=us&hl=en&q=University+of+Pretoria&stick=H4sIAAAAAAAAAOOQUeLUz9U3MEo2SSs3UizPSC1KVUjJTFFIzcnPU8gtLc5WSM9XKMlXSM7PyUlNT41yDc9ILFEoycxNVShILcrMT1FIyU8tVnAFKfcFKU8C6UwHaQnPSM1TKE8sVsgsUUguSk0sSU1RyC9SSMovyjvFyAGy1SzJ0BLKNC9JKYaJFpQXnmJEOOsXo2I43F0Ii1Dc1cDCuIhVLDQvsyy1qDizpFIhP00hoCi1JL8oM_EWmySD6cdWpqfzg9x2vJuRyyFc5maj-_jR7Wl7pAC6BrZ6AAEAAA&sa=X&ved=2ahUKEwiBnNuM2sX6AhXNTTABHUf3ACwQs9oBKAN6BAhAEAU',\n",
       "     'serpapi_link': 'https://serpapi.com/search.json?device=desktop&engine=google&gl=us&google_domain=google.com&hl=en&q=University+of+Pretoria&stick=H4sIAAAAAAAAAOOQUeLUz9U3MEo2SSs3UizPSC1KVUjJTFFIzcnPU8gtLc5WSM9XKMlXSM7PyUlNT41yDc9ILFEoycxNVShILcrMT1FIyU8tVnAFKfcFKU8C6UwHaQnPSM1TKE8sVsgsUUguSk0sSU1RyC9SSMovyjvFyAGy1SzJ0BLKNC9JKYaJFpQXnmJEOOsXo2I43F0Ii1Dc1cDCuIhVLDQvsyy1qDizpFIhP00hoCi1JL8oM_EWmySD6cdWpqfzg9x2vJuRyyFc5maj-_jR7Wl7pAC6BrZ6AAEAAA'}],\n",
       "   'see_more_link': 'https://www.google.com/search?gl=us&hl=en&q=Where+did+Elon+Musk+go+to+college&stick=H4sIAAAAAAAAAOOQMVIsz0gtSlVIyUxRSM3Jz1PILS3OVkjPVyjJV0jOz8lJTU-Ncg3PSCxRKMnMTVUoSC3KzE9RSMlPLVZwBSn3BSlPAulMB2kJz0jNUyhPLFbILFFILkpNLElNUcgvUkjKL8o7xcihn6tvYJZkaAllmpekFMNEC8oLTzFygphGySZp5b8YFcPh7kJYhOKuBhbGRayEld1ik2Qw_djK9HR-kNuOdzNyOYTL3Gx0Hz-6PW2PFAAXewC9AAEAAA&sa=X&ved=2ahUKEwiBnNuM2sX6AhXNTTABHUf3ACwQ4qYDegQIQBAG',\n",
       "   'see_more_serpapi_link': 'https://serpapi.com/search.json?device=desktop&engine=google&gl=us&google_domain=google.com&hl=en&q=Where+did+Elon+Musk+go+to+college&stick=H4sIAAAAAAAAAOOQMVIsz0gtSlVIyUxRSM3Jz1PILS3OVkjPVyjJV0jOz8lJTU-Ncg3PSCxRKMnMTVUoSC3KzE9RSMlPLVZwBSn3BSlPAulMB2kJz0jNUyhPLFbILFFILkpNLElNUcgvUkjKL8o7xcihn6tvYJZkaAllmpekFMNEC8oLTzFygphGySZp5b8YFcPh7kJYhOKuBhbGRayEld1ik2Qw_djK9HR-kNuOdzNyOYTL3Gx0Hz-6PW2PFAAXewC9AAEAAA'}],\n",
       " 'related_questions': [{'question': 'When was Elon Musk created?',\n",
       "   'title': 'The startup was acquired by Compaq for $307 million in 1999. The same year, Musk co-founded online bank X.com, which merged with Confinity in 2000 to form PayPal. eBay bought PayPal in 2002, for $1.5 billion....Elon Musk.',\n",
       "   'link': 'https://en.wikipedia.org/wiki/Elon_Musk',\n",
       "   'displayed_link': 'https://en.wikipedia.org › wiki › Elon_Musk',\n",
       "   'next_page_token': 'eyJvbnMiOiI2MjAiLCJmYyI6IkVxRUJDbUpCUVhSV2JHSkNURnBNU0haaWMwbEdNbTFQVGtwdE5rUmpPVjh0T0RONGFIQXdhekkwWW1oaGNVOW9NMkZqVWpselprazBiMjUzTjBOa2NuZGpVbXg1UW1kWmJFTXdYMHd3VTNSYWRYVm1VblZEUW5scmVYUTFWamxqVkZCTGJuTnNaeElYUkV4Sk4xazBTRzFRVFRKaWQySnJVSGd0TmtRMFFVa2FJa0ZFVlhsRlIyWllOVWxpVmxCblNsUk9SRXBsVTNGMU5tNXRPR1kwWjJrMlRYYyIsImZjdiI6IjMiLCJlaSI6IkRMSTdZNEhtUE0yYndia1B4LTZENEFJIiwicWMiOiJjeFhHdVEyQU1CQUVRRVJJUkFuYkNSR0YySGlGTFQtSHpvY2NVVEZOSUNhYVpSX1JHU3hWNHFJbUNRakNEaFpwcUhmUDhIOVBtR0JFTmd6WGtReUgwaGtEUk9GRjJ6bzliNTYzRHciLCJxdWVzdGlvbiI6IldoZW4gd2FzIEVsb24gTXVzayBjcmVhdGVkPyIsImxrIjoiR2hwM2FHVnVJSGRoY3lCbGJHOXVJRzExYzJzZ1kzSmxZWFJsWkEiLCJicyI6ImMtTlM0SklPejBqTlV5aFBMRlp3emNuUFVfQXRMYzVXU0M1S1RTeEpUYkdYMkozSkJWS0JJcG1VWDVTbmtGLWtrSnVZa21vdjhTU2ZTNU5MSlR3anNRVFZEUFZpaGJUTW91SVNpRm1aLVhuMkVoUGN1VlM1Rk1CS000c1ZTakpTZ2Faa3BtY0NEVXRENkxPWGVPd3B3QWdBIn0=',\n",
       "   'serpapi_link': 'https://serpapi.com/search.json?device=desktop&engine=google_related_questions&google_domain=google.com&next_page_token=eyJvbnMiOiI2MjAiLCJmYyI6IkVxRUJDbUpCUVhSV2JHSkNURnBNU0haaWMwbEdNbTFQVGtwdE5rUmpPVjh0T0RONGFIQXdhekkwWW1oaGNVOW9NMkZqVWpselprazBiMjUzTjBOa2NuZGpVbXg1UW1kWmJFTXdYMHd3VTNSYWRYVm1VblZEUW5scmVYUTFWamxqVkZCTGJuTnNaeElYUkV4Sk4xazBTRzFRVFRKaWQySnJVSGd0TmtRMFFVa2FJa0ZFVlhsRlIyWllOVWxpVmxCblNsUk9SRXBsVTNGMU5tNXRPR1kwWjJrMlRYYyIsImZjdiI6IjMiLCJlaSI6IkRMSTdZNEhtUE0yYndia1B4LTZENEFJIiwicWMiOiJjeFhHdVEyQU1CQUVRRVJJUkFuYkNSR0YySGlGTFQtSHpvY2NVVEZOSUNhYVpSX1JHU3hWNHFJbUNRakNEaFpwcUhmUDhIOVBtR0JFTmd6WGtReUgwaGtEUk9GRjJ6bzliNTYzRHciLCJxdWVzdGlvbiI6IldoZW4gd2FzIEVsb24gTXVzayBjcmVhdGVkPyIsImxrIjoiR2hwM2FHVnVJSGRoY3lCbGJHOXVJRzExYzJzZ1kzSmxZWFJsWkEiLCJicyI6ImMtTlM0SklPejBqTlV5aFBMRlp3emNuUFVfQXRMYzVXU0M1S1RTeEpUYkdYMkozSkJWS0JJcG1VWDVTbmtGLWtrSnVZa21vdjhTU2ZTNU5MSlR3anNRVFZEUFZpaGJUTW91SVNpRm1aLVhuMkVoUGN1VlM1Rk1CS000c1ZTakpTZ2Faa3BtY0NEVXRENkxPWGVPd3B3QWdBIn0%3D'},\n",
       "  {'question': 'Was Elon Musk born or made?',\n",
       "   'snippet': 'Elon Musk, (born June 28, 1971, Pretoria, South Africa), South African-born American entrepreneur who cofounded the electronic-payment firm PayPal and formed SpaceX, maker of launch vehicles and spacecraft.Aug 19, 2022',\n",
       "   'title': 'Elon Musk | Biography, SpaceX, Tesla, Twitter, & Facts',\n",
       "   'link': 'https://www.britannica.com/biography/Elon-Musk',\n",
       "   'displayed_link': 'https://www.britannica.com › biography › Elon-Musk',\n",
       "   'next_page_token': 'eyJvbnMiOiI2MjAiLCJmYyI6IkVxRUJDbUpCUVhSV2JHSkNURnBNU0haaWMwbEdNbTFQVGtwdE5rUmpPVjh0T0RONGFIQXdhekkwWW1oaGNVOW9NMkZqVWpselprazBiMjUzTjBOa2NuZGpVbXg1UW1kWmJFTXdYMHd3VTNSYWRYVm1VblZEUW5scmVYUTFWamxqVkZCTGJuTnNaeElYUkV4Sk4xazBTRzFRVFRKaWQySnJVSGd0TmtRMFFVa2FJa0ZFVlhsRlIyWllOVWxpVmxCblNsUk9SRXBsVTNGMU5tNXRPR1kwWjJrMlRYYyIsImZjdiI6IjMiLCJlaSI6IkRMSTdZNEhtUE0yYndia1B4LTZENEFJIiwicWMiOiJjeFhHdVEyQU1CQUVRRVJJUkFuYkNSR0YySGlGTFQtSHpvY2NVVEZOSUNhYVpSX1JHU3hWNHFJbUNRakNEaFpwcUhmUDhIOVBtR0JFTmd6WGtReUgwaGtEUk9GRjJ6bzliNTYzRHciLCJxdWVzdGlvbiI6IldhcyBFbG9uIE11c2sgYm9ybiBvciBtYWRlPyIsImxrIjoiR2hwM1lYTWdaV3h2YmlCdGRYTnJJR0p2Y200Z2IzSWdiV0ZrWlEiLCJicyI6ImMtTlM0SklPejBqTlV5aFBMRlp3emNuUFVfQXRMYzVXU0M1S1RTeEpUYkdYMkozSkJWS0JJcG1VWDVTbmtGLWtrSnVZa21vdjhTU2ZTNU5MSlR3anNRVFZEUFZpaGJUTW91SVNpRm1aLVhuMkVoUGN1VlM1Rk1CS000c1ZTakpTZ2Faa3BtY0NEVXRENkxPWGVPd3B3QWdBIn0=',\n",
       "   'serpapi_link': 'https://serpapi.com/search.json?device=desktop&engine=google_related_questions&google_domain=google.com&next_page_token=eyJvbnMiOiI2MjAiLCJmYyI6IkVxRUJDbUpCUVhSV2JHSkNURnBNU0haaWMwbEdNbTFQVGtwdE5rUmpPVjh0T0RONGFIQXdhekkwWW1oaGNVOW9NMkZqVWpselprazBiMjUzTjBOa2NuZGpVbXg1UW1kWmJFTXdYMHd3VTNSYWRYVm1VblZEUW5scmVYUTFWamxqVkZCTGJuTnNaeElYUkV4Sk4xazBTRzFRVFRKaWQySnJVSGd0TmtRMFFVa2FJa0ZFVlhsRlIyWllOVWxpVmxCblNsUk9SRXBsVTNGMU5tNXRPR1kwWjJrMlRYYyIsImZjdiI6IjMiLCJlaSI6IkRMSTdZNEhtUE0yYndia1B4LTZENEFJIiwicWMiOiJjeFhHdVEyQU1CQUVRRVJJUkFuYkNSR0YySGlGTFQtSHpvY2NVVEZOSUNhYVpSX1JHU3hWNHFJbUNRakNEaFpwcUhmUDhIOVBtR0JFTmd6WGtReUgwaGtEUk9GRjJ6bzliNTYzRHciLCJxdWVzdGlvbiI6IldhcyBFbG9uIE11c2sgYm9ybiBvciBtYWRlPyIsImxrIjoiR2hwM1lYTWdaV3h2YmlCdGRYTnJJR0p2Y200Z2IzSWdiV0ZrWlEiLCJicyI6ImMtTlM0SklPejBqTlV5aFBMRlp3emNuUFVfQXRMYzVXU0M1S1RTeEpUYkdYMkozSkJWS0JJcG1VWDVTbmtGLWtrSnVZa21vdjhTU2ZTNU5MSlR3anNRVFZEUFZpaGJUTW91SVNpRm1aLVhuMkVoUGN1VlM1Rk1CS000c1ZTakpTZ2Faa3BtY0NEVXRENkxPWGVPd3B3QWdBIn0%3D'},\n",
       "  {'question': \"What was Elon Musk's first creation?\",\n",
       "   'snippet': \"Zip2 was Elon Musk 's first company and it sold for $307 million in 1999.Jun 16, 2022\",\n",
       "   'title': \"The Story of Elon Musk's First Company - Site Builder Report\",\n",
       "   'link': 'https://www.sitebuilderreport.com/origin-stories/elon-musk',\n",
       "   'displayed_link': 'https://www.sitebuilderreport.com › elon-musk',\n",
       "   'next_page_token': 'eyJvbnMiOiI2MjAiLCJmYyI6IkVxRUJDbUpCUVhSV2JHSkNURnBNU0haaWMwbEdNbTFQVGtwdE5rUmpPVjh0T0RONGFIQXdhekkwWW1oaGNVOW9NMkZqVWpselprazBiMjUzTjBOa2NuZGpVbXg1UW1kWmJFTXdYMHd3VTNSYWRYVm1VblZEUW5scmVYUTFWamxqVkZCTGJuTnNaeElYUkV4Sk4xazBTRzFRVFRKaWQySnJVSGd0TmtRMFFVa2FJa0ZFVlhsRlIyWllOVWxpVmxCblNsUk9SRXBsVTNGMU5tNXRPR1kwWjJrMlRYYyIsImZjdiI6IjMiLCJlaSI6IkRMSTdZNEhtUE0yYndia1B4LTZENEFJIiwicWMiOiJjeFhHdVEyQU1CQUVRRVJJUkFuYkNSR0YySGlGTFQtSHpvY2NVVEZOSUNhYVpSX1JHU3hWNHFJbUNRakNEaFpwcUhmUDhIOVBtR0JFTmd6WGtReUgwaGtEUk9GRjJ6bzliNTYzRHciLCJxdWVzdGlvbiI6IldoYXQgd2FzIEVsb24gTXVzaydzIGZpcnN0IGNyZWF0aW9uPyIsImxrIjoiR2lOM2FHRjBJSGRoY3lCbGJHOXVJRzExYzJzbmN5Qm1hWEp6ZENCamNtVmhkR2x2YmciLCJicyI6ImMtTlM0SklPejBqTlV5aFBMRlp3emNuUFVfQXRMYzVXU0M1S1RTeEpUYkdYMkozSkJWS0JJcG1VWDVTbmtGLWtrSnVZa21vdjhTU2ZTNU5MSlR3anNRVFZEUFZpaGJUTW91SVNpRm1aLVhuMkVoUGN1VlM1Rk1CS000c1ZTakpTZ2Faa3BtY0NEVXRENkxPWGVPd3B3QWdBIn0=',\n",
       "   'serpapi_link': 'https://serpapi.com/search.json?device=desktop&engine=google_related_questions&google_domain=google.com&next_page_token=eyJvbnMiOiI2MjAiLCJmYyI6IkVxRUJDbUpCUVhSV2JHSkNURnBNU0haaWMwbEdNbTFQVGtwdE5rUmpPVjh0T0RONGFIQXdhekkwWW1oaGNVOW9NMkZqVWpselprazBiMjUzTjBOa2NuZGpVbXg1UW1kWmJFTXdYMHd3VTNSYWRYVm1VblZEUW5scmVYUTFWamxqVkZCTGJuTnNaeElYUkV4Sk4xazBTRzFRVFRKaWQySnJVSGd0TmtRMFFVa2FJa0ZFVlhsRlIyWllOVWxpVmxCblNsUk9SRXBsVTNGMU5tNXRPR1kwWjJrMlRYYyIsImZjdiI6IjMiLCJlaSI6IkRMSTdZNEhtUE0yYndia1B4LTZENEFJIiwicWMiOiJjeFhHdVEyQU1CQUVRRVJJUkFuYkNSR0YySGlGTFQtSHpvY2NVVEZOSUNhYVpSX1JHU3hWNHFJbUNRakNEaFpwcUhmUDhIOVBtR0JFTmd6WGtReUgwaGtEUk9GRjJ6bzliNTYzRHciLCJxdWVzdGlvbiI6IldoYXQgd2FzIEVsb24gTXVzaydzIGZpcnN0IGNyZWF0aW9uPyIsImxrIjoiR2lOM2FHRjBJSGRoY3lCbGJHOXVJRzExYzJzbmN5Qm1hWEp6ZENCamNtVmhkR2x2YmciLCJicyI6ImMtTlM0SklPejBqTlV5aFBMRlp3emNuUFVfQXRMYzVXU0M1S1RTeEpUYkdYMkozSkJWS0JJcG1VWDVTbmtGLWtrSnVZa21vdjhTU2ZTNU5MSlR3anNRVFZEUFZpaGJUTW91SVNpRm1aLVhuMkVoUGN1VlM1Rk1CS000c1ZTakpTZ2Faa3BtY0NEVXRENkxPWGVPd3B3QWdBIn0%3D'},\n",
       "  {'question': 'What is the origin of Elon Musk?',\n",
       "   'snippet': 'Elon Musk is a cutting-edge, serial entrepreneur born and raised in South Africa. A lifelong technologist and entrepreneur, he bought his first computer at age 10 and taught himself how to program it. He sold his first software program, a space game called Blastar, for about $500 when he was 12 years old.',\n",
       "   'title': 'Elon Musk - The Immigrant Learning Center',\n",
       "   'link': 'https://www.ilctr.org/entrepreneur-hof/elon-musk/',\n",
       "   'displayed_link': 'https://www.ilctr.org › entrepreneur-hof › elon-musk',\n",
       "   'next_page_token': 'eyJvbnMiOiI2MjAiLCJmYyI6IkVxRUJDbUpCUVhSV2JHSkNURnBNU0haaWMwbEdNbTFQVGtwdE5rUmpPVjh0T0RONGFIQXdhekkwWW1oaGNVOW9NMkZqVWpselprazBiMjUzTjBOa2NuZGpVbXg1UW1kWmJFTXdYMHd3VTNSYWRYVm1VblZEUW5scmVYUTFWamxqVkZCTGJuTnNaeElYUkV4Sk4xazBTRzFRVFRKaWQySnJVSGd0TmtRMFFVa2FJa0ZFVlhsRlIyWllOVWxpVmxCblNsUk9SRXBsVTNGMU5tNXRPR1kwWjJrMlRYYyIsImZjdiI6IjMiLCJlaSI6IkRMSTdZNEhtUE0yYndia1B4LTZENEFJIiwicWMiOiJjeFhHdVEyQU1CQUVRRVJJUkFuYkNSR0YySGlGTFQtSHpvY2NVVEZOSUNhYVpSX1JHU3hWNHFJbUNRakNEaFpwcUhmUDhIOVBtR0JFTmd6WGtReUgwaGtEUk9GRjJ6bzliNTYzRHciLCJxdWVzdGlvbiI6IldoYXQgaXMgdGhlIG9yaWdpbiBvZiBFbG9uIE11c2s/IiwibGsiOiJHaDkzYUdGMElHbHpJSFJvWlNCdmNtbG5hVzRnYjJZZ1pXeHZiaUJ0ZFhOciIsImJzIjoiYy1OUzRKSU96MGpOVXloUExGWnd6Y25QVV9BdExjNVdTQzVLVFN4SlRiR1gySjNKQlZLQklwbVVYNVNua0Yta2tKdVlrbW92OFNTZlM1TkxKVHdqc1FUVkRQVmloYlRNb3VJU2lGbVotWG4yRWhQY3VWUzVGTUJLTTRzVlNqSlNnYVprcG1jQ0RVdEQ2TE9YZU93cHdBZ0EifQ==',\n",
       "   'serpapi_link': 'https://serpapi.com/search.json?device=desktop&engine=google_related_questions&google_domain=google.com&next_page_token=eyJvbnMiOiI2MjAiLCJmYyI6IkVxRUJDbUpCUVhSV2JHSkNURnBNU0haaWMwbEdNbTFQVGtwdE5rUmpPVjh0T0RONGFIQXdhekkwWW1oaGNVOW9NMkZqVWpselprazBiMjUzTjBOa2NuZGpVbXg1UW1kWmJFTXdYMHd3VTNSYWRYVm1VblZEUW5scmVYUTFWamxqVkZCTGJuTnNaeElYUkV4Sk4xazBTRzFRVFRKaWQySnJVSGd0TmtRMFFVa2FJa0ZFVlhsRlIyWllOVWxpVmxCblNsUk9SRXBsVTNGMU5tNXRPR1kwWjJrMlRYYyIsImZjdiI6IjMiLCJlaSI6IkRMSTdZNEhtUE0yYndia1B4LTZENEFJIiwicWMiOiJjeFhHdVEyQU1CQUVRRVJJUkFuYkNSR0YySGlGTFQtSHpvY2NVVEZOSUNhYVpSX1JHU3hWNHFJbUNRakNEaFpwcUhmUDhIOVBtR0JFTmd6WGtReUgwaGtEUk9GRjJ6bzliNTYzRHciLCJxdWVzdGlvbiI6IldoYXQgaXMgdGhlIG9yaWdpbiBvZiBFbG9uIE11c2s%2FIiwibGsiOiJHaDkzYUdGMElHbHpJSFJvWlNCdmNtbG5hVzRnYjJZZ1pXeHZiaUJ0ZFhOciIsImJzIjoiYy1OUzRKSU96MGpOVXloUExGWnd6Y25QVV9BdExjNVdTQzVLVFN4SlRiR1gySjNKQlZLQklwbVVYNVNua0Yta2tKdVlrbW92OFNTZlM1TkxKVHdqc1FUVkRQVmloYlRNb3VJU2lGbVotWG4yRWhQY3VWUzVGTUJLTTRzVlNqSlNnYVprcG1jQ0RVdEQ2TE9YZU93cHdBZ0EifQ%3D%3D'}],\n",
       " 'answer_box': {'type': 'organic_result',\n",
       "  'title': 'Elon Musk - Tesla, Age & Family - Biography (Bio.)',\n",
       "  'link': 'https://www.biography.com/business-figure/elon-musk#:~:text=Early%20Life,developed%20an%20interest%20in%20computers.',\n",
       "  'displayed_link': 'https://www.biography.com › business-figure › elon-musk',\n",
       "  'date': 'Apr 4, 2018',\n",
       "  'snippet': \"Early Life Musk was born on June 28, 1971, in Pretoria, South Africa. As a child, Musk was so lost in his daydreams about inventions that his parents and doctors ordered a test to check his hearing. At about the time of his parents' divorce, when he was 10, Musk developed an interest in computers.\",\n",
       "  'snippet_highlighted_words': ['June 28, 1971'],\n",
       "  'siblings': 'Kimbal Musk',\n",
       "  'founded': 'X.com, Tesla Motors, The Boring Co...',\n",
       "  'born': 'June 28, 1971, Pretoria',\n",
       "  'about_this_result': {}},\n",
       " 'organic_results': [{'position': 1,\n",
       "   'title': 'Elon Musk - Wikipedia',\n",
       "   'link': 'https://en.wikipedia.org/wiki/Elon_Musk',\n",
       "   'displayed_link': 'https://en.wikipedia.org › wiki › Elon_Musk',\n",
       "   'snippet': 'Elon Reeve Musk FRS (/ˈiːlɒn/ EE-lon; born June 28, 1971) is a business magnate and investor. He is the founder, CEO, and Chief Engineer at SpaceX; ...',\n",
       "   'snippet_highlighted_words': ['born June 28, 1971'],\n",
       "   'sitelinks': {'inline': [{'title': 'Early life',\n",
       "      'link': 'https://en.wikipedia.org/wiki/Elon_Musk#Early_life'},\n",
       "     {'title': 'Business career',\n",
       "      'link': 'https://en.wikipedia.org/wiki/Elon_Musk#Business_career'},\n",
       "     {'title': 'Leadership style',\n",
       "      'link': 'https://en.wikipedia.org/wiki/Elon_Musk#Leadership_style'},\n",
       "     {'title': 'Other activities',\n",
       "      'link': 'https://en.wikipedia.org/wiki/Elon_Musk#Other_activities'}]},\n",
       "   'about_this_result': {'source': {'description': 'Wikipedia is a multilingual free online encyclopedia written and maintained by a community of volunteers through open collaboration and a wiki-based editing system. Its editors are known as Wikipedians. Wikipedia is the largest and most-read reference work in history.',\n",
       "     'source_info_link': 'https://en.wikipedia.org/wiki/Elon_Musk',\n",
       "     'security': 'secure',\n",
       "     'icon': 'https://serpapi.com/searches/633bb20c0f9866f823973b67/images/9a928d8e54262bd8c0cb2fcc75b8b003523a5fbbd05ecfa026cbcb29084cb780c1f9874772833ae1631c5920b1145986.png'}},\n",
       "   'about_page_link': 'https://www.google.com/search?q=About+https://en.wikipedia.org/wiki/Elon_Musk&tbm=ilp&ilps=ADNMCi2H8vnYdmvi4m5C10pEHwTVmsGsEA',\n",
       "   'cached_page_link': 'https://webcache.googleusercontent.com/search?q=cache:cElLiMk8T9MJ:https://en.wikipedia.org/wiki/Elon_Musk&cd=14&hl=en&ct=clnk&gl=us',\n",
       "   'related_pages_link': 'https://www.google.com/search?gl=us&hl=en&q=related:https://en.wikipedia.org/wiki/Elon_Musk+What+time+period+does+Elon+Musk+belong+to%3F+When+was+it+created+or+born%3F'},\n",
       "  {'position': 2,\n",
       "   'title': 'Elon Musk | Biography, SpaceX, Tesla, Twitter, & Facts',\n",
       "   'link': 'https://www.britannica.com/biography/Elon-Musk',\n",
       "   'displayed_link': 'https://www.britannica.com › biography › Elon-Musk',\n",
       "   'date': '3 days ago',\n",
       "   'snippet': 'Born: June 28, 1971 (age 51) Pretoria South Africa ; Founder: PayPal SpaceX Zip2 ; Early life. Musk was born to a South African father and a ...',\n",
       "   'snippet_highlighted_words': ['June 28, 1971'],\n",
       "   'sitelinks': {'inline': [{'title': 'Zip2',\n",
       "      'link': 'https://www.britannica.com/topic/Zip2'},\n",
       "     {'title': 'SpaceX', 'link': 'https://www.britannica.com/topic/SpaceX'},\n",
       "     {'title': 'PayPal', 'link': 'https://www.britannica.com/topic/PayPal'},\n",
       "     {'title': 'Jack Ma',\n",
       "      'link': 'https://www.britannica.com/biography/Jack-Ma'}]},\n",
       "   'about_this_result': {'source': {'description': 'britannica.com was first indexed by Google more than 10 years ago',\n",
       "     'source_info_link': 'https://www.britannica.com/biography/Elon-Musk',\n",
       "     'security': 'secure',\n",
       "     'icon': 'https://serpapi.com/searches/633bb20c0f9866f823973b67/images/9a928d8e54262bd8c0cb2fcc75b8b003980732e677fb1ff9ba3b404f8f4cc50d6a96234e007e7a6bb3c0ef5517d9a954.png'}},\n",
       "   'about_page_link': 'https://www.google.com/search?q=About+https://www.britannica.com/biography/Elon-Musk&tbm=ilp&ilps=ADNMCi2TUmJF4Kn-iKKKYVCT0IKyoyhsVA',\n",
       "   'cached_page_link': 'https://webcache.googleusercontent.com/search?q=cache:S8-9ddE_y7oJ:https://www.britannica.com/biography/Elon-Musk&cd=15&hl=en&ct=clnk&gl=us',\n",
       "   'related_pages_link': 'https://www.google.com/search?gl=us&hl=en&q=related:https://www.britannica.com/biography/Elon-Musk+What+time+period+does+Elon+Musk+belong+to%3F+When+was+it+created+or+born%3F'},\n",
       "  {'position': 3,\n",
       "   'title': 'Who Is Elon Musk? What Are His Businesses? - Investopedia',\n",
       "   'link': 'https://www.investopedia.com/articles/personal-finance/061015/how-elon-musk-became-elon-musk.asp',\n",
       "   'displayed_link': 'https://www.investopedia.com › ... › Entrepreneurs',\n",
       "   'snippet': 'Born and raised in South Africa, Musk spent time in Canada before moving to the U.S.; Educated at the University of Pennsylvania in physics, Musk started ...',\n",
       "   'snippet_highlighted_words': ['Born and raised in South Africa'],\n",
       "   'sitelinks': {'inline': [{'title': 'Early Life and Education',\n",
       "      'link': 'https://www.investopedia.com/articles/personal-finance/061015/how-elon-musk-became-elon-musk.asp#toc-early-life-and-education'},\n",
       "     {'title': 'Notable Accomplishments',\n",
       "      'link': 'https://www.investopedia.com/articles/personal-finance/061015/how-elon-musk-became-elon-musk.asp#toc-notable-accomplishments'},\n",
       "     {'title': 'Personal Eccentricities',\n",
       "      'link': 'https://www.investopedia.com/articles/personal-finance/061015/how-elon-musk-became-elon-musk.asp#toc-personal-eccentricities'}]},\n",
       "   'about_this_result': {'source': {'description': 'Investopedia is a financial media website headquartered in New York City. Founded in 1999, Investopedia provides investment dictionaries, advice, reviews, ratings, and comparisons of financial products such as securities accounts.',\n",
       "     'source_info_link': 'https://www.investopedia.com/articles/personal-finance/061015/how-elon-musk-became-elon-musk.asp',\n",
       "     'security': 'secure',\n",
       "     'icon': 'https://serpapi.com/searches/633bb20c0f9866f823973b67/images/9a928d8e54262bd8c0cb2fcc75b8b00302b6b32b293c261e00f2151a272ceacd79b4f66cacbec1b365996b1d2ee00c06.png'}},\n",
       "   'about_page_link': 'https://www.google.com/search?q=About+https://www.investopedia.com/articles/personal-finance/061015/how-elon-musk-became-elon-musk.asp&tbm=ilp&ilps=ADNMCi3VNRwqGVaHw8OXVnCNoU4jDGi6OQ'},\n",
       "  {'position': 4,\n",
       "   'title': 'Elon Musk Biography - life, parents, name, story, history, wife ...',\n",
       "   'link': 'https://www.notablebiographies.com/news/Li-Ou/Musk-Elon.html',\n",
       "   'displayed_link': 'https://www.notablebiographies.com › news › Li-Ou',\n",
       "   'snippet': 'Entrepreneur, philanthropist. Elon Musk was a multi-millionaire by the time he reached the age of thirty-one thanks to his creation of the company that ...',\n",
       "   'snippet_highlighted_words': ['reached the age of thirty-one'],\n",
       "   'sitelinks': {'inline': [{'title': 'Sells Homemade Video Game',\n",
       "      'link': 'https://www.notablebiographies.com/news/Li-Ou/Musk-Elon.html#:~:text=Sells%20homemade%20video%20game'},\n",
       "     {'title': 'Starts Online Bank',\n",
       "      'link': 'https://www.notablebiographies.com/news/Li-Ou/Musk-Elon.html#:~:text=Starts%20online%20bank'},\n",
       "     {'title': 'The New \"Thrillionaires\"',\n",
       "      'link': 'https://www.notablebiographies.com/news/Li-Ou/Musk-Elon.html#:~:text=The%20New%20%22Thrillionaires%22'}]},\n",
       "   'about_this_result': {'source': {'description': 'notablebiographies.com was first indexed by Google more than 10 years ago',\n",
       "     'source_info_link': 'https://www.notablebiographies.com/news/Li-Ou/Musk-Elon.html',\n",
       "     'security': 'secure',\n",
       "     'icon': 'https://serpapi.com/searches/633bb20c0f9866f823973b67/images/9a928d8e54262bd8c0cb2fcc75b8b003b192df0c952e3c2ea9df4a6960601e35fb791a999976458e7899c23cf1276e99.png'}},\n",
       "   'about_page_link': 'https://www.google.com/search?q=About+https://www.notablebiographies.com/news/Li-Ou/Musk-Elon.html&tbm=ilp&ilps=ADNMCi2heKNTzD_U152wHgu5Q0bgkmfC_g',\n",
       "   'cached_page_link': 'https://webcache.googleusercontent.com/search?q=cache:vP0Bst8GU9sJ:https://www.notablebiographies.com/news/Li-Ou/Musk-Elon.html&cd=17&hl=en&ct=clnk&gl=us'},\n",
       "  {'position': 5,\n",
       "   'title': 'Who is Elon Musk, and what made him big? | Business - DW',\n",
       "   'link': 'https://www.dw.com/en/who-is-elon-musk-and-what-made-him-big/a-53591199',\n",
       "   'displayed_link': 'https://www.dw.com › who-is-elon-musk-and-what-ma...',\n",
       "   'date': 'May 27, 2020',\n",
       "   'snippet': 'Born in 1971 in South Africa of a model and dietitian, Maye Musk, and an electromechanical engineer, Errol Musk, whom Elon has described as ...',\n",
       "   'snippet_highlighted_words': ['Born in 1971 in South Africa'],\n",
       "   'about_this_result': {'source': {'description': \"Deutsche Welle, abbreviated to DW, is a German public, state-owned international broadcaster funded by the German federal tax budget. The service is available in 32 languages. DW's satellite television service consists of channels in English, German, Spanish, and Arabic.\",\n",
       "     'source_info_link': 'https://www.dw.com/en/who-is-elon-musk-and-what-made-him-big/a-53591199',\n",
       "     'security': 'secure',\n",
       "     'icon': 'https://serpapi.com/searches/633bb20c0f9866f823973b67/images/9a928d8e54262bd8c0cb2fcc75b8b003a5e3b18f3a87f5bcf1d147274d68fdd16b9688c7af750c38e9fd173b821aeef8.png'}},\n",
       "   'about_page_link': 'https://www.google.com/search?q=About+https://www.dw.com/en/who-is-elon-musk-and-what-made-him-big/a-53591199&tbm=ilp&ilps=ADNMCi3FPjflw0oDZbeaAqePEBKWFZURuw',\n",
       "   'cached_page_link': 'https://webcache.googleusercontent.com/search?q=cache:iOe7iYYN0dUJ:https://www.dw.com/en/who-is-elon-musk-and-what-made-him-big/a-53591199&cd=18&hl=en&ct=clnk&gl=us'},\n",
       "  {'position': 6,\n",
       "   'title': 'Elon Musk Age, Wife, Girlfriend, Children, Family, Biography ...',\n",
       "   'link': 'https://starsunfolded.com/elon-musk/',\n",
       "   'displayed_link': 'https://starsunfolded.com › elon-musk',\n",
       "   'snippet': 'Full Name, Elon Reeve Musk · Nickname, Iron Man · Profession(s), Entrepreneur, Investor · Famous For, Being the CEO of Tesla and Space X · Height (approx.) in ...',\n",
       "   'snippet_highlighted_words': ['Elon', 'Musk'],\n",
       "   'about_this_result': {'source': {'description': 'starsunfolded.com was first indexed by Google in July 2013',\n",
       "     'source_info_link': 'https://starsunfolded.com/elon-musk/',\n",
       "     'security': 'secure',\n",
       "     'icon': 'https://serpapi.com/searches/633bb20c0f9866f823973b67/images/9a928d8e54262bd8c0cb2fcc75b8b003edce8eeefb45261a3188348f56fa073c28d56b6f5b51adba1fd66e0771866cca.png'}},\n",
       "   'about_page_link': 'https://www.google.com/search?q=About+https://starsunfolded.com/elon-musk/&tbm=ilp&ilps=ADNMCi0PunYJRwEDHhtRfau7MGMEm6oMIw',\n",
       "   'cached_page_link': 'https://webcache.googleusercontent.com/search?q=cache:MpQhj58hG8EJ:https://starsunfolded.com/elon-musk/&cd=19&hl=en&ct=clnk&gl=us'},\n",
       "  {'position': 7,\n",
       "   'title': 'Elon Musk - The Immigrant Learning Center',\n",
       "   'link': 'https://www.ilctr.org/entrepreneur-hof/elon-musk/',\n",
       "   'displayed_link': 'https://www.ilctr.org › entrepreneur-hof › elon-musk',\n",
       "   'snippet': 'Elon Musk is a cutting-edge, serial entrepreneur born and raised in South Africa. A lifelong technologist and entrepreneur, he bought his first computer at age ...',\n",
       "   'snippet_highlighted_words': ['born'],\n",
       "   'about_this_result': {'source': {'description': 'ilctr.org was first indexed by Google more than 10 years ago',\n",
       "     'source_info_link': 'https://www.ilctr.org/entrepreneur-hof/elon-musk/',\n",
       "     'security': 'secure',\n",
       "     'icon': 'https://serpapi.com/searches/633bb20c0f9866f823973b67/images/9a928d8e54262bd8c0cb2fcc75b8b003e18ede25d420675bb58ce7f3d7e9b03d1634a92e002e8544ed5d35adaaab18a3.png'}},\n",
       "   'about_page_link': 'https://www.google.com/search?q=About+https://www.ilctr.org/entrepreneur-hof/elon-musk/&tbm=ilp&ilps=ADNMCi1G6SvuqvIA-0CN1YlRKIdyjMvn6A',\n",
       "   'cached_page_link': 'https://webcache.googleusercontent.com/search?q=cache:a0Jz5n9VfHUJ:https://www.ilctr.org/entrepreneur-hof/elon-musk/&cd=20&hl=en&ct=clnk&gl=us'},\n",
       "  {'position': 8,\n",
       "   'title': 'How Elon Musk Built His Fortune—And Became the ... - TIME',\n",
       "   'link': 'https://time.com/6127754/elon-musk-net-worth-person-of-the-year/',\n",
       "   'displayed_link': 'https://time.com › Business › Person of the Year',\n",
       "   'date': 'Dec 13, 2021',\n",
       "   'snippet': \"Elon Musk made his money differently than most of today's famous billionaires. Here's how he did it.\",\n",
       "   'snippet_highlighted_words': ['Elon Musk made', 'did'],\n",
       "   'about_this_result': {'source': {'description': 'Time is an American news magazine and news website published and based in New York City. For nearly a century, it was published weekly, but starting in March 2020 it transitioned to every other week.',\n",
       "     'source_info_link': 'https://time.com/6127754/elon-musk-net-worth-person-of-the-year/',\n",
       "     'security': 'secure',\n",
       "     'icon': 'https://serpapi.com/searches/633bb20c0f9866f823973b67/images/9a928d8e54262bd8c0cb2fcc75b8b003dff37c3fb78ce3fbf598d1614b7d6eba0cdafe4d17e1d1589d90ca31e782c4db.png'}},\n",
       "   'about_page_link': 'https://www.google.com/search?q=About+https://time.com/6127754/elon-musk-net-worth-person-of-the-year/&tbm=ilp&ilps=ADNMCi0-g-DekMWsw0R0X8GVx9MG52vD8g',\n",
       "   'cached_page_link': 'https://webcache.googleusercontent.com/search?q=cache:GCXxsvyADhcJ:https://time.com/6127754/elon-musk-net-worth-person-of-the-year/&cd=21&hl=en&ct=clnk&gl=us'},\n",
       "  {'position': 9,\n",
       "   'title': \"Elon Musk's Family Tree Explained - YouTube\",\n",
       "   'link': 'https://www.youtube.com/watch?v=nLT1A6XtjZ8',\n",
       "   'displayed_link': 'https://www.youtube.com › watch',\n",
       "   'thumbnail': 'https://serpapi.com/searches/633bb20c0f9866f823973b67/images/9a928d8e54262bd8c0cb2fcc75b8b003ffdb8920adc05bea9e549e01a382c907.jpeg',\n",
       "   'snippet': \"Elon Musk may be transforming everything from power to space travel, but Elon isn't the only entrepreneur in his family tree.\",\n",
       "   'duration': '3:09',\n",
       "   'rich_snippet': {'top': {'extensions': ['YouTube', 'CNBC', 'Aug 12, 2018'],\n",
       "     'detected_extensions': {'aug': 12}}},\n",
       "   'about_this_result': {'source': {'description': 'This result comes from www.youtube.com',\n",
       "     'source_info_link': 'https://www.youtube.com/watch?v=nLT1A6XtjZ8',\n",
       "     'security': 'secure',\n",
       "     'icon': 'https://serpapi.com/searches/633bb20c0f9866f823973b67/images/9a928d8e54262bd8c0cb2fcc75b8b003a307e0031ba3a92aba9d3da8db5d995595ca504d56f2c798fc6b89d9ac467d0e.png'}},\n",
       "   'about_page_link': 'https://www.google.com/search?q=About+https://www.youtube.com/watch?v%3DnLT1A6XtjZ8&tbm=ilp&ilps=ADNMCi2I_B7MdjuHcuYp59QPLK2HKxK23A'}],\n",
       " 'related_searches': [{'query': 'how old is elon musk',\n",
       "   'link': 'https://www.google.com/search?gl=us&hl=en&q=How+old+is+Elon+Musk&sa=X&ved=2ahUKEwiBnNuM2sX6AhXNTTABHUf3ACwQ1QJ6BAhPEAE'},\n",
       "  {'query': 'elon musk net worth',\n",
       "   'link': 'https://www.google.com/search?gl=us&hl=en&q=Elon+Musk+net+worth&sa=X&ved=2ahUKEwiBnNuM2sX6AhXNTTABHUf3ACwQ1QJ6BAhQEAE'},\n",
       "  {'query': 'how old is elon musk wife',\n",
       "   'link': 'https://www.google.com/search?gl=us&hl=en&q=How+old+is+Elon+Musk+wife&sa=X&ved=2ahUKEwiBnNuM2sX6AhXNTTABHUf3ACwQ1QJ6BAhREAE'},\n",
       "  {'query': 'where was elon musk born',\n",
       "   'link': 'https://www.google.com/search?gl=us&hl=en&q=Where+was+Elon+Musk+born&sa=X&ved=2ahUKEwiBnNuM2sX6AhXNTTABHUf3ACwQ1QJ6BAhGEAE'},\n",
       "  {'query': 'is elon musk married',\n",
       "   'link': 'https://www.google.com/search?gl=us&hl=en&q=Is+Elon+Musk+married&sa=X&ved=2ahUKEwiBnNuM2sX6AhXNTTABHUf3ACwQ1QJ6BAhIEAE'},\n",
       "  {'query': 'elon musk parents',\n",
       "   'link': 'https://www.google.com/search?gl=us&hl=en&q=Elon+Musk+parents&sa=X&ved=2ahUKEwiBnNuM2sX6AhXNTTABHUf3ACwQ1QJ6BAhOEAE'},\n",
       "  {'query': 'elon musk children',\n",
       "   'link': 'https://www.google.com/search?gl=us&hl=en&q=Elon+Musk+children&sa=X&ved=2ahUKEwiBnNuM2sX6AhXNTTABHUf3ACwQ1QJ6BAhMEAE'}],\n",
       " 'pagination': {'current': 1,\n",
       "  'next': 'https://www.google.com/search?q=What+time+period+does+Elon+Musk+belong+to%3F+When+was+it+created+or+born%3F&gl=us&hl=en&ei=DLI7Y4HmPM2bwbkPx-6D4AI&start=10&sa=N&ved=2ahUKEwiBnNuM2sX6AhXNTTABHUf3ACwQ8NMDegQIARBM',\n",
       "  'other_pages': {'2': 'https://www.google.com/search?q=What+time+period+does+Elon+Musk+belong+to%3F+When+was+it+created+or+born%3F&gl=us&hl=en&ei=DLI7Y4HmPM2bwbkPx-6D4AI&start=10&sa=N&ved=2ahUKEwiBnNuM2sX6AhXNTTABHUf3ACwQ8tMDegQIARA6',\n",
       "   '3': 'https://www.google.com/search?q=What+time+period+does+Elon+Musk+belong+to%3F+When+was+it+created+or+born%3F&gl=us&hl=en&ei=DLI7Y4HmPM2bwbkPx-6D4AI&start=20&sa=N&ved=2ahUKEwiBnNuM2sX6AhXNTTABHUf3ACwQ8tMDegQIARA8',\n",
       "   '4': 'https://www.google.com/search?q=What+time+period+does+Elon+Musk+belong+to%3F+When+was+it+created+or+born%3F&gl=us&hl=en&ei=DLI7Y4HmPM2bwbkPx-6D4AI&start=30&sa=N&ved=2ahUKEwiBnNuM2sX6AhXNTTABHUf3ACwQ8tMDegQIARA-',\n",
       "   '5': 'https://www.google.com/search?q=What+time+period+does+Elon+Musk+belong+to%3F+When+was+it+created+or+born%3F&gl=us&hl=en&ei=DLI7Y4HmPM2bwbkPx-6D4AI&start=40&sa=N&ved=2ahUKEwiBnNuM2sX6AhXNTTABHUf3ACwQ8tMDegQIARBA',\n",
       "   '6': 'https://www.google.com/search?q=What+time+period+does+Elon+Musk+belong+to%3F+When+was+it+created+or+born%3F&gl=us&hl=en&ei=DLI7Y4HmPM2bwbkPx-6D4AI&start=50&sa=N&ved=2ahUKEwiBnNuM2sX6AhXNTTABHUf3ACwQ8tMDegQIARBC',\n",
       "   '7': 'https://www.google.com/search?q=What+time+period+does+Elon+Musk+belong+to%3F+When+was+it+created+or+born%3F&gl=us&hl=en&ei=DLI7Y4HmPM2bwbkPx-6D4AI&start=60&sa=N&ved=2ahUKEwiBnNuM2sX6AhXNTTABHUf3ACwQ8tMDegQIARBE',\n",
       "   '8': 'https://www.google.com/search?q=What+time+period+does+Elon+Musk+belong+to%3F+When+was+it+created+or+born%3F&gl=us&hl=en&ei=DLI7Y4HmPM2bwbkPx-6D4AI&start=70&sa=N&ved=2ahUKEwiBnNuM2sX6AhXNTTABHUf3ACwQ8tMDegQIARBG',\n",
       "   '9': 'https://www.google.com/search?q=What+time+period+does+Elon+Musk+belong+to%3F+When+was+it+created+or+born%3F&gl=us&hl=en&ei=DLI7Y4HmPM2bwbkPx-6D4AI&start=80&sa=N&ved=2ahUKEwiBnNuM2sX6AhXNTTABHUf3ACwQ8tMDegQIARBI',\n",
       "   '10': 'https://www.google.com/search?q=What+time+period+does+Elon+Musk+belong+to%3F+When+was+it+created+or+born%3F&gl=us&hl=en&ei=DLI7Y4HmPM2bwbkPx-6D4AI&start=90&sa=N&ved=2ahUKEwiBnNuM2sX6AhXNTTABHUf3ACwQ8tMDegQIARBK'}},\n",
       " 'serpapi_pagination': {'current': 1,\n",
       "  'next_link': 'https://serpapi.com/search.json?device=desktop&engine=google&gl=us&google_domain=google.com&hl=en&q=What+time+period+does+Elon+Musk+belong+to%3F+When+was+it+created+or+born%3F&start=10',\n",
       "  'next': 'https://serpapi.com/search.json?device=desktop&engine=google&gl=us&google_domain=google.com&hl=en&q=What+time+period+does+Elon+Musk+belong+to%3F+When+was+it+created+or+born%3F&start=10',\n",
       "  'other_pages': {'2': 'https://serpapi.com/search.json?device=desktop&engine=google&gl=us&google_domain=google.com&hl=en&q=What+time+period+does+Elon+Musk+belong+to%3F+When+was+it+created+or+born%3F&start=10',\n",
       "   '3': 'https://serpapi.com/search.json?device=desktop&engine=google&gl=us&google_domain=google.com&hl=en&q=What+time+period+does+Elon+Musk+belong+to%3F+When+was+it+created+or+born%3F&start=20',\n",
       "   '4': 'https://serpapi.com/search.json?device=desktop&engine=google&gl=us&google_domain=google.com&hl=en&q=What+time+period+does+Elon+Musk+belong+to%3F+When+was+it+created+or+born%3F&start=30',\n",
       "   '5': 'https://serpapi.com/search.json?device=desktop&engine=google&gl=us&google_domain=google.com&hl=en&q=What+time+period+does+Elon+Musk+belong+to%3F+When+was+it+created+or+born%3F&start=40',\n",
       "   '6': 'https://serpapi.com/search.json?device=desktop&engine=google&gl=us&google_domain=google.com&hl=en&q=What+time+period+does+Elon+Musk+belong+to%3F+When+was+it+created+or+born%3F&start=50',\n",
       "   '7': 'https://serpapi.com/search.json?device=desktop&engine=google&gl=us&google_domain=google.com&hl=en&q=What+time+period+does+Elon+Musk+belong+to%3F+When+was+it+created+or+born%3F&start=60',\n",
       "   '8': 'https://serpapi.com/search.json?device=desktop&engine=google&gl=us&google_domain=google.com&hl=en&q=What+time+period+does+Elon+Musk+belong+to%3F+When+was+it+created+or+born%3F&start=70',\n",
       "   '9': 'https://serpapi.com/search.json?device=desktop&engine=google&gl=us&google_domain=google.com&hl=en&q=What+time+period+does+Elon+Musk+belong+to%3F+When+was+it+created+or+born%3F&start=80',\n",
       "   '10': 'https://serpapi.com/search.json?device=desktop&engine=google&gl=us&google_domain=google.com&hl=en&q=What+time+period+does+Elon+Musk+belong+to%3F+When+was+it+created+or+born%3F&start=90'}}}"
      ]
     },
     "execution_count": 317,
     "metadata": {},
     "output_type": "execute_result"
    }
   ],
   "source": [
    "all_search_dict[10][0]"
   ]
  },
  {
   "cell_type": "code",
   "execution_count": 500,
   "id": "f6017a19",
   "metadata": {},
   "outputs": [],
   "source": [
    "search_background_1step = []\n",
    "for search_dict in all_search_dict:\n",
    "    combined_output = \"\"\n",
    "    for entity_results in search_dict:\n",
    "        search_prompt = render_results(entity_results, top_k=1)\n",
    "        combined_output += search_prompt + \"\\n\"\n",
    "    search_background_1step.append(combined_output)\n",
    "    \n",
    "search_background = []\n",
    "for search_dict in all_search_dict:\n",
    "    combined_output = \"\"\n",
    "    for entity_results in search_dict:\n",
    "        search_prompt = render_results(entity_results, top_k=2)\n",
    "        combined_output += search_prompt + \"\\n\"\n",
    "    search_background.append(combined_output)"
   ]
  },
  {
   "cell_type": "code",
   "execution_count": 523,
   "id": "bbb8c74e",
   "metadata": {},
   "outputs": [
    {
     "name": "stderr",
     "output_type": "stream",
     "text": [
      "184it [05:21,  1.75s/it]"
     ]
    },
    {
     "name": "stdout",
     "output_type": "stream",
     "text": [
      "0.7065217391304348\n",
      "0.0\n"
     ]
    },
    {
     "name": "stderr",
     "output_type": "stream",
     "text": [
      "\n"
     ]
    }
   ],
   "source": [
    "perf = []\n",
    "for i in range(1):\n",
    "    answers = []\n",
    "    answers_with_search = []\n",
    "    for sentence, background in tqdm.tqdm(zip(inputs, search_background_1step)):\n",
    "        prompt, answer = anachronismWithSearchCombined(sentence, background.strip())\n",
    "        answers.append(answer)\n",
    "        answers_with_search.append(answer)\n",
    "    preds = np.array([int(x[0].endswith('No')) for x in answers])\n",
    "    perf.append((preds == labels).mean())\n",
    "print(np.mean(perf))\n",
    "print(np.std(perf))"
   ]
  },
  {
   "cell_type": "code",
   "execution_count": 522,
   "id": "a97ebbb4",
   "metadata": {},
   "outputs": [
    {
     "data": {
      "text/plain": [
       "[['William the Conqueror -> 11th century \\nRed Hot Chili Peppers -> 20th century\\n\\nCould the sentence be true based on the time periods alone: No'],\n",
       " ['woman -> any time period\\nwoolly mammoth -> extinction in the Holocene epoch\\n\\nCould the sentence be true based on the time periods alone: No'],\n",
       " ['Pyrrhus -> 3rd century BCE \\n Roman armies -> 1st century CE\\n\\nCould the sentence be true based on the time periods alone: No'],\n",
       " ['Homo neanderthalensis -> 40,000 years ago\\ncorn -> 10,000 years ago\\n\\nCould the sentence be true based on the time periods alone: No'],\n",
       " ['Ivan the Terrible -> 16th century\\nJohn Williams -> 20th century\\n\\nCould the sentence be true based on the time periods alone: No'],\n",
       " ['hoplite -> 8th century BC\\nmusket -> 16th century\\ncannon -> 12th century'],\n",
       " ['Genghis Khan -> 13th century \\nGreat Wall of China -> 7th century BC\\n\\nCould the sentence be true based on the time periods alone: No'],\n",
       " ['Claude Monet -> 19th century\\nRenaissance -> 15th and 16th centuries\\n\\nCould the sentence be true based on the time periods alone: No'],\n",
       " ['eggs Benedict -> late 19th century \\ncricket -> 18th century\\n\\nCould the sentence be true based on the time periods alone: Yes'],\n",
       " ['King Richard the Lionheart -> 12th century\\nEnglish -> 5th to 7th centuries\\n\\nCould the sentence be true based on the time periods alone: No'],\n",
       " ['Elon Musk -> 1971\\nTesla Cybertruck -> 2023\\ngasoline -> late 19th century\\n\\nCould the sentence be true based on the time periods alone: No'],\n",
       " ['Eggs Benedict -> late 19th century\\nUltimate frisbee player -> late 20th century\\n\\nCould the sentence be true based on the time periods alone: Yes'],\n",
       " [' senator -> late 18th century\\n pet parakeet -> any time period\\n Affordable Care Act -> late 20th century'],\n",
       " ['Geneva -> before the Roman occupation\\n5G -> 2025\\nscience -> 3000 BCE\\nscrew -> Neo-Assyrian period'],\n",
       " ['dog -> 11,000 years ago\\ntriceratops -> Late Cretaceous\\n\\nCould the sentence be true based on the time periods alone: No'],\n",
       " ['Hagia Sophia -> 537\\n15th century -> 1500s\\n7th century -> 700s\\n19th century -> 1800s\\n\\nCould the sentence be true based on the time periods alone: Yes'],\n",
       " ['Abraham Lincoln -> Civil War\\nManny Pacquiao -> 2019\\n\\nCould the sentence be true based on the time periods alone: No'],\n",
       " ['scientist -> 3000 BCE\\ncell phone -> 1940s\\nChallenger shuttle -> 1983-1985\\n\\nCould the sentence be true based on the time periods alone: No'],\n",
       " ['capoeira -> 16th century \\nVCR -> 20th century\\n\\nCould the sentence be true based on the time periods alone: Yes'],\n",
       " ['Abraham Lincoln -> 19th century \\nUnderground Railroad -> 19th century\\n\\nCould the sentence be true based on the time periods alone: Yes'],\n",
       " ['Plato -> 428/427 BCE\\nHume -> 1711-1776\\n\\nCould the sentence be true based on the time periods alone: No'],\n",
       " ['Luciano Pavarotti -> 20th century \\nThe Marriage of Figaro -> 18th century\\n\\nCould the sentence be true based on the time periods alone: Yes'],\n",
       " ['Otto von Bismarck -> 19th century\\nFried rice -> 19th century\\n\\nCould the sentence be true based on the time periods alone: Yes'],\n",
       " ['Claude Monet -> 1840 - 1886\\nimpressionist art movement -> 1867 - 1886\\n\\nCould the sentence be true based on the time periods alone: Yes'],\n",
       " ['George W. Bush -> 43rd President of the United States\\ngenerals -> late 20th century/ early 21st century\\nOval Office -> early 20th century\\nGulf War -> late 20th century'],\n",
       " ['Shakespeare -> 1589 - 1613\\nJohn Fletcher -> 1579 - 1625\\nTwo Noble Kinsmen -> 1634\\n\\nCould the sentence be true based on the time periods alone: Yes'],\n",
       " ['Richard III -> 15th century \\nLEDs -> 20th century\\n\\nCould the sentence be true based on the time periods alone: No'],\n",
       " ['Early bluegrass -> 1940s\\nCold War -> 1945\\nAristotle -> 384-322 BC\\n\\nCould the sentence be true based on the time periods alone: No'],\n",
       " ['Caesar Augustus -> 1st century BC\\n Julio-Claudian Dynasty -> 1st century AD\\n\\nCould the sentence be true based on the time periods alone: Yes'],\n",
       " ['Boxer Rebellion -> 1900 \\nAlexander the Great -> 4th century BC\\n\\nCould the sentence be true based on the time periods alone: No'],\n",
       " ['Socrates -> 5th century BC\\nlethal injection -> late 20th century\\n\\nCould the sentence be true based on the time periods alone: No'],\n",
       " ['David Lloyd George -> late 19th century/early 20th century\\nwar -> early 20th century\\n\\nCould the sentence be true based on the time periods alone: Yes'],\n",
       " ['Syngman Rhee -> 1948 to 1960\\nHugo Chavez -> 1954 to 2013\\n\\nCould the sentence be true based on the time periods alone: Yes'],\n",
       " [\"Louis XVI -> 18th century\\nAnsel Adams -> 20th century\\nauction houses -> 18th century\\nBaku Khans' Palace -> 17th century\\n\\nCould the sentence be true based on the time periods alone: Yes\"],\n",
       " ['David Lloyd George -> 1890\\nWorld War I -> 1914\\n\\nCould the sentence be true based on the time periods alone: Yes'],\n",
       " ['William the Conqueror -> 11th century\\nmartinis -> 19th century\\n\\nCould the sentence be true based on the time periods alone: No'],\n",
       " [\" Nicolas Maduro -> 20th century\\n Ansel Adams -> 20th century\\n Baku Khans' Palace -> 17th century\\n\\nCould the sentence be true based on the time periods alone: Yes\"],\n",
       " ['Kurt Cobain -> 1987\\ntelevision -> 1927\\nTwin Peaks -> 1990\\n\\nCould the sentence be true based on the time periods alone: No'],\n",
       " ['Iwo Jima -> WWII\\nRalph -> 20th century'],\n",
       " ['Christianity -> 4th century\\nEthiopia -> 4th century\\nRoman Empire -> 4th century\\n\\nCould the sentence be true based on the time periods alone: Yes'],\n",
       " ['Eleanor of Toledo -> 1500s \\nDuchess of Florence -> 1500s\\nMedici status -> 1500s\\n\\nCould the sentence be true based on the time periods alone: Yes'],\n",
       " ['Eric the Red -> 10th century\\nnuclear fallout shelters -> late 20th century\\n\\nCould the sentence be true based on the time periods alone: No'],\n",
       " ['Igor Stravinsky -> 1882 \\nSymphonie Fantastique -> 1830\\n\\nCould the sentence be true based on the time periods alone: No'],\n",
       " ['Joan of Arc -> 14th century\\nAztec Empire -> 14th century\\n\\nCould the sentence be true based on the time periods alone: No'],\n",
       " ['Thomas Jefferson -> late 18th century\\nWatermelons -> 2000 BC\\n\\nCould the sentence be true based on the time periods alone: Yes'],\n",
       " ['philosophers -> 6th century BCE\\n\\nCould the sentence be true based on the time periods alone: Yes'],\n",
       " ['Nikola Tesla -> 1856-1943 \\nTesla Cybertruck -> 2022-2023\\n\\nCould the sentence be true based on the time periods alone: Yes'],\n",
       " ['King Richard the Lionheart -> 12th century\\nFirst Crusade -> 11th century\\n\\nCould the sentence be true based on the time periods alone: No'],\n",
       " ['Squanto -> 16th century\\nlaundromat -> early 20th century\\nFirst Thanksgiving -> 17th century\\n\\nCould the sentence be true based on the time periods alone: No'],\n",
       " ['Ravi Shankar -> 20th century\\nBessie Smith -> 20th century\\nShakira -> 20th century\\n\\nCould the sentence be true based on the time periods alone: Yes'],\n",
       " ['William Shakespeare -> 1589-1613 \\nSappho -> ancient Greece\\n\\nCould the sentence be true based on the time periods alone: No'],\n",
       " ['Alexander the Great -> 4th century BC\\nSeneca the Younger -> 1st century AD\\n\\nCould the sentence be true based on the time periods alone: No'],\n",
       " ['Eleanor of Toledo -> 16th century\\nAlexandrite jewels -> 16th century\\n\\nCould the sentence be true based on the time periods alone: Yes'],\n",
       " ['Woodrow Wilson -> 20th century \\nU.S. -> 18th century\\nIAEA -> 20th century'],\n",
       " ['Melinda Gates -> 20th century\\nBill Gates -> 20th century\\n1805 -> 19th century\\n\\nCould the sentence be true based on the time periods alone: No'],\n",
       " ['Socrates -> 5th century BC\\nstabbing -> any time period'],\n",
       " ['Lewis and Clark Expedition -> early 19th century\\nMissouri -> early 21st century\\nOregon -> early 21st century\\n\\nCould the sentence be true based on the time periods alone: No'],\n",
       " ['Mars -> 4th planet from the Sun\\nRover -> 1878\\nsolar panel -> late 19th century\\nbatteries -> late 19th century\\n\\nCould the sentence be true based on the time periods alone: Yes'],\n",
       " ['replica galleon -> 16th century \\nradar -> late 19th century\\n\\nCould the sentence be true based on the time periods alone: No'],\n",
       " ['Mason -> 1725\\nchisel -> prehistoric\\nNotre Dame Cathedral -> 1260'],\n",
       " ['Alexander Graham Bell -> late 19th century\\nAlexander Hamilton -> late 18th century\\n\\nCould the sentence be true based on the time periods alone: No'],\n",
       " ['Visual Studio Code -> late 20th century\\n\\nCould the sentence be true based on the time periods alone: Yes'],\n",
       " ['Stegosaurus -> Late Jurassic\\nfish -> 530 million years ago'],\n",
       " ['George Washington -> 18th century\\nAmerican Civil War -> 19th century\\n\\nCould the sentence be true based on the time periods alone: No'],\n",
       " ['Ivan the Terrible -> 16th century\\nPalestrina -> 16th century\\n\\nCould the sentence be true based on the time periods alone: Yes'],\n",
       " ['Thutmose III -> 15th century BC\\nEgyptian empire -> 15th century BC\\nspear tips made of titanium -> 1791'],\n",
       " ['Moremi Ajasoro -> 12th century\\nriver -> pre-industrial era\\nWashington DC -> 18th century\\nFriends -> 1990s\\n\\nCould the sentence be true based on the time periods alone: No'],\n",
       " ['Caesar Augustus -> 1st century BC\\nHoly Roman Empire -> 1254\\n\\nCould the sentence be true based on the time periods alone: No'],\n",
       " ['Jason -> 1980 \\nTRS80 -> 1977 \\nTV -> 1927 \\nPyramid 2000 -> 2550 B.C.\\n\\nCould the sentence be true based on the time periods alone: No'],\n",
       " ['Queen Himiko -> 3rd century\\nYayoi silk robes -> Yayoi Period\\nfemale attendants -> 20th century\\n\\nCould the sentence be true based on the time periods alone: Yes'],\n",
       " ['soldier -> American Continental Army\\nmusket -> early 16th century\\ncannon -> 12th century\\n\\nCould the sentence be true based on the time periods alone: Yes'],\n",
       " ['Temple of Artemis -> 6th century BCE\\nEphesus -> late 19th century\\n\\nCould the sentence be true based on the time periods alone: Yes'],\n",
       " ['megalodon -> 23 million to 3.6 million years ago\\nPomeranian -> 300 years ago\\n\\nCould the sentence be true based on the time periods alone: No'],\n",
       " ['Sally -> 18th century\\nHBO -> 20th century\\nTrue Detective -> 21st century\\n\\nCould the sentence be true based on the time periods alone: No'],\n",
       " ['Great Depression -> 1929\\nProhibition -> 1920\\n\\nCould the sentence be true based on the time periods alone: Yes'],\n",
       " ['Benjamin Franklin -> 18th century\\nBenjamin Thompson -> 18th century\\nhybrid car -> 19th century\\n\\nCould the sentence be true based on the time periods alone: No'],\n",
       " ['Charles Babbage -> 1791\\nHaskell -> late 20th century'],\n",
       " ['King John -> 13th century\\nMagna Carta -> 13th century\\n\\nCould the sentence be true based on the time periods alone: Yes'],\n",
       " ['Richard III -> 15th century\\ncandles -> 5,000 years ago\\n\\nCould the sentence be true based on the time periods alone: Yes'],\n",
       " ['chihuahua -> 10,000 years ago\\nPangea -> early geologic time'],\n",
       " ['Lady Murasaki Shikibu -> 11th century \\nLady Ada Lovelace -> 19th century\\nbiomedical software -> 20th century\\n\\nCould the sentence be true based on the time periods alone: No'],\n",
       " ['states -> 1787\\nChina -> 1250 BC\\nAlexander the Great -> 4th century BC'],\n",
       " [\"Muhammad al-Khwarizmi -> 8th century\\nEuclid's lemma -> 3rd century BCE\\n\\nCould the sentence be true based on the time periods alone: No\"],\n",
       " ['Sarah Burke -> 21st century\\nHaskell -> late 20th century\\n\\nCould the sentence be true based on the time periods alone: Yes'],\n",
       " ['Otto von Bismarck -> 19th century \\nSpam -> 20th century\\n\\nCould the sentence be true based on the time periods alone: No'],\n",
       " ['Abraham Lincoln -> 1861-1865\\nCharles Darwin -> 1809-1882\\n\\nCould the sentence be true based on the time periods alone: Yes'],\n",
       " ['orchestra -> early 1600s\\nVivaldi -> 17th century\\nBaroque -> early 17th century\\n\\nCould the sentence be true based on the time periods alone: Yes'],\n",
       " ['Mongolian horse rider -> 13th century\\nvelociraptor -> 75 million years ago\\n\\nCould the sentence be true based on the time periods alone: No'],\n",
       " ['Homo erectus -> 1.89 million to 110,000 years ago\\nfire -> 2 million years ago\\nstone tools -> 2.6 million years ago\\nhunting -> 2 million years ago\\nmedicine -> 5th century BCE\\nsocial groups -> 2 million years ago\\n\\nCould the sentence be true based on the time periods alone: Yes'],\n",
       " ['Marie Antoinette -> late 18th century\\nBruce Springsteen -> 20th century\\n\\nCould the sentence be true based on the time periods alone: No'],\n",
       " ['Beats -> 2006 \\nMPC3000 -> 1993\\nblues -> 1860s\\n\\nCould the sentence be true based on the time periods alone: Yes'],\n",
       " ['Jason -> 1980 \\nTRS80 -> late 1970s \\nRadio Shack -> 1921 \\nmovie -> late 19th century\\n\\nCould the sentence be true based on the time periods alone: Yes'],\n",
       " ['Johann Sebastian Bach -> 1692\\nA Brief History of Time -> late 20th century\\n\\nCould the sentence be true based on the time periods alone: No'],\n",
       " ['Catherine the Great -> late 18th century\\nEmpress Wu Zetian -> 7th century\\nCatherine Palace -> late 18th century\\n\\nCould the sentence be true based on the time periods alone: No'],\n",
       " ['Sun Tzu -> Eastern Zhou period \\nBabylon -> 1894 BC\\n\\nCould the sentence be true based on the time periods alone: Yes'],\n",
       " ['Filippo Pacini -> early 19th century \\ncholera -> early 19th century\\n\\nCould the sentence be true based on the time periods alone: Yes'],\n",
       " ['Go -> 9600 - 9500 BC\\nMozilla -> 2004'],\n",
       " ['Johann Sebastian Bach -> 1692\\n\"Mathematical Principles of Natural Philosophy\" -> 17th century\\n\\nCould the sentence be true based on the time periods alone: Yes'],\n",
       " ['Joan of Arc -> 14th century\\nAmerican Ninja Warrior -> 21st century\\n\\nCould the sentence be true based on the time periods alone: No'],\n",
       " ['Hume -> 18th century\\nPlato -> 5th century BCE\\n\\nCould the sentence be true based on the time periods alone: Yes'],\n",
       " ['Franz Schubert -> early Romantic period\\nSymphonie Fantastique -> early Romantic period\\n\\nCould the sentence be true based on the time periods alone: Yes'],\n",
       " ['The sun -> 4.6 billion years ago\\nThe Stelliferous Era -> one cosmological decade of matter prior to that'],\n",
       " ['Ellen Johnson-Sirleaf -> 1938\\ncalculus -> late 17th century\\n\\nCould the sentence be true based on the time periods alone: No'],\n",
       " ['Thutmose III -> 15th century BC\\nEgyptian empire -> 15th century BC\\njade -> 7,000 years ago'],\n",
       " ['Christianity -> 1st century \\nEthiopia -> 6th century BC - 1st century\\nRoman Empire -> 6th century BC - 4th century\\n\\nCould the sentence be true based on the time periods alone: Yes'],\n",
       " ['Lewis Hamilton -> 2007-present\\nQueen -> 1952-2022\\n\\nCould the sentence be true based on the time periods alone: Yes'],\n",
       " ['Ponce De Leon -> 15th century \\ntelegram -> 20th century\\n\\nCould the sentence be true based on the time periods alone: No'],\n",
       " [\"Benjamin Franklin -> 1700s \\nlaptop -> late 20th century\\n Poor Richard's Almanack -> 1700s\\n American History Museum -> late 20th century\"],\n",
       " ['Attila the Hun -> 5th century\\nMulan -> 5th century\\n\\nCould the sentence be true based on the time periods alone: No'],\n",
       " ['Southern U.S. slaves -> 15th century - late 18th century\\n13th amendment -> late 18th century'],\n",
       " ['F1 World Championship -> since 1950\\nDale Earnhardt Jr. -> 1974\\n\\nCould the sentence be true based on the time periods alone: No'],\n",
       " ['ancient Greek philosophers -> 6th century BC\\ngolf -> 15th century\\n\\nCould the sentence be true based on the time periods alone: No'],\n",
       " ['Catherine the Great -> 18th century\\nQianlong Emperor -> 18th century\\nCatherine Palace -> 18th century\\n\\nCould the sentence be true based on the time periods alone: Yes'],\n",
       " ['Edison -> late 19th century\\nda Vinci -> 15th century\\nGalilei -> 16th century\\nGeneva -> before 2nd century BC\\n5G -> 21st century\\n\\nCould the sentence be true based on the time periods alone: No'],\n",
       " ['Hannibal -> 9th century BC\\nCrassus -> 1st century BC\\n\\nCould the sentence be true based on the time periods alone: No'],\n",
       " ['Mongolian horse rider -> 13th century \\nbow -> 17,500-18,000 years ago\\ndeer -> 50 million years ago'],\n",
       " ['Lewis and Clark Expedition -> early 19th century\\nOregon -> early 19th century\\nMissouri -> early 19th century\\n\\nCould the sentence be true based on the time periods alone: Yes'],\n",
       " ['author -> 1943 \\nElizabeth II -> 1952\\n\\nCould the sentence be true based on the time periods alone: Yes'],\n",
       " ['tourist -> 16th century\\ndodo -> 17th century\\nIcelandic police -> 18th century\\n\\nCould the sentence be true based on the time periods alone: No'],\n",
       " ['scientist -> 3000 BCE\\ncell phone -> mid 1980s\\nPerseverance -> 3 October 2022\\n\\nCould the sentence be true based on the time periods alone: Yes'],\n",
       " ['book -> 7th century\\nDavid Hume -> 18th century\\n\\nCould the sentence be true based on the time periods alone: No'],\n",
       " ['Celine Dion -> 1968-1989\\nJulia -> 1949'],\n",
       " ['Hedy Lamarr -> 20th century\\nJulia -> 20th century\\n\\nCould the sentence be true based on the time periods alone: Yes'],\n",
       " ['The Great Depression -> 1929 - 1939\\nThe Salem Witch Trials -> 1692 - 1693\\n\\nCould the sentence be true based on the time periods alone: No'],\n",
       " ['Ford Model T -> early 20th century\\nsolar panel -> late 19th century\\n\\nCould the sentence be true based on the time periods alone: No'],\n",
       " ['mason -> 18th century\\njackhammer -> 19th century\\nNotre Dame Cathedral -> 12th century\\n\\nCould the sentence be true based on the time periods alone: No'],\n",
       " ['Dwight Eisenhower -> 20th century\\nSpace Force -> 2019\\n\\nCould the sentence be true based on the time periods alone: No'],\n",
       " ['Vasco de Gama -> 1497\\nCape of Good Hope -> first European sighting was in the 15th century\\nGPS -> 1973'],\n",
       " ['I -> 21st century\\nriver -> pre-industrial era\\nWashington DC -> 18th century\\nFriends -> 20th century\\n\\nCould the sentence be true based on the time periods alone: No'],\n",
       " ['pyramids at Giza -> 2589 BC\\njazz -> late 19th century\\n\\nCould the sentence be true based on the time periods alone: No'],\n",
       " ['Dr. Elizabeth Garrett Anderson -> early 20th century\\nobelisk -> 18th dynasty\\nCity of Westminster -> 10th century'],\n",
       " ['Tourist -> 16th century\\nPet turtle -> 21st century\\n\\nCould the sentence be true based on the time periods alone: No'],\n",
       " ['Utahraptor -> Early Cretaceous period\\nIguanodon -> late Jurassic Period to early Cretaceous Period\\n\\nCould the sentence be true based on the time periods alone: Yes'],\n",
       " ['hip hop -> 1970s\\nCold War -> 1945\\n\\nCould the sentence be true based on the time periods alone: Yes'],\n",
       " ['F1 World Championship -> 1950\\nGiuseppe Farina -> 1950\\n\\nCould the sentence be true based on the time periods alone: Yes'],\n",
       " ['MacKenzie Scott -> 21st century\\nBill Gates -> 20th century\\n\\nCould the sentence be true based on the time periods alone: Yes'],\n",
       " [\"Benjamin Franklin -> 18th century\\nPoor Richard's Almanack -> 18th century\\nAmerican History Museum -> 19th century\"],\n",
       " ['T. rex -> Late Cretaceous\\ntriceratops -> Late Cretaceous\\n\\nCould the sentence be true based on the time periods alone: Yes'],\n",
       " ['George Washington Carver -> Late 19th century\\nMahatama Gandhi -> Late 19th century/Early 20th century\\nSoylent -> 21st century\\n\\nCould the sentence be true based on the time periods alone: No'],\n",
       " ['Ellen Johnson-Sirleaf -> 2006-2018\\nDogecoin -> 2013-2021\\n\\nCould the sentence be true based on the time periods alone: Yes'],\n",
       " ['Surena -> 1st century BC\\nParthian Empire -> 247 BC to 224 AD\\nCrassus -> Late Roman Republic'],\n",
       " ['Ponce De Leon -> 16th century \\nmessenger pigeon -> 20,000 years ago\\n\\nCould the sentence be true based on the time periods alone: No'],\n",
       " ['student -> 18 years old or beyond high school\\nTlahuicole -> 1851\\n\\nCould the sentence be true based on the time periods alone: Yes'],\n",
       " ['Dwight Eisenhower -> 20th century\\nUnited States Army -> 18th century\\n\\nCould the sentence be true based on the time periods alone: Yes'],\n",
       " ['Thomas Jefferson -> 18th century\\nHoneycrisp apples -> 1990s\\nSummer Afternoon -> 1903'],\n",
       " ['T. rex -> 90 to 66 million years ago\\nWagyu cattle -> 2,000 years ago\\n\\nCould the sentence be true based on the time periods alone: No'],\n",
       " ['domestication of the dog -> Holocene era\\ntriceratops fossil -> Cretaceous Period\\n\\nCould the sentence be true based on the time periods alone: No'],\n",
       " ['movie in color -> late 19th century \\nAngela Merkel -> 20th century\\n\\nCould the sentence be true based on the time periods alone: No'],\n",
       " ['Antonio Salieri -> late 18th century\\nThe Marriage of Figaro -> late 18th century\\n\\nCould the sentence be true based on the time periods alone: Yes'],\n",
       " ['Stegosaurus -> Late Jurassic\\nBeagle -> 1830s\\n\\nCould the sentence be true based on the time periods alone: No'],\n",
       " ['student -> after high school\\nConnor McGregor -> 2010s\\n\\nCould the sentence be true based on the time periods alone: Yes'],\n",
       " ['Eric the Red -> 10th century\\nGreenland -> 10th century\\n\\nCould the sentence be true based on the time periods alone: Yes'],\n",
       " ['Homo erectus -> 1.89 million - 110,000 years ago\\nSmilodon -> 2.5 mya – 10,000 years ago\\n\\nCould the sentence be true based on the time periods alone: Yes'],\n",
       " ['Dr. Elizabeth Garrett Anderson -> 19th century\\nmoto jacket -> 20th century\\nobelisk -> Ancient Egypt'],\n",
       " ['pioneers -> 16th century\\nCapoeira -> 16th century\\nmechanical age -> 1450-1840\\noral tradition -> all time periods'],\n",
       " ['Alexander the Great -> 4th century BCE\\nSeneca the Elder -> 1st century CE\\n\\nCould the sentence be true based on the time periods alone: No'],\n",
       " ['polar bear -> billions of years ago\\nPomeranian -> Central Europe\\n\\nCould the sentence be true based on the time periods alone: No'],\n",
       " ['COVID-19 -> 21st century\\n17th century -> 1601-1700\\n\\nCould the sentence be true based on the time periods alone: No'],\n",
       " ['Muhammad al-Khwarizmi -> 8th century\\nphone -> late 20th century\\ncalculator -> early 1960s'],\n",
       " ['Pepin the Short -> 8th century\\nBertrada -> 8th century\\npiano -> 18th century\\n\\nCould the sentence be true based on the time periods alone: No'],\n",
       " ['Enigma Machine -> early- to mid- 20th century\\nAllies -> World War II\\nPublic Enemy -> mid-1980s\\n\\nCould the sentence be true based on the time periods alone: Yes'],\n",
       " ['Sun Tzu -> Eastern Zhou period\\nBay of Pigs -> April 15, 1961\\n\\nCould the sentence be true based on the time periods alone: No'],\n",
       " ['bubonic plague -> 541, 1347, 1894\\n21st century -> 2001-2100\\n\\nCould the sentence be true based on the time periods alone: Yes'],\n",
       " [\"Hammurabi's Code -> 18th century bce\\nintegrated development environment -> 21st century\"],\n",
       " ['Southern U.S. slaves -> 15th century - 18th century\\n18th amendment -> 1919'],\n",
       " ['Pepin the Short -> 8th century \\nBertrada -> 8th century \\nsongs -> ancient song forms\\n\\nCould the sentence be true based on the time periods alone: Yes'],\n",
       " ['dodo -> 1681 \\nIguanodon -> late Jurassic Period\\n\\nCould the sentence be true based on the time periods alone: No'],\n",
       " ['Lewis Hamilton -> late 20th century\\nQueen -> mid 20th century\\n\\nCould the sentence be true based on the time periods alone: No'],\n",
       " ['Woodrow Wilson -> 20th century\\nU.S. -> 18th century\\nLeague of Nations -> 20th century\\n\\nCould the sentence be true based on the time periods alone: Yes'],\n",
       " ['Ottoman Empire -> 13th century \\nWTO -> 1995\\nCOVID-19 -> 2019\\n\\nCould the sentence be true based on the time periods alone: Yes'],\n",
       " ['Syngman Rhee -> 1948-1960 \\nHugo Chavez -> 1999-2013\\n\\nCould the sentence be true based on the time periods alone: Yes'],\n",
       " ['Anne Frank -> 20th century\\nUnderground Railroad -> 18th - 19th century\\n\\nCould the sentence be true based on the time periods alone: No'],\n",
       " ['George Washington -> 18th century\\nBali -> Paleolithic\\nAshikaga shogunate -> 14th century'],\n",
       " ['Roman emperor -> 27 BC - AD 14\\nFerrari -> 1939\\nColiseum -> 70 AD\\n\\nCould the sentence be true based on the time periods alone: No'],\n",
       " ['USS New Ironsides -> American Civil War\\nradar -> late 19th century\\n\\nCould the sentence be true based on the time periods alone: No'],\n",
       " ['George Washington Carver -> late 1800s \\nMahatama Gandhi -> early 1900s\\nsoybeans -> 1100 BC'],\n",
       " ['chihuahua -> 10,000 years ago\\nmoai -> 1000 CE\\n\\nCould the sentence be true based on the time periods alone: Yes'],\n",
       " ['Charlamagne -> 8th century\\nEncarta -> 20th century\\n\\nCould the sentence be true based on the time periods alone: No'],\n",
       " ['Beats -> 2006\\nMPC3000 -> 1993\\nhip hop -> 1970s\\n\\nCould the sentence be true based on the time periods alone: Yes'],\n",
       " ['Sally Hemings -> 18th century\\nHBO -> 20th century\\nTrue Detective -> 21st century\\n\\nCould the sentence be true based on the time periods alone: No'],\n",
       " ['Queen Himiko -> 3rd century\\nYayoi silk robes -> 300 BCE\\nBorn This Way Foundation -> 2010s\\n\\nCould the sentence be true based on the time periods alone: No'],\n",
       " ['George H. W. Bush -> late 20th century\\nOval Office -> early 20th century\\nGulf War -> late 20th century\\n\\nCould the sentence be true based on the time periods alone: Yes'],\n",
       " ['pyramids at Giza -> 2589 BC\\nmusic -> early Christian Church'],\n",
       " ['woolly mammoth -> extinction in the Holocene epoch\\nShih Tzu -> 10th century\\n\\nCould the sentence be true based on the time periods alone: No']]"
      ]
     },
     "execution_count": 522,
     "metadata": {},
     "output_type": "execute_result"
    }
   ],
   "source": [
    "answers"
   ]
  },
  {
   "cell_type": "code",
   "execution_count": 285,
   "id": "1946ab9d",
   "metadata": {},
   "outputs": [
    {
     "name": "stderr",
     "output_type": "stream",
     "text": [
      "184it [01:54,  1.61it/s]\n",
      "184it [01:49,  1.68it/s]\n",
      "184it [01:55,  1.60it/s]\n",
      "184it [01:52,  1.64it/s]\n",
      "184it [01:48,  1.69it/s]\n",
      "184it [01:55,  1.60it/s]\n",
      "184it [01:53,  1.63it/s]\n",
      "184it [01:50,  1.66it/s]\n",
      "184it [01:53,  1.62it/s]\n",
      "184it [01:51,  1.65it/s]\n"
     ]
    },
    {
     "data": {
      "text/plain": [
       "0.009094130723196474"
      ]
     },
     "execution_count": 285,
     "metadata": {},
     "output_type": "execute_result"
    }
   ],
   "source": [
    "perf = []\n",
    "for i in range(10):\n",
    "    answers = []\n",
    "    for sentence, background in tqdm.tqdm(zip(inputs, search_background)):\n",
    "        prompt, answer = anachronismWithSearch(sentence, background.strip())\n",
    "        answers.append(answer)\n",
    "    preds = np.array([int(x[0].endswith('No')) for x in answers])\n",
    "    perf.append((preds == labels).mean())\n",
    "np.mean(perf)\n",
    "np.std(perf)"
   ]
  },
  {
   "cell_type": "code",
   "execution_count": 286,
   "id": "57d5b252",
   "metadata": {},
   "outputs": [
    {
     "data": {
      "text/plain": [
       "0.7065217391304348"
      ]
     },
     "execution_count": 286,
     "metadata": {},
     "output_type": "execute_result"
    }
   ],
   "source": [
    "np.mean(perf)"
   ]
  },
  {
   "cell_type": "code",
   "execution_count": 295,
   "id": "1be6a1b7",
   "metadata": {},
   "outputs": [
    {
     "data": {
      "text/plain": [
       "184"
      ]
     },
     "execution_count": 295,
     "metadata": {},
     "output_type": "execute_result"
    }
   ],
   "source": [
    "len(search_background)"
   ]
  },
  {
   "cell_type": "code",
   "execution_count": 400,
   "id": "af339710",
   "metadata": {},
   "outputs": [
    {
     "name": "stderr",
     "output_type": "stream",
     "text": [
      "0it [00:00, ?it/s]"
     ]
    },
    {
     "name": "stdout",
     "output_type": "stream",
     "text": [
      "0.5108695652173914\n",
      "0.0\n"
     ]
    },
    {
     "name": "stderr",
     "output_type": "stream",
     "text": [
      "\n"
     ]
    }
   ],
   "source": [
    "perf = []\n",
    "for i in range(10):\n",
    "    answers = []\n",
    "    for sentence, background in tqdm.tqdm(zip(inputs, search_background_1step)):\n",
    "        prompt, answer = anachronismWithSearch1Step(sentence, background.strip())\n",
    "        answers.append(answer)\n",
    "    preds = np.array([int(x[0].endswith('No')) for x in answers])\n",
    "    perf.append((preds == labels).mean())\n",
    "print(np.mean(perf))\n",
    "print(np.std(perf))"
   ]
  },
  {
   "cell_type": "code",
   "execution_count": 477,
   "id": "107e991b",
   "metadata": {},
   "outputs": [
    {
     "name": "stderr",
     "output_type": "stream",
     "text": [
      "184it [07:02,  2.30s/it]\n",
      "184it [01:40,  1.84it/s]\n",
      "184it [07:08,  2.33s/it]\n",
      "184it [01:44,  1.75it/s]\n",
      "184it [07:11,  2.35s/it]\n",
      "184it [01:45,  1.75it/s]\n",
      "184it [07:17,  2.38s/it]\n",
      "184it [01:45,  1.74it/s]\n",
      "184it [07:26,  2.42s/it]\n",
      "184it [01:50,  1.66it/s]"
     ]
    },
    {
     "name": "stdout",
     "output_type": "stream",
     "text": [
      "0.6945652173913043\n",
      "0.01513955247520016\n"
     ]
    },
    {
     "name": "stderr",
     "output_type": "stream",
     "text": [
      "\n"
     ]
    }
   ],
   "source": [
    "## Program to use search results to get better estimates of century and then use that for anachronism task.\n",
    "perf = []\n",
    "for i in range(5):\n",
    "    retrieval_based_time_periods = []\n",
    "    for i, ex in tqdm.tqdm(enumerate(entity_list)):\n",
    "        ents = ex[0].split(\"\\n\")\n",
    "        entity_search_results = all_search_dict[i]\n",
    "        all_time_periods = \"\"\n",
    "        for entity, search_background in zip(ents, entity_search_results):\n",
    "            # Combine with the right background info , send to get get centuries\n",
    "            background_text = render_results(search_background, top_k=2)\n",
    "            prompt, time_period = fineTimePeriod(entity, background_text.strip())\n",
    "            all_time_periods += time_period[0].strip() + \"\\n\"\n",
    "        retrieval_based_time_periods.append(all_time_periods)\n",
    "\n",
    "    answers = []\n",
    "    for sentence, background in tqdm.tqdm(zip(inputs, retrieval_based_time_periods)):\n",
    "        prompt, answer = anachronismWithSearchForCentury(sentence, background.strip())\n",
    "        answers.append(answer)\n",
    "    preds = np.array([int(x[0].endswith('No')) for x in answers])\n",
    "    perf.append((preds == labels).mean())\n",
    "print(np.mean(perf))\n",
    "print(np.std(perf))"
   ]
  },
  {
   "cell_type": "code",
   "execution_count": 473,
   "id": "e7eec364",
   "metadata": {},
   "outputs": [
    {
     "name": "stdout",
     "output_type": "stream",
     "text": [
      "Given a sentence tell me if it could have happened or not based on the time periods of the entities.\n",
      "Sentence: I wrote about shakespeare\n",
      "\n",
      "Entities and dates:\n",
      "Shakespeare -> 1567-1616\n",
      "I -> from 1996\n",
      "\n",
      "Could the sentence be true based on the time periods alone: Yes\n",
      "----\n",
      "Sentence: Shakespeare wrote about me\n",
      "\n",
      "Entities and dates:\n",
      "Shakespeare -> from 1996\n",
      "I -> 1567-1616\n",
      "\n",
      "Could the sentence be true based on the dates alone: No\n",
      "----\n",
      "Sentence: The Dodo was capable of hunting large herbivores like the Iguandodon\n",
      "\n",
      "Entities and dates:\n",
      "Dodo -> 1681\n",
      "Iguanodon -> 99.6 million years ago\n",
      "\n",
      "Could the sentence be true based on the time periods alone: No\n",
      "----\n",
      "Sentence: The engineer upgraded the USS New Ironsides' radar system.\n",
      "\n",
      "Entities and dates:\n",
      "USS New Ironsides -> American Civil War\n",
      "radar -> 1930\n",
      "\n",
      "Could the sentence be true based on the time periods alone: No\n",
      "----\n",
      "Sentence: William the Conqueror enjoyed plenty of chile peppers to flavor his meals.\n",
      "\n",
      "Entities and dates:\n",
      "William the Conqueror -> 1028-1087\n",
      "chili peppers -> 5000-6000 BC\n",
      "\n",
      "Could the sentence be true based on the time periods alone:\n"
     ]
    }
   ],
   "source": [
    "print(prompt)"
   ]
  },
  {
   "cell_type": "code",
   "execution_count": 474,
   "id": "6e3e1623",
   "metadata": {},
   "outputs": [
    {
     "data": {
      "text/plain": [
       "[' Yes']"
      ]
     },
     "execution_count": 474,
     "metadata": {},
     "output_type": "execute_result"
    }
   ],
   "source": [
    "answer"
   ]
  },
  {
   "cell_type": "markdown",
   "id": "61fb5909",
   "metadata": {},
   "source": [
    "### Error analysis"
   ]
  },
  {
   "cell_type": "code",
   "execution_count": 530,
   "id": "8852e465",
   "metadata": {},
   "outputs": [
    {
     "name": "stdout",
     "output_type": "stream",
     "text": [
      "William the Conqueror enjoyed plenty of chile peppers to flavor his meals.\n",
      "['William the Conqueror -> 11th century\\nchili peppers -> 20th century\\n\\nCould the sentence be true based on the time periods alone: No']\n",
      "['\\n\\nEntities and dates:\\nWilliam the Conqueror -> 11th century\\nChile peppers -> 16th century\\n\\nCould the sentence be true based on the dates alone: No']\n",
      "\n",
      "Background William I (c. 1028 – 9 September 1087), usually known as William the Conqueror and sometimes William the Bastard, was the first Norman king of England, ...\n",
      "Red Hot Chili Peppers are an American rock band formed in Los Angeles in 1983, comprising vocalist Anthony Kiedis, bassist Flea, drummer Chad Smith and ...\n",
      "\n",
      "---\n",
      "The woman and the wooly mammoth happily played together in the field.\n",
      "['woman -> anytime\\nwooly mammoth -> extinction in the Holocene epoch\\n\\nCould the sentence be true based on the time periods alone: No']\n",
      "['\\n\\nEntities and dates:\\nThe woman -> 21st century\\nThe wooly mammoth -> 10,000 BC\\n\\nCould the sentence be true based on the dates alone: No']\n",
      "\n",
      "Background Typically, women inherit a pair of X chromosomes from their parents, and are capable of pregnancy and giving birth from puberty until menopause. More generally, ...\n",
      "The woolly mammoth (Mammuthus primigenius) is an extinct species of mammoth that lived during the Pleistocene until its extinction in the Holocene epoch.\n",
      "\n",
      "---\n",
      "Pyrrhus of Epirus brought war elephants against the Roman armies.\n",
      "['Pyrrhus -> 3rd century BCE \\nwar elephants -> 6th century CE\\nRoman armies -> 1st century CE\\n\\nCould the sentence be true based on the time periods alone: No']\n",
      "['\\n\\nEntities and dates:\\nPyrrhus of Epirus -> 3rd century BC\\nRoman armies -> 3rd century BC\\n\\nCould the sentence be true based on the dates alone: Yes']\n",
      "\n",
      "Background Pyrrhus, (born 319 bce—died 272, Argos, Argolis), king of Hellenistic Epirus whose costly military successes against Macedonia and Rome gave ...\n",
      "The Greek king Pyrrhus is known to have made Epirus a powerful state in the Greek realm (during 280–275 BC) that was comparable to the likes of Ancient ...\n",
      "Some scholars have placed the Year of the Elephant one or two decades earlier than 570 CE, with a tradition attributed to Ibn Shihab al-Zuhri in the works of ' ...\n",
      "The Julio-Claudian dynasty lasted for four more emperors—Tiberius, Caligula, Claudius, and Nero—before it yielded in 69 AD to the strife-torn Year of Four ...\n",
      "\n",
      "---\n",
      "Homo neanderthalensis consumed corn as a main staple of their diet.\n",
      "['Homo neanderthalensis -> until 40,000 years ago\\ncorn -> 10,000 years ago\\n\\nCould the sentence be true based on the time periods alone: No']\n",
      "['\\n\\nEntities and dates:\\nHomo neanderthalensis -> 2200-3800 BCE\\nCorn -> 10,000 BCE\\n\\nCould the sentence be true based on the dates alone: No']\n",
      "\n",
      "Background Neanderthals are an extinct species or subspecies of archaic humans who lived in Eurasia until about 40,000 years ago. While the \"causes of Neanderthal ...\n",
      "Corn was first domesticated by native peoples in southern Mexico about 10,000 years ago. Modern corn is believed to have been derived from the ...\n",
      "\n",
      "---\n",
      "Ivan the Terrible hired composer John Williams to murder his son.\n",
      "['Ivan the Terrible -> 16th century\\nJohn Williams -> 20th century\\n\\nCould the sentence be true based on the time periods alone: No']\n",
      "['\\n\\nEntities and dates:\\nIvan the Terrible -> 16th century\\nJohn Williams -> 20th century\\n\\nCould the sentence be true based on the dates alone: No']\n",
      "\n",
      "Background He was to become the penultimate representative of the Rurik dynasty. On December 4, 1533, immediately after his father's death, the three-year- ...\n",
      "John Towner Williams KBE (born February 8, 1932) is an American composer, conductor and pianist. In a career that has spanned seven decades, he has composed ...\n",
      "The birth of Jesus is celebrated annually on 25 December as Christmas. His crucifixion is honored on Good Friday and his resurrection on Easter Sunday. The ...\n",
      "\n",
      "---\n",
      "The hoplite was shot by a musket before he could fire the cannon.\n",
      "['hoplite -> 8th century BC\\nmusket -> 16th century\\ncannon -> 12th century']\n",
      "['\\n\\nEntities and dates:\\nHoplite -> 5th century BCE\\nMusket -> 15th century CE\\nCannon -> 13th century CE\\n\\nCould the sentence be true based on the dates alone: No']\n",
      "\n",
      "Background In the 8th or 7th century BC, Greek armies adopted the phalanx formation. The formation proved successful in defeating the Persians when employed by the ...\n",
      "A musket is a muzzle-loaded long gun that appeared as a smoothbore weapon in the early 16th century, at first as a heavier variant of the arquebus, ...\n",
      "The earliest known depiction of cannons appeared in Song dynasty China as early as the 12th century; however, solid archaeological and documentary evidence of ...\n",
      "\n",
      "---\n",
      "Genghis Khan built the Great Wall of China.\n",
      "['Genghis Khan -> 13th century \\nGreat Wall of China -> 7th century BC\\n\\nCould the sentence be true based on the time periods alone: No']\n",
      "['\\n\\nEntities and dates:\\nGenghis Khan -> 13th century\\nGreat Wall of China -> 3rd century BC - 17th century\\n\\nCould the sentence be true based on the dates alone: No']\n",
      "\n",
      "Background Genghis Khan (born Temüjin; c. 1162 – August 25, 1227) was the founder and first Great Khan (Emperor) of the Mongol Empire, which became the largest contiguous ...\n",
      "The history of the Great Wall of China began when fortifications built by various states during the Spring and Autumn (771–476 BC) and Warring States ...\n",
      "\n",
      "---\n",
      "Claude Monet participated in the Renaissance.\n",
      "['Claude Monet -> 19th century \\nRenaissance -> 15th and 16th centuries\\n\\nCould the sentence be true based on the time periods alone: No']\n",
      "['\\n\\nEntities and dates:\\nClaude Monet -> 19th century\\nRenaissance -> 15th century\\n\\nCould the sentence be true based on the dates alone: No']\n",
      "\n",
      "Background Born. Oscar-Claude Monet. (1840-11-14)14 November 1840. Paris, France ; Died, 5 December 1926(1926-12-05) (aged 86). Giverny, France ; Nationality, French.\n",
      "The Renaissance is a period in European history marking the transition from the Middle Ages to modernity and covering the 15th and 16th centuries, ...\n",
      "\n",
      "---\n",
      "The first ever eggs Benedict was served to a cricket player.\n",
      "['Eggs Benedict -> late 19th century\\ncricket -> 18th century']\n",
      "['\\n\\nEntities and dates:\\nEggs Benedict -> 1894\\nCricket player -> 1787\\n\\nCould the sentence be true based on the dates alone: No']\n",
      "\n",
      "Background Eggs Benedict is a common American breakfast or brunch dish, consisting of two halves of an English muffin, each topped with Canadian bacon, a poached egg, ...\n",
      "Having originated in south-east England, it became an established sport in the country in the 18th century and developed globally in the 19th and 20th centuries ...\n",
      "\n",
      "---\n",
      "King Richard the Lionheart led the English armies in the Third Crusade.\n",
      "['King Richard the Lionheart -> 12th century\\nThird Crusade -> 12th century\\n\\nCould the sentence be true based on the time periods alone: Yes']\n",
      "['\\n\\nEntities and dates:\\nKing Richard the Lionheart -> 12th century\\nThird Crusade -> 13th century\\n\\nCould the sentence be true based on the dates alone: Yes']\n",
      "\n",
      "Background Richard I (8 September 1157 – 6 April 1199) was King of England from 1189 until his death in 1199. He also ruled as Duke of Normandy, Aquitaine and Gascony, ...\n",
      "English is a West Germanic language that originated from Ingvaeonic languages brought to Britain in the mid 5th to 7th centuries AD by Anglo-Saxon migrants ...\n",
      "Date, 11 May 1189 – 2 September 1192. Location. Levant, Sicily, Iberia and Anatolia. Result. Treaty of Jaffa. Crusader military victory, resulting in a three- ...\n",
      "\n",
      "---\n",
      "Elon Musk designed the Tesla Cybertruck to run on gasoline.\n",
      "['Elon Musk -> 1971\\nTesla Cybertruck -> 2023\\n\\nCould the sentence be true based on the time periods alone: Yes']\n",
      "['\\n\\nEntities and dates:\\nElon Musk -> 21st century\\nTesla Cybertruck -> 21st century\\n\\nCould the sentence be true based on the dates alone: Yes']\n",
      "\n",
      "Background Elon Reeve Musk FRS (/ˈiːlɒn/ EE-lon; born June 28, 1971) is a business magnate and investor. He is the founder, CEO, and Chief Engineer at SpaceX; ...\n",
      "In January 2022, the production was further delayed into early 2023 and then again to middle of 2023.\n",
      "Gasoline can enter the environment (uncombusted), both as liquid and as vapor, from leakage and handling during production, transport, and delivery (e.g., ...\n",
      "\n",
      "---\n",
      "The first ever eggs Benedict was served to an ultimate frisbee player.\n",
      "['Eggs Benedict -> late 19th century \\nultimate frisbee -> late 20th century\\n\\nCould the sentence be true based on the time periods alone: Yes']\n",
      "['\\n\\nEntities and dates:\\nEggs Benedict -> 1894\\nUltimate Frisbee -> 1968\\n\\nCould the sentence be true based on the dates alone: No']\n",
      "\n",
      "Background Eggs Benedict is a common American breakfast or brunch dish, consisting of two halves of an English muffin, each topped with Canadian bacon, a poached egg, ...\n",
      "Established sources indicate that the most likely origin of Ultimate probably rests with members of Columbia High School (CHS), Maplewood, NJ, ...\n",
      "\n",
      "---\n",
      "The senator patted his pet parakeet before signing the Affordable Care Act.\n",
      "['senator -> late 18th century\\nparakeet -> late 18th century\\nAffordable Care Act -> early 21st century\\n\\nCould the sentence be true based on the time periods alone: No']\n",
      "['\\n\\nEntities and dates:\\nThe senator -> 21st century\\nPatting -> 21st century\\nPet parakeet -> 21st century\\nSigning -> 21st century\\nAffordable Care Act -> 21st century\\n\\nCould the sentence be true based on the dates alone: Yes']\n",
      "\n",
      "Background The Senate and the Constitution. In 1787 the framers of the United States Constitution established in Article I the structure and powers of Congress.\n",
      "A parakeet is any one of many small to medium-sized species of parrot, in multiple genera, that generally has long tail feathers.\n",
      "The Affordable Care Act (ACA), formally known as the Patient Protection and Affordable Care Act, and colloquially known as Obamacare, is a landmark U.S. ...\n",
      "\n",
      "---\n",
      "Geneva has hosted 5G conferences for scientists, engineers, and tech professionals envisioning the future of 5G wireless technology.\n",
      "['Geneva -> before the Roman occupation\\n5G -> 2025\\nscience -> 3000 BCE\\nscrew -> Neo-Assyrian period']\n",
      "['\\n\\nEntities and dates:\\nGeneva -> 2nd century\\n5G -> 21st century\\n\\nCould the sentence be true based on the dates alone: Yes']\n",
      "\n",
      "Background The History of Geneva dates from before the Roman occupation in the second century BC. Now the principal French-speaking city of Switzerland, Geneva was an ...\n",
      "5G networks are predicted to have more than 1.7 billion subscribers and account for 25% of the worldwide mobile technology market by 2025, according to the GSM ...\n",
      "The earliest roots of science can be traced to Ancient Egypt and Mesopotamia in around 3000 to 1200 BCE. Their contributions to mathematics, astronomy, and ...\n",
      "The screw, the last of the simple machines to be invented, first appeared in Mesopotamia during the Neo-Assyrian period (911-609) BC.\n",
      "The Evolution of Technology · The Renaissance · The Industrial Age · The Information Age.\n",
      "\n",
      "---\n",
      "The pet dog was barking loudly at the triceratops grazing outside.\n",
      "['pet dog -> domestication predates agriculture\\ntriceratops -> late Cretaceous\\n\\nCould the sentence be true based on the time periods alone: No']\n",
      "['\\n\\nEntities and dates:\\nThe pet dog -> any time\\nThe triceratops -> late Cretaceous period\\n\\nCould the sentence be true based on the dates alone: No']\n",
      "\n",
      "Background The domestication of the dog predates agriculture, and it was not until 11,000 years ago in the Holocene era that people living in the Near East entered into ...\n",
      "Triceratops is a genus of herbivorous chasmosaurine ceratopsid dinosaur that first appeared during the late Maastrichtian stage of the Late Cretaceous ...\n",
      "\n",
      "---\n",
      "The Hagia Sophia has seen drastic transformations to its interior from its inception, including becoming a church, a mosque, a museum, and back to a mosque again. \n",
      "['Hagia Sophia -> 537 \\n15th century -> early 20th century\\n\\nCould the sentence be true based on the time periods alone: Yes']\n",
      "['\\n\\nEntities and dates:\\nHagia Sophia -> 6th century\\n\\nCould the sentence be true based on the dates alone: Yes']\n",
      "\n",
      "Background Hagia Sophia was built in 537, with minarets added in the 15th–16th centuries when it became a mosque. Hagia Sophia is located in Istanbul Fatih. Hagia Sophia.\n",
      "In prophetic history, it falls between the 69th and 70th weeks of Daniel (Daniel 9:24-27; Romans 11). Jesus predicted the Church Age in Matthew ...\n",
      "Origins. According to Islamic scholars and history, Islam was established in Arabia during the lifetime of Muhammad in the 7th century CE, and so did ...\n",
      "A period of intense museum building, in both an intellectual and physical sense was realized in the late 19th and early 20th centuries (this is often called \" ...\n",
      "\n",
      "---\n",
      "Abraham Lincoln and Manny Pacquiao kept a regular correspondence.\n",
      "['Abraham Lincoln -> 1860s \\nManny Pacquiao -> 2010s\\n\\nCould the sentence be true based on the time periods alone: No']\n",
      "['\\n\\nEntities and dates:\\nAbraham Lincoln -> 19th century\\nManny Pacquiao -> 21st century\\n\\nCould the sentence be true based on the dates alone: No']\n",
      "\n",
      "Background Abraham Lincoln · March 4, 1861 – April 15, 1865 · March 4, 1847 – March 3, 1849 · December 1, 1834 – December 4, 1842.\n",
      "In July 2019, Pacquiao became the oldest welterweight world champion in history at the age of 40, and the first boxer in history to become a recognized four- ...\n",
      "\n",
      "---\n",
      "The scientist used his cell phone to take a picture of the freshly built Challenger shuttle.\n",
      "['scientist -> 3000 BCE\\ncell phone -> mid 1980s\\nChallenger shuttle -> 1983-1985\\n\\nCould the sentence be true based on the time periods alone: No']\n",
      "['\\n\\nEntities and dates:\\nThe scientist -> 20th century\\nCell phone -> 21st century\\nChallenger shuttle -> 20th century\\n\\nCould the sentence be true based on the dates alone: No']\n",
      "\n",
      "Background The earliest roots of science can be traced to Ancient Egypt and Mesopotamia in around 3000 to 1200 BCE. Their contributions to mathematics, astronomy, and ...\n",
      "Enabling technology for mobile phones was first developed in the 1940s but it was not until the mid 1980s that they became widely available.\n",
      "Even when the orbiters Discovery and Atlantis joined the fleet, Challenger flew three missions a year from 1983 to 1985.\n",
      "\n",
      "---\n",
      "The pioneers of capoeira recorded their techniques on VCR.\n",
      "['capoeira -> 16th century \\nVCR -> 20th century\\n\\nCould the sentence be true based on the time periods alone: Yes']\n",
      "['\\n\\nEntities and dates:\\nCapoeira -> 16th century\\nVCR -> 20th century\\n\\nCould the sentence be true based on the dates alone: No']\n",
      "\n",
      "Background In 1860, the pioneers of the fledgling movement settled on the name, Seventh-day Adventist, representative of the church's distinguishing beliefs. Three years ...\n",
      "Born of the melting pot of enslaved Africans, Indigenous Brazilians and Portuguese influences (Christianity etc.) at the beginning of the 16th century, Capoeira ...\n",
      "A videocassette recorder (VCR) or video recorder is an electromechanical device that records analog audio and analog video from broadcast television or ...\n",
      "\n",
      "---\n",
      "Abraham Lincoln helped slaves escape via the Underground Railroad.\n",
      "['Abraham Lincoln -> 19th century\\nUnderground Railroad -> 19th century\\n\\nCould the sentence be true based on the time periods alone: Yes']\n",
      "['\\n\\nEntities and dates:\\nAbraham Lincoln -> 1860s \\nUnderground Railroad -> 1850s\\n\\nCould the sentence be true based on the dates alone: Yes']\n",
      "\n",
      "Background Abraham Lincoln · March 4, 1861 – April 15, 1865 · March 4, 1847 – March 3, 1849 · December 1, 1834 – December 4, 1842.\n",
      "Throughout the Middle Ages, (defined by historians as a three-part time period between 500 AD and 1500 AD) the practice of slavery changed ...\n",
      "The earliest mention of the Underground Railroad came in 1831 when enslaved man Tice Davids escaped from Kentucky into Ohio and his owner blamed ...\n",
      "\n",
      "---\n",
      "Plato thought Hume was an absolute idiot.\n",
      "['Plato -> 428/427 BCE\\nHume -> 1711-1776\\n\\nCould the sentence be true based on the time periods alone: No']\n",
      "['\\n\\nEntities and dates:\\nPlato -> 4th century BCE\\nHume -> 18th century\\n\\nCould the sentence be true based on the dates alone: No']\n",
      "\n",
      "Background Plato was born in 428/427 BCE to a noble family and died in 348/347 BCE. He lived primarily in Athens, Greece. Plato's birth occurred near the ...\n",
      "Born: May 7, 1711 Edinburgh Scotland ; Died: August 25, 1776 (aged 65) Edinburgh Scotland ; Subjects Of Study: belief history of United Kingdom ...\n",
      "\n",
      "---\n",
      "Luciano Pavarotti wrote the opera \"The Marriage of Figaro\".\n",
      "['Luciano Pavarotti -> 20th century\\nThe Marriage of Figaro -> 18th century\\n\\nCould the sentence be true based on the time periods alone: Yes']\n",
      "['\\n\\nEntities and dates:\\nLuciano Pavarotti -> 20th century\\nThe Marriage of Figaro -> 18th century\\n\\nCould the sentence be true based on the dates alone: No']\n",
      "\n",
      "Background Born: October 12, 1935 Modena Italy ; Died: September 6, 2007 (aged 71) Modena Italy ; Awards And Honors: Grammy Award (1990) Grammy Award (1988) ...\n",
      "It premiered at the Burgtheater in Vienna on 1 May 1786. The opera's libretto is based on the 1784 stage comedy by Pierre Beaumarchais, La folle journée, ou le ...\n",
      "\n",
      "---\n",
      "Otto von Bismarck was a fan of fried rice.\n",
      "['Otto von Bismarck -> 19th century\\nFried rice -> late 19th century\\n\\nCould the sentence be true based on the time periods alone: Yes']\n",
      "['\\n\\nEntities and dates:\\nOtto von Bismarck -> 19th century\\nFried rice -> 2nd century BC\\n\\nCould the sentence be true based on the dates alone: No']\n",
      "\n",
      "Background Otto von Bismarck (1815-1898)—also known as the “Iron Chancellor”—was Chancellor of the newly-united German Empire from 1862 to 1890.\n",
      "An estimated 30,000 people of Chinese origin live in the Dominican Republic. Migration from China began in the second half of the 19th century. Fried rice ...\n",
      "\n",
      "---\n",
      "Claude Monet participated in the impressionist art movement.\n",
      "['Claude Monet -> 1867-1886\\n\\nCould the sentence be true based on the time periods alone: Yes']\n",
      "['\\n\\nEntities and dates:\\nClaude Monet -> 19th century\\nImpressionist art movement -> late 19th century\\n\\nCould the sentence be true based on the dates alone: Yes']\n",
      "\n",
      "Background Born. Oscar-Claude Monet. (1840-11-14)14 November 1840. Paris, France ; Died, 5 December 1926(1926-12-05) (aged 86). Giverny, France ; Nationality, French.\n",
      "Impressionist painting comprises the work produced between about 1867 and 1886 by a group of artists who shared a set of related approaches and techniques.\n",
      "\n",
      "---\n",
      "President George W. Bush called his generals to the Oval Office at the outset of the Gulf War.\n",
      "['George W. Bush -> 43rd President of the United States\\nOval Office -> December 24, 1929\\nGulf War -> 1990-1991\\n\\nCould the sentence be true based on the time periods alone: No']\n",
      "['\\n\\nEntities and dates:\\nPresident George W. Bush -> 20th century\\nOval Office -> 20th century\\nGulf War -> 20th century\\n\\nCould the sentence be true based on the dates alone: Yes']\n",
      "\n",
      "Background George W. Bush is the 43rd President of the United States. He was sworn into office on January 20, 2001, re-elected on November 2, 2004, and sworn in for a ...\n",
      "It can also be described as, \"the average period, generally considered to be about 20–⁠30 years, during which children are born and grow up, become adults, and ...\n",
      "Taft Oval Office: 1909–1933Edit ; President William Howard Taft ; On December 24, 1929, during the first year of President Herbert Hoover ...\n",
      "Persian Gulf War, also called Gulf War, (1990–91), international conflict that was triggered by Iraq's invasion of Kuwait on August 2, 1990.\n",
      "\n",
      "---\n",
      "William Shakespeare collaborated with John Fletcher to write Two Noble Kinsmen.\n",
      "['William Shakespeare -> 1589 - 1613\\nJohn Fletcher -> 1579 - 1625\\nTwo Noble Kinsmen -> 1634\\n\\nCould the sentence be true based on the time periods alone: Yes']\n",
      "['\\n\\nEntities and dates:\\nWilliam Shakespeare -> 16th century\\nJohn Fletcher -> 17th century\\n\\nCould the sentence be true based on the dates alone: No']\n",
      "\n",
      "Background Shakespeare produced most of his known works between 1589 and 1613. ... His early plays were primarily comedies and histories and are regarded as some of the best ...\n",
      "John Fletcher ; Baptized: December 20, 1579 ; Died: August 29, 1625 London England ; Movement / Style: Jacobean age\n",
      "The Two Noble Kinsmen is a Jacobean tragicomedy, first published in 1634 and attributed jointly to John Fletcher and William Shakespeare.\n",
      "\n",
      "---\n",
      "Richard III used LEDs to light his throne room.\n",
      "['Richard III -> 15th century \\nLEDs -> late 20th century\\n\\nCould the sentence be true based on the time periods alone: No']\n",
      "['\\n\\nEntities and dates:\\nRichard III -> 15th century\\nLEDs -> 21st century\\n\\nCould the sentence be true based on the dates alone: No']\n",
      "\n",
      "Background Richard III of England ; Reign, 26 June 1483 – 22 August 1485 ; Coronation, 6 July 1483 ; Predecessor, Edward V ; Successor, Henry VII ; Born, 2 October 1452\n",
      "A light-emitting diode (LED) is a semiconductor light source that emits light when current flows through it. Electrons in the semiconductor recombine with ...\n",
      "\n",
      "---\n",
      "Early bluegrass was inspired by Cold War politics.\n",
      "['Early bluegrass -> 1940s \\nCold War politics -> 1945\\n\\nCould the sentence be true based on the time periods alone: Yes']\n",
      "['\\n\\nEntities and dates:\\nEarly bluegrass -> Early 20th century\\nCold War politics -> Late 20th century\\n\\nCould the sentence be true based on the dates alone: Yes']\n",
      "\n",
      "Background Bluegrass music is a genre of American roots music that developed in the 1940s in the Appalachian region of the United States. The genre derives its name ...\n",
      "The first phase of the Cold War began shortly after the end of World War II in 1945. The United States and its allies created the NATO military alliance in ...\n",
      "(384–322 BC). Aristotle was one of the first people to give a working definition of political science.\n",
      "\n",
      "---\n",
      "Caesar Octavian Augustus was the first emperor of the Julio-Claudian Dynasty.\n",
      "['Caesar Augustus -> 27 BC\\nJulio-Claudian Dynasty -> 27 BC\\n\\nCould the sentence be true based on the time periods alone: Yes']\n",
      "['\\n\\nEntities and dates:\\nCaesar Octavian Augustus -> 1st century BC\\nJulio-Claudian Dynasty -> 1st century AD\\n\\nCould the sentence be true based on the dates alone: No']\n",
      "\n",
      "Background Caesar Augustus (23 September 63 BC – 19 August AD 14), also known as Octavian, was officially the first Roman emperor who reigned from 27 BC until his ...\n",
      "This line of emperors ruled the Roman Empire, from its formation (under Augustus, in 27 BC) until the last of the line, emperor Nero, committed suicide (in 68 ...\n",
      "\n",
      "---\n",
      "While the Boxer Rebellion was raging in China, Alexander the Great's forces were charging through parts of the Middle East.\n",
      "['Boxer Rebellion -> 1900 \\nAlexander the Great -> 4th century BC\\n\\nCould the sentence be true based on the time periods alone: No']\n",
      "['\\n\\nEntities and dates:\\nBoxer Rebellion -> late 19th century\\nAlexander the Great -> 4th century BC\\n\\nCould the sentence be true based on the dates alone: No']\n",
      "\n",
      "Background Boxer Rebellion, officially supported peasant uprising of 1900 that attempted to drive all foreigners from China. “Boxers” was a name that ...\n",
      "The earliest known written records of the history of China date from as early as 1250 BC, from the Shang dynasty (c. 1600–1046 BC), during the reign of king ...\n",
      "One of the world's greatest military generals, he created a vast empire that stretched from Macedonia to Egypt and from Greece to part of India ...\n",
      "\n",
      "---\n",
      "Socrates was executed via lethal injection.\n",
      "['Socrates -> 5th century BC\\nlethal injection -> late 20th century\\n\\nCould the sentence be true based on the time periods alone: No']\n",
      "['\\n\\nEntities and dates:\\nSocrates -> 4th century BC\\nlethal injection -> late 20th century\\n\\nCould the sentence be true based on the dates alone: No']\n",
      "\n",
      "Background Socrates was born in 470 or 469 BC to Sophroniscus and Phaenarete, a stoneworker and a midwife, respectively, in the Athenian deme of Alopece; therefore, he ...\n",
      "Lethal injection is the practice of injecting one or more drugs into a person for the express purpose of causing rapid death. The main application for this ...\n",
      "\n",
      "---\n",
      "Prime Minister David Lloyd George said to his cabinet ministers: \"I'm beginning to understand that this war might be a more prolonged effort than we originally thought.\"\n",
      "['David Lloyd George -> late 19th century / early 20th century\\nwar -> 20th century\\n\\nCould the sentence be true based on the time periods alone: Yes']\n",
      "['\\n\\nEntities and dates:\\nPrime Minister David Lloyd George -> 20th century\\nCabinet Ministers -> 20th century\\n\\nCould the sentence be true based on the dates alone: Yes']\n",
      "\n",
      "Background Lloyd George entered Parliament in 1890, winning a by-election at Caernarvon Boroughs, the seat he retained for 55 years. He soon made a name ...\n",
      "The cabinet developed from the Privy Council in the 17th and early 18th centuries ... The Cabinet is the committee of ministers that holds executive power.\n",
      "Generation Z Characteristics. Gen Z, also known as iGen, Centennials, etc., starts with those born in approximately 1996. The oldest members of this generation ...\n",
      "In the history of the 20th century, the interwar period lasted from 11 November 1918 to 1 September 1939 (20 years, 9 months, 21 days), the end of the First ...\n",
      "\n",
      "---\n",
      "President Syngman Rhee sent a letter commending Hugo Chavez's birthday.\n",
      "['Syngman Rhee -> 1948 to 1960\\nHugo Chavez -> 1954 to 2013\\n\\nCould the sentence be true based on the time periods alone: Yes']\n",
      "['\\n\\nEntities and dates:\\nPresident Syngman Rhee -> 20th century\\nHugo Chavez -> 21st century\\n\\nCould the sentence be true based on the dates alone: No']\n",
      "\n",
      "Background Syngman Rhee was a South Korean politician who served as the first president of South Korea from 1948 to 1960. His Excellency. Syngman Rhee. 이승만 李承晩.\n",
      "Hugo Chávez ; Born: July 28, 1954 Venezuela ; Died: March 5, 2013 (aged 58) Caracas Venezuela ; Title / Office: president (1999-2013), Venezuela\n",
      "\n",
      "---\n",
      "As a collector of art, Louis XVI bought several Ansel Adams prints on auction to display in his palace.\n",
      "[\"Louis XVI -> 18th century\\nAnsel Adams -> 20th century\\nauction houses -> 18th century\\nBaku Khans' Palace -> 17th century\\n\\nCould the sentence be true based on the time periods alone: No\"]\n",
      "['\\n\\nEntities and dates:\\nLouis XVI -> 18th century\\nAnsel Adams -> 20th century\\n\\nCould the sentence be true based on the dates alone: No']\n",
      "\n",
      "Background Reign, 10 May 1774 – 21 September 1792 ; Coronation, 11 June 1775. Reims Cathedral ; Predecessor, Louis XV ; Successor, Louis XVII (as disputed King of France)\n",
      "Born. Ansel Easton Adams. (1902-02-20)February 20, 1902. San Francisco, California, U.S. ; Died, April 22, 1984(1984-04-22) (aged 82). Monterey, California, U.S..\n",
      "Evolution to Modern Day Auctions​​ Early auction houses were created in the 18th century. Sotheby's was created in 1744 and Christie's was created in 1766. Early ...\n",
      "Baku Khans' Palace is a complex of several houses belonged to members of ruling family of Baku Khanate in 17th century.\n",
      "\n",
      "---\n",
      "Prime Minister David Lloyd George said to his cabinet ministers: \"I'm beginning to understand that World War I might be a more prolonged effort than we originally thought.\"\n",
      "['David Lloyd George -> late 19th century \\nWorld War I -> early 20th century\\n\\nCould the sentence be true based on the time periods alone: Yes']\n",
      "['\\n\\nEntities and dates:\\nDavid Lloyd George -> 20th century\\nWorld War I -> 20th century\\n\\nCould the sentence be true based on the dates alone: Yes']\n",
      "\n",
      "Background Lloyd George entered Parliament in 1890, winning a by-election at Caernarvon Boroughs, the seat he retained for 55 years. He soon made a name ...\n",
      "The cabinet developed from the Privy Council in the 17th and early 18th centuries ... The Cabinet is the committee of ministers that holds executive power.\n",
      "World War I began in 1914, after the assassination of Archduke Franz Ferdinand, and lasted until 1918. During the conflict, Germany, Austria-Hungary, ...\n",
      "\n",
      "---\n",
      "William the Conqueror enjoyed martinis with his meals.\n",
      "['William the Conqueror -> 11th century \\nmartinis -> 19th century\\n\\nCould the sentence be true based on the time periods alone: No']\n",
      "['\\n\\nEntities and dates:\\nWilliam the Conqueror -> 11th century\\nmartinis -> 19th century\\n\\nCould the sentence be true based on the dates alone: No']\n",
      "\n",
      "Background William I (c. 1028 – 9 September 1087), usually known as William the Conqueror and sometimes William the Bastard, was the first Norman king of England, ...\n",
      "One prevalent theory points to the town of Martinez, California, where historians and town inhabitants alike claim the drink was invented during ...\n",
      "\n",
      "---\n",
      "As a collector of art, Nicolas Maduro bought several Ansel Adams prints on auction to display in his palace.\n",
      "[\"Ansel Adams -> 20th century \\nNicolas Maduro -> 21st century\\nBaku Khans' Palace -> 17th century\\n\\nCould the sentence be true based on the time periods alone: Yes\"]\n",
      "['\\n\\nEntities and dates:\\nNicolas Maduro -> 21st century\\nAnsel Adams -> 20th century\\n\\nCould the sentence be true based on the dates alone: Yes']\n",
      "\n",
      "Background Created by writer Stan Lee and artist Don Heck, the character first appeared in The Avengers #28 (May 1966), during the Silver Age of Comic Books, and has been ...\n",
      "The history of art is often told as a chronology of masterpieces created during each civilization. It can thus be framed as a story of high culture, ...\n",
      "Nicolás Maduro Moros was born on 23 November 1962 in Caracas, Venezuela, into a working-class family. · Maduro was raised as a Roman Catholic. · Maduro has been ...\n",
      "Born. Ansel Easton Adams. (1902-02-20)February 20, 1902. San Francisco, California, U.S. ; Died, April 22, 1984(1984-04-22) (aged 82). Monterey, California, U.S..\n",
      "Evolution to Modern Day Auctions​​ Early auction houses were created in the 18th century. Sotheby's was created in 1744 and Christie's was created in 1766. Early ...\n",
      "Baku Khans' Palace is a complex of several houses belonged to members of ruling family of Baku Khanate in 17th century.\n",
      "\n",
      "---\n",
      "Kurt Cobain starred in the 1980 television show \"Twin Peaks\".\n",
      "['Kurt Cobain -> 1967-1994\\ntelevision -> 1927\\nTwin Peaks -> 1990\\n\\nCould the sentence be true based on the time periods alone: No']\n",
      "['\\n\\nEntities and dates:\\nKurt Cobain -> 20th century\\nTelevision show \"Twin Peaks\" -> 20th century\\n\\nCould the sentence be true based on the dates alone: Yes']\n",
      "\n",
      "Background Kurt Donald Cobain (February 20, 1967 – c. April 5, 1994) was an American musician, ... Cobain formed Nirvana with Krist Novoselic and Aaron Burckhard in 1987 ...\n",
      "Electronic television was first successfully demonstrated in San Francisco on Sept. 7, 1927. The system was designed by Philo Taylor Farnsworth, a 21-year-old ...\n",
      "Twin Peaks is an American mystery serial drama television series created by Mark Frost and David Lynch. It premiered on ABC on April 8, 1990, and originally ...\n",
      "\n",
      "---\n",
      "During the Allied bombardment of the beaches of Iwo Jima, Ralph spoke loudly into his radio.\n",
      "['Iwo Jima -> WWII\\nRalph -> 20th century']\n",
      "['\\n\\nEntities and dates:\\nIwo Jima -> 1945\\nRalph -> 1945\\n\\nCould the sentence be true based on the dates alone: Yes']\n",
      "\n",
      "Background In World War II the chief Allied powers were Great Britain, France (except during the German occupation, 1940–44), the Soviet Union (after its entry in June ...\n",
      "The island was the location of the Battle of Iwo Jima between February 1945 and March 1945. This engagement saw some of the fiercest fighting of the Pacific War ...\n",
      "Ralph Lauren, KBE is an American fashion designer, philanthropist, and billionaire ... Born. Ralph Lifshitz. (1939-10-14) October 14, 1939 (age 82).\n",
      "\n",
      "---\n",
      "The recognition of Christianity as the official religion of both Ethiopia and the Roman Empire within the same decade is notable.\n",
      "['Ethiopia -> 6th century BC\\nRoman Empire -> 6th century BC\\n\\nCould the sentence be true based on the time periods alone: Yes']\n",
      "['\\n\\nEntities and dates:\\n\\nChristianity -> 4th century\\nEthiopia -> 4th century\\nRoman Empire -> 4th century\\n\\nCould the sentence be true based on the dates alone: Yes']\n",
      "\n",
      "Background Early Christianity is generally reckoned by church historians to begin with the ministry of Jesus ( c. 27–30) and end with the First Council of Nicaea (325). ...\n",
      "In 1935, Ethiopia was occupied by Fascist Italy and annexed with Italian-possessed Eritrea and Somaliland, later forming Italian East Africa. In 1941, during ...\n",
      "Transition from Republic to Empire​​ Rome had begun expanding shortly after the founding of the republic in the 6th century BC, though it did not expand outside ...\n",
      "\n",
      "---\n",
      "Eleanor of Toledo, Duchess of Florence, showed off her Medici status with her lavish dress, strands of pearls, gold, and jewels such as diamonds, rubies, and emerald in her state portrait.\n",
      "['Eleanor of Toledo -> 16th century \\nDuchess of Florence -> 16th century\\nMedici -> 16th century\\nTuscany -> 16th century \\npearls -> 3,000 to 400 BC\\ngold -> 640 BC\\nruby -> 3,000 to 400 BC\\nemerald -> 3,000 to 400 BC\\n\\nCould the sentence be true based on the time periods alone: Yes']\n",
      "['\\n\\nEntities and dates:\\nEleanor of Toledo -> 16th century\\nDuchess of Florence -> 16th century\\nMedici status -> 16th century\\n\\nCould the sentence be true based on the dates alone: Yes']\n",
      "\n",
      "Background Tenure, 29 March 1539 – 17 December 1562 ; Born, 11 January 1522. Alba de Tormes, Spain ; Died, 17 December 1562 (aged 40) Pisa, Duchy of Florence ; Burial. Medici ...\n",
      "The Grand Duchy of Tuscany was an Italian monarchy that existed, with interruptions, from 1569 to 1859, replacing the Republic of Florence.\n",
      "Medici family, French Médicis, Italian bourgeois family that ruled Florence and, later, Tuscany during most of the period from 1434 to 1737, ...\n",
      "Textile history is almost as old as human civilization, and as time has passed, the history of textile has been more enriched. Silk weaving was introduced ...\n",
      "This limits the number of pearls at a harvest period. The pearls are usually harvested after one year for akoya, 2–4 years for Tahitian and South Sea, and 2–7 ...\n",
      "The minting of gold coins began around 640 BC in the Kingdom of Lydia (situated in what is now modern Turkey) using electrum, a native alloy of gold and silver.\n",
      "The earliest traces of jewelry can be traced to the civilizations that bloomed in the Mediterranean and what is now called Iran around 3,000 to 400 BC. These ...\n",
      "These search terms appear in the result: time, does, diamonds, and belong. Terms related to your search appear in the result: diamond and formed. Other websites with your search terms link to this result. The result is in English. This result seems relevant for searches from many regions, including the United States.\n",
      "Ruby is the traditional birthstone for July and is usually pinker than garnet, although some rhodolite garnets have a similar pinkish hue to most rubies. The ...\n",
      "Emerald is a gemstone and a variety of the mineral beryl (Be3Al2(SiO3)6) colored green by trace amounts of chromium or sometimes vanadium.\n",
      "\n",
      "---\n",
      "Eric the Red is credited with establishing the first nuclear fallout shelters in Greenland.\n",
      "['Eric the Red -> 10th century \\nGreenland -> 10th century\\nnuclear fallout shelters -> 1940s']\n",
      "['\\n\\nEntities and dates:\\nEric the Red -> 10th century\\nNuclear Fallout Shelters -> 20th century\\n\\nCould the sentence be true based on the dates alone: No']\n",
      "\n",
      "Background Erik Thorvaldsson ( c. 950 – c. 1003), known as Erik the Red, was a Norse explorer, described in medieval and Icelandic saga sources as having founded the ...\n",
      "The earliest known cultures in Greenland are the Saqqaq culture (2500–800 BC) and the Independence I culture in northern Greenland (2400–1300 BC). The ...\n",
      "It all started in Japan in the 1940s, in the immediate aftermath of the atomic attacks on Hiroshima and Nagasaki, when images of hibakusha ( ...\n",
      "\n",
      "---\n",
      "Igor Stravinsky's favorite musical piece was the Symphonie Fantastique.\n",
      "['Igor Stravinsky -> 1882\\nSymphonie Fantastique -> 1830\\n\\nCould the sentence be true based on the time periods alone: No']\n",
      "['\\n\\nEntities and dates:\\nIgor Stravinsky -> 20th century\\nSymphonie Fantastique -> 19th century\\n\\nCould the sentence be true based on the dates alone: Yes']\n",
      "\n",
      "Background Stravinsky was born on 17 June 1882 in the town of · On 10 August 1882, Stravinsky was baptised at · Stravinsky took to music at an early age and began regular ...\n",
      "It is an important piece of the early Romantic period. The first performance was at the Paris Conservatoire on 5 December 1830. Franz Liszt made a piano ...\n",
      "\n",
      "---\n",
      "Joan of Arc achieved martyrdom by defeating a champion of the Aztec Empire in single combat.\n",
      "['Joan of Arc -> 14th century\\nAztec Empire -> 15th century\\n\\nCould the sentence be true based on the time periods alone: No']\n",
      "['\\n\\nEntities and dates:\\nJoan of Arc -> 15th century\\nAztec Empire -> 16th century\\n\\nCould the sentence be true based on the dates alone: No']\n",
      "\n",
      "Background She was born during the Hundred Years' War between England and France, that had begun in 1337 over the status of English territories in France and English ...\n",
      "The Aztecs were a Mesoamerican culture that flourished in central Mexico in the post-classic period from 1300 to 1521. The Aztec people included different ...\n",
      "\n",
      "---\n",
      "Thomas Jefferson enjoyed watermelons on summer afternoons.\n",
      "['Thomas Jefferson -> 1743-1826\\nWatermelons -> 2000 BC\\n\\nCould the sentence be true based on the time periods alone: Yes']\n",
      "['\\n\\nEntities and dates:\\nThomas Jefferson -> 18th century\\nWatermelons -> 18th century\\n\\nCould the sentence be true based on the dates alone: Yes']\n",
      "\n",
      "Background Thomas Jefferson (April 13, 1743 – July 4, 1826) was an American statesman, diplomat, ... The same year, Jefferson signed the Act Prohibiting Importation of Slaves ...\n",
      "Watermelons were domesticated in north-east Africa, and cultivated in Egypt by 2000 BC, although they were not the sweet modern variety. Sweet dessert ...\n",
      "\n",
      "---\n",
      "Ancient Greek philosophers loved to swim in their spare time.\n",
      "['Ancient Greek philosophers -> 6th century BCE\\n\\nCould the sentence be true based on the time periods alone: Yes']\n",
      "['\\n\\nEntities and dates:\\nAncient Greek philosophers -> 6th-4th century BCE\\n\\nCould the sentence be true based on the dates alone: Yes']\n",
      "\n",
      "Background Ancient Greek philosophy is a system of thought, first developed in the 6th century BCE, which was informed by a focus on the First Cause of ...\n",
      "\n",
      "---\n",
      "Nikola Tesla designed the Tesla Cybertruck to run on electricity.\n",
      "['Nikola Tesla -> 1856\\nTesla Cybertruck -> 2023\\n\\nCould the sentence be true based on the time periods alone: Yes']\n",
      "['\\n\\nEntities and dates:\\nNikola Tesla -> Late 19th century\\nTesla Cybertruck -> 21st century\\n\\nCould the sentence be true based on the dates alone: No']\n",
      "\n",
      "Background Nikola Tesla, (born July 9/10, 1856, Smiljan, Austrian Empire [now in ... The Tesla coil, which he invented in 1891, is widely used today in ...\n",
      "In January 2022, the production was further delayed into early 2023 and then again to middle of 2023.\n",
      "The turning point of the electric age came a few years later with the development of AC (alternating current) power systems. Croatian- born scientist, Nikola ...\n",
      "\n",
      "---\n",
      "King Richard the Lionheart led the English armies in the First Crusade.\n",
      "['Richard the Lionheart -> 12th century\\nFirst Crusade -> 11th century\\n\\nCould the sentence be true based on the time periods alone: No']\n",
      "['\\n\\nEntities and dates:\\nKing Richard the Lionheart -> 12th century\\nFirst Crusade -> 11th century\\n\\nCould the sentence be true based on the dates alone: No']\n",
      "\n",
      "Background Richard I (8 September 1157 – 6 April 1199) was King of England from 1189 until his death in 1199. He also ruled as Duke of Normandy, Aquitaine and Gascony, ...\n",
      "English is a West Germanic language that originated from Ingvaeonic languages brought to Britain in the mid 5th to 7th centuries AD by Anglo-Saxon migrants ...\n",
      "The earliest initiative for the First Crusade began in 1095 when Byzantine emperor Alexios I Komnenos requested military support from the Council of Piacenza in ...\n",
      "\n",
      "---\n",
      "Squanto's role as a laundromat may have been essential in the provisions for the first Thanksgiving.\n",
      "['Squanto -> 16th century\\nlaundromat -> early 1900s\\nFirst Thanksgiving -> 1621']\n",
      "['\\n\\nEntities and dates:\\nSquanto -> 16th century\\nFirst Thanksgiving -> 17th century\\n\\nCould the sentence be true based on the dates alone: No']\n",
      "\n",
      "Background Squanto was born circa 1580 near Plymouth, Massachusetts. Little is known about his early life. In 1614, he was kidnapped by English ...\n",
      "Launderers have been around for centuries and electric washers were invented in the early 1900s, but the first modern laundromat dates back ...\n",
      "The event that Americans commonly call the \"First Thanksgiving\" was celebrated by the Pilgrims after their first harvest in the New World in October 1621.\n",
      "\n",
      "---\n",
      "Ravi Shankar's two favorite musicians were Bessie Smith and Shakira.\n",
      "['Ravi Shankar -> 20th century\\nBessie Smith -> 20th century\\nShakira -> 20th century\\n\\nCould the sentence be true based on the time periods alone: Yes']\n",
      "['\\n\\nRavi Shankar -> 20th century\\nBessie Smith -> 20th century\\nShakira -> 21st century\\n\\nCould the sentence be true based on the dates alone: Yes']\n",
      "\n",
      "Background In 1956, Shankar began to tour Europe and the Americas playing Indian classical music and increased its popularity there in the 1960s through teaching, ...\n",
      "How did Bessie Smith become famous? ; Born: April 15, 1894? Chattanooga ; Died: September 26, 1937 Clarksdale ; Awards And Honors: Grammy Award ...\n",
      "She made her recording debut with Sony Music Colombia at the age of 13. Following the commercial failure of her first two albums, Magia (1991) and Peligro (1993) ...\n",
      "\n",
      "---\n",
      "William Shakespeare collaborated with Sappho to write epic love musicals.\n",
      "['Shakespeare -> 16th century\\nSappho -> 7th century BCE\\nmusical theatre -> 19th century']\n",
      "['\\n\\nEntities and dates:\\nWilliam Shakespeare -> 16th century\\nSappho -> 7th century BCE\\n\\nCould the sentence be true based on the dates alone: No']\n",
      "\n",
      "Background Shakespeare produced most of his known works between 1589 and 1613. ... His early plays were primarily comedies and histories and are regarded as some of the best ...\n",
      "It is not known how her poems were published and circulated in her own lifetime and for the following three or four centuries. In the era of ...\n",
      "Thus, each period in history offers a prevailing concept of love: in ancient, pre-Socratic times, we have Empedocles' Love (Philotes) and Strife (Neikos); in ...\n",
      "Although music has been a part of dramatic presentations since ancient times, modern Western musical theatre emerged during the 19th century, with many ...\n",
      "\n",
      "---\n",
      "Alexander the Great received tutelage from Seneca the Younger, a respected philosopher.\n",
      "['Alexander the Great -> 4th century BC\\nSeneca the Younger -> 1st century AD\\n\\nCould the sentence be true based on the time periods alone: No']\n",
      "['\\n\\nEntities and dates:\\nAlexander the Great -> 4th century BC\\nSeneca the Younger -> 1st century AD\\n\\nCould the sentence be true based on the dates alone: No']\n",
      "\n",
      "Background One of the world's greatest military generals, he created a vast empire that stretched from Macedonia to Egypt and from Greece to part of India ...\n",
      "Seneca the Younger ; Seneca the Younger ; Born, c. 4 BC. Córdoba, Hispania Baetica (present-day Spain) ; Died, AD 65 (aged 68–69). Rome ; Nationality, Roman ; Other ...\n",
      "The separation of philosophy and science from theology began in Greece during the 6th century BC. Thales, an astronomer and mathematician, was considered by ...\n",
      "\n",
      "---\n",
      "Eleanor of Toledo, Duchess of Florence, showed off her Medici status with Alexandrite jewels in her state portrait.\n",
      "['Eleanor of Toledo, Duchess of Florence -> 16th century\\nAlexandrite jewels -> 19th century\\n\\nCould the sentence be true based on the time periods alone: No']\n",
      "['\\n\\nEntities and dates:\\nEleanor of Toledo -> 16th century\\nDuchess of Florence -> 16th century\\nAlexandrite jewels -> 19th century\\n\\nCould the sentence be true based on the dates alone: No']\n",
      "\n",
      "Background Tenure, 29 March 1539 – 17 December 1562 ; Born, 11 January 1522. Alba de Tormes, Spain ; Died, 17 December 1562 (aged 40) Pisa, Duchy of Florence ; Burial. Medici ...\n",
      "The Grand Duchy of Tuscany was an Italian monarchy that existed, with interruptions, from 1569 to 1859, replacing the Republic of Florence.\n",
      "Alexandrite is an elegant gemstone for anybody who wants to feel like royalty. Those born in the month of June are graced with an alexandrite ...\n",
      "\n",
      "---\n",
      "President Woodrow Wilson rallied Americans to support the U.S. joining the International Atomic Energy Agency.\n",
      "['Woodrow Wilson -> Progressive Movement\\nU.S. -> around 15,000 BC\\nIAEA -> 1957\\n\\nCould the sentence be true based on the time periods alone: No']\n",
      "['\\n\\nEntities and dates:\\nPresident Woodrow Wilson -> 20th century\\nInternational Atomic Energy Agency -> 1957\\n\\nCould the sentence be true based on the dates alone: No']\n",
      "\n",
      "Background Woodrow Wilson, a leader of the Progressive Movement, was the 28th President of the United States (1913-1921). After a policy of neutrality at the outbreak ...\n",
      "The history of the lands that became the United States began with the arrival of the first people in the Americas around 15,000 BC.\n",
      "The history of the lands that became the United States began with the arrival of the first people in the Americas around 15,000 BC.\n",
      "The IAEA was created in 1957 in response to the deep fears and expectations generated by the discoveries and diverse uses of nuclear technology.\n",
      "\n",
      "---\n",
      "Melinda and Bill Gates announced their divorce in 1805, after 270 years of marriage.\n",
      "['Melinda Gates -> 1964\\nBill Gates -> 1955\\n1805 -> 1805\\n\\nCould the sentence be true based on the time periods alone: No']\n",
      "['\\n\\nEntities and dates:\\nMelinda and Bill Gates -> 21st century\\n1805 -> 19th century\\n\\nCould the sentence be true based on the dates alone: No']\n",
      "\n",
      "Background Born. Melinda Ann French. (1964-08-15) August 15, 1964 (age 58). Dallas, Texas, U.S. ; Nationality, American ; Education, Duke University (BA, MBA) ; Occupation ...\n",
      "Gates was born and raised in Seattle, Washington. In 1975, he and Allen founded Microsoft in Albuquerque, New Mexico. It became the world's largest personal ...\n",
      "1805 (MDCCCV) was a common year starting on Tuesday of the Gregorian calendar and a common year starting on Sunday of the Julian calendar, the 1805th year ...\n",
      "A child marriage is a marriage where one or both spouses are under the age of 18. It is related to child betrothal and teenage pregnancy.\n",
      "\n",
      "---\n",
      "Socrates was executed via lethal stabbing.\n",
      "['Socrates -> 5th century BC\\nlethal stabbing -> 1st century AD\\n\\nCould the sentence be true based on the time periods alone: No']\n",
      "['\\n\\nEntities and dates:\\nSocrates -> 4th century BCE\\n\\nCould the sentence be true based on the dates alone: Yes']\n",
      "\n",
      "Background Socrates was born in 470 or 469 BC to Sophroniscus and Phaenarete, a stoneworker and a midwife, respectively, in the Athenian deme of Alopece; therefore, he ...\n",
      "A stab wound is a specific form of penetrating trauma to the skin that results from a knife or a similar pointed object. While stab wounds are typically ...\n",
      "\n",
      "---\n",
      "The Lewis and Clark Expedition began in modern day Missouri and ended in what was the state of Oregon.\n",
      "['Lewis and Clark Expedition -> early 19th century\\nMissouri -> early 21st century\\nOregon -> early 21st century\\n\\nCould the sentence be true based on the time periods alone: Yes']\n",
      "['\\n\\nEntities and dates:\\nThe Lewis and Clark Expedition -> 1804 - 1806\\nModern day Missouri -> after 1806\\nThe state of Oregon -> after 1806\\n\\nCould the sentence be true based on the dates alone: No']\n",
      "\n",
      "Background Clive Staples Lewis was born in Belfast in Ulster, Ireland (before partition), on 29 November 1898. His father was Albert James Lewis (1863–1929), a solicitor ...\n",
      "The Lewis and Clark Expedition began in 1804, when President Thomas Jefferson tasked Meriwether Lewis with exploring the lands west of the ...\n",
      "Commissioning and preparation · Expedition from May 14, 1804, to October 16, 1805.\n",
      "The history of Missouri begins with settlement of the region by indigenous people during the Paleo-Indian period beginning in about 12,000 BC.\n",
      "In 1843, an autonomous government was formed in the Oregon Country, and the Oregon Territory was created in 1848. Oregon became the 33rd state of the U.S. on ...\n",
      "\n",
      "---\n",
      "The brand new Mars rover used its solar panel to keep its batteries charged.\n",
      "['Mars -> fourth planet from the Sun\\nRover -> 1878\\nsolar panel -> 19th century\\nbatteries -> 19th century\\n\\nCould the sentence be true based on the time periods alone: No']\n",
      "['\\n\\nEntities and dates:\\nThe brand new Mars rover -> 21st century\\nSolar panel -> 21st century\\nBatteries -> 21st century\\n\\nCould the sentence be true based on the dates alone: Yes']\n",
      "\n",
      "Background Mars is the fourth planet from the Sun and the second-smallest planet in the Solar System, being larger than only Mercury. In the English language, Mars is ...\n",
      "Rover is a British automotive marque that was used for over a century, from 1904 to 2005. It was launched as a bicycle maker called Rover Company in 1878, ...\n",
      "Inventors have been advancing solar technology for more than a century and a half, and improvements in efficiency and aesthetics keep on coming.\n",
      "Batteries provided the primary source of electricity before the development of electric generators and electrical grids around the end of the 19th century.\n",
      "\n",
      "---\n",
      "The engineer upgraded the replica galleon's radar system.\n",
      "['replica galleon -> 16th century\\nradar -> late 19th century\\n\\nCould the sentence be true based on the time periods alone: No']\n",
      "['\\n\\nEntities and dates:\\nThe engineer -> 21st century\\nThe replica galleon -> 16th century\\n\\nCould the sentence be true based on the dates alone: No']\n",
      "\n",
      "Background Bloomeries and blast furnaces were also created during the 7th centuries BC in Kush. Ancient Greece developed machines in both civilian and military domains. ...\n",
      "Galleons were large, multi-decked sailing ships first used as armed cargo carriers by European states from the 16th to 18th centuries during the age of sail ...\n",
      "The history of radar started with experiments by Heinrich Hertz in the late 19th century that showed that radio waves were reflected by metallic objects.\n",
      "\n",
      "---\n",
      "The mason used a chisel to shape what would become the cornerstone of the Notre Dame Cathedral.\n",
      "['Mason -> 18th century\\nchisel -> 1163\\nNotre Dame Cathedral -> 1163']\n",
      "['\\n\\nEntities and dates:\\nThe mason -> 12th century\\nNotre Dame Cathedral -> 12th century\\n\\nCould the sentence be true based on the dates alone: Yes']\n",
      "\n",
      "Background George Mason (December 11, 1725 [O.S. November 30, 1725] – October 7, 1792) was an American ... Mason was born in 1725, most likely in what is now Fairfax County, ...\n",
      "A chisel is a tool with a characteristically shaped cutting edge of blade on its end, for carving or cutting a hard material such as wood, stone, ...\n",
      "Construction of the cathedral began in 1163 under Bishop Maurice de Sully and was largely completed by 1260, though it was modified frequently in the centuries ...\n",
      "\n",
      "---\n",
      "Alexander Graham Bell killed Alexander Hamilton in a duel.\n",
      "['Alexander Graham Bell -> late 19th century\\nAlexander Hamilton -> late 18th century\\n\\nCould the sentence be true based on the time periods alone: No']\n",
      "['\\n\\nEntities and dates:\\nAlexander Graham Bell -> 19th century\\nAlexander Hamilton -> 18th century\\n\\nCould the sentence be true based on the dates alone: No']\n",
      "\n",
      "Background Alexander (“Graham” was not added until he was 11) was born to Alexander Melville Bell and Eliza Grace Symonds. His mother was almost deaf, and his father ...\n",
      "Hamilton listed his birth year as 1757 when he first arrived in the Thirteen Colonies, and celebrated his birthday on January 11.\n",
      "\n",
      "---\n",
      "Visual Studio Code was developed as a lightweight code editor generalized to suit many different programming languages.\n",
      "['Visual Studio Code -> present day\\n\\nCould the sentence be true based on the time periods alone: Yes']\n",
      "['\\n\\nEntities and dates:\\nVisual Studio Code -> 2015\\n\\nCould the sentence be true based on the dates alone: Yes']\n",
      "\n",
      "Background Visual Studio Code, also commonly referred to as VS Code, is a source-code editor made by Microsoft with the Electron Framework, for Windows, Linux and macOS.\n",
      "Visual Studio Code, also commonly referred to as VS Code, is a source-code editor made by Microsoft with the Electron Framework, for Windows, Linux and macOS.\n",
      "\n",
      "---\n",
      "Stegosaurus is known for its large dorsal plates, potentially allowing it to regulate its body temperature and attract the attention of other Late Jurassic herbivores.\n",
      "['Stegosaurus -> Late Jurassic\\nfish -> 530 million years ago']\n",
      "['\\n\\nEntities and dates:\\n\\nStegosaurus -> Late Jurassic\\n\\nCould the sentence be true based on the dates alone: Yes']\n",
      "\n",
      "Background Stegosaurus is a genus of herbivorous, four-legged, armored dinosaur from the Late Jurassic, characterized by the distinctive kite-shaped upright plates ...\n",
      "The evolution of fish began about 530 million years ago during the Cambrian explosion. It was during this time that the early chordates developed the skull and ... During the Devonian period a great increase in fish variety occurred, ...\n",
      "The Jurassic is a geologic period and stratigraphic system that spanned from the end of the Triassic Period 201.3 million years ago (Mya) to the beginning ...\n",
      "\n",
      "---\n",
      "George Washington fought in the American Civil War.\n",
      "['George Washington -> 18th century\\nAmerican Civil War -> 19th century\\n\\nCould the sentence be true based on the time periods alone: No']\n",
      "['\\n\\nEntities and dates:\\nGeorge Washington -> 18th century\\nAmerican Civil War -> 19th century\\n\\nCould the sentence be true based on the dates alone: No']\n",
      "\n",
      "Background On February 22, 1732, George Washington is born in Westmoreland County, Virginia, the first of six children of Augustine and Mary Ball Washington.\n",
      "Fact #1: The Civil War was fought between the Northern and the Southern states from 1861-1865. The American Civil War was fought between the ...\n",
      "\n",
      "---\n",
      "Ivan the Terrible hired composer Palestrina to murder his son.\n",
      "['Ivan the Terrible -> 16th century\\nPalestrina -> 16th century\\n\\nCould the sentence be true based on the time periods alone: Yes']\n",
      "['\\n\\nEntities and dates:\\nIvan the Terrible -> 16th century\\nPalestrina -> 16th century\\n\\nCould the sentence be true based on the dates alone: Yes']\n",
      "\n",
      "Background He was to become the penultimate representative of the Rurik dynasty. On December 4, 1533, immediately after his father's death, the three-year- ...\n",
      "Born: c.1525 Praeneste Italy ; Died: February 2, 1594 Rome Italy ; Movement / Style: Renaissance art polyphony Renaissance\n",
      "The earliest account of primogeniture to be widely known in modern times involved Isaac's son Jacob being born second (Genesis 25:26) and Isaac's son, Esau ...\n",
      "\n",
      "---\n",
      "Pharoah Thutmose III successfully expanded the borders of the Egyptian empire through persistent military campaigns and improved military technology, such as spear tips made of titanium.\n",
      "['Thutmose III -> 1479 BC - 1425 BC\\nEgyptian empire -> 1479 BC - 641 AD\\nspear tips made of titanium -> 1791']\n",
      "['\\n\\nEntities and dates:\\nPharoah Thutmose III -> 15th century BCE\\nEgyptian empire -> 15th century BCE\\nspear tips made of titanium -> 3rd century BCE\\n\\nCould the sentence be true based on the dates alone: No']\n",
      "\n",
      "Background Officially, Thutmose III ruled Egypt for almost 54 years and his reign is usually dated from 28 April 1479 BC to 11 March 1425 BC, from the age of two and ...\n",
      "Roman rule in Egypt (including Byzantine) lasted from 30 BC to 641 AD, with a brief interlude of control by the Sasanian Empire between 619 and 629, known as ...\n",
      "On June 14, 1775, the Second Continental Congress formally established an American Continental Army. · Within days of establishing combat forces, ...\n",
      "A spear is a pole weapon consisting of a shaft, usually of wood, with a pointed head. ... Spears can be divided into two broad categories: those designed for ...\n",
      "The first titanium mineral, a black sand called menachanite, was discovered in 1791 in Cornwall by the Reverend William Gregor. He analysed it and deduced it ...\n",
      "\n",
      "---\n",
      "Moremi Ajasoro set sail across the river on her favorite duck boat into Washington DC to see her friends who live there.\n",
      "['Moremi Ajasoro -> 12th century\\nduck boat -> pre-industrial era\\nWashington DC -> 18th century\\nFriends -> 20th century\\n\\nCould the sentence be true based on the time periods alone: No']\n",
      "['\\n\\nEntities and dates:\\nMoremi Ajasoro -> 11th century\\nWashington DC -> 18th century\\n\\nCould the sentence be true based on the dates alone: No']\n",
      "\n",
      "Background Biography. The Ayaba (Queen) Moremi lived in the 12th century, hailed from Offa, and was married to Oranmiyan, the heir to the king of Ife and son of the ...\n",
      "A river is a natural flowing watercourse, usually freshwater, flowing towards an ocean, sea, ... In the pre-industrial era, larger rivers were a major obstruction to the ...\n",
      "The City of Washington was founded in 1791 to serve as the national capital, and Congress held its first session there in 1800. In 1801, the territory, formerly ...\n",
      "Friends is an American television sitcom created by David Crane and Marta Kauffman, which aired on NBC from September 22, 1994, to May 6, 2004, ...\n",
      "\n",
      "---\n",
      "Caesar Octavian Augustus was the first emperor of the Holy Roman Empire.\n",
      "['Caesar Augustus -> 1st century BC\\nHoly Roman Empire -> 1254 AD\\n\\nCould the sentence be true based on the time periods alone: No']\n",
      "['\\n\\nEntities and dates:\\nCaesar Octavian Augustus -> 1st century\\nHoly Roman Empire -> 476-1806\\n\\nCould the sentence be true based on the dates alone: No']\n",
      "\n",
      "Background Caesar Augustus (23 September 63 BC – 19 August AD 14), also known as Octavian, was officially the first Roman emperor who reigned from 27 BC until his ...\n",
      "The precise term Sacrum Romanum Imperium dates only from 1254, though the term Holy Empire reaches back to 1157, and the term Roman Empire was ...\n",
      "\n",
      "---\n",
      "Jason connected his new TRS80 color computer to the TV and played Pyramid 2000.\n",
      "['Jason Voorhees -> 1980 \\nTRS80 -> 1977\\ntelevision -> 1927\\nPyramid 2000 -> 2550 BC']\n",
      "['\\n\\nEntities and dates:\\nJason -> 20th century\\nTRS80 color computer -> early 1980s\\nTV -> late 20th century\\nPyramid 2000 -> early 1980s\\n\\nCould the sentence be true based on the dates alone: Yes']\n",
      "\n",
      "Background Jason Voorhees is a character from the Friday the 13th series. He first appeared in Friday the 13th (1980) as the young son of camp-cook-turned-killer Mrs.\n",
      "The TRS-80 Micro Computer System is a desktop microcomputer launched in 1977 and sold by Tandy Corporation through their Radio Shack stores. The name is an ...\n",
      "Electronic television was first successfully demonstrated in San Francisco on Sept. 7, 1927. The system was designed by Philo Taylor Farnsworth, a 21-year-old ...\n",
      "All three of Giza's famed pyramids and their elaborate burial complexes were built during a frenetic period of construction, from roughly 2550 to 2490 B.C. The ...\n",
      "\n",
      "---\n",
      "Queen Himiko showed off her elegant Yayoi silk robes to her female attendants after finishing her mystical rituals at the shrine.\n",
      "['Queen Himiko -> 3rd century\\nYayoi silk robes -> Yayoi Period\\nfemale attendants -> Ladies Oriental Shrine of North America\\n\\nCould the sentence be true based on the time periods alone: Yes']\n",
      "['\\n\\nEntities and dates:\\nQueen Himiko -> 3rd century\\nYayoi silk robes -> 300 BCE - 300 CE\\n\\nCould the sentence be true based on the dates alone: Yes']\n",
      "\n",
      "Background Historical references. The shaman Queen Himiko is recorded in various ancient histories, dating back to 3rd-century China, 8th-century Japan, and 12th-century ...\n",
      "The Yayoi Period is one of the oldest historical periods of Japan spanning from c. 300 BCE to c. 250 CE, preceded by the Jomon Period and ...\n",
      "Ellen Church (September 22, 1904 – August 22, 1965) was the first female flight attendant. A trained nurse and pilot, Church wanted to pilot commercial ...\n",
      "The Ladies Oriental Shrine of North America was founded in 1903 in Wheeling, West Virginia, and the Daughters of the Nile was founded in 1913 in Seattle, ...\n",
      "\n",
      "---\n",
      "The soldier was shot by a musket before he could fire the cannon.\n",
      "['cannon -> 12th century\\nmusket -> 16th century\\n\\nCould the sentence be true based on the time periods alone: Yes']\n",
      "['\\n\\nEntities and dates:\\nSoldier -> 18th century\\nMusket -> 16th century\\nCannon -> 15th century\\n\\nCould the sentence be true based on the dates alone: No']\n",
      "\n",
      "Background On June 14, 1775, the Second Continental Congress formally established an American Continental Army. · Within days of establishing combat forces, ...\n",
      "A musket is a muzzle-loaded long gun that appeared as a smoothbore weapon in the early 16th century, at first as a heavier variant of the arquebus, ...\n",
      "The earliest known depiction of cannons appeared in Song dynasty China as early as the 12th century; however, solid archaeological and documentary evidence of ...\n",
      "\n",
      "---\n",
      "The original Temple of Artemis at Ephesus has seen drastic transformations to its interior from its inception, including becoming a church, a mosque, a museum, and back to a mosque again. \n",
      "['Temple of Artemis -> 6th century BCE \\nEphesus -> 10th century BC\\nArzawan capital -> 10th century BC\\nClassical Greek era -> 7th century CE\\nChurch Age -> 7th century CE\\nIslam -> 7th century CE\\nintense museum building -> late 19th century']\n",
      "['\\n\\nEntities and dates:\\nTemple of Artemis at Ephesus -> 6th century BCE - 17th century CE\\n\\nCould the sentence be true based on the dates alone: Yes']\n",
      "\n",
      "Background The Temple of Artemis at Ephesus was located on the western coast of Asia Minor (modern Turkey) and built in the 6th century BCE. Such was its tremendous ...\n",
      "It was built in the 10th century BC on the site of the former Arzawan capital by Attic and Ionian Greek colonists. During the Classical Greek era, it was one of ...\n",
      "In prophetic history, it falls between the 69th and 70th weeks of Daniel (Daniel 9:24-27; Romans 11). Jesus predicted the Church Age in Matthew ...\n",
      "Origins. According to Islamic scholars and history, Islam was established in Arabia during the lifetime of Muhammad in the 7th century CE, and so did ...\n",
      "A period of intense museum building, in both an intellectual and physical sense was realized in the late 19th and early 20th centuries (this is often called \" ...\n",
      "\n",
      "---\n",
      "The megalodon jumped out of the sea and snagged the Pomeranian from its perch.\n",
      "['megalodon -> 3.6 million years ago\\nPomeranian -> 18th century']\n",
      "['\\n\\nEntities and dates:\\nMegalodon -> 2.6 million years ago\\nPomeranian -> 19th century\\n\\nCould the sentence be true based on the dates alone: No']\n",
      "\n",
      "Background Megalodon (Otodus megalodon), meaning \"big tooth\", is an extinct species of mackerel shark that lived approximately 23 to 3.6 million years ago (Mya), ...\n",
      "The Pomeranian is a breed of dog of the Spitz type that is named for the Pomerania region in north-west Poland and north-east Germany in Central Europe.\n",
      "\n",
      "---\n",
      "Nothing was more satisfying to Sally than watching HBO's True Detective while knitting.\n",
      "[\"Sally -> created in the early 1990s \\nHBO's True Detective -> started airing in 2014\\n\\nCould the sentence be true based on the time periods alone: No\"]\n",
      "[\"\\n\\nEntities and dates:\\nHBO's True Detective -> 2014\\nSally -> anytime\\n\\nCould the sentence be true based on the dates alone: Yes\"]\n",
      "\n",
      "Background Sally is the deuteragonist of Tim Burton's The Nightmare Before Christmas. She is a humanoid ragdoll created by Dr. Finkelstein. She is made of various pieces ...\n",
      "Home Box Office, Inc. (Time-Life/Time Inc.) · April 1, 1979; 43 years ago (1979-04-01) · January 31, 1981; 41 years ago (1981-01-31) ...\n",
      "The series, broadcast by the premium cable network HBO in the United States, premiered on January 12, 2014. Each season of the series is structured as a self- ...\n",
      "\n",
      "---\n",
      "The Great Depression occurred during Prohibition.\n",
      "['Great Depression -> 1929\\nProhibition -> 1920\\n\\nCould the sentence be true based on the time periods alone: Yes']\n",
      "['\\n\\nEntities and dates:\\nThe Great Depression -> 1929-1939\\nProhibition -> 1920-1933\\n\\nCould the sentence be true based on the dates alone: Yes']\n",
      "\n",
      "Background The Great Depression was a severe worldwide economic depression between 1929 and 1939 that began after a major fall in stock prices in the United States.\n",
      "The Prohibition Era began in 1920 when the 18th Amendment outlawed liquor sales per the Volstead Act, but in 1932 the 21st Amendment ended Prohibition.\n",
      "\n",
      "---\n",
      "Benjamin Franklin assisted Benjamin Thompson in his invention of the hybrid car.\n",
      "['Benjamin Franklin -> 1700s\\nBenjamin Thompson -> 1700s\\nhybrid car -> 1900s\\n\\nCould the sentence be true based on the time periods alone: No']\n",
      "['\\n\\nEntities and dates:\\nBenjamin Franklin -> 17th - 18th century\\nBenjamin Thompson -> 17th - 18th century\\n\\nCould the sentence be true based on the dates alone: Yes']\n",
      "\n",
      "Background William Franklin​​ William was born on February 22, 1730, but his mother's identity is unknown. He was educated in Philadelphia and beginning at about age 30 ...\n",
      "Sir Benjamin Thompson, count von Rumford ; Born: March 26, 1753 Woburn Massachusetts ; Died: August 21, 1814 (aged 61) March 21, 1814 France\n",
      "The history of hybrid cars stretches back over 100 years. Hybrid cars are defined as any car that runs on two sources of power.\n",
      "\n",
      "---\n",
      "Charles Babbage was a proficient Haskell programmer.\n",
      "['Charles Babbage -> 1791\\nHaskell -> late 20th century\\n\\nCould the sentence be true based on the time periods alone: No']\n",
      "['\\n\\nEntities and dates:\\nCharles Babbage -> 19th century\\nHaskell -> 20th century\\n\\nCould the sentence be true based on the dates alone: No']\n",
      "\n",
      "Background Born: December 26, 1791 London ; Died: October 18, 1871 (aged 79) London ; Inventions: Analytical Engine computer ...\n",
      "Haskell is a general-purpose, statically-typed, purely functional programming language with type inference and lazy evaluation. Designed for teaching ...\n",
      "\n",
      "---\n",
      "King John of England and the unrest under his rule is credited with the creation of the Magna Carta, outlining rights for the masses.\n",
      "['King John of England -> 12th century\\nMagna Carta -> 13th century']\n",
      "['\\n\\nEntities and dates:\\nKing John -> 13th century\\nMagna Carta -> 13th century\\n\\nCould the sentence be true based on the dates alone: Yes']\n",
      "\n",
      "Background Born: c.1166 Oxford England ; Died: October 18, 1216 or October 19, 1216 England ; Title / Office: king (1199-1216), England ; House / Dynasty: house of ...\n",
      "The area now called England was first inhabited by modern humans during the Upper Paleolithic period, but takes its name from the Angles, a Germanic tribe ...\n",
      "Magna Carta, English Great Charter, charter of English liberties granted by King John on June 15, 1215, under threat of civil war and ...\n",
      "\n",
      "---\n",
      "Richard III used candles to light his throne room.\n",
      "['Richard III -> 15th century \\ncandles -> 5,000 years ago\\n\\nCould the sentence be true based on the time periods alone: Yes']\n",
      "['\\n\\nEntities and dates:\\nRichard III -> 15th century\\nCandles -> 5th century\\n\\nCould the sentence be true based on the dates alone: No']\n",
      "\n",
      "Background Richard III of England ; Reign, 26 June 1483 – 22 August 1485 ; Coronation, 6 July 1483 ; Predecessor, Edward V ; Successor, Henry VII ; Born, 2 October 1452\n",
      "Candles have been used as a source of light and to illuminate celebrations for more than 5,000 years, yet little is known about their origin. The earliest use ...\n",
      "The Throne of God is the reigning centre of God in the Abrahamic religions: primarily ... The heavenly throne room or throne room of God is a more detailed ...\n",
      "\n",
      "---\n",
      "The pet chihuahua walked its way around Pangea.\n",
      "['chihuahua -> 10,000 years ago\\nPangea -> early geologic time']\n",
      "['\\n\\nEntities and dates:\\nPet chihuahua -> 21st century\\nPangea -> 250 million years ago\\n\\nCould the sentence be true based on the dates alone: No']\n",
      "\n",
      "Background History. DNA studies suggest that native American dogs entered North America from Siberia roughly 10,000 years ago, and were then isolated for some 9000 years ...\n",
      "Pangea, also spelled Pangaea, in early geologic time, a supercontinent that incorporated almost all the landmasses on Earth.\n",
      "\n",
      "---\n",
      "Lady Murasaki Shikibu wrote to Lady Ada Lovelace about her showcased biomedical software notes published in Faster than Thought: A Symposium on Digital Computing Machines.\n",
      "['Lady Murasaki Shikibu -> 11th century \\nLady Ada Lovelace -> 19th century\\nbiomedical software -> 20th century\\n\\nCould the sentence be true based on the time periods alone: No']\n",
      "['\\n\\nEntities and dates:\\nLady Murasaki Shikibu -> 11th century\\nLady Ada Lovelace -> 19th century\\nFaster than Thought -> 1953\\n\\nCould the sentence be true based on the dates alone: No']\n",
      "\n",
      "Background She married in her mid-to late twenties and gave birth to a daughter before her husband died, two years after they were married. It is uncertain when she began ...\n",
      "During a nine-month period in 1842–43, Lovelace translated the Italian mathematician Luigi Menabrea's article on Babbage's newest proposed machine, the ...\n",
      "Biomedical engineering (BME) or medical engineering is the application of engineering principles and design concepts to medicine and biology for healthcare ...\n",
      "Faster than Thought: A Symposium on Digital Computing Machines. Edited by B. V. Bowden. Cyril Burt,. Cyril Burt. Search for more papers by this author.\n",
      "\n",
      "---\n",
      "While various states warred in China, Alexander the Great's forces were charging through parts of the Middle East.\n",
      "['China -> 1250 BC\\nAlexander the Great -> 4th century BC\\nMiddle East -> late 18th century']\n",
      "['\\n\\nEntities and dates:\\nChina -> 3rd century BC\\nAlexander the Great -> 4th century BC\\n\\nCould the sentence be true based on the dates alone: No']\n",
      "\n",
      "Background List of U.S. states and their order to statehoodEdit ; 1. Delaware, December 7, 1787 (ratified) ; 2. Pennsylvania, December 12, 1787 · (ratified) ; 3. New Jersey ...\n",
      "The earliest known written records of the history of China date from as early as 1250 BC, from the Shang dynasty (c. 1600–1046 BC), during the reign of king ...\n",
      "One of the world's greatest military generals, he created a vast empire that stretched from Macedonia to Egypt and from Greece to part of India ...\n",
      "1789 to 1925 – Qajar Iran · 1798 – Napoleon Bonaparte leads a campaign in Egypt and Syria · 1828 to 1914 – Decline and modernization of the Ottoman Empire · 1828 – ...\n",
      "\n",
      "---\n",
      "Muhammad al-Khwarizmi used his lemma to confirm the new theory.\n",
      "[\"Muhammad al-Khwarizmi -> 8th century\\nEuclid's lemma -> 3rd century BCE\\n\\nCould the sentence be true based on the time periods alone: No\"]\n",
      "['\\n\\nEntities and dates:\\nMuhammad al-Khwarizmi -> 9th century\\nLemma -> 9th century\\nTheory -> 9th century\\n\\nCould the sentence be true based on the dates alone: Yes']\n",
      "\n",
      "Background 780 – c. 850), or al-Khwarizmi was a Persian polymath from Khwarazm, who produced vastly influential works in mathematics, astronomy, and geography.\n",
      "In algebra and number theory, Euclid's lemma is a lemma that captures a fundamental property of prime numbers, namely: Euclid's lemma — If a prime p divides ...\n",
      "Each generational persona unleashes a new era (called a turning) lasting around 20–25 years, in which a new social, political, and economic climate (mood) ...\n",
      "\n",
      "---\n",
      "Sarah Burke was a proficient Haskell programmer.\n",
      "['Sarah Burke -> early 21st century\\nHaskell -> 1990s\\n\\nCould the sentence be true based on the time periods alone: Yes']\n",
      "['\\n\\nEntities and dates:\\nSarah Burke -> 20th century\\nHaskell -> 20th century\\n\\nCould the sentence be true based on the dates alone: Yes']\n",
      "\n",
      "Background Sarah Jean Burke (September 3, 1982 – January 19, 2012) was a Canadian freestyle skier who was a pioneer of the superpipe event. She was a five-time Winter ...\n",
      "Haskell is a general-purpose, statically-typed, purely functional programming language with type inference and lazy evaluation. Designed for teaching ...\n",
      "\n",
      "---\n",
      "Otto von Bismarck was a fan of Spam fried rice.\n",
      "['Otto von Bismarck -> 19th century \\nSpam -> 20th century\\n\\nCould the sentence be true based on the time periods alone: No']\n",
      "['\\n\\nEntities and dates:\\nOtto von Bismarck -> 19th century\\nSpam fried rice -> 20th century\\n\\nCould the sentence be true based on the dates alone: No']\n",
      "\n",
      "Background Otto von Bismarck (1815-1898)—also known as the “Iron Chancellor”—was Chancellor of the newly-united German Empire from 1862 to 1890.\n",
      "For Spam's 80th anniversary, here's a look at how the canned meat got its name, became beloved by U.S. soldiers and became a kitchen staple.\n",
      "\n",
      "---\n",
      "Abraham Lincoln and Charles Darwin kept a regular correspondence.\n",
      "['Abraham Lincoln -> 1861-1865\\nCharles Darwin -> 1809-1882\\n\\nCould the sentence be true based on the time periods alone: Yes']\n",
      "['\\n\\nEntities and dates:\\nAbraham Lincoln -> 19th century\\nCharles Darwin -> 19th century\\n\\nCould the sentence be true based on the dates alone: Yes']\n",
      "\n",
      "Background Abraham Lincoln · March 4, 1861 – April 15, 1865 · March 4, 1847 – March 3, 1849 · December 1, 1834 – December 4, 1842.\n",
      "Read a brief summary of this topic ; Born: February 12, 1809 Shrewsbury England ; Died: April 19, 1882 (aged 73) England ; Awards And Honors: ...\n",
      "\n",
      "---\n",
      "The orchestra's performance of Vivaldi's baroque-era composition was recorded and streamed live online.\n",
      "['orchestra -> early 1600s\\nVivaldi -> early 1700s\\ncomposition -> early 1700s\\n\\nCould the sentence be true based on the time periods alone: Yes']\n",
      "['\\n\\nEntities and dates:\\nOrchestra -> 21st century\\nVivaldi -> 18th century\\nBaroque era -> 16th - 17th century\\n\\nCould the sentence be true based on the dates alone: Yes']\n",
      "\n",
      "Background So, the orchestra got its basic form as we know it today in the early 1600s. Over the next several centuries, instruments were added and removed ...\n",
      "Antonio Lucio Vivaldi (4 March 1678 – 28 July 1741) was an Italian composer, virtuoso violinist and impresario of Baroque music.\n",
      "The Baroque is a style of architecture, music, dance, painting, sculpture, poetry, and other arts that flourished in Europe from the early 17th century ...\n",
      "A composer is a person who writes music. The term is especially used to indicate composers of Western classical music, or those who are composers by ...\n",
      "\n",
      "---\n",
      "The Mongolian horse rider used his bow to hunt the velociraptor.\n",
      "['Mongolian horse rider -> 13th century \\nbow and arrow -> 18,000 years ago\\nvelociraptor -> 75 million years ago\\n\\nCould the sentence be true based on the time periods alone: No']\n",
      "['\\n\\nEntities and dates:\\nMongolian horse rider -> 13th century\\nvelociraptor -> 65 million years ago\\n\\nCould the sentence be true based on the dates alone: No']\n",
      "\n",
      "Background Mongol empire, empire founded by Genghis Khan in 1206. Originating from the Mongol heartland in the Steppe of central Asia, by the late 13th ...\n",
      "The evolution of the horse, a mammal of the family Equidae, occurred over a geologic time scale of 50 million years, transforming the small, dog-sized, ...\n",
      "Rider is a Rider Class Servant in Fate/Stay Night--Fate, Unlimited Blade Works, ... she is said to be one of legends born by the gathering of belief.\n",
      "The earliest definite remains of bow and arrow from Europe are possible fragments from Germany found at Mannheim-Vogelstang dated 17,500–18,000 years ago, and ...\n",
      "Velociraptor is a genus of small dromaeosaurid dinosaur that lived in Asia during the Late Cretaceous epoch, about 75 million to 71 million years ago.\n",
      "\n",
      "---\n",
      "Homo Erectus, having survived as a species for millions of years, may have been the first Homo to utilize fire, stone tools, hunting, medicine, and social groups.\n",
      "['Homo Erectus -> 1.89 million - 110,000 years ago\\nfire -> 1.89 million years ago\\nstone tools -> 1.89 million years ago\\nhunting -> 1.89 million years ago\\nmedicine -> 5th century BCE\\nsocial groups -> 1.89 million years ago\\n\\nCould the sentence be true based on the time periods alone: Yes']\n",
      "['\\n\\nEntities and dates:\\nHomo Erectus -> 1.8 million years ago - 300,000 years ago\\n\\nCould the sentence be true based on the dates alone: Yes']\n",
      "\n",
      "Background Homo erectus lived between about 1.89 million and 110,000 years ago. Image of reconstruction of Homo erectus based on ER 3733 by John Gurche.\n",
      "The timing of the discovery of fire by humans has been a subject of continuing research, yet two aspects have received little attention.\n",
      "Stone Age, prehistoric cultural stage, or level of human development, characterized by the creation and use of stone tools. The Stone Age, whose origin ...\n",
      "Hunting activities by humans arose in Homo erectus or earlier, in the order of millions of years ago. Hunting has become deeply embedded in various human ...\n",
      "Early medical traditions include those of Babylon, China, Egypt and India. The Hippocratic Oath was written in ancient Greece in the 5th century BCE, and is a ...\n",
      "In the social sciences, a social group can be defined as two or more people who interact ... groups or coworkers, interact moderately over a prolonged period of time.\n",
      "\n",
      "---\n",
      "Marie Antoinette was a fan of Bruce Springsteen.\n",
      "['Marie Antoinette -> 18th century\\nBruce Springsteen -> 20th century\\n\\nCould the sentence be true based on the time periods alone: No']\n",
      "['\\n\\nEntities and dates:\\nMarie Antoinette -> 18th century\\nBruce Springsteen -> 20th century\\n\\nCould the sentence be true based on the dates alone: No']\n",
      "\n",
      "Background Born: November 2, 1755 Vienna Austria ; Died: October 16, 1793 (aged 37) Paris France ; Notable Family Members: spouse Louis XVI father Francis I ...\n",
      "Born in the U.S.A. (1984), which reunited Springsteen with the E Street Band, became his most commercially successful album and one of the best-selling albums ...\n",
      "\n",
      "---\n",
      "Beats from the MPC3000 helped inspire many original blues artists.\n",
      "['Beats -> 2006\\nMPC3000 -> 1993\\nblues -> 1860s\\n\\nCould the sentence be true based on the time periods alone: Yes']\n",
      "['\\n\\nEntities and dates:\\nBeats from the MPC3000 -> 1990\\nOriginal blues artists -> 1920\\n\\nCould the sentence be true based on the dates alone: Yes']\n",
      "\n",
      "Background Beats was established in 2006 by music producer Dr. Dre and record company executive Jimmy Iovine. Iovine perceived two key problems in the music industry: the ...\n",
      "The Akai MPC3000 (eBay) changed the game in 1993. Improvements included 16-bit 44.1 kHz stereo sampling, increased memory, 32 voice polyphony, expandable memory ...\n",
      "Blues is a music genre and musical form which originated in the Deep South of the United States around the 1860s by African-Americans from roots in ...\n",
      "\n",
      "---\n",
      "Jason bought his new TRS80 color computer from Radio Shack and downloaded a movie to watch.\n",
      "['Jason -> 1980 \\nTRS80 -> 1977 \\nRadio Shack -> 1921 \\nmovie -> late 19th century\\n\\nCould the sentence be true based on the time periods alone: Yes']\n",
      "['\\n\\nEntities and dates:\\nJason -> 21st century\\nTRS80 color computer -> 1980\\nRadio Shack -> 1980\\nmovie -> 1980\\n\\nCould the sentence be true based on the dates alone: Yes']\n",
      "\n",
      "Background Jason Voorhees is a character from the Friday the 13th series. He first appeared in Friday the 13th (1980) as the young son of camp-cook-turned-killer Mrs.\n",
      "The TRS-80 Micro Computer System is a desktop microcomputer launched in 1977 and sold by Tandy Corporation through their Radio Shack stores. The name is an ...\n",
      "The company was started as Radio Shack in 1921 by two brothers, Theodore and Milton Deutschmann, who wanted to provide equipment for the nascent field of ...\n",
      "The history of film chronicles the development of a visual art form created using film technologies that began in the late 19th century.\n",
      "\n",
      "---\n",
      "Johann Sebastian Bach wrote the book \"A Brief History of Time\".\n",
      "['Johann Sebastian Bach -> 1692\\nA Brief History of Time -> creation of the Universe\\n\\nCould the sentence be true based on the time periods alone: No']\n",
      "['\\n\\nEntities and dates:\\nJohann Sebastian Bach -> 18th century\\nA Brief History of Time -> 20th century\\n\\nCould the sentence be true based on the dates alone: No']\n",
      "\n",
      "Background Johann Sebastian started school in 1692 or 1693 and did well in spite of frequent absences.\n",
      "A Brief History of Time: From the Big Bang to Black Holes is a book on theoretical cosmology ... where time is a concept that was born with the creation of the Universe.\n",
      "\n",
      "---\n",
      "Catherine the Great waltzed with the Empress Wu Zetian at Catherine Palace.\n",
      "['Catherine the Great -> 18th century\\nEmpress Wu Zetian -> 7th century\\nCatherine Palace -> 18th century']\n",
      "['\\n\\nEntities and dates:\\nCatherine the Great -> 18th century\\nEmpress Wu Zetian -> 7th century\\n\\nCould the sentence be true based on the dates alone: No']\n",
      "\n",
      "Background Born: May 2, 1729 Szczecin Poland ; Died: November 17, 1796 (aged 67) Pushkin Russia ; Title / Office: empress (1762-1796), Russian Empire\n",
      "Wu Zhao entered the palace of the Tang emperor Taizong (ruled 626–649) in 638, at the age of 14, as a junior concubine. By that time, the ...\n",
      "The Catherine Palace is a Rococo palace in Tsarskoye Selo (Pushkin), 30 km south of St. Petersburg, Russia. It was the summer residence of the Russian tsars ...\n",
      "\n",
      "---\n",
      "Sun Tzu dedicated an entire chapter to describing the failure of Babylon.\n",
      "['Sun Tzu -> Eastern Zhou period\\nBabylon -> 1894 BC\\n\\nCould the sentence be true based on the time periods alone: Yes']\n",
      "['\\n\\nEntities and dates:\\nSun Tzu -> 6th century BCE\\nBabylon -> 6th century BCE\\n\\nCould the sentence be true based on the dates alone: Yes']\n",
      "\n",
      "Background Sun Tzu was a Chinese military general, strategist, philosopher, and writer who lived during the Eastern Zhou period. Sun Tzu is traditionally credited as ...\n",
      "Babylonia was an ancient Akkadian-speaking state and cultural area based in central-southern Mesopotamia A small Amorite-ruled state emerged in 1894 BC, ...\n",
      "\n",
      "---\n",
      "Filippo Pacini is credited with the discovery of cholera.\n",
      "['Filippo Pacini -> 1846-63\\ncholera -> 1854\\n\\nCould the sentence be true based on the time periods alone: Yes']\n",
      "['\\n\\nEntities and dates:\\nFilippo Pacini -> 18th century\\nCholera -> 18th century\\n\\nCould the sentence be true based on the dates alone: Yes']\n",
      "\n",
      "Background The Asiatic cholera pandemic of 1846-63 was the time period when Pacini made his discovery of the cholera bacillus. Cholera came to Florence in 1854 during ...\n",
      "The most recent of seven cholera pandemics and associated outbreaks, since the early 19th century, started about 1961. As of 2010, it is rare in high income ...\n",
      "\n",
      "---\n",
      "The programming language Go was created by Mozilla.\n",
      "['Go -> 9600 BC\\nMozilla -> 2004']\n",
      "['\\n\\nEntities and dates:\\nGo -> 2009\\nMozilla -> 1998\\n\\nCould the sentence be true based on the dates alone: Yes']\n",
      "\n",
      "Background Therefore, if 8,900-9,000 years are added to about 600 BC the date of creation comes to 9600 - 9500 BC. A 12,000 year chronology places the end date at around ...\n",
      "It was released on November 9, 2004, and challenged Internet Explorer's dominance with 60 million downloads within nine months. It is the spiritual successor ...\n",
      "\n",
      "---\n",
      "Johann Sebastian Bach wrote the book \"Mathematical Principles of Natural Philosophy\".\n",
      "['Johann Sebastian Bach -> 17th century \\nMathematical Principles of Natural Philosophy -> 17th century\\n\\nCould the sentence be true based on the time periods alone: Yes']\n",
      "['\\n\\nEntities and dates:\\nJohann Sebastian Bach -> 18th century\\nMathematical Principles of Natural Philosophy -> 17th century\\n\\nCould the sentence be true based on the dates alone: No']\n",
      "\n",
      "Background Johann Sebastian started school in 1692 or 1693 and did well in spite of frequent absences.\n",
      "The Principia is considered one of the most important works in the history of science. The French mathematical physicist Alexis Clairaut assessed it in 1747: \" ...\n",
      "\n",
      "---\n",
      "Joan of Arc achieved martyrdom by defeating a champion of American Ninja Warrior in single combat.\n",
      "['Joan of Arc -> 14th century\\nAmerican Ninja Warrior -> 21st century\\n\\nCould the sentence be true based on the time periods alone: No']\n",
      "['\\n\\nEntities and dates:\\nJoan of Arc -> 15th century\\nAmerican Ninja Warrior -> 21st century\\n\\nCould the sentence be true based on the dates alone: No']\n",
      "\n",
      "Background She was born during the Hundred Years' War between England and France, that had begun in 1337 over the status of English territories in France and English ...\n",
      "American Ninja Warrior (sometimes abbreviated as ANW) is an American sports entertainment ... Running time, 36–128 minutes. Production companies.\n",
      "\n",
      "---\n",
      "Hume thought Plato was an absolute idiot.\n",
      "['Hume -> 18th century\\nPlato -> 5th century BCE\\n\\nCould the sentence be true based on the time periods alone: No']\n",
      "['\\n\\nEntities and dates:\\nHume -> 18th century\\nPlato -> 4th century BC\\n\\nCould the sentence be true based on the dates alone: Yes']\n",
      "\n",
      "Background Born: May 7, 1711 Edinburgh Scotland ; Died: August 25, 1776 (aged 65) Edinburgh Scotland ; Subjects Of Study: belief history of United Kingdom ...\n",
      "Plato was born in 428/427 BCE to a noble family and died in 348/347 BCE. He lived primarily in Athens, Greece. Plato's birth occurred near the ...\n",
      "\n",
      "---\n",
      "Franz Schubert's favorite musical piece was the Symphonie Fantastique.\n",
      "['Franz Schubert -> early Romantic period\\nSymphonie Fantastique -> early Romantic period\\n\\nCould the sentence be true based on the time periods alone: Yes']\n",
      "['\\n\\nEntities and dates:\\nFranz Schubert -> 18th century\\nSymphonie Fantastique -> 19th century\\n\\nCould the sentence be true based on the dates alone: Yes']\n",
      "\n",
      "Background The numerous compositions he wrote between 1813 and 1815 are remarkable for their variety and intrinsic worth. They are the products of young ...\n",
      "It is an important piece of the early Romantic period. The first performance was at the Paris Conservatoire on 5 December 1830. Franz Liszt made a piano ...\n",
      "\n",
      "---\n",
      "The sun's creation during the Stelliferous Era is the cause of its size, color, and brightness.\n",
      "['Stelliferous Era -> 4.6 billion years ago\\nsun -> 4.6 billion years ago\\n\\nCould the sentence be true based on the time periods alone: Yes']\n",
      "[\"\\n\\nEntities and dates:\\nThe sun's creation -> Stelliferous Era\\n\\nCould the sentence be true based on the dates alone: Yes\"]\n",
      "\n",
      "Background It formed approximately 4.6 billion years ago from the gravitational collapse of matter within a region of a large molecular cloud.\n",
      "The Early Stelliferous​​ This phase transition occurs at about the fifth cosmological decade, so that there is one cosmological decade of matter prior to that ...\n",
      "\n",
      "---\n",
      "Ellen Johnson-Sirleaf invented calculus in her spare time.\n",
      "['Ellen Johnson-Sirleaf -> 20th century\\ncalculus -> late 17th century\\n\\nCould the sentence be true based on the time periods alone: No']\n",
      "['\\n\\nEntities and dates:\\nEllen Johnson-Sirleaf -> 21st century\\nCalculus -> 17th century\\n\\nCould the sentence be true based on the dates alone: No']\n",
      "\n",
      "Background Born: October 29, 1938 (age 83) Monrovia Liberia ; Title / Office: president (2006-2018), Liberia ; Awards And Honors: Ibrahim Prize for Achievement in African ...\n",
      "Infinitesimal calculus was developed in the late 17th century by Isaac Newton and Gottfried Wilhelm Leibniz independently of each other. An argument over ...\n",
      "\n",
      "---\n",
      "Pharoah Thutmose III successfully expanded the borders of the Egyptian empire through persistent military campaigns and improved military technology, such as spear tips made of jade.\n",
      "['Thutmose III -> 15th century BC\\nEgyptian empire -> 15th century BC\\njade -> 7,000 years ago']\n",
      "['\\n\\nEntity and dates:\\nPharoah Thutmose III -> 15th century BCE\\n\\nCould the sentence be true based on the dates alone: Yes']\n",
      "\n",
      "Background Officially, Thutmose III ruled Egypt for almost 54 years and his reign is usually dated from 28 April 1479 BC to 11 March 1425 BC, from the age of two and ...\n",
      "Roman rule in Egypt (including Byzantine) lasted from 30 BC to 641 AD, with a brief interlude of control by the Sasanian Empire between 619 and 629, known as ...\n",
      "On June 14, 1775, the Second Continental Congress formally established an American Continental Army. · Within days of establishing combat forces, ...\n",
      "From circa 200,000 BCE onwards, Middle Paleolithic humans began to make complex stone blades with flaked edges which were used as spear heads.\n",
      "It is the national stone of Japan. Examples of use in Japan can be traced back to the early Jomon period about 7,000 years ago.\n",
      "\n",
      "---\n",
      "The recognition of Christianity as the official religion of both Ethiopia and the Roman Empire within the same century is notable.\n",
      "['Christianity -> 1st century\\nEthiopia -> 1st century\\nRoman Empire -> 1st century\\n\\nCould the sentence be true based on the time periods alone: Yes']\n",
      "['\\n\\nEntities and dates:\\nChristianity -> 4th century\\nEthiopia -> 4th century\\nRoman Empire -> 4th century\\n\\nCould the sentence be true based on the dates alone: Yes']\n",
      "\n",
      "Background Early Christianity is generally reckoned by church historians to begin with the ministry of Jesus ( c. 27–30) and end with the First Council of Nicaea (325). ...\n",
      "In 1935, Ethiopia was occupied by Fascist Italy and annexed with Italian-possessed Eritrea and Somaliland, later forming Italian East Africa. In 1941, during ...\n",
      "Transition from Republic to Empire​​ Rome had begun expanding shortly after the founding of the republic in the 6th century BC, though it did not expand outside ...\n",
      "\n",
      "---\n",
      "Lewis Hamilton was knighted by the Queen in 2021.\n",
      "['Lewis Hamilton -> 21st century\\nQueen -> 20th century\\n\\nCould the sentence be true based on the time periods alone: Yes']\n",
      "['\\n\\nEntities and dates:\\nLewis Hamilton -> 21st century\\nQueen -> 21st century\\n\\nCould the sentence be true based on the dates alone: Yes']\n",
      "\n",
      "Background Born and raised in Stevenage, Hertfordshire, Hamilton joined the McLaren young driver programme in 1998. This led to a Formula One drive with McLaren from 2007 ...\n",
      "Elizabeth II (Elizabeth Alexandra Mary; 21 April 1926 – 8 September 2022) was Queen of the United Kingdom and other Commonwealth realms from 6 February 1952 ...\n",
      "As discussed above, the Gregorian calendar goes from 1 BCE to 1 CE; there is no year zero. In this case, 2021 is technically the start of the ...\n",
      "\n",
      "---\n",
      "Ponce De Leon used a telegram to report his findings to the king.\n",
      "['Ponce De Leon -> 1493\\ntelegram -> 20th century\\n\\nCould the sentence be true based on the time periods alone: No']\n",
      "['\\n\\nEntities and dates:\\nPonce De Leon -> 15th century\\ntelegram -> 18th century\\n\\nCould the sentence be true based on the dates alone: No']\n",
      "\n",
      "Background It is possible that he began his career of exploration in 1493 as part of Christopher Columbus's second expedition to the New World. In 1502 he ...\n",
      "It was launched for iOS on 14 August 2013 and Android on 20 October 2013. The servers of Telegram are distributed worldwide with five data centers in different ...\n",
      "Martin Luther King, Jr., original name Michael King, Jr., (born January 15, 1929, Atlanta, Georgia, U.S.—died April 4, 1968, Memphis, Tennessee ...\n",
      "\n",
      "---\n",
      "The laptop Benjamin Franklin used to draft editions of Poor Richard's Almanack is on display at the American History Museum.\n",
      "[\"laptop -> 18th century\\nBenjamin Franklin -> 18th century\\nPoor Richard's Almanack -> 18th century\\nAmerican History Museum -> 19th century\"]\n",
      "['\\n\\nEntities and dates:\\nLaptop -> 21st century\\nBenjamin Franklin -> 18th century\\n\\nCould the sentence be true based on the dates alone: No']\n",
      "\n",
      "Background William Franklin​​ William was born on February 22, 1730, but his mother's identity is unknown. He was educated in Philadelphia and beginning at about age 30 ...\n",
      "The publication appeared continually from 1732 to 1758. It sold exceptionally well for a pamphlet published in the Thirteen Colonies; print runs reached 10,000 ...\n",
      "The American Museum of Natural History (abbreviated as AMNH) is a natural history museum on the Upper West Side of Manhattan in New York City.\n",
      "\n",
      "---\n",
      "Attila the Hun acted in the live-action remake of Mulan.\n",
      "['Attila the Hun -> 4th to 6th century\\nMulan -> 4th to 6th century\\n\\nCould the sentence be true based on the time periods alone: Yes']\n",
      "['\\n\\nEntities and dates:\\nAttila the Hun -> 5th century\\nMulan -> 2020\\n\\nCould the sentence be true based on the dates alone: No']\n",
      "\n",
      "Background Attila frequently called Attila the Hun, was the ruler of the Huns from 434 until his death in March 453. He was also the leader of a tribal empire ...\n",
      "is a legendary folk heroine from the Northern and Southern dynasties era (4th to 6th century CE) of Chinese history. According to legend, Mulan took her aged ...\n",
      "\n",
      "---\n",
      "Virtually all of the Southern U.S. slaves were aware of what the 13th amendment to the U.S. Constitution meant for them.\n",
      "['Southern U.S. slaves -> 15th century - late 19th century\\n13th amendment -> late 19th century\\n\\nCould the sentence be true based on the time periods alone: Yes']\n",
      "['\\n\\nEntities and dates:\\nSouthern U.S. slaves -> 19th century\\n13th amendment to the U.S. Constitution -> 1865\\n\\nCould the sentence be true based on the dates alone: Yes']\n",
      "\n",
      "Background The Paleo-Indians were the first peoples to inhabit the Americas and what would become the Southern United States. By the time Europeans arrived in the 15th ...\n",
      "Throughout the Middle Ages, (defined by historians as a three-part time period between 500 AD and 1500 AD) the practice of slavery changed ...\n",
      "The amendment was ratified on December 6, 1865, and ended the argument about whether slavery was legal in the United States.\n",
      "The document was written at the 1787 Philadelphia Convention and was ratified through a series of state conventions held in 1787 and 1788.\n",
      "\n",
      "---\n",
      "The winner of the first ever F1 World Championship was Dale Earnhardt Jr.\n",
      "['F1 World Championship -> since 1950\\nDale Earnhardt Jr. -> 1974\\n\\nCould the sentence be true based on the time periods alone: No']\n",
      "['\\n\\nEntities and dates:\\nF1 World Championship -> 1950\\nDale Earnhardt Jr. -> 1951\\n\\nCould the sentence be true based on the dates alone: No']\n",
      "\n",
      "Background The World Drivers' Championship, which became the FIA Formula One World Championship in 1981, has been one of the premier forms of racing around the world since ...\n",
      "Ralph Dale Earnhardt Jr. (born October 10, 1974) is an American semi-retired professional stock car racing driver, team owner, author, and an analyst for ...\n",
      "\n",
      "---\n",
      "Ancient Greek philosophers loved to play golf in their spare time.\n",
      "['ancient Greek philosophers -> 6th century BC\\ngolf -> 15th century\\n\\nCould the sentence be true based on the time periods alone: No']\n",
      "['\\n\\nEntities and dates:\\n\\nAncient Greek philosophers -> 5th century BC\\n\\nGolf -> 15th century\\n\\nCould the sentence be true based on the dates alone: No']\n",
      "\n",
      "Background Most of these regions were officially unified only once, for 13 years, under Alexander the Great's empire from 336 to 323 BC (though this excludes a number of ...\n",
      "The separation of philosophy and science from theology began in Greece during the 6th century BC. Thales, an astronomer and mathematician, was considered by ...\n",
      "The modern game of golf originated in 15th century Scotland. The 18-hole round was created at the Old Course at St Andrews in 1764. Golf's first major, and the ...\n",
      "\n",
      "---\n",
      "Catherine the Great waltzed with the Qianlong Emperor at Catherine Palace.\n",
      "['Catherine the Great -> 18th century\\nQianlong Emperor -> 18th century\\nCatherine Palace -> 18th century\\n\\nCould the sentence be true based on the time periods alone: Yes']\n",
      "['\\n\\nEntities and dates:\\nCatherine the Great -> 18th century\\nQianlong Emperor -> 18th century\\nCatherine Palace -> 18th century\\n\\nCould the sentence be true based on the dates alone: Yes']\n",
      "\n",
      "Background Born: May 2, 1729 Szczecin Poland ; Died: November 17, 1796 (aged 67) Pushkin Russia ; Title / Office: empress (1762-1796), Russian Empire\n",
      "Born: September 25, 1711 China ; Died: February 7, 1799 (aged 87) Beijing China ; Title / Office: emperor (1735-1796), China ; House / Dynasty: ...\n",
      "The Catherine Palace is a Rococo palace in Tsarskoye Selo (Pushkin), 30 km south of St. Petersburg, Russia. It was the summer residence of the Russian tsars ...\n",
      "\n",
      "---\n",
      "Thomas Edison, Leonardo da Vinci, and Galileo Galilei, met in Geneva to envision the future of 5G wireless technology.\n",
      "['Thomas Edison -> 19th century\\nLeonardo da Vinci -> 15th century\\nGalileo Galilei -> 16th century\\nGeneva -> before the Roman occupation\\n5G -> predicted for 2025']\n",
      "['\\n\\nEntities and dates:\\nThomas Edison -> Late 19th century\\nLeonardo da Vinci -> Late 15th/early 16th century\\nGalileo Galilei -> Late 16th/early 17th century\\n\\nCould the sentence be true based on the dates alone: No']\n",
      "\n",
      "Background Electric power distribution​​ On December 17, 1880, he founded the Edison Illuminating Company, and during the 1880s, he patented a system for electricity ...\n",
      "First Florentine period (1472–c. 1482) Leonardo's earliest known dated work is a 1473 pen-and-ink drawing of the Arno valley. According to Vasari, the young ...\n",
      "Galileo was born in Pisa, Tuscany, on February 15, 1564, the oldest son of Vincenzo Galilei, a musician who made important contributions to ...\n",
      "The History of Geneva dates from before the Roman occupation in the second century BC. Now the principal French-speaking city of Switzerland, Geneva was an ...\n",
      "5G networks are predicted to have more than 1.7 billion subscribers and account for 25% of the worldwide mobile technology market by 2025, according to the GSM ...\n",
      "\n",
      "---\n",
      "Hannibal of Carthage would eventually pour gold down the throat of the richest man in Rome, Crassus the real estate mogul.\n",
      "['Hannibal -> 3rd century BC\\nCrassus -> 1st century BC\\n\\nCould the sentence be true based on the time periods alone: Yes']\n",
      "['\\n\\nEntities and dates:\\nHannibal of Carthage -> 3rd century BCE\\nCrassus -> 1st century BCE\\n\\nCould the sentence be true based on the dates alone: Yes']\n",
      "\n",
      "Background Hannibal lived during a period of great tension in the Mediterranean Basin, triggered by the emergence of the Roman Republic as a great power with its ...\n",
      "The city of Carthage was founded in the 9th century BC on the coast of Northwest Africa, in what is now Tunisia, as one of a number of Phoenician ...\n",
      "Roman tradition claimed that Rome had been under the control of seven kings from 753 to 509 BC beginning with the mythical Romulus who was said to have founded ...\n",
      "Marcus Licinius Crassus was a Roman general and statesman who played a key role in the transformation of the Roman Republic into the Roman Empire. He is ...\n",
      "\n",
      "---\n",
      "The Mongolian horse rider used his bow to hunt the deer.\n",
      "['Mongolian horse rider -> 13th century\\nMongol empire -> 1206\\nbow and arrow -> 17,500-18,000 years ago\\ndeer -> until early March']\n",
      "['\\n\\nEntities and dates:\\nMongolian horse rider -> 13th century\\ndeer -> 3rd century\\n\\nCould the sentence be true based on the dates alone: No']\n",
      "\n",
      "Background Mongol empire, empire founded by Genghis Khan in 1206. Originating from the Mongol heartland in the Steppe of central Asia, by the late 13th ...\n",
      "The evolution of the horse, a mammal of the family Equidae, occurred over a geologic time scale of 50 million years, transforming the small, dog-sized, ...\n",
      "Rider is a Rider Class Servant in Fate/Stay Night--Fate, Unlimited Blade Works, ... she is said to be one of legends born by the gathering of belief.\n",
      "The earliest definite remains of bow and arrow from Europe are possible fragments from Germany found at Mannheim-Vogelstang dated 17,500–18,000 years ago, and ...\n",
      "Some species mate until early March. The gestation period is anywhere up to ten months for the European roe deer. Most fawns are born with their fur covered ...\n",
      "\n",
      "---\n",
      "The Lewis and Clark Expedition began in modern day Oregon and ended in what's now Missouri.\n",
      "['Lewis and Clark Expedition -> early 19th century\\nOregon -> early 19th century\\nMissouri -> early 19th century\\n\\nCould the sentence be true based on the time periods alone: Yes']\n",
      "['\\n\\nEntities and dates:\\nLewis and Clark Expedition -> 1804-1806\\nOregon -> 1859\\nMissouri -> 1821\\n\\nCould the sentence be true based on the dates alone: No']\n",
      "\n",
      "Background Clive Staples Lewis was born in Belfast in Ulster, Ireland (before partition), on 29 November 1898. His father was Albert James Lewis (1863–1929), a solicitor ...\n",
      "The Lewis and Clark Expedition began in 1804, when President Thomas Jefferson tasked Meriwether Lewis with exploring the lands west of the ...\n",
      "Commissioning and preparation · Expedition from May 14, 1804, to October 16, 1805.\n",
      "In 1843, an autonomous government was formed in the Oregon Country, and the Oregon Territory was created in 1848. Oregon became the 33rd state of the U.S. on ...\n",
      "The history of Missouri begins with settlement of the region by indigenous people during the Paleo-Indian period beginning in about 12,000 BC.\n",
      "\n",
      "---\n",
      "The author was knighted by Queen Elizabeth II in 1943.\n",
      "['author -> late 20th century \\nQueen Elizabeth II -> 20th century\\n\\nCould the sentence be true based on the time periods alone: Yes']\n",
      "['\\n\\nEntities and dates:\\nAuthor -> 20th century\\nQueen Elizabeth II -> 20th century\\n\\nCould the sentence be true based on the dates alone: Yes']\n",
      "\n",
      "Background An author is the creator or originator of any written work such as a book or play, and is also considered a writer or poet. More broadly defined, an author ...\n",
      "Elizabeth II was Queen of the United Kingdom and other Commonwealth realms from 6 February 1952 until her death in 2022. She was queen regnant of 32 ...\n",
      "\n",
      "---\n",
      "The tourist walked his new pet dodo bird, only to be arrested by the Icelandic police.\n",
      "['tourist -> 16th century\\ndodo -> 17th century\\nIcelandic police -> 1778\\n\\nCould the sentence be true based on the time periods alone: No']\n",
      "['\\n\\nEntities and dates:\\nThe tourist -> 21st century\\nDodo bird -> 16th century\\n\\nCould the sentence be true based on the dates alone: No']\n",
      "\n",
      "Background An early form and precursor of modern tourism was the grand tour undertaken by young nobles between the 16th and 18th centuries. (➔ Media Link ...\n",
      "The dodo was extinct by 1681, the Réunion solitaire by 1746, and the Rodrigues solitaire by about 1790.\n",
      "In Iceland, the Police is the national police force of Iceland. It is responsible for law ... With laws shall lands be built. Agency overview. Formed, 1778. Employees, c. 786 (2019). Jurisdictional structure. National agency · Iceland.\n",
      "\n",
      "---\n",
      "The scientist used his cell phone to take a picture of the freshly built Perserverance rover.\n",
      "['cell phone -> mid 1980s\\nscientist -> late 20th century\\nPerseverance rover -> early 21st century\\n\\nCould the sentence be true based on the time periods alone: Yes']\n",
      "['\\n\\nEntities and dates:\\nThe scientist -> 21st century\\nCell phone -> 21st century\\nPerserverance rover -> 21st century\\n\\nCould the sentence be true based on the dates alone: Yes']\n",
      "\n",
      "Background The earliest roots of science can be traced to Ancient Egypt and Mesopotamia in around 3000 to 1200 BCE. Their contributions to mathematics, astronomy, and ...\n",
      "Enabling technology for mobile phones was first developed in the 1940s but it was not until the mid 1980s that they became widely available.\n",
      "As of 3 October 2022, Perseverance has been active on Mars for 576 sols (592 Earth days, or 1 year, 7 months and 15 days) since its landing.\n",
      "\n",
      "---\n",
      "The book \"Groundwork of the Metaphysics of Morals\" was written by David Hume.\n",
      "['book -> Tang Dynasty\\nDavid Hume -> Scottish Enlightenment\\n\\nCould the sentence be true based on the time periods alone: Yes']\n",
      "['\\n\\nEntities and dates:\\nThe book \"Groundwork of the Metaphysics of Morals\" -> 18th century\\nDavid Hume -> 18th century\\n\\nCould the sentence be true based on the dates alone: Yes']\n",
      "\n",
      "Background Although there is no exact date known, between 618 and 907 CE—The period of the Tang Dynasty—the first printing of books started in China. The oldest extant ...\n",
      "David Hume (/hjuːm/; born David Home; 7 May 1711 NS (26 April 1711 OS) – 25 August 1776) was a Scottish Enlightenment philosopher, historian, economist, ...\n",
      "\n",
      "---\n",
      "Celine Dion wrote most of her programming scripts in Julia.\n",
      "['Celine Dion -> late 20th century\\nJulia -> late 20th century\\n\\nCould the sentence be true based on the time periods alone: Yes']\n",
      "['\\n\\nEntities and dates:\\nCeline Dion -> late 20th/early 21st century\\nJulia -> early 21st century\\n\\nCould the sentence be true based on the dates alone: Yes']\n",
      "\n",
      "Background 1968–1989: Early life and career beginnings​​ She was raised a Roman Catholic in a poor but, by her own account, happy home in Charlemagne. Music had always been ...\n",
      "Julia is a fictional character in George Orwell's 1949 dystopian novel Nineteen Eighty-Four. ... Julia was born in 1958 in Oceania, the super-state combining North ...\n",
      "\n",
      "---\n",
      "Hedy Lamarr wrote most of her programming scripts in Julia.\n",
      "['Hedy Lamarr -> 20th century\\nJulia -> late 20th century\\n\\nCould the sentence be true based on the time periods alone: Yes']\n",
      "['\\n\\nEntities and dates:\\nHedy Lamarr -> 20th century\\nJulia -> 21st century\\n\\nCould the sentence be true based on the dates alone: Yes']\n",
      "\n",
      "Background Hedy Lamarr (/ˈhɛdi/; born Hedwig Eva Maria Kiesler; November 9, 1914 – January 19, 2000) was an Austrian-born American film actress and inventor.\n",
      "Julia is a fictional character in George Orwell's 1949 dystopian novel Nineteen Eighty-Four. ... Julia was born in 1958 in Oceania, the super-state combining North ...\n",
      "\n",
      "---\n",
      "The Great Depression occurred during the Salem Witch Trials.\n",
      "['Great Depression -> 1929-1939\\nSalem Witch Trials -> 1692-1693\\n\\nCould the sentence be true based on the time periods alone: No']\n",
      "['\\n\\nEntities and dates:\\nThe Great Depression -> 1930s\\nSalem Witch Trials -> 1692\\n\\nCould the sentence be true based on the dates alone: No']\n",
      "\n",
      "Background The Great Depression was a severe worldwide economic depression between 1929 and 1939 that began after a major fall in stock prices in the United States.\n",
      "The Salem witch trials were a series of hearings and prosecutions of people accused of witchcraft in colonial Massachusetts between February 1692 and May 1693. ...\n",
      "\n",
      "---\n",
      "The brand new Ford Model T used its solar panel to keep its batteries charged.\n",
      "['Ford Model T -> early 20th century\\nsolar panel -> mid 19th century\\n\\nCould the sentence be true based on the time periods alone: No']\n",
      "['\\n\\nEntities and dates:\\nFord Model T -> 1908\\nSolar Panel -> 1839\\n\\nCould the sentence be true based on the dates alone: No']\n",
      "\n",
      "Background More than 15,000,000 Model T's were built and sold. In May 1927 a ceremony was held to honor the end of production of the Model T. It was the end of an era.\n",
      "Inventors have been advancing solar technology for more than a century and a half, and improvements in efficiency and aesthetics keep on coming.\n",
      "Batteries provided the primary source of electricity before the development of electric generators and electrical grids around the end of the 19th century.\n",
      "\n",
      "---\n",
      "The mason used a jackhammer to shape what would become the cornerstone of the Notre Dame Cathedral.\n",
      "['George Mason -> late 18th century\\njackhammer -> late 19th century\\nNotre Dame Cathedral -> 12th century\\n\\nCould the sentence be true based on the time periods alone: No']\n",
      "['\\n\\nEntities and dates:\\nThe mason -> 12th century\\nNotre Dame Cathedral -> 12th century\\n\\nCould the sentence be true based on the dates alone: Yes']\n",
      "\n",
      "Background George Mason (December 11, 1725 [O.S. November 30, 1725] – October 7, 1792) was an American ... Mason was born in 1725, most likely in what is now Fairfax County, ...\n",
      "A jackhammer is a pneumatic or electro-mechanical tool that combines a hammer directly with a chisel. It was invented by William Mcreavy, who then sold the ...\n",
      "Construction of the cathedral began in 1163 under Bishop Maurice de Sully and was largely completed by 1260, though it was modified frequently in the centuries ...\n",
      "\n",
      "---\n",
      "Dwight Eisenhower was a Chief Master Sergeant of the Space Force.\n",
      "['Dwight Eisenhower -> 20th century\\nSpace Force -> 21st century\\n\\nCould the sentence be true based on the time periods alone: No']\n",
      "['\\n\\nEntities and dates:\\nDwight Eisenhower -> 20th century\\nSpace Force -> 21st century\\n\\nCould the sentence be true based on the dates alone: No']\n",
      "\n",
      "Background Dwight D. Eisenhower ; In office. May 8, 1945 – November 10, 1945 ; In office. May 8, 1945 – November 10, 1945 · Harry S. Truman · Position established · George S.\n",
      "He was formally installed by Gen. McConnell on April 3, 1967. The chief was born in New Bedford, Mass. He entered military service after two years of high ...\n",
      "The U.S. Space Force was established Dec. 20, 2019 when the National Defense Authorization Act was signed into law (with bi-partisan support), creating the ...\n",
      "\n",
      "---\n",
      "Vasco de Gama avoided shipwreck by the Cape of Good Hope thanks to his GPS maps.\n",
      "['Vasco de Gama -> 1497\\nCape of Good Hope -> 1497\\nGPS -> 1973']\n",
      "['\\n\\nEntities and dates:\\nVasco de Gama -> 15th century\\nGPS -> 20th century\\n\\nCould the sentence be true based on the dates alone: No']\n",
      "\n",
      "Background The first voyage ... Da Gama sailed from Lisbon on July 8, 1497, with a fleet of four vessels—two medium-sized three-masted sailing ships, each of ...\n",
      "Cape of Good Hope, rocky promontory at the southern end of Cape Peninsula, Western Cape province, South Africa. The first European to sight the cape was ...\n",
      "The GPS project was started by the U.S. Department of Defense in 1973. The first prototype spacecraft was launched in 1978 and the full constellation of 24 ...\n",
      "\n",
      "---\n",
      "I set sail across the river on my favorite duck boat into Washington DC to see my friends who live there.\n",
      "['I -> 21st century\\nriver -> pre-industrial era\\nWashington DC -> 18th century\\nFriends -> 20th century\\n\\nCould the sentence be true based on the time periods alone: No']\n",
      "['\\n\\nEntities and dates:\\nI -> 21st century\\nWashington DC -> 21st century\\n\\nCould the sentence be true based on the dates alone: Yes']\n",
      "\n",
      "Background Generation Z Characteristics. Gen Z, also known as iGen, Centennials, etc., starts with those born in approximately 1996. The oldest members of this generation ...\n",
      "A river is a natural flowing watercourse, usually freshwater, flowing towards an ocean, sea, ... In the pre-industrial era, larger rivers were a major obstruction to the ...\n",
      "The City of Washington was founded in 1791 to serve as the national capital, and Congress held its first session there in 1800. In 1801, the territory, formerly ...\n",
      "Friends is an American television sitcom created by David Crane and Marta Kauffman, which aired on NBC from September 22, 1994, to May 6, 2004, ...\n",
      "\n",
      "---\n",
      "The builders of the pyramids at Giza listened to jazz during their break.\n",
      "['pyramids at Giza -> 2589-2504 BC\\njazz -> late 19th century - early 20th century\\n\\nCould the sentence be true based on the time periods alone: No']\n",
      "['\\n\\nEntities and dates:\\nThe builders of the pyramids at Giza -> 26th century BC\\nJazz -> late 19th century\\n\\nCould the sentence be true based on the dates alone: No']\n",
      "\n",
      "Background The first mud bricks, formed with the hands rather than wooden moulds, belong to the Neolithic period and were found in Jericho. One of the largest structures ...\n",
      "Historical analysis tells us that the Egyptians built the Giza Pyramids in a span of 85 years between 2589 and 2504 BC.\n",
      "All three of Giza's famed pyramids and their elaborate burial complexes were built during a frenetic period of construction, from roughly 2550 to 2490 B.C. The ...\n",
      "Jazz is a music genre that originated in the African-American communities of New Orleans, Louisiana in the late 19th and early 20th centuries, ...\n",
      "\n",
      "---\n",
      "Dr. Elizabeth Garrett Anderson lifted her hand from her dark colored dress and traced the pharaoh's cartouche on the newly transported obelisk in the City of Westminster.\n",
      "['Dr. Elizabeth Garrett Anderson -> 19th century\\npharaoh -> 18th dynasty\\nobelisk -> 7th century\\nCity of Westminster -> 11th century']\n",
      "['\\n\\nEntities and dates:\\nDr. Elizabeth Garrett Anderson -> 19th century\\nThe City of Westminster -> 11th century\\n\\nCould the sentence be true based on the dates alone: No']\n",
      "\n",
      "Background 1813–1903), from London. The Garrett ancestors had been ironworkers in East Suffolk since the early seventeenth century.\n",
      "Black has always been a color rich in symbolism. In the early 16th century, black represented wealth among Spanish Aristocrats and Dutch merchants as it was ...\n",
      "The word came to be used metonymically for the Egyptian king under the New Kingdom (starting in the 18th dynasty, 1539–1292 bce), and by the 22 ...\n",
      "The first examples of the cartouche are associated with pharaohs at the end of the Third Dynasty, but the feature did not come into common use until the ...\n",
      "In 357 CE, Emperor Constantius II had two Karnak Temple obelisks removed and transported down the Nile to Alexandria to commemorate his ventennalia, the 20th ...\n",
      "The abbey's origins date from between the 7th and 10th centuries, but it rose to national prominence when rebuilt by Edward the Confessor in the 11th.\n",
      "\n",
      "---\n",
      "The tourist walked his new pet turtle, only to be arrested by the Icelandic police.\n",
      "['tourist -> 16th century\\npet turtle -> 21st century\\nIcelandic police -> 18th century\\n\\nCould the sentence be true based on the time periods alone: No']\n",
      "['\\n\\nEntities and dates:\\nThe tourist -> 21st century\\nPet turtle -> 21st century\\nIcelandic police -> 21st century\\n\\nCould the sentence be true based on the dates alone: Yes']\n",
      "\n",
      "Background An early form and precursor of modern tourism was the grand tour undertaken by young nobles between the 16th and 18th centuries. (➔ Media Link ...\n",
      "In other species, sex is determined genetically. The length of incubation for turtle eggs varies from two to three months for temperate species, and four ...\n",
      "In Iceland, the Police is the national police force of Iceland. It is responsible for law ... With laws shall lands be built. Agency overview. Formed, 1778. Employees, c. 786 (2019). Jurisdictional structure. National agency · Iceland.\n",
      "\n",
      "---\n",
      "Utahraptor was capable of hunting large herbivores like the Iguanodon.\n",
      "['Utahraptor -> Early Cretaceous period\\nIguanodon -> late Jurassic Period to early Cretaceous Period\\n\\nCould the sentence be true based on the time periods alone: Yes']\n",
      "['\\n\\nEntities and dates:\\nUtahraptor -> Late Cretaceous\\nIguanodon -> Early Cretaceous\\n\\nCould the sentence be true based on the dates alone: No']\n",
      "\n",
      "Background Utahraptor (meaning \"Utah's predator\") is a genus of large dromaeosaurid dinosaur that lived in North America during the Early Cretaceous period.\n",
      "While many species have been classified in the genus Iguanodon, dating from the late Jurassic Period to the early Cretaceous Period of Asia, Europe, and North ...\n",
      "\n",
      "---\n",
      "Early hip hop was inspired by Cold War politics.\n",
      "['hip hop -> 1970s\\nCold War -> 1945']\n",
      "['\\n\\nEntities and dates:\\nEarly hip hop -> 1970s\\nCold War politics -> 1945-1991\\n\\nCould the sentence be true based on the dates alone: Yes']\n",
      "\n",
      "Background Hip hop as both a musical genre and a culture was formed during the 1970s when block parties became increasingly popular in New York City, particularly among ...\n",
      "The first phase of the Cold War began shortly after the end of World War II in 1945. The United States and its allies created the NATO military alliance in ...\n",
      "\n",
      "---\n",
      "The winner of the first ever F1 World Championship was Giuseppe Farina.\n",
      "['F1 World Championship -> 1950\\nGiuseppe Farina -> 1950']\n",
      "['\\n\\nEntities and dates:\\nF1 World Championship -> 1950\\nGiuseppe Farina -> 1950\\n\\nCould the sentence be true based on the dates alone: Yes']\n",
      "\n",
      "Background The World Drivers' Championship, which became the FIA Formula One World Championship in 1981, has been one of the premier forms of racing around the world since ...\n",
      "was an Italian racing driver and first official Formula One World Champion. He gained the title in 1950. He was the Italian Champion in 1937, 1938 and 1939.\n",
      "\n",
      "---\n",
      "McKenzie Scott and Bill Gates announced their divorce after 27 years of marriage.\n",
      "['MacKenzie Scott -> 2020 \\nBill Gates -> 1975\\n\\nCould the sentence be true based on the time periods alone: No']\n",
      "['\\n\\nEntities and dates:\\nMcKenzie Scott -> 21st century\\nBill Gates -> 21st century\\n\\nCould the sentence be true based on the dates alone: Yes']\n",
      "\n",
      "Background Scott was named one of the world's most powerful women by Forbes in 2021, and one of Time's 100 Most Influential People of 2020. MacKenzie Scott. Born.\n",
      "Gates was born and raised in Seattle, Washington. In 1975, he and Allen founded Microsoft in Albuquerque, New Mexico. It became the world's largest personal ...\n",
      "\n",
      "---\n",
      "The quill Benjamin Franklin used to draft editions of Poor Richard's Almanack is on display at the American History Museum.\n",
      "[\"Benjamin Franklin -> 1700s\\nPoor Richard's Almanack -> 1700s\\nAmerican History Museum -> 1800s\\n\\nCould the sentence be true based on the time periods alone: No\"]\n",
      "[\"\\n\\nEntities and dates:\\nQuill -> 18th century\\nBenjamin Franklin -> 18th century\\nPoor Richard's Almanack -> 18th century\\nAmerican History Museum -> 21st century\\n\\nCould the sentence be true based on the dates alone: Yes\"]\n",
      "\n",
      "Background William Franklin​​ William was born on February 22, 1730, but his mother's identity is unknown. He was educated in Philadelphia and beginning at about age 30 ...\n",
      "The publication appeared continually from 1732 to 1758. It sold exceptionally well for a pamphlet published in the Thirteen Colonies; print runs reached 10,000 ...\n",
      "The American Museum of Natural History (abbreviated as AMNH) is a natural history museum on the Upper West Side of Manhattan in New York City.\n",
      "\n",
      "---\n",
      "The T. rex was running toward the triceratops grazing outside.\n",
      "['T. rex -> Late Cretaceous\\ntriceratops -> Late Cretaceous\\n\\nCould the sentence be true based on the time periods alone: Yes']\n",
      "['\\n\\nEntities and dates:\\nT. rex -> late Cretaceous period\\nTriceratops -> late Cretaceous period\\n\\nCould the sentence be true based on the dates alone: Yes']\n",
      "\n",
      "Background T.rex lived at the very end of the Late Cretaceous, which was about 90 to 66 million years ago.\n",
      "Triceratops is a genus of herbivorous chasmosaurine ceratopsid dinosaur that first appeared during the late Maastrichtian stage of the Late Cretaceous ...\n",
      "\n",
      "---\n",
      "George Washington Carver told Mahatama Gandhi to eat more Soylent to improve his nutrition.\n",
      "['George Washington Carver -> 1864\\nMahatama Gandhi -> 1864\\nSoylent -> present day\\n\\nCould the sentence be true based on the time periods alone: No']\n",
      "['\\n\\nEntities and dates:\\nGeorge Washington Carver -> 19th century\\nMahatama Gandhi -> 20th century\\n\\nCould the sentence be true based on the dates alone: No']\n",
      "\n",
      "Background Born on a farm near Diamond, Missouri, the exact date of Carver's birth is unknown, but it's thought he was born in January or June of 1864.\n",
      "Born and raised in a Hindu family in coastal Gujarat, Gandhi trained in the law at the Inner Temple, London, and was called to the bar at age 22 in June ...\n",
      "Soylent, produced by Soylent Nutrition, Inc., is an American company that produces meal replacement products in powder, shake, and bar forms.\n",
      "\n",
      "---\n",
      "Ellen Johnson-Sirleaf invented Dogecoin in her spare time.\n",
      "['Ellen Johnson-Sirleaf -> late 20th century\\nDogecoin -> 21st century\\n\\nCould the sentence be true based on the time periods alone: Yes']\n",
      "['\\n\\nEntities and dates:\\nEllen Johnson-Sirleaf -> 21st century\\nDogecoin -> 21st century\\n\\nCould the sentence be true based on the dates alone: Yes']\n",
      "\n",
      "Background Born: October 29, 1938 (age 83) Monrovia Liberia ; Title / Office: president (2006-2018), Liberia ; Awards And Honors: Ibrahim Prize for Achievement in African ...\n",
      "It was introduced on December 6, 2013, and quickly developed its own online community, reaching a market capitalization of over $85 billion on May 5, 2021. It ...\n",
      "\n",
      "---\n",
      "Surena of the Parthian Empire would eventually pour gold down the throat of the richest man in Rome, Crassus the real estate mogul.\n",
      "['Surena -> 1st century BC\\nParthian Empire -> 247 BC to 224 AD\\nCrassus -> Late Roman Republic']\n",
      "['\\n\\nEntities and dates:\\nSurena -> 1st century BCE\\nParthian Empire -> 3rd century BCE - 1st century CE\\nRome -> 753 BCE - 476 CE\\nCrassus -> 115 BCE - 53 BCE\\n\\nCould the sentence be true based on the dates alone: Yes']\n",
      "\n",
      "Background Surena or Suren, also known as Rustaham Suren (died 53 BC) was a Parthian spahbed (\"general\" or \"commander\") during the 1st century BC.\n",
      "The Parthian Empire also known as the Arsacid Empire was a major Iranian political and cultural power in ancient Iran from 247 BC to 224 AD.\n",
      "Roman tradition claimed that Rome had been under the control of seven kings from 753 to 509 BC beginning with the mythical Romulus who was said to have founded ...\n",
      "Marcus Licinius Crassus was a Roman general and statesman who played a key role in the transformation of the Roman Republic into the Roman Empire. He is ...\n",
      "\n",
      "---\n",
      "Ponce De Leon used a messenger pigeon to report his findings to the king.\n",
      "['Ponce De Leon -> 16th century \\nmessenger pigeon -> 20,000 years ago\\n\\nCould the sentence be true based on the time periods alone: No']\n",
      "['\\n\\nEntities and dates:\\nPonce De Leon -> 15th century\\nMessenger pigeon -> 3rd century BC - 4th century AD\\n\\nCould the sentence be true based on the dates alone: No']\n",
      "\n",
      "Background It is possible that he began his career of exploration in 1493 as part of Christopher Columbus's second expedition to the New World. In 1502 he ...\n",
      "This study found evidence that the passenger-pigeon population had been stable for at least the previous 20,000 years. The study also found that the size of ...\n",
      "Martin Luther King, Jr., original name Michael King, Jr., (born January 15, 1929, Atlanta, Georgia, U.S.—died April 4, 1968, Memphis, Tennessee ...\n",
      "\n",
      "---\n",
      "The student recorded a live video of Tlahuicole fighting.\n",
      "['student -> present day\\nTlahuicole -> 1851\\n\\nCould the sentence be true based on the time periods alone: Yes']\n",
      "['\\n\\nEntities and dates:\\nThe student -> 21st century\\nTlahuicole -> 16th century\\n\\nCould the sentence be true based on the dates alone: No']\n",
      "\n",
      "Background These rights transfer to the student when he or she reaches the age of 18 or attends a school beyond the high school level.\n",
      "Spanish-born sculptor Manuel Vilar created a plaster cast of Tlahuicole, the Tlaxcaltecan General, Fighting in the Gladiatorial Sacrifice in 1851 while ...\n",
      "\n",
      "---\n",
      "Dwight Eisenhower was a General in the United States Army.\n",
      "['Dwight Eisenhower -> WWII\\nUnited States Army -> 14 June 1775']\n",
      "['\\n\\nEntities and dates:\\nDwight Eisenhower -> 20th century\\nUnited States Army -> 18th century\\n\\nCould the sentence be true based on the dates alone: Yes']\n",
      "\n",
      "Background Dwight D. Eisenhower ; In office. May 8, 1945 – November 10, 1945 ; In office. May 8, 1945 – November 10, 1945 · Harry S. Truman · Position established · George S.\n",
      "United States Army ; Founded, 14 June 1775 (1775-06-14) · (247 years, 3 months ago) ; Country, United States ; Type, Army ; Role, Prompt and sustained land combat\n",
      "\n",
      "---\n",
      "Thomas Jefferson enjoyed honeycrisp apples on summer afternoons.\n",
      "['Thomas Jefferson -> 1743-1826 \\nHoneycrisp -> 1990s\\nSummer Afternoon -> 1903\\n\\nCould the sentence be true based on the time periods alone: No']\n",
      "['\\n\\nEntities and dates:\\nThomas Jefferson -> 18th century\\nHoneycrisp apples -> 20th century\\n\\nCould the sentence be true based on the dates alone: No']\n",
      "\n",
      "Background Thomas Jefferson (April 13, 1743 – July 4, 1826) was an American statesman, diplomat, ... The same year, Jefferson signed the Act Prohibiting Importation of Slaves ...\n",
      "The Honeycrisp is a millennial apple born in the 1990s, after years of careful planning. It's also considered the first “brand name” apple ...\n",
      "Summer Afternoon is one of the most beautiful and important paintings executed by Nolde in 1903, in a crucial period of his artistic career.\n",
      "\n",
      "---\n",
      "The T. rex was running toward the herd of Wagyu cattle grazing outside.\n",
      "['T. rex -> Late Cretaceous\\nWagyu cattle -> 2,000 years ago\\n\\nCould the sentence be true based on the time periods alone: No']\n",
      "['\\n\\nEntities and dates:\\nT. rex -> Late Cretaceous period\\nWagyu cattle -> Late 20th century\\n\\nCould the sentence be true based on the dates alone: No']\n",
      "\n",
      "Background T.rex lived at the very end of the Late Cretaceous, which was about 90 to 66 million years ago.\n",
      "Wagyu around the World - Japan​​ Cattle were raised for labour for 2,000 years and the selection pressure for draught capabilities resulted in this breed ...\n",
      "\n",
      "---\n",
      "The pet dog was barking loudly at the triceratops fossil outside.\n",
      "['dog -> 11,000 years ago\\ntriceratops -> 3 million years ago\\n\\nCould the sentence be true based on the time periods alone: No']\n",
      "['\\n\\nEntities and dates:\\nPet dog -> 21st century\\nTriceratops fossil -> 65 million years ago\\n\\nCould the sentence be true based on the dates alone: No']\n",
      "\n",
      "Background The domestication of the dog predates agriculture, and it was not until 11,000 years ago in the Holocene era that people living in the Near East entered into ...\n",
      "Fossils of “three-horned face,” as its Latin name is usually translated, date to the final 3 million years of the Cretaceous Period (145.5 ...\n",
      "\n",
      "---\n",
      "The first ever movie in color depicted the life of Angela Merkel.\n",
      "['movie in color -> late 19th century \\nAngela Merkel -> late 20th century\\n\\nCould the sentence be true based on the time periods alone: No']\n",
      "['\\n\\nEntities and dates:\\nThe first ever movie in color -> 20th century\\nAngela Merkel -> 21st century\\n\\nCould the sentence be true based on the dates alone: Yes']\n",
      "\n",
      "Background The history of film chronicles the development of a visual art form created using film technologies that began in the late 19th century.\n",
      "Artists invented the first pigments—a combination of soil, animal fat, burnt charcoal, and chalk—as early as 40,000 years ago, creating a ...\n",
      "Merkel was born in Hamburg in then-West Germany, moving to East Germany as an infant when her father, a Lutheran clergyman, received a pastorate in Perleberg.\n",
      "\n",
      "---\n",
      "Antonio Salieri wrote the opera \"The Marriage of Figaro\".\n",
      "['Antonio Salieri -> 18th century\\nThe Marriage of Figaro -> 18th century']\n",
      "['\\n\\nEntities and dates:\\nAntonio Salieri -> 18th century\\nThe Marriage of Figaro -> 18th century\\n\\nCould the sentence be true based on the dates alone: Yes']\n",
      "\n",
      "Background Antonio Salieri (18 August 1750 – 7 May 1825) was an Italian classical composer, conductor, and teacher. He was born in Legnago, south of Verona, ...\n",
      "It premiered at the Burgtheater in Vienna on 1 May 1786. The opera's libretto is based on the 1784 stage comedy by Pierre Beaumarchais, La folle journée, ou le ...\n",
      "\n",
      "---\n",
      "Stegosaurus is known for its large leathery wings, allowing it to capture Beagles.\n",
      "['Stegosaurus -> Late Jurassic\\nBeagles -> 1830s\\n\\nCould the sentence be true based on the time periods alone: No']\n",
      "['\\n\\nEntities and dates:\\nStegosaurus -> Late Jurassic period\\nBeagles -> 20th century\\n\\nCould the sentence be true based on the dates alone: No']\n",
      "\n",
      "Background Stegosaurus is a genus of herbivorous, four-legged, armored dinosaur from the Late Jurassic, characterized by the distinctive kite-shaped upright plates ...\n",
      "The modern breed was developed in Great Britain around the 1830s from several breeds, including the Talbot Hound, the North Country Beagle, the Southern Hound, ...\n",
      "\n",
      "---\n",
      "The student recorded a live video of Connor McGregor fighting.\n",
      "['student -> after high school\\nConnor McGregor -> present day\\n\\nCould the sentence be true based on the time periods alone: Yes']\n",
      "['\\n\\nEntities and dates:\\nThe student -> 21st century\\nConnor McGregor -> 21st century\\n\\nCould the sentence be true based on the dates alone: Yes']\n",
      "\n",
      "Background These rights transfer to the student when he or she reaches the age of 18 or attends a school beyond the high school level.\n",
      "Conor Anthony McGregor is an Irish professional mixed martial artist. He is a former Ultimate Fighting Championship (UFC) featherweight and lightweight ...\n",
      "\n",
      "---\n",
      "Eric the Red is credited with establishing the first permanent settlements in Greenland.\n",
      "['Eric the Red -> 10th century\\nGreenland -> 10th century\\n\\nCould the sentence be true based on the time periods alone: Yes']\n",
      "['\\n\\nEntities and dates:\\nEric the Red -> 10th century\\nGreenland -> 10th century\\n\\nCould the sentence be true based on the dates alone: Yes']\n",
      "\n",
      "Background Erik Thorvaldsson ( c. 950 – c. 1003), known as Erik the Red, was a Norse explorer, described in medieval and Icelandic saga sources as having founded the ...\n",
      "The earliest known cultures in Greenland are the Saqqaq culture (2500–800 BC) and the Independence I culture in northern Greenland (2400–1300 BC). The ...\n",
      "\n",
      "---\n",
      "Homo Erectus, having survived as a species for millions of years, was known to wield scimitars against Smilodon.\n",
      "['Homo Erectus -> 1.89 million - 110,000 years ago\\nSmilodon -> 2.5 mya - 10,000 years ago\\n\\nCould the sentence be true based on the time periods alone: Yes']\n",
      "['\\n\\nEntities and dates:\\nHomo Erectus -> 1.8 million years ago - 70,000 years ago\\nSmilodon -> 2.5 million years ago - 10,000 years ago\\n\\nCould the sentence be true based on the dates alone: No']\n",
      "\n",
      "Background Homo erectus lived between about 1.89 million and 110,000 years ago. Image of reconstruction of Homo erectus based on ER 3733 by John Gurche.\n",
      "Smilodon lived in the Americas during the Pleistocene epoch (2.5 mya – 10,000 years ago). The genus was named in 1842 based on fossils from Brazil; the generic ...\n",
      "\n",
      "---\n",
      "Dr. Elizabeth Garrett Anderson lifted her hand from her dark colored moto jacket and traced the pharaoh's cartouche on the newly transported obelisk in the City of Westminster.\n",
      "['Dr. Elizabeth Garrett Anderson -> 19th century\\nmoto jacket -> 20th century\\nobelisk -> 11th century\\n\\nCould the sentence be true based on the time periods alone: No']\n",
      "['\\n\\nEntities and dates:\\nDr. Elizabeth Garrett Anderson -> late 19th century\\nthe City of Westminster -> 21st century\\n\\nCould the sentence be true based on the dates alone: No']\n",
      "\n",
      "Background 1813–1903), from London. The Garrett ancestors had been ironworkers in East Suffolk since the early seventeenth century.\n",
      "A leather jacket is a jacket-length coat that is usually worn on top of other apparel or item of clothing, and made ... The leather material is typically dyed black, or various shades of brown, ...\n",
      "The abbey's origins date from between the 7th and 10th centuries, but it rose to national prominence when rebuilt by Edward the Confessor in the 11th.\n",
      "An obelisk is a tall, four-sided, narrow tapering monument which ends in a pyramid-like shape or pyramidion at the top. Originally constructed by Ancient ...\n",
      "\n",
      "---\n",
      "The pioneers of capoeira recorded their techniques by word of mouth.\n",
      "['pioneers -> 1860 \\ncapoeira -> 16th century\\nmechanical age -> 1450 - 1840\\n\\nCould the sentence be true based on the time periods alone: Yes']\n",
      "['\\n\\nEntities and dates:\\nThe pioneers of capoeira -> 16th century\\n\\nCould the sentence be true based on the dates alone: Yes']\n",
      "\n",
      "Background In 1860, the pioneers of the fledgling movement settled on the name, Seventh-day Adventist, representative of the church's distinguishing beliefs. Three years ...\n",
      "Born of the melting pot of enslaved Africans, Indigenous Brazilians and Portuguese influences (Christianity etc.) at the beginning of the 16th century, Capoeira ...\n",
      "The mechanical age can be defined as the time between 1450 and 1840. A lot of new technologies are developed in this era as there is a large explosion in ...\n",
      "Oral tradition is cultural material and traditions transmitted by word of mouth through successive generations. Storytelling and oral tradition are forms of ...\n",
      "\n",
      "---\n",
      "Alexander the Great received tutelage from Seneca the Elder, a respected philosopher.\n",
      "['Alexander the Great -> 4th century BCE \\nSeneca the Elder -> 1st century CE\\n\\nCould the sentence be true based on the time periods alone: No']\n",
      "['\\n\\nEntities and dates:\\nAlexander the Great -> 4th century BC\\nSeneca the Elder -> 1st century BC\\n\\nCould the sentence be true based on the dates alone: Yes']\n",
      "\n",
      "Background One of the world's greatest military generals, he created a vast empire that stretched from Macedonia to Egypt and from Greece to part of India ...\n",
      "He was Rome's leading intellectual figure in the mid-1st century CE and was virtual ruler with his friends of the Roman world between 54 and 62 ...\n",
      "\n",
      "---\n",
      "The polar bear jumped out of the sea and snagged the Pomeranian from its perch.\n",
      "['polar bear -> billions of years ago\\nPomeranian -> Central Europe\\n\\nCould the sentence be true based on the time periods alone: No']\n",
      "['\\n\\nEntities and dates:\\nPolar bear -> 20th century\\nSea -> 3.6 billion years ago\\nPomeranian -> 19th century\\n\\nCould the sentence be true based on the dates alone: No']\n",
      "\n",
      "Background Although most polar bears are born on land, they spend most of their time on the sea ice. Their scientific name means \"maritime bear\" and derives from this ...\n",
      "The ocean formed billions of years ago. Over vast periods of time, our primitive ocean formed. Water remained a gas until the Earth cooled below ...\n",
      "The Pomeranian is a breed of dog of the Spitz type that is named for the Pomerania region in north-west Poland and north-east Germany in Central Europe.\n",
      "\n",
      "---\n",
      "Even into the 17th century, COVID-19 reappeared and infected millions of people.\n",
      "['COVID-19 -> Early 2020s \\n17th century -> 1601-1700\\n\\nCould the sentence be true based on the time periods alone: No']\n",
      "['\\n\\nEntities and dates:\\nCOVID-19 -> 2020\\n17th century -> 1601-1700\\n\\nCould the sentence be true based on the dates alone: No']\n",
      "\n",
      "Background This was earlier than the 10-day period and only two days after the first reports of limited human-to-human transmission were reported outside ...\n",
      "The 17th century lasted from January 1, 1601 (MDCI), to December 31, 1700 (MDCC). It falls into the early modern period of Europe and in that continent ...\n",
      "\n",
      "---\n",
      "Muhammad al-Khwarizmi used his phone's calculator to confirm the new theory.\n",
      "['Muhammad al-Khwarizmi -> 8th century\\nphone -> 20th century\\ncalculator -> 20th century\\n\\nCould the sentence be true based on the time periods alone: No']\n",
      "[\"\\n\\nEntities and dates:\\nMuhammad al-Khwarizmi -> 9th century\\nphone's calculator -> 21st century\\n\\nCould the sentence be true based on the dates alone: No\"]\n",
      "\n",
      "Background 780 – c. 850), or al-Khwarizmi was a Persian polymath from Khwarazm, who produced vastly influential works in mathematics, astronomy, and geography.\n",
      "Enabling technology for mobile phones was first developed in the 1940s but it was not until the mid 1980s that they became widely available.\n",
      "The first solid-state electronic calculator was created in the early 1960s. Pocket-sized devices became available in the 1970s, especially after the Intel 4004, ...\n",
      "\n",
      "---\n",
      "Pepin the Short's wife, Bertrada, played passionate piano pieces the night before marching into battle.\n",
      "['Pepin the Short -> 8th century\\nBertrada -> 8th century\\npiano -> 18th century\\n\\nCould the sentence be true based on the time periods alone: No']\n",
      "['\\n\\nEntities and dates:\\nPepin the Short -> 8th century\\nBertrada -> 8th century\\n\\nCould the sentence be true based on the dates alone: No']\n",
      "\n",
      "Background Pepin the Short ; 751 – 24 September 768 · Childeric III · Charlemagne and Carloman I.\n",
      "Bertrada of Laon (born between 710 and 727 – 12 July 783), also known as Bertrada the Younger or Bertha Broadfoot was a Frankish queen. She was the wife of ...\n",
      "The piano is a stringed keyboard instrument in which the strings are struck by wooden ... It was invented in Italy by Bartolomeo Cristofori around the year 1700.\n",
      "\n",
      "---\n",
      "Having broken Enigma Machine encryption, the Allies were able to map enemy ship movement.\n",
      "['Enigma Machine -> early-mid 20th century\\nAllies -> World War II\\nPublic Enemy -> mid 1980s\\n\\nCould the sentence be true based on the time periods alone: Yes']\n",
      "['\\n\\nEntities and dates:\\nEnigma Machine -> 20th century\\nAllies -> 20th century\\n\\nCould the sentence be true based on the dates alone: Yes']\n",
      "\n",
      "Background The Enigma machine is a cipher device developed and used in the early- to mid-20th century to protect commercial, diplomatic, and military communication.\n",
      "In World War II the chief Allied powers were Great Britain, France (except during the German occupation, 1940–44), the Soviet Union (after its entry in June ...\n",
      "Public Enemy was formed in 1985 by Carlton Ridenhour (Chuck D) and William Drayton (Flavor Flav), who met at Long Island's Adelphi University in the mid-1980s.\n",
      "\n",
      "---\n",
      "Sun Tzu dedicated an entire chapter to describing the failure of the Bay of Pigs.\n",
      "['Sun Tzu -> Eastern Zhou period\\nBay of Pigs -> 1961\\n\\nCould the sentence be true based on the time periods alone: No']\n",
      "['\\n\\nEntities and dates:\\nSun Tzu -> 6th century BC\\nBay of Pigs -> 1961\\n\\nCould the sentence be true based on the dates alone: No']\n",
      "\n",
      "Background Sun Tzu was a Chinese military general, strategist, philosopher, and writer who lived during the Eastern Zhou period. Sun Tzu is traditionally credited as ...\n",
      "The first mishap occurred on April 15, 1961, when eight bombers left Nicaragua to bomb Cuban airfields. JFKWHP-ST-19-6-62. President Kennedy Addresses the 2506 ...\n",
      "\n",
      "---\n",
      "Even into the 21st century, bubonic plague reappears and infects millions of people.\n",
      "['bubonic plague -> 541, 1347, 1894\\n21st century -> 2001\\n\\nCould the sentence be true based on the time periods alone: Yes']\n",
      "['\\n\\nEntities and dates:\\nBubonic plague -> 14th century\\n21st century -> present\\n\\nCould the sentence be true based on the dates alone: No']\n",
      "\n",
      "Background There have been three great world pandemics of plague recorded, in 541, 1347, and 1894 CE, each time causing devastating mortality of people and animals across ...\n",
      "The 21st (twenty-first) century is the current century in the Anno Domini era or Common Era, under the Gregorian calendar. It began on 1 January 2001 (MMI) ...\n",
      "\n",
      "---\n",
      "Hammurabi's Code was developed to be an integrated development environment specialized in functional programming.\n",
      "[\"Hammurabi's Code -> 18th century bce\\nintegrated development environment -> 21st century B.C.\\n\\nCould the sentence be true based on the time periods alone: No\"]\n",
      "[\"\\n\\nEntities and dates:\\nHammurabi's Code -> 18th century BCE\\nintegrated development environment -> late 20th century\\n\\nCould the sentence be true based on the dates alone: No\"]\n",
      "\n",
      "Background 1750 bce), sixth and best-known ruler of the 1st (Amorite) dynasty of Babylon (reigning c. 1792–1750 bce), noted for his surviving set of laws, ...\n",
      "The earliest, created by the Sumerian ruler Ur-Nammu of the city of Ur, dates all the way back to the 21st century B.C., and evidence also shows ...\n",
      "\n",
      "---\n",
      "Virtually all of the Southern U.S. slaves were aware of what the 18th amendment to the U.S. Constitution meant for them.\n",
      "['Southern U.S. slaves -> 15th century\\n18th amendment -> late 18th century']\n",
      "['\\n\\nEntities and dates:\\n\\nSouthern U.S. slaves -> 18th century\\n18th amendment to the U.S. Constitution -> 18th century\\n\\nCould the sentence be true based on the dates alone: Yes']\n",
      "\n",
      "Background The Paleo-Indians were the first peoples to inhabit the Americas and what would become the Southern United States. By the time Europeans arrived in the 15th ...\n",
      "Throughout the Middle Ages, (defined by historians as a three-part time period between 500 AD and 1500 AD) the practice of slavery changed ...\n",
      "The movement reached its apex in 1919 when Congress ratified the 18th Amendment, prohibiting the manufacture, transportation and sale of ...\n",
      "The document was written at the 1787 Philadelphia Convention and was ratified through a series of state conventions held in 1787 and 1788.\n",
      "\n",
      "---\n",
      "Pepin the Short's wife, Bertrada, sang passionate songs the night before marching into battle.\n",
      "['Pepin the Short -> 8th century\\nBertrada -> 8th century\\nsongs -> ancient\\n\\nCould the sentence be true based on the time periods alone: Yes']\n",
      "['\\n\\nEntities and dates:\\nPepin the Short -> 8th century\\nBertrada -> 8th century\\n\\nCould the sentence be true based on the dates alone: Yes']\n",
      "\n",
      "Background Pepin the Short ; 751 – 24 September 768 · Childeric III · Charlemagne and Carloman I.\n",
      "Bertrada of Laon (born between 710 and 727 – 12 July 783), also known as Bertrada the Younger or Bertha Broadfoot was a Frankish queen. She was the wife of ...\n",
      "In ancient song forms, the texts were closely aligned with music, and though the oldest extant musical notation survives from this period, many texts survive ...\n",
      "\"Battle Belongs\" is a song by American contemporary Christian musician Phil Wickham. The song was released on September 4, 2020, as the lead single to his ...\n",
      "\n",
      "---\n",
      "The Dodo was capable of hunting large herbivores like the Iguandodon.\n",
      "['dodo -> late 16th century\\nIguanodon -> late Jurassic Period\\n\\nCould the sentence be true based on the time periods alone: No']\n",
      "['\\n\\nEntities and dates:\\nThe Dodo -> 16th century\\nIguandodon -> 125 million years ago\\n\\nCould the sentence be true based on the dates alone: No']\n",
      "\n",
      "Background The dodo (Raphus cucullatus) is an extinct flightless bird that was endemic to the island of Mauritius, which is east of Madagascar in the Indian Ocean.\n",
      "While many species have been classified in the genus Iguanodon, dating from the late Jurassic Period to the early Cretaceous Period of Asia, Europe, and North ...\n",
      "\n",
      "---\n",
      "Lewis Hamilton was knighted by the Queen in 1980.\n",
      "['Lewis Hamilton -> 21st century\\nQueen -> 20th century\\n\\nCould the sentence be true based on the time periods alone: No']\n",
      "['\\n\\nEntities and dates:\\nLewis Hamilton -> 1980\\nQueen -> 1980\\n\\nCould the sentence be true based on the dates alone: No']\n",
      "\n",
      "Background Born and raised in Stevenage, Hertfordshire, Hamilton joined the McLaren young driver programme in 1998. This led to a Formula One drive with McLaren from 2007 ...\n",
      "Elizabeth II (Elizabeth Alexandra Mary; 21 April 1926 – 8 September 2022) was Queen of the United Kingdom and other Commonwealth realms from 6 February 1952 ...\n",
      "\n",
      "---\n",
      "President Woodrow Wilson rallied Americans to support the U.S. joining the League of Nations.\n",
      "['Woodrow Wilson -> 20th century\\nU.S. -> 18th century\\nLeague of Nations -> 20th century\\n\\nCould the sentence be true based on the time periods alone: Yes']\n",
      "['\\n\\nEntities and dates:\\nWoodrow Wilson -> 20th century\\nLeague of Nations -> 20th century\\n\\nCould the sentence be true based on the dates alone: Yes']\n",
      "\n",
      "Background Thomas Woodrow Wilson (December 28, 1856 – February 3, 1924) was an American politician and academic who served as the 28th president of the United States ...\n",
      "The history of the lands that became the United States began with the arrival of the first people in the Americas around 15,000 BC.\n",
      "The history of the lands that became the United States began with the arrival of the first people in the Americas around 15,000 BC.\n",
      "The League lasted for 26 years; the United Nations (UN) replaced it in 1946 and inherited several agencies and organisations founded by the League.\n",
      "\n",
      "---\n",
      "The Ottoman Empire was excluded from the WTO meeting about Covid19.\n",
      "['Ottoman Empire -> 13th century\\nWTO -> 1995\\nCOVID-19 -> 2019\\n\\nCould the sentence be true based on the time periods alone: Yes']\n",
      "['\\n\\nEntities and dates:\\nOttoman Empire -> 1453-1922\\nWTO meeting about Covid19 -> 2020\\n\\nCould the sentence be true based on the dates alone: No']\n",
      "\n",
      "Background It was founded at the end of the 13th century in northwestern Anatolia in the town of Söğüt (modern-day Bilecik Province) by the Turkoman tribal leader Osman I.\n",
      "Born in 1995, but not so young back to top. The WTO began life on 1 January 1995, but its trading system is half a century older. Since 1948, the General ...\n",
      "COVID-19 (coronavirus disease 2019) is a disease caused by a virus named SARS-CoV-2 and was discovered in December 2019 in Wuhan, China.\n",
      "\n",
      "---\n",
      "President Syngman Rhee sent a letter commending Hugo Chavez's election victory.\n",
      "['Syngman Rhee -> 1948 - 1960\\nHugo Chavez -> 1999 - 2013\\n\\nCould the sentence be true based on the time periods alone: Yes']\n",
      "['\\n\\nEntities and dates:\\nPresident Syngman Rhee -> 20th century\\nHugo Chavez -> 21st century\\n\\nCould the sentence be true based on the dates alone: No']\n",
      "\n",
      "Background Syngman Rhee was a South Korean politician who served as the first president of South Korea from 1948 to 1960. His Excellency. Syngman Rhee. 이승만 李承晩.\n",
      "Hugo Chávez ; Born: July 28, 1954 Venezuela ; Died: March 5, 2013 (aged 58) Caracas Venezuela ; Title / Office: president (1999-2013), Venezuela\n",
      "\n",
      "---\n",
      "Anne Frank helped slaves escape via the Underground Railroad.\n",
      "['Anne Frank -> 20th century \\nUnderground Railroad -> 18th - 19th century\\n\\nCould the sentence be true based on the time periods alone: No']\n",
      "['\\n\\nEntities and dates:\\nAnne Frank -> 20th century\\nUnderground Railroad -> 19th century\\n\\nCould the sentence be true based on the dates alone: No']\n",
      "\n",
      "Background Anne's first years. Anne Frank was born in the German city of Frankfurt am Main in 1929. Anne's sister Margot was three years her senior.\n",
      "Throughout the Middle Ages, (defined by historians as a three-part time period between 500 AD and 1500 AD) the practice of slavery changed ...\n",
      "The earliest mention of the Underground Railroad came in 1831 when enslaved man Tice Davids escaped from Kentucky into Ohio and his owner blamed ...\n",
      "\n",
      "---\n",
      "During their meetings in Bali, George Washington and the delegate of the Ashikaga shogunate exchanged gifts.\n",
      "['George Washington -> 18th century\\nBali -> Paleolithic\\nAshikaga shogunate -> 14th century']\n",
      "['\\n\\nEntities and dates:\\nGeorge Washington -> 18th century\\nthe delegate of the Ashikaga shogunate -> 15th century\\n\\nCould the sentence be true based on the dates alone: No']\n",
      "\n",
      "Background On February 22, 1732, George Washington is born in Westmoreland County, Virginia, the first of six children of Augustine and Mary Ball Washington.\n",
      "The History of Bali covers a period from the Paleolithic to the present, and is characterized by migrations of people and cultures from other parts of Asia.\n",
      "THE FOUNDING FATHERS. Delegates to the Constitutional Convention. On February 21, 1787, the Continental Congress resolved that: ... it is expedient ...\n",
      "The Ashikaga shogunate was established when Ashikaga Takauji was appointed Shōgun after overthrowing the Kenmu Restoration shortly after having overthrown the ...\n",
      "\n",
      "---\n",
      "The Roman emperor rode his Ferrari to the Coliseum.\n",
      "['Roman emperor -> 27 BC - AD 14\\nFerrari -> 1939\\nColiseum -> 70 AD\\n\\nCould the sentence be true based on the time periods alone: No']\n",
      "['\\n\\nEntities and dates:\\nThe Roman emperor -> 1st century\\nFerrari -> 20th century\\nThe Coliseum -> 1st century\\n\\nCould the sentence be true based on the dates alone: No']\n",
      "\n",
      "Background The Julio-Claudian dynasty lasted for four more emperors—Tiberius, Caligula, Claudius, and Nero—before it yielded in 69 AD to the strife-torn Year of Four ...\n",
      "Gaius Octavian Caesar 'Augustus' or simply Augustus, was the first emperor of Roman Empire, reigning from 27 BC until his death in AD 14. Both emperors and ...\n",
      "Ferrari S.p.A. is an Italian luxury sports car manufacturer based in Maranello, Italy. Founded by Enzo Ferrari (1898–1988) in 1939 from the Alfa Romeo ...\n",
      "Built in 70 A.D., Rome's Colosseum has been the site of celebrations, sporting events and bloodshed. Today, the amphitheater is a major ...\n",
      "\n",
      "---\n",
      "The engineer upgraded the USS New Ironsides' radar system.\n",
      "['machines -> 7th century BC\\nUSS New Ironsides -> American Civil War\\nradar -> late 19th century\\n\\nCould the sentence be true based on the time periods alone: No']\n",
      "['\\n\\nEntities and dates:\\n engineer -> 18th century\\n USS New Ironsides -> 18th century\\n radar system -> 21st century\\n\\nCould the sentence be true based on the dates alone: No']\n",
      "\n",
      "Background Bloomeries and blast furnaces were also created during the 7th centuries BC in Kush. Ancient Greece developed machines in both civilian and military domains. ...\n",
      "USS New Ironsides was a wooden-hulled broadside ironclad built for the United States Navy during the American Civil War. The ship spent most of her career ...\n",
      "The history of radar started with experiments by Heinrich Hertz in the late 19th century that showed that radio waves were reflected by metallic objects.\n",
      "\n",
      "---\n",
      "George Washington Carver told Mahatama Gandhi to eat more soy to improve his nutrition.\n",
      "['George Washington Carver -> late 19th century\\nMahatama Gandhi -> late 19th century\\nsoy -> 11th century BC']\n",
      "['\\n\\nEntities and dates:\\nGeorge Washington Carver -> 19th-20th century\\nMahatama Gandhi -> 19th century\\n\\nCould the sentence be true based on the dates alone: No']\n",
      "\n",
      "Background Born on a farm near Diamond, Missouri, the exact date of Carver's birth is unknown, but it's thought he was born in January or June of 1864.\n",
      "Born and raised in a Hindu family in coastal Gujarat, Gandhi trained in the law at the Inner Temple, London, and was called to the bar at age 22 in June ...\n",
      "1100 BC. Soybeans originated in Southeast Asia and were first domesticated by Chinese farmers around 1100 BC. · 1700s. Soybean seed from China was planted by a ...\n",
      "\n",
      "---\n",
      "The pet chihuahua walked its way around the moai.\n",
      "['chihuahua -> 10,000 years ago\\nmoai -> 1000 C.E.\\n\\nCould the sentence be true based on the time periods alone: Yes']\n",
      "['\\n\\nEntities and dates:\\nThe pet chihuahua -> 21st century\\nThe moai -> 16th century\\n\\nCould the sentence be true based on the dates alone: No']\n",
      "\n",
      "Background History. DNA studies suggest that native American dogs entered North America from Siberia roughly 10,000 years ago, and were then isolated for some 9000 years ...\n",
      "The moai were probably carved to commemorate important ancestors and were made from around 1000 C.E. until the second half of the seventeenth century. Over a ...\n",
      "\n",
      "---\n",
      "Charlamagne and the unrest under his rule is credited with the creation of Encarta, internet for the masses.\n",
      "['Charlemagne -> 8th century \\nEncarta -> 1993\\n\\nCould the sentence be true based on the time periods alone: No']\n",
      "['\\n\\nEntities and dates:\\nCharlemagne -> 8th century\\nEncarta -> 1990s\\n\\nCould the sentence be true based on the dates alone: No']\n",
      "\n",
      "Background Around the time of the birth of Charlemagne—conventionally held to be 742 but likely to be 747 or 748—his father, Pippin III (the Short), ...\n",
      "Microsoft Encarta is a discontinued digital multimedia encyclopedia published by Microsoft from 1993 to 2009. Originally sold on CD-ROM or DVD, ...\n",
      "\n",
      "---\n",
      "Beats from the MPC3000 helped inspire many modern hip hop artists.\n",
      "['Beats -> 2006\\nMPC3000 -> 1993\\nhip hop -> 1970s\\n\\nCould the sentence be true based on the time periods alone: Yes']\n",
      "['\\n\\nEntities and dates:\\nBeats from the MPC3000 -> 1990s\\nModern hip hop artists -> 21st century\\n\\nCould the sentence be true based on the dates alone: Yes']\n",
      "\n",
      "Background Beats was established in 2006 by music producer Dr. Dre and record company executive Jimmy Iovine. Iovine perceived two key problems in the music industry: the ...\n",
      "The Akai MPC3000 (eBay) changed the game in 1993. Improvements included 16-bit 44.1 kHz stereo sampling, increased memory, 32 voice polyphony, expandable memory ...\n",
      "Hip hop as both a musical genre and a culture was formed during the 1970s when block parties became increasingly popular in New York City, particularly among ...\n",
      "\n",
      "---\n",
      "Nothing was more satisfying to Sally Hemings than watching HBO's True Detective while knitting.\n",
      "[\"Sally Hemings -> 18th century\\nHBO's True Detective -> 2014\\n\\nCould the sentence be true based on the time periods alone: No\"]\n",
      "[\"\\n\\nEntities and dates:\\nSally Hemings -> 18th century\\nHBO's True Detective -> 21st century\\n\\nCould the sentence be true based on the dates alone: No\"]\n",
      "\n",
      "Background 1773 Sally Hemings is born. The exact date and month is not known. Tradition holds that she is the child of Martha Jefferson's father, John Wayles, and ...\n",
      "Home Box Office, Inc. (Time-Life/Time Inc.) · April 1, 1979; 43 years ago (1979-04-01) · January 31, 1981; 41 years ago (1981-01-31) ...\n",
      "The series, broadcast by the premium cable network HBO in the United States, premiered on January 12, 2014. Each season of the series is structured as a self- ...\n",
      "\n",
      "---\n",
      "Queen Himiko showed off her elegant Yayoi silk robes at her charity gala.\n",
      "['Queen Himiko -> 3rd century\\nYayoi silk robes -> 8th century\\nBorn This Way Foundation -> present day\\n\\nCould the sentence be true based on the time periods alone: No']\n",
      "['\\n\\nEntities and dates:\\nQueen Himiko -> 3rd century\\nYayoi silk robes -> 300 BCE - 300 CE\\n\\nCould the sentence be true based on the dates alone: Yes']\n",
      "\n",
      "Background Historical references. The shaman Queen Himiko is recorded in various ancient histories, dating back to 3rd-century China, 8th-century Japan, and 12th-century ...\n",
      "The Yayoi Period is one of the oldest historical periods of Japan spanning from c. 300 BCE to c. 250 CE, preceded by the Jomon Period and ...\n",
      "Born This Way Foundation is committed to supporting the wellness of young people, and empowering them to create a kinder and braver world.\n",
      "\n",
      "---\n",
      "President George H. W. Bush called his generals to the Oval Office at the outset of the Gulf War.\n",
      "['George H. W. Bush -> 1989-1993\\nOval Office -> 1909-1933\\nGulf War -> 1990-1991\\n\\nCould the sentence be true based on the time periods alone: Yes']\n",
      "['\\n\\nEntities and dates:\\nPresident George H. W. Bush -> 20th century\\nGulf War -> 20th century\\n\\nCould the sentence be true based on the dates alone: Yes']\n",
      "\n",
      "Background George H. W. Bush, as the 41st President (1989-1993), brought to the White House a dedication to traditional American values and a determination to direct ...\n",
      "It can also be described as, \"the average period, generally considered to be about 20–⁠30 years, during which children are born and grow up, become adults, and ...\n",
      "Taft Oval Office: 1909–1933Edit ; President William Howard Taft ; On December 24, 1929, during the first year of President Herbert Hoover ...\n",
      "Persian Gulf War, also called Gulf War, (1990–91), international conflict that was triggered by Iraq's invasion of Kuwait on August 2, 1990.\n",
      "\n",
      "---\n",
      "The builders of the pyramids at Giza listened to music during their break.\n",
      "['pyramids at Giza -> 2589-2504 BC\\nmusic -> early Christian Church']\n",
      "['\\n\\nEntities and dates:\\nBuilders of the pyramids at Giza -> 26th century BCE\\nMusic -> 40,000 BCE\\n\\nCould the sentence be true based on the dates alone: No']\n",
      "\n",
      "Background The first mud bricks, formed with the hands rather than wooden moulds, belong to the Neolithic period and were found in Jericho. One of the largest structures ...\n",
      "Historical analysis tells us that the Egyptians built the Giza Pyramids in a span of 85 years between 2589 and 2504 BC.\n",
      "All three of Giza's famed pyramids and their elaborate burial complexes were built during a frenetic period of construction, from roughly 2550 to 2490 B.C. The ...\n",
      "Music written for and by the early Christian Church properly inaugurates the Western classical music tradition, which continues into medieval music where ...\n",
      "\n",
      "---\n",
      "The wooly mammoth and Shih Tzu happily played together in the field.\n",
      "['wooly mammoth -> Pleistocene\\nShih Tzu -> 10th century\\n\\nCould the sentence be true based on the time periods alone: No']\n",
      "['\\n\\nEntities and dates:\\nWooly Mammoth -> 10,000 BCE\\nShih Tzu -> 2,000 BCE\\n\\nCould the sentence be true based on the dates alone: No']\n",
      "\n",
      "Background The woolly mammoth (Mammuthus primigenius) is an extinct species of mammoth that lived during the Pleistocene until its extinction in the Holocene epoch.\n",
      "The Shih Tzu is a toy dog breed originating from Tibet and having been bred from the ... Litter size, 2–9. Life span, 10–18 years, average is 12 years old ...\n",
      "\n",
      "---\n"
     ]
    }
   ],
   "source": [
    "for i in range(len(answers_with_search)):\n",
    "    print(inputs[i])\n",
    "    print(answers_with_search[i])\n",
    "    print(answers_without_search[i])\n",
    "    print(\"\\nBackground\", search_background_1step[i])\n",
    "    print(\"---\")"
   ]
  }
 ],
 "metadata": {
  "kernelspec": {
   "display_name": "Python 3 (ipykernel)",
   "language": "python",
   "name": "python3"
  },
  "language_info": {
   "codemirror_mode": {
    "name": "ipython",
    "version": 3
   },
   "file_extension": ".py",
   "mimetype": "text/x-python",
   "name": "python",
   "nbconvert_exporter": "python",
   "pygments_lexer": "ipython3",
   "version": "3.9.12"
  }
 },
 "nbformat": 4,
 "nbformat_minor": 5
}
