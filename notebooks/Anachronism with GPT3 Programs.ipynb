{
 "cells": [
  {
   "cell_type": "code",
   "execution_count": null,
   "id": "1fa9ee26",
   "metadata": {},
   "outputs": [
    {
     "name": "stderr",
     "output_type": "stream",
     "text": [
      "/gscratch/cse/bparan/tools/envs/bigben/lib/python3.9/site-packages/tqdm/auto.py:22: TqdmWarning: IProgress not found. Please update jupyter and ipywidgets. See https://ipywidgets.readthedocs.io/en/stable/user_install.html\n",
      "  from .autonotebook import tqdm as notebook_tqdm\n",
      "2022-11-04 08:47:03.399700: I tensorflow/core/util/util.cc:169] oneDNN custom operations are on. You may see slightly different numerical results due to floating-point round-off errors from different computation orders. To turn them off, set the environment variable `TF_ENABLE_ONEDNN_OPTS=0`.\n",
      "2022-11-04 08:47:03.404284: W tensorflow/stream_executor/platform/default/dso_loader.cc:64] Could not load dynamic library 'libcudart.so.11.0'; dlerror: libcudart.so.11.0: cannot open shared object file: No such file or directory\n",
      "2022-11-04 08:47:03.404303: I tensorflow/stream_executor/cuda/cudart_stub.cc:29] Ignore above cudart dlerror if you do not have a GPU set up on your machine.\n"
     ]
    }
   ],
   "source": [
    "import datasets\n",
    "import os\n",
    "import openai\n",
    "import numpy as np\n",
    "with open(os.path.expanduser('~/.openai_api_key'), 'r') as file:\n",
    "    openai.api_key = file.read().replace('\\n', '')\n",
    "\n",
    "import adatest\n",
    "import re"
   ]
  },
  {
   "cell_type": "code",
   "execution_count": 3,
   "id": "b0c7826c",
   "metadata": {},
   "outputs": [
    {
     "name": "stderr",
     "output_type": "stream",
     "text": [
      "WARNING:datasets.builder:Found cached dataset bigbench (/mmfs1/home/bparan/.cache/huggingface/datasets/bigbench/anachronisms/1.0.0/7d2f6e537fa937dfaac8b1c1df782f2055071d3fd8e4f4ae93d28012a354ced0)\n"
     ]
    },
    {
     "data": {
      "application/vnd.jupyter.widget-view+json": {
       "model_id": "d938ec2ee08849329a5dc4aefb164afb",
       "version_major": 2,
       "version_minor": 0
      },
      "text/plain": [
       "  0%|          | 0/3 [00:00<?, ?it/s]"
      ]
     },
     "metadata": {},
     "output_type": "display_data"
    }
   ],
   "source": [
    "d = datasets.load_dataset('bigbench', 'anachronisms')"
   ]
  },
  {
   "cell_type": "code",
   "execution_count": 4,
   "id": "c92cf424",
   "metadata": {},
   "outputs": [],
   "source": [
    "import numpy as np\n",
    "inputs = d['train']['inputs'] + d['validation']['inputs']\n",
    "inputs = [x.split('\\n')[0] for x in inputs]\n",
    "labels = np.array([int(x[0] == 'Yes') for x in d['train']['targets'] + d['validation']['targets']])"
   ]
  },
  {
   "cell_type": "code",
   "execution_count": 5,
   "id": "087b3ea5",
   "metadata": {},
   "outputs": [],
   "source": [
    "class OpenAIModel(adatest.Model):\n",
    "    def __init__(self, model=\"text-davinci-002\", quote=\"\\\"\", temperature=0.7, top_p=1, max_length=30, n=1):\n",
    "        self.model = model\n",
    "        self.api_key = openai.api_key\n",
    "        self.quote = quote\n",
    "        self.temperature = temperature\n",
    "        self.top_p = top_p\n",
    "        self.max_length = max_length\n",
    "        self.n = n\n",
    "    def __call__(self, strings):\n",
    "        resp = openai.Completion.create(\n",
    "            model=self.model,\n",
    "            prompt=strings,\n",
    "            max_tokens=self.max_length,\n",
    "            temperature=self.temperature,\n",
    "            top_p=self.top_p,\n",
    "            n=self.n,\n",
    "            stop=self.quote,\n",
    "        )\n",
    "        return [x[\"text\"] for x in resp['choices']]\n",
    "\n",
    "gpt3 = OpenAIModel(model=\"text-davinci-002\",  max_length=200, quote='', n=1)\n"
   ]
  },
  {
   "cell_type": "code",
   "execution_count": 6,
   "id": "22701159",
   "metadata": {},
   "outputs": [],
   "source": [
    "def propose_decomposition(n=20):\n",
    "    gpt3 = OpenAIModel(model=\"text-davinci-002\",  max_length=400, quote='---', n=n)\n",
    "    prompt = '''I want to break down the task of figuring out whether a sentence contains anachronisms or not, into individual steps. An anachronism is a mistake in chronology, or a person, thing, or event that is out of its proper time. Here are examples of input-output pairs for the task I'm trying to break down:\n",
    "----\n",
    "Input: George Washington fought in the American Civil War.\n",
    "Output: No\n",
    "Input: The Mongolian horse rider used his bow to hunt the velociraptor.\n",
    "Output: Yes\n",
    "Input: Beats from the MPC3000 helped inspire many original blues artists.\n",
    "Output: No\n",
    "Input: Attila the Hun acted in the live-action remake of Mulan.\n",
    "Output: Yes\n",
    "Input: Kurt Cobain starred in the 1990 television show \"Twin Peaks\".\n",
    "Output: Yes\n",
    "----\n",
    "Steps:\n",
    "1.'''\n",
    "    return gpt3(prompt)\n"
   ]
  },
  {
   "cell_type": "code",
   "execution_count": 7,
   "id": "3a2a6961",
   "metadata": {},
   "outputs": [],
   "source": [
    "def propose_instruction(n=20):\n",
    "    gpt3 = OpenAIModel(model=\"text-davinci-002\",  max_length=400, quote='---', n=n)\n",
    "    prompt = '''I want to figure out whether a sentence contains anachronisms or not. An anachronism is a mistake in chronology, or a person, thing, or event that is out of its proper time. Here are examples of input-output pairs for this task.\n",
    "----\n",
    "Input: George Washington fought in the American Civil War.\n",
    "Output: No\n",
    "Input: The Mongolian horse rider used his bow to hunt the velociraptor.\n",
    "Output: Yes\n",
    "Input: Beats from the MPC3000 helped inspire many original blues artists.\n",
    "Output: No\n",
    "Input: Attila the Hun acted in the live-action remake of Mulan.\n",
    "Output: Yes\n",
    "Input: Kurt Cobain starred in the 1990 television show \"Twin Peaks\".\n",
    "Output: Yes\n",
    "----\n",
    "I can do this task by'''\n",
    "    return gpt3(prompt)\n"
   ]
  },
  {
   "cell_type": "code",
   "execution_count": 8,
   "id": "f7290022",
   "metadata": {},
   "outputs": [],
   "source": [
    "decompositions = propose_decomposition(10)"
   ]
  },
  {
   "cell_type": "code",
   "execution_count": 9,
   "id": "2cef6552",
   "metadata": {},
   "outputs": [],
   "source": [
    "instructions = propose_instruction(10)"
   ]
  },
  {
   "cell_type": "code",
   "execution_count": 10,
   "id": "a70675eb",
   "metadata": {},
   "outputs": [
    {
     "name": "stdout",
     "output_type": "stream",
     "text": [
      " Read the sentence.\n",
      "2. Identify the people, things, and events mentioned in the sentence.\n",
      "3. Research the people, things, and events to determine when they existed.\n",
      "4. Compare the time periods of the people, things, and events to determine if they are in the correct order.\n",
      "5. If the people, things, and events are not in the correct order, the sentence contains an anachronism.\n",
      "---\n",
      " Read in the sentence.\n",
      "2. tokenize the sentence into a list of words.\n",
      "3. For each word in the list, check whether it is a proper noun.\n",
      "4. If the word is a proper noun, look it up in a database of proper nouns and their corresponding time periods.\n",
      "5. If the time period associated with the proper noun is earlier than the time period of the sentence, then the sentence contains an anachronism. Otherwise, it does not.\n",
      "---\n",
      " Identify the subject of the sentence.\n",
      "2. Identify the verb of the sentence.\n",
      "3. Identify the object of the sentence, if there is one.\n",
      "4. Research the subject to determine if they are anachronistic.\n",
      "5. Research the verb to determine if it is anachronistic.\n",
      "6. Research the object to determine if it is anachronistic.\n",
      "7. If the subject, verb, and object are all from the same time period, then the sentence does not contain an anachronism.\n",
      "---\n",
      " Read the sentence.\n",
      "2. Identify any people, things, or events mentioned in the sentence.\n",
      "3. Research the people, things, or events to determine when they existed.\n",
      "4. Compare the dates of the people, things, or events to the time period mentioned in the sentence.\n",
      "5. If the people, things, or events existed before or after the time period mentioned in the sentence, then the sentence contains an anachronism. Otherwise, the sentence does not contain an anachronism.\n",
      "---\n",
      " Look up the definition of \"anachronism\".\n",
      "2. Find examples of anachronisms.\n",
      "3. Break down the task of figuring out whether a sentence contains an anachronism into individual steps.\n",
      "---\n",
      " Identify the subject of the sentence.\n",
      "2. Research the subject to determine when they lived.\n",
      "3. Identify the verb of the sentence.\n",
      "4. Research the verb to determine when it would have been used.\n",
      "5. Compare the time periods of the subject and the verb.\n",
      "6. If the time periods are different, the sentence contains an anachronism.\n",
      "---\n",
      " Look up the definition of an anachronism.\n",
      "2. Read the sentence.\n",
      "3. Determine if the sentence contains a person, thing, or event that is out of its proper time.\n",
      "4. If the sentence does contain an anachronism, label it as such. If the sentence does not contain an anachronism, label it as such.\n",
      "---\n",
      " Look up the definition of an anachronism.\n",
      "2. Find examples of anachronisms.\n",
      "3. Break down the task of identifying an anachronism into individual steps.\n",
      "4. Identify an anachronism in a given sentence.\n",
      "---\n",
      " Read the sentence.\n",
      "2. Identify each word in the sentence.\n",
      "3. Determine whether each word is a person, thing, or event.\n",
      "4. For each word that is a person, thing, or event, determine whether it is in its proper time.\n",
      "5. If any word is not in its proper time, then the sentence contains an anachronism.\n",
      "---\n",
      " Read the sentence.\n",
      "2. Identify the people, things, or events in the sentence.\n",
      "3. Determine when each person, thing, or event in the sentence took place.\n",
      "4. Compare the times of the people, things, or events to see if they are in their proper time.\n",
      "5. If all the people, things, or events are in their proper time, output \"No\". If any of the people, things, or events are not in their proper time, output \"Yes\".\n",
      "---\n"
     ]
    }
   ],
   "source": [
    "for d in decompositions:\n",
    "    print(d)\n",
    "    print('---')"
   ]
  },
  {
   "cell_type": "code",
   "execution_count": 11,
   "id": "08c2a7cf",
   "metadata": {},
   "outputs": [
    {
     "name": "stdout",
     "output_type": "stream",
     "text": [
      " looking for words or phrases that are out of place in the sentence. For example, in the first sentence, \"George Washington\" and \"American Civil War\" are both out of place chronologically. In the second sentence, \"Mongolian horse rider\" and \"velociraptor\" are both out of place chronologically.\n",
      "---\n",
      " creating a function that takes in a sentence as input and outputs whether it contains an anachronism or not.\n",
      "---\n",
      " writing a regular expression that looks for anachronisms.\n",
      "---\n",
      " looking for keywords that are associated with different time periods. For example, if a sentence mentions George Washington, that is automatically not an anachronism because he was around during the 1700s. However, if a sentence mentions a velociraptor, that is an anachronism because velociraptors went extinct around 65.5 million years ago.\n",
      "---\n",
      " creating a list of anachronisms and then using a for loop to check whether each word in the sentence is in the list of anachronisms. If any word in the sentence is in the list of anachronisms, then the sentence contains an anachronism and the output should be \"Yes\". Otherwise, the output should be \"No\".\n",
      "---\n",
      " creating a list of anachronisms and then using a for loop to check whether any of the words in the sentence are in the list. If so, then the sentence contains an anachronism and the output should be \"Yes\". Otherwise, the output should be \"No\".\n",
      "---\n",
      " looking for certain keywords that are typically associated with different time periods. For example, if a sentence contains the word \"Mongolian\", I would know that it is referring to a time period before the velociraptor went extinct.\n",
      "---\n",
      " looking for clues in the sentence that would indicate that it is not set in the correct time period. For example, if a sentence mentions something that was invented after the time period it is supposed to be set in, that is an anachronism.\n",
      "---\n",
      " looking for words or phrases that are out of place for the time period being discussed. For example, in the sentence \"George Washington fought in the American Civil War,\" the anachronism is \"American Civil War,\" because George Washington lived before the Civil War took place. In the sentence \"The Mongolian horse rider used his bow to hunt the velociraptor,\" the anachronism is \"velociraptor,\" because velociraptors were extinct long before there were Mongolian horse riders.\n",
      "---\n",
      " creating a function that takes in a sentence as input and outputs whether the sentence contains an anachronism or not. To do this, I would need to have a list of anachronisms. I would then iterate through the list and see if any of the anachronisms are in the sentence. If so, I would output \"Yes\". If not, I would output \"No\".\n",
      "---\n"
     ]
    }
   ],
   "source": [
    "for d in instructions:\n",
    "    print(d)\n",
    "    print('---')"
   ]
  },
  {
   "cell_type": "code",
   "execution_count": 23,
   "id": "76cd4ac0",
   "metadata": {},
   "outputs": [],
   "source": [
    "def chunks(l, n):\n",
    "    \"\"\"Yield successive n-sized chunks from l.\"\"\"\n",
    "    for i in range(0, len(l), n):\n",
    "        yield l[i:i + n]\n",
    "\n",
    "def get_anachronism_fn(decomposition, batch_size=10):\n",
    "    decomposition = '1.'+ decomposition\n",
    "    last_n = int(re.findall(r'(\\d+)\\.', decomposition)[-1])\n",
    "#     decomposition += '\\n%s. Output YES if there is an anachronism, and NO otherwise' % (last_n + 1)\n",
    "    def decomposition_fn(sentences):\n",
    "        gpt3 = OpenAIModel(model=\"text-davinci-002\",  max_length=400, quote='---', n=1)\n",
    "        out = []\n",
    "        for chunk in chunks(sentences, batch_size):\n",
    "            prompts = ['''Figure out whether a sentence contains anachronisms or not, using the following steps\n",
    "Steps:\n",
    "%s\n",
    "----\n",
    "Sentence: %s\n",
    "Is this an Anachronism? Output YES if there is an anachronism, and NO otherwise. Show me how you arrived at this answer step-wise.''' % (decomposition, x) for x in chunk]\n",
    "            out.extend(gpt3(prompts))\n",
    "        return out\n",
    "    return decomposition_fn"
   ]
  },
  {
   "cell_type": "code",
   "execution_count": 18,
   "id": "b4b253ec",
   "metadata": {},
   "outputs": [],
   "source": [
    "def get_anachronism_ape_fn(instruction, batch_size=10):\n",
    "#     decomposition = '1.'+ decomposition\n",
    "#     last_n = int(re.findall(r'(\\d+)\\.', decomposition)[-1])\n",
    "#     decomposition += '\\n%s. Output YES if there is an anachronism, and NO otherwise' % (last_n + 1)\n",
    "    instruction = instruction.strip()\n",
    "    def decomposition_ape_fn(sentences):\n",
    "        gpt3 = OpenAIModel(model=\"text-davinci-002\",  max_length=400, quote='---', n=1)\n",
    "        out = []\n",
    "        for chunk in chunks(sentences, batch_size):\n",
    "            prompts = ['''An anachronism is a mistake in chronology, or a person, thing, or event that is out of its proper time. Figure out whether a sentence contains anachronisms or not, using this instruction.\n",
    "Instruction:\n",
    "%s\n",
    "----\n",
    "Sentence: %s\n",
    "Is this an Anachronism? Output YES if there is an anachronism, and NO otherwise.''' % (instruction, x) for x in chunk]\n",
    "            out.extend(gpt3(prompts))\n",
    "        return out\n",
    "    return decomposition_ape_fn"
   ]
  },
  {
   "cell_type": "code",
   "execution_count": 16,
   "id": "fb66f228",
   "metadata": {},
   "outputs": [],
   "source": [
    "idxs = np.random.choice(len(inputs), 100, replace=False)\n",
    "labs = np.array([labels[i] for i in idxs])\n",
    "subset = [inputs[i] for i in idxs]"
   ]
  },
  {
   "cell_type": "code",
   "execution_count": 19,
   "id": "8cdd588e",
   "metadata": {},
   "outputs": [
    {
     "name": "stdout",
     "output_type": "stream",
     "text": [
      "Instruction 0\n",
      "0.67\n",
      "Instruction 1\n",
      "0.64\n",
      "Instruction 2\n",
      "0.6\n",
      "Instruction 3\n",
      "0.7\n",
      "Instruction 4\n",
      "0.56\n",
      "Instruction 5\n",
      "0.56\n",
      "Instruction 6\n",
      "0.63\n",
      "Instruction 7\n",
      "0.61\n",
      "Instruction 8\n",
      "0.68\n",
      "Instruction 9\n",
      "0.64\n"
     ]
    }
   ],
   "source": [
    "preds = []\n",
    "pps = []\n",
    "accs = []\n",
    "for z, instruction in enumerate(instructions):\n",
    "    print('Instruction', z)\n",
    "    fn = get_anachronism_ape_fn(instruction, batch_size=20)\n",
    "    this_preds = fn(subset)\n",
    "    pp = np.array([1 if 'yes' in x.lower() else 0 for x in this_preds])\n",
    "    preds.append(this_preds)\n",
    "    pps.append(pp)\n",
    "    accs.append((pp==labs).mean())\n",
    "    print((pp==labs).mean())"
   ]
  },
  {
   "cell_type": "code",
   "execution_count": 28,
   "id": "b4fcdac9",
   "metadata": {},
   "outputs": [
    {
     "name": "stdout",
     "output_type": "stream",
     "text": [
      "Decomposition 0\n",
      "0.43\n",
      "Decomposition 1\n",
      "0.51\n",
      "Decomposition 2\n",
      "0.63\n",
      "Decomposition 3\n",
      "0.48\n",
      "Decomposition 4\n",
      "0.51\n",
      "Decomposition 5\n",
      "0.48\n",
      "Decomposition 6\n",
      "0.56\n",
      "Decomposition 7\n",
      "0.66\n",
      "Decomposition 8\n",
      "0.58\n",
      "Decomposition 9\n",
      "0.46\n"
     ]
    }
   ],
   "source": [
    "preds = []\n",
    "pps = []\n",
    "accs = []\n",
    "all_preds = []\n",
    "for z, decomposition in enumerate(decompositions):\n",
    "    print('Decomposition', z)\n",
    "    fn = get_anachronism_fn(decomposition, batch_size=20)\n",
    "    this_preds = fn(subset)\n",
    "    pp = np.array([1 if 'contains an anachronism' in x.lower() else 0 for x in this_preds])\n",
    "    preds.append(this_preds)\n",
    "    pps.append(pp)\n",
    "    accs.append((pp==labs).mean())\n",
    "    print((pp==labs).mean())\n",
    "    all_preds.append(this_preds)"
   ]
  },
  {
   "cell_type": "code",
   "execution_count": 29,
   "id": "0e0c1e98",
   "metadata": {},
   "outputs": [
    {
     "data": {
      "text/plain": [
       "['\\n\\n1. Read the sentence.\\n2. Identify the people, things, and events mentioned in the sentence.\\n3. Research the people, things, and events to determine when they existed.\\n4. Compare the time periods of the people, things, and events to determine if they are in the correct order.\\n\\nGeorge Washington Carver was an American scientist who lived from 1864 to 1943. Mahatama Gandhi was an Indian political leader who lived from 1869 to 1948. Soylent is a food product that was created in 2014.\\n\\n5. The people, things, and events are not in the correct order, so the sentence contains an anachronism.',\n",
       " \"\\n\\n1. Read the sentence.\\n2. Identify the people, things, and events mentioned in the sentence.\\n3. Research the people, things, and events to determine when they existed.\\n\\nFilippo Pacini was an Italian physician who lived from 1788 to 1867. Cholera is a disease that was first described in the early 19th century.\\n\\n4. Compare the time periods of the people, things, and events to determine if they are in the correct order.\\n\\nThe discovery of cholera occurred after Filippo Pacini's lifetime. Therefore, the sentence is an anachronism.\",\n",
       " '\\n\\n1. Read the sentence.\\n2. Identify the people, things, and events mentioned in the sentence.\\n3. Research the people, things, and events to determine when they existed.\\n\\nThe pet chihuahua is a dog breed that originated in Mexico. Moai are monolithic human figures that were created by the Rapa Nui people on Easter Island.\\n\\n4. Compare the time periods of the people, things, and events to determine if they are in the correct order.\\n\\nThe pet chihuahua is a dog breed that originated in Mexico. Moai are monolithic human figures that were created by the Rapa Nui people on Easter Island.\\n\\nThe pet chihuahua originated in Mexico, while the moai were created by the Rapa Nui people on Easter Island. The pet chihuahua and the moai are not in the correct order, so the sentence contains an anachronism.',\n",
       " '\\n\\n1. Read the sentence.\\n2. Identify the people, things, and events mentioned in the sentence.\\n\\nPeople: Nikola Tesla\\nThings: Tesla Cybertruck\\nEvents: designing the Tesla Cybertruck\\n\\n3. Research the people, things, and events to determine when they existed.\\n\\nNikola Tesla: 1856-1943\\nTesla Cybertruck: 2019\\n\\n4. Compare the time periods of the people, things, and events to determine if they are in the correct order.\\n\\nNikola Tesla existed before the Tesla Cybertruck. Therefore, the sentence does not contain an anachronism.',\n",
       " '\\n\\n1. Read the sentence.\\n2. Identify the people, things, and events mentioned in the sentence.\\n3. Research the people, things, and events to determine when they existed.\\n4. Compare the time periods of the people, things, and events to determine if they are in the correct order.\\n5. If the people, things, and events are not in the correct order, the sentence contains an anachronism.\\n\\nPeople: McKenzie Scott, Bill Gates\\nThings: divorce\\nEvents: marriage\\n\\nMcKenzie Scott: born in 1971\\nBill Gates: born in 1955\\n\\nThe people in the sentence are in the correct order.\\n\\nDivorce: legal in all 50 states as of 1969\\n\\nThe event in the sentence is in the correct order.\\n\\nTherefore, the sentence does not contain an anachronism.',\n",
       " '\\n\\n1. Read the sentence.\\n2. Identify the people, things, and events mentioned in the sentence.\\n3. Research the people, things, and events to determine when they existed.\\n\\nPeople: Abraham Lincoln, Manny Pacquiao\\nThings: regular correspondence\\nEvents: N/A\\n\\n4. Compare the time periods of the people, things, and events to determine if they are in the correct order.\\n\\nAbraham Lincoln existed from 1809-1865. Manny Pacquiao was born in 1978. Therefore, the sentence is an anachronism.',\n",
       " '\\n\\nYes, this sentence contains an anachronism. The police would not have been looking for speakeasies if they did not exist, but speakeasies did not exist until after the police were established.',\n",
       " '\\n\\n1. Read the sentence.\\n2. Identify the people, things, and events mentioned in the sentence.\\n3. Research the people, things, and events to determine when they existed.\\n4. Compare the time periods of the people, things, and events to determine if they are in the correct order.\\n5. If the people, things, and events are not in the correct order, the sentence contains an anachronism.\\n\\n1. Read the sentence.\\n2. Identify the people, things, and events mentioned in the sentence.\\n3. Research the people, things, and events to determine when they existed.\\n4. Compare the time periods of the people, things, and events to determine if they are in the correct order.\\n5. If the people, things, and events are not in the correct order, the sentence contains an anachronism.\\n\\n1. Donnie Yen is a martial artist.\\n2. The live-action remake of Mulan was released in 2020.\\n\\nDonnie Yen existed in 2020, so this is not an anachronism.',\n",
       " '\\n\\n1. Read the sentence.\\n2. Identify the people, things, and events mentioned in the sentence.\\n3. Research the people, things, and events to determine when they existed.\\n4. Compare the time periods of the people, things, and events to determine if they are in the correct order.\\n5. If the people, things, and events are not in the correct order, the sentence contains an anachronism.\\n\\nYes, the sentence contains an anachronism. The Enigma Machine was not used during the Battle of Passchendaele.',\n",
       " '\\n\\nYes, this sentence is an anachronism. The dodo bird was extinct by the time the Affordable Care Act was signed into law.',\n",
       " '\\n\\n1. Read the sentence.\\n2. Identify the people, things, and events mentioned in the sentence.\\n3. Research the people, things, and events to determine when they existed.\\n4. Compare the time periods of the people, things, and events to determine if they are in the correct order.\\n\\nPeople: Pharoah Thutmose III, Egyptian empire\\nThings: military campaigns, military technology, spear tips, titanium\\nEvents: expanding borders, improving military technology\\n\\n1. Pharoah Thutmose III lived from 1458-1425 BCE.\\n2. The Egyptian empire was founded in circa 3100 BCE.\\n3. Titanium was discovered in 1791 CE.\\n\\nThe people, things, and events are not in the correct order, so the sentence contains an anachronism.',\n",
       " '\\n\\n1. Read the sentence.\\n2. Identify the people, things, and events mentioned in the sentence.\\n people: William Shakespeare, John Fletcher\\n thing: Two Noble Kinsmen\\n3. Research the people, things, and events to determine when they existed.\\n William Shakespeare: 1564-1616\\n John Fletcher: 1579-1625\\n Two Noble Kinsmen: 1634\\n4. Compare the time periods of the people, things, and events to determine if they are in the correct order.\\n William Shakespeare and John Fletcher both lived before Two Noble Kinsmen was written, so the sentence is correct.\\n5. Therefore, the sentence does not contain an anachronism.',\n",
       " '\\n\\nYes, this is an anachronism. The Underground Railroad was created in the early 1800s, while Anne Frank lived in the mid-1900s.',\n",
       " '\\n\\n1. Read the sentence.\\n2. Identify the people, things, and events mentioned in the sentence.\\n\\nThe sentence mentions the following people, things, and events:\\n-Taiwan\\n-WTO meeting\\n-Covid19\\n\\n3. Research the people, things, and events to determine when they existed.\\n\\n-Taiwan has been a country since 1949.\\n-The WTO was founded in 1995.\\n-Covid19 was first identified in 2019.\\n\\n4. Compare the time periods of the people, things, and events to determine if they are in the correct order.\\n\\nThe time periods of the people, things, and events are in the correct order.\\n\\n5. If the people, things, and events are not in the correct order, the sentence contains an anachronism.\\n\\nSince the people, things, and events are in the correct order, the sentence does not contain an anachronism.',\n",
       " '\\n\\nYes, this is an anachronism. Thomas Edison, Leonardo da Vinci, and Galileo Galilei all lived in different time periods and 5G wireless technology has not been invented yet.',\n",
       " '\\n\\nYes, this sentence is an anachronism. Homo neanderthalensis lived during the Paleolithic period, before corn was domesticated.',\n",
       " '\\n\\n1. Read the sentence.\\n2. Identify the people, things, and events mentioned in the sentence.\\n3. Research the people, things, and events to determine when they existed.\\n4. Compare the time periods of the people, things, and events to determine if they are in the correct order.\\n5. If the people, things, and events are not in the correct order, the sentence contains an anachronism.\\n\\nThe people, things, and events mentioned in the sentence are a brand new Mars rover, a solar panel, and batteries.\\n\\nThe Mars rover was first used in 1997. Solar panels have been used since the 19th century. Batteries have been used since the early 1800s.\\n\\nThe time periods of the people, things, and events are not in the correct order. The sentence contains an anachronism.',\n",
       " '\\n\\n1. Read the sentence.\\n2. Identify the people, things, and events mentioned in the sentence.\\n3. Research the people, things, and events to determine when they existed.\\n4. Compare the time periods of the people, things, and events to determine if they are in the correct order.\\n5. If the people, things, and events are not in the correct order, the sentence contains an anachronism.\\n\\nPeople: Lady Murasaki Shikibu, Lady Ada Lovelace\\nThings: biomedical software notes, Faster than Thought: A Symposium on Digital Computing Machines\\n\\n1. Read the sentence.\\n2. Identify the people, things, and events mentioned in the sentence.\\n3. Research the people, things, and events to determine when they existed.\\n4. Compare the time periods of the people, things, and events to determine if they are in the correct order.\\n5. If the people, things, and events are not in the correct order, the sentence contains an anachronism.\\n\\nLady Murasaki Shikibu: 11th century\\nLady Ada Lovelace: early 19th century\\nFaster than Thought: A Symposium on Digital Computing Machines: 1953\\n\\nThe sentence does not contain an anachronism.',\n",
       " '\\n\\nYES. Claude Monet was a French painter who lived from 1840-1926. The Renaissance was a period of European history from the 14th-17th centuries.',\n",
       " '\\n\\nYES. George Washington existed in the 1700s, and the American Civil War took place in the 1800s.',\n",
       " '\\n\\nYes',\n",
       " '\\n\\n1. Read the sentence.\\n2. Identify the people, things, and events mentioned in the sentence.\\n\\nPeople: Ivan the Terrible, composer Palestrina\\nThings: murder\\nEvents: hiring\\n\\n3. Research the people, things, and events to determine when they existed.\\n\\nIvan the Terrible: 1530-1584\\nComposer Palestrina: 1525-1594\\nMurder: since the beginning of time\\n\\n4. Compare the time periods of the people, things, and events to determine if they are in the correct order.\\n\\nIvan the Terrible and composer Palestrina lived at the same time, so the sentence is not an anachronism.',\n",
       " \"\\n\\nHammurabi's Code was developed in ancient Babylon, around 1754 BC. Functional programming was developed in the mid-20th century. Therefore, the sentence contains an anachronism.\",\n",
       " '\\n\\nYES. Claude Monet was a French artist who lived from 1840-1926. The Impressionist art movement began in France in the late 1800s.',\n",
       " '\\n\\nYES. The dodo bird was extinct by the time Iceland was settled by humans.',\n",
       " '\\n\\n1. Read the sentence.\\n2. Identify the people, things, and events mentioned in the sentence.\\n3. Research the people, things, and events to determine when they existed.\\n4. Compare the time periods of the people, things, and events to determine if they are in the correct order.\\n\\nYes, this sentence contains an anachronism. Alexander the Great lived in the 4th century BCE, while Seneca the Younger lived in the 1st century CE.',\n",
       " '\\n\\n1. Read the sentence.\\n2. Identify the people, things, and events mentioned in the sentence.\\n3. Research the people, things, and events to determine when they existed.\\n4. Compare the time periods of the people, things, and events to determine if they are in the correct order.\\n5. If the people, things, and events are not in the correct order, the sentence contains an anachronism.\\n\\nPeople: Thomas Jefferson\\nThings: watermelons\\nEvents: summer afternoons\\n\\n1. Thomas Jefferson existed in the late 1700s and early 1800s.\\n2. Watermelons originated in Africa and were brought to the Americas by Spanish explorers in the 1500s.\\n3. Summer afternoons have existed for as long as there have been days.\\n\\nThe sentence does not contain an anachronism.',\n",
       " '\\n\\n1. Read the sentence.\\n2. Identify the people, things, and events mentioned in the sentence.\\n3. Research the people, things, and events to determine when they existed.\\n4. Compare the time periods of the people, things, and events to determine if they are in the correct order.\\n5. If the people, things, and events are not in the correct order, the sentence contains an anachronism.\\n\\n1. Read the sentence.\\n2. Identify the people, things, and events mentioned in the sentence.\\nPolar bear, Pomeranian, sea\\n3. Research the people, things, and events to determine when they existed.\\nPolar bears have existed for hundreds of thousands of years. Pomeranians have existed for hundreds of years. The first seas formed billions of years ago.\\n4. Compare the time periods of the people, things, and events to determine if they are in the correct order.\\nThe order is not correct.\\n5. If the people, things, and events are not in the correct order, the sentence contains an anachronism.\\nYes',\n",
       " '\\n\\nYES. The bubonic plague occurred in the 14th century. The 21st century is not in the correct order.',\n",
       " '\\n\\n1. Read the sentence.\\n2. Identify the people, things, and events mentioned in the sentence.\\n\\nPeople: Lewis Hamilton, Queen\\nThings: knighting\\nEvents: knighting\\n\\n3. Research the people, things, and events to determine when they existed.\\n\\nLewis Hamilton: born 1985\\nQueen: reigning monarch since 1952\\nKnighting: a ceremony dating back to the Middle Ages\\n\\n4. Compare the time periods of the people, things, and events to determine if they are in the correct order.\\n\\nThe time periods are not in the correct order, as the queen began her reign before Lewis Hamilton was born.\\n\\n5. If the people, things, and events are not in the correct order, the sentence contains an anachronism.\\n\\nYes, the sentence contains an anachronism.',\n",
       " '\\n\\nStep 1: Read the sentence.\\n\\nStep 2: Identify the people, things, and events mentioned in the sentence.\\n\\nThe sentence mentions President Woodrow Wilson, Americans, the U.S., and the League of Nations.\\n\\nStep 3: Research the people, things, and events to determine when they existed.\\n\\nPresident Woodrow Wilson was the 28th President of the United States and served from 1913-1921. The League of Nations was an international organization that was founded in 1919.\\n\\nStep 4: Compare the time periods of the people, things, and events to determine if they are in the correct order.\\n\\nThe sentence is in the correct order.\\n\\nStep 5: If the people, things, and events are not in the correct order, the sentence contains an anachronism.\\n\\nSince the people, things, and events are in the correct order, the sentence does not contain an anachronism.',\n",
       " '\\n\\nYes',\n",
       " '\\n\\n1. Read the sentence.\\n2. Identify the people, things, and events mentioned in the sentence.\\nPeople: Jason\\nThings: TRS80 color computer, Radio Shack\\nEvents: downloaded a movie\\n\\n3. Research the people, things, and events to determine when they existed.\\nPeople: Jason - no specific time period given\\nThings: TRS80 color computer - released in 1977, Radio Shack - founded in 1921\\nEvents: downloaded a movie - no specific time period given\\n\\n4. Compare the time periods of the people, things, and events to determine if they are in the correct order.\\nThe people, things, and events are not in the correct order, the sentence contains an anachronism.',\n",
       " '\\n\\n1. Read the sentence.\\n2. Identify the people, things, and events mentioned in the sentence.\\nPeople: Megalodon, Pomeranian\\nThings: sea, perch\\nEvents: jumped, snagged\\n3. Research the people, things, and events to determine when they existed.\\nMegalodon: 2.6 million - 23 million years ago\\nPomeranian: 16th century\\nSea: 3.8 billion years ago\\nPerch: unknown\\n4. Compare the time periods of the people, things, and events to determine if they are in the correct order.\\nMegalodon and the sea are in the correct order. Megalodon and the Pomeranian are not in the correct order.\\n5. Since the people, things, and events are not in the correct order, the sentence contains an anachronism.',\n",
       " \"\\n\\n1. Read the sentence.\\n2. Identify the people, things, and events mentioned in the sentence.\\n3. Research the people, things, and events to determine when they existed.\\n4. Compare the time periods of the people, things, and events to determine if they are in the correct order.\\n5. If the people, things, and events are not in the correct order, the sentence contains an anachronism.\\n\\n1. Read the sentence.\\n2. Identify the people, things, and events mentioned in the sentence.\\n\\nPeople: Sally\\nThings: HBO's True Detective, knitting\\nEvents: watching HBO's True Detective\\n\\n3. Research the people, things, and events to determine when they existed.\\n\\nPeople: Sally (unknown)\\nThings: HBO's True Detective (2014), knitting (unknown)\\nEvents: watching HBO's True Detective (2014)\\n\\n4. Compare the time periods of the people, things, and events to determine if they are in the correct order.\\n\\nPeople: Sally (unknown)\\nThings: HBO's True Detective (2014), knitting (unknown)\\nEvents: watching HBO's True Detective (2014)\\n\\nUnknown < 2014 < 2014\\n\\n5. If the people, things, and events are not in the correct order, the sentence contains an anachronism.\\n\\nNo\",\n",
       " '\\n\\n1. Read the sentence.\\n2. Identify the people, things, and events mentioned in the sentence.\\n\\nThe sentence mentions the USS New Ironsides, a ship, and radar, a technology.\\n\\n3. Research the people, things, and events to determine when they existed.\\n\\nThe USS New Ironsides was a ship that was launched in 1862. Radar was invented in 1904.\\n\\n4. Compare the time periods of the people, things, and events to determine if they are in the correct order.\\n\\nRadar was invented after the USS New Ironsides was launched. This means the sentence is not in the correct order.\\n\\n5. If the people, things, and events are not in the correct order, the sentence contains an anachronism.\\n\\nThe sentence contains an anachronism.',\n",
       " '\\n\\n1. Read the sentence.\\n2. Identify the people, things, and events mentioned in the sentence.\\n\\nPeople: Marco Polo, Leonardo Da Vinci, Kublai Khan\\nThings: portrait\\nEvents: commissioning\\n\\n3. Research the people, things, and events to determine when they existed.\\n\\n Marco Polo: 1254-1324\\n Leonardo Da Vinci: 1452-1519\\n Kublai Khan: 1215-1294\\n\\n4. Compare the time periods of the people, things, and events to determine if they are in the correct order.\\n\\nThe time periods are not in the correct order. Marco Polo and Kublai Khan should be reversed.\\n\\n5. If the people, things, and events are not in the correct order, the sentence contains an anachronism.\\n\\nYes, the sentence contains an anachronism.',\n",
       " '\\n\\n1. Read the sentence.\\n2. Identify the people, things, and events mentioned in the sentence.\\n\\n-Benjamin Franklin\\n-Benjamin Thompson\\n-The steam boat\\n\\n3. Research the people, things, and events to determine when they existed.\\n\\n-Benjamin Franklin was born in 1706 and died in 1790.\\n-Benjamin Thompson was born in 1753 and died in 1814.\\n-The first steam boat was built in 1787.\\n\\n4. Compare the time periods of the people, things, and events to determine if they are in the correct order.\\n\\n-The first steam boat was built in 1787, while Benjamin Franklin was still alive.\\n-Benjamin Thompson was born in 1753, while Benjamin Franklin was still alive.\\n\\n5. Since the people, things, and events are not in the correct order, the sentence contains an anachronism.',\n",
       " '\\n\\n1. Read the sentence.\\n2. Identify the people, things, and events mentioned in the sentence.\\n3. Research the people, things, and events to determine when they existed.\\n4. Compare the time periods of the people, things, and events to determine if they are in the correct order.\\n5. If the people, things, and events are not in the correct order, the sentence contains an anachronism.\\n\\nYes, this sentence contains an anachronism. Tycho Brahe was a Danish astronomer who lived from 1546 to 1601. The Game Boy was released in 1989, and Super Mario Land was released in 1991.',\n",
       " '\\n\\n1. Read the sentence.\\n2. Identify the people, things, and events mentioned in the sentence.\\nIn the sentence, there are three things mentioned: prokaryotes, Earth, and the Late Heavy Bombardment.\\n3. Research the people, things, and events to determine when they existed.\\nProkaryotes are the simplest and oldest form of life, and they appeared on Earth about 3.5 billion years ago. Earth formed about 4.5 billion years ago. The Late Heavy Bombardment was a period of intense meteorite strikes that occurred between 4 billion and 4.1 billion years ago.\\n4. Compare the time periods of the people, things, and events to determine if they are in the correct order.\\nThe order of the things mentioned in the sentence is correct.\\n5. If the people, things, and events are not in the correct order, the sentence contains an anachronism.\\n\\nSince the people, things, and events mentioned in the sentence are in the correct order, the sentence does not contain an anachronism.',\n",
       " '\\n\\n1. Read the sentence.\\n2. Identify the people, things, and events mentioned in the sentence.\\n3. Research the people, things, and events to determine when they existed.\\n4. Compare the time periods of the people, things, and events to determine if they are in the correct order.\\n5. If the people, things, and events are not in the correct order, the sentence contains an anachronism.\\n\\nThe people mentioned in the sentence are \"many modern hip hop artists.\" The thing mentioned in the sentence is \"Beats from the MPC3000.\" The event mentioned in the sentence is \"inspire.\"\\n\\nResearching \"many modern hip hop artists\" shows that they exist in the present day. Researching \"Beats from the MPC3000\" shows that it was released in 1994. Researching \"inspire\" shows that it is an ongoing event.\\n\\nThe time periods of the people, things, and events are not in the correct order, so the sentence contains an anachronism.',\n",
       " '\\n\\n1. Read the sentence.\\n2. Identify the people, things, and events mentioned in the sentence.\\n3. Research the people, things, and events to determine when they existed.\\n4. Compare the time periods of the people, things, and events to determine if they are in the correct order.\\n5. If the people, things, and events are not in the correct order, the sentence contains an anachronism.\\n\\n1. Read the sentence.\\n2. Identify the people, things, and events mentioned in the sentence.\\nDingiri Wijetunga, Super Mario Land\\n3. Research the people, things, and events to determine when they existed.\\nDingiri Wijetunga - President of Sri Lanka from 1978 to 1993\\nSuper Mario Land - Released in 1989\\n4. Compare the time periods of the people, things, and events to determine if they are in the correct order.\\nDingiri Wijetunga existed before Super Mario Land was released, so the sentence does not contain an anachronism.',\n",
       " '\\n\\nYes, this is an anachronism. Rosa Parks was born in 1913 and the song \"Rosa Parks\" was released in 1998.',\n",
       " '\\n\\n1. Read the sentence.\\n2. Identify the people, things, and events mentioned in the sentence.\\n3. Research the people, things, and events to determine when they existed.\\n4. Compare the time periods of the people, things, and events to determine if they are in the correct order.\\n5. If the people, things, and events are not in the correct order, the sentence contains an anachronism.\\n\\nPeople: Dwight Eisenhower\\nThings: United States Army\\nEvents: being a General\\n\\nDwight Eisenhower was born in 1890 and died in 1969. He was a General in the United States Army from 1941 to 1945.\\n\\nThe people, things, and events are in the correct order, so the sentence does not contain an anachronism.',\n",
       " '\\n\\n1. Read the sentence.\\n2. Identify the people, things, and events mentioned in the sentence.\\n3. Research the people, things, and events to determine when they existed.\\n\\nPeople: the student, Connor McGregor\\n\\nThing: a live video\\n\\nEvent: fighting\\n\\n4. Compare the time periods of the people, things, and events to determine if they are in the correct order.\\n\\nThe student and Connor McGregor both exist in the present day, so there is no anachronism there. However, live videos did not exist in the past, so the sentence contains an anachronism.',\n",
       " '\\n\\n1. Read the sentence.\\n2. Identify the people, things, and events mentioned in the sentence.\\n\\nPeople: Ponce De Leon, the king\\nThings: messenger pigeon\\nEvents: finding something, reporting findings\\n\\n3. Research the people, things, and events to determine when they existed.\\n\\nPonce De Leon: 15th century\\nMessenger pigeon: 18th century\\n\\n4. Compare the time periods of the people, things, and events to determine if they are in the correct order.\\n\\nThe time periods are not in the correct order, so the sentence contains an anachronism.',\n",
       " '\\n\\nYES, this is an anachronism.\\n\\n1. Read the sentence.\\n2. Identify the people, things, and events mentioned in the sentence.\\n3. Research the people, things, and events to determine when they existed.\\n\\nGenghis Khan lived from 1162-1227.\\nThe Great Wall of China was built between 221 BC and 206 BC.\\nThe first image of the Great Wall of China from space was captured by a satellite in May of 1984.\\n\\n4. Compare the time periods of the people, things, and events to determine if they are in the correct order.\\n\\nGenghis Khan lived more than 800 years after the Great Wall of China was built.\\n\\n5. Since the people, things, and events are not in the correct order, the sentence contains an anachronism.',\n",
       " '\\n\\nYes',\n",
       " '\\n\\n1. Read the sentence.\\n2. Identify the people, things, and events mentioned in the sentence.\\nPeople: Ancient Greek philosophers\\nThings: golf\\nEvents: playing golf\\n3. Research the people, things, and events to determine when they existed.\\nPeople: Ancient Greek philosophers - existed during the Classical period in Greece from 800 BCE to 323 BCE\\nThings: golf - the game of golf originated in 15th-century Scotland\\nEvents: playing golf - the game of golf was played in 15th-century Scotland\\n4. Compare the time periods of the people, things, and events to determine if they are in the correct order.\\nPeople: Ancient Greek philosophers - existed during the Classical period in Greece from 800 BCE to 323 BCE\\nThings: golf - the game of golf originated in 15th-century Scotland\\nEvents: playing golf - the game of golf was played in 15th-century Scotland\\n\\nThe people, things, and events are not in the correct order, so the sentence contains an anachronism.',\n",
       " '\\n\\nYes, this is an anachronism.\\n\\nThe Great Depression occurred from 1929-1939.\\n\\nProhibition occurred from 1920-1933.',\n",
       " '\\n\\n1. Read the sentence.\\n2. Identify the people, things, and events mentioned in the sentence.\\n\\nPeople: engineer\\nThings: replica galleon, radar system\\nEvents: upgrading the radar system\\n\\n3. Research the people, things, and events to determine when they existed.\\n\\nReplica galleons were used during the age of sail. Radar systems were invented in the early 20th century.\\n\\n4. Compare the time periods of the people, things, and events to determine if they are in the correct order.\\n\\nReplica galleons existed before radar systems, so the sentence is in the correct order.',\n",
       " '\\n\\nYes, this sentence is an anachronism. The Parthian Empire existed from 247 BCE to 224 CE, while Crassus lived from 115-53 BCE.',\n",
       " '\\n\\nYes',\n",
       " '\\n\\nYES. Homo Erectus lived from approximately 2 million to 1 million years ago, while Smilodon lived from approximately 2.5 million to 10,000 years ago. Therefore, the Homo Erectus wielding scimitars against Smilodon is an anachronism.',\n",
       " '\\n\\nYES. Utahraptor lived during the Cretaceous period, while Iguanodon lived during the Jurassic period.',\n",
       " '\\n\\nYes',\n",
       " '\\n\\n1. Read the sentence.\\n2. Identify the people, things, and events mentioned in the sentence.\\n3. Research the people, things, and events to determine when they existed.\\n\\nThe Lewis and Clark Expedition began in 1804 and ended in 1806.\\n\\n4. Compare the time periods of the people, things, and events to determine if they are in the correct order.\\n\\nThe time periods are in the correct order.\\n\\n5. If the people, things, and events are not in the correct order, the sentence contains an anachronism.\\n\\nSince the people, things, and events are in the correct order, the sentence does not contain an anachronism.',\n",
       " '\\n\\n\\n1. Read the sentence.\\n2. Identify the people, things, and events mentioned in the sentence.\\n3. Research the people, things, and events to determine when they existed.\\n4. Compare the time periods of the people, things, and events to determine if they are in the correct order.\\n5. If the people, things, and events are not in the correct order, the sentence contains an anachronism.\\n\\n- President Woodrow Wilson: Served as President from 1913-1921 \\n- The United States: The International Atomic Energy Agency was not founded until 1957 \\n\\nYes, there is an anachronism in the sentence.',\n",
       " '\\n\\nYes, this is an anachronism. The moon was formed approximately 4.5 billion years ago, while the first prokaryotes appeared on Earth approximately 3.5 billion years ago.',\n",
       " '\\n\\nYes',\n",
       " '\\n\\nYES. Ellen Johnson-Sirleaf was born in 1938. Calculus was invented in the 17th century.',\n",
       " '\\n\\nYes, the sentence is an anachronism. \\n\\n1. Read the sentence.\\n2. Identify the people, things, and events mentioned in the sentence.\\n3. Research the people, things, and events to determine when they existed.\\n4. Compare the time periods of the people, things, and events to determine if they are in the correct order.\\n5. If the people, things, and events are not in the correct order, the sentence contains an anachronism.',\n",
       " '\\n\\n1. Read the sentence.\\n2. Identify the people, things, and events mentioned in the sentence.\\n3. Research the people, things, and events to determine when they existed.\\n\\nHedy Lamarr was an actress who was born in 1914. Julia is a programming language that was created in 2009.\\n\\n4. Compare the time periods of the people, things, and events to determine if they are in the correct order.\\n\\nHedy Lamarr existed before Julia, so the sentence contains an anachronism.\\n\\n5. If the people, things, and events are not in the correct order, the sentence contains an anachronism.\\n\\nYes, the sentence contains an anachronism.',\n",
       " '\\n\\n1. Read the sentence.\\n2. Identify the people, things, and events mentioned in the sentence.\\n3. Research the people, things, and events to determine when they existed.\\n4. Compare the time periods of the people, things, and events to determine if they are in the correct order.\\n5. If the people, things, and events are not in the correct order, the sentence contains an anachronism.\\n\\n1. Read the sentence.\\n2. Identify the people, things, and events mentioned in the sentence.\\n\\nPeople: Eric the Red\\nThings: settlements\\nEvents: establishing the first permanent settlements in Greenland\\n\\n3. Research the people, things, and events to determine when they existed.\\n\\nEric the Red: 9th century\\nSettlements: 9th century\\nEstablishing the first permanent settlements in Greenland: 9th century\\n\\n4. Compare the time periods of the people, things, and events to determine if they are in the correct order.\\n\\n9th century: Eric the Red, Settlements, Establishing the first permanent settlements in Greenland\\n\\n5. If the people, things, and events are not in the correct order, the sentence contains an anachronism.\\n\\nThe people, things, and events are in the correct order, so the sentence does not contain an anachronism.',\n",
       " '\\n\\nStep 1: Read the sentence.\\nStep 2: Identify the people, things, and events mentioned in the sentence.\\nPeople: Socrates\\nThings: lethal injection\\nEvents: executed\\n\\nStep 3: Research the people, things, and events to determine when they existed.\\nPeople: Socrates existed in 469 BCE - 399 BCE.\\nThings: lethal injection was first used in the United States in 1982.\\nEvents: executed can refer to many different things, but in this context it likely means put to death, which has been happening since ancient times.\\n\\nStep 4: Compare the time periods of the people, things, and events to determine if they are in the correct order.\\nPeople: Socrates existed before lethal injection was invented.\\nThings: lethal injection was invented after Socrates died.\\nEvents: executed is a general term and can happen at any time.\\n\\nStep 5: Since the people, things, and events are not in the correct order, the sentence contains an anachronism.',\n",
       " '\\n\\nYes, there is an anachronism.\\n\\n1. Read the sentence.\\n2. Identify the people, things, and events mentioned in the sentence.\\n3. Research the people, things, and events to determine when they existed.\\n4. Compare the time periods of the people, things, and events to determine if they are in the correct order.\\n5. If the people, things, and events are not in the correct order, the sentence contains an anachronism.',\n",
       " '\\n\\nYes, this is an anachronism.\\n\\nAlexander Graham Bell was born in 1847 and died in 1922.\\nAlexander Hamilton was born in 1757 and died in 1804.',\n",
       " '\\n\\nYes, this is an anachronism.\\n\\n1. Read the sentence.\\n\\n2. Identify the people, things, and events mentioned in the sentence.\\n\\n-Jason\\n-The ancient pyramid\\n-A sealed box\\n-A floppy disk\\n\\n3. Research the people, things, and events to determine when they existed.\\n\\n-Jason is a human who would have existed in any time period.\\n-The ancient pyramid is from the time period of ancient Egypt.\\n-A sealed box is a type of container that has been used since ancient times.\\n-A floppy disk is a type of storage device that was invented in the 1970s.\\n\\n4. Compare the time periods of the people, things, and events to determine if they are in the correct order.\\n\\n-The ancient pyramid and the sealed box are from the same time period.\\n-Jason is from any time period, so he can be before or after the ancient pyramid and the sealed box.\\n-The floppy disk is from a later time period than the ancient pyramid and the sealed box.\\n\\n5. Since the floppy disk is from a later time period than the ancient pyramid and the sealed box, the sentence contains an anachronism.',\n",
       " '\\n\\n1. Read the sentence.\\n2. Identify the people, things, and events mentioned in the sentence.\\n3. Research the people, things, and events to determine when they existed.\\n4. Compare the time periods of the people, things, and events to determine if they are in the correct order.\\n5. If the people, things, and events are not in the correct order, the sentence contains an anachronism.\\n\\nThe people, things, and events in this sentence are Thomas Jefferson, honeycrisp apples, and summer afternoons. Thomas Jefferson lived from 1743-1826. Honeycrisp apples were developed in the 1960s. Summer afternoons exist at all times.\\n\\nSince the time periods of the people, things, and events are in the correct order, the sentence does not contain an anachronism.',\n",
       " '\\n\\nYES. The recognition of Christianity as the official religion of both Ethiopia and the Roman Empire did not happen within the same decade.',\n",
       " '\\n\\n1. Read the sentence.\\n2. Identify the people, things, and events mentioned in the sentence.\\n3. Research the people, things, and events to determine when they existed.\\n4. Compare the time periods of the people, things, and events to determine if they are in the correct order.\\n5. If the people, things, and events are not in the correct order, the sentence contains an anachronism.\\n\\nPeople: Vasco de Gama\\nThings: shipwreck, Cape of Good Hope, astrolabe\\nEvents: avoided shipwreck\\n\\nVasco de Gama lived from 1469-1524. The astrolabe was invented in the 2nd century BCE. The Cape of Good Hope was discovered in 1488.\\n\\nThe people, things, and events are not in the correct order, so the sentence contains an anachronism.',\n",
       " '\\n\\nYes, this sentence is an anachronism. Laptops were not invented until the late 20th century, whereas Benjamin Franklin lived in the 18th century.',\n",
       " \"\\n\\nYes, this is an anachronism. Ravi Shankar was born in 1920 and Shakira was born in 1977, so they could not have been Bessie Smith's favorite musicians at the same time.\",\n",
       " '\\n\\nYes, this sentence is an anachronism. The pet dog and the triceratops did not exist at the same time.',\n",
       " '\\n\\n1. Read the sentence.\\n2. Identify the people, things, and events mentioned in the sentence.\\n3. Research the people, things, and events to determine when they existed.\\n4. Compare the time periods of the people, things, and events to determine if they are in the correct order.\\n\\nSocrates was executed in 399 BC. The first recorded instance of lethal stabbing was in 17th century BC.\\n\\n5. Since the time periods of the people, things, and events are not in the correct order, the sentence contains an anachronism.',\n",
       " '\\n\\n1. Read the sentence.\\n2. Identify the people, things, and events mentioned in the sentence.\\n3. Research the people, things, and events to determine when they existed.\\n4. Compare the time periods of the people, things, and events to determine if they are in the correct order.\\n5. If the people, things, and events are not in the correct order, the sentence contains an anachronism.\\n\\nYes, this sentence contains an anachronism.',\n",
       " '\\n\\nYes, this sentence is an anachronism. Johann Sebastian Bach was a composer who lived in the 1700s. \"A Brief History of Time\" is a book written by Stephen Hawking in the late 20th century.',\n",
       " '\\n\\n1. Read the sentence.\\n2. Identify the people, things, and events mentioned in the sentence.\\n\\nThe people mentioned in the sentence are the student and Tlahuicole. The event mentioned in the sentence is the fight.\\n\\n3. Research the people, things, and events to determine when they existed.\\n\\nTlahuicole was a 16th century Aztec general.\\n\\n4. Compare the time periods of the people, things, and events to determine if they are in the correct order.\\n\\nThe student and the fight are in the correct order. However, Tlahuicole is from the 16th century, while the fight is from the 21st century, so they are not in the correct order.\\n\\n5. If the people, things, and events are not in the correct order, the sentence contains an anachronism.\\n\\nYes, the sentence contains an anachronism.',\n",
       " '\\n\\nYes, this sentence is an anachronism. George Washington and the delegate of the Ashikaga Shogunate lived in different time periods and would not have been able to meet in person.',\n",
       " '\\n\\n1. Read the sentence.\\n2. Identify the people, things, and events mentioned in the sentence.\\n3. Research the people, things, and events to determine when they existed.\\n4. Compare the time periods of the people, things, and events to determine if they are in the correct order.\\n5. If the people, things, and events are not in the correct order, the sentence contains an anachronism.\\n\\n1. Read the sentence.\\n2. Identify the people, things, and events mentioned in the sentence.\\n3. Research the people, things, and events to determine when they existed.\\n4. Compare the time periods of the people, things, and events to determine if they are in the correct order.\\n5. If the people, things, and events are not in the correct order, the sentence contains an anachronism.\\n\\n1. Read the sentence.\\n2. Identify the people, things, and events mentioned in the sentence.\\n3. Research the people, things, and events to determine when they existed.\\n4. Compare the time periods of the people, things, and events to determine if they are in the correct order.\\n5. If the people, things, and events are not in the correct order, the sentence contains an anachronism.\\n\\n1. Read the sentence.\\n2. Identify the people, things, and events mentioned in the sentence.\\n3. Research the people, things, and events to determine when they existed.\\n4. Compare the time periods of the people, things, and events to determine if they are in the correct order.\\n5. If the people, things, and events are not in the correct order, the sentence contains an anachronism.\\n\\n1. Read the sentence.\\n2. Identify the people, things, and events mentioned in the sentence',\n",
       " '\\n\\n1. Read the sentence.\\n2. Identify the people, things, and events mentioned in the sentence.\\n3. Research the people, things, and events to determine when they existed.\\n4. Compare the time periods of the people, things, and events to determine if they are in the correct order.\\n\\nIgor Stravinsky was a Russian composer who lived from 1882 to 1971. The Symphonie Fantastique is a musical piece composed by Hector Berlioz in 1830.\\n\\n5. Since Igor Stravinsky lived after Hector Berlioz, the sentence does not contain an anachronism.',\n",
       " '\\n\\n1. Read the sentence.\\n2. Identify the people, things, and events mentioned in the sentence.\\n3. Research the people, things, and events to determine when they existed.\\n4. Compare the time periods of the people, things, and events to determine if they are in the correct order.\\n5. If the people, things, and events are not in the correct order, the sentence contains an anachronism.\\n\\nThe people in the sentence are Ralph and the Allied forces. The thing mentioned is an iPhone. The event is the bombardment of Iwo Jima.\\n\\nRalph existed in 1945. The iPhone was created in 2007. The Allied bombardment of Iwo Jima took place in 1945.\\n\\nThe time periods of the people, things, and events are not in the correct order. The sentence contains an anachronism.',\n",
       " '\\n\\n1. Read the sentence.\\n2. Identify the people, things, and events mentioned in the sentence.\\n3. Research the people, things, and events to determine when they existed.\\n4. Compare the time periods of the people, things, and events to determine if they are in the correct order.\\n5. If the people, things, and events are not in the correct order, the sentence contains an anachronism.\\n\\nThe people mentioned in the sentence are Ralph and the Allied forces. The thing mentioned in the sentence is the radio. The event mentioned in the sentence is the Allied bombardment of the beaches of Iwo Jima.\\n\\nRalph and the Allied forces existed during World War II. Radios existed during World War II. The Allied bombardment of the beaches of Iwo Jima occurred during World War II.\\n\\nSince all of the people, things, and events mentioned in the sentence existed during the same time period, the sentence does not contain an anachronism.',\n",
       " '\\n\\nYes, this is an anachronism. The sentence states that COVID-19 infected people even into the 17th century, however COVID-19 did not exist until the early 21st century.',\n",
       " '\\n\\n1. Read the sentence.\\n2. The people mentioned in the sentence are Antonio Salieri and the composer of the opera \"The Marriage of Figaro\". The event mentioned in the sentence is the writing of the opera.\\n3. Antonio Salieri was a composer who lived from 1750 to 1825. The opera \"The Marriage of Figaro\" was composed in 1786.\\n4. The time period of Antonio Salieri is before the time period of the opera \"The Marriage of Figaro\".\\n5. The sentence does not contain an anachronism.',\n",
       " '\\n\\nYes',\n",
       " '\\n\\nYES. The Stelliferous Era occurred between 10^6 and 10^12 years ago, while the sun is estimated to have formed around 4.6 billion years ago.',\n",
       " '\\n\\n1. Read the sentence.\\n2. Identify the people, things, and events mentioned in the sentence.\\n3. Research the people, things, and events to determine when they existed.\\n4. Compare the time periods of the people, things, and events to determine if they are in the correct order.\\n\\nYes, this sentence contains an anachronism because Marie Antoinette existed in the 1700s and Bruce Springsteen did not release his first album until the 1970s.',\n",
       " '\\n\\n1. Read the sentence.\\n2. Identify the people, things, and events mentioned in the sentence.\\n3. Research the people, things, and events to determine when they existed.\\n4. Compare the time periods of the people, things, and events to determine if they are in the correct order.\\n\\nGeorge H. W. Bush was the President of the United States from 1989 to 1993. The Gulf War took place from 1990 to 1991.\\n\\n5. The people, things, and events are in the correct order, so the sentence does not contain an anachronism.',\n",
       " '\\n\\nYes, the sentence contains an anachronism.',\n",
       " '\\n\\n1. Read the sentence.\\n2. Identify the people, things, and events mentioned in the sentence.\\n3. Research the people, things, and events to determine when they existed.\\nPyrrhus of Epirus: lived from c.319 BC -272 BC \\nWar elephants: used in the military from around the 6th century BC to the 1st century AD \\nThe Roman armies: the Roman Republic was founded in 509 BC\\n4. Compare the time periods of the people, things, and events to determine if they are in the correct order.\\nPyrrhus of Epirus and the Roman armies existed at the same time. \\nWar elephants were used before Pyrrhus of Epirus lived. \\n5. Since the people, things, and events are not in the correct order, the sentence contains an anachronism.',\n",
       " '\\n\\n1. Read the sentence.\\n2. Identify the people, things, and events mentioned in the sentence.\\n3. Research the people, things, and events to determine when they existed.\\n4. Compare the time periods of the people, things, and events to determine if they are in the correct order.\\n\\nThe emperor: Rome began using emperors in 27 BCE\\nFerrari: Enzo Ferrari founded Ferrari in 1939\\nColiseum: The Coliseum was built between 70 and 80 CE\\n\\n5. The people, things, and events are not in the correct order, the sentence contains an anachronism.',\n",
       " '\\n\\n1. Read the sentence.\\n2. Identify the people, things, and events mentioned in the sentence.\\n3. Research the people, things, and events to determine when they existed.\\n4. Compare the time periods of the people, things, and events to determine if they are in the correct order.\\n5. If the people, things, and events are not in the correct order, the sentence contains an anachronism.\\n\\nPonce De Leon - 1500s\\nTelegram - 1800s\\n\\nYes, the sentence contains an anachronism.',\n",
       " '\\n\\nYes, this is an anachronism.\\n\\n1. Read the sentence.\\n2. Identify the people, things, and events mentioned in the sentence.\\n3. Research the people, things, and events to determine when they existed.\\n\\nThe people mentioned in the sentence are scientists and Lucy. The thing mentioned in the sentence is the female Australopithecus afarensis AL 288-1. The event mentioned in the sentence is the finding of the fossil.\\n\\nScientists have been around since the late 19th century. The Beatles song \"Lucy in the Sky with Diamonds\" was released in 1967. The fossil of the female Australopithecus afarensis was found in 1974.\\n\\n4. Compare the time periods of the people, things, and events to determine if they are in the correct order.\\n\\nThe time periods of the people, things, and events are not in the correct order. The song was released before the fossil was found.\\n\\n5. If the people, things, and events are not in the correct order, the sentence contains an anachronism.\\n\\nTherefore, the sentence contains an anachronism.',\n",
       " '\\n\\nYes, this sentence is an anachronism. The pet turtle likely exists in the present day, while the Icelandic police likely exist in the present day. However, the tourist walking his pet turtle is anachronistic because it is likely that pet turtles did not exist in the time period of the Icelandic police.',\n",
       " '\\n\\n1. Read the sentence.\\n2. Identify the people, things, and events mentioned in the sentence.\\n3. Research the people, things, and events to determine when they existed.\\n4. Compare the time periods of the people, things, and events to determine if they are in the correct order.\\n\\nPeople: President George W. Bush, generals\\nThings: Oval Office\\nEvents: Gulf War\\n\\n3. President George W. Bush was the President of the United States from 2001-2009. The Gulf War took place from 1990-1991.\\n4. The time periods of the people, things, and events are not in the correct order, so the sentence contains an anachronism.',\n",
       " '\\n\\nStep 1: Read the sentence.\\nStep 2: Identify the people, things, and events mentioned in the sentence.\\nPeople: Elon Musk\\nThings: Tesla Cybertruck\\nEvents: designed, ran\\nStep 3: Research the people, things, and events to determine when they existed.\\nElon Musk: 1971-present\\nTesla Cybertruck: 2019-present\\nDesigned: Musk designed the Cybertruck in 2019\\nRan: The Cybertruck has not yet been released, so it is unknown when it will be able to run on gasoline\\nStep 4: Compare the time periods of the people, things, and events to determine if they are in the correct order.\\nThe people, things, and events are not in the correct order, because the Cybertruck has not yet been released and therefore cannot run on gasoline.\\n\\nStep 5: If the people, things, and events are not in the correct order, the sentence contains an anachronism.\\nYES',\n",
       " '\\n\\n1. Read the sentence.\\n2. Identify the people, things, and events mentioned in the sentence.\\n3. Research the people, things, and events to determine when they existed.\\n4. Compare the time periods of the people, things, and events to determine if they are in the correct order.\\n5. If the people, things, and events are not in the correct order, the sentence contains an anachronism.\\n\\nYes, the sentence contains an anachronism. Genghis Khan lived in the 12th and 13th centuries, while the Great Wall of China was built in the 7th century.',\n",
       " '\\n\\nYes, this sentence contains an anachronism. The Challenger shuttle was built in 1982, but cell phones were not invented until 1983.',\n",
       " '\\n\\nYES. Alexandrite is a gemstone that was not discovered until the 19th century, but Eleanor of Toledo lived in the 16th century.']"
      ]
     },
     "execution_count": 29,
     "metadata": {},
     "output_type": "execute_result"
    }
   ],
   "source": [
    "all_preds[0]"
   ]
  },
  {
   "cell_type": "code",
   "execution_count": 30,
   "id": "7fff75f7",
   "metadata": {},
   "outputs": [
    {
     "data": {
      "text/plain": [
       "'George Washington Carver told Mahatama Gandhi to eat more Soylent to improve his nutrition.'"
      ]
     },
     "execution_count": 30,
     "metadata": {},
     "output_type": "execute_result"
    }
   ],
   "source": [
    "subset[0]"
   ]
  },
  {
   "cell_type": "code",
   "execution_count": null,
   "id": "1b04d314",
   "metadata": {},
   "outputs": [],
   "source": [
    "best = []\n",
    "best_accs = []\n",
    "for x in np.argsort(accs[-10:]):\n",
    "    fn = get_anachronism_fn(decompositions[x], batch_size=20)\n",
    "    this_preds = fn(inputs)\n",
    "    best.append(this_preds)\n",
    "    pp = np.array([1 if x.lower().endswith('yes') else 0 for x in this_preds])\n",
    "    acc = (pp==labels).mean()\n",
    "    best_accs.append(acc)\n",
    "    print(acc)"
   ]
  },
  {
   "cell_type": "code",
   "execution_count": 258,
   "id": "d7e85fde",
   "metadata": {},
   "outputs": [
    {
     "data": {
      "text/plain": [
       "[0.7, 0.7, 0.7, 0.7, 0.72, 0.72, 0.72, 0.72, 0.74, 0.76]"
      ]
     },
     "execution_count": 258,
     "metadata": {},
     "output_type": "execute_result"
    }
   ],
   "source": [
    "[accs[i] for i in np.argsort(accs)[-10:]]"
   ]
  },
  {
   "cell_type": "code",
   "execution_count": 228,
   "id": "e943e085",
   "metadata": {},
   "outputs": [
    {
     "data": {
      "text/plain": [
       "0.85"
      ]
     },
     "execution_count": 228,
     "metadata": {},
     "output_type": "execute_result"
    }
   ],
   "source": [
    "accs[10]"
   ]
  },
  {
   "cell_type": "code",
   "execution_count": 221,
   "id": "c32a76d7",
   "metadata": {},
   "outputs": [
    {
     "name": "stdout",
     "output_type": "stream",
     "text": [
      "0.7\n"
     ]
    }
   ],
   "source": [
    "nidxs = np.random.choice(len(inputs), 50, replace=False)\n",
    "nlabs = np.array([labels[i] for i in nidxs])\n",
    "nsubset = [inputs[i] for i in nidxs]\n",
    "this_preds = fn(subset)\n",
    "pp = np.array([1 if x.lower().endswith('yes') else 0 for x in this_preds])\n",
    "print((pp==labs).mean())"
   ]
  },
  {
   "cell_type": "code",
   "execution_count": 229,
   "id": "ab6488ec",
   "metadata": {},
   "outputs": [],
   "source": [
    "fn = get_anachronism_fn(decompositions[4], batch_size=20)\n",
    "this_preds = fn(inputs)"
   ]
  },
  {
   "cell_type": "code",
   "execution_count": 224,
   "id": "73f39a39",
   "metadata": {},
   "outputs": [
    {
     "name": "stdout",
     "output_type": "stream",
     "text": [
      "0.7347826086956522\n"
     ]
    }
   ],
   "source": [
    "pp = np.array([1 if x.lower().endswith('yes') else 0 for x in this_preds])\n",
    "print((pp==labels).mean())"
   ]
  },
  {
   "cell_type": "code",
   "execution_count": 230,
   "id": "82bc3ad7",
   "metadata": {},
   "outputs": [
    {
     "name": "stdout",
     "output_type": "stream",
     "text": [
      "0.6521739130434783\n"
     ]
    }
   ],
   "source": [
    "pp = np.array([1 if x.lower().endswith('yes') else 0 for x in this_preds])\n",
    "print((pp==labels).mean())"
   ]
  },
  {
   "cell_type": "code",
   "execution_count": 58,
   "id": "30554cd7",
   "metadata": {},
   "outputs": [
    {
     "data": {
      "text/plain": [
       "[' The scientist, his cell phone, the Perserverance rover\\n2. The scientist and the Perserverance rover are from 2020. His cell phone is from 2010.\\n3. Yes',\n",
       " ' Read the sentence.\\n2. Identify the people, things, or events in the sentence.\\nHagia Sophia, church, mosque, museum\\n3. Determine when each person, thing, or event in the sentence took place.\\nHagia Sophia- 532 AD, church- 1000s AD, mosque- 1500s AD, museum- 1934 AD\\n4. Compare the times of the people, things, or events to see if they are in the correct order.\\nHagia Sophia, church, mosque, museum\\n5. If the people, things, or events are in the correct order, output \"No\". If the people, things, or events are not in the correct order, output \"Yes\".\\nNo',\n",
       " ' Read the sentence.\\n2. Identify the people, things, or events in the sentence.\\n\\nPeople: President George W. Bush, generals\\n\\nThings: Oval Office\\n\\nEvents: Gulf War\\n\\n3. Determine when each person, thing, or event in the sentence took place.\\n\\nPeople: President George W. Bush (born 1946), generals (no specific time)\\n\\nThings: Oval Office (built 1909)\\n\\nEvents: Gulf War (1990-1991)\\n\\n4. Compare the times of the people, things, or events to see if they are in the correct order.\\n\\nPeople: President George W. Bush, generals\\n\\nThings: Oval Office\\n\\nEvents: Gulf War\\n\\n5. If the people, things, or events are in the correct order, output \"No\". If the people, things, or events are not in the correct order, output \"Yes\".\\n\\nNo',\n",
       " ' Read the sentence.\\n2. Identify the people, things, or events in the sentence.\\n3. Determine when each person, thing, or event in the sentence took place.\\n4. Compare the times of the people, things, or events to see if they are in the correct order.\\n5. If the people, things, or events are in the correct order, output \"No\". If the people, things, or events are not in the correct order, output \"Yes\".\\n\\nYes',\n",
       " ' Read the sentence.\\n2. Identify the people, things, or events in the sentence.\\nOtto von Bismarck, Spam fried rice\\n3. Determine when each person, thing, or event in the sentence took place.\\nOtto von Bismarck - 1815-1898\\nSpam fried rice - dish originating from WWII\\n4. Compare the times of the people, things, or events to see if they are in the correct order.\\nSpam fried rice was created after Otto von Bismarck died.\\n5. If the people, things, or events are in the correct order, output \"No\". If the people, things, or events are not in the correct order, output \"Yes\".\\nYes',\n",
       " \" Read the sentence.\\n2. The orchestra, Vivaldi's composition, baroque era, recording, streaming live online\\n3. Orchestra- no specific time, Vivaldi's composition- late 1600s, baroque era- 1500s to mid 1700s, recording- late 1800s, streaming live online- present day\\n4. No\",\n",
       " ' Read the sentence.\\n2. Identify the people, things, or events in the sentence.\\n-Speakeasies\\n-The police\\n-The Dark Web\\n\\n3. Determine when each person, thing, or event in the sentence took place.\\n-Speakeasies: 1920s\\n-The police: any time\\n-The Dark Web: present day\\n\\n4. Compare the times of the people, things, or events to see if they are in the correct order.\\n-Speakeasies took place before the Dark Web. This is correct.\\n-The police can take place at any time, so there is no anachronism here.\\n\\n5. If the people, things, or events are in the correct order, output \"No\". If the people, things, or events are not in the correct order, output \"Yes\".\\n-No\\n\\n6. Output NO because there is no anachronism.',\n",
       " ' Read the sentence.\\n2. Identify the people, things, or events in the sentence.\\nCaesar Octavian Augustus, first emperor of the Holy Roman Empire\\n3. Determine when each person, thing, or event in the sentence took place.\\nCaesar Octavian Augustus- lived from 63BC-14AD, first emperor of the Holy Roman Empire- 800-1806\\n4. Compare the times of the people, things, or events to see if they are in the correct order.\\nThe first emperor of the Holy Roman Empire came after Caesar Octavian Augustus.\\n5. If the people, things, or events are in the correct order, output \"No\". If the people, things, or events are not in the correct order, output \"Yes\".\\nYes',\n",
       " ' Read the sentence.\\n2. Identify the people, things, or events in the sentence.\\n3. Determine when each person, thing, or event in the sentence took place.\\n4. Compare the times of the people, things, or events to see if they are in the correct order.\\n\\nThomas Jefferson - 18th century\\nHoneycrisp apples - 20th century\\n\\n5. If the people, things, or events are in the correct order, output \"No\". If the people, things, or events are not in the correct order, output \"Yes\".\\n\\nYes',\n",
       " ' The engineer, the USS New Ironsides, radar system.\\n2. The engineer is a person, the USS New Ironsides is a thing, and the radar system is a thing.\\n3. The engineer is from the 21st century, the USS New Ironsides is from the 19th century, and the radar system is from the 20th century.\\n4. The engineer is from a later time than the USS New Ironsides, and the radar system is from a later time than the USS New Ironsides.\\n5. No',\n",
       " ' Read the sentence.\\n2. Identify the people, things, or events in the sentence.\\n3. Determine when each person, thing, or event in the sentence took place.\\n4. Compare the times of the people, things, or events to see if they are in the correct order.\\n5. If the people, things, or events are in the correct order, output \"No\". If the people, things, or events are not in the correct order, output \"Yes\".\\n6. Output YES if there is an anachronism, and NO otherwise\\n\\nYes',\n",
       " ' Read the sentence.\\n2. Identify the people, things, or events in the sentence.\\n3. Determine when each person, thing, or event in the sentence took place.\\n4. Compare the times of the people, things, or events to see if they are in the correct order.\\n5. If the people, things, or events are in the correct order, output \"No\". If the people, things, or events are not in the correct order, output \"Yes\".\\n6. Output YES if there is an anachronism, and NO otherwise\\n\\nYes',\n",
       " ' Read the sentence.\\n2. Identify the people, things, or events in the sentence.\\nThe sun, the Stelliferous Era\\n3. Determine when each person, thing, or event in the sentence took place.\\nThe sun - unknown\\nThe Stelliferous Era - unknown\\n4. Compare the times of the people, things, or events to see if they are in the correct order.\\nThe sun and the Stelliferous Era are in the correct order.\\n5. If the people, things, or events are in the correct order, output \"No\". If the people, things, or events are not in the correct order, output \"Yes\".\\nNo',\n",
       " ' Homo erectus, fire, stone tools, hunting, medicine, social groups\\n2. 2 million years ago, 1 million years ago, 200,000 years ago, 100,000 years ago\\n3. Yes',\n",
       " ' Kurt Cobain, \"Twin Peaks\"\\n2. Kurt Cobain: 1967-1994, \"Twin Peaks\": 1990-1991\\n3. No',\n",
       " ' Read the sentence.\\n2. Identify the people, things, or events in the sentence.\\n\\nThe quill, Benjamin Franklin, Poor Richard\\'s Almanack, the American History Museum.\\n3. Determine when each person, thing, or event in the sentence took place.\\n\\nThe quill - 18th century\\nBenjamin Franklin - 18th century\\nPoor Richard\\'s Almanack - 18th century\\nThe American History Museum - late 19th century\\n4. Compare the times of the people, things, or events to see if they are in the correct order.\\n\\nThe quill, Benjamin Franklin, and Poor Richard\\'s Almanack are all from the 18th century, so they are in the correct order. The American History Museum is from the late 19th century, so it is not in the correct order.\\n5. If the people, things, or events are in the correct order, output \"No\". If the people, things, or events are not in the correct order, output \"Yes\".\\n\\nYes',\n",
       " ' Read the sentence.\\n2. Identify the people, things, or events in the sentence.\\n3. Determine when each person, thing, or event in the sentence took place.\\n4. Compare the times of the people, things, or events to see if they are in the correct order.\\n5. If the people, things, or events are in the correct order, output \"No\". If the people, things, or events are not in the correct order, output \"Yes\".\\n\\nYes',\n",
       " ' Read the sentence.\\n2. Identify the people, things, or events in the sentence.\\n3. Determine when each person, thing, or event in the sentence took place.\\n4. Compare the times of the people, things, or events to see if they are in the correct order.\\n5. If the people, things, or events are in the correct order, output \"No\". If the people, things, or events are not in the correct order, output \"Yes\".\\n\\n6. Output YES if there is an anachronism, and NO otherwise.\\n\\nNO',\n",
       " ' Surena, Parthian Empire, Crassus, Rome\\n2. Parthian Empire: 247 BCE - 224 CE; Rome: 753 BCE - 476 CE; \\n3. No',\n",
       " ' Hannibal of Carthage, Crassus the real estate mogul\\n2. Hannibal of Carthage: 247 BC - 183 BC, Crassus: 115 BC - 53 BC\\n3. No',\n",
       " ' Read the sentence.\\n2. Identify the people, things, or events in the sentence.\\nCatherine the Great, waltzing, Qianlong Emperor, Catherine Palace\\n3. Determine when each person, thing, or event in the sentence took place.\\nCatherine the Great- 1729-1796\\nWaltzing- Late 18th century\\nQianlong Emperor- 1711-1799\\nCatherine Palace- 1717-1764\\n4. Compare the times of the people, things, or events to see if they are in the correct order.\\nCatherine the Great, waltzing, Qianlong Emperor, Catherine Palace\\n5. If the people, things, or events are in the correct order, output \"No\". If the people, things, or events are not in the correct order, output \"Yes\".\\nNo',\n",
       " ' The Lewis and Clark Expedition, Missouri, Oregon.\\n2. 1804-1806\\n3. No',\n",
       " ' The Mongolian horse rider, the bow, the velociraptor.\\n2. The Mongolian horse rider was from the 13th century, the bow was from the 13th century, the velociraptor was from the Cretaceous period.\\n3. The Mongolian horse rider is from the 13th century, the bow is from the 13th century, the velociraptor is from the Cretaceous period.\\n4. The Mongolian horse rider is from the 13th century, the bow is from the 13th century, the velociraptor is from the Cretaceous period.\\n5. No',\n",
       " ' Read the sentence.\\n2. Identify the people, things, or events in the sentence.\\n3. Determine when each person, thing, or event in the sentence took place.\\n4. Compare the times of the people, things, or events to see if they are in the correct order.\\n5. If the people, things, or events are in the correct order, output \"No\". If the people, things, or events are not in the correct order, output \"Yes\".\\n6. Output NO because there is no anachronism.',\n",
       " ' Taiwan, WTO, Covid19\\n2. Taiwan - late 20th century, WTO - 1995, Covid19 - 2020 \\n3. No',\n",
       " ' Read the sentence.\\n2. Identify the people, things, or events in the sentence.\\n3. Determine when each person, thing, or event in the sentence took place.\\n4. Compare the times of the people, things, or events to see if they are in the correct order.\\n5. If the people, things, or events are in the correct order, output \"No\". If the people, things, or events are not in the correct order, output \"Yes\".\\n6. Output NO because there is no anachronism.',\n",
       " ' Joan of Arc, martyrdom, American Ninja Warrior, single combat.\\n2. Joan of Arc: 1412-1431. Martyrdom: can refer to a person or event. American Ninja Warrior: 2017-present. Single combat: ancient Greece to early modern Europe.\\n3. 1412-1431, ancient Greece to early modern Europe, 2017-present.\\n4. No',\n",
       " ' Moremi Ajasoro, river, duck boat, Washington DC, friends\\n2. 12th century, 12th century, 12th century, 18th century, 12th century\\n3. No',\n",
       " ' The Dodo, Iguandodon\\n2. The Dodo: 16th century. Iguandodon: Late Cretaceous period.\\n3. No',\n",
       " ' Read the sentence.\\n2. Identify the people, things, or events in the sentence.\\n3. Determine when each person, thing, or event in the sentence took place.\\n\\nThe pioneers of capoeira recorded their techniques in the early 1900s. VCRs were not invented until the late 1970s.\\n\\n4. Compare the times of the people, things, or events to see if they are in the correct order.\\n\\nThe pioneers of capoeira recorded their techniques before VCRs were invented, so the sentence is correct.\\n\\n5. If the people, things, or events are in the correct order, output \"No\". If the people, things, or events are not in the correct order, output \"Yes\".\\n\\nNo',\n",
       " ' Read the sentence.\\n2. Identify the people, things, or events in the sentence.\\nBeats, MPC3000, hip hop artists\\n3. Determine when each person, thing, or event in the sentence took place.\\nBeats - present tense\\nMPC3000 - 1993\\nhip hop artists - present tense\\n4. Compare the times of the people, things, or events to see if they are in the correct order.\\nBeats - present tense\\nMPC3000 - 1993\\nhip hop artists - present tense\\n\\n5. If the people, things, or events are in the correct order, output \"No\". If the people, things, or events are not in the correct order, output \"Yes\".\\n\\n6. Output YES if there is an anachronism, and NO otherwise\\n\\nYes',\n",
       " ' Read the sentence.\\n2. Identify the people, things, or events in the sentence.\\n3. Determine when each person, thing, or event in the sentence took place.\\n4. Compare the times of the people, things, or events to see if they are in the correct order.\\n5. If the people, things, or events are in the correct order, output \"No\". If the people, things, or events are not in the correct order, output \"Yes\".\\n6. Output YES if there is an anachronism, and NO otherwise\\n\\nYes',\n",
       " ' Read the sentence.\\n2. Identify the people, things, or events in the sentence.\\n3. Determine when each person, thing, or event in the sentence took place.\\n4. Compare the times of the people, things, or events to see if they are in the correct order.\\n5. If the people, things, or events are in the correct order, output \"No\". If the people, things, or events are not in the correct order, output \"Yes\".\\n6. Output \"Yes\" there is an anachronism.',\n",
       " ' The wooly mammoth, Shih Tzu, field.\\n2. The wooly mammoth lived during the Pleistocene epoch. The Shih Tzu was bred in China during the Tang Dynasty.\\n3. No',\n",
       " ' Read the sentence.\\n2. Identify the people, things, or events in the sentence.\\n3. Determine when each person, thing, or event in the sentence took place.\\n\\nPerson: I\\nThing: duck boat\\nEvent: set sail\\n\\nPerson: friends\\nEvent: live\\n\\n4. Compare the times of the people, things, or events to see if they are in the correct order.\\n\\nI set sail on my duck boat: correct order\\n\\nMy friends live in Washington DC: correct order\\n\\n5. If the people, things, or events are in the correct order, output \"No\". If the people, things, or events are not in the correct order, output \"Yes\".\\n\\nNo',\n",
       " ' Utahraptor, Iguanodon\\n2. Late Cretaceous period\\n3. Correct order',\n",
       " ' Read the sentence.\\n2. Identify the people, things, or events in the sentence.\\n3. Prime Minister David Lloyd George, cabinet ministers, war, effort\\n4. Prime Minister David Lloyd George - 1916-1922\\nCabinet ministers - 1916-1922\\nWar - 1914-1918\\nEffort - 1914-1918\\n5. No',\n",
       " ' Read the sentence.\\n2. Identify the people, things, or events in the sentence.\\n3. Determine when each person, thing, or event in the sentence took place.\\n4. Compare the times of the people, things, or events to see if they are in the correct order.\\n5. If the people, things, or events are in the correct order, output \"No\". If the people, things, or events are not in the correct order, output \"Yes\".\\n\\nYes',\n",
       " ' Read the sentence.\\n2. Identify the people, things, or events in the sentence.\\nHume, Plato\\n3. Determine when each person, thing, or event in the sentence took place.\\nHume: 1711 - 1776\\nPlato: 427 BC - 347 BC\\n4. Compare the times of the people, things, or events to see if they are in the correct order.\\nHume > Plato\\n5. If the people, things, or events are in the correct order, output \"No\". If the people, things, or events are not in the correct order, output \"Yes\".\\nYes',\n",
       " ' Read the sentence.\\n2. Pyrrhus, war elephants, Roman armies\\n3. Pyrrhus- 3rd century BC, war elephants- around 6th century BC to 1st century AD, Roman armies- around 753 BC to 476 AD\\n4. Pyrrhus, war elephants, Roman armies\\n5. No',\n",
       " ' Read the sentence.\\n2. Identify the people, things, or events in the sentence.\\nSlaves, the 18th amendment to the U.S. Constitution\\n3. Determine when each person, thing, or event in the sentence took place.\\nSlaves: Southern U.S. slaves were aware of what the 18th amendment to the U.S. Constitution meant for them.\\n18th amendment to the U.S. Constitution: The 18th amendment to the U.S. Constitution was ratified on January 16, 1919.\\n4. Compare the times of the people, things, or events to see if they are in the correct order.\\nThe 18th amendment to the U.S. Constitution was ratified on January 16, 1919. Southern U.S. slaves were aware of what the 18th amendment to the U.S. Constitution meant for them.\\n5. If the people, things, or events are in the correct order, output \"No\". If the people, things, or events are not in the correct order, output \"Yes\".\\nYes',\n",
       " ' Read the sentence.\\n2. Early bluegrass, Cold War politics\\n3. Early bluegrass- 1940s Cold War politics- 1947-1991\\n4. 1940s < 1947-1991\\n5. Yes',\n",
       " ' Benjamin Franklin, Benjamin Thompson, hybrid car.\\n2. Benjamin Franklin took place in the 1700s, Benjamin Thompson took place in the 1800s, the hybrid car took place in the 1900s.\\n3. The people are not in the correct order.\\n4. Output: Yes',\n",
       " ' Read the sentence.\\n2. Identify the people, things, or events in the sentence.\\n3. Determine when each person, thing, or event in the sentence took place.\\n4. Compare the times of the people, things, or events to see if they are in the correct order.\\n5. If the people, things, or events are in the correct order, output \"No\". If the people, things, or events are not in the correct order, output \"Yes\".\\n6. Output YES if there is an anachronism, and NO otherwise\\n\\nYes',\n",
       " ' Read the sentence.\\n2. Identify the people, things, or events in the sentence.\\nMarie Antoinette, Bruce Springsteen\\n3. Determine when each person, thing, or event in the sentence took place.\\nMarie Antoinette: late 1700s\\nBruce Springsteen: late 1900s\\n4. Compare the times of the people, things, or events to see if they are in the correct order.\\nMarie Antoinette: late 1700s\\nBruce Springsteen: late 1900s\\n5. If the people, things, or events are in the correct order, output \"No\". If the people, things, or events are not in the correct order, output \"Yes\".\\nYes',\n",
       " ' Stegosaurus, large dorsal plates, body temperature, Late Jurassic herbivores\\n2. Stegosaurus and large dorsal plates - Late Jurassic\\n3. Body temperature - unknown\\n4. Late Jurassic herbivores - Late Jurassic\\n5. No',\n",
       " ' Eleanor of Toledo, Duchess of Florence, her Medici status, her lavish dress, strands of pearls, gold, jewels such as diamonds, rubies, and emeralds, her state portrait.\\n2. Eleanor of Toledo lived from 1522-1562. The Medici family ruled from 1532-1743.\\n3. No',\n",
       " ' Muhammad al-Khwarizmi, lemma, new theory\\n2. 8th century, 8th century, 12th century\\n3. No',\n",
       " ' Read the sentence.\\n2. Identify the people, things, or events in the sentence.\\n3. Determine when each person, thing, or event in the sentence took place.\\n4. Compare the times of the people, things, or events to see if they are in the correct order.\\n5. If the people, things, or events are in the correct order, output \"No\". If the people, things, or events are not in the correct order, output \"Yes\".\\n6. Output YES if there is an anachronism, and NO otherwise\\n\\nYes',\n",
       " ' Read the sentence.\\n2. Identify the people, things, or events in the sentence.\\nIvan the Terrible, composer Palestrina, son\\n3. Determine when each person, thing, or event in the sentence took place.\\nIvan the Terrible-1530-1584\\ncomposer Palestrina-1525-1594\\nson- time of birth unknown\\n4. Compare the times of the people, things, or events to see if they are in the correct order.\\nIvan the Terrible-1530-1584\\ncomposer Palestrina-1525-1594\\nson- time of birth unknown\\n\\nYes',\n",
       " ' Read the sentence.\\n2. Identify the people, things, or events in the sentence.\\n\\nLeonardo Da Vinci, Genivra de\\' Benci\\n\\n3. Determine when each person, thing, or event in the sentence took place.\\n\\nLeonardo Da Vinci - 1452-1519\\nGenivra de\\' Benci - 1446-1476\\n\\n4. Compare the times of the people, things, or events to see if they are in the correct order.\\n\\nLeonardo Da Vinci and Genivra de\\' Benci are in the correct order.\\n\\n5. If the people, things, or events are in the correct order, output \"No\". If the people, things, or events are not in the correct order, output \"Yes\".\\n\\nNo',\n",
       " ' William the Conqueror, martinis, meals.\\n2. William the Conqueror lived from 1028-1087. The martini was invented in the 1860s.\\n3. No',\n",
       " ' Scientists, Australopithecus afarensis, Rosa Parks, Outkast song\\n2. Scientists- 20th century, Australopithecus afarensis- 3.2 million years ago, Rosa Parks- 1955, Outkast song- 1994\\n3. Yes',\n",
       " ' Read the sentence.\\n2. Identify the people, things, or events in the sentence.\\n3. Determine when each person, thing, or event in the sentence took place.\\n4. Compare the times of the people, things, or events to see if they are in the correct order.\\n5. If the people, things, or events are in the correct order, output \"No\". If the people, things, or events are not in the correct order, output \"Yes\".\\n6. Output YES if there is an anachronism, and NO otherwise\\n\\nNo',\n",
       " ' Homo erectus, scimitars, Smilodon\\n2. Homo erectus- 2 million years ago to 70,000 years ago, Smilodon- 2.5 million years ago to 10,000 years ago\\n3. No',\n",
       " ' Read the sentence.\\n2. Identify the people, things, or events in the sentence.\\n\\nThe people, things, or events in the sentence are the scientists, the female Australopithecus afarensis, AL 288-1, and the Beatles song.\\n3. Determine when each person, thing, or event in the sentence took place.\\n\\nThe scientists found the female Australopithecus afarensis, AL 288-1, in 1974. The Beatles song was released in 1967.\\n4. Compare the times of the people, things, or events to see if they are in the correct order.\\n\\nThe scientists found the female Australopithecus afarensis, AL 288-1, in 1974. The Beatles song was released in 1967.\\n5. If the people, things, or events are in the correct order, output \"No\". If the people, things, or events are not in the correct order, output \"Yes\".\\n\\nYes',\n",
       " \" Dr. Elizabeth Garrett Anderson, a Pharaoh's cartouche, the City of Westminster\\n2. Late 1800s, Ancient Egypt, Late 1800s\\n3. No\",\n",
       " ' Attila the Hun, the live-action remake of Mulan\\n2. Attila the Hun: 4th century; the live-action remake of Mulan: 2020\\n3. No',\n",
       " ' Read the sentence.\\n2. Identify the people, things, or events in the sentence.\\n-The merchant\\n-Salt\\n-A copy of his favorite e-book\\n-The city of Timbuktu\\n-Musa\\n-Madugu\\n3. Determine when each person, thing, or event in the sentence took place.\\n-The merchant (Any time)\\n-Salt (Any time)\\n-A copy of his favorite e-book (Any time after e-books were invented)\\n-The city of Timbuktu (Timbuktu was founded in the 11th century)\\n-Musa (1280-1337)\\n-Madugu (Madugu was built in the 14th century)\\n4. Compare the times of the people, things, or events to see if they are in the correct order.\\n-The merchant (Any time)\\n-Salt (Any time)\\n-A copy of his favorite e-book (Any time after e-books were invented)\\n-The city of Timbuktu (Timbuktu was founded in the 11th century)\\n-Musa (1280-1337)\\n-Madugu (Madugu was built in the 14th century)\\n5. If the people, things, or events are in the correct order, output \"No\". If the people, things, or events are not in the correct order, output \"Yes\".\\n6. Output YES if there is an anachronism, and NO otherwise\\n\\nYes',\n",
       " ' Read the sentence.\\n2. identify the people, things, or events in the sentence.\\n3. determine when each person, thing, or event in the sentence took place.\\n\\nSun Tzu: 6th century BCE\\nBabylon: 6th century BCE\\n\\n4. Compare the times of the people, things, or events to see if they are in the correct order.\\n\\nSun Tzu and Babylon are in the correct order.\\n\\n5. If the people, things, or events are in the correct order, output \"No\". If the people, things, or events are not in the correct order, output \"Yes\".\\n\\nNo',\n",
       " ' Read the sentence.\\n2. Homo neanderthalensis, corn\\n3. 40,000-30,000 BCE\\n4. 40,000 BCE < 30,000 BCE\\n5. Yes',\n",
       " ' Read the sentence.\\n2. Identify the people, things, or events in the sentence.\\n3. Determine when each person, thing, or event in the sentence took place.\\n4. Compare the times of the people, things, or events to see if they are in the correct order.\\n5. If the people, things, or events are in the correct order, output \"No\". If the people, things, or events are not in the correct order, output \"Yes\".\\n\\n6. Output YES if there is an anachronism, and NO otherwise.\\n\\nNO',\n",
       " ' Read the sentence.\\n2. Identify the people, things, or events in the sentence.\\n3. Determine when each person, thing, or event in the sentence took place.\\nThe author was knighted by Elizabeth II in 1993.\\n4. Compare the times of the people, things, or events to see if they are in the correct order.\\n5. If the people, things, or events are in the correct order, output \"No\". If the people, things, or events are not in the correct order, output \"Yes\".\\nNo',\n",
       " ' Read the sentence.\\n2. Identify the people, things, or events in the sentence.\\n-Louis XVI\\n-Ansel Adams\\n-Buying prints\\n-Displaying in palace\\n3. Determine when each person, thing, or event in the sentence took place.\\n-Louis XVI: 1754-1793\\n-Ansel Adams: 1902-1984\\n-Buying prints: during Louis XVI\\'s lifetime\\n-Displaying in palace: during Louis XVI\\'s lifetime\\n4. Compare the times of the people, things, or events to see if they are in the correct order.\\n5. If the people, things, or events are in the correct order, output \"No\". If the people, things, or events are not in the correct order, output \"Yes\".\\n6. Output YES since Ansel Adams was born after Louis XVI died.',\n",
       " ' Read the sentence.\\n2. Identify the people, things, or events in the sentence.\\n3. Determine when each person, thing, or event in the sentence took place.\\n4. Compare the times of the people, things, or events to see if they are in the correct order.\\n5. If the people, things, or events are in the correct order, output \"No\". If the people, things, or events are not in the correct order, output \"Yes\".\\n\\nYes',\n",
       " ' Read the sentence.\\n2. Identify the people, things, or events in the sentence.\\n3. Determine when each person, thing, or event in the sentence took place.\\n4. Compare the times of the people, things, or events to see if they are in the correct order.\\n5. If the people, things, or events are in the correct order, output \"No\". If the people, things, or events are not in the correct order, output \"Yes\".\\n6. Output YES if there is an anachronism, and NO otherwise\\n\\nYes',\n",
       " ' Pepin the Short, Bertrada, piano, battle\\n2. Pepin the Short: 714-768 Bertrada: c. 710-783 Piano: c. 1700s Battle: 732\\n3. No',\n",
       " ' Read the sentence.\\n2. Identify the people, things, or events in the sentence.\\n3. Determine when each person, thing, or event in the sentence took place.\\n4. Compare the times of the people, things, or events to see if they are in the correct order.\\n5. If the people, things, or events are in the correct order, output \"No\". If the people, things, or events are not in the correct order, output \"Yes\".\\n6. Output YES if there is an anachronism, and NO otherwise\\n\\nNO',\n",
       " ' Napoleon, EnergyPod\\n2. early 1800s, 2010s\\n3. No',\n",
       " ' Read the sentence.\\n2. Identify the people, things, or events in the sentence.\\n3. Determine when each person, thing, or event in the sentence took place.\\n4. Compare the times of the people, things, or events to see if they are in the correct order.\\n5. If the people, things, or events are in the correct order, output \"No\". If the people, things, or events are not in the correct order, output \"Yes\".\\n\\nYes',\n",
       " ' Read the sentence.\\n2. Identify the people, things, or events in the sentence.\\n3. Determine when each person, thing, or event in the sentence took place.\\n4. Compare the times of the people, things, or events to see if they are in the correct order.\\n5. If the people, things, or events are in the correct order, output \"No\". If the people, things, or events are not in the correct order, output \"Yes\".\\n6. Output YES if there is an anachronism, and NO otherwise\\n\\nYES',\n",
       " ' Read the sentence.\\n2. Identify the people, things, or events in the sentence.\\n3. Determine when each person, thing, or event in the sentence took place.\\nGeorge Washington: Late 1700s\\nThe delegate of the Ashikaga shogunate: Late 1400s\\n4. Compare the times of the people, things, or events to see if they are in the correct order.\\nGeorge Washington: Late 1700s\\nThe delegate of the Ashikaga shogunate: Late 1400s\\n5. If the people, things, or events are in the correct order, output \"No\". If the people, things, or events are not in the correct order, output \"Yes\".\\nYes',\n",
       " ' Jason, the pyramid, the sealed box, and the floppy disk.\\n2. Jason - unknown, the pyramid - ancient, the sealed box - unknown, the floppy disk - 1980s\\n3. Unknown, ancient, unknown, 1980s.\\n4. No',\n",
       " ' Read the sentence.\\n2. Identify the people, things, or events in the sentence.\\n - Richard III\\n - Candles\\n - Throne room\\n3. Determine when each person, thing, or event in the sentence took place.\\n - Richard III: 1452-1485\\n - Candles: Ancient Egypt\\n - Throne room: 1485\\n4. Compare the times of the people, things, or events to see if they are in the correct order.\\n - Richard III: 1452-1485\\n - Candles: Ancient Egypt\\n - Throne room: 1485\\n5. If the people, things, or events are in the correct order, output \"No\". If the people, things, or events are not in the correct order, output \"Yes\".\\n6. Output YES if there is an anachronism, and NO otherwise\\n\\nYes',\n",
       " ' Read the sentence.\\n2. The people, things, or events in the sentence are \"US senator\", \"vote\", \"Wade-Davis bill\".\\n3. The senator is from the US, the vote took place during the time period of the Wade-Davis bill.\\n4. The people, things, or events are in the correct order.\\n5. No',\n",
       " ' Read the sentence.\\n2. Identify the people, things, or events in the sentence.\\n3. Determine when each person, thing, or event in the sentence took place.\\n4. Compare the times of the people, things, or events to see if they are in the correct order.\\n5. If the people, things, or events are in the correct order, output \"No\". If the people, things, or events are not in the correct order, output \"Yes\".\\n\\nYes',\n",
       " \" The laptop, Benjamin Franklin, Poor Richard's Almanack, American History Museum.\\n2. Late 1700s-early 1800s, late 1700s, late 1700s, late 1700s-present.\\n3. No.\",\n",
       " ' Read the sentence.\\n2. Identify the people, things, or events in the sentence.\\n3. Determine when each person, thing, or event in the sentence took place.\\n4. Compare the times of the people, things, or events to see if they are in the correct order.\\n5. If the people, things, or events are in the correct order, output \"No\". If the people, things, or events are not in the correct order, output \"Yes\".\\n\\nYes',\n",
       " ' Genghis Khan, the Great Wall of China\\n2. Genghis Khan- 1206-1227, the Great Wall of China- 220 BC-206 BC\\n3. NO',\n",
       " ' Read the sentence.\\n2. Identify the people, things, or events in the sentence.\\nJason, TRS80 color computer, TV, Pyramid 2000\\n3. Determine when each person, thing, or event in the sentence took place.\\nJason- present\\nTRS80 color computer- 1980\\nTV- 1950\\nPyramid 2000- unknown\\n4. Compare the times of the people, things, or events to see if they are in the correct order.\\nNo\\n5. If the people, things, or events are in the correct order, output \"No\". If the people, things, or events are not in the correct order, output \"Yes\".\\nNo',\n",
       " ' Benjamin Franklin, Benjamin Thompson, steam boat\\n2. Benjamin Franklin (1706-1790), Benjamin Thompson (1753-1814), steam boat (1783)\\n3. No',\n",
       " ' Read the sentence.\\n2. Identify the people, things, or events in the sentence.\\nJohann Sebastian Bach, \"A Brief History of Time\"\\n3. Determine when each person, thing, or event in the sentence took place.\\nJohann Sebastian Bach: 1685-1750\\n\"A Brief History of Time\": 1988\\n4. Compare the times of the people, things, or events to see if they are in the correct order.\\nJohann Sebastian Bach wrote \"A Brief History of Time\" in 1988. This is not the correct order.\\n5. If the people, things, or events are in the correct order, output \"No\". If the people, things, or events are not in the correct order, output \"Yes\".\\nYes',\n",
       " ' Read the sentence.\\n2. Identify the people, things, or events in the sentence.\\n3. Determine when each person, thing, or event in the sentence took place.\\n4. Compare the times of the people, things, or events to see if they are in the correct order.\\n5. If the people, things, or events are in the correct order, output \"No\". If the people, things, or events are not in the correct order, output \"Yes\".\\n6. Output YES if there is an anachronism, and NO otherwise\\n\\nYes',\n",
       " ' Read the sentence.\\n2. Identify the people, things, or events in the sentence.\\n3. Determine when each person, thing, or event in the sentence took place.\\n4. Compare the times of the people, things, or events to see if they are in the correct order.\\n5. If the people, things, or events are in the correct order, output \"No\". If the people, things, or events are not in the correct order, output \"Yes\".\\n6. Output YES if there is an anachronism, and NO otherwise\\n\\nYes',\n",
       " ' Read the sentence.\\n2. The people, things, or events in the sentence are the Enigma Machine, the Allies, enemy movement, and the trenches of Passchendaele.\\n3. The Enigma Machine was used in World War II. The Allies were fighting in World War II. Enemy movement was during World War II. The trenches of Passchendaele were used in World War I.\\n4. The Enigma Machine was used before the trenches of Passchendaele.\\n5. Yes',\n",
       " ' Read the sentence.\\n2. Vasco de Gama, shipwreck, Cape of Good Hope, GPS maps\\n3. Vasco de Gama lived from 1460-1524. The Cape of Good Hope was first discovered in 1488. GPS was invented in the 1970s.\\n4. Vasco de Gama, Cape of Good Hope, GPS\\n5. Yes',\n",
       " ' Read the sentence.\\n2. Identify the people, things, or events in the sentence.\\n3. Determine when each person, thing, or event in the sentence took place.\\n\\nThe people in the sentence are the US senator and the Wade-Davis bill. The senator used his vote to help pass the bill.\\n\\n4. Compare the times of the people, things, or events to see if they are in the correct order.\\n\\nThe senator voted on the bill, so the correct order is senator, then bill.\\n\\n5. If the people, things, or events are in the correct order, output \"No\". If the people, things, or events are not in the correct order, output \"Yes\".\\n\\nNo',\n",
       " ' President Syngman Rhee, Hugo Chavez, letter\\n2. President Syngman Rhee- 1948-1960, Hugo Chavez- 1999-2013, letter- no specific time\\n3. 1948-2013\\n4. Yes',\n",
       " ' Read the sentence.\\n2. Identify the people, things, or events in the sentence.\\nRalph, the Allied bombardment of the beaches of Iwo Jima, a radio\\n3. Determine when each person, thing, or event in the sentence took place.\\nRalph- during the Allied bombardment of the beaches of Iwo Jima\\nAllied bombardment of the beaches of Iwo Jima- during World War II\\nRadio- before World War II\\n4. Compare the times of the people, things, or events to see if they are in the correct order.\\nRalph and the Allied bombardment of the beaches of Iwo Jima are in the correct order because Ralph took place during the Allied bombardment of the beaches of Iwo Jima. However, the radio is not in the correct order because it took place before the Allied bombardment of the beaches of Iwo Jima.\\n5. If the people, things, or events are in the correct order, output \"No\". If the people, things, or events are not in the correct order, output \"Yes\".\\nYes',\n",
       " ' Read the sentence.\\n2. Identify the people, things, or events in the sentence.\\n3. Determine when each person, thing, or event in the sentence took place.\\n4. Compare the times of the people, things, or events to see if they are in the correct order.\\n5. If the people, things, or events are in the correct order, output \"No\". If the people, things, or events are not in the correct order, output \"Yes\".\\n6. Output NO because there is no anachronism.',\n",
       " ' Read the sentence.\\n2. Identify the people, things, or events in the sentence.\\n3. Determine when each person, thing, or event in the sentence took place.\\n\\nThe emperor: Ancient Rome\\nFerrari: Late 19th century\\nColiseum: Ancient Rome\\n\\n4. Compare the times of the people, things, or events to see if they are in the correct order.\\n\\n5. If the people, things, or events are in the correct order, output \"No\". If the people, things, or events are not in the correct order, output \"Yes\".\\n\\nYes',\n",
       " ' Read the sentence.\\n2. Identify the people, things, or events in the sentence.\\n3. Determine when each person, thing, or event in the sentence took place.\\n4. Compare the times of the people, things, or events to see if they are in the correct order.\\n5. If the people, things, or events are in the correct order, output \"No\". If the people, things, or events are not in the correct order, output \"Yes\".\\n6. Output YES if there is an anachronism, and NO otherwise\\n\\nNo',\n",
       " ' Read the sentence.\\n2. Identify the people, things, or events in the sentence.\\n3. Determine when each person, thing, or event in the sentence took place.\\n4. Compare the times of the people, things, or events to see if they are in the correct order.\\n5. If the people, things, or events are in the correct order, output \"No\". If the people, things, or events are not in the correct order, output \"Yes\".\\n6. Output YES if there is an anachronism, and NO otherwise\\n\\nNo',\n",
       " ' Read the sentence.\\n2. Identify the people, things, or events in the sentence.\\n\\nPresident Woodrow Wilson, the United States of America, the International Atomic Energy Agency.\\n3. Determine when each person, thing, or event in the sentence took place.\\n\\nPresident Woodrow Wilson - 1913-1921\\nThe United States of America - 1776\\nThe International Atomic Energy Agency - 1957\\n4. Compare the times of the people, things, or events to see if they are in the correct order.\\n\\nThe International Atomic Energy Agency was created after President Woodrow Wilson served as President of the United States of America. Therefore, the order is not correct.\\n5. If the people, things, or events are in the correct order, output \"No\". If the people, things, or events are not in the correct order, output \"Yes\".\\n\\nYes',\n",
       " ' Donnie Yen, the martial artist, acted in the live-action remake of Mulan.\\n2. Donnie Yen, the martial artist, Mulan\\n3. Donnie Yen is a contemporary martial artist. Mulan is a Chinese story from the 6th century.\\n4. Donnie Yen (contemporary) acted in the live-action remake of Mulan (6th century story).\\n5. Yes',\n",
       " ' Read the sentence.\\n2. Identify the people, things, or events in the sentence.\\n3. Determine when each person, thing, or event in the sentence took place.\\n4. Compare the times of the people, things, or events to see if they are in the correct order.\\n5. If the people, things, or events are in the correct order, output \"No\". If the people, things, or events are not in the correct order, output \"Yes\".\\n\\nYes',\n",
       " ' Read the sentence.\\n2. Identify the people, things, or events in the sentence.\\n\\nThe student, Connor McGregor, and the fight.\\n3. Determine when each person, thing, or event in the sentence took place.\\n\\nThe student recorded the video in the present. Connor McGregor fought in the past.\\n4. Compare the times of the people, things, or events to see if they are in the correct order.\\n\\nThe student recorded the video after Connor McGregor fought.\\n5. If the people, things, or events are in the correct order, output \"No\". If the people, things, or events are not in the correct order, output \"Yes\".\\n\\nYes',\n",
       " ' Read the sentence.\\n2. Identify the people, things, or events in the sentence.\\n3. Determine when each person, thing, or event in the sentence took place.\\n4. Compare the times of the people, things, or events to see if they are in the correct order.\\n5. If the people, things, or events are in the correct order, output \"No\". If the people, things, or events are not in the correct order, output \"Yes\".\\n\\nYes',\n",
       " ' Read the sentence.\\n2. Identify the people, things, or events in the sentence.\\n3. Determine when each person, thing, or event in the sentence took place.\\n4. Compare the times of the people, things, or events to see if they are in the correct order.\\n5. If the people, things, or events are in the correct order, output \"No\". If the people, things, or events are not in the correct order, output \"Yes\".\\n6. Output YES if there is an anachronism, and NO otherwise\\n\\nYes',\n",
       " ' Read the sentence.\\n2. Identify the people, things, or events in the sentence.\\n3. Determine when each person, thing, or event in the sentence took place.\\n4. Compare the times of the people, things, or events to see if they are in the correct order.\\n5. If the people, things, or events are in the correct order, output \"No\". If the people, things, or events are not in the correct order, output \"Yes\".\\n\\nYes']"
      ]
     },
     "execution_count": 58,
     "metadata": {},
     "output_type": "execute_result"
    }
   ],
   "source": [
    "this_preds"
   ]
  },
  {
   "cell_type": "code",
   "execution_count": null,
   "id": "f28a8c49",
   "metadata": {},
   "outputs": [],
   "source": [
    "pp = np.array([1 if x.lower().endswith('yes') else 0 for x in this_preds])"
   ]
  },
  {
   "cell_type": "code",
   "execution_count": 169,
   "id": "aa3d4dec",
   "metadata": {},
   "outputs": [],
   "source": [
    "an = get_anachronism_fn(decompositions[0])"
   ]
  },
  {
   "cell_type": "code",
   "execution_count": 171,
   "id": "329077df",
   "metadata": {},
   "outputs": [
    {
     "data": {
      "text/plain": [
       "[' The subject of the sentence is Ravi Shankar.\\n2. Ravi Shankar is from the 20th century.\\n3. The sentence is set in the 21st century.\\n4. The time periods from steps 2 and 3 are different.\\n5. The sentence contains an anachronism.\\n6. YES']"
      ]
     },
     "execution_count": 171,
     "metadata": {},
     "output_type": "execute_result"
    }
   ],
   "source": [
    "an(inputs[1])"
   ]
  },
  {
   "cell_type": "code",
   "execution_count": 153,
   "id": "6978217a",
   "metadata": {},
   "outputs": [],
   "source": [
    "import re"
   ]
  },
  {
   "cell_type": "code",
   "execution_count": 154,
   "id": "39d1465c",
   "metadata": {},
   "outputs": [
    {
     "data": {
      "text/plain": [
       "['2', '3', '4', '3', '5']"
      ]
     },
     "execution_count": 154,
     "metadata": {},
     "output_type": "execute_result"
    }
   ],
   "source": [
    "re.findall(r'(\\d+)\\.', decompositions[0], )"
   ]
  },
  {
   "cell_type": "code",
   "execution_count": 152,
   "id": "13829230",
   "metadata": {},
   "outputs": [
    {
     "data": {
      "text/plain": [
       "\" Identify the subject of the sentence.\\n2. Research the subject to determine its time period.\\n3. Compare the subject's time period to the time period mentioned in the sentence.\\n4. If the subject's time period is different from the time period mentioned in the sentence, the sentence contains an anachronism.\""
      ]
     },
     "execution_count": 152,
     "metadata": {},
     "output_type": "execute_result"
    }
   ],
   "source": [
    "decompositions[19]"
   ]
  },
  {
   "cell_type": "code",
   "execution_count": 109,
   "id": "829bb83d",
   "metadata": {},
   "outputs": [],
   "source": [
    "def anachronism(x):\n",
    "    gpt3 = OpenAIModel(model=\"text-davinci-002\",  max_length=400, quote='---', n=1)\n",
    "    prompt = '''Figure out whether a sentence contains anachronisms or not, using the following steps\n",
    "Steps:\n",
    "1. Read the sentence and identify the subject(s) and verb(s).\n",
    "2. Research the subject(s) and verb(s) to see if they are appropriate for the time period mentioned in the sentence.\n",
    "3. If the subject(s) and verb(s) are appropriate for the time period, then the sentence does not contain an anachronism. If the subject(s) and verb(s) are not appropriate for the time period, then the sentence does contain an anachronism.\n",
    "4. Output YES if there is an anachronism, and NO otherwise\n",
    "----\n",
    "Sentence: %s\n",
    "1.''' % x\n",
    "    return gpt3(prompt)"
   ]
  },
  {
   "cell_type": "code",
   "execution_count": 112,
   "id": "ea840da2",
   "metadata": {},
   "outputs": [],
   "source": [
    "idxs = np.random.choice(len(inputs), 20, replace=False)"
   ]
  },
  {
   "cell_type": "code",
   "execution_count": 130,
   "id": "47ebd401",
   "metadata": {},
   "outputs": [],
   "source": [
    "preds = []\n",
    "for x in inputs:\n",
    "    a = anachronism(x)\n",
    "    preds.append(a)"
   ]
  },
  {
   "cell_type": "code",
   "execution_count": 131,
   "id": "080f0057",
   "metadata": {},
   "outputs": [],
   "source": [
    "labs = np.array([labels[i] for i in idxs])\n",
    "pp = np.array([1 if x[0].lower().endswith('YES') else 0 for x in preds])\n",
    "pp2 = [0 if x[0].endswith('NO') else 1 for x in preds]"
   ]
  },
  {
   "cell_type": "code",
   "execution_count": 134,
   "id": "92821fe1",
   "metadata": {},
   "outputs": [
    {
     "data": {
      "text/plain": [
       "0.7086956521739131"
      ]
     },
     "execution_count": 134,
     "metadata": {},
     "output_type": "execute_result"
    }
   ],
   "source": [
    "(pp == np.array(labels)).mean()"
   ]
  },
  {
   "cell_type": "code",
   "execution_count": 105,
   "id": "6d320900",
   "metadata": {},
   "outputs": [
    {
     "data": {
      "text/plain": [
       "'Dwight Eisenhower was a Chief Master Sergeant of the Space Force.'"
      ]
     },
     "execution_count": 105,
     "metadata": {},
     "output_type": "execute_result"
    }
   ],
   "source": [
    "inputs[0]"
   ]
  },
  {
   "cell_type": "code",
   "execution_count": 108,
   "id": "6e01d374",
   "metadata": {},
   "outputs": [
    {
     "data": {
      "text/plain": [
       "\"Ravi Shankar's two favorite musicians were Bessie Smith and Shakira.\""
      ]
     },
     "execution_count": 108,
     "metadata": {},
     "output_type": "execute_result"
    }
   ],
   "source": [
    "inputs[1]"
   ]
  },
  {
   "cell_type": "code",
   "execution_count": 110,
   "id": "6c5607b9",
   "metadata": {},
   "outputs": [
    {
     "name": "stdout",
     "output_type": "stream",
     "text": [
      " Read the sentence and identify the subject(s) and verb(s).\n",
      "Subject(s): Ravi Shankar, Bessie Smith, Shakira\n",
      "Verb(s): were\n",
      "\n",
      "2. Research the subject(s) and verb(s) to see if they are appropriate for the time period mentioned in the sentence.\n",
      "Ravi Shankar was an Indian musician born in 1920. Bessie Smith was an American singer born in 1894. Shakira is a Colombian singer born in 1977.\n",
      "\n",
      "3. If the subject(s) and verb(s) are appropriate for the time period, then the sentence does not contain an anachronism. If the subject(s) and verb(s) are not appropriate for the time period, then the sentence does contain an anachronism.\n",
      "The sentence does not contain an anachronism.\n",
      "\n",
      "4. Output YES if there is an anachronism, and NO otherwise\n",
      "NO\n"
     ]
    }
   ],
   "source": [
    "a = anachronism(inputs[1])\n",
    "print(a[0])"
   ]
  },
  {
   "cell_type": "code",
   "execution_count": null,
   "id": "0b3a74b7",
   "metadata": {},
   "outputs": [],
   "source": []
  },
  {
   "cell_type": "code",
   "execution_count": 32,
   "id": "fe60a998",
   "metadata": {},
   "outputs": [],
   "source": [
    "def anachronism(x):\n",
    "    gpt3 = OpenAIModel(model=\"text-davinci-002\",  max_length=200, quote='---', n=1)\n",
    "    prompt = '''Given a sentence and the time periods of each entity in it, tell me if it could have happened or not.\n",
    "Sentence: I wrote about shakespeare\n",
    "Entities and dates:\n",
    "I -> 21st century\n",
    "Shakespeare -> 16th century\n",
    "Could the sentence be true based on the dates alone: Yes\n",
    "----\n",
    "Sentence: Shakespeare wrote about me\n",
    "\n",
    "Entities and dates:\n",
    "Shakespeare -> 16th century\n",
    "I -> 21st century\n",
    "\n",
    "Could the sentence be true based on the dates alone: No\n",
    "----\n",
    "Sentence: %s''' % x\n",
    "    return gpt3(prompt)\n"
   ]
  },
  {
   "cell_type": "code",
   "execution_count": 69,
   "id": "1feb73f4",
   "metadata": {},
   "outputs": [],
   "source": [
    "def anachronismv2(x):\n",
    "    gpt3 = OpenAIModel(model=\"text-davinci-002\",  max_length=200, quote='---', n=1)\n",
    "    prompt = '''Given a sentence tell me if it could have happened or not based on the time periods of the entities.\n",
    "Sentence: I wrote about shakespeare\n",
    "Could the sentence be true based on the time periods alone: Yes\n",
    "----\n",
    "Sentence: Shakespeare wrote about me\n",
    "Could the sentence be true based on the time periods alone: No\n",
    "----\n",
    "Sentence: %s''' % x\n",
    "    return gpt3(prompt)"
   ]
  },
  {
   "cell_type": "code",
   "execution_count": 78,
   "id": "4f83326e",
   "metadata": {},
   "outputs": [],
   "source": [
    "def anachronismv3(x):\n",
    "    prompt = '''Given a sentence, extract the entities and their relationships, and tell me if they are anachronistic.\n",
    "Sentence: I wrote about shakespeare\n",
    "Relationships:\n",
    "- (I, write about, shakespeare) -> not anachronistic, \n",
    "----\n",
    "Sentence: Shakespeare wrote about me\n",
    "Relationships:\n",
    "- (shakespeare, write about, me) -> anachronistic\n",
    "----\n",
    "Sentence: The builders of the pyramids at Giza listened to jazz during their break.\n",
    "Relationships:\n",
    "- (builders, listen to, jazz) -> anachronistic\n",
    "----\n",
    "Sentence: %s\n",
    "''' % x\n",
    "    return gpt3(prompt)"
   ]
  },
  {
   "cell_type": "code",
   "execution_count": 41,
   "id": "e258d420",
   "metadata": {},
   "outputs": [],
   "source": [
    "answers = []\n",
    "for x in inputs:\n",
    "    answers.append(anachronism(x))"
   ]
  },
  {
   "cell_type": "code",
   "execution_count": 70,
   "id": "8ec813d3",
   "metadata": {},
   "outputs": [],
   "source": [
    "answers2 = []\n",
    "for x in inputs:\n",
    "    answers2.append(anachronismv2(x))"
   ]
  },
  {
   "cell_type": "code",
   "execution_count": 79,
   "id": "da8d2d3f",
   "metadata": {},
   "outputs": [],
   "source": [
    "\n",
    "answers3 = []\n",
    "for x in inputs:\n",
    "    answers3.append(anachronismv3(x))"
   ]
  },
  {
   "cell_type": "code",
   "execution_count": 56,
   "id": "c30ba4e4",
   "metadata": {},
   "outputs": [],
   "source": [
    "preds = np.array([int(x[0].endswith('No')) for x in answers])"
   ]
  },
  {
   "cell_type": "code",
   "execution_count": 71,
   "id": "c7ed322e",
   "metadata": {},
   "outputs": [],
   "source": [
    "preds2 = np.array([int(x[0].endswith('No')) for x in answers2])"
   ]
  },
  {
   "cell_type": "code",
   "execution_count": 83,
   "id": "f79ee80b",
   "metadata": {},
   "outputs": [],
   "source": [
    "preds3 = np.array([1 - int('not anachronistic' in x[0]) for x in answers3])"
   ]
  },
  {
   "cell_type": "code",
   "execution_count": 68,
   "id": "d5af220e",
   "metadata": {},
   "outputs": [
    {
     "data": {
      "text/plain": [
       "0.7391304347826086"
      ]
     },
     "execution_count": 68,
     "metadata": {},
     "output_type": "execute_result"
    }
   ],
   "source": [
    "(preds == labels).mean()"
   ]
  },
  {
   "cell_type": "code",
   "execution_count": 72,
   "id": "af288166",
   "metadata": {},
   "outputs": [
    {
     "data": {
      "text/plain": [
       "0.6956521739130435"
      ]
     },
     "execution_count": 72,
     "metadata": {},
     "output_type": "execute_result"
    }
   ],
   "source": [
    "(preds2 == labels).mean()"
   ]
  },
  {
   "cell_type": "code",
   "execution_count": 85,
   "id": "32720d7f",
   "metadata": {},
   "outputs": [
    {
     "data": {
      "text/plain": [
       "0.6304347826086957"
      ]
     },
     "execution_count": 85,
     "metadata": {},
     "output_type": "execute_result"
    }
   ],
   "source": [
    "(preds3 == labels).mean()"
   ]
  },
  {
   "cell_type": "code",
   "execution_count": 67,
   "id": "bd2f14a1",
   "metadata": {},
   "outputs": [
    {
     "name": "stdout",
     "output_type": "stream",
     "text": [
      "Jason, the first person to explore the ancient pyramid in over 2000 years, opened a sealed box inside and found a floppy disk.\n",
      "\n",
      "\n",
      "Jason -> 21st century\n",
      "ancient pyramid -> ?\n",
      "\n",
      "Could the sentence be true based on the dates alone:\n",
      "\n",
      "The sentence could be true if the ancient pyramid is from the 21st century.\n",
      "1\n",
      "----\n",
      "The first ever movie in color depicted the life of Sacagawea.\n",
      "\n",
      "\n",
      "Entities and dates:\n",
      "The first ever movie in color -> late 19th century\n",
      "Sacagawea -> late 18th century - early 19th century\n",
      "\n",
      "Could the sentence be true based on the dates alone: No\n",
      "0\n",
      "----\n",
      "Jason, while exploring an ancient pyramid, opened a sealed box inside and found a floppy disk.\n",
      "\n",
      "\n",
      "Entities and dates:\n",
      "Jason -> 21st century\n",
      "floppy disk -> 1970s-2000s\n",
      "\n",
      "Could the sentence be true based on the dates alone: No\n",
      "0\n",
      "----\n",
      "During their meetings in Bali, George Washington and the delegate of the Tokugawa shogunate exchanged gifts.\n",
      "\n",
      "\n",
      "Entities and dates:\n",
      "George Washington -> 18th century\n",
      "Tokugawa shogunate -> 17th century\n",
      "\n",
      "Could the sentence be true based on the dates alone: No\n",
      "0\n",
      "----\n",
      "Donnie Yen the martial artist acted in the live-action remake of Mulan.\n",
      "\n",
      "\n",
      "Entities and dates:\n",
      "Donnie Yen -> 20th century\n",
      "Mulan -> 6th century\n",
      "\n",
      "Could the sentence be true based on the dates alone: No\n",
      "0\n",
      "----\n",
      "The appearance of prokaryotes on Earth coincided with the formation of the moon.\n",
      "\n",
      "\n",
      "Entities and dates:\n",
      "Prokaryotes -> 3.5 billion years ago\n",
      "Earth -> 4.5 billion years ago\n",
      "Moon -> 4.5 billion years ago\n",
      "\n",
      "Could the sentence be true based on the dates alone: Yes\n",
      "1\n",
      "----\n",
      "The sun's creation during the early universe is the cause of its size, color, and brightness.\n",
      "\n",
      "\n",
      "Entities and dates:\n",
      "The sun -> 4.6 billion years ago\n",
      "The early universe -> 13.8 billion years ago\n",
      "\n",
      "Could the sentence be true based on the dates alone: Yes\n",
      "1\n",
      "----\n",
      "The emperor rode his Ferrari to the Coliseum.\n",
      "\n",
      "\n",
      "Entities and dates:\n",
      "Emperor -> 1st century\n",
      "Ferrari -> 21st century\n",
      "Coliseum -> 1st century\n",
      "\n",
      "Could the sentence be true based on the dates alone: No\n",
      "0\n",
      "----\n",
      "Having broken Enigma Machine encryption, the Allies were able to map enemy movement through the trenches of Passchendaele.\n",
      "\n",
      "\n",
      "Entities and dates:\n",
      "Enigma Machine -> 20th century\n",
      "Allies -> 20th century\n",
      "Passchendaele -> 20th century\n",
      "\n",
      "Could the sentence be true based on the dates alone: Yes\n",
      "1\n",
      "----\n",
      "The US senator used her vote to help pass the Wade-Davis bill.\n",
      "\n",
      "\n",
      "Entities and dates:\n",
      "US senator -> 1864\n",
      "Wade-Davis bill -> 1864\n",
      "\n",
      "Could the sentence be true based on the dates alone: Yes\n",
      "1\n",
      "----\n",
      "When scientists found the female Australopithecus afarensis, AL 288-1, they named her Rosa Parks after the Outkast song.\n",
      "\n",
      "\n",
      "Entities and dates:\n",
      "\n",
      "Scientists -> 20th century\n",
      "Rosa Parks -> 20th century\n",
      "Outkast -> 20th century\n",
      "\n",
      "Could the sentence be true based on the dates alone: Yes\n",
      "1\n",
      "----\n",
      "Vasco de Gama avoided shipwreck by the Cape of Good Hope thanks to his astrolabe.\n",
      "\n",
      "\n",
      "Entities and dates:\n",
      "Vasco de Gama -> 15th century\n",
      "Cape of Good Hope -> 15th century\n",
      "Astrolabe -> 2nd century\n",
      "\n",
      "Could the sentence be true based on the dates alone: No\n",
      "0\n",
      "----\n"
     ]
    }
   ],
   "source": [
    "for x in np.where(preds != labels)[0]:\n",
    "    print(inputs[x])\n",
    "    print(answers[x][0])\n",
    "    print(labels[x])\n",
    "    print('----')"
   ]
  },
  {
   "cell_type": "code",
   "execution_count": null,
   "id": "2b7b96e5",
   "metadata": {},
   "outputs": [],
   "source": []
  }
 ],
 "metadata": {
  "kernelspec": {
   "display_name": "Python 3 (ipykernel)",
   "language": "python",
   "name": "python3"
  },
  "language_info": {
   "codemirror_mode": {
    "name": "ipython",
    "version": 3
   },
   "file_extension": ".py",
   "mimetype": "text/x-python",
   "name": "python",
   "nbconvert_exporter": "python",
   "pygments_lexer": "ipython3",
   "version": "3.9.11"
  }
 },
 "nbformat": 4,
 "nbformat_minor": 5
}
