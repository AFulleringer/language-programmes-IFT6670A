{
 "cells": [
  {
   "cell_type": "code",
   "execution_count": 26,
   "id": "1fa9ee26",
   "metadata": {},
   "outputs": [],
   "source": [
    "import datasets\n",
    "import os\n",
    "import openai\n",
    "import numpy as np\n",
    "with open(os.path.expanduser('~/.openai_api_key'), 'r') as file:\n",
    "    openai.api_key = file.read().replace('\\n', '')\n",
    "\n",
    "import adatest"
   ]
  },
  {
   "cell_type": "code",
   "execution_count": 93,
   "id": "b0c7826c",
   "metadata": {},
   "outputs": [
    {
     "name": "stderr",
     "output_type": "stream",
     "text": [
      "WARNING:datasets.builder:Reusing dataset bigbench (/home/marcotcr/.cache/huggingface/datasets/bigbench/anachronisms/1.0.0/7d2f6e537fa937dfaac8b1c1df782f2055071d3fd8e4f4ae93d28012a354ced0)\n"
     ]
    },
    {
     "data": {
      "application/vnd.jupyter.widget-view+json": {
       "model_id": "eebbe27c81fb43f597bd39c46021077e",
       "version_major": 2,
       "version_minor": 0
      },
      "text/plain": [
       "  0%|          | 0/3 [00:00<?, ?it/s]"
      ]
     },
     "metadata": {},
     "output_type": "display_data"
    }
   ],
   "source": [
    "d = datasets.load_dataset('bigbench', 'anachronisms')"
   ]
  },
  {
   "cell_type": "code",
   "execution_count": 95,
   "id": "c92cf424",
   "metadata": {},
   "outputs": [],
   "source": [
    "import numpy as np\n",
    "inputs = d['train']['inputs'] + d['validation']['inputs']\n",
    "inputs = [x.split('\\n')[0] for x in inputs]\n",
    "labels = np.array([int(x[0] == 'Yes') for x in d['train']['targets'] + d['validation']['targets']])"
   ]
  },
  {
   "cell_type": "code",
   "execution_count": 101,
   "id": "087b3ea5",
   "metadata": {},
   "outputs": [],
   "source": [
    "class OpenAIModel(adatest.Model):\n",
    "    def __init__(self, model=\"text-davinci-002\", quote=\"\\\"\", temperature=0.7, top_p=1, max_length=30, n=1):\n",
    "        self.model = model\n",
    "        self.api_key = openai.api_key\n",
    "        self.quote = quote\n",
    "        self.temperature = temperature\n",
    "        self.top_p = top_p\n",
    "        self.max_length = max_length\n",
    "        self.n = n\n",
    "    def __call__(self, strings):\n",
    "        resp = openai.Completion.create(\n",
    "            model=self.model,\n",
    "            prompt=strings,\n",
    "            max_tokens=self.max_length,\n",
    "            temperature=self.temperature,\n",
    "            top_p=self.top_p,\n",
    "            n=self.n,\n",
    "            stop=self.quote,\n",
    "        )\n",
    "        return [x[\"text\"] for x in resp['choices']]\n",
    "\n",
    "gpt3 = OpenAIModel(model=\"text-davinci-002\",  max_length=200, quote='', n=1)\n"
   ]
  },
  {
   "cell_type": "code",
   "execution_count": 231,
   "id": "22701159",
   "metadata": {},
   "outputs": [],
   "source": [
    "def propose_decomposition(n=20):\n",
    "    gpt3 = OpenAIModel(model=\"text-davinci-002\",  max_length=400, quote='---', n=n)\n",
    "    prompt = '''I want to break down the task of figuring out whether a sentence contains anachronisms or not, into individual steps. An anachronism is a mistake in chronology, or a person, thing, or event that is out of its proper time. Here are examples of input-output pairs for the task I'm trying to break down:\n",
    "----\n",
    "Input: George Washington fought in the American Civil War.\n",
    "Output: No\n",
    "Input: The Mongolian horse rider used his bow to hunt the velociraptor.\n",
    "Output: Yes\n",
    "Input: Beats from the MPC3000 helped inspire many original blues artists.\n",
    "Output: No\n",
    "Input: Attila the Hun acted in the live-action remake of Mulan.\n",
    "Output: Yes\n",
    "Input: Kurt Cobain starred in the 1990 television show \"Twin Peaks\".\n",
    "Output: Yes\n",
    "----\n",
    "Steps:\n",
    "1.'''\n",
    "    return gpt3(prompt)\n"
   ]
  },
  {
   "cell_type": "code",
   "execution_count": 260,
   "id": "f7290022",
   "metadata": {},
   "outputs": [],
   "source": [
    "decompositions = propose_decomposition(50)"
   ]
  },
  {
   "cell_type": "code",
   "execution_count": 261,
   "id": "76cd4ac0",
   "metadata": {},
   "outputs": [],
   "source": [
    "def chunks(l, n):\n",
    "    \"\"\"Yield successive n-sized chunks from l.\"\"\"\n",
    "    for i in range(0, len(l), n):\n",
    "        yield l[i:i + n]\n",
    "\n",
    "def get_anachronism_fn(decomposition, batch_size=10):\n",
    "    decomposition = '1.'+ decomposition\n",
    "    last_n = int(re.findall(r'(\\d+)\\.', decomposition)[-1])\n",
    "    decomposition += '\\n%s. Output YES if there is an anachronism, and NO otherwise' % (last_n + 1)\n",
    "    def decomposition_fn(sentences):\n",
    "        gpt3 = OpenAIModel(model=\"text-davinci-002\",  max_length=400, quote='---', n=1)\n",
    "        out = []\n",
    "        for chunk in chunks(sentences, batch_size):\n",
    "            prompts = ['''Figure out whether a sentence contains anachronisms or not, using the following steps\n",
    "Steps:\n",
    "%s\n",
    "----\n",
    "Sentence: %s\n",
    "1.''' % (decomposition, x) for x in chunk]\n",
    "            out.extend(gpt3(prompts))\n",
    "        return out\n",
    "    return decomposition_fn"
   ]
  },
  {
   "cell_type": "code",
   "execution_count": 262,
   "id": "fb66f228",
   "metadata": {},
   "outputs": [],
   "source": [
    "idxs = np.random.choice(len(inputs), 50, replace=False)\n",
    "labs = np.array([labels[i] for i in idxs])\n",
    "subset = [inputs[i] for i in idxs]"
   ]
  },
  {
   "cell_type": "code",
   "execution_count": null,
   "id": "8cdd588e",
   "metadata": {},
   "outputs": [
    {
     "name": "stdout",
     "output_type": "stream",
     "text": [
      "Decomposition 0\n",
      "0.6\n",
      "Decomposition 1\n",
      "0.74\n",
      "Decomposition 2\n",
      "0.54\n",
      "Decomposition 3\n",
      "0.56\n",
      "Decomposition 4\n",
      "0.6\n",
      "Decomposition 5\n"
     ]
    }
   ],
   "source": [
    "preds = []\n",
    "pps = []\n",
    "accs = []\n",
    "for z, decomposition in enumerate(decompositions):\n",
    "    print('Decomposition', z)\n",
    "    fn = get_anachronism_fn(decomposition, batch_size=20)\n",
    "    this_preds = fn(subset)\n",
    "    pp = np.array([1 if x.lower().endswith('yes') else 0 for x in this_preds])\n",
    "    preds.append(this_preds)\n",
    "    pps.append(pp)\n",
    "    accs.append((pp==labs).mean())\n",
    "    print((pp==labs).mean())\n",
    "        "
   ]
  },
  {
   "cell_type": "code",
   "execution_count": null,
   "id": "1b04d314",
   "metadata": {},
   "outputs": [],
   "source": [
    "best = []\n",
    "best_accs = []\n",
    "for x in np.argsort(accs[-10:]):\n",
    "    fn = get_anachronism_fn(decompositions[x], batch_size=20)\n",
    "    this_preds = fn(inputs)\n",
    "    best.append(this_preds)\n",
    "    pp = np.array([1 if x.lower().endswith('yes') else 0 for x in this_preds])\n",
    "    acc = (pp==labels).mean()\n",
    "    best_accs.append(acc)\n",
    "    print(acc)\n",
    "    "
   ]
  },
  {
   "cell_type": "code",
   "execution_count": 250,
   "id": "6dc7594d",
   "metadata": {},
   "outputs": [],
   "source": [
    "# pp"
   ]
  },
  {
   "cell_type": "code",
   "execution_count": null,
   "id": "931af4e9",
   "metadata": {},
   "outputs": [],
   "source": []
  },
  {
   "cell_type": "code",
   "execution_count": 251,
   "id": "c79a2d4f",
   "metadata": {},
   "outputs": [],
   "source": [
    "# labels"
   ]
  },
  {
   "cell_type": "code",
   "execution_count": 258,
   "id": "d7e85fde",
   "metadata": {},
   "outputs": [
    {
     "data": {
      "text/plain": [
       "[0.7, 0.7, 0.7, 0.7, 0.72, 0.72, 0.72, 0.72, 0.74, 0.76]"
      ]
     },
     "execution_count": 258,
     "metadata": {},
     "output_type": "execute_result"
    }
   ],
   "source": [
    "[accs[i] for i in np.argsort(accs)[-10:]]"
   ]
  },
  {
   "cell_type": "code",
   "execution_count": null,
   "id": "53c1a6dc",
   "metadata": {},
   "outputs": [],
   "source": []
  },
  {
   "cell_type": "code",
   "execution_count": null,
   "id": "8f33a8ae",
   "metadata": {},
   "outputs": [],
   "source": []
  },
  {
   "cell_type": "code",
   "execution_count": null,
   "id": "09495649",
   "metadata": {},
   "outputs": [],
   "source": []
  },
  {
   "cell_type": "code",
   "execution_count": null,
   "id": "e51063aa",
   "metadata": {},
   "outputs": [],
   "source": []
  },
  {
   "cell_type": "code",
   "execution_count": null,
   "id": "a315ff8d",
   "metadata": {},
   "outputs": [],
   "source": []
  },
  {
   "cell_type": "code",
   "execution_count": null,
   "id": "015a0697",
   "metadata": {},
   "outputs": [],
   "source": []
  },
  {
   "cell_type": "code",
   "execution_count": 228,
   "id": "e943e085",
   "metadata": {},
   "outputs": [
    {
     "data": {
      "text/plain": [
       "0.85"
      ]
     },
     "execution_count": 228,
     "metadata": {},
     "output_type": "execute_result"
    }
   ],
   "source": [
    "accs[10]"
   ]
  },
  {
   "cell_type": "code",
   "execution_count": 221,
   "id": "c32a76d7",
   "metadata": {},
   "outputs": [
    {
     "name": "stdout",
     "output_type": "stream",
     "text": [
      "0.7\n"
     ]
    }
   ],
   "source": [
    "nidxs = np.random.choice(len(inputs), 50, replace=False)\n",
    "nlabs = np.array([labels[i] for i in nidxs])\n",
    "nsubset = [inputs[i] for i in nidxs]\n",
    "this_preds = fn(subset)\n",
    "pp = np.array([1 if x.lower().endswith('yes') else 0 for x in this_preds])\n",
    "print((pp==labs).mean())\n"
   ]
  },
  {
   "cell_type": "code",
   "execution_count": 229,
   "id": "ab6488ec",
   "metadata": {},
   "outputs": [],
   "source": [
    "fn = get_anachronism_fn(decompositions[4], batch_size=20)\n",
    "this_preds = fn(inputs)"
   ]
  },
  {
   "cell_type": "code",
   "execution_count": 224,
   "id": "73f39a39",
   "metadata": {},
   "outputs": [
    {
     "name": "stdout",
     "output_type": "stream",
     "text": [
      "0.7347826086956522\n"
     ]
    }
   ],
   "source": [
    "pp = np.array([1 if x.lower().endswith('yes') else 0 for x in this_preds])\n",
    "print((pp==labels).mean())"
   ]
  },
  {
   "cell_type": "code",
   "execution_count": 230,
   "id": "82bc3ad7",
   "metadata": {},
   "outputs": [
    {
     "name": "stdout",
     "output_type": "stream",
     "text": [
      "0.6521739130434783\n"
     ]
    }
   ],
   "source": [
    "pp = np.array([1 if x.lower().endswith('yes') else 0 for x in this_preds])\n",
    "print((pp==labels).mean())"
   ]
  },
  {
   "cell_type": "code",
   "execution_count": null,
   "id": "30554cd7",
   "metadata": {},
   "outputs": [],
   "source": []
  },
  {
   "cell_type": "code",
   "execution_count": null,
   "id": "f28a8c49",
   "metadata": {},
   "outputs": [],
   "source": [
    "pp = np.array([1 if x.lower().endswith('yes') else 0 for x in this_preds])"
   ]
  },
  {
   "cell_type": "code",
   "execution_count": 169,
   "id": "aa3d4dec",
   "metadata": {},
   "outputs": [],
   "source": [
    "an = get_anachronism_fn(decompositions[0])"
   ]
  },
  {
   "cell_type": "code",
   "execution_count": 171,
   "id": "329077df",
   "metadata": {},
   "outputs": [
    {
     "data": {
      "text/plain": [
       "[' The subject of the sentence is Ravi Shankar.\\n2. Ravi Shankar is from the 20th century.\\n3. The sentence is set in the 21st century.\\n4. The time periods from steps 2 and 3 are different.\\n5. The sentence contains an anachronism.\\n6. YES']"
      ]
     },
     "execution_count": 171,
     "metadata": {},
     "output_type": "execute_result"
    }
   ],
   "source": [
    "an(inputs[1])"
   ]
  },
  {
   "cell_type": "code",
   "execution_count": 153,
   "id": "6978217a",
   "metadata": {},
   "outputs": [],
   "source": [
    "import re"
   ]
  },
  {
   "cell_type": "code",
   "execution_count": 154,
   "id": "39d1465c",
   "metadata": {},
   "outputs": [
    {
     "data": {
      "text/plain": [
       "['2', '3', '4', '3', '5']"
      ]
     },
     "execution_count": 154,
     "metadata": {},
     "output_type": "execute_result"
    }
   ],
   "source": [
    "re.findall(r'(\\d+)\\.', decompositions[0], )"
   ]
  },
  {
   "cell_type": "code",
   "execution_count": 152,
   "id": "13829230",
   "metadata": {},
   "outputs": [
    {
     "data": {
      "text/plain": [
       "\" Identify the subject of the sentence.\\n2. Research the subject to determine its time period.\\n3. Compare the subject's time period to the time period mentioned in the sentence.\\n4. If the subject's time period is different from the time period mentioned in the sentence, the sentence contains an anachronism.\""
      ]
     },
     "execution_count": 152,
     "metadata": {},
     "output_type": "execute_result"
    }
   ],
   "source": [
    "decompositions[19]"
   ]
  },
  {
   "cell_type": "code",
   "execution_count": 109,
   "id": "829bb83d",
   "metadata": {},
   "outputs": [],
   "source": [
    "def anachronism(x):\n",
    "    gpt3 = OpenAIModel(model=\"text-davinci-002\",  max_length=400, quote='---', n=1)\n",
    "    prompt = '''Figure out whether a sentence contains anachronisms or not, using the following steps\n",
    "Steps:\n",
    "1. Read the sentence and identify the subject(s) and verb(s).\n",
    "2. Research the subject(s) and verb(s) to see if they are appropriate for the time period mentioned in the sentence.\n",
    "3. If the subject(s) and verb(s) are appropriate for the time period, then the sentence does not contain an anachronism. If the subject(s) and verb(s) are not appropriate for the time period, then the sentence does contain an anachronism.\n",
    "4. Output YES if there is an anachronism, and NO otherwise\n",
    "----\n",
    "Sentence: %s\n",
    "1.''' % x\n",
    "    return gpt3(prompt)"
   ]
  },
  {
   "cell_type": "code",
   "execution_count": 112,
   "id": "ea840da2",
   "metadata": {},
   "outputs": [],
   "source": [
    "idxs = np.random.choice(len(inputs), 20, replace=False)"
   ]
  },
  {
   "cell_type": "code",
   "execution_count": 130,
   "id": "47ebd401",
   "metadata": {},
   "outputs": [],
   "source": [
    "preds = []\n",
    "for x in inputs:\n",
    "    a = anachronism(x)\n",
    "    preds.append(a)"
   ]
  },
  {
   "cell_type": "code",
   "execution_count": 131,
   "id": "080f0057",
   "metadata": {},
   "outputs": [],
   "source": [
    "labs = np.array([labels[i] for i in idxs])\n",
    "pp = np.array([1 if x[0].lower().endswith('YES') else 0 for x in preds])\n",
    "pp2 = [0 if x[0].endswith('NO') else 1 for x in preds]"
   ]
  },
  {
   "cell_type": "code",
   "execution_count": 134,
   "id": "92821fe1",
   "metadata": {},
   "outputs": [
    {
     "data": {
      "text/plain": [
       "0.7086956521739131"
      ]
     },
     "execution_count": 134,
     "metadata": {},
     "output_type": "execute_result"
    }
   ],
   "source": [
    "(pp == np.array(labels)).mean()"
   ]
  },
  {
   "cell_type": "code",
   "execution_count": 105,
   "id": "6d320900",
   "metadata": {},
   "outputs": [
    {
     "data": {
      "text/plain": [
       "'Dwight Eisenhower was a Chief Master Sergeant of the Space Force.'"
      ]
     },
     "execution_count": 105,
     "metadata": {},
     "output_type": "execute_result"
    }
   ],
   "source": [
    "inputs[0]"
   ]
  },
  {
   "cell_type": "code",
   "execution_count": 108,
   "id": "6e01d374",
   "metadata": {},
   "outputs": [
    {
     "data": {
      "text/plain": [
       "\"Ravi Shankar's two favorite musicians were Bessie Smith and Shakira.\""
      ]
     },
     "execution_count": 108,
     "metadata": {},
     "output_type": "execute_result"
    }
   ],
   "source": [
    "inputs[1]"
   ]
  },
  {
   "cell_type": "code",
   "execution_count": 110,
   "id": "6c5607b9",
   "metadata": {},
   "outputs": [
    {
     "name": "stdout",
     "output_type": "stream",
     "text": [
      " Read the sentence and identify the subject(s) and verb(s).\n",
      "Subject(s): Ravi Shankar, Bessie Smith, Shakira\n",
      "Verb(s): were\n",
      "\n",
      "2. Research the subject(s) and verb(s) to see if they are appropriate for the time period mentioned in the sentence.\n",
      "Ravi Shankar was an Indian musician born in 1920. Bessie Smith was an American singer born in 1894. Shakira is a Colombian singer born in 1977.\n",
      "\n",
      "3. If the subject(s) and verb(s) are appropriate for the time period, then the sentence does not contain an anachronism. If the subject(s) and verb(s) are not appropriate for the time period, then the sentence does contain an anachronism.\n",
      "The sentence does not contain an anachronism.\n",
      "\n",
      "4. Output YES if there is an anachronism, and NO otherwise\n",
      "NO\n"
     ]
    }
   ],
   "source": [
    "a = anachronism(inputs[1])\n",
    "print(a[0])"
   ]
  },
  {
   "cell_type": "code",
   "execution_count": null,
   "id": "62adebe1",
   "metadata": {},
   "outputs": [],
   "source": []
  },
  {
   "cell_type": "code",
   "execution_count": null,
   "id": "d9ba0716",
   "metadata": {},
   "outputs": [],
   "source": []
  },
  {
   "cell_type": "code",
   "execution_count": null,
   "id": "703f331a",
   "metadata": {},
   "outputs": [],
   "source": []
  },
  {
   "cell_type": "code",
   "execution_count": null,
   "id": "f4002a68",
   "metadata": {},
   "outputs": [],
   "source": []
  },
  {
   "cell_type": "code",
   "execution_count": null,
   "id": "43de3353",
   "metadata": {},
   "outputs": [],
   "source": []
  },
  {
   "cell_type": "code",
   "execution_count": null,
   "id": "60669cea",
   "metadata": {},
   "outputs": [],
   "source": []
  },
  {
   "cell_type": "code",
   "execution_count": 32,
   "id": "fe60a998",
   "metadata": {},
   "outputs": [],
   "source": [
    "def anachronism(x):\n",
    "    gpt3 = OpenAIModel(model=\"text-davinci-002\",  max_length=200, quote='---', n=1)\n",
    "    prompt = '''Given a sentence and the time periods of each entity in it, tell me if it could have happened or not.\n",
    "Sentence: I wrote about shakespeare\n",
    "Entities and dates:\n",
    "I -> 21st century\n",
    "Shakespeare -> 16th century\n",
    "Could the sentence be true based on the dates alone: Yes\n",
    "----\n",
    "Sentence: Shakespeare wrote about me\n",
    "\n",
    "Entities and dates:\n",
    "Shakespeare -> 16th century\n",
    "I -> 21st century\n",
    "\n",
    "Could the sentence be true based on the dates alone: No\n",
    "----\n",
    "Sentence: %s''' % x\n",
    "    return gpt3(prompt)\n"
   ]
  },
  {
   "cell_type": "code",
   "execution_count": 69,
   "id": "1feb73f4",
   "metadata": {},
   "outputs": [],
   "source": [
    "def anachronismv2(x):\n",
    "    gpt3 = OpenAIModel(model=\"text-davinci-002\",  max_length=200, quote='---', n=1)\n",
    "    prompt = '''Given a sentence tell me if it could have happened or not based on the time periods of the entities.\n",
    "Sentence: I wrote about shakespeare\n",
    "Could the sentence be true based on the time periods alone: Yes\n",
    "----\n",
    "Sentence: Shakespeare wrote about me\n",
    "Could the sentence be true based on the time periods alone: No\n",
    "----\n",
    "Sentence: %s''' % x\n",
    "    return gpt3(prompt)"
   ]
  },
  {
   "cell_type": "code",
   "execution_count": 78,
   "id": "4f83326e",
   "metadata": {},
   "outputs": [],
   "source": [
    "def anachronismv3(x):\n",
    "    prompt = '''Given a sentence, extract the entities and their relationships, and tell me if they are anachronistic.\n",
    "Sentence: I wrote about shakespeare\n",
    "Relationships:\n",
    "- (I, write about, shakespeare) -> not anachronistic, \n",
    "----\n",
    "Sentence: Shakespeare wrote about me\n",
    "Relationships:\n",
    "- (shakespeare, write about, me) -> anachronistic\n",
    "----\n",
    "Sentence: The builders of the pyramids at Giza listened to jazz during their break.\n",
    "Relationships:\n",
    "- (builders, listen to, jazz) -> anachronistic\n",
    "----\n",
    "Sentence: %s\n",
    "''' % x\n",
    "    return gpt3(prompt)"
   ]
  },
  {
   "cell_type": "code",
   "execution_count": 41,
   "id": "e258d420",
   "metadata": {},
   "outputs": [],
   "source": [
    "answers = []\n",
    "for x in inputs:\n",
    "    answers.append(anachronism(x))"
   ]
  },
  {
   "cell_type": "code",
   "execution_count": 70,
   "id": "8ec813d3",
   "metadata": {},
   "outputs": [],
   "source": [
    "answers2 = []\n",
    "for x in inputs:\n",
    "    answers2.append(anachronismv2(x))"
   ]
  },
  {
   "cell_type": "code",
   "execution_count": 79,
   "id": "da8d2d3f",
   "metadata": {},
   "outputs": [],
   "source": [
    "\n",
    "answers3 = []\n",
    "for x in inputs:\n",
    "    answers3.append(anachronismv3(x))"
   ]
  },
  {
   "cell_type": "code",
   "execution_count": 56,
   "id": "c30ba4e4",
   "metadata": {},
   "outputs": [],
   "source": [
    "preds = np.array([int(x[0].endswith('No')) for x in answers])"
   ]
  },
  {
   "cell_type": "code",
   "execution_count": 71,
   "id": "c7ed322e",
   "metadata": {},
   "outputs": [],
   "source": [
    "preds2 = np.array([int(x[0].endswith('No')) for x in answers2])"
   ]
  },
  {
   "cell_type": "code",
   "execution_count": 83,
   "id": "f79ee80b",
   "metadata": {},
   "outputs": [],
   "source": [
    "preds3 = np.array([1 - int('not anachronistic' in x[0]) for x in answers3])"
   ]
  },
  {
   "cell_type": "code",
   "execution_count": 68,
   "id": "d5af220e",
   "metadata": {},
   "outputs": [
    {
     "data": {
      "text/plain": [
       "0.7391304347826086"
      ]
     },
     "execution_count": 68,
     "metadata": {},
     "output_type": "execute_result"
    }
   ],
   "source": [
    "(preds == labels).mean()"
   ]
  },
  {
   "cell_type": "code",
   "execution_count": 72,
   "id": "af288166",
   "metadata": {},
   "outputs": [
    {
     "data": {
      "text/plain": [
       "0.6956521739130435"
      ]
     },
     "execution_count": 72,
     "metadata": {},
     "output_type": "execute_result"
    }
   ],
   "source": [
    "(preds2 == labels).mean()"
   ]
  },
  {
   "cell_type": "code",
   "execution_count": 85,
   "id": "32720d7f",
   "metadata": {},
   "outputs": [
    {
     "data": {
      "text/plain": [
       "0.6304347826086957"
      ]
     },
     "execution_count": 85,
     "metadata": {},
     "output_type": "execute_result"
    }
   ],
   "source": [
    "(preds3 == labels).mean()"
   ]
  },
  {
   "cell_type": "code",
   "execution_count": 67,
   "id": "bd2f14a1",
   "metadata": {},
   "outputs": [
    {
     "name": "stdout",
     "output_type": "stream",
     "text": [
      "Jason, the first person to explore the ancient pyramid in over 2000 years, opened a sealed box inside and found a floppy disk.\n",
      "\n",
      "\n",
      "Jason -> 21st century\n",
      "ancient pyramid -> ?\n",
      "\n",
      "Could the sentence be true based on the dates alone:\n",
      "\n",
      "The sentence could be true if the ancient pyramid is from the 21st century.\n",
      "1\n",
      "----\n",
      "The first ever movie in color depicted the life of Sacagawea.\n",
      "\n",
      "\n",
      "Entities and dates:\n",
      "The first ever movie in color -> late 19th century\n",
      "Sacagawea -> late 18th century - early 19th century\n",
      "\n",
      "Could the sentence be true based on the dates alone: No\n",
      "0\n",
      "----\n",
      "Jason, while exploring an ancient pyramid, opened a sealed box inside and found a floppy disk.\n",
      "\n",
      "\n",
      "Entities and dates:\n",
      "Jason -> 21st century\n",
      "floppy disk -> 1970s-2000s\n",
      "\n",
      "Could the sentence be true based on the dates alone: No\n",
      "0\n",
      "----\n",
      "During their meetings in Bali, George Washington and the delegate of the Tokugawa shogunate exchanged gifts.\n",
      "\n",
      "\n",
      "Entities and dates:\n",
      "George Washington -> 18th century\n",
      "Tokugawa shogunate -> 17th century\n",
      "\n",
      "Could the sentence be true based on the dates alone: No\n",
      "0\n",
      "----\n",
      "Donnie Yen the martial artist acted in the live-action remake of Mulan.\n",
      "\n",
      "\n",
      "Entities and dates:\n",
      "Donnie Yen -> 20th century\n",
      "Mulan -> 6th century\n",
      "\n",
      "Could the sentence be true based on the dates alone: No\n",
      "0\n",
      "----\n",
      "The appearance of prokaryotes on Earth coincided with the formation of the moon.\n",
      "\n",
      "\n",
      "Entities and dates:\n",
      "Prokaryotes -> 3.5 billion years ago\n",
      "Earth -> 4.5 billion years ago\n",
      "Moon -> 4.5 billion years ago\n",
      "\n",
      "Could the sentence be true based on the dates alone: Yes\n",
      "1\n",
      "----\n",
      "The sun's creation during the early universe is the cause of its size, color, and brightness.\n",
      "\n",
      "\n",
      "Entities and dates:\n",
      "The sun -> 4.6 billion years ago\n",
      "The early universe -> 13.8 billion years ago\n",
      "\n",
      "Could the sentence be true based on the dates alone: Yes\n",
      "1\n",
      "----\n",
      "The emperor rode his Ferrari to the Coliseum.\n",
      "\n",
      "\n",
      "Entities and dates:\n",
      "Emperor -> 1st century\n",
      "Ferrari -> 21st century\n",
      "Coliseum -> 1st century\n",
      "\n",
      "Could the sentence be true based on the dates alone: No\n",
      "0\n",
      "----\n",
      "Having broken Enigma Machine encryption, the Allies were able to map enemy movement through the trenches of Passchendaele.\n",
      "\n",
      "\n",
      "Entities and dates:\n",
      "Enigma Machine -> 20th century\n",
      "Allies -> 20th century\n",
      "Passchendaele -> 20th century\n",
      "\n",
      "Could the sentence be true based on the dates alone: Yes\n",
      "1\n",
      "----\n",
      "The US senator used her vote to help pass the Wade-Davis bill.\n",
      "\n",
      "\n",
      "Entities and dates:\n",
      "US senator -> 1864\n",
      "Wade-Davis bill -> 1864\n",
      "\n",
      "Could the sentence be true based on the dates alone: Yes\n",
      "1\n",
      "----\n",
      "When scientists found the female Australopithecus afarensis, AL 288-1, they named her Rosa Parks after the Outkast song.\n",
      "\n",
      "\n",
      "Entities and dates:\n",
      "\n",
      "Scientists -> 20th century\n",
      "Rosa Parks -> 20th century\n",
      "Outkast -> 20th century\n",
      "\n",
      "Could the sentence be true based on the dates alone: Yes\n",
      "1\n",
      "----\n",
      "Vasco de Gama avoided shipwreck by the Cape of Good Hope thanks to his astrolabe.\n",
      "\n",
      "\n",
      "Entities and dates:\n",
      "Vasco de Gama -> 15th century\n",
      "Cape of Good Hope -> 15th century\n",
      "Astrolabe -> 2nd century\n",
      "\n",
      "Could the sentence be true based on the dates alone: No\n",
      "0\n",
      "----\n"
     ]
    }
   ],
   "source": [
    "for x in np.where(preds != labels)[0]:\n",
    "    print(inputs[x])\n",
    "    print(answers[x][0])\n",
    "    print(labels[x])\n",
    "    print('----')"
   ]
  },
  {
   "cell_type": "code",
   "execution_count": null,
   "id": "2b7b96e5",
   "metadata": {},
   "outputs": [],
   "source": []
  }
 ],
 "metadata": {
  "kernelspec": {
   "display_name": "adatest",
   "language": "python",
   "name": "adatest"
  },
  "language_info": {
   "codemirror_mode": {
    "name": "ipython",
    "version": 3
   },
   "file_extension": ".py",
   "mimetype": "text/x-python",
   "name": "python",
   "nbconvert_exporter": "python",
   "pygments_lexer": "ipython3",
   "version": "3.7.5"
  }
 },
 "nbformat": 4,
 "nbformat_minor": 5
}
