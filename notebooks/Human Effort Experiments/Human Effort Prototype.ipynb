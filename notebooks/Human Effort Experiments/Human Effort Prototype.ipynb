{
 "cells": [
  {
   "cell_type": "markdown",
   "id": "6b72e608",
   "metadata": {},
   "source": [
    "### Human Effort Prototype \n",
    "\n",
    "Details: https://workflowy.com/#/1ac0bdf17e79\n",
    "\n",
    "Intended Workers: Graduate students, programmers, app developers\n",
    "\n",
    "Instructions:\n",
    "\n",
    "Steps:\n",
    "1. View task description and 10 examples of input output\n",
    "2. View output of NLprogrammer for the 10 examples you just saw.\n",
    "3. [Decomposition Filter] Select 2-3 promising decompositions out of the suggested decompositions by NLProgrammer.\n",
    "4. [Decomposition Correct] Correct I/O of the filtered decompositions\n",
    "5. [Decomposition Evaluation] Evaluate the performance of intermediate steps to improve performance. \n",
    "6. [Decomposition Improvement] "
   ]
  },
  {
   "cell_type": "markdown",
   "id": "e388437d",
   "metadata": {},
   "source": [
    "#### View examples for the task"
   ]
  },
  {
   "cell_type": "code",
   "execution_count": 22,
   "id": "76e72a21",
   "metadata": {},
   "outputs": [
    {
     "name": "stderr",
     "output_type": "stream",
     "text": [
      "WARNING:datasets.builder:Reusing dataset bigbench (/gscratch/zlab/bparan/projects/cascades/data/bigbench/anachronisms/1.0.0/7d2f6e537fa937dfaac8b1c1df782f2055071d3fd8e4f4ae93d28012a354ced0)\n"
     ]
    },
    {
     "data": {
      "application/json": {
       "ascii": false,
       "bar_format": null,
       "colour": null,
       "elapsed": 0.01137399673461914,
       "initial": 0,
       "n": 0,
       "ncols": null,
       "nrows": 31,
       "postfix": null,
       "prefix": "",
       "rate": null,
       "total": 3,
       "unit": "it",
       "unit_divisor": 1000,
       "unit_scale": false
      },
      "application/vnd.jupyter.widget-view+json": {
       "model_id": "ee6554f955e14d2baf2d7d56c1c73149",
       "version_major": 2,
       "version_minor": 0
      },
      "text/plain": [
       "  0%|          | 0/3 [00:00<?, ?it/s]"
      ]
     },
     "metadata": {},
     "output_type": "display_data"
    },
    {
     "name": "stdout",
     "output_type": "stream",
     "text": [
      "Charles Babbage was a proficient Haskell programmer.\n",
      "Yes\n",
      "----\n",
      "The recognition of Christianity as the official religion of both Ethiopia and the Roman Empire within the same century is notable.\n",
      "No\n",
      "----\n",
      "William the Conqueror enjoyed plenty of chile peppers to flavor his meals.\n",
      "No\n",
      "----\n",
      "Claude Monet participated in the Renaissance.\n",
      "Yes\n",
      "----\n",
      "While the Boxer Rebellion was raging in China, Alexander the Great's forces were charging through parts of the Middle East.\n",
      "Yes\n",
      "----\n"
     ]
    }
   ],
   "source": [
    "TASK_NAME = \"anachronisms\"\n",
    "TASK_DESCRIPTION = \"Description: An anachronism is a mistake in chronology, or a person, thing, or event that is out of its proper time. Does the sentence contain an anachrornism?\"\n",
    "# TODO: Add a description about the task\n",
    "inputs, labels = get_data(TASK_NAME)"
   ]
  },
  {
   "cell_type": "markdown",
   "id": "d4251b8a",
   "metadata": {},
   "source": [
    "#### View Output of NLProgrammer for inputs"
   ]
  },
  {
   "cell_type": "code",
   "execution_count": 26,
   "id": "e4ea99c8",
   "metadata": {},
   "outputs": [
    {
     "name": "stderr",
     "output_type": "stream",
     "text": [
      "1it [00:12, 12.57s/it]"
     ]
    },
    {
     "name": "stdout",
     "output_type": "stream",
     "text": [
      "Charles Babbage was a proficient Haskell programmer.\n",
      "Q1: [search] What is the definition of an anachronism?\n",
      "#1: An anachronism is a mistake in chronology, or a person, thing, or event that is out of its proper time.\n",
      "Q2: [search] When was Charles Babbage alive?\n",
      "#2: Charles Babbage KH FRS (/ˈbæbɪdʒ/; 26 December 1791 – 18 October 1871) was an English polymath. A mathematician, philosopher, inventor and mechanical engineer, Babbage originated the concept of a programmable computer.\n",
      "Q3: [search] When was Haskell created?\n",
      "#3: In computer science, Haskell (/ˈhæskəl/) is a statically typed, purely functional programming language with type inference and lazy evaluation.\n",
      "Q4: Is this an anachronism?\n",
      "#4:\n",
      "\n",
      "Yes, this is an anachronism.\n",
      "----\n",
      "The recognition of Christianity as the official religion of both Ethiopia and the Roman Empire within the same century is notable.\n",
      "Q1: [tag] What are the entities in this sentence?\n",
      "#1: Christianity\n",
      "Ethiopia\n",
      "Roman Empire\n",
      "Q2: [search] When was Christianity recognized as the official religion of Ethiopia?\n",
      "#2: In the 4th century, Christianity became the official religion of the Ethiopian empire.\n",
      "Q3: [search] When was Christianity recognized as the official religion of the Roman Empire?\n",
      "#3: Christianity was adopted as the state religion of the Roman Empire in 380 AD.\n",
      "Q4: [compare] Do the time periods of these entities intersect?\n",
      "Yes.\n",
      "Q5: Is this an anachronism?\n",
      "#5: No\n",
      "----\n",
      "William the Conqueror enjoyed plenty of chile peppers to flavor his meals.\n",
      "Q1: [search] When did William the Conqueror live?\n",
      "#1: William I (c. 1028 – 9 September 1087), usually known as William the Conqueror and sometimes William the Bastard, was the first Norman King of England, reigning from 1066 until his death in 1087. A descendant of Rollo, he was Duke of Normandy from 1035 onward.\n",
      "Q2: [search] When were chile peppers introduced to Europe?\n",
      "#2: Christopher Columbus is credited with introducing chili peppers to Europe. On his 1493 voyage, Columbus came across chili peppers in the Caribbean.\n",
      "Q3: [compare] Could these entities have co-existed based on their time periods alone?\n",
      "#3: No. William the Conqueror predates the introduction of chili peppers to Europe by Christopher Columbus.\n",
      "Q4: [EOC]\n",
      "Ans: Yes\n",
      "----\n",
      "Claude Monet participated in the Renaissance.\n",
      "Q1: [tag] What are the entities in this sentence?\n",
      "#1: Claude Monet\n",
      "Renaissance\n",
      "Q2: [search] When was Claude Monet born?\n",
      "#2: Claude Monet was born on 14 November 1840 on the fifth floor of 45 rue Laffitte, in the ninth arrondissement of Paris.\n",
      "Q3: [search] When did the Renaissance take place?\n",
      "#3: The Renaissance was a period of European history, lasting from the 14th to the 17th century.\n",
      "Q4: Could these entities have co-existed based on thier time periods alone?\n",
      "No. Claude Monet was born centuries after the Renaissance.\n",
      "Q5: Is this an anachronism?\n",
      "#5: Yes\n",
      "Q6: [EOC]\n",
      "Ans: Yes\n",
      "----\n",
      "While the Boxer Rebellion was raging in China, Alexander the Great's forces were charging through parts of the Middle East.\n",
      "Q1: [tag] What are the entities in this sentence?\n",
      "#1: \n",
      "Boxer Rebellion\n",
      "China\n",
      "Alexander the Great\n",
      "Middle East\n",
      "Q2: [search] When was the Boxer Rebellion?\n",
      "#2: The Boxer Rebellion, Boxer Uprising, or Yihetuan Movement was a violent anti-foreign, anti-colonial, and anti-Christian uprising that took place in China between 1899 and 1901, toward the end of the Qing dynasty.\n",
      "Q3: [search] When was Alexander the Great alive?\n",
      "#3: Alexander III of Macedon[1][2] (20/21 July 356 BC[a] – 10/11 June 323 BC), commonly known as Alexander the Great (Greek: Ἀλέξανδρος ὁ Μέγας, romanized: Aléxandros ho Mégas Koine Greek: [a.lék.san.dros ho mé.gas]), was a king (basileus) of the ancient Greek kingdom of Macedon[4] and a member of the Argead dynasty. He was born in Pella in 356 BC and succeeded his father Philip II to the throne at the age of twenty. He spent most of his ruling years on an unprecedented military campaign through Asia and northeast Africa, and by the age of thirty, he had created one of the largest empires of the ancient world, stretching from Greece to northwestern India.\n",
      "Q4: Could these entities have co-existed based on thier time periods alone?\n",
      "No. The Boxer Rebellion occurred after Alexander the Great's death.\n",
      "Q5: Is this an anachronism?\n",
      "#5: Yes\n",
      "----\n"
     ]
    },
    {
     "name": "stderr",
     "output_type": "stream",
     "text": [
      "\n"
     ]
    }
   ],
   "source": [
    "decomps = dynamic_few_shot_cot(TASK_DESCRIPTION, inputs, labels)"
   ]
  },
  {
   "cell_type": "markdown",
   "id": "e8e8484d",
   "metadata": {},
   "source": [
    "#### Decomposition Filter "
   ]
  },
  {
   "cell_type": "code",
   "execution_count": 42,
   "id": "695abe60",
   "metadata": {},
   "outputs": [
    {
     "name": "stdout",
     "output_type": "stream",
     "text": [
      "Q1 [search] What is the definition of an anachronism?\n",
      "#1: An anachronism is a mistake in chronology, or a person, thing, or event that is out of its proper time.\n",
      "Q2: [search] When was Charles Babbage alive?\n",
      "#2: Charles Babbage KH FRS (/ˈbæbɪdʒ/; 26 December 1791 – 18 October 1871) was an English polymath. A mathematician, philosopher, inventor and mechanical engineer, Babbage originated the concept of a programmable computer.\n",
      "Q3: [search] When was Haskell created?\n",
      "#3: In computer science, Haskell (/ˈhæskəl/) is a statically typed, purely functional programming language with type inference and lazy evaluation.\n",
      "Q4: Is this an anachronism?\n",
      "#4:\n",
      "\n",
      "Yes, this is an anachronism.\n"
     ]
    },
    {
     "data": {
      "application/vnd.jupyter.widget-view+json": {
       "model_id": "4ef3023873184779bbc17aaad1a712d9",
       "version_major": 2,
       "version_minor": 0
      },
      "text/plain": [
       "Checkbox(value=False, description='Check me', indent=False)"
      ]
     },
     "execution_count": 42,
     "metadata": {},
     "output_type": "execute_result"
    }
   ],
   "source": [
    "print_filtering_input(decomps)\n",
    "widgets.Checkbox(\n",
    "        value=False,\n",
    "        description=\"Check me\",\n",
    "        disabled=False,\n",
    "        indent=False\n",
    "    )"
   ]
  },
  {
   "cell_type": "markdown",
   "id": "9b8b5dcc",
   "metadata": {},
   "source": [
    "#### Decomposition Corretion"
   ]
  },
  {
   "cell_type": "code",
   "execution_count": 46,
   "id": "ea5dfeb1",
   "metadata": {},
   "outputs": [
    {
     "name": "stdout",
     "output_type": "stream",
     "text": [
      "Q1 [search] What is the definition of an anachronism?\n",
      "#1: An anachronism is a mistake in chronology, or a person, thing, or event that is out of its proper time.\n",
      "Q2: [search] When was Charles Babbage alive?\n",
      "#2: Charles Babbage KH FRS (/ˈbæbɪdʒ/; 26 December 1791 – 18 October 1871) was an English polymath. A mathematician, philosopher, inventor and mechanical engineer, Babbage originated the concept of a programmable computer.\n",
      "Q3: [search] When was Haskell created?\n",
      "#3: In computer science, Haskell (/ˈhæskəl/) is a statically typed, purely functional programming language with type inference and lazy evaluation.\n",
      "Q4: Is this an anachronism?\n",
      "#4:\n",
      "\n",
      "Yes, this is an anachronism.\n"
     ]
    },
    {
     "data": {
      "application/vnd.jupyter.widget-view+json": {
       "model_id": "0c78a0c7e0134a71b668b838ec4cb040",
       "version_major": 2,
       "version_minor": 0
      },
      "text/plain": [
       "Textarea(value=' [search] What is the definition of an anachronism?\\n#1: An anachronism is a mistake in chrono…"
      ]
     },
     "execution_count": 46,
     "metadata": {},
     "output_type": "execute_result"
    }
   ],
   "source": [
    "print_filtering_input(decomps)\n",
    "widgets.Textarea(\n",
    "    value=decomps[0],\n",
    "    placeholder='Type something',\n",
    "    description='String:',\n",
    "    disabled=False\n",
    ")"
   ]
  },
  {
   "cell_type": "markdown",
   "id": "0e812b0f",
   "metadata": {},
   "source": [
    "#### Decomposition Evaluation"
   ]
  },
  {
   "cell_type": "code",
   "execution_count": 47,
   "id": "3f64a8ff",
   "metadata": {},
   "outputs": [
    {
     "name": "stdout",
     "output_type": "stream",
     "text": [
      "Q1 [search] What is the definition of an anachronism?\n",
      "#1: An anachronism is a mistake in chronology, or a person, thing, or event that is out of its proper time.\n",
      "Q2: [search] When was Charles Babbage alive?\n",
      "#2: Charles Babbage KH FRS (/ˈbæbɪdʒ/; 26 December 1791 – 18 October 1871) was an English polymath. A mathematician, philosopher, inventor and mechanical engineer, Babbage originated the concept of a programmable computer.\n",
      "Q3: [search] When was Haskell created?\n",
      "#3: In computer science, Haskell (/ˈhæskəl/) is a statically typed, purely functional programming language with type inference and lazy evaluation.\n",
      "Q4: Is this an anachronism?\n",
      "#4:\n",
      "\n",
      "Yes, this is an anachronism.\n"
     ]
    },
    {
     "data": {
      "application/vnd.jupyter.widget-view+json": {
       "model_id": "f7fff35822634d8e9b82f619ac39678d",
       "version_major": 2,
       "version_minor": 0
      },
      "text/plain": [
       "Textarea(value=' [search] What is the definition of an anachronism?\\n#1: An anachronism is a mistake in chrono…"
      ]
     },
     "execution_count": 47,
     "metadata": {},
     "output_type": "execute_result"
    }
   ],
   "source": [
    "print_filtering_input(decomps)\n",
    "widgets.Textarea(\n",
    "    value=decomps[0],\n",
    "    placeholder='Type something',\n",
    "    description='String:',\n",
    "    disabled=False\n",
    ")"
   ]
  },
  {
   "cell_type": "code",
   "execution_count": 4,
   "id": "694425c0",
   "metadata": {},
   "outputs": [
    {
     "name": "stdout",
     "output_type": "stream",
     "text": [
      "generator.py  __init__.py  nlprogrammer.py  \u001b[0m\u001b[01;34m__pycache__\u001b[0m/  utils.py\r\n"
     ]
    }
   ],
   "source": [
    "ls nlprogrammer/"
   ]
  },
  {
   "cell_type": "code",
   "execution_count": 6,
   "id": "fe930ddf",
   "metadata": {},
   "outputs": [],
   "source": [
    "%load_ext autoreload\n",
    "%autoreload 2"
   ]
  },
  {
   "cell_type": "code",
   "execution_count": 37,
   "id": "15f28448",
   "metadata": {},
   "outputs": [],
   "source": [
    "# from nlprogrammer.util import get_data\n",
    "from nlprogrammer.generator import OpenAIModel\n",
    "from nlprogrammer.utils import get_data, pretty_print, print_filtering_input\n",
    "from nlprogrammer.nlprogrammer import dynamic_few_shot_cot\n",
    "import ipywidgets as widgets"
   ]
  }
 ],
 "metadata": {
  "kernelspec": {
   "display_name": "Python 3 (ipykernel)",
   "language": "python",
   "name": "python3"
  },
  "language_info": {
   "codemirror_mode": {
    "name": "ipython",
    "version": 3
   },
   "file_extension": ".py",
   "mimetype": "text/x-python",
   "name": "python",
   "nbconvert_exporter": "python",
   "pygments_lexer": "ipython3",
   "version": "3.9.12"
  }
 },
 "nbformat": 4,
 "nbformat_minor": 5
}
